{
 "cells": [
  {
   "cell_type": "markdown",
   "id": "e4c8a3c0",
   "metadata": {},
   "source": [
    "Baseline_TF\n",
    "https://www.kaggle.com/code/ivaneleskin/baseline-tf"
   ]
  },
  {
   "cell_type": "code",
   "execution_count": 1,
   "id": "743607ba",
   "metadata": {
    "ExecuteTime": {
     "end_time": "2023-02-27T22:54:28.920518Z",
     "start_time": "2023-02-27T22:54:27.340313Z"
    }
   },
   "outputs": [
    {
     "name": "stderr",
     "output_type": "stream",
     "text": [
      "2023-02-27 14:54:27.580205: I tensorflow/core/platform/cpu_feature_guard.cc:193] This TensorFlow binary is optimized with oneAPI Deep Neural Network Library (oneDNN) to use the following CPU instructions in performance-critical operations:  AVX2 FMA\n",
      "To enable them in other operations, rebuild TensorFlow with the appropriate compiler flags.\n",
      "2023-02-27 14:54:27.728643: E tensorflow/stream_executor/cuda/cuda_blas.cc:2981] Unable to register cuBLAS factory: Attempting to register factory for plugin cuBLAS when one has already been registered\n",
      "2023-02-27 14:54:28.183697: W tensorflow/stream_executor/platform/default/dso_loader.cc:64] Could not load dynamic library 'libnvinfer.so.7'; dlerror: libnvinfer.so.7: cannot open shared object file: No such file or directory; LD_LIBRARY_PATH: :/home/victor/miniconda3/envs/tf/lib/:/home/victor/miniconda3/envs/tf/lib/:/home/victor/miniconda3/envs/tf/lib/:/home/victor/miniconda3/envs/tf/lib/\n",
      "2023-02-27 14:54:28.183757: W tensorflow/stream_executor/platform/default/dso_loader.cc:64] Could not load dynamic library 'libnvinfer_plugin.so.7'; dlerror: libnvinfer_plugin.so.7: cannot open shared object file: No such file or directory; LD_LIBRARY_PATH: :/home/victor/miniconda3/envs/tf/lib/:/home/victor/miniconda3/envs/tf/lib/:/home/victor/miniconda3/envs/tf/lib/:/home/victor/miniconda3/envs/tf/lib/\n",
      "2023-02-27 14:54:28.183762: W tensorflow/compiler/tf2tensorrt/utils/py_utils.cc:38] TF-TRT Warning: Cannot dlopen some TensorRT libraries. If you would like to use Nvidia GPU with TensorRT, please make sure the missing libraries mentioned above are installed properly.\n"
     ]
    }
   ],
   "source": [
    "import os\n",
    "import json\n",
    "import numpy as np\n",
    "import pandas as pd\n",
    "from tqdm import tqdm\n",
    "import tensorflow as tf\n",
    "from tqdm import tqdm\n",
    "import json\n",
    "import gc\n",
    "from sklearn.model_selection import train_test_split\n",
    "# import missingno as msno\n",
    "\n",
    "from pathlib import Path"
   ]
  },
  {
   "cell_type": "code",
   "execution_count": 2,
   "id": "3ee4aeb4",
   "metadata": {
    "ExecuteTime": {
     "end_time": "2023-02-27T22:54:29.009756Z",
     "start_time": "2023-02-27T22:54:28.922150Z"
    }
   },
   "outputs": [
    {
     "name": "stdout",
     "output_type": "stream",
     "text": [
      "train.shape = 94477 rows, 4 cols\n",
      "<class 'pandas.core.frame.DataFrame'>\n",
      "RangeIndex: 94477 entries, 0 to 94476\n",
      "Data columns (total 4 columns):\n",
      " #   Column          Non-Null Count  Dtype \n",
      "---  ------          --------------  ----- \n",
      " 0   path            94477 non-null  object\n",
      " 1   participant_id  94477 non-null  int64 \n",
      " 2   sequence_id     94477 non-null  int64 \n",
      " 3   sign            94477 non-null  object\n",
      "dtypes: int64(2), object(2)\n",
      "memory usage: 2.9+ MB\n"
     ]
    },
    {
     "data": {
      "text/html": [
       "<div>\n",
       "<style scoped>\n",
       "    .dataframe tbody tr th:only-of-type {\n",
       "        vertical-align: middle;\n",
       "    }\n",
       "\n",
       "    .dataframe tbody tr th {\n",
       "        vertical-align: top;\n",
       "    }\n",
       "\n",
       "    .dataframe thead th {\n",
       "        text-align: right;\n",
       "    }\n",
       "</style>\n",
       "<table border=\"1\" class=\"dataframe\">\n",
       "  <thead>\n",
       "    <tr style=\"text-align: right;\">\n",
       "      <th></th>\n",
       "      <th>path</th>\n",
       "      <th>participant_id</th>\n",
       "      <th>sequence_id</th>\n",
       "      <th>sign</th>\n",
       "    </tr>\n",
       "  </thead>\n",
       "  <tbody>\n",
       "    <tr>\n",
       "      <th>0</th>\n",
       "      <td>train_landmark_files/26734/1000035562.parquet</td>\n",
       "      <td>26734</td>\n",
       "      <td>1000035562</td>\n",
       "      <td>blow</td>\n",
       "    </tr>\n",
       "    <tr>\n",
       "      <th>1</th>\n",
       "      <td>train_landmark_files/28656/1000106739.parquet</td>\n",
       "      <td>28656</td>\n",
       "      <td>1000106739</td>\n",
       "      <td>wait</td>\n",
       "    </tr>\n",
       "    <tr>\n",
       "      <th>2</th>\n",
       "      <td>train_landmark_files/16069/100015657.parquet</td>\n",
       "      <td>16069</td>\n",
       "      <td>100015657</td>\n",
       "      <td>cloud</td>\n",
       "    </tr>\n",
       "    <tr>\n",
       "      <th>3</th>\n",
       "      <td>train_landmark_files/25571/1000210073.parquet</td>\n",
       "      <td>25571</td>\n",
       "      <td>1000210073</td>\n",
       "      <td>bird</td>\n",
       "    </tr>\n",
       "    <tr>\n",
       "      <th>4</th>\n",
       "      <td>train_landmark_files/62590/1000240708.parquet</td>\n",
       "      <td>62590</td>\n",
       "      <td>1000240708</td>\n",
       "      <td>owie</td>\n",
       "    </tr>\n",
       "  </tbody>\n",
       "</table>\n",
       "</div>"
      ],
      "text/plain": [
       "                                            path  participant_id  sequence_id  \\\n",
       "0  train_landmark_files/26734/1000035562.parquet           26734   1000035562   \n",
       "1  train_landmark_files/28656/1000106739.parquet           28656   1000106739   \n",
       "2   train_landmark_files/16069/100015657.parquet           16069    100015657   \n",
       "3  train_landmark_files/25571/1000210073.parquet           25571   1000210073   \n",
       "4  train_landmark_files/62590/1000240708.parquet           62590   1000240708   \n",
       "\n",
       "    sign  \n",
       "0   blow  \n",
       "1   wait  \n",
       "2  cloud  \n",
       "3   bird  \n",
       "4   owie  "
      ]
     },
     "execution_count": 2,
     "metadata": {},
     "output_type": "execute_result"
    }
   ],
   "source": [
    "DATA_ROOT = Path('..')\n",
    "DF_TRAIN = DATA_ROOT / 'train.csv'\n",
    "train = pd.read_csv(DF_TRAIN)\n",
    "\n",
    "print(\"train.shape = {} rows, {} cols\".format(*train.shape))\n",
    "train.info()\n",
    "train.head()\n"
   ]
  },
  {
   "cell_type": "code",
   "execution_count": null,
   "id": "cdca81b7",
   "metadata": {
    "ExecuteTime": {
     "end_time": "2023-02-27T18:53:45.403059Z",
     "start_time": "2023-02-27T18:53:45.006670Z"
    }
   },
   "outputs": [],
   "source": []
  },
  {
   "cell_type": "code",
   "execution_count": 3,
   "id": "11726f4f",
   "metadata": {
    "ExecuteTime": {
     "end_time": "2023-02-27T22:54:29.016665Z",
     "start_time": "2023-02-27T22:54:29.012803Z"
    }
   },
   "outputs": [],
   "source": [
    "class CFG:\n",
    "    data_path = \"../\"\n",
    "    quick_experiment = False\n",
    "    is_training = True\n",
    "    use_aggregation_dataset = True\n",
    "    num_classes = 250\n",
    "    rows_per_frame = 543 \n",
    "\n",
    "def load_relevant_data_subset_with_imputation(pq_path):\n",
    "    data_columns = ['x', 'y', 'z']\n",
    "    data = pd.read_parquet(pq_path, columns=data_columns)\n",
    "    data.replace(np.nan, 0, inplace=True)\n",
    "    n_frames = int(len(data) / CFG.rows_per_frame)\n",
    "    data = data.values.reshape(n_frames, CFG.rows_per_frame, len(data_columns))\n",
    "    return data.astype(np.float32)\n",
    "\n",
    "def load_relevant_data_subset(pq_path):\n",
    "    data_columns = ['x', 'y', 'z']\n",
    "    data = pd.read_parquet(pq_path, columns=data_columns)\n",
    "    n_frames = int(len(data) / CFG.rows_per_frame)\n",
    "    data = data.values.reshape(n_frames, CFG.rows_per_frame, len(data_columns))\n",
    "    return data.astype(np.float32)\n",
    "\n",
    "def read_dict(file_path):\n",
    "    path = os.path.expanduser(file_path)\n",
    "    with open(path, \"r\") as f:\n",
    "        dic = json.load(f)\n",
    "    return dic"
   ]
  },
  {
   "cell_type": "code",
   "execution_count": 4,
   "id": "150fc1bc",
   "metadata": {
    "ExecuteTime": {
     "end_time": "2023-02-27T22:54:29.102734Z",
     "start_time": "2023-02-27T22:54:29.017552Z"
    }
   },
   "outputs": [],
   "source": [
    "train = pd.read_csv(f\"{CFG.data_path}train.csv\")\n",
    "label_index = read_dict(f\"{CFG.data_path}sign_to_prediction_index_map.json\")\n",
    "index_label = {label_index[key]: key for key in label_index}\n",
    "train[\"label\"] = train[\"sign\"].map(lambda sign: label_index[sign])"
   ]
  },
  {
   "cell_type": "code",
   "execution_count": 5,
   "id": "fda181c9",
   "metadata": {
    "ExecuteTime": {
     "end_time": "2023-02-27T22:54:29.233907Z",
     "start_time": "2023-02-27T22:54:29.104166Z"
    }
   },
   "outputs": [
    {
     "name": "stdout",
     "output_type": "stream",
     "text": [
      "True\n",
      "(94477, 543, 3) (94477,)\n"
     ]
    }
   ],
   "source": [
    "if CFG.is_training:\n",
    "    print('True')\n",
    "#     if CFG.use_aggregation_dataset == True:\n",
    "    try:\n",
    "        X=  np.load('X_3d.npy')\n",
    "        y= np.load('y_3d.npy')\n",
    "    except:\n",
    "        print('True')\n",
    "        xs, ys = [], []\n",
    "        num_frames = np.zeros(len(train))\n",
    "        for i in tqdm(range(len(train))):\n",
    "            path = f\"{CFG.data_path}{train.iloc[i].path}\"\n",
    "            data = load_relevant_data_subset_with_imputation(path)\n",
    "            ## Mean Aggregation\n",
    "            xs.append(np.mean(data, axis=0))\n",
    "            ys.append(train.iloc[i].label)\n",
    "            num_frames[i] = data.shape[0]\n",
    "            if CFG.quick_experiment and i == 4999:\n",
    "                break\n",
    "        ## Save number of frames of each training sample for data analysis\n",
    "        train[\"num_frames\"] = num_frames\n",
    "        X, y = np.array(xs), np.array(ys)\n",
    "        print(train[\"num_frames\"].describe())\n",
    "        train.to_csv(\"train.csv\", index=False)\n",
    "        np.save('X_3d.npy', X)\n",
    "        np.save('y_3d.npy', y)\n",
    "\n",
    "    print(X.shape, y.shape)"
   ]
  },
  {
   "cell_type": "code",
   "execution_count": 6,
   "id": "54421556",
   "metadata": {
    "ExecuteTime": {
     "end_time": "2023-02-27T22:54:30.269641Z",
     "start_time": "2023-02-27T22:54:29.235345Z"
    }
   },
   "outputs": [
    {
     "name": "stderr",
     "output_type": "stream",
     "text": [
      "2023-02-27 14:54:29.294847: I tensorflow/stream_executor/cuda/cuda_gpu_executor.cc:980] successful NUMA node read from SysFS had negative value (-1), but there must be at least one NUMA node, so returning NUMA node zero\n",
      "2023-02-27 14:54:29.300271: I tensorflow/stream_executor/cuda/cuda_gpu_executor.cc:980] successful NUMA node read from SysFS had negative value (-1), but there must be at least one NUMA node, so returning NUMA node zero\n",
      "2023-02-27 14:54:29.300633: I tensorflow/stream_executor/cuda/cuda_gpu_executor.cc:980] successful NUMA node read from SysFS had negative value (-1), but there must be at least one NUMA node, so returning NUMA node zero\n",
      "2023-02-27 14:54:29.301561: I tensorflow/core/platform/cpu_feature_guard.cc:193] This TensorFlow binary is optimized with oneAPI Deep Neural Network Library (oneDNN) to use the following CPU instructions in performance-critical operations:  AVX2 FMA\n",
      "To enable them in other operations, rebuild TensorFlow with the appropriate compiler flags.\n",
      "2023-02-27 14:54:29.304809: I tensorflow/stream_executor/cuda/cuda_gpu_executor.cc:980] successful NUMA node read from SysFS had negative value (-1), but there must be at least one NUMA node, so returning NUMA node zero\n",
      "2023-02-27 14:54:29.305013: I tensorflow/stream_executor/cuda/cuda_gpu_executor.cc:980] successful NUMA node read from SysFS had negative value (-1), but there must be at least one NUMA node, so returning NUMA node zero\n",
      "2023-02-27 14:54:29.305189: I tensorflow/stream_executor/cuda/cuda_gpu_executor.cc:980] successful NUMA node read from SysFS had negative value (-1), but there must be at least one NUMA node, so returning NUMA node zero\n",
      "2023-02-27 14:54:29.776929: I tensorflow/stream_executor/cuda/cuda_gpu_executor.cc:980] successful NUMA node read from SysFS had negative value (-1), but there must be at least one NUMA node, so returning NUMA node zero\n",
      "2023-02-27 14:54:29.777123: I tensorflow/stream_executor/cuda/cuda_gpu_executor.cc:980] successful NUMA node read from SysFS had negative value (-1), but there must be at least one NUMA node, so returning NUMA node zero\n",
      "2023-02-27 14:54:29.777264: I tensorflow/stream_executor/cuda/cuda_gpu_executor.cc:980] successful NUMA node read from SysFS had negative value (-1), but there must be at least one NUMA node, so returning NUMA node zero\n",
      "2023-02-27 14:54:29.777385: I tensorflow/core/common_runtime/gpu/gpu_device.cc:1616] Created device /job:localhost/replica:0/task:0/device:GPU:0 with 21798 MB memory:  -> device: 0, name: NVIDIA GeForce RTX 3090 Ti, pci bus id: 0000:01:00.0, compute capability: 8.6\n"
     ]
    }
   ],
   "source": [
    "model = tf.keras.Sequential([\n",
    "    tf.keras.layers.GRU(128, return_sequences=True, input_shape=[None,3]),\n",
    "    tf.keras.layers.GRU(128),\n",
    "    tf.keras.layers.Dense(64, activation=\"relu\"),\n",
    "    tf.keras.layers.Dense(32, activation=\"relu\"),\n",
    "    tf.keras.layers.Dense(250, activation=\"softmax\"),\n",
    "])\n",
    "\n",
    "model.compile(\n",
    "    loss=tf.keras.losses.SparseCategoricalCrossentropy(), \n",
    "    metrics=[\n",
    "        \"accuracy\",\n",
    "        tf.keras.metrics.SparseTopKCategoricalAccuracy(k=5, name=\"top-5-accuracy\"),\n",
    "        tf.keras.metrics.SparseTopKCategoricalAccuracy(k=10),\n",
    "    ]\n",
    ")"
   ]
  },
  {
   "cell_type": "code",
   "execution_count": 7,
   "id": "28309e83",
   "metadata": {
    "ExecuteTime": {
     "end_time": "2023-02-27T23:19:06.200088Z",
     "start_time": "2023-02-27T22:54:30.271196Z"
    },
    "scrolled": true
   },
   "outputs": [
    {
     "name": "stdout",
     "output_type": "stream",
     "text": [
      "(75581, 543, 3) (75581,) (18896, 543, 3) (18896,)\n",
      "Epoch 1/120\n"
     ]
    },
    {
     "name": "stderr",
     "output_type": "stream",
     "text": [
      "2023-02-27 14:54:33.122814: I tensorflow/stream_executor/cuda/cuda_dnn.cc:384] Loaded cuDNN version 8100\n",
      "2023-02-27 14:54:33.753484: I tensorflow/stream_executor/cuda/cuda_blas.cc:1614] TensorFloat-32 will be used for the matrix multiplication. This will only be logged once.\n"
     ]
    },
    {
     "name": "stdout",
     "output_type": "stream",
     "text": [
      "591/591 [==============================] - 46s 72ms/step - loss: 5.4009 - accuracy: 0.0086 - top-5-accuracy: 0.0402 - sparse_top_k_categorical_accuracy: 0.0747 - val_loss: 5.2419 - val_accuracy: 0.0140 - val_top-5-accuracy: 0.0615 - val_sparse_top_k_categorical_accuracy: 0.1137\n",
      "Epoch 2/120\n",
      "591/591 [==============================] - 42s 71ms/step - loss: 5.1418 - accuracy: 0.0201 - top-5-accuracy: 0.0824 - sparse_top_k_categorical_accuracy: 0.1447 - val_loss: 5.0793 - val_accuracy: 0.0252 - val_top-5-accuracy: 0.0954 - val_sparse_top_k_categorical_accuracy: 0.1592\n",
      "Epoch 3/120\n",
      "591/591 [==============================] - 42s 72ms/step - loss: 4.9792 - accuracy: 0.0308 - top-5-accuracy: 0.1160 - sparse_top_k_categorical_accuracy: 0.1905 - val_loss: 4.9901 - val_accuracy: 0.0279 - val_top-5-accuracy: 0.1101 - val_sparse_top_k_categorical_accuracy: 0.1851\n",
      "Epoch 4/120\n",
      "591/591 [==============================] - 42s 71ms/step - loss: 4.6409 - accuracy: 0.0566 - top-5-accuracy: 0.1864 - sparse_top_k_categorical_accuracy: 0.2873 - val_loss: 4.6192 - val_accuracy: 0.0663 - val_top-5-accuracy: 0.2100 - val_sparse_top_k_categorical_accuracy: 0.3140\n",
      "Epoch 5/120\n",
      "591/591 [==============================] - 42s 71ms/step - loss: 4.3189 - accuracy: 0.0907 - top-5-accuracy: 0.2616 - sparse_top_k_categorical_accuracy: 0.3808 - val_loss: 4.1773 - val_accuracy: 0.1028 - val_top-5-accuracy: 0.3000 - val_sparse_top_k_categorical_accuracy: 0.4255\n",
      "Epoch 6/120\n",
      "591/591 [==============================] - 42s 71ms/step - loss: 4.0672 - accuracy: 0.1205 - top-5-accuracy: 0.3252 - sparse_top_k_categorical_accuracy: 0.4548 - val_loss: 4.1154 - val_accuracy: 0.1163 - val_top-5-accuracy: 0.3264 - val_sparse_top_k_categorical_accuracy: 0.4558\n",
      "Epoch 7/120\n",
      "591/591 [==============================] - 43s 72ms/step - loss: 3.7877 - accuracy: 0.1532 - top-5-accuracy: 0.3983 - sparse_top_k_categorical_accuracy: 0.5364 - val_loss: 3.8065 - val_accuracy: 0.1501 - val_top-5-accuracy: 0.3947 - val_sparse_top_k_categorical_accuracy: 0.5344\n",
      "Epoch 8/120\n",
      "591/591 [==============================] - 42s 71ms/step - loss: 3.5819 - accuracy: 0.1839 - top-5-accuracy: 0.4552 - sparse_top_k_categorical_accuracy: 0.5927 - val_loss: 3.5752 - val_accuracy: 0.1853 - val_top-5-accuracy: 0.4624 - val_sparse_top_k_categorical_accuracy: 0.6000\n",
      "Epoch 9/120\n",
      "591/591 [==============================] - 43s 72ms/step - loss: 3.4128 - accuracy: 0.2136 - top-5-accuracy: 0.4991 - sparse_top_k_categorical_accuracy: 0.6345 - val_loss: 3.4743 - val_accuracy: 0.2032 - val_top-5-accuracy: 0.4820 - val_sparse_top_k_categorical_accuracy: 0.6177\n",
      "Epoch 10/120\n",
      "591/591 [==============================] - 42s 72ms/step - loss: 3.2733 - accuracy: 0.2392 - top-5-accuracy: 0.5342 - sparse_top_k_categorical_accuracy: 0.6652 - val_loss: 3.2496 - val_accuracy: 0.2429 - val_top-5-accuracy: 0.5443 - val_sparse_top_k_categorical_accuracy: 0.6744\n",
      "Epoch 11/120\n",
      "591/591 [==============================] - 42s 71ms/step - loss: 3.1608 - accuracy: 0.2585 - top-5-accuracy: 0.5580 - sparse_top_k_categorical_accuracy: 0.6880 - val_loss: 3.1859 - val_accuracy: 0.2568 - val_top-5-accuracy: 0.5581 - val_sparse_top_k_categorical_accuracy: 0.6837\n",
      "Epoch 12/120\n",
      "591/591 [==============================] - 43s 72ms/step - loss: 3.0553 - accuracy: 0.2755 - top-5-accuracy: 0.5823 - sparse_top_k_categorical_accuracy: 0.7091 - val_loss: 3.1200 - val_accuracy: 0.2692 - val_top-5-accuracy: 0.5701 - val_sparse_top_k_categorical_accuracy: 0.6974\n",
      "Epoch 13/120\n",
      "591/591 [==============================] - 42s 71ms/step - loss: 2.9699 - accuracy: 0.2937 - top-5-accuracy: 0.6018 - sparse_top_k_categorical_accuracy: 0.7231 - val_loss: 3.0347 - val_accuracy: 0.2859 - val_top-5-accuracy: 0.5916 - val_sparse_top_k_categorical_accuracy: 0.7110\n",
      "Epoch 14/120\n",
      "591/591 [==============================] - 42s 71ms/step - loss: 2.8880 - accuracy: 0.3080 - top-5-accuracy: 0.6183 - sparse_top_k_categorical_accuracy: 0.7364 - val_loss: 2.9780 - val_accuracy: 0.2931 - val_top-5-accuracy: 0.6009 - val_sparse_top_k_categorical_accuracy: 0.7235\n",
      "Epoch 15/120\n",
      "591/591 [==============================] - 42s 71ms/step - loss: 2.8197 - accuracy: 0.3218 - top-5-accuracy: 0.6333 - sparse_top_k_categorical_accuracy: 0.7490 - val_loss: 2.9650 - val_accuracy: 0.2944 - val_top-5-accuracy: 0.6019 - val_sparse_top_k_categorical_accuracy: 0.7247\n",
      "Epoch 16/120\n",
      "591/591 [==============================] - 42s 72ms/step - loss: 2.7572 - accuracy: 0.3339 - top-5-accuracy: 0.6449 - sparse_top_k_categorical_accuracy: 0.7586 - val_loss: 2.9204 - val_accuracy: 0.3084 - val_top-5-accuracy: 0.6164 - val_sparse_top_k_categorical_accuracy: 0.7331\n",
      "Epoch 17/120\n",
      "591/591 [==============================] - 41s 69ms/step - loss: 2.6964 - accuracy: 0.3458 - top-5-accuracy: 0.6597 - sparse_top_k_categorical_accuracy: 0.7688 - val_loss: 2.8608 - val_accuracy: 0.3140 - val_top-5-accuracy: 0.6244 - val_sparse_top_k_categorical_accuracy: 0.7447\n",
      "Epoch 18/120\n",
      "591/591 [==============================] - 42s 72ms/step - loss: 2.6495 - accuracy: 0.3554 - top-5-accuracy: 0.6670 - sparse_top_k_categorical_accuracy: 0.7751 - val_loss: 2.8360 - val_accuracy: 0.3233 - val_top-5-accuracy: 0.6271 - val_sparse_top_k_categorical_accuracy: 0.7414\n",
      "Epoch 19/120\n",
      "591/591 [==============================] - 42s 70ms/step - loss: 2.5976 - accuracy: 0.3650 - top-5-accuracy: 0.6773 - sparse_top_k_categorical_accuracy: 0.7822 - val_loss: 2.7518 - val_accuracy: 0.3411 - val_top-5-accuracy: 0.6488 - val_sparse_top_k_categorical_accuracy: 0.7575\n",
      "Epoch 20/120\n",
      "591/591 [==============================] - 43s 72ms/step - loss: 2.5529 - accuracy: 0.3731 - top-5-accuracy: 0.6853 - sparse_top_k_categorical_accuracy: 0.7902 - val_loss: 2.7306 - val_accuracy: 0.3474 - val_top-5-accuracy: 0.6502 - val_sparse_top_k_categorical_accuracy: 0.7653\n",
      "Epoch 21/120\n",
      "591/591 [==============================] - 41s 70ms/step - loss: 2.5063 - accuracy: 0.3850 - top-5-accuracy: 0.6956 - sparse_top_k_categorical_accuracy: 0.7966 - val_loss: 2.7330 - val_accuracy: 0.3426 - val_top-5-accuracy: 0.6486 - val_sparse_top_k_categorical_accuracy: 0.7614\n",
      "Epoch 22/120\n",
      "591/591 [==============================] - 42s 71ms/step - loss: 2.4663 - accuracy: 0.3921 - top-5-accuracy: 0.7030 - sparse_top_k_categorical_accuracy: 0.8019 - val_loss: 2.6940 - val_accuracy: 0.3527 - val_top-5-accuracy: 0.6643 - val_sparse_top_k_categorical_accuracy: 0.7732\n",
      "Epoch 23/120\n",
      "591/591 [==============================] - 42s 71ms/step - loss: 2.4290 - accuracy: 0.3991 - top-5-accuracy: 0.7094 - sparse_top_k_categorical_accuracy: 0.8078 - val_loss: 2.7072 - val_accuracy: 0.3535 - val_top-5-accuracy: 0.6542 - val_sparse_top_k_categorical_accuracy: 0.7621\n",
      "Epoch 24/120\n",
      "591/591 [==============================] - 41s 70ms/step - loss: 2.3922 - accuracy: 0.4059 - top-5-accuracy: 0.7160 - sparse_top_k_categorical_accuracy: 0.8108 - val_loss: 2.5682 - val_accuracy: 0.3851 - val_top-5-accuracy: 0.6843 - val_sparse_top_k_categorical_accuracy: 0.7839\n",
      "Epoch 25/120\n",
      "591/591 [==============================] - 42s 70ms/step - loss: 2.3575 - accuracy: 0.4138 - top-5-accuracy: 0.7204 - sparse_top_k_categorical_accuracy: 0.8163 - val_loss: 2.6359 - val_accuracy: 0.3633 - val_top-5-accuracy: 0.6689 - val_sparse_top_k_categorical_accuracy: 0.7736\n",
      "Epoch 26/120\n",
      "591/591 [==============================] - 42s 70ms/step - loss: 2.3250 - accuracy: 0.4218 - top-5-accuracy: 0.7275 - sparse_top_k_categorical_accuracy: 0.8196 - val_loss: 2.5042 - val_accuracy: 0.3953 - val_top-5-accuracy: 0.6982 - val_sparse_top_k_categorical_accuracy: 0.7956\n",
      "Epoch 27/120\n",
      "591/591 [==============================] - 42s 71ms/step - loss: 2.2890 - accuracy: 0.4300 - top-5-accuracy: 0.7323 - sparse_top_k_categorical_accuracy: 0.8237 - val_loss: 2.5491 - val_accuracy: 0.3850 - val_top-5-accuracy: 0.6887 - val_sparse_top_k_categorical_accuracy: 0.7901\n",
      "Epoch 28/120\n",
      "591/591 [==============================] - 42s 71ms/step - loss: 2.2565 - accuracy: 0.4365 - top-5-accuracy: 0.7393 - sparse_top_k_categorical_accuracy: 0.8291 - val_loss: 2.4946 - val_accuracy: 0.3930 - val_top-5-accuracy: 0.7025 - val_sparse_top_k_categorical_accuracy: 0.7996\n",
      "Epoch 29/120\n"
     ]
    },
    {
     "name": "stdout",
     "output_type": "stream",
     "text": [
      "591/591 [==============================] - 42s 71ms/step - loss: 2.2272 - accuracy: 0.4442 - top-5-accuracy: 0.7451 - sparse_top_k_categorical_accuracy: 0.8301 - val_loss: 2.4783 - val_accuracy: 0.4010 - val_top-5-accuracy: 0.7059 - val_sparse_top_k_categorical_accuracy: 0.8017\n",
      "Epoch 30/120\n",
      "591/591 [==============================] - 42s 72ms/step - loss: 2.1978 - accuracy: 0.4490 - top-5-accuracy: 0.7498 - sparse_top_k_categorical_accuracy: 0.8349 - val_loss: 2.5016 - val_accuracy: 0.3987 - val_top-5-accuracy: 0.6999 - val_sparse_top_k_categorical_accuracy: 0.7987\n",
      "Epoch 31/120\n",
      "591/591 [==============================] - 43s 72ms/step - loss: 2.1704 - accuracy: 0.4543 - top-5-accuracy: 0.7549 - sparse_top_k_categorical_accuracy: 0.8380 - val_loss: 2.4575 - val_accuracy: 0.3989 - val_top-5-accuracy: 0.7086 - val_sparse_top_k_categorical_accuracy: 0.8036\n",
      "Epoch 32/120\n",
      "591/591 [==============================] - 42s 71ms/step - loss: 2.1434 - accuracy: 0.4636 - top-5-accuracy: 0.7590 - sparse_top_k_categorical_accuracy: 0.8405 - val_loss: 2.4055 - val_accuracy: 0.4135 - val_top-5-accuracy: 0.7132 - val_sparse_top_k_categorical_accuracy: 0.8064\n",
      "Epoch 33/120\n",
      "591/591 [==============================] - 42s 70ms/step - loss: 2.1123 - accuracy: 0.4690 - top-5-accuracy: 0.7636 - sparse_top_k_categorical_accuracy: 0.8444 - val_loss: 2.4352 - val_accuracy: 0.4041 - val_top-5-accuracy: 0.7096 - val_sparse_top_k_categorical_accuracy: 0.8066\n",
      "Epoch 34/120\n",
      "591/591 [==============================] - 42s 71ms/step - loss: 2.0896 - accuracy: 0.4746 - top-5-accuracy: 0.7663 - sparse_top_k_categorical_accuracy: 0.8481 - val_loss: 2.4798 - val_accuracy: 0.4029 - val_top-5-accuracy: 0.7044 - val_sparse_top_k_categorical_accuracy: 0.7984\n",
      "Epoch 35/120\n",
      "591/591 [==============================] - 43s 73ms/step - loss: 2.0627 - accuracy: 0.4777 - top-5-accuracy: 0.7720 - sparse_top_k_categorical_accuracy: 0.8509 - val_loss: 2.5263 - val_accuracy: 0.3988 - val_top-5-accuracy: 0.7051 - val_sparse_top_k_categorical_accuracy: 0.8006\n",
      "Model: \"sequential\"\n",
      "_________________________________________________________________\n",
      " Layer (type)                Output Shape              Param #   \n",
      "=================================================================\n",
      " gru (GRU)                   (None, None, 128)         51072     \n",
      "                                                                 \n",
      " gru_1 (GRU)                 (None, 128)               99072     \n",
      "                                                                 \n",
      " dense (Dense)               (None, 64)                8256      \n",
      "                                                                 \n",
      " dense_1 (Dense)             (None, 32)                2080      \n",
      "                                                                 \n",
      " dense_2 (Dense)             (None, 250)               8250      \n",
      "                                                                 \n",
      "=================================================================\n",
      "Total params: 168,730\n",
      "Trainable params: 168,730\n",
      "Non-trainable params: 0\n",
      "_________________________________________________________________\n"
     ]
    }
   ],
   "source": [
    "if True:\n",
    "    X_train, X_val, y_train, y_val = train_test_split(X, y, test_size=0.2, random_state=42, stratify=y)\n",
    "    print(X_train.shape, y_train.shape, X_val.shape, y_val.shape)\n",
    "#     del X, y\n",
    "    gc.collect()\n",
    "#     model = get_model()\n",
    "    callbacks = [\n",
    "        tf.keras.callbacks.ModelCheckpoint(\"model.h5\"),\n",
    "        tf.keras.callbacks.EarlyStopping(monitor='val_loss', patience=3,),\n",
    "    ]\n",
    "    history = model.fit(X_train, y_train, epochs=120, validation_data=(X_val, y_val), batch_size=128, callbacks=callbacks)\n",
    "else:\n",
    "    model = tf.keras.models.load_model(\"../model.h5\")\n",
    "model.summary()"
   ]
  },
  {
   "cell_type": "code",
   "execution_count": 11,
   "id": "151040f5",
   "metadata": {
    "ExecuteTime": {
     "end_time": "2023-02-27T23:21:18.142043Z",
     "start_time": "2023-02-27T23:21:09.758966Z"
    }
   },
   "outputs": [
    {
     "name": "stderr",
     "output_type": "stream",
     "text": [
      "WARNING:absl:Found untraced functions such as gru_cell_layer_call_fn, gru_cell_layer_call_and_return_conditional_losses, gru_cell_1_layer_call_fn, gru_cell_1_layer_call_and_return_conditional_losses while saving (showing 4 of 4). These functions will not be directly callable after loading.\n"
     ]
    },
    {
     "name": "stdout",
     "output_type": "stream",
     "text": [
      "INFO:tensorflow:Assets written to: /tmp/tmptqc1v33z/assets\n"
     ]
    },
    {
     "name": "stderr",
     "output_type": "stream",
     "text": [
      "INFO:tensorflow:Assets written to: /tmp/tmptqc1v33z/assets\n",
      "2023-02-27 15:21:17.467312: W tensorflow/compiler/mlir/lite/python/tf_tfl_flatbuffer_helpers.cc:362] Ignored output_format.\n",
      "2023-02-27 15:21:17.467359: W tensorflow/compiler/mlir/lite/python/tf_tfl_flatbuffer_helpers.cc:365] Ignored drop_control_dependency.\n",
      "2023-02-27 15:21:17.467524: I tensorflow/cc/saved_model/reader.cc:45] Reading SavedModel from: /tmp/tmptqc1v33z\n",
      "2023-02-27 15:21:17.480248: I tensorflow/cc/saved_model/reader.cc:89] Reading meta graph with tags { serve }\n",
      "2023-02-27 15:21:17.480284: I tensorflow/cc/saved_model/reader.cc:130] Reading SavedModel debug info (if present) from: /tmp/tmptqc1v33z\n",
      "2023-02-27 15:21:17.531932: I tensorflow/cc/saved_model/loader.cc:229] Restoring SavedModel bundle.\n",
      "2023-02-27 15:21:17.639818: I tensorflow/cc/saved_model/loader.cc:213] Running initialization op on SavedModel bundle at path: /tmp/tmptqc1v33z\n",
      "2023-02-27 15:21:17.717080: I tensorflow/cc/saved_model/loader.cc:305] SavedModel load for tags { serve }; Status: success: OK. Took 249555 microseconds.\n",
      "loc(callsite(callsite(callsite(fused[\"TensorListReserve:\", callsite(\"TensorArrayV2_1@__inference_standard_gru_225703\"(\"/home/victor/miniconda3/envs/tf/lib/python3.9/site-packages/tensorflow/python/saved_model/save.py\":1268:0) at callsite(\"/home/victor/miniconda3/envs/tf/lib/python3.9/site-packages/tensorflow/python/saved_model/save.py\":1232:0 at callsite(\"/home/victor/miniconda3/envs/tf/lib/python3.9/site-packages/tensorflow/lite/python/lite.py\":1249:0 at callsite(\"/home/victor/miniconda3/envs/tf/lib/python3.9/site-packages/tensorflow/lite/python/convert_phase.py\":205:0 at callsite(\"/home/victor/miniconda3/envs/tf/lib/python3.9/site-packages/tensorflow/lite/python/lite.py\":1319:0 at callsite(\"/home/victor/miniconda3/envs/tf/lib/python3.9/site-packages/tensorflow/lite/python/lite.py\":1339:0 at callsite(\"/home/victor/miniconda3/envs/tf/lib/python3.9/site-packages/tensorflow/lite/python/lite.py\":908:0 at callsite(\"/home/victor/miniconda3/envs/tf/lib/python3.9/site-packages/tensorflow/lite/python/lite.py\":930:0 at callsite(\"/tmp/ipykernel_111019/3989328835.py\":2:0 at \"/home/victor/miniconda3/envs/tf/lib/python3.9/site-packages/IPython/core/interactiveshell.py\":3433:0)))))))))] at fused[\"PartitionedCall:\", callsite(\"sequential/gru/PartitionedCall@__inference__wrapped_model_226313\"(\"/home/victor/miniconda3/envs/tf/lib/python3.9/site-packages/tensorflow/python/saved_model/save.py\":1268:0) at callsite(\"/home/victor/miniconda3/envs/tf/lib/python3.9/site-packages/tensorflow/python/saved_model/save.py\":1232:0 at callsite(\"/home/victor/miniconda3/envs/tf/lib/python3.9/site-packages/tensorflow/lite/python/lite.py\":1249:0 at callsite(\"/home/victor/miniconda3/envs/tf/lib/python3.9/site-packages/tensorflow/lite/python/convert_phase.py\":205:0 at callsite(\"/home/victor/miniconda3/envs/tf/lib/python3.9/site-packages/tensorflow/lite/python/lite.py\":1319:0 at callsite(\"/home/victor/miniconda3/envs/tf/lib/python3.9/site-packages/tensorflow/lite/python/lite.py\":1339:0 at callsite(\"/home/victor/miniconda3/envs/tf/lib/python3.9/site-packages/tensorflow/lite/python/lite.py\":908:0 at callsite(\"/home/victor/miniconda3/envs/tf/lib/python3.9/site-packages/tensorflow/lite/python/lite.py\":930:0 at callsite(\"/tmp/ipykernel_111019/3989328835.py\":2:0 at \"/home/victor/miniconda3/envs/tf/lib/python3.9/site-packages/IPython/core/interactiveshell.py\":3433:0)))))))))]) at fused[\"StatefulPartitionedCall:\", callsite(\"StatefulPartitionedCall@__inference_signature_wrapper_229774\"(\"/home/victor/miniconda3/envs/tf/lib/python3.9/site-packages/tensorflow/python/saved_model/save.py\":1268:0) at callsite(\"/home/victor/miniconda3/envs/tf/lib/python3.9/site-packages/tensorflow/python/saved_model/save.py\":1232:0 at callsite(\"/home/victor/miniconda3/envs/tf/lib/python3.9/site-packages/tensorflow/lite/python/lite.py\":1249:0 at callsite(\"/home/victor/miniconda3/envs/tf/lib/python3.9/site-packages/tensorflow/lite/python/convert_phase.py\":205:0 at callsite(\"/home/victor/miniconda3/envs/tf/lib/python3.9/site-packages/tensorflow/lite/python/lite.py\":1319:0 at callsite(\"/home/victor/miniconda3/envs/tf/lib/python3.9/site-packages/tensorflow/lite/python/lite.py\":1339:0 at callsite(\"/home/victor/miniconda3/envs/tf/lib/python3.9/site-packages/tensorflow/lite/python/lite.py\":908:0 at callsite(\"/home/victor/miniconda3/envs/tf/lib/python3.9/site-packages/tensorflow/lite/python/lite.py\":930:0 at callsite(\"/tmp/ipykernel_111019/3989328835.py\":2:0 at \"/home/victor/miniconda3/envs/tf/lib/python3.9/site-packages/IPython/core/interactiveshell.py\":3433:0)))))))))]) at fused[\"StatefulPartitionedCall:\", \"StatefulPartitionedCall\"])): error: 'tf.TensorListReserve' op requires element_shape to be static during TF Lite transformation pass\n",
      "loc(callsite(callsite(callsite(fused[\"TensorListReserve:\", callsite(\"TensorArrayV2_1@__inference_standard_gru_225703\"(\"/home/victor/miniconda3/envs/tf/lib/python3.9/site-packages/tensorflow/python/saved_model/save.py\":1268:0) at callsite(\"/home/victor/miniconda3/envs/tf/lib/python3.9/site-packages/tensorflow/python/saved_model/save.py\":1232:0 at callsite(\"/home/victor/miniconda3/envs/tf/lib/python3.9/site-packages/tensorflow/lite/python/lite.py\":1249:0 at callsite(\"/home/victor/miniconda3/envs/tf/lib/python3.9/site-packages/tensorflow/lite/python/convert_phase.py\":205:0 at callsite(\"/home/victor/miniconda3/envs/tf/lib/python3.9/site-packages/tensorflow/lite/python/lite.py\":1319:0 at callsite(\"/home/victor/miniconda3/envs/tf/lib/python3.9/site-packages/tensorflow/lite/python/lite.py\":1339:0 at callsite(\"/home/victor/miniconda3/envs/tf/lib/python3.9/site-packages/tensorflow/lite/python/lite.py\":908:0 at callsite(\"/home/victor/miniconda3/envs/tf/lib/python3.9/site-packages/tensorflow/lite/python/lite.py\":930:0 at callsite(\"/tmp/ipykernel_111019/3989328835.py\":2:0 at \"/home/victor/miniconda3/envs/tf/lib/python3.9/site-packages/IPython/core/interactiveshell.py\":3433:0)))))))))] at fused[\"PartitionedCall:\", callsite(\"sequential/gru/PartitionedCall@__inference__wrapped_model_226313\"(\"/home/victor/miniconda3/envs/tf/lib/python3.9/site-packages/tensorflow/python/saved_model/save.py\":1268:0) at callsite(\"/home/victor/miniconda3/envs/tf/lib/python3.9/site-packages/tensorflow/python/saved_model/save.py\":1232:0 at callsite(\"/home/victor/miniconda3/envs/tf/lib/python3.9/site-packages/tensorflow/lite/python/lite.py\":1249:0 at callsite(\"/home/victor/miniconda3/envs/tf/lib/python3.9/site-packages/tensorflow/lite/python/convert_phase.py\":205:0 at callsite(\"/home/victor/miniconda3/envs/tf/lib/python3.9/site-packages/tensorflow/lite/python/lite.py\":1319:0 at callsite(\"/home/victor/miniconda3/envs/tf/lib/python3.9/site-packages/tensorflow/lite/python/lite.py\":1339:0 at callsite(\"/home/victor/miniconda3/envs/tf/lib/python3.9/site-packages/tensorflow/lite/python/lite.py\":908:0 at callsite(\"/home/victor/miniconda3/envs/tf/lib/python3.9/site-packages/tensorflow/lite/python/lite.py\":930:0 at callsite(\"/tmp/ipykernel_111019/3989328835.py\":2:0 at \"/home/victor/miniconda3/envs/tf/lib/python3.9/site-packages/IPython/core/interactiveshell.py\":3433:0)))))))))]) at fused[\"StatefulPartitionedCall:\", callsite(\"StatefulPartitionedCall@__inference_signature_wrapper_229774\"(\"/home/victor/miniconda3/envs/tf/lib/python3.9/site-packages/tensorflow/python/saved_model/save.py\":1268:0) at callsite(\"/home/victor/miniconda3/envs/tf/lib/python3.9/site-packages/tensorflow/python/saved_model/save.py\":1232:0 at callsite(\"/home/victor/miniconda3/envs/tf/lib/python3.9/site-packages/tensorflow/lite/python/lite.py\":1249:0 at callsite(\"/home/victor/miniconda3/envs/tf/lib/python3.9/site-packages/tensorflow/lite/python/convert_phase.py\":205:0 at callsite(\"/home/victor/miniconda3/envs/tf/lib/python3.9/site-packages/tensorflow/lite/python/lite.py\":1319:0 at callsite(\"/home/victor/miniconda3/envs/tf/lib/python3.9/site-packages/tensorflow/lite/python/lite.py\":1339:0 at callsite(\"/home/victor/miniconda3/envs/tf/lib/python3.9/site-packages/tensorflow/lite/python/lite.py\":908:0 at callsite(\"/home/victor/miniconda3/envs/tf/lib/python3.9/site-packages/tensorflow/lite/python/lite.py\":930:0 at callsite(\"/tmp/ipykernel_111019/3989328835.py\":2:0 at \"/home/victor/miniconda3/envs/tf/lib/python3.9/site-packages/IPython/core/interactiveshell.py\":3433:0)))))))))]) at fused[\"StatefulPartitionedCall:\", \"StatefulPartitionedCall\"])): error: failed to legalize operation 'tf.TensorListReserve' that was explicitly marked illegal\n",
      "error: Lowering tensor list ops is failed. Please consider using Select TF ops and disabling `_experimental_lower_tensor_list_ops` flag in the TFLite converter object. For example, converter.target_spec.supported_ops = [tf.lite.OpsSet.TFLITE_BUILTINS, tf.lite.OpsSet.SELECT_TF_OPS]\\n converter._experimental_lower_tensor_list_ops = False\n"
     ]
    },
    {
     "ename": "ConverterError",
     "evalue": "/home/victor/miniconda3/envs/tf/lib/python3.9/site-packages/tensorflow/python/saved_model/save.py:1268:0: error: 'tf.TensorListReserve' op requires element_shape to be static during TF Lite transformation pass\n<unknown>:0: note: loc(fused[\"StatefulPartitionedCall:\", \"StatefulPartitionedCall\"]): called from\n/home/victor/miniconda3/envs/tf/lib/python3.9/site-packages/tensorflow/python/saved_model/save.py:1268:0: error: failed to legalize operation 'tf.TensorListReserve' that was explicitly marked illegal\n<unknown>:0: note: loc(fused[\"StatefulPartitionedCall:\", \"StatefulPartitionedCall\"]): called from\n<unknown>:0: error: Lowering tensor list ops is failed. Please consider using Select TF ops and disabling `_experimental_lower_tensor_list_ops` flag in the TFLite converter object. For example, converter.target_spec.supported_ops = [tf.lite.OpsSet.TFLITE_BUILTINS, tf.lite.OpsSet.SELECT_TF_OPS]\\n converter._experimental_lower_tensor_list_ops = False\n",
     "output_type": "error",
     "traceback": [
      "\u001b[0;31m---------------------------------------------------------------------------\u001b[0m",
      "\u001b[0;31mConverterError\u001b[0m                            Traceback (most recent call last)",
      "Cell \u001b[0;32mIn [11], line 2\u001b[0m\n\u001b[1;32m      1\u001b[0m converter \u001b[38;5;241m=\u001b[39m tf\u001b[38;5;241m.\u001b[39mlite\u001b[38;5;241m.\u001b[39mTFLiteConverter\u001b[38;5;241m.\u001b[39mfrom_keras_model(model)\n\u001b[0;32m----> 2\u001b[0m tflite_model \u001b[38;5;241m=\u001b[39m \u001b[43mconverter\u001b[49m\u001b[38;5;241;43m.\u001b[39;49m\u001b[43mconvert\u001b[49m\u001b[43m(\u001b[49m\u001b[43m)\u001b[49m\n\u001b[1;32m      4\u001b[0m \u001b[38;5;66;03m# Save the model.\u001b[39;00m\n\u001b[1;32m      5\u001b[0m \u001b[38;5;28;01mwith\u001b[39;00m \u001b[38;5;28mopen\u001b[39m(\u001b[38;5;124m'\u001b[39m\u001b[38;5;124mmodel_gru_with_dense.tflite\u001b[39m\u001b[38;5;124m'\u001b[39m, \u001b[38;5;124m'\u001b[39m\u001b[38;5;124mwb\u001b[39m\u001b[38;5;124m'\u001b[39m) \u001b[38;5;28;01mas\u001b[39;00m f:\n",
      "File \u001b[0;32m~/miniconda3/envs/tf/lib/python3.9/site-packages/tensorflow/lite/python/lite.py:930\u001b[0m, in \u001b[0;36m_export_metrics.<locals>.wrapper\u001b[0;34m(self, *args, **kwargs)\u001b[0m\n\u001b[1;32m    927\u001b[0m \u001b[38;5;129m@functools\u001b[39m\u001b[38;5;241m.\u001b[39mwraps(convert_func)\n\u001b[1;32m    928\u001b[0m \u001b[38;5;28;01mdef\u001b[39;00m \u001b[38;5;21mwrapper\u001b[39m(\u001b[38;5;28mself\u001b[39m, \u001b[38;5;241m*\u001b[39margs, \u001b[38;5;241m*\u001b[39m\u001b[38;5;241m*\u001b[39mkwargs):\n\u001b[1;32m    929\u001b[0m   \u001b[38;5;66;03m# pylint: disable=protected-access\u001b[39;00m\n\u001b[0;32m--> 930\u001b[0m   \u001b[38;5;28;01mreturn\u001b[39;00m \u001b[38;5;28;43mself\u001b[39;49m\u001b[38;5;241;43m.\u001b[39;49m\u001b[43m_convert_and_export_metrics\u001b[49m\u001b[43m(\u001b[49m\u001b[43mconvert_func\u001b[49m\u001b[43m,\u001b[49m\u001b[43m \u001b[49m\u001b[38;5;241;43m*\u001b[39;49m\u001b[43margs\u001b[49m\u001b[43m,\u001b[49m\u001b[43m \u001b[49m\u001b[38;5;241;43m*\u001b[39;49m\u001b[38;5;241;43m*\u001b[39;49m\u001b[43mkwargs\u001b[49m\u001b[43m)\u001b[49m\n",
      "File \u001b[0;32m~/miniconda3/envs/tf/lib/python3.9/site-packages/tensorflow/lite/python/lite.py:908\u001b[0m, in \u001b[0;36mTFLiteConverterBase._convert_and_export_metrics\u001b[0;34m(self, convert_func, *args, **kwargs)\u001b[0m\n\u001b[1;32m    906\u001b[0m \u001b[38;5;28mself\u001b[39m\u001b[38;5;241m.\u001b[39m_save_conversion_params_metric()\n\u001b[1;32m    907\u001b[0m start_time \u001b[38;5;241m=\u001b[39m time\u001b[38;5;241m.\u001b[39mprocess_time()\n\u001b[0;32m--> 908\u001b[0m result \u001b[38;5;241m=\u001b[39m \u001b[43mconvert_func\u001b[49m\u001b[43m(\u001b[49m\u001b[38;5;28;43mself\u001b[39;49m\u001b[43m,\u001b[49m\u001b[43m \u001b[49m\u001b[38;5;241;43m*\u001b[39;49m\u001b[43margs\u001b[49m\u001b[43m,\u001b[49m\u001b[43m \u001b[49m\u001b[38;5;241;43m*\u001b[39;49m\u001b[38;5;241;43m*\u001b[39;49m\u001b[43mkwargs\u001b[49m\u001b[43m)\u001b[49m\n\u001b[1;32m    909\u001b[0m elapsed_time_ms \u001b[38;5;241m=\u001b[39m (time\u001b[38;5;241m.\u001b[39mprocess_time() \u001b[38;5;241m-\u001b[39m start_time) \u001b[38;5;241m*\u001b[39m \u001b[38;5;241m1000\u001b[39m\n\u001b[1;32m    910\u001b[0m \u001b[38;5;28;01mif\u001b[39;00m result:\n",
      "File \u001b[0;32m~/miniconda3/envs/tf/lib/python3.9/site-packages/tensorflow/lite/python/lite.py:1339\u001b[0m, in \u001b[0;36mTFLiteKerasModelConverterV2.convert\u001b[0;34m(self)\u001b[0m\n\u001b[1;32m   1326\u001b[0m \u001b[38;5;129m@_export_metrics\u001b[39m\n\u001b[1;32m   1327\u001b[0m \u001b[38;5;28;01mdef\u001b[39;00m \u001b[38;5;21mconvert\u001b[39m(\u001b[38;5;28mself\u001b[39m):\n\u001b[1;32m   1328\u001b[0m   \u001b[38;5;124;03m\"\"\"Converts a keras model based on instance variables.\u001b[39;00m\n\u001b[1;32m   1329\u001b[0m \n\u001b[1;32m   1330\u001b[0m \u001b[38;5;124;03m  Returns:\u001b[39;00m\n\u001b[0;32m   (...)\u001b[0m\n\u001b[1;32m   1337\u001b[0m \u001b[38;5;124;03m      Invalid quantization parameters.\u001b[39;00m\n\u001b[1;32m   1338\u001b[0m \u001b[38;5;124;03m  \"\"\"\u001b[39;00m\n\u001b[0;32m-> 1339\u001b[0m   saved_model_convert_result \u001b[38;5;241m=\u001b[39m \u001b[38;5;28;43mself\u001b[39;49m\u001b[38;5;241;43m.\u001b[39;49m\u001b[43m_convert_as_saved_model\u001b[49m\u001b[43m(\u001b[49m\u001b[43m)\u001b[49m\n\u001b[1;32m   1340\u001b[0m   \u001b[38;5;28;01mif\u001b[39;00m saved_model_convert_result:\n\u001b[1;32m   1341\u001b[0m     \u001b[38;5;28;01mreturn\u001b[39;00m saved_model_convert_result\n",
      "File \u001b[0;32m~/miniconda3/envs/tf/lib/python3.9/site-packages/tensorflow/lite/python/lite.py:1321\u001b[0m, in \u001b[0;36mTFLiteKerasModelConverterV2._convert_as_saved_model\u001b[0;34m(self)\u001b[0m\n\u001b[1;32m   1318\u001b[0m   graph_def, input_tensors, output_tensors \u001b[38;5;241m=\u001b[39m (\n\u001b[1;32m   1319\u001b[0m       \u001b[38;5;28mself\u001b[39m\u001b[38;5;241m.\u001b[39m_convert_keras_to_saved_model(temp_dir))\n\u001b[1;32m   1320\u001b[0m   \u001b[38;5;28;01mif\u001b[39;00m \u001b[38;5;28mself\u001b[39m\u001b[38;5;241m.\u001b[39msaved_model_dir:\n\u001b[0;32m-> 1321\u001b[0m     \u001b[38;5;28;01mreturn\u001b[39;00m \u001b[38;5;28;43msuper\u001b[39;49m\u001b[43m(\u001b[49m\u001b[43mTFLiteKerasModelConverterV2\u001b[49m\u001b[43m,\u001b[49m\n\u001b[1;32m   1322\u001b[0m \u001b[43m                 \u001b[49m\u001b[38;5;28;43mself\u001b[39;49m\u001b[43m)\u001b[49m\u001b[38;5;241;43m.\u001b[39;49m\u001b[43mconvert\u001b[49m\u001b[43m(\u001b[49m\u001b[43mgraph_def\u001b[49m\u001b[43m,\u001b[49m\u001b[43m \u001b[49m\u001b[43minput_tensors\u001b[49m\u001b[43m,\u001b[49m\u001b[43m \u001b[49m\u001b[43moutput_tensors\u001b[49m\u001b[43m)\u001b[49m\n\u001b[1;32m   1323\u001b[0m \u001b[38;5;28;01mfinally\u001b[39;00m:\n\u001b[1;32m   1324\u001b[0m   shutil\u001b[38;5;241m.\u001b[39mrmtree(temp_dir, \u001b[38;5;28;01mTrue\u001b[39;00m)\n",
      "File \u001b[0;32m~/miniconda3/envs/tf/lib/python3.9/site-packages/tensorflow/lite/python/lite.py:1132\u001b[0m, in \u001b[0;36mTFLiteConverterBaseV2.convert\u001b[0;34m(self, graph_def, input_tensors, output_tensors)\u001b[0m\n\u001b[1;32m   1127\u001b[0m   logging\u001b[38;5;241m.\u001b[39minfo(\u001b[38;5;124m\"\u001b[39m\u001b[38;5;124mUsing new converter: If you encounter a problem \u001b[39m\u001b[38;5;124m\"\u001b[39m\n\u001b[1;32m   1128\u001b[0m                \u001b[38;5;124m\"\u001b[39m\u001b[38;5;124mplease file a bug. You can opt-out \u001b[39m\u001b[38;5;124m\"\u001b[39m\n\u001b[1;32m   1129\u001b[0m                \u001b[38;5;124m\"\u001b[39m\u001b[38;5;124mby setting experimental_new_converter=False\u001b[39m\u001b[38;5;124m\"\u001b[39m)\n\u001b[1;32m   1131\u001b[0m \u001b[38;5;66;03m# Converts model.\u001b[39;00m\n\u001b[0;32m-> 1132\u001b[0m result \u001b[38;5;241m=\u001b[39m \u001b[43m_convert_graphdef\u001b[49m\u001b[43m(\u001b[49m\n\u001b[1;32m   1133\u001b[0m \u001b[43m    \u001b[49m\u001b[43minput_data\u001b[49m\u001b[38;5;241;43m=\u001b[39;49m\u001b[43mgraph_def\u001b[49m\u001b[43m,\u001b[49m\n\u001b[1;32m   1134\u001b[0m \u001b[43m    \u001b[49m\u001b[43minput_tensors\u001b[49m\u001b[38;5;241;43m=\u001b[39;49m\u001b[43minput_tensors\u001b[49m\u001b[43m,\u001b[49m\n\u001b[1;32m   1135\u001b[0m \u001b[43m    \u001b[49m\u001b[43moutput_tensors\u001b[49m\u001b[38;5;241;43m=\u001b[39;49m\u001b[43moutput_tensors\u001b[49m\u001b[43m,\u001b[49m\n\u001b[1;32m   1136\u001b[0m \u001b[43m    \u001b[49m\u001b[38;5;241;43m*\u001b[39;49m\u001b[38;5;241;43m*\u001b[39;49m\u001b[43mconverter_kwargs\u001b[49m\u001b[43m)\u001b[49m\n\u001b[1;32m   1138\u001b[0m \u001b[38;5;28;01mreturn\u001b[39;00m \u001b[38;5;28mself\u001b[39m\u001b[38;5;241m.\u001b[39m_optimize_tflite_model(\n\u001b[1;32m   1139\u001b[0m     result, \u001b[38;5;28mself\u001b[39m\u001b[38;5;241m.\u001b[39m_quant_mode, quant_io\u001b[38;5;241m=\u001b[39m\u001b[38;5;28mself\u001b[39m\u001b[38;5;241m.\u001b[39mexperimental_new_quantizer)\n",
      "File \u001b[0;32m~/miniconda3/envs/tf/lib/python3.9/site-packages/tensorflow/lite/python/convert_phase.py:212\u001b[0m, in \u001b[0;36mconvert_phase.<locals>.actual_decorator.<locals>.wrapper\u001b[0;34m(*args, **kwargs)\u001b[0m\n\u001b[1;32m    210\u001b[0m   \u001b[38;5;28;01melse\u001b[39;00m:\n\u001b[1;32m    211\u001b[0m     report_error_message(\u001b[38;5;28mstr\u001b[39m(converter_error))\n\u001b[0;32m--> 212\u001b[0m   \u001b[38;5;28;01mraise\u001b[39;00m converter_error \u001b[38;5;28;01mfrom\u001b[39;00m \u001b[38;5;28mNone\u001b[39m  \u001b[38;5;66;03m# Re-throws the exception.\u001b[39;00m\n\u001b[1;32m    213\u001b[0m \u001b[38;5;28;01mexcept\u001b[39;00m \u001b[38;5;167;01mException\u001b[39;00m \u001b[38;5;28;01mas\u001b[39;00m error:\n\u001b[1;32m    214\u001b[0m   report_error_message(\u001b[38;5;28mstr\u001b[39m(error))\n",
      "File \u001b[0;32m~/miniconda3/envs/tf/lib/python3.9/site-packages/tensorflow/lite/python/convert_phase.py:205\u001b[0m, in \u001b[0;36mconvert_phase.<locals>.actual_decorator.<locals>.wrapper\u001b[0;34m(*args, **kwargs)\u001b[0m\n\u001b[1;32m    202\u001b[0m \u001b[38;5;129m@functools\u001b[39m\u001b[38;5;241m.\u001b[39mwraps(func)\n\u001b[1;32m    203\u001b[0m \u001b[38;5;28;01mdef\u001b[39;00m \u001b[38;5;21mwrapper\u001b[39m(\u001b[38;5;241m*\u001b[39margs, \u001b[38;5;241m*\u001b[39m\u001b[38;5;241m*\u001b[39mkwargs):\n\u001b[1;32m    204\u001b[0m   \u001b[38;5;28;01mtry\u001b[39;00m:\n\u001b[0;32m--> 205\u001b[0m     \u001b[38;5;28;01mreturn\u001b[39;00m \u001b[43mfunc\u001b[49m\u001b[43m(\u001b[49m\u001b[38;5;241;43m*\u001b[39;49m\u001b[43margs\u001b[49m\u001b[43m,\u001b[49m\u001b[43m \u001b[49m\u001b[38;5;241;43m*\u001b[39;49m\u001b[38;5;241;43m*\u001b[39;49m\u001b[43mkwargs\u001b[49m\u001b[43m)\u001b[49m\n\u001b[1;32m    206\u001b[0m   \u001b[38;5;28;01mexcept\u001b[39;00m ConverterError \u001b[38;5;28;01mas\u001b[39;00m converter_error:\n\u001b[1;32m    207\u001b[0m     \u001b[38;5;28;01mif\u001b[39;00m converter_error\u001b[38;5;241m.\u001b[39merrors:\n",
      "File \u001b[0;32m~/miniconda3/envs/tf/lib/python3.9/site-packages/tensorflow/lite/python/convert.py:794\u001b[0m, in \u001b[0;36mconvert_graphdef\u001b[0;34m(input_data, input_tensors, output_tensors, **kwargs)\u001b[0m\n\u001b[1;32m    791\u001b[0m   \u001b[38;5;28;01melse\u001b[39;00m:\n\u001b[1;32m    792\u001b[0m     model_flags\u001b[38;5;241m.\u001b[39moutput_arrays\u001b[38;5;241m.\u001b[39mappend(util\u001b[38;5;241m.\u001b[39mget_tensor_name(output_tensor))\n\u001b[0;32m--> 794\u001b[0m data \u001b[38;5;241m=\u001b[39m \u001b[43mconvert\u001b[49m\u001b[43m(\u001b[49m\n\u001b[1;32m    795\u001b[0m \u001b[43m    \u001b[49m\u001b[43mmodel_flags\u001b[49m\u001b[38;5;241;43m.\u001b[39;49m\u001b[43mSerializeToString\u001b[49m\u001b[43m(\u001b[49m\u001b[43m)\u001b[49m\u001b[43m,\u001b[49m\n\u001b[1;32m    796\u001b[0m \u001b[43m    \u001b[49m\u001b[43mconversion_flags\u001b[49m\u001b[38;5;241;43m.\u001b[39;49m\u001b[43mSerializeToString\u001b[49m\u001b[43m(\u001b[49m\u001b[43m)\u001b[49m\u001b[43m,\u001b[49m\n\u001b[1;32m    797\u001b[0m \u001b[43m    \u001b[49m\u001b[43minput_data\u001b[49m\u001b[38;5;241;43m.\u001b[39;49m\u001b[43mSerializeToString\u001b[49m\u001b[43m(\u001b[49m\u001b[43m)\u001b[49m\u001b[43m,\u001b[49m\n\u001b[1;32m    798\u001b[0m \u001b[43m    \u001b[49m\u001b[43mdebug_info_str\u001b[49m\u001b[38;5;241;43m=\u001b[39;49m\u001b[43mdebug_info\u001b[49m\u001b[38;5;241;43m.\u001b[39;49m\u001b[43mSerializeToString\u001b[49m\u001b[43m(\u001b[49m\u001b[43m)\u001b[49m\u001b[43m \u001b[49m\u001b[38;5;28;43;01mif\u001b[39;49;00m\u001b[43m \u001b[49m\u001b[43mdebug_info\u001b[49m\u001b[43m \u001b[49m\u001b[38;5;28;43;01melse\u001b[39;49;00m\u001b[43m \u001b[49m\u001b[38;5;28;43;01mNone\u001b[39;49;00m\u001b[43m,\u001b[49m\n\u001b[1;32m    799\u001b[0m \u001b[43m    \u001b[49m\u001b[43menable_mlir_converter\u001b[49m\u001b[38;5;241;43m=\u001b[39;49m\u001b[43menable_mlir_converter\u001b[49m\u001b[43m)\u001b[49m\n\u001b[1;32m    800\u001b[0m \u001b[38;5;28;01mreturn\u001b[39;00m data\n",
      "File \u001b[0;32m~/miniconda3/envs/tf/lib/python3.9/site-packages/tensorflow/lite/python/convert.py:311\u001b[0m, in \u001b[0;36mconvert\u001b[0;34m(model_flags_str, conversion_flags_str, input_data_str, debug_info_str, enable_mlir_converter)\u001b[0m\n\u001b[1;32m    309\u001b[0m     \u001b[38;5;28;01mfor\u001b[39;00m error_data \u001b[38;5;129;01min\u001b[39;00m _metrics_wrapper\u001b[38;5;241m.\u001b[39mretrieve_collected_errors():\n\u001b[1;32m    310\u001b[0m       converter_error\u001b[38;5;241m.\u001b[39mappend_error(error_data)\n\u001b[0;32m--> 311\u001b[0m     \u001b[38;5;28;01mraise\u001b[39;00m converter_error\n\u001b[1;32m    313\u001b[0m \u001b[38;5;28;01mreturn\u001b[39;00m _run_deprecated_conversion_binary(model_flags_str,\n\u001b[1;32m    314\u001b[0m                                          conversion_flags_str, input_data_str,\n\u001b[1;32m    315\u001b[0m                                          debug_info_str)\n",
      "\u001b[0;31mConverterError\u001b[0m: /home/victor/miniconda3/envs/tf/lib/python3.9/site-packages/tensorflow/python/saved_model/save.py:1268:0: error: 'tf.TensorListReserve' op requires element_shape to be static during TF Lite transformation pass\n<unknown>:0: note: loc(fused[\"StatefulPartitionedCall:\", \"StatefulPartitionedCall\"]): called from\n/home/victor/miniconda3/envs/tf/lib/python3.9/site-packages/tensorflow/python/saved_model/save.py:1268:0: error: failed to legalize operation 'tf.TensorListReserve' that was explicitly marked illegal\n<unknown>:0: note: loc(fused[\"StatefulPartitionedCall:\", \"StatefulPartitionedCall\"]): called from\n<unknown>:0: error: Lowering tensor list ops is failed. Please consider using Select TF ops and disabling `_experimental_lower_tensor_list_ops` flag in the TFLite converter object. For example, converter.target_spec.supported_ops = [tf.lite.OpsSet.TFLITE_BUILTINS, tf.lite.OpsSet.SELECT_TF_OPS]\\n converter._experimental_lower_tensor_list_ops = False\n"
     ]
    }
   ],
   "source": [
    "converter = tf.lite.TFLiteConverter.from_keras_model(model)\n",
    "tflite_model = converter.convert()\n",
    "\n",
    "# Save the model.\n",
    "with open('model_gru_with_dense.tflite', 'wb') as f:\n",
    "    f.write(tflite_model)"
   ]
  },
  {
   "cell_type": "code",
   "execution_count": 12,
   "id": "0c667e32",
   "metadata": {
    "ExecuteTime": {
     "end_time": "2023-02-27T23:21:21.834764Z",
     "start_time": "2023-02-27T23:21:21.503116Z"
    }
   },
   "outputs": [
    {
     "name": "stdout",
     "output_type": "stream",
     "text": [
      "dict_keys(['loss', 'accuracy', 'top-5-accuracy', 'sparse_top_k_categorical_accuracy', 'val_loss', 'val_accuracy', 'val_top-5-accuracy', 'val_sparse_top_k_categorical_accuracy'])\n"
     ]
    }
   ],
   "source": [
    "import matplotlib.pyplot as plt\n",
    "import numpy as np\n",
    "\n",
    "print(history.history.keys())"
   ]
  },
  {
   "cell_type": "code",
   "execution_count": 13,
   "id": "113b874f",
   "metadata": {
    "ExecuteTime": {
     "end_time": "2023-02-27T23:21:26.238427Z",
     "start_time": "2023-02-27T23:21:26.107203Z"
    }
   },
   "outputs": [
    {
     "data": {
      "image/png": "[encoded data removed]",
      "text/plain": [
       "<Figure size 640x480 with 1 Axes>"
      ]
     },
     "metadata": {},
     "output_type": "display_data"
    }
   ],
   "source": [
    "# summarize history for accuracy\n",
    "plt.plot(history.history['accuracy'])\n",
    "plt.plot(history.history['val_accuracy'])\n",
    "plt.title('model accuracy')\n",
    "plt.ylabel('accuracy')\n",
    "plt.xlabel('epoch')\n",
    "plt.legend(['train', 'test'], loc='upper left')\n",
    "plt.show()"
   ]
  },
  {
   "cell_type": "code",
   "execution_count": 14,
   "id": "835c5849",
   "metadata": {
    "ExecuteTime": {
     "end_time": "2023-02-27T23:21:26.312524Z",
     "start_time": "2023-02-27T23:21:26.240090Z"
    }
   },
   "outputs": [
    {
     "data": {
      "image/png": "[encoded data removed]",
      "text/plain": [
       "<Figure size 640x480 with 1 Axes>"
      ]
     },
     "metadata": {},
     "output_type": "display_data"
    }
   ],
   "source": [
    "# summarize history for loss\n",
    "plt.plot(history.history['loss'])\n",
    "plt.plot(history.history['val_loss'])\n",
    "plt.title('model loss')\n",
    "plt.ylabel('loss')\n",
    "plt.xlabel('epoch')\n",
    "plt.legend(['train', 'test'], loc='upper left')\n",
    "plt.show()"
   ]
  },
  {
   "cell_type": "code",
   "execution_count": 15,
   "id": "c79d9a56",
   "metadata": {
    "ExecuteTime": {
     "end_time": "2023-02-27T23:21:26.315904Z",
     "start_time": "2023-02-27T23:21:26.313723Z"
    },
    "code_folding": []
   },
   "outputs": [],
   "source": [
    "def get_model():\n",
    "    return model"
   ]
  },
  {
   "cell_type": "code",
   "execution_count": 16,
   "id": "3bcd5c03",
   "metadata": {
    "ExecuteTime": {
     "end_time": "2023-02-27T23:21:26.336624Z",
     "start_time": "2023-02-27T23:21:26.316906Z"
    },
    "scrolled": true
   },
   "outputs": [
    {
     "name": "stdout",
     "output_type": "stream",
     "text": [
      "Model: \"sequential\"\n",
      "_________________________________________________________________\n",
      " Layer (type)                Output Shape              Param #   \n",
      "=================================================================\n",
      " gru (GRU)                   (None, None, 128)         51072     \n",
      "                                                                 \n",
      " gru_1 (GRU)                 (None, 128)               99072     \n",
      "                                                                 \n",
      " dense (Dense)               (None, 64)                8256      \n",
      "                                                                 \n",
      " dense_1 (Dense)             (None, 32)                2080      \n",
      "                                                                 \n",
      " dense_2 (Dense)             (None, 250)               8250      \n",
      "                                                                 \n",
      "=================================================================\n",
      "Total params: 168,730\n",
      "Trainable params: 168,730\n",
      "Non-trainable params: 0\n",
      "_________________________________________________________________\n"
     ]
    }
   ],
   "source": [
    "get_model().summary()"
   ]
  },
  {
   "cell_type": "code",
   "execution_count": 17,
   "id": "98593b01",
   "metadata": {
    "ExecuteTime": {
     "end_time": "2023-02-27T23:21:26.536348Z",
     "start_time": "2023-02-27T23:21:26.338350Z"
    }
   },
   "outputs": [],
   "source": [
    "inputs = tf.keras.Input((543, 3), dtype=tf.float32, name=\"inputs\")\n",
    "x = tf.where(tf.math.is_nan(inputs), tf.zeros_like(inputs), inputs)\n",
    "x = tf.reduce_mean(x, axis=0, keepdims=True)\n",
    "\n",
    "# for i in range(1, len(model.layers)):\n",
    "x = model.layers[0](x)\n",
    "x = model.layers[1](x)\n",
    "x = model.layers[2](x)"
   ]
  },
  {
   "cell_type": "code",
   "execution_count": 18,
   "id": "14097f4c",
   "metadata": {
    "ExecuteTime": {
     "end_time": "2023-02-27T23:21:26.541355Z",
     "start_time": "2023-02-27T23:21:26.537855Z"
    }
   },
   "outputs": [],
   "source": [
    "def get_inference_model(model):\n",
    "    inputs = tf.keras.Input((543, 3), dtype=tf.float32, name=\"inputs\")\n",
    "    x = tf.where(tf.math.is_nan(inputs), tf.zeros_like(inputs), inputs)\n",
    "    x = tf.reduce_mean(x, axis=0, keepdims=True)\n",
    "    \n",
    "    for i in range(0, len(model.layers)):\n",
    "        x = model.layers[i](x)\n",
    "    output = tf.keras.layers.Activation(activation=\"linear\", name=\"outputs\")(x)\n",
    "    inference_model = tf.keras.Model(inputs=inputs, outputs=output) \n",
    "    inference_model.compile(loss=tf.keras.losses.SparseCategoricalCrossentropy(), metrics=[\"accuracy\"])\n",
    "    \n",
    "    return inference_model"
   ]
  },
  {
   "cell_type": "code",
   "execution_count": 19,
   "id": "b125786d",
   "metadata": {
    "ExecuteTime": {
     "end_time": "2023-02-27T23:21:26.782632Z",
     "start_time": "2023-02-27T23:21:26.542306Z"
    }
   },
   "outputs": [
    {
     "name": "stdout",
     "output_type": "stream",
     "text": [
      "Model: \"model\"\n",
      "__________________________________________________________________________________________________\n",
      " Layer (type)                   Output Shape         Param #     Connected to                     \n",
      "==================================================================================================\n",
      " inputs (InputLayer)            [(None, 543, 3)]     0           []                               \n",
      "                                                                                                  \n",
      " tf.math.is_nan_1 (TFOpLambda)  (None, 543, 3)       0           ['inputs[0][0]']                 \n",
      "                                                                                                  \n",
      " tf.zeros_like_1 (TFOpLambda)   (None, 543, 3)       0           ['inputs[0][0]']                 \n",
      "                                                                                                  \n",
      " tf.where_1 (TFOpLambda)        (None, 543, 3)       0           ['tf.math.is_nan_1[0][0]',       \n",
      "                                                                  'tf.zeros_like_1[0][0]',        \n",
      "                                                                  'inputs[0][0]']                 \n",
      "                                                                                                  \n",
      " tf.math.reduce_mean_1 (TFOpLam  (1, 543, 3)         0           ['tf.where_1[0][0]']             \n",
      " bda)                                                                                             \n",
      "                                                                                                  \n",
      " gru (GRU)                      multiple             51072       ['tf.math.reduce_mean_1[0][0]']  \n",
      "                                                                                                  \n",
      " gru_1 (GRU)                    multiple             99072       ['gru[2][0]']                    \n",
      "                                                                                                  \n",
      " dense (Dense)                  multiple             8256        ['gru_1[2][0]']                  \n",
      "                                                                                                  \n",
      " dense_1 (Dense)                multiple             2080        ['dense[2][0]']                  \n",
      "                                                                                                  \n",
      " dense_2 (Dense)                multiple             8250        ['dense_1[1][0]']                \n",
      "                                                                                                  \n",
      " outputs (Activation)           (1, 250)             0           ['dense_2[1][0]']                \n",
      "                                                                                                  \n",
      "==================================================================================================\n",
      "Total params: 168,730\n",
      "Trainable params: 168,730\n",
      "Non-trainable params: 0\n",
      "__________________________________________________________________________________________________\n"
     ]
    }
   ],
   "source": [
    "inference_model = get_inference_model(model)\n",
    "inference_model.summary()"
   ]
  },
  {
   "cell_type": "code",
   "execution_count": 20,
   "id": "2440704d",
   "metadata": {
    "ExecuteTime": {
     "end_time": "2023-02-27T23:21:33.554716Z",
     "start_time": "2023-02-27T23:21:26.784042Z"
    }
   },
   "outputs": [
    {
     "name": "stderr",
     "output_type": "stream",
     "text": [
      "WARNING:absl:Found untraced functions such as gru_cell_layer_call_fn, gru_cell_layer_call_and_return_conditional_losses, gru_cell_1_layer_call_fn, gru_cell_1_layer_call_and_return_conditional_losses while saving (showing 4 of 4). These functions will not be directly callable after loading.\n"
     ]
    },
    {
     "name": "stdout",
     "output_type": "stream",
     "text": [
      "INFO:tensorflow:Assets written to: /tmp/tmptj63afra/assets\n"
     ]
    },
    {
     "name": "stderr",
     "output_type": "stream",
     "text": [
      "INFO:tensorflow:Assets written to: /tmp/tmptj63afra/assets\n",
      "2023-02-27 15:21:33.005121: W tensorflow/compiler/mlir/lite/python/tf_tfl_flatbuffer_helpers.cc:362] Ignored output_format.\n",
      "2023-02-27 15:21:33.005167: W tensorflow/compiler/mlir/lite/python/tf_tfl_flatbuffer_helpers.cc:365] Ignored drop_control_dependency.\n",
      "2023-02-27 15:21:33.005331: I tensorflow/cc/saved_model/reader.cc:45] Reading SavedModel from: /tmp/tmptj63afra\n",
      "2023-02-27 15:21:33.015277: I tensorflow/cc/saved_model/reader.cc:89] Reading meta graph with tags { serve }\n",
      "2023-02-27 15:21:33.015304: I tensorflow/cc/saved_model/reader.cc:130] Reading SavedModel debug info (if present) from: /tmp/tmptj63afra\n",
      "2023-02-27 15:21:33.051774: I tensorflow/cc/saved_model/loader.cc:229] Restoring SavedModel bundle.\n",
      "2023-02-27 15:21:33.120773: I tensorflow/cc/saved_model/loader.cc:213] Running initialization op on SavedModel bundle at path: /tmp/tmptj63afra\n",
      "2023-02-27 15:21:33.172706: I tensorflow/cc/saved_model/loader.cc:305] SavedModel load for tags { serve }; Status: success: OK. Took 167373 microseconds.\n",
      "2023-02-27 15:21:33.471476: I tensorflow/compiler/mlir/lite/flatbuffer_export.cc:1989] Estimated count of arithmetic ops: 0.403 M  ops, equivalently 0.201 M  MACs\n",
      "\n"
     ]
    }
   ],
   "source": [
    "converter = tf.lite.TFLiteConverter.from_keras_model(inference_model)\n",
    "tflite_model = converter.convert()\n",
    "model_path = \"model.tflite\"\n",
    "# Save the model.\n",
    "with open(model_path, 'wb') as f:\n",
    "    f.write(tflite_model)"
   ]
  },
  {
   "cell_type": "code",
   "execution_count": 21,
   "id": "5c62ba46",
   "metadata": {
    "ExecuteTime": {
     "end_time": "2023-02-27T23:21:36.518663Z",
     "start_time": "2023-02-27T23:21:33.556208Z"
    },
    "scrolled": true
   },
   "outputs": [
    {
     "name": "stderr",
     "output_type": "stream",
     "text": [
      "100%|█████████████████████████████████████████████████████████████████████████████| 100/100 [00:02<00:00, 33.88it/s]\n"
     ]
    }
   ],
   "source": [
    "import tflite_runtime.interpreter as tflite\n",
    "interpreter = tflite.Interpreter(model_path)\n",
    "found_signatures = list(interpreter.get_signature_list().keys())\n",
    "prediction_fn = interpreter.get_signature_runner(\"serving_default\")\n",
    "corr = 0\n",
    "wrong = []\n",
    "for i in tqdm(range(100)):\n",
    "    frames = load_relevant_data_subset(f'../{train.iloc[i].path}')\n",
    "    output = prediction_fn(inputs=frames)\n",
    "    sign = np.argmax(output[\"outputs\"])\n",
    "    if index_label[sign] == train.iloc[i].sign:\n",
    "        corr += 1\n",
    "    else:\n",
    "        wrong.append((index_label[sign], train.iloc[i].sign, train.iloc[i].path))\n",
    "\n",
    "    #     print(f\"Predicted label: {index_label[sign]}, Actual Label: {train.iloc[i].sign}\")\n",
    "\n",
    "\n",
    "    total = i"
   ]
  },
  {
   "cell_type": "code",
   "execution_count": 22,
   "id": "2ea52da4",
   "metadata": {
    "ExecuteTime": {
     "end_time": "2023-02-27T23:21:36.523288Z",
     "start_time": "2023-02-27T23:21:36.520152Z"
    }
   },
   "outputs": [
    {
     "name": "stdout",
     "output_type": "stream",
     "text": [
      "\n",
      "total=99\n",
      "corr=56\t Percent: 56.565657%\n",
      "\n"
     ]
    }
   ],
   "source": [
    "r = f'''\n",
    "{total=}\n",
    "{corr=}\\t Percent: {corr/total:%}\n",
    "'''\n",
    "print(r)"
   ]
  },
  {
   "cell_type": "code",
   "execution_count": 23,
   "id": "08905e36",
   "metadata": {
    "ExecuteTime": {
     "end_time": "2023-02-27T23:21:36.547350Z",
     "start_time": "2023-02-27T23:21:36.524383Z"
    }
   },
   "outputs": [
    {
     "data": {
      "text/html": [
       "<div>\n",
       "<style scoped>\n",
       "    .dataframe tbody tr th:only-of-type {\n",
       "        vertical-align: middle;\n",
       "    }\n",
       "\n",
       "    .dataframe tbody tr th {\n",
       "        vertical-align: top;\n",
       "    }\n",
       "\n",
       "    .dataframe thead th {\n",
       "        text-align: right;\n",
       "    }\n",
       "</style>\n",
       "<table border=\"1\" class=\"dataframe\">\n",
       "  <thead>\n",
       "    <tr style=\"text-align: right;\">\n",
       "      <th></th>\n",
       "      <th>pred</th>\n",
       "      <th>true</th>\n",
       "      <th>path</th>\n",
       "    </tr>\n",
       "  </thead>\n",
       "  <tbody>\n",
       "    <tr>\n",
       "      <th>20</th>\n",
       "      <td>find</td>\n",
       "      <td>1</td>\n",
       "      <td>1</td>\n",
       "    </tr>\n",
       "    <tr>\n",
       "      <th>22</th>\n",
       "      <td>happy</td>\n",
       "      <td>1</td>\n",
       "      <td>1</td>\n",
       "    </tr>\n",
       "    <tr>\n",
       "      <th>23</th>\n",
       "      <td>hide</td>\n",
       "      <td>1</td>\n",
       "      <td>1</td>\n",
       "    </tr>\n",
       "    <tr>\n",
       "      <th>24</th>\n",
       "      <td>jacket</td>\n",
       "      <td>1</td>\n",
       "      <td>1</td>\n",
       "    </tr>\n",
       "    <tr>\n",
       "      <th>25</th>\n",
       "      <td>jeans</td>\n",
       "      <td>1</td>\n",
       "      <td>1</td>\n",
       "    </tr>\n",
       "    <tr>\n",
       "      <th>27</th>\n",
       "      <td>make</td>\n",
       "      <td>1</td>\n",
       "      <td>1</td>\n",
       "    </tr>\n",
       "    <tr>\n",
       "      <th>28</th>\n",
       "      <td>man</td>\n",
       "      <td>1</td>\n",
       "      <td>1</td>\n",
       "    </tr>\n",
       "    <tr>\n",
       "      <th>29</th>\n",
       "      <td>mouse</td>\n",
       "      <td>1</td>\n",
       "      <td>1</td>\n",
       "    </tr>\n",
       "    <tr>\n",
       "      <th>30</th>\n",
       "      <td>nap</td>\n",
       "      <td>1</td>\n",
       "      <td>1</td>\n",
       "    </tr>\n",
       "    <tr>\n",
       "      <th>31</th>\n",
       "      <td>night</td>\n",
       "      <td>1</td>\n",
       "      <td>1</td>\n",
       "    </tr>\n",
       "    <tr>\n",
       "      <th>32</th>\n",
       "      <td>not</td>\n",
       "      <td>1</td>\n",
       "      <td>1</td>\n",
       "    </tr>\n",
       "    <tr>\n",
       "      <th>33</th>\n",
       "      <td>shoe</td>\n",
       "      <td>1</td>\n",
       "      <td>1</td>\n",
       "    </tr>\n",
       "    <tr>\n",
       "      <th>34</th>\n",
       "      <td>snow</td>\n",
       "      <td>1</td>\n",
       "      <td>1</td>\n",
       "    </tr>\n",
       "    <tr>\n",
       "      <th>35</th>\n",
       "      <td>there</td>\n",
       "      <td>1</td>\n",
       "      <td>1</td>\n",
       "    </tr>\n",
       "    <tr>\n",
       "      <th>36</th>\n",
       "      <td>tree</td>\n",
       "      <td>1</td>\n",
       "      <td>1</td>\n",
       "    </tr>\n",
       "    <tr>\n",
       "      <th>37</th>\n",
       "      <td>vacuum</td>\n",
       "      <td>1</td>\n",
       "      <td>1</td>\n",
       "    </tr>\n",
       "    <tr>\n",
       "      <th>38</th>\n",
       "      <td>wet</td>\n",
       "      <td>1</td>\n",
       "      <td>1</td>\n",
       "    </tr>\n",
       "    <tr>\n",
       "      <th>39</th>\n",
       "      <td>wolf</td>\n",
       "      <td>1</td>\n",
       "      <td>1</td>\n",
       "    </tr>\n",
       "    <tr>\n",
       "      <th>21</th>\n",
       "      <td>hair</td>\n",
       "      <td>1</td>\n",
       "      <td>1</td>\n",
       "    </tr>\n",
       "    <tr>\n",
       "      <th>40</th>\n",
       "      <td>yes</td>\n",
       "      <td>1</td>\n",
       "      <td>1</td>\n",
       "    </tr>\n",
       "    <tr>\n",
       "      <th>41</th>\n",
       "      <td>zebra</td>\n",
       "      <td>1</td>\n",
       "      <td>1</td>\n",
       "    </tr>\n",
       "    <tr>\n",
       "      <th>18</th>\n",
       "      <td>farm</td>\n",
       "      <td>1</td>\n",
       "      <td>1</td>\n",
       "    </tr>\n",
       "    <tr>\n",
       "      <th>1</th>\n",
       "      <td>any</td>\n",
       "      <td>1</td>\n",
       "      <td>1</td>\n",
       "    </tr>\n",
       "    <tr>\n",
       "      <th>2</th>\n",
       "      <td>apple</td>\n",
       "      <td>1</td>\n",
       "      <td>1</td>\n",
       "    </tr>\n",
       "    <tr>\n",
       "      <th>3</th>\n",
       "      <td>bath</td>\n",
       "      <td>1</td>\n",
       "      <td>1</td>\n",
       "    </tr>\n",
       "    <tr>\n",
       "      <th>4</th>\n",
       "      <td>boy</td>\n",
       "      <td>1</td>\n",
       "      <td>1</td>\n",
       "    </tr>\n",
       "    <tr>\n",
       "      <th>5</th>\n",
       "      <td>brown</td>\n",
       "      <td>1</td>\n",
       "      <td>1</td>\n",
       "    </tr>\n",
       "    <tr>\n",
       "      <th>6</th>\n",
       "      <td>callonphone</td>\n",
       "      <td>1</td>\n",
       "      <td>1</td>\n",
       "    </tr>\n",
       "    <tr>\n",
       "      <th>7</th>\n",
       "      <td>car</td>\n",
       "      <td>1</td>\n",
       "      <td>1</td>\n",
       "    </tr>\n",
       "    <tr>\n",
       "      <th>8</th>\n",
       "      <td>cereal</td>\n",
       "      <td>1</td>\n",
       "      <td>1</td>\n",
       "    </tr>\n",
       "    <tr>\n",
       "      <th>19</th>\n",
       "      <td>fast</td>\n",
       "      <td>1</td>\n",
       "      <td>1</td>\n",
       "    </tr>\n",
       "    <tr>\n",
       "      <th>9</th>\n",
       "      <td>chair</td>\n",
       "      <td>1</td>\n",
       "      <td>1</td>\n",
       "    </tr>\n",
       "    <tr>\n",
       "      <th>11</th>\n",
       "      <td>child</td>\n",
       "      <td>1</td>\n",
       "      <td>1</td>\n",
       "    </tr>\n",
       "    <tr>\n",
       "      <th>12</th>\n",
       "      <td>chin</td>\n",
       "      <td>1</td>\n",
       "      <td>1</td>\n",
       "    </tr>\n",
       "    <tr>\n",
       "      <th>13</th>\n",
       "      <td>dirty</td>\n",
       "      <td>1</td>\n",
       "      <td>1</td>\n",
       "    </tr>\n",
       "    <tr>\n",
       "      <th>14</th>\n",
       "      <td>dog</td>\n",
       "      <td>1</td>\n",
       "      <td>1</td>\n",
       "    </tr>\n",
       "    <tr>\n",
       "      <th>15</th>\n",
       "      <td>donkey</td>\n",
       "      <td>1</td>\n",
       "      <td>1</td>\n",
       "    </tr>\n",
       "    <tr>\n",
       "      <th>16</th>\n",
       "      <td>drop</td>\n",
       "      <td>1</td>\n",
       "      <td>1</td>\n",
       "    </tr>\n",
       "    <tr>\n",
       "      <th>17</th>\n",
       "      <td>ear</td>\n",
       "      <td>1</td>\n",
       "      <td>1</td>\n",
       "    </tr>\n",
       "    <tr>\n",
       "      <th>10</th>\n",
       "      <td>cheek</td>\n",
       "      <td>1</td>\n",
       "      <td>1</td>\n",
       "    </tr>\n",
       "    <tr>\n",
       "      <th>26</th>\n",
       "      <td>lamp</td>\n",
       "      <td>2</td>\n",
       "      <td>2</td>\n",
       "    </tr>\n",
       "    <tr>\n",
       "      <th>0</th>\n",
       "      <td>TV</td>\n",
       "      <td>2</td>\n",
       "      <td>2</td>\n",
       "    </tr>\n",
       "  </tbody>\n",
       "</table>\n",
       "</div>"
      ],
      "text/plain": [
       "           pred  true  path\n",
       "20         find     1     1\n",
       "22        happy     1     1\n",
       "23         hide     1     1\n",
       "24       jacket     1     1\n",
       "25        jeans     1     1\n",
       "27         make     1     1\n",
       "28          man     1     1\n",
       "29        mouse     1     1\n",
       "30          nap     1     1\n",
       "31        night     1     1\n",
       "32          not     1     1\n",
       "33         shoe     1     1\n",
       "34         snow     1     1\n",
       "35        there     1     1\n",
       "36         tree     1     1\n",
       "37       vacuum     1     1\n",
       "38          wet     1     1\n",
       "39         wolf     1     1\n",
       "21         hair     1     1\n",
       "40          yes     1     1\n",
       "41        zebra     1     1\n",
       "18         farm     1     1\n",
       "1           any     1     1\n",
       "2         apple     1     1\n",
       "3          bath     1     1\n",
       "4           boy     1     1\n",
       "5         brown     1     1\n",
       "6   callonphone     1     1\n",
       "7           car     1     1\n",
       "8        cereal     1     1\n",
       "19         fast     1     1\n",
       "9         chair     1     1\n",
       "11        child     1     1\n",
       "12         chin     1     1\n",
       "13        dirty     1     1\n",
       "14          dog     1     1\n",
       "15       donkey     1     1\n",
       "16         drop     1     1\n",
       "17          ear     1     1\n",
       "10        cheek     1     1\n",
       "26         lamp     2     2\n",
       "0            TV     2     2"
      ]
     },
     "execution_count": 23,
     "metadata": {},
     "output_type": "execute_result"
    }
   ],
   "source": [
    "wrongs = pd.DataFrame(data=wrong, columns=['pred','true','path'])\n",
    "wrongs.groupby('pred').count().reset_index().sort_values('true')"
   ]
  }
 ],
 "metadata": {
  "kernelspec": {
   "display_name": "Python 3 (ipykernel)",
   "language": "python",
   "name": "python3"
  },
  "language_info": {
   "codemirror_mode": {
    "name": "ipython",
    "version": 3
   },
   "file_extension": ".py",
   "mimetype": "text/x-python",
   "name": "python",
   "nbconvert_exporter": "python",
   "pygments_lexer": "ipython3",
   "version": "3.9.15"
  },
  "toc": {
   "base_numbering": 1,
   "nav_menu": {},
   "number_sections": true,
   "sideBar": true,
   "skip_h1_title": false,
   "title_cell": "Table of Contents",
   "title_sidebar": "Contents",
   "toc_cell": false,
   "toc_position": {},
   "toc_section_display": true,
   "toc_window_display": false
  }
 },
 "nbformat": 4,
 "nbformat_minor": 5
}
