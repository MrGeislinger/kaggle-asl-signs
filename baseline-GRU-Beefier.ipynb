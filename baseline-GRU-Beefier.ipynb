{
 "cells": [
  {
   "cell_type": "markdown",
   "id": "e4c8a3c0",
   "metadata": {},
   "source": [
    "Baseline_TF\n",
    "https://www.kaggle.com/code/ivaneleskin/baseline-tf"
   ]
  },
  {
   "cell_type": "code",
   "execution_count": 1,
   "id": "743607ba",
   "metadata": {
    "ExecuteTime": {
     "end_time": "2023-02-28T05:14:13.417857Z",
     "start_time": "2023-02-28T05:14:11.801465Z"
    }
   },
   "outputs": [
    {
     "name": "stderr",
     "output_type": "stream",
     "text": [
      "2023-02-27 21:14:12.082018: I tensorflow/core/platform/cpu_feature_guard.cc:193] This TensorFlow binary is optimized with oneAPI Deep Neural Network Library (oneDNN) to use the following CPU instructions in performance-critical operations:  AVX2 FMA\n",
      "To enable them in other operations, rebuild TensorFlow with the appropriate compiler flags.\n",
      "2023-02-27 21:14:12.227952: E tensorflow/stream_executor/cuda/cuda_blas.cc:2981] Unable to register cuBLAS factory: Attempting to register factory for plugin cuBLAS when one has already been registered\n",
      "2023-02-27 21:14:12.683478: W tensorflow/stream_executor/platform/default/dso_loader.cc:64] Could not load dynamic library 'libnvinfer.so.7'; dlerror: libnvinfer.so.7: cannot open shared object file: No such file or directory; LD_LIBRARY_PATH: :/home/victor/miniconda3/envs/tf/lib/:/home/victor/miniconda3/envs/tf/lib/:/home/victor/miniconda3/envs/tf/lib/:/home/victor/miniconda3/envs/tf/lib/\n",
      "2023-02-27 21:14:12.683540: W tensorflow/stream_executor/platform/default/dso_loader.cc:64] Could not load dynamic library 'libnvinfer_plugin.so.7'; dlerror: libnvinfer_plugin.so.7: cannot open shared object file: No such file or directory; LD_LIBRARY_PATH: :/home/victor/miniconda3/envs/tf/lib/:/home/victor/miniconda3/envs/tf/lib/:/home/victor/miniconda3/envs/tf/lib/:/home/victor/miniconda3/envs/tf/lib/\n",
      "2023-02-27 21:14:12.683545: W tensorflow/compiler/tf2tensorrt/utils/py_utils.cc:38] TF-TRT Warning: Cannot dlopen some TensorRT libraries. If you would like to use Nvidia GPU with TensorRT, please make sure the missing libraries mentioned above are installed properly.\n"
     ]
    }
   ],
   "source": [
    "import os\n",
    "import json\n",
    "import numpy as np\n",
    "import pandas as pd\n",
    "from tqdm import tqdm\n",
    "import tensorflow as tf\n",
    "from tqdm import tqdm\n",
    "import json\n",
    "import gc\n",
    "from sklearn.model_selection import train_test_split\n",
    "# import missingno as msno\n",
    "\n",
    "from pathlib import Path"
   ]
  },
  {
   "cell_type": "code",
   "execution_count": 2,
   "id": "3ee4aeb4",
   "metadata": {
    "ExecuteTime": {
     "end_time": "2023-02-28T05:14:13.508182Z",
     "start_time": "2023-02-28T05:14:13.419492Z"
    }
   },
   "outputs": [
    {
     "name": "stdout",
     "output_type": "stream",
     "text": [
      "train.shape = 94477 rows, 4 cols\n",
      "<class 'pandas.core.frame.DataFrame'>\n",
      "RangeIndex: 94477 entries, 0 to 94476\n",
      "Data columns (total 4 columns):\n",
      " #   Column          Non-Null Count  Dtype \n",
      "---  ------          --------------  ----- \n",
      " 0   path            94477 non-null  object\n",
      " 1   participant_id  94477 non-null  int64 \n",
      " 2   sequence_id     94477 non-null  int64 \n",
      " 3   sign            94477 non-null  object\n",
      "dtypes: int64(2), object(2)\n",
      "memory usage: 2.9+ MB\n"
     ]
    },
    {
     "data": {
      "text/html": [
       "<div>\n",
       "<style scoped>\n",
       "    .dataframe tbody tr th:only-of-type {\n",
       "        vertical-align: middle;\n",
       "    }\n",
       "\n",
       "    .dataframe tbody tr th {\n",
       "        vertical-align: top;\n",
       "    }\n",
       "\n",
       "    .dataframe thead th {\n",
       "        text-align: right;\n",
       "    }\n",
       "</style>\n",
       "<table border=\"1\" class=\"dataframe\">\n",
       "  <thead>\n",
       "    <tr style=\"text-align: right;\">\n",
       "      <th></th>\n",
       "      <th>path</th>\n",
       "      <th>participant_id</th>\n",
       "      <th>sequence_id</th>\n",
       "      <th>sign</th>\n",
       "    </tr>\n",
       "  </thead>\n",
       "  <tbody>\n",
       "    <tr>\n",
       "      <th>0</th>\n",
       "      <td>train_landmark_files/26734/1000035562.parquet</td>\n",
       "      <td>26734</td>\n",
       "      <td>1000035562</td>\n",
       "      <td>blow</td>\n",
       "    </tr>\n",
       "    <tr>\n",
       "      <th>1</th>\n",
       "      <td>train_landmark_files/28656/1000106739.parquet</td>\n",
       "      <td>28656</td>\n",
       "      <td>1000106739</td>\n",
       "      <td>wait</td>\n",
       "    </tr>\n",
       "    <tr>\n",
       "      <th>2</th>\n",
       "      <td>train_landmark_files/16069/100015657.parquet</td>\n",
       "      <td>16069</td>\n",
       "      <td>100015657</td>\n",
       "      <td>cloud</td>\n",
       "    </tr>\n",
       "    <tr>\n",
       "      <th>3</th>\n",
       "      <td>train_landmark_files/25571/1000210073.parquet</td>\n",
       "      <td>25571</td>\n",
       "      <td>1000210073</td>\n",
       "      <td>bird</td>\n",
       "    </tr>\n",
       "    <tr>\n",
       "      <th>4</th>\n",
       "      <td>train_landmark_files/62590/1000240708.parquet</td>\n",
       "      <td>62590</td>\n",
       "      <td>1000240708</td>\n",
       "      <td>owie</td>\n",
       "    </tr>\n",
       "  </tbody>\n",
       "</table>\n",
       "</div>"
      ],
      "text/plain": [
       "                                            path  participant_id  sequence_id  \\\n",
       "0  train_landmark_files/26734/1000035562.parquet           26734   1000035562   \n",
       "1  train_landmark_files/28656/1000106739.parquet           28656   1000106739   \n",
       "2   train_landmark_files/16069/100015657.parquet           16069    100015657   \n",
       "3  train_landmark_files/25571/1000210073.parquet           25571   1000210073   \n",
       "4  train_landmark_files/62590/1000240708.parquet           62590   1000240708   \n",
       "\n",
       "    sign  \n",
       "0   blow  \n",
       "1   wait  \n",
       "2  cloud  \n",
       "3   bird  \n",
       "4   owie  "
      ]
     },
     "execution_count": 2,
     "metadata": {},
     "output_type": "execute_result"
    }
   ],
   "source": [
    "DATA_ROOT = Path('..')\n",
    "DF_TRAIN = DATA_ROOT / 'train.csv'\n",
    "train = pd.read_csv(DF_TRAIN)\n",
    "\n",
    "print(\"train.shape = {} rows, {} cols\".format(*train.shape))\n",
    "train.info()\n",
    "train.head()\n"
   ]
  },
  {
   "cell_type": "code",
   "execution_count": 3,
   "id": "11726f4f",
   "metadata": {
    "ExecuteTime": {
     "end_time": "2023-02-28T05:14:13.513937Z",
     "start_time": "2023-02-28T05:14:13.509569Z"
    }
   },
   "outputs": [],
   "source": [
    "class CFG:\n",
    "    data_path = \"../\"\n",
    "    quick_experiment = False\n",
    "    is_training = True\n",
    "    use_aggregation_dataset = True\n",
    "    num_classes = 250\n",
    "    rows_per_frame = 543 \n",
    "\n",
    "def load_relevant_data_subset_with_imputation(pq_path):\n",
    "    data_columns = ['x', 'y', 'z']\n",
    "    data = pd.read_parquet(pq_path, columns=data_columns)\n",
    "    data.replace(np.nan, 0, inplace=True)\n",
    "    n_frames = int(len(data) / CFG.rows_per_frame)\n",
    "    data = data.values.reshape(n_frames, CFG.rows_per_frame, len(data_columns))\n",
    "    return data.astype(np.float32)\n",
    "\n",
    "def load_relevant_data_subset(pq_path):\n",
    "    data_columns = ['x', 'y', 'z']\n",
    "    data = pd.read_parquet(pq_path, columns=data_columns)\n",
    "    n_frames = int(len(data) / CFG.rows_per_frame)\n",
    "    data = data.values.reshape(n_frames, CFG.rows_per_frame, len(data_columns))\n",
    "    return data.astype(np.float32)\n",
    "\n",
    "def read_dict(file_path):\n",
    "    path = os.path.expanduser(file_path)\n",
    "    with open(path, \"r\") as f:\n",
    "        dic = json.load(f)\n",
    "    return dic"
   ]
  },
  {
   "cell_type": "code",
   "execution_count": 4,
   "id": "150fc1bc",
   "metadata": {
    "ExecuteTime": {
     "end_time": "2023-02-28T05:14:13.609475Z",
     "start_time": "2023-02-28T05:14:13.515016Z"
    }
   },
   "outputs": [],
   "source": [
    "train = pd.read_csv(f\"{CFG.data_path}train.csv\")\n",
    "label_index = read_dict(f\"{CFG.data_path}sign_to_prediction_index_map.json\")\n",
    "index_label = {label_index[key]: key for key in label_index}\n",
    "train[\"label\"] = train[\"sign\"].map(lambda sign: label_index[sign])"
   ]
  },
  {
   "cell_type": "code",
   "execution_count": 5,
   "id": "fda181c9",
   "metadata": {
    "ExecuteTime": {
     "end_time": "2023-02-28T05:14:13.740354Z",
     "start_time": "2023-02-28T05:14:13.611531Z"
    }
   },
   "outputs": [
    {
     "name": "stdout",
     "output_type": "stream",
     "text": [
      "True\n",
      "(94477, 543, 3) (94477,)\n"
     ]
    }
   ],
   "source": [
    "if CFG.is_training:\n",
    "    print('True')\n",
    "#     if CFG.use_aggregation_dataset == True:\n",
    "    try:\n",
    "        X=  np.load('X_3d.npy')\n",
    "        y= np.load('y_3d.npy')\n",
    "    except:\n",
    "        print('True')\n",
    "        xs, ys = [], []\n",
    "        num_frames = np.zeros(len(train))\n",
    "        for i in tqdm(range(len(train))):\n",
    "            path = f\"{CFG.data_path}{train.iloc[i].path}\"\n",
    "            data = load_relevant_data_subset_with_imputation(path)\n",
    "            ## Mean Aggregation\n",
    "            xs.append(np.mean(data, axis=0))\n",
    "            ys.append(train.iloc[i].label)\n",
    "            num_frames[i] = data.shape[0]\n",
    "            if CFG.quick_experiment and i == 4999:\n",
    "                break\n",
    "        ## Save number of frames of each training sample for data analysis\n",
    "        train[\"num_frames\"] = num_frames\n",
    "        X, y = np.array(xs), np.array(ys)\n",
    "        print(train[\"num_frames\"].describe())\n",
    "        train.to_csv(\"train.csv\", index=False)\n",
    "        np.save('X_3d.npy', X)\n",
    "        np.save('y_3d.npy', y)\n",
    "\n",
    "    print(X.shape, y.shape)"
   ]
  },
  {
   "cell_type": "code",
   "execution_count": 6,
   "id": "54421556",
   "metadata": {
    "ExecuteTime": {
     "end_time": "2023-02-28T05:14:14.890697Z",
     "start_time": "2023-02-28T05:14:13.741748Z"
    },
    "scrolled": true
   },
   "outputs": [
    {
     "name": "stderr",
     "output_type": "stream",
     "text": [
      "2023-02-27 21:14:13.764920: I tensorflow/stream_executor/cuda/cuda_gpu_executor.cc:980] successful NUMA node read from SysFS had negative value (-1), but there must be at least one NUMA node, so returning NUMA node zero\n",
      "2023-02-27 21:14:13.768856: I tensorflow/stream_executor/cuda/cuda_gpu_executor.cc:980] successful NUMA node read from SysFS had negative value (-1), but there must be at least one NUMA node, so returning NUMA node zero\n",
      "2023-02-27 21:14:13.769021: I tensorflow/stream_executor/cuda/cuda_gpu_executor.cc:980] successful NUMA node read from SysFS had negative value (-1), but there must be at least one NUMA node, so returning NUMA node zero\n",
      "2023-02-27 21:14:13.769626: I tensorflow/core/platform/cpu_feature_guard.cc:193] This TensorFlow binary is optimized with oneAPI Deep Neural Network Library (oneDNN) to use the following CPU instructions in performance-critical operations:  AVX2 FMA\n",
      "To enable them in other operations, rebuild TensorFlow with the appropriate compiler flags.\n",
      "2023-02-27 21:14:13.772654: I tensorflow/stream_executor/cuda/cuda_gpu_executor.cc:980] successful NUMA node read from SysFS had negative value (-1), but there must be at least one NUMA node, so returning NUMA node zero\n",
      "2023-02-27 21:14:13.772802: I tensorflow/stream_executor/cuda/cuda_gpu_executor.cc:980] successful NUMA node read from SysFS had negative value (-1), but there must be at least one NUMA node, so returning NUMA node zero\n",
      "2023-02-27 21:14:13.772929: I tensorflow/stream_executor/cuda/cuda_gpu_executor.cc:980] successful NUMA node read from SysFS had negative value (-1), but there must be at least one NUMA node, so returning NUMA node zero\n",
      "2023-02-27 21:14:14.169072: I tensorflow/stream_executor/cuda/cuda_gpu_executor.cc:980] successful NUMA node read from SysFS had negative value (-1), but there must be at least one NUMA node, so returning NUMA node zero\n",
      "2023-02-27 21:14:14.169271: I tensorflow/stream_executor/cuda/cuda_gpu_executor.cc:980] successful NUMA node read from SysFS had negative value (-1), but there must be at least one NUMA node, so returning NUMA node zero\n",
      "2023-02-27 21:14:14.169413: I tensorflow/stream_executor/cuda/cuda_gpu_executor.cc:980] successful NUMA node read from SysFS had negative value (-1), but there must be at least one NUMA node, so returning NUMA node zero\n",
      "2023-02-27 21:14:14.169530: I tensorflow/core/common_runtime/gpu/gpu_device.cc:1616] Created device /job:localhost/replica:0/task:0/device:GPU:0 with 21886 MB memory:  -> device: 0, name: NVIDIA GeForce RTX 3090 Ti, pci bus id: 0000:01:00.0, compute capability: 8.6\n"
     ]
    }
   ],
   "source": [
    "model = tf.keras.Sequential([\n",
    "    tf.keras.layers.GRU(512, return_sequences=True, input_shape=[None,3]),\n",
    "    tf.keras.layers.GRU(512),\n",
    "    tf.keras.layers.Dense(256, activation=\"relu\"),\n",
    "    tf.keras.layers.Dropout(0.4),\n",
    "    tf.keras.layers.Dense(128, activation=\"relu\"),\n",
    "    tf.keras.layers.Dense(128, activation=\"relu\"),\n",
    "    tf.keras.layers.Dropout(0.4),\n",
    "    tf.keras.layers.Dense(64, activation=\"relu\"),\n",
    "    tf.keras.layers.Dropout(0.2),\n",
    "    tf.keras.layers.Dense(64, activation=\"relu\"),\n",
    "    tf.keras.layers.Flatten(),\n",
    "    tf.keras.layers.Dense(250, activation=\"softmax\"),\n",
    "])\n",
    "\n",
    "model.compile(\n",
    "    loss=tf.keras.losses.SparseCategoricalCrossentropy(), \n",
    "    optimizer='adam',\n",
    "    metrics=[\n",
    "        \"accuracy\",\n",
    "        tf.keras.metrics.SparseTopKCategoricalAccuracy(k=5, name=\"top-05-acc\"),\n",
    "        tf.keras.metrics.SparseTopKCategoricalAccuracy(k=10, name=\"top-10-acc\"),\n",
    "    ]\n",
    ")"
   ]
  },
  {
   "cell_type": "code",
   "execution_count": 7,
   "id": "28309e83",
   "metadata": {
    "ExecuteTime": {
     "end_time": "2023-02-28T05:57:46.380460Z",
     "start_time": "2023-02-28T05:14:14.892263Z"
    },
    "scrolled": true
   },
   "outputs": [
    {
     "name": "stdout",
     "output_type": "stream",
     "text": [
      "(75581, 543, 3) (75581,) (18896, 543, 3) (18896,)\n",
      "Epoch 1/120\n"
     ]
    },
    {
     "name": "stderr",
     "output_type": "stream",
     "text": [
      "2023-02-27 21:14:17.631535: I tensorflow/stream_executor/cuda/cuda_dnn.cc:384] Loaded cuDNN version 8100\n",
      "2023-02-27 21:14:18.376054: I tensorflow/stream_executor/cuda/cuda_blas.cc:1614] TensorFloat-32 will be used for the matrix multiplication. This will only be logged once.\n"
     ]
    },
    {
     "name": "stdout",
     "output_type": "stream",
     "text": [
      "148/148 [==============================] - 35s 220ms/step - loss: 5.4936 - accuracy: 0.0044 - top-05-acc: 0.0229 - top-10-acc: 0.0448 - val_loss: 5.4585 - val_accuracy: 0.0059 - val_top-05-acc: 0.0303 - val_top-10-acc: 0.0588\n",
      "Epoch 2/120\n",
      "148/148 [==============================] - 33s 222ms/step - loss: 5.4166 - accuracy: 0.0060 - top-05-acc: 0.0303 - top-10-acc: 0.0606 - val_loss: 5.3310 - val_accuracy: 0.0061 - val_top-05-acc: 0.0312 - val_top-10-acc: 0.0640\n",
      "Epoch 3/120\n",
      "148/148 [==============================] - 33s 223ms/step - loss: 5.2689 - accuracy: 0.0099 - top-05-acc: 0.0464 - top-10-acc: 0.0885 - val_loss: 5.1186 - val_accuracy: 0.0165 - val_top-05-acc: 0.0692 - val_top-10-acc: 0.1303\n",
      "Epoch 4/120\n",
      "148/148 [==============================] - 33s 222ms/step - loss: 5.0576 - accuracy: 0.0173 - top-05-acc: 0.0795 - top-10-acc: 0.1458 - val_loss: 4.9886 - val_accuracy: 0.0268 - val_top-05-acc: 0.1016 - val_top-10-acc: 0.1683\n",
      "Epoch 5/120\n",
      "148/148 [==============================] - 33s 222ms/step - loss: 4.9200 - accuracy: 0.0267 - top-05-acc: 0.1117 - top-10-acc: 0.1930 - val_loss: 4.7838 - val_accuracy: 0.0418 - val_top-05-acc: 0.1450 - val_top-10-acc: 0.2369\n",
      "Epoch 6/120\n",
      "148/148 [==============================] - 33s 223ms/step - loss: 4.8024 - accuracy: 0.0371 - top-05-acc: 0.1436 - top-10-acc: 0.2369 - val_loss: 4.6340 - val_accuracy: 0.0531 - val_top-05-acc: 0.1855 - val_top-10-acc: 0.2878\n",
      "Epoch 7/120\n",
      "148/148 [==============================] - 33s 223ms/step - loss: 4.5679 - accuracy: 0.0488 - top-05-acc: 0.1853 - top-10-acc: 0.2979 - val_loss: 4.2611 - val_accuracy: 0.0713 - val_top-05-acc: 0.2499 - val_top-10-acc: 0.3807\n",
      "Epoch 8/120\n",
      "148/148 [==============================] - 33s 223ms/step - loss: 4.2700 - accuracy: 0.0637 - top-05-acc: 0.2385 - top-10-acc: 0.3738 - val_loss: 4.1199 - val_accuracy: 0.0858 - val_top-05-acc: 0.2850 - val_top-10-acc: 0.4151\n",
      "Epoch 9/120\n",
      "148/148 [==============================] - 34s 233ms/step - loss: 4.1173 - accuracy: 0.0794 - top-05-acc: 0.2769 - top-10-acc: 0.4236 - val_loss: 3.9429 - val_accuracy: 0.1078 - val_top-05-acc: 0.3301 - val_top-10-acc: 0.4816\n",
      "Epoch 10/120\n",
      "148/148 [==============================] - 33s 226ms/step - loss: 3.9653 - accuracy: 0.0964 - top-05-acc: 0.3220 - top-10-acc: 0.4785 - val_loss: 3.7321 - val_accuracy: 0.1306 - val_top-05-acc: 0.3845 - val_top-10-acc: 0.5462\n",
      "Epoch 11/120\n",
      "148/148 [==============================] - 33s 222ms/step - loss: 3.8115 - accuracy: 0.1137 - top-05-acc: 0.3648 - top-10-acc: 0.5271 - val_loss: 3.5644 - val_accuracy: 0.1602 - val_top-05-acc: 0.4391 - val_top-10-acc: 0.5958\n",
      "Epoch 12/120\n",
      "148/148 [==============================] - 33s 222ms/step - loss: 3.6958 - accuracy: 0.1311 - top-05-acc: 0.3998 - top-10-acc: 0.5618 - val_loss: 3.4657 - val_accuracy: 0.1728 - val_top-05-acc: 0.4677 - val_top-10-acc: 0.6241\n",
      "Epoch 13/120\n",
      "148/148 [==============================] - 33s 224ms/step - loss: 3.5799 - accuracy: 0.1475 - top-05-acc: 0.4332 - top-10-acc: 0.5960 - val_loss: 3.3526 - val_accuracy: 0.1926 - val_top-05-acc: 0.4941 - val_top-10-acc: 0.6464\n",
      "Epoch 14/120\n",
      "148/148 [==============================] - 33s 222ms/step - loss: 3.5218 - accuracy: 0.1562 - top-05-acc: 0.4509 - top-10-acc: 0.6110 - val_loss: 3.3012 - val_accuracy: 0.2027 - val_top-05-acc: 0.5092 - val_top-10-acc: 0.6572\n",
      "Epoch 15/120\n",
      "148/148 [==============================] - 33s 225ms/step - loss: 3.4018 - accuracy: 0.1761 - top-05-acc: 0.4826 - top-10-acc: 0.6398 - val_loss: 3.1638 - val_accuracy: 0.2287 - val_top-05-acc: 0.5486 - val_top-10-acc: 0.6958\n",
      "Epoch 16/120\n",
      "148/148 [==============================] - 32s 220ms/step - loss: 3.3142 - accuracy: 0.1888 - top-05-acc: 0.5073 - top-10-acc: 0.6627 - val_loss: 3.0762 - val_accuracy: 0.2440 - val_top-05-acc: 0.5708 - val_top-10-acc: 0.7118\n",
      "Epoch 17/120\n",
      "148/148 [==============================] - 33s 222ms/step - loss: 3.2320 - accuracy: 0.2066 - top-05-acc: 0.5299 - top-10-acc: 0.6820 - val_loss: 3.0273 - val_accuracy: 0.2555 - val_top-05-acc: 0.5844 - val_top-10-acc: 0.7196\n",
      "Epoch 18/120\n",
      "148/148 [==============================] - 33s 223ms/step - loss: 3.1629 - accuracy: 0.2163 - top-05-acc: 0.5464 - top-10-acc: 0.6957 - val_loss: 2.9221 - val_accuracy: 0.2809 - val_top-05-acc: 0.6095 - val_top-10-acc: 0.7403\n",
      "Epoch 19/120\n",
      "148/148 [==============================] - 33s 225ms/step - loss: 3.0997 - accuracy: 0.2277 - top-05-acc: 0.5622 - top-10-acc: 0.7095 - val_loss: 2.8818 - val_accuracy: 0.2805 - val_top-05-acc: 0.6160 - val_top-10-acc: 0.7457\n",
      "Epoch 20/120\n",
      "148/148 [==============================] - 33s 222ms/step - loss: 3.0319 - accuracy: 0.2415 - top-05-acc: 0.5782 - top-10-acc: 0.7203 - val_loss: 2.8493 - val_accuracy: 0.2875 - val_top-05-acc: 0.6244 - val_top-10-acc: 0.7505\n",
      "Epoch 21/120\n",
      "148/148 [==============================] - 33s 224ms/step - loss: 2.9698 - accuracy: 0.2534 - top-05-acc: 0.5944 - top-10-acc: 0.7331 - val_loss: 2.8131 - val_accuracy: 0.3067 - val_top-05-acc: 0.6365 - val_top-10-acc: 0.7530\n",
      "Epoch 22/120\n",
      "148/148 [==============================] - 32s 217ms/step - loss: 2.9099 - accuracy: 0.2643 - top-05-acc: 0.6079 - top-10-acc: 0.7431 - val_loss: 2.7110 - val_accuracy: 0.3225 - val_top-05-acc: 0.6530 - val_top-10-acc: 0.7714\n",
      "Epoch 23/120\n",
      "148/148 [==============================] - 34s 232ms/step - loss: 2.8555 - accuracy: 0.2750 - top-05-acc: 0.6194 - top-10-acc: 0.7515 - val_loss: 2.6929 - val_accuracy: 0.3235 - val_top-05-acc: 0.6583 - val_top-10-acc: 0.7706\n",
      "Epoch 24/120\n",
      "148/148 [==============================] - 32s 217ms/step - loss: 2.8103 - accuracy: 0.2853 - top-05-acc: 0.6290 - top-10-acc: 0.7581 - val_loss: 2.6591 - val_accuracy: 0.3297 - val_top-05-acc: 0.6655 - val_top-10-acc: 0.7782\n",
      "Epoch 25/120\n",
      "148/148 [==============================] - 33s 222ms/step - loss: 2.7558 - accuracy: 0.2954 - top-05-acc: 0.6414 - top-10-acc: 0.7676 - val_loss: 2.6088 - val_accuracy: 0.3457 - val_top-05-acc: 0.6742 - val_top-10-acc: 0.7817\n",
      "Epoch 26/120\n",
      "148/148 [==============================] - 33s 222ms/step - loss: 2.7183 - accuracy: 0.3016 - top-05-acc: 0.6500 - top-10-acc: 0.7745 - val_loss: 2.5793 - val_accuracy: 0.3519 - val_top-05-acc: 0.6787 - val_top-10-acc: 0.7890\n",
      "Epoch 27/120\n",
      "148/148 [==============================] - 33s 221ms/step - loss: 2.6675 - accuracy: 0.3151 - top-05-acc: 0.6610 - top-10-acc: 0.7805 - val_loss: 2.5776 - val_accuracy: 0.3532 - val_top-05-acc: 0.6791 - val_top-10-acc: 0.7855\n",
      "Epoch 28/120\n",
      "148/148 [==============================] - 33s 223ms/step - loss: 2.6196 - accuracy: 0.3251 - top-05-acc: 0.6692 - top-10-acc: 0.7870 - val_loss: 2.5200 - val_accuracy: 0.3673 - val_top-05-acc: 0.6919 - val_top-10-acc: 0.7931\n",
      "Epoch 29/120\n",
      "148/148 [==============================] - 33s 221ms/step - loss: 2.5709 - accuracy: 0.3348 - top-05-acc: 0.6788 - top-10-acc: 0.7946 - val_loss: 2.4911 - val_accuracy: 0.3734 - val_top-05-acc: 0.6944 - val_top-10-acc: 0.7962\n",
      "Epoch 30/120\n",
      "148/148 [==============================] - 33s 224ms/step - loss: 2.5361 - accuracy: 0.3430 - top-05-acc: 0.6869 - top-10-acc: 0.7992 - val_loss: 2.4952 - val_accuracy: 0.3749 - val_top-05-acc: 0.6961 - val_top-10-acc: 0.7969\n",
      "Epoch 31/120\n",
      "148/148 [==============================] - 33s 224ms/step - loss: 2.5075 - accuracy: 0.3494 - top-05-acc: 0.6914 - top-10-acc: 0.8015 - val_loss: 2.4717 - val_accuracy: 0.3779 - val_top-05-acc: 0.7050 - val_top-10-acc: 0.8004\n",
      "Epoch 32/120\n",
      "148/148 [==============================] - 33s 225ms/step - loss: 2.4586 - accuracy: 0.3591 - top-05-acc: 0.7004 - top-10-acc: 0.8075 - val_loss: 2.4539 - val_accuracy: 0.3820 - val_top-05-acc: 0.7037 - val_top-10-acc: 0.7995\n",
      "Epoch 33/120\n",
      "148/148 [==============================] - 33s 222ms/step - loss: 2.4248 - accuracy: 0.3647 - top-05-acc: 0.7064 - top-10-acc: 0.8116 - val_loss: 2.4572 - val_accuracy: 0.3890 - val_top-05-acc: 0.7042 - val_top-10-acc: 0.7987\n",
      "Epoch 34/120\n",
      "148/148 [==============================] - 33s 224ms/step - loss: 2.3779 - accuracy: 0.3748 - top-05-acc: 0.7172 - top-10-acc: 0.8184 - val_loss: 2.4051 - val_accuracy: 0.3994 - val_top-05-acc: 0.7163 - val_top-10-acc: 0.8077\n",
      "Epoch 35/120\n"
     ]
    },
    {
     "name": "stdout",
     "output_type": "stream",
     "text": [
      "148/148 [==============================] - 33s 222ms/step - loss: 2.3500 - accuracy: 0.3817 - top-05-acc: 0.7204 - top-10-acc: 0.8221 - val_loss: 2.4189 - val_accuracy: 0.3999 - val_top-05-acc: 0.7151 - val_top-10-acc: 0.8066\n",
      "Epoch 36/120\n",
      "148/148 [==============================] - 33s 225ms/step - loss: 2.3188 - accuracy: 0.3886 - top-05-acc: 0.7276 - top-10-acc: 0.8238 - val_loss: 2.3826 - val_accuracy: 0.4079 - val_top-05-acc: 0.7145 - val_top-10-acc: 0.8058\n",
      "Epoch 37/120\n",
      "148/148 [==============================] - 33s 223ms/step - loss: 2.2808 - accuracy: 0.3969 - top-05-acc: 0.7335 - top-10-acc: 0.8298 - val_loss: 2.4283 - val_accuracy: 0.3994 - val_top-05-acc: 0.7143 - val_top-10-acc: 0.8046\n",
      "Epoch 38/120\n",
      "148/148 [==============================] - 33s 224ms/step - loss: 2.2465 - accuracy: 0.4040 - top-05-acc: 0.7409 - top-10-acc: 0.8337 - val_loss: 2.3762 - val_accuracy: 0.4130 - val_top-05-acc: 0.7194 - val_top-10-acc: 0.8092\n",
      "Epoch 39/120\n",
      "148/148 [==============================] - 33s 223ms/step - loss: 2.2183 - accuracy: 0.4096 - top-05-acc: 0.7464 - top-10-acc: 0.8379 - val_loss: 2.3834 - val_accuracy: 0.4138 - val_top-05-acc: 0.7190 - val_top-10-acc: 0.8092\n",
      "Epoch 40/120\n",
      "148/148 [==============================] - 33s 224ms/step - loss: 2.2057 - accuracy: 0.4137 - top-05-acc: 0.7471 - top-10-acc: 0.8380 - val_loss: 2.3495 - val_accuracy: 0.4240 - val_top-05-acc: 0.7254 - val_top-10-acc: 0.8118\n",
      "Epoch 41/120\n",
      "148/148 [==============================] - 33s 222ms/step - loss: 2.1598 - accuracy: 0.4212 - top-05-acc: 0.7564 - top-10-acc: 0.8446 - val_loss: 2.4025 - val_accuracy: 0.4167 - val_top-05-acc: 0.7164 - val_top-10-acc: 0.8044\n",
      "Epoch 42/120\n",
      "148/148 [==============================] - 32s 220ms/step - loss: 2.1334 - accuracy: 0.4306 - top-05-acc: 0.7596 - top-10-acc: 0.8471 - val_loss: 2.3653 - val_accuracy: 0.4197 - val_top-05-acc: 0.7200 - val_top-10-acc: 0.8083\n",
      "Epoch 43/120\n",
      "148/148 [==============================] - 33s 223ms/step - loss: 2.1008 - accuracy: 0.4360 - top-05-acc: 0.7656 - top-10-acc: 0.8507 - val_loss: 2.3522 - val_accuracy: 0.4240 - val_top-05-acc: 0.7267 - val_top-10-acc: 0.8132\n",
      "Epoch 44/120\n",
      "148/148 [==============================] - 34s 228ms/step - loss: 2.0756 - accuracy: 0.4418 - top-05-acc: 0.7689 - top-10-acc: 0.8528 - val_loss: 2.3459 - val_accuracy: 0.4286 - val_top-05-acc: 0.7250 - val_top-10-acc: 0.8110\n",
      "Epoch 45/120\n",
      "148/148 [==============================] - 33s 223ms/step - loss: 2.0516 - accuracy: 0.4458 - top-05-acc: 0.7740 - top-10-acc: 0.8574 - val_loss: 2.3680 - val_accuracy: 0.4305 - val_top-05-acc: 0.7283 - val_top-10-acc: 0.8137\n",
      "Epoch 46/120\n",
      "148/148 [==============================] - 33s 223ms/step - loss: 2.0133 - accuracy: 0.4570 - top-05-acc: 0.7783 - top-10-acc: 0.8587 - val_loss: 2.3483 - val_accuracy: 0.4340 - val_top-05-acc: 0.7299 - val_top-10-acc: 0.8136\n",
      "Epoch 47/120\n",
      "148/148 [==============================] - 33s 220ms/step - loss: 1.9986 - accuracy: 0.4590 - top-05-acc: 0.7811 - top-10-acc: 0.8618 - val_loss: 2.3754 - val_accuracy: 0.4323 - val_top-05-acc: 0.7244 - val_top-10-acc: 0.8106\n",
      "Epoch 48/120\n",
      "148/148 [==============================] - 33s 220ms/step - loss: 1.9832 - accuracy: 0.4646 - top-05-acc: 0.7837 - top-10-acc: 0.8632 - val_loss: 2.4095 - val_accuracy: 0.4385 - val_top-05-acc: 0.7278 - val_top-10-acc: 0.8097\n",
      "Epoch 49/120\n",
      "148/148 [==============================] - 33s 224ms/step - loss: 1.9500 - accuracy: 0.4691 - top-05-acc: 0.7896 - top-10-acc: 0.8661 - val_loss: 2.3287 - val_accuracy: 0.4413 - val_top-05-acc: 0.7321 - val_top-10-acc: 0.8151\n",
      "Epoch 50/120\n",
      "148/148 [==============================] - 33s 223ms/step - loss: 1.9206 - accuracy: 0.4781 - top-05-acc: 0.7937 - top-10-acc: 0.8706 - val_loss: 2.3544 - val_accuracy: 0.4371 - val_top-05-acc: 0.7294 - val_top-10-acc: 0.8109\n",
      "Epoch 51/120\n",
      "148/148 [==============================] - 33s 220ms/step - loss: 1.8950 - accuracy: 0.4838 - top-05-acc: 0.7984 - top-10-acc: 0.8732 - val_loss: 2.3595 - val_accuracy: 0.4472 - val_top-05-acc: 0.7299 - val_top-10-acc: 0.8133\n",
      "Epoch 52/120\n",
      "148/148 [==============================] - 33s 220ms/step - loss: 1.8621 - accuracy: 0.4912 - top-05-acc: 0.8032 - top-10-acc: 0.8748 - val_loss: 2.3600 - val_accuracy: 0.4415 - val_top-05-acc: 0.7312 - val_top-10-acc: 0.8140\n",
      "Epoch 53/120\n",
      "148/148 [==============================] - 33s 222ms/step - loss: 1.8580 - accuracy: 0.4929 - top-05-acc: 0.8035 - top-10-acc: 0.8764 - val_loss: 2.3749 - val_accuracy: 0.4433 - val_top-05-acc: 0.7281 - val_top-10-acc: 0.8145\n",
      "Epoch 54/120\n",
      "148/148 [==============================] - 33s 226ms/step - loss: 1.8360 - accuracy: 0.4956 - top-05-acc: 0.8088 - top-10-acc: 0.8784 - val_loss: 2.3679 - val_accuracy: 0.4531 - val_top-05-acc: 0.7332 - val_top-10-acc: 0.8153\n",
      "Epoch 55/120\n",
      "148/148 [==============================] - 34s 228ms/step - loss: 1.8152 - accuracy: 0.5018 - top-05-acc: 0.8097 - top-10-acc: 0.8810 - val_loss: 2.3461 - val_accuracy: 0.4529 - val_top-05-acc: 0.7349 - val_top-10-acc: 0.8155\n",
      "Epoch 56/120\n",
      "148/148 [==============================] - 32s 219ms/step - loss: 1.7873 - accuracy: 0.5081 - top-05-acc: 0.8166 - top-10-acc: 0.8837 - val_loss: 2.3686 - val_accuracy: 0.4550 - val_top-05-acc: 0.7313 - val_top-10-acc: 0.8139\n",
      "Epoch 57/120\n",
      "148/148 [==============================] - 33s 224ms/step - loss: 1.7774 - accuracy: 0.5124 - top-05-acc: 0.8156 - top-10-acc: 0.8847 - val_loss: 2.3741 - val_accuracy: 0.4543 - val_top-05-acc: 0.7365 - val_top-10-acc: 0.8124\n",
      "Epoch 58/120\n",
      "148/148 [==============================] - 33s 220ms/step - loss: 1.7571 - accuracy: 0.5154 - top-05-acc: 0.8203 - top-10-acc: 0.8863 - val_loss: 2.3741 - val_accuracy: 0.4539 - val_top-05-acc: 0.7337 - val_top-10-acc: 0.8137\n",
      "Epoch 59/120\n",
      "148/148 [==============================] - 33s 221ms/step - loss: 1.7455 - accuracy: 0.5203 - top-05-acc: 0.8216 - top-10-acc: 0.8884 - val_loss: 2.3669 - val_accuracy: 0.4572 - val_top-05-acc: 0.7344 - val_top-10-acc: 0.8145\n",
      "Epoch 60/120\n",
      "148/148 [==============================] - 33s 225ms/step - loss: 1.7053 - accuracy: 0.5282 - top-05-acc: 0.8272 - top-10-acc: 0.8921 - val_loss: 2.4037 - val_accuracy: 0.4624 - val_top-05-acc: 0.7358 - val_top-10-acc: 0.8153\n",
      "Epoch 61/120\n",
      "148/148 [==============================] - 33s 226ms/step - loss: 1.6946 - accuracy: 0.5329 - top-05-acc: 0.8302 - top-10-acc: 0.8929 - val_loss: 2.4336 - val_accuracy: 0.4573 - val_top-05-acc: 0.7368 - val_top-10-acc: 0.8149\n",
      "Epoch 62/120\n",
      "148/148 [==============================] - 33s 227ms/step - loss: 1.6776 - accuracy: 0.5341 - top-05-acc: 0.8312 - top-10-acc: 0.8945 - val_loss: 2.3881 - val_accuracy: 0.4543 - val_top-05-acc: 0.7384 - val_top-10-acc: 0.8147\n",
      "Epoch 63/120\n",
      "148/148 [==============================] - 33s 224ms/step - loss: 1.6628 - accuracy: 0.5381 - top-05-acc: 0.8335 - top-10-acc: 0.8963 - val_loss: 2.3907 - val_accuracy: 0.4627 - val_top-05-acc: 0.7376 - val_top-10-acc: 0.8141\n",
      "Epoch 64/120\n",
      "148/148 [==============================] - 33s 226ms/step - loss: 1.6525 - accuracy: 0.5427 - top-05-acc: 0.8355 - top-10-acc: 0.8967 - val_loss: 2.4034 - val_accuracy: 0.4607 - val_top-05-acc: 0.7308 - val_top-10-acc: 0.8097\n",
      "Epoch 65/120\n",
      "148/148 [==============================] - 33s 224ms/step - loss: 1.6165 - accuracy: 0.5514 - top-05-acc: 0.8407 - top-10-acc: 0.9001 - val_loss: 2.4268 - val_accuracy: 0.4646 - val_top-05-acc: 0.7371 - val_top-10-acc: 0.8150\n",
      "Epoch 66/120\n",
      "148/148 [==============================] - 33s 224ms/step - loss: 1.6107 - accuracy: 0.5529 - top-05-acc: 0.8406 - top-10-acc: 0.9000 - val_loss: 2.4105 - val_accuracy: 0.4675 - val_top-05-acc: 0.7380 - val_top-10-acc: 0.8165\n",
      "Epoch 67/120\n",
      "148/148 [==============================] - 33s 224ms/step - loss: 1.6005 - accuracy: 0.5556 - top-05-acc: 0.8438 - top-10-acc: 0.9023 - val_loss: 2.4261 - val_accuracy: 0.4674 - val_top-05-acc: 0.7354 - val_top-10-acc: 0.8112\n",
      "Epoch 68/120\n",
      "148/148 [==============================] - 33s 226ms/step - loss: 1.5755 - accuracy: 0.5610 - top-05-acc: 0.8459 - top-10-acc: 0.9040 - val_loss: 2.4544 - val_accuracy: 0.4640 - val_top-05-acc: 0.7331 - val_top-10-acc: 0.8094\n",
      "Epoch 69/120\n"
     ]
    },
    {
     "name": "stdout",
     "output_type": "stream",
     "text": [
      "148/148 [==============================] - 33s 226ms/step - loss: 1.5755 - accuracy: 0.5619 - top-05-acc: 0.8461 - top-10-acc: 0.9040 - val_loss: 2.4235 - val_accuracy: 0.4728 - val_top-05-acc: 0.7396 - val_top-10-acc: 0.8110\n",
      "Epoch 70/120\n",
      "148/148 [==============================] - 33s 223ms/step - loss: 1.5524 - accuracy: 0.5683 - top-05-acc: 0.8489 - top-10-acc: 0.9063 - val_loss: 2.4318 - val_accuracy: 0.4662 - val_top-05-acc: 0.7340 - val_top-10-acc: 0.8084\n",
      "Epoch 71/120\n",
      "148/148 [==============================] - 33s 224ms/step - loss: 1.5347 - accuracy: 0.5709 - top-05-acc: 0.8513 - top-10-acc: 0.9072 - val_loss: 2.4573 - val_accuracy: 0.4669 - val_top-05-acc: 0.7377 - val_top-10-acc: 0.8123\n",
      "Epoch 72/120\n",
      "148/148 [==============================] - 33s 221ms/step - loss: 1.5192 - accuracy: 0.5764 - top-05-acc: 0.8532 - top-10-acc: 0.9094 - val_loss: 2.4631 - val_accuracy: 0.4699 - val_top-05-acc: 0.7341 - val_top-10-acc: 0.8115\n",
      "Epoch 73/120\n",
      "148/148 [==============================] - 33s 223ms/step - loss: 1.5088 - accuracy: 0.5790 - top-05-acc: 0.8552 - top-10-acc: 0.9079 - val_loss: 2.4923 - val_accuracy: 0.4762 - val_top-05-acc: 0.7401 - val_top-10-acc: 0.8160\n",
      "Epoch 74/120\n",
      "148/148 [==============================] - 34s 232ms/step - loss: 1.4956 - accuracy: 0.5828 - top-05-acc: 0.8565 - top-10-acc: 0.9109 - val_loss: 2.4746 - val_accuracy: 0.4734 - val_top-05-acc: 0.7323 - val_top-10-acc: 0.8122\n",
      "Epoch 75/120\n",
      "148/148 [==============================] - 32s 220ms/step - loss: 1.4966 - accuracy: 0.5818 - top-05-acc: 0.8582 - top-10-acc: 0.9121 - val_loss: 2.4824 - val_accuracy: 0.4717 - val_top-05-acc: 0.7364 - val_top-10-acc: 0.8138\n",
      "Epoch 76/120\n",
      "148/148 [==============================] - 33s 223ms/step - loss: 3.5794 - accuracy: 0.2777 - top-05-acc: 0.4563 - top-10-acc: 0.5237 - val_loss: 4.2933 - val_accuracy: 0.1226 - val_top-05-acc: 0.2867 - val_top-10-acc: 0.3818\n",
      "Epoch 77/120\n",
      "148/148 [==============================] - 33s 224ms/step - loss: 4.6060 - accuracy: 0.0874 - top-05-acc: 0.2308 - top-10-acc: 0.3196 - val_loss: 3.9635 - val_accuracy: 0.1575 - val_top-05-acc: 0.3595 - val_top-10-acc: 0.4699\n",
      "Epoch 78/120\n",
      "148/148 [==============================] - 33s 221ms/step - loss: 3.6920 - accuracy: 0.1842 - top-05-acc: 0.4248 - top-10-acc: 0.5482 - val_loss: 3.2206 - val_accuracy: 0.2539 - val_top-05-acc: 0.5384 - val_top-10-acc: 0.6625\n",
      "Epoch 79/120\n",
      "148/148 [==============================] - 33s 223ms/step - loss: 3.1167 - accuracy: 0.2613 - top-05-acc: 0.5575 - top-10-acc: 0.6856 - val_loss: 2.8625 - val_accuracy: 0.3163 - val_top-05-acc: 0.6187 - val_top-10-acc: 0.7313\n",
      "Model: \"sequential\"\n",
      "_________________________________________________________________\n",
      " Layer (type)                Output Shape              Param #   \n",
      "=================================================================\n",
      " gru (GRU)                   (None, None, 512)         794112    \n",
      "                                                                 \n",
      " gru_1 (GRU)                 (None, 512)               1575936   \n",
      "                                                                 \n",
      " dense (Dense)               (None, 256)               131328    \n",
      "                                                                 \n",
      " dropout (Dropout)           (None, 256)               0         \n",
      "                                                                 \n",
      " dense_1 (Dense)             (None, 128)               32896     \n",
      "                                                                 \n",
      " dense_2 (Dense)             (None, 128)               16512     \n",
      "                                                                 \n",
      " dropout_1 (Dropout)         (None, 128)               0         \n",
      "                                                                 \n",
      " dense_3 (Dense)             (None, 64)                8256      \n",
      "                                                                 \n",
      " dropout_2 (Dropout)         (None, 64)                0         \n",
      "                                                                 \n",
      " dense_4 (Dense)             (None, 64)                4160      \n",
      "                                                                 \n",
      " flatten (Flatten)           (None, 64)                0         \n",
      "                                                                 \n",
      " dense_5 (Dense)             (None, 250)               16250     \n",
      "                                                                 \n",
      "=================================================================\n",
      "Total params: 2,579,450\n",
      "Trainable params: 2,579,450\n",
      "Non-trainable params: 0\n",
      "_________________________________________________________________\n"
     ]
    }
   ],
   "source": [
    "if True:\n",
    "    X_train, X_val, y_train, y_val = train_test_split(X, y, test_size=0.2, random_state=27, stratify=y)\n",
    "    print(X_train.shape, y_train.shape, X_val.shape, y_val.shape)\n",
    "    gc.collect()\n",
    "    callbacks = [\n",
    "        tf.keras.callbacks.ModelCheckpoint(\"model.h5\"),\n",
    "        tf.keras.callbacks.EarlyStopping(\n",
    "            monitor='val_accuracy',\n",
    "            patience=6,\n",
    "            restore_best_weights=True,\n",
    "        ),\n",
    "    ]\n",
    "    history = model.fit(X_train, y_train, epochs=120, validation_data=(X_val, y_val), batch_size=512, callbacks=callbacks)\n",
    "else:\n",
    "    model = tf.keras.models.load_model(\"../model.h5\")\n",
    "model.summary()"
   ]
  },
  {
   "cell_type": "code",
   "execution_count": 8,
   "id": "0c667e32",
   "metadata": {
    "ExecuteTime": {
     "end_time": "2023-02-28T05:57:46.964014Z",
     "start_time": "2023-02-28T05:57:46.381837Z"
    }
   },
   "outputs": [
    {
     "name": "stdout",
     "output_type": "stream",
     "text": [
      "dict_keys(['loss', 'accuracy', 'top-05-acc', 'top-10-acc', 'val_loss', 'val_accuracy', 'val_top-05-acc', 'val_top-10-acc'])\n"
     ]
    }
   ],
   "source": [
    "import matplotlib.pyplot as plt\n",
    "import numpy as np\n",
    "\n",
    "print(history.history.keys())"
   ]
  },
  {
   "cell_type": "code",
   "execution_count": 9,
   "id": "113b874f",
   "metadata": {
    "ExecuteTime": {
     "end_time": "2023-02-28T05:57:47.066992Z",
     "start_time": "2023-02-28T05:57:46.965515Z"
    }
   },
   "outputs": [
    {
     "data": {
      "image/png": "[encoded data removed]",
      "text/plain": [
       "<Figure size 640x480 with 1 Axes>"
      ]
     },
     "metadata": {},
     "output_type": "display_data"
    }
   ],
   "source": [
    "# summarize history for accuracy\n",
    "plt.plot(history.history['accuracy'])\n",
    "plt.plot(history.history['val_accuracy'])\n",
    "plt.title('model accuracy')\n",
    "plt.ylabel('accuracy')\n",
    "plt.xlabel('epoch')\n",
    "plt.legend(['train', 'test'], loc='upper left')\n",
    "plt.show()"
   ]
  },
  {
   "cell_type": "code",
   "execution_count": 10,
   "id": "835c5849",
   "metadata": {
    "ExecuteTime": {
     "end_time": "2023-02-28T05:57:47.144224Z",
     "start_time": "2023-02-28T05:57:47.068112Z"
    }
   },
   "outputs": [
    {
     "data": {
      "image/png": "[encoded data removed]",
      "text/plain": [
       "<Figure size 640x480 with 1 Axes>"
      ]
     },
     "metadata": {},
     "output_type": "display_data"
    }
   ],
   "source": [
    "# summarize history for loss\n",
    "plt.plot(history.history['loss'])\n",
    "plt.plot(history.history['val_loss'])\n",
    "plt.title('model loss')\n",
    "plt.ylabel('loss')\n",
    "plt.xlabel('epoch')\n",
    "plt.legend(['train', 'test'], loc='upper left')\n",
    "plt.show()"
   ]
  },
  {
   "cell_type": "code",
   "execution_count": 11,
   "id": "c79d9a56",
   "metadata": {
    "ExecuteTime": {
     "end_time": "2023-02-28T05:57:47.147276Z",
     "start_time": "2023-02-28T05:57:47.145227Z"
    },
    "code_folding": []
   },
   "outputs": [],
   "source": [
    "def get_model():\n",
    "    return model"
   ]
  },
  {
   "cell_type": "code",
   "execution_count": 12,
   "id": "3bcd5c03",
   "metadata": {
    "ExecuteTime": {
     "end_time": "2023-02-28T05:57:47.171475Z",
     "start_time": "2023-02-28T05:57:47.148189Z"
    },
    "scrolled": true
   },
   "outputs": [
    {
     "name": "stdout",
     "output_type": "stream",
     "text": [
      "Model: \"sequential\"\n",
      "_________________________________________________________________\n",
      " Layer (type)                Output Shape              Param #   \n",
      "=================================================================\n",
      " gru (GRU)                   (None, None, 512)         794112    \n",
      "                                                                 \n",
      " gru_1 (GRU)                 (None, 512)               1575936   \n",
      "                                                                 \n",
      " dense (Dense)               (None, 256)               131328    \n",
      "                                                                 \n",
      " dropout (Dropout)           (None, 256)               0         \n",
      "                                                                 \n",
      " dense_1 (Dense)             (None, 128)               32896     \n",
      "                                                                 \n",
      " dense_2 (Dense)             (None, 128)               16512     \n",
      "                                                                 \n",
      " dropout_1 (Dropout)         (None, 128)               0         \n",
      "                                                                 \n",
      " dense_3 (Dense)             (None, 64)                8256      \n",
      "                                                                 \n",
      " dropout_2 (Dropout)         (None, 64)                0         \n",
      "                                                                 \n",
      " dense_4 (Dense)             (None, 64)                4160      \n",
      "                                                                 \n",
      " flatten (Flatten)           (None, 64)                0         \n",
      "                                                                 \n",
      " dense_5 (Dense)             (None, 250)               16250     \n",
      "                                                                 \n",
      "=================================================================\n",
      "Total params: 2,579,450\n",
      "Trainable params: 2,579,450\n",
      "Non-trainable params: 0\n",
      "_________________________________________________________________\n"
     ]
    }
   ],
   "source": [
    "get_model().summary()"
   ]
  },
  {
   "cell_type": "code",
   "execution_count": 13,
   "id": "98593b01",
   "metadata": {
    "ExecuteTime": {
     "end_time": "2023-02-28T05:57:47.376497Z",
     "start_time": "2023-02-28T05:57:47.172285Z"
    }
   },
   "outputs": [],
   "source": [
    "inputs = tf.keras.Input((543, 3), dtype=tf.float32, name=\"inputs\")\n",
    "x = tf.where(tf.math.is_nan(inputs), tf.zeros_like(inputs), inputs)\n",
    "x = tf.reduce_mean(x, axis=0, keepdims=True)\n",
    "\n",
    "# for i in range(1, len(model.layers)):\n",
    "x = model.layers[0](x)\n",
    "x = model.layers[1](x)\n",
    "x = model.layers[2](x)"
   ]
  },
  {
   "cell_type": "code",
   "execution_count": 14,
   "id": "14097f4c",
   "metadata": {
    "ExecuteTime": {
     "end_time": "2023-02-28T05:57:47.382047Z",
     "start_time": "2023-02-28T05:57:47.378515Z"
    }
   },
   "outputs": [],
   "source": [
    "def get_inference_model(model):\n",
    "    inputs = tf.keras.Input((543, 3), dtype=tf.float32, name=\"inputs\")\n",
    "    x = tf.where(tf.math.is_nan(inputs), tf.zeros_like(inputs), inputs)\n",
    "    x = tf.reduce_mean(x, axis=0, keepdims=True)\n",
    "    \n",
    "    for i in range(0, len(model.layers)):\n",
    "        x = model.layers[i](x)\n",
    "    output = tf.keras.layers.Activation(activation=\"linear\", name=\"outputs\")(x)\n",
    "    inference_model = tf.keras.Model(inputs=inputs, outputs=output) \n",
    "    inference_model.compile(loss=tf.keras.losses.SparseCategoricalCrossentropy(), metrics=[\"accuracy\"])\n",
    "    \n",
    "    return inference_model"
   ]
  },
  {
   "cell_type": "code",
   "execution_count": 15,
   "id": "b125786d",
   "metadata": {
    "ExecuteTime": {
     "end_time": "2023-02-28T05:57:47.644935Z",
     "start_time": "2023-02-28T05:57:47.382791Z"
    }
   },
   "outputs": [
    {
     "name": "stdout",
     "output_type": "stream",
     "text": [
      "Model: \"model\"\n",
      "__________________________________________________________________________________________________\n",
      " Layer (type)                   Output Shape         Param #     Connected to                     \n",
      "==================================================================================================\n",
      " inputs (InputLayer)            [(None, 543, 3)]     0           []                               \n",
      "                                                                                                  \n",
      " tf.math.is_nan_1 (TFOpLambda)  (None, 543, 3)       0           ['inputs[0][0]']                 \n",
      "                                                                                                  \n",
      " tf.zeros_like_1 (TFOpLambda)   (None, 543, 3)       0           ['inputs[0][0]']                 \n",
      "                                                                                                  \n",
      " tf.where_1 (TFOpLambda)        (None, 543, 3)       0           ['tf.math.is_nan_1[0][0]',       \n",
      "                                                                  'tf.zeros_like_1[0][0]',        \n",
      "                                                                  'inputs[0][0]']                 \n",
      "                                                                                                  \n",
      " tf.math.reduce_mean_1 (TFOpLam  (1, 543, 3)         0           ['tf.where_1[0][0]']             \n",
      " bda)                                                                                             \n",
      "                                                                                                  \n",
      " gru (GRU)                      multiple             794112      ['tf.math.reduce_mean_1[0][0]']  \n",
      "                                                                                                  \n",
      " gru_1 (GRU)                    multiple             1575936     ['gru[2][0]']                    \n",
      "                                                                                                  \n",
      " dense (Dense)                  multiple             131328      ['gru_1[2][0]']                  \n",
      "                                                                                                  \n",
      " dropout (Dropout)              multiple             0           ['dense[2][0]']                  \n",
      "                                                                                                  \n",
      " dense_1 (Dense)                multiple             32896       ['dropout[1][0]']                \n",
      "                                                                                                  \n",
      " dense_2 (Dense)                multiple             16512       ['dense_1[1][0]']                \n",
      "                                                                                                  \n",
      " dropout_1 (Dropout)            multiple             0           ['dense_2[1][0]']                \n",
      "                                                                                                  \n",
      " dense_3 (Dense)                multiple             8256        ['dropout_1[1][0]']              \n",
      "                                                                                                  \n",
      " dropout_2 (Dropout)            multiple             0           ['dense_3[1][0]']                \n",
      "                                                                                                  \n",
      " dense_4 (Dense)                multiple             4160        ['dropout_2[1][0]']              \n",
      "                                                                                                  \n",
      " flatten (Flatten)              multiple             0           ['dense_4[1][0]']                \n",
      "                                                                                                  \n",
      " dense_5 (Dense)                multiple             16250       ['flatten[1][0]']                \n",
      "                                                                                                  \n",
      " outputs (Activation)           (1, 250)             0           ['dense_5[1][0]']                \n",
      "                                                                                                  \n",
      "==================================================================================================\n",
      "Total params: 2,579,450\n",
      "Trainable params: 2,579,450\n",
      "Non-trainable params: 0\n",
      "__________________________________________________________________________________________________\n"
     ]
    }
   ],
   "source": [
    "inference_model = get_inference_model(model)\n",
    "inference_model.summary()"
   ]
  },
  {
   "cell_type": "code",
   "execution_count": 16,
   "id": "2440704d",
   "metadata": {
    "ExecuteTime": {
     "end_time": "2023-02-28T05:57:55.230706Z",
     "start_time": "2023-02-28T05:57:47.646015Z"
    }
   },
   "outputs": [
    {
     "name": "stderr",
     "output_type": "stream",
     "text": [
      "WARNING:absl:Found untraced functions such as gru_cell_layer_call_fn, gru_cell_layer_call_and_return_conditional_losses, gru_cell_1_layer_call_fn, gru_cell_1_layer_call_and_return_conditional_losses while saving (showing 4 of 4). These functions will not be directly callable after loading.\n"
     ]
    },
    {
     "name": "stdout",
     "output_type": "stream",
     "text": [
      "INFO:tensorflow:Assets written to: /tmp/tmp_0m9d7mv/assets\n"
     ]
    },
    {
     "name": "stderr",
     "output_type": "stream",
     "text": [
      "INFO:tensorflow:Assets written to: /tmp/tmp_0m9d7mv/assets\n",
      "2023-02-27 21:57:54.504740: W tensorflow/compiler/mlir/lite/python/tf_tfl_flatbuffer_helpers.cc:362] Ignored output_format.\n",
      "2023-02-27 21:57:54.504784: W tensorflow/compiler/mlir/lite/python/tf_tfl_flatbuffer_helpers.cc:365] Ignored drop_control_dependency.\n",
      "2023-02-27 21:57:54.505445: I tensorflow/cc/saved_model/reader.cc:45] Reading SavedModel from: /tmp/tmp_0m9d7mv\n",
      "2023-02-27 21:57:54.520873: I tensorflow/cc/saved_model/reader.cc:89] Reading meta graph with tags { serve }\n",
      "2023-02-27 21:57:54.520913: I tensorflow/cc/saved_model/reader.cc:130] Reading SavedModel debug info (if present) from: /tmp/tmp_0m9d7mv\n",
      "2023-02-27 21:57:54.558263: I tensorflow/compiler/mlir/mlir_graph_optimization_pass.cc:354] MLIR V1 optimization pass is not enabled\n",
      "2023-02-27 21:57:54.567640: I tensorflow/cc/saved_model/loader.cc:229] Restoring SavedModel bundle.\n",
      "2023-02-27 21:57:54.655731: I tensorflow/cc/saved_model/loader.cc:213] Running initialization op on SavedModel bundle at path: /tmp/tmp_0m9d7mv\n",
      "2023-02-27 21:57:54.719659: I tensorflow/cc/saved_model/loader.cc:305] SavedModel load for tags { serve }; Status: success: OK. Took 214213 microseconds.\n",
      "2023-02-27 21:57:54.894497: I tensorflow/compiler/mlir/tensorflow/utils/dump_mlir_util.cc:268] disabling MLIR crash reproducer, set env var `MLIR_CRASH_REPRODUCER_DIRECTORY` to enable.\n",
      "2023-02-27 21:57:55.067325: I tensorflow/compiler/mlir/lite/flatbuffer_export.cc:1989] Estimated count of arithmetic ops: 5.373 M  ops, equivalently 2.686 M  MACs\n",
      "\n"
     ]
    }
   ],
   "source": [
    "converter = tf.lite.TFLiteConverter.from_keras_model(inference_model)\n",
    "tflite_model = converter.convert()\n",
    "model_path = \"model.tflite\"\n",
    "# Save the model.\n",
    "with open(model_path, 'wb') as f:\n",
    "    f.write(tflite_model)"
   ]
  },
  {
   "cell_type": "code",
   "execution_count": 17,
   "id": "5c62ba46",
   "metadata": {
    "ExecuteTime": {
     "end_time": "2023-02-28T05:58:11.418380Z",
     "start_time": "2023-02-28T05:57:55.232237Z"
    },
    "scrolled": true
   },
   "outputs": [
    {
     "name": "stderr",
     "output_type": "stream",
     "text": [
      "100%|█████████████████████████████████████████████████████████████████████████████| 100/100 [00:16<00:00,  6.18it/s]\n"
     ]
    }
   ],
   "source": [
    "import tflite_runtime.interpreter as tflite\n",
    "interpreter = tflite.Interpreter(model_path)\n",
    "found_signatures = list(interpreter.get_signature_list().keys())\n",
    "prediction_fn = interpreter.get_signature_runner(\"serving_default\")\n",
    "corr = 0\n",
    "wrong = []\n",
    "for i in tqdm(range(100)):\n",
    "    frames = load_relevant_data_subset(f'../{train.iloc[i].path}')\n",
    "    output = prediction_fn(inputs=frames)\n",
    "    sign = np.argmax(output[\"outputs\"])\n",
    "    if index_label[sign] == train.iloc[i].sign:\n",
    "        corr += 1\n",
    "    else:\n",
    "        wrong.append((index_label[sign], train.iloc[i].sign, train.iloc[i].path))\n",
    "\n",
    "    #     print(f\"Predicted label: {index_label[sign]}, Actual Label: {train.iloc[i].sign}\")\n",
    "\n",
    "\n",
    "    total = i"
   ]
  },
  {
   "cell_type": "code",
   "execution_count": 18,
   "id": "2ea52da4",
   "metadata": {
    "ExecuteTime": {
     "end_time": "2023-02-28T05:58:11.422857Z",
     "start_time": "2023-02-28T05:58:11.420044Z"
    }
   },
   "outputs": [
    {
     "name": "stdout",
     "output_type": "stream",
     "text": [
      "\n",
      "total=99\n",
      "corr=63\t Percent: 63.636364%\n",
      "\n"
     ]
    }
   ],
   "source": [
    "r = f'''\n",
    "{total=}\n",
    "{corr=}\\t Percent: {corr/total:%}\n",
    "'''\n",
    "print(r)"
   ]
  },
  {
   "cell_type": "code",
   "execution_count": 19,
   "id": "08905e36",
   "metadata": {
    "ExecuteTime": {
     "end_time": "2023-02-28T05:58:11.447508Z",
     "start_time": "2023-02-28T05:58:11.424261Z"
    }
   },
   "outputs": [
    {
     "data": {
      "text/html": [
       "<div>\n",
       "<style scoped>\n",
       "    .dataframe tbody tr th:only-of-type {\n",
       "        vertical-align: middle;\n",
       "    }\n",
       "\n",
       "    .dataframe tbody tr th {\n",
       "        vertical-align: top;\n",
       "    }\n",
       "\n",
       "    .dataframe thead th {\n",
       "        text-align: right;\n",
       "    }\n",
       "</style>\n",
       "<table border=\"1\" class=\"dataframe\">\n",
       "  <thead>\n",
       "    <tr style=\"text-align: right;\">\n",
       "      <th></th>\n",
       "      <th>pred</th>\n",
       "      <th>true</th>\n",
       "      <th>path</th>\n",
       "    </tr>\n",
       "  </thead>\n",
       "  <tbody>\n",
       "    <tr>\n",
       "      <th>0</th>\n",
       "      <td>boat</td>\n",
       "      <td>1</td>\n",
       "      <td>1</td>\n",
       "    </tr>\n",
       "    <tr>\n",
       "      <th>29</th>\n",
       "      <td>snow</td>\n",
       "      <td>1</td>\n",
       "      <td>1</td>\n",
       "    </tr>\n",
       "    <tr>\n",
       "      <th>28</th>\n",
       "      <td>sleepy</td>\n",
       "      <td>1</td>\n",
       "      <td>1</td>\n",
       "    </tr>\n",
       "    <tr>\n",
       "      <th>27</th>\n",
       "      <td>sleep</td>\n",
       "      <td>1</td>\n",
       "      <td>1</td>\n",
       "    </tr>\n",
       "    <tr>\n",
       "      <th>26</th>\n",
       "      <td>red</td>\n",
       "      <td>1</td>\n",
       "      <td>1</td>\n",
       "    </tr>\n",
       "    <tr>\n",
       "      <th>25</th>\n",
       "      <td>rain</td>\n",
       "      <td>1</td>\n",
       "      <td>1</td>\n",
       "    </tr>\n",
       "    <tr>\n",
       "      <th>24</th>\n",
       "      <td>puppy</td>\n",
       "      <td>1</td>\n",
       "      <td>1</td>\n",
       "    </tr>\n",
       "    <tr>\n",
       "      <th>23</th>\n",
       "      <td>pool</td>\n",
       "      <td>1</td>\n",
       "      <td>1</td>\n",
       "    </tr>\n",
       "    <tr>\n",
       "      <th>22</th>\n",
       "      <td>police</td>\n",
       "      <td>1</td>\n",
       "      <td>1</td>\n",
       "    </tr>\n",
       "    <tr>\n",
       "      <th>21</th>\n",
       "      <td>please</td>\n",
       "      <td>1</td>\n",
       "      <td>1</td>\n",
       "    </tr>\n",
       "    <tr>\n",
       "      <th>20</th>\n",
       "      <td>owl</td>\n",
       "      <td>1</td>\n",
       "      <td>1</td>\n",
       "    </tr>\n",
       "    <tr>\n",
       "      <th>19</th>\n",
       "      <td>orange</td>\n",
       "      <td>1</td>\n",
       "      <td>1</td>\n",
       "    </tr>\n",
       "    <tr>\n",
       "      <th>18</th>\n",
       "      <td>old</td>\n",
       "      <td>1</td>\n",
       "      <td>1</td>\n",
       "    </tr>\n",
       "    <tr>\n",
       "      <th>17</th>\n",
       "      <td>nuts</td>\n",
       "      <td>1</td>\n",
       "      <td>1</td>\n",
       "    </tr>\n",
       "    <tr>\n",
       "      <th>16</th>\n",
       "      <td>morning</td>\n",
       "      <td>1</td>\n",
       "      <td>1</td>\n",
       "    </tr>\n",
       "    <tr>\n",
       "      <th>15</th>\n",
       "      <td>kiss</td>\n",
       "      <td>1</td>\n",
       "      <td>1</td>\n",
       "    </tr>\n",
       "    <tr>\n",
       "      <th>14</th>\n",
       "      <td>if</td>\n",
       "      <td>1</td>\n",
       "      <td>1</td>\n",
       "    </tr>\n",
       "    <tr>\n",
       "      <th>12</th>\n",
       "      <td>hesheit</td>\n",
       "      <td>1</td>\n",
       "      <td>1</td>\n",
       "    </tr>\n",
       "    <tr>\n",
       "      <th>11</th>\n",
       "      <td>haveto</td>\n",
       "      <td>1</td>\n",
       "      <td>1</td>\n",
       "    </tr>\n",
       "    <tr>\n",
       "      <th>10</th>\n",
       "      <td>hate</td>\n",
       "      <td>1</td>\n",
       "      <td>1</td>\n",
       "    </tr>\n",
       "    <tr>\n",
       "      <th>9</th>\n",
       "      <td>fish</td>\n",
       "      <td>1</td>\n",
       "      <td>1</td>\n",
       "    </tr>\n",
       "    <tr>\n",
       "      <th>8</th>\n",
       "      <td>empty</td>\n",
       "      <td>1</td>\n",
       "      <td>1</td>\n",
       "    </tr>\n",
       "    <tr>\n",
       "      <th>6</th>\n",
       "      <td>drink</td>\n",
       "      <td>1</td>\n",
       "      <td>1</td>\n",
       "    </tr>\n",
       "    <tr>\n",
       "      <th>5</th>\n",
       "      <td>donkey</td>\n",
       "      <td>1</td>\n",
       "      <td>1</td>\n",
       "    </tr>\n",
       "    <tr>\n",
       "      <th>4</th>\n",
       "      <td>dirty</td>\n",
       "      <td>1</td>\n",
       "      <td>1</td>\n",
       "    </tr>\n",
       "    <tr>\n",
       "      <th>3</th>\n",
       "      <td>cat</td>\n",
       "      <td>1</td>\n",
       "      <td>1</td>\n",
       "    </tr>\n",
       "    <tr>\n",
       "      <th>1</th>\n",
       "      <td>callonphone</td>\n",
       "      <td>1</td>\n",
       "      <td>1</td>\n",
       "    </tr>\n",
       "    <tr>\n",
       "      <th>30</th>\n",
       "      <td>toothbrush</td>\n",
       "      <td>1</td>\n",
       "      <td>1</td>\n",
       "    </tr>\n",
       "    <tr>\n",
       "      <th>31</th>\n",
       "      <td>wait</td>\n",
       "      <td>1</td>\n",
       "      <td>1</td>\n",
       "    </tr>\n",
       "    <tr>\n",
       "      <th>13</th>\n",
       "      <td>hide</td>\n",
       "      <td>2</td>\n",
       "      <td>2</td>\n",
       "    </tr>\n",
       "    <tr>\n",
       "      <th>7</th>\n",
       "      <td>drop</td>\n",
       "      <td>3</td>\n",
       "      <td>3</td>\n",
       "    </tr>\n",
       "    <tr>\n",
       "      <th>2</th>\n",
       "      <td>car</td>\n",
       "      <td>3</td>\n",
       "      <td>3</td>\n",
       "    </tr>\n",
       "  </tbody>\n",
       "</table>\n",
       "</div>"
      ],
      "text/plain": [
       "           pred  true  path\n",
       "0          boat     1     1\n",
       "29         snow     1     1\n",
       "28       sleepy     1     1\n",
       "27        sleep     1     1\n",
       "26          red     1     1\n",
       "25         rain     1     1\n",
       "24        puppy     1     1\n",
       "23         pool     1     1\n",
       "22       police     1     1\n",
       "21       please     1     1\n",
       "20          owl     1     1\n",
       "19       orange     1     1\n",
       "18          old     1     1\n",
       "17         nuts     1     1\n",
       "16      morning     1     1\n",
       "15         kiss     1     1\n",
       "14           if     1     1\n",
       "12      hesheit     1     1\n",
       "11       haveto     1     1\n",
       "10         hate     1     1\n",
       "9          fish     1     1\n",
       "8         empty     1     1\n",
       "6         drink     1     1\n",
       "5        donkey     1     1\n",
       "4         dirty     1     1\n",
       "3           cat     1     1\n",
       "1   callonphone     1     1\n",
       "30   toothbrush     1     1\n",
       "31         wait     1     1\n",
       "13         hide     2     2\n",
       "7          drop     3     3\n",
       "2           car     3     3"
      ]
     },
     "execution_count": 19,
     "metadata": {},
     "output_type": "execute_result"
    }
   ],
   "source": [
    "wrongs = pd.DataFrame(data=wrong, columns=['pred','true','path'])\n",
    "wrongs.groupby('pred').count().reset_index().sort_values('true')"
   ]
  }
 ],
 "metadata": {
  "kernelspec": {
   "display_name": "Python 3 (ipykernel)",
   "language": "python",
   "name": "python3"
  },
  "language_info": {
   "codemirror_mode": {
    "name": "ipython",
    "version": 3
   },
   "file_extension": ".py",
   "mimetype": "text/x-python",
   "name": "python",
   "nbconvert_exporter": "python",
   "pygments_lexer": "ipython3",
   "version": "3.9.15"
  },
  "toc": {
   "base_numbering": 1,
   "nav_menu": {},
   "number_sections": true,
   "sideBar": true,
   "skip_h1_title": false,
   "title_cell": "Table of Contents",
   "title_sidebar": "Contents",
   "toc_cell": false,
   "toc_position": {},
   "toc_section_display": true,
   "toc_window_display": false
  }
 },
 "nbformat": 4,
 "nbformat_minor": 5
}
