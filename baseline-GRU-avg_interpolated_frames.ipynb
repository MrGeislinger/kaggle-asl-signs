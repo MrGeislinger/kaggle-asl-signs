{
 "cells": [
  {
   "cell_type": "markdown",
   "id": "e4c8a3c0",
   "metadata": {},
   "source": [
    "Baseline_TF\n",
    "https://www.kaggle.com/code/ivaneleskin/baseline-tf"
   ]
  },
  {
   "cell_type": "code",
   "execution_count": 1,
   "id": "743607ba",
   "metadata": {
    "ExecuteTime": {
     "end_time": "2023-03-01T20:03:38.772861Z",
     "start_time": "2023-03-01T20:03:37.150851Z"
    }
   },
   "outputs": [
    {
     "name": "stderr",
     "output_type": "stream",
     "text": [
      "2023-03-01 12:03:37.420214: I tensorflow/core/platform/cpu_feature_guard.cc:193] This TensorFlow binary is optimized with oneAPI Deep Neural Network Library (oneDNN) to use the following CPU instructions in performance-critical operations:  AVX2 FMA\n",
      "To enable them in other operations, rebuild TensorFlow with the appropriate compiler flags.\n",
      "2023-03-01 12:03:37.568709: E tensorflow/stream_executor/cuda/cuda_blas.cc:2981] Unable to register cuBLAS factory: Attempting to register factory for plugin cuBLAS when one has already been registered\n",
      "2023-03-01 12:03:38.032590: W tensorflow/stream_executor/platform/default/dso_loader.cc:64] Could not load dynamic library 'libnvinfer.so.7'; dlerror: libnvinfer.so.7: cannot open shared object file: No such file or directory; LD_LIBRARY_PATH: :/home/victor/miniconda3/envs/tf/lib/:/home/victor/miniconda3/envs/tf/lib/:/home/victor/miniconda3/envs/tf/lib/:/home/victor/miniconda3/envs/tf/lib/\n",
      "2023-03-01 12:03:38.032672: W tensorflow/stream_executor/platform/default/dso_loader.cc:64] Could not load dynamic library 'libnvinfer_plugin.so.7'; dlerror: libnvinfer_plugin.so.7: cannot open shared object file: No such file or directory; LD_LIBRARY_PATH: :/home/victor/miniconda3/envs/tf/lib/:/home/victor/miniconda3/envs/tf/lib/:/home/victor/miniconda3/envs/tf/lib/:/home/victor/miniconda3/envs/tf/lib/\n",
      "2023-03-01 12:03:38.032679: W tensorflow/compiler/tf2tensorrt/utils/py_utils.cc:38] TF-TRT Warning: Cannot dlopen some TensorRT libraries. If you would like to use Nvidia GPU with TensorRT, please make sure the missing libraries mentioned above are installed properly.\n"
     ]
    }
   ],
   "source": [
    "import os\n",
    "import json\n",
    "import numpy as np\n",
    "import pandas as pd\n",
    "from tqdm import tqdm\n",
    "import tensorflow as tf\n",
    "from tqdm import tqdm\n",
    "import json\n",
    "import gc\n",
    "from sklearn.model_selection import train_test_split\n",
    "# import missingno as msno\n",
    "\n",
    "from pathlib import Path"
   ]
  },
  {
   "cell_type": "code",
   "execution_count": 2,
   "id": "3ee4aeb4",
   "metadata": {
    "ExecuteTime": {
     "end_time": "2023-03-01T20:03:38.865255Z",
     "start_time": "2023-03-01T20:03:38.774589Z"
    }
   },
   "outputs": [
    {
     "name": "stdout",
     "output_type": "stream",
     "text": [
      "train.shape = 94477 rows, 4 cols\n",
      "<class 'pandas.core.frame.DataFrame'>\n",
      "RangeIndex: 94477 entries, 0 to 94476\n",
      "Data columns (total 4 columns):\n",
      " #   Column          Non-Null Count  Dtype \n",
      "---  ------          --------------  ----- \n",
      " 0   path            94477 non-null  object\n",
      " 1   participant_id  94477 non-null  int64 \n",
      " 2   sequence_id     94477 non-null  int64 \n",
      " 3   sign            94477 non-null  object\n",
      "dtypes: int64(2), object(2)\n",
      "memory usage: 2.9+ MB\n"
     ]
    },
    {
     "data": {
      "text/html": [
       "<div>\n",
       "<style scoped>\n",
       "    .dataframe tbody tr th:only-of-type {\n",
       "        vertical-align: middle;\n",
       "    }\n",
       "\n",
       "    .dataframe tbody tr th {\n",
       "        vertical-align: top;\n",
       "    }\n",
       "\n",
       "    .dataframe thead th {\n",
       "        text-align: right;\n",
       "    }\n",
       "</style>\n",
       "<table border=\"1\" class=\"dataframe\">\n",
       "  <thead>\n",
       "    <tr style=\"text-align: right;\">\n",
       "      <th></th>\n",
       "      <th>path</th>\n",
       "      <th>participant_id</th>\n",
       "      <th>sequence_id</th>\n",
       "      <th>sign</th>\n",
       "    </tr>\n",
       "  </thead>\n",
       "  <tbody>\n",
       "    <tr>\n",
       "      <th>0</th>\n",
       "      <td>train_landmark_files/26734/1000035562.parquet</td>\n",
       "      <td>26734</td>\n",
       "      <td>1000035562</td>\n",
       "      <td>blow</td>\n",
       "    </tr>\n",
       "    <tr>\n",
       "      <th>1</th>\n",
       "      <td>train_landmark_files/28656/1000106739.parquet</td>\n",
       "      <td>28656</td>\n",
       "      <td>1000106739</td>\n",
       "      <td>wait</td>\n",
       "    </tr>\n",
       "    <tr>\n",
       "      <th>2</th>\n",
       "      <td>train_landmark_files/16069/100015657.parquet</td>\n",
       "      <td>16069</td>\n",
       "      <td>100015657</td>\n",
       "      <td>cloud</td>\n",
       "    </tr>\n",
       "    <tr>\n",
       "      <th>3</th>\n",
       "      <td>train_landmark_files/25571/1000210073.parquet</td>\n",
       "      <td>25571</td>\n",
       "      <td>1000210073</td>\n",
       "      <td>bird</td>\n",
       "    </tr>\n",
       "    <tr>\n",
       "      <th>4</th>\n",
       "      <td>train_landmark_files/62590/1000240708.parquet</td>\n",
       "      <td>62590</td>\n",
       "      <td>1000240708</td>\n",
       "      <td>owie</td>\n",
       "    </tr>\n",
       "  </tbody>\n",
       "</table>\n",
       "</div>"
      ],
      "text/plain": [
       "                                            path  participant_id  sequence_id  \\\n",
       "0  train_landmark_files/26734/1000035562.parquet           26734   1000035562   \n",
       "1  train_landmark_files/28656/1000106739.parquet           28656   1000106739   \n",
       "2   train_landmark_files/16069/100015657.parquet           16069    100015657   \n",
       "3  train_landmark_files/25571/1000210073.parquet           25571   1000210073   \n",
       "4  train_landmark_files/62590/1000240708.parquet           62590   1000240708   \n",
       "\n",
       "    sign  \n",
       "0   blow  \n",
       "1   wait  \n",
       "2  cloud  \n",
       "3   bird  \n",
       "4   owie  "
      ]
     },
     "execution_count": 2,
     "metadata": {},
     "output_type": "execute_result"
    }
   ],
   "source": [
    "DATA_ROOT = Path('..')\n",
    "DF_TRAIN = DATA_ROOT / 'train.csv'\n",
    "train = pd.read_csv(DF_TRAIN)\n",
    "\n",
    "print(\"train.shape = {} rows, {} cols\".format(*train.shape))\n",
    "train.info()\n",
    "train.head()\n"
   ]
  },
  {
   "cell_type": "code",
   "execution_count": 3,
   "id": "11726f4f",
   "metadata": {
    "ExecuteTime": {
     "end_time": "2023-03-01T20:03:38.870997Z",
     "start_time": "2023-03-01T20:03:38.866549Z"
    }
   },
   "outputs": [],
   "source": [
    "class CFG:\n",
    "    data_path = \"../\"\n",
    "    quick_experiment = False\n",
    "    is_training = True\n",
    "    use_aggregation_dataset = True\n",
    "    num_classes = 250\n",
    "    rows_per_frame = 543 \n",
    "\n",
    "def load_relevant_data_subset_with_imputation(pq_path):\n",
    "    data_columns = ['x', 'y', 'z']\n",
    "    data = pd.read_parquet(pq_path, columns=data_columns)\n",
    "    data.replace(np.nan, 0, inplace=True)\n",
    "    n_frames = int(len(data) / CFG.rows_per_frame)\n",
    "    data = data.values.reshape(n_frames, CFG.rows_per_frame, len(data_columns))\n",
    "    return data.astype(np.float32)\n",
    "\n",
    "def load_relevant_data_subset(pq_path):\n",
    "    data_columns = ['x', 'y', 'z']\n",
    "    data = pd.read_parquet(pq_path, columns=data_columns)\n",
    "    n_frames = int(len(data) / CFG.rows_per_frame)\n",
    "    data = data.values.reshape(n_frames, CFG.rows_per_frame, len(data_columns))\n",
    "    return data.astype(np.float32)\n",
    "\n",
    "def read_dict(file_path):\n",
    "    path = os.path.expanduser(file_path)\n",
    "    with open(path, \"r\") as f:\n",
    "        dic = json.load(f)\n",
    "    return dic"
   ]
  },
  {
   "cell_type": "code",
   "execution_count": 4,
   "id": "150fc1bc",
   "metadata": {
    "ExecuteTime": {
     "end_time": "2023-03-01T20:03:38.961468Z",
     "start_time": "2023-03-01T20:03:38.872592Z"
    }
   },
   "outputs": [],
   "source": [
    "train = pd.read_csv(f\"{CFG.data_path}train.csv\")\n",
    "label_index = read_dict(f\"{CFG.data_path}sign_to_prediction_index_map.json\")\n",
    "index_label = {label_index[key]: key for key in label_index}\n",
    "train[\"label\"] = train[\"sign\"].map(lambda sign: label_index[sign])"
   ]
  },
  {
   "cell_type": "code",
   "execution_count": 5,
   "id": "fda181c9",
   "metadata": {
    "ExecuteTime": {
     "end_time": "2023-03-01T20:03:39.187744Z",
     "start_time": "2023-03-01T20:03:38.963014Z"
    }
   },
   "outputs": [
    {
     "name": "stdout",
     "output_type": "stream",
     "text": [
      "(94477, 543, 3) (94477,)\n"
     ]
    }
   ],
   "source": [
    "MAX_FRAMES = 5\n",
    "X_npy_fname = f'X_3d-avg-{MAX_FRAMES}_frames.npy'\n",
    "y_npy_fname = f'y.npy'\n",
    "\n",
    "\n",
    "if CFG.is_training:\n",
    "    try:\n",
    "        X = np.load(X_npy_fname)\n",
    "        y = np.load(y_npy_fname)\n",
    "    except:\n",
    "        print('True')\n",
    "        X = np.zeros((len(train), 543, 3))\n",
    "        y = np.zeros((len(train),))\n",
    "        num_frames = np.zeros(len(train))\n",
    "        for i in tqdm(range(len(train))):\n",
    "            path = f\"{CFG.data_path}{train.iloc[i].path}\"\n",
    "            data = load_relevant_data_subset_with_imputation(path)\n",
    "            ## Mean Aggregation\n",
    "            data_resize = tf.image.resize(\n",
    "                data,\n",
    "                (MAX_FRAMES, 543),\n",
    "                method='nearest',\n",
    "            )\n",
    "            X[i] = np.mean(data_resize, axis=0)\n",
    "            y[i] = train.iloc[i].label\n",
    "            num_frames[i] = data.shape[0]\n",
    "            if CFG.quick_experiment and i == 4999:\n",
    "                break\n",
    "        ## Save number of frames of each training sample for data analysis\n",
    "        train[\"num_frames\"] = num_frames\n",
    "        print(train[\"num_frames\"].describe())\n",
    "        train.to_csv(\"train.csv\", index=False)\n",
    "        np.save(X_npy_fname, X)\n",
    "        np.save(y_npy_fname, y)\n",
    "\n",
    "    print(X.shape, y.shape)"
   ]
  },
  {
   "cell_type": "code",
   "execution_count": 6,
   "id": "209d6968",
   "metadata": {
    "ExecuteTime": {
     "end_time": "2023-03-01T20:03:39.192554Z",
     "start_time": "2023-03-01T20:03:39.189218Z"
    }
   },
   "outputs": [
    {
     "data": {
      "text/plain": [
       "(94477, 543, 3)"
      ]
     },
     "execution_count": 6,
     "metadata": {},
     "output_type": "execute_result"
    }
   ],
   "source": [
    "X.shape"
   ]
  },
  {
   "cell_type": "code",
   "execution_count": 7,
   "id": "ba8fc712",
   "metadata": {
    "ExecuteTime": {
     "end_time": "2023-03-01T20:03:39.426029Z",
     "start_time": "2023-03-01T20:03:39.193798Z"
    }
   },
   "outputs": [
    {
     "name": "stdout",
     "output_type": "stream",
     "text": [
      "(75581, 543, 3) (75581,) (18896, 543, 3) (18896,)\n"
     ]
    }
   ],
   "source": [
    "X_train, X_val, y_train, y_val = train_test_split(X, y, test_size=0.2, random_state=27, stratify=y)\n",
    "print(X_train.shape, y_train.shape, X_val.shape, y_val.shape)"
   ]
  },
  {
   "cell_type": "markdown",
   "id": "68c533b4",
   "metadata": {
    "ExecuteTime": {
     "end_time": "2023-02-28T06:35:20.097696Z",
     "start_time": "2023-02-28T06:35:20.093856Z"
    }
   },
   "source": [
    "|part|start|end|\n",
    "|----|--|---|\n",
    "|face| 0| 467|\n",
    "|left_hand| 468| 488|\n",
    "|pose| 489| 521|\n",
    "|right_hand| 522| 542|"
   ]
  },
  {
   "cell_type": "code",
   "execution_count": 8,
   "id": "23e92ab1",
   "metadata": {
    "ExecuteTime": {
     "end_time": "2023-03-01T20:03:39.429902Z",
     "start_time": "2023-03-01T20:03:39.427514Z"
    }
   },
   "outputs": [],
   "source": [
    "# inputs = tf.keras.Input((MAX_FRAMES, 543, 3), dtype=tf.float32)\n",
    "# h1 = tf.keras.layers.Dense(128, activation=\"relu\")(inputs)\n",
    "# h1 = tf.keras.layers.Dense(128, activation=\"relu\")(h1)\n",
    "# h1 = tf.keras.layers.Dropout(0.2)(h1)\n",
    "# h2 = tf.keras.layers.Dense(64, activation=\"relu\")(h1)\n",
    "# h2 = tf.keras.layers.Dense(64, activation=\"relu\")(h2)\n",
    "# h3 = tf.keras.layers.Dropout(0.2)(h2)\n",
    "\n",
    "# concat = tf.keras.layers.Concatenate()([inputs, h3])\n",
    "# vector = tf.keras.layers.Dense(64, activation=\"relu\")(concat)\n",
    "# vector = tf.keras.layers.Dense(64, activation=\"relu\")(vector)\n",
    "# vector = tf.keras.layers.Dropout(0.2)(vector)\n",
    "# vector = tf.keras.layers.Flatten()(vector)\n",
    "# output = tf.keras.layers.Dense(250, activation=\"softmax\")(vector)\n",
    "\n",
    "\n",
    "# model = tf.keras.Model(inputs=inputs, outputs=output)\n",
    "# model.compile(\n",
    "#     loss=tf.keras.losses.SparseCategoricalCrossentropy(),\n",
    "#     optimizer='adam',\n",
    "#     metrics=[\n",
    "#         'accuracy',\n",
    "#         tf.keras.metrics.SparseTopKCategoricalAccuracy(k=5, name='top-05-acc'),\n",
    "#         tf.keras.metrics.SparseTopKCategoricalAccuracy(k=10, name='top-10-acc'),\n",
    "#     ]\n",
    "# )"
   ]
  },
  {
   "cell_type": "code",
   "execution_count": 9,
   "id": "fcf9e4ea",
   "metadata": {
    "ExecuteTime": {
     "end_time": "2023-03-01T20:03:39.453397Z",
     "start_time": "2023-03-01T20:03:39.430999Z"
    }
   },
   "outputs": [],
   "source": [
    "# tf.keras.layers.Lambda(lambda x: x[:, 0:  468, :]) #face\n",
    "# tf.keras.layers.Lambda(lambda x: x[:, 468:489, :]) #left_hand\n",
    "# tf.keras.layers.Lambda(lambda x: x[:, 489:522, :]) #pose\n",
    "# tf.keras.layers.Lambda(lambda x: x[:, 522:542, :]) #right_hand"
   ]
  },
  {
   "cell_type": "code",
   "execution_count": 10,
   "id": "141790b0",
   "metadata": {
    "ExecuteTime": {
     "end_time": "2023-03-01T20:03:39.464121Z",
     "start_time": "2023-03-01T20:03:39.455715Z"
    }
   },
   "outputs": [],
   "source": [
    "# N_FACE_PTS = 468\n",
    "# N_HAND_PTS = 21\n",
    "# N_POSE_PTS = 20\n",
    "\n",
    "\n",
    "# input_left = tf.keras.layers.Input(shape=(N_HAND_PTS,))\n",
    "# input_right = tf.keras.layers.Input(shape=(N_HAND_PTS,))\n",
    "# input_face = tf.keras.layers.Input(shape=(N_FACE_PTS,))\n",
    "# input_pose = tf.keras.layers.Input(shape=(N_POSE_PTS,))\n",
    "\n",
    "\n",
    "# head_avg = tf.keras.layers.Lambda(\n",
    "#     lambda x: tf.reduce_mean(x, axis=1, keepdims=True))(input_face)\n",
    "\n",
    "# # Get just the left hand + avg head\n",
    "# left_head_avg = tf.keras.layers.Concatenate()([input_left, head_avg])\n",
    "\n",
    "# # Get just the right hand + avg head\n",
    "# right_head_avg = tf.keras.layers.Concatenate()([input_right, head_avg])\n",
    "\n",
    "\n",
    "\n",
    "# x1 = tf.keras.layers.Dense(8, activation='relu')(input1)\n",
    "# input2 = tf.keras.layers.Input(shape=(32,))\n",
    "# x2 = tf.keras.layers.Dense(8, activation='relu')(input2)\n",
    "# avg = tf.keras.layers.Average()([x1, x2])\n",
    "# out = tf.keras.layers.Dense(4)(avg)\n",
    "# model = tf.keras.models.Model(inputs=[input1, input2], outputs=out)"
   ]
  },
  {
   "cell_type": "code",
   "execution_count": 11,
   "id": "f526c1a7",
   "metadata": {
    "ExecuteTime": {
     "end_time": "2023-03-01T20:03:39.478891Z",
     "start_time": "2023-03-01T20:03:39.465149Z"
    }
   },
   "outputs": [],
   "source": [
    "# inputs = tf.keras.Input((543, 3), dtype=tf.float32)\n",
    "# h1 = tf.keras.layers.Dense(128, activation=\"relu\")(inputs)\n",
    "# h2 = tf.keras.layers.Dense(64, activation=\"relu\")(h1)\n",
    "# h3 = tf.keras.layers.Dense(64, activation=\"relu\")(h2)\n",
    "# \n",
    "# concat = tf.keras.layers.Concatenate()([inputs, h3])\n",
    "# vector = tf.keras.layers.Dense(64, activation=\"relu\")(concat)\n",
    "# vector = tf.keras.layers.Dense(32, activation=\"relu\")(vector)\n",
    "# vector = tf.keras.layers.Dense(32, activation=\"relu\")(vector)\n",
    "# vector = tf.keras.layers.Flatten()(vector)\n",
    "# output = tf.keras.layers.Dense(250, activation=\"softmax\")(vector)\n",
    "\n",
    "# model = tf.keras.Model(inputs=inputs, outputs=output)\n",
    "# model.compile(\n",
    "#     loss=tf.keras.losses.SparseCategoricalCrossentropy(), \n",
    "#     metrics=[\n",
    "#         \"accuracy\",\n",
    "#         tf.keras.metrics.SparseTopKCategoricalAccuracy(k=5, name=\"top-5-accuracy\"),\n",
    "#         tf.keras.metrics.SparseTopKCategoricalAccuracy(k=10),\n",
    "#     ]\n",
    "# )"
   ]
  },
  {
   "cell_type": "code",
   "execution_count": 12,
   "id": "5b8618e0",
   "metadata": {
    "ExecuteTime": {
     "end_time": "2023-03-01T20:03:39.489702Z",
     "start_time": "2023-03-01T20:03:39.480289Z"
    },
    "scrolled": true
   },
   "outputs": [],
   "source": [
    "# model = tf.keras.Sequential([\n",
    "# #     tf.keras.layers.ConvLSTM1D(128, kernel_size=2, return_sequences=True, input_shape=[None, 543, 3]),\n",
    "# #     tf.keras.layers.ConvLSTM1D(128, kernel_size=2,),\n",
    "#     tf.keras.layers.GRU(256, return_sequences=True, input_shape=(None, 3)),\n",
    "#     tf.keras.layers.GRU(256),\n",
    "#     tf.keras.layers.Dense(256, activation=\"relu\"),\n",
    "#     tf.keras.layers.Dropout(0.4),\n",
    "#     tf.keras.layers.Dense(128, activation=\"relu\"),\n",
    "#     tf.keras.layers.Dropout(0.2),\n",
    "#     tf.keras.layers.Dense(128, activation=\"relu\"),\n",
    "#     tf.keras.layers.Dropout(0.2),\n",
    "#     tf.keras.layers.Dense(64, activation=\"relu\"),\n",
    "#     tf.keras.layers.Dense(64, activation=\"relu\"),\n",
    "#     tf.keras.layers.Dropout(0.2),\n",
    "#     tf.keras.layers.Flatten(),\n",
    "#     tf.keras.layers.Dense(250, activation=\"softmax\"),\n",
    "# ])\n",
    "\n",
    "# model.compile(\n",
    "#     loss=tf.keras.losses.SparseCategoricalCrossentropy(), \n",
    "#     optimizer='adam',\n",
    "#     metrics=[\n",
    "#         \"accuracy\",\n",
    "#         tf.keras.metrics.SparseTopKCategoricalAccuracy(k=5, name=\"top-05-acc\"),\n",
    "#         tf.keras.metrics.SparseTopKCategoricalAccuracy(k=10, name=\"top-10-acc\"),\n",
    "#     ]\n",
    "# )\n",
    "\n",
    "# model.summary()"
   ]
  },
  {
   "cell_type": "code",
   "execution_count": 13,
   "id": "72711970",
   "metadata": {
    "ExecuteTime": {
     "end_time": "2023-03-01T20:03:40.547577Z",
     "start_time": "2023-03-01T20:03:39.491369Z"
    }
   },
   "outputs": [
    {
     "name": "stderr",
     "output_type": "stream",
     "text": [
      "2023-03-01 12:03:39.534582: I tensorflow/stream_executor/cuda/cuda_gpu_executor.cc:980] successful NUMA node read from SysFS had negative value (-1), but there must be at least one NUMA node, so returning NUMA node zero\n",
      "2023-03-01 12:03:39.541346: I tensorflow/stream_executor/cuda/cuda_gpu_executor.cc:980] successful NUMA node read from SysFS had negative value (-1), but there must be at least one NUMA node, so returning NUMA node zero\n",
      "2023-03-01 12:03:39.541610: I tensorflow/stream_executor/cuda/cuda_gpu_executor.cc:980] successful NUMA node read from SysFS had negative value (-1), but there must be at least one NUMA node, so returning NUMA node zero\n",
      "2023-03-01 12:03:39.542369: I tensorflow/core/platform/cpu_feature_guard.cc:193] This TensorFlow binary is optimized with oneAPI Deep Neural Network Library (oneDNN) to use the following CPU instructions in performance-critical operations:  AVX2 FMA\n",
      "To enable them in other operations, rebuild TensorFlow with the appropriate compiler flags.\n",
      "2023-03-01 12:03:39.546100: I tensorflow/stream_executor/cuda/cuda_gpu_executor.cc:980] successful NUMA node read from SysFS had negative value (-1), but there must be at least one NUMA node, so returning NUMA node zero\n",
      "2023-03-01 12:03:39.546349: I tensorflow/stream_executor/cuda/cuda_gpu_executor.cc:980] successful NUMA node read from SysFS had negative value (-1), but there must be at least one NUMA node, so returning NUMA node zero\n",
      "2023-03-01 12:03:39.546565: I tensorflow/stream_executor/cuda/cuda_gpu_executor.cc:980] successful NUMA node read from SysFS had negative value (-1), but there must be at least one NUMA node, so returning NUMA node zero\n",
      "2023-03-01 12:03:40.010576: I tensorflow/stream_executor/cuda/cuda_gpu_executor.cc:980] successful NUMA node read from SysFS had negative value (-1), but there must be at least one NUMA node, so returning NUMA node zero\n",
      "2023-03-01 12:03:40.010774: I tensorflow/stream_executor/cuda/cuda_gpu_executor.cc:980] successful NUMA node read from SysFS had negative value (-1), but there must be at least one NUMA node, so returning NUMA node zero\n",
      "2023-03-01 12:03:40.010912: I tensorflow/stream_executor/cuda/cuda_gpu_executor.cc:980] successful NUMA node read from SysFS had negative value (-1), but there must be at least one NUMA node, so returning NUMA node zero\n",
      "2023-03-01 12:03:40.011029: I tensorflow/core/common_runtime/gpu/gpu_device.cc:1616] Created device /job:localhost/replica:0/task:0/device:GPU:0 with 21809 MB memory:  -> device: 0, name: NVIDIA GeForce RTX 3090 Ti, pci bus id: 0000:01:00.0, compute capability: 8.6\n"
     ]
    },
    {
     "name": "stdout",
     "output_type": "stream",
     "text": [
      "Model: \"sequential\"\n",
      "_________________________________________________________________\n",
      " Layer (type)                Output Shape              Param #   \n",
      "=================================================================\n",
      " gru (GRU)                   (None, None, 128)         51072     \n",
      "                                                                 \n",
      " gru_1 (GRU)                 (None, 128)               99072     \n",
      "                                                                 \n",
      " dense (Dense)               (None, 128)               16512     \n",
      "                                                                 \n",
      " dropout (Dropout)           (None, 128)               0         \n",
      "                                                                 \n",
      " dense_1 (Dense)             (None, 128)               16512     \n",
      "                                                                 \n",
      " dense_2 (Dense)             (None, 128)               16512     \n",
      "                                                                 \n",
      " dropout_1 (Dropout)         (None, 128)               0         \n",
      "                                                                 \n",
      " dense_3 (Dense)             (None, 64)                8256      \n",
      "                                                                 \n",
      " dense_4 (Dense)             (None, 64)                4160      \n",
      "                                                                 \n",
      " dropout_2 (Dropout)         (None, 64)                0         \n",
      "                                                                 \n",
      " flatten (Flatten)           (None, 64)                0         \n",
      "                                                                 \n",
      " dense_5 (Dense)             (None, 250)               16250     \n",
      "                                                                 \n",
      "=================================================================\n",
      "Total params: 228,346\n",
      "Trainable params: 228,346\n",
      "Non-trainable params: 0\n",
      "_________________________________________________________________\n"
     ]
    }
   ],
   "source": [
    "model = tf.keras.Sequential([\n",
    "    tf.keras.layers.GRU(128, return_sequences=True, input_shape=(None, 3)),\n",
    "    tf.keras.layers.GRU(128),\n",
    "    tf.keras.layers.Dense(128, activation=\"relu\"),\n",
    "    tf.keras.layers.Dropout(0.4),\n",
    "    tf.keras.layers.Dense(128, activation=\"relu\"),\n",
    "    tf.keras.layers.Dense(128, activation=\"relu\"),\n",
    "    tf.keras.layers.Dropout(0.2),\n",
    "    tf.keras.layers.Dense(64, activation=\"relu\"),\n",
    "    tf.keras.layers.Dense(64, activation=\"relu\"),\n",
    "    tf.keras.layers.Dropout(0.2),\n",
    "    tf.keras.layers.Flatten(),\n",
    "    tf.keras.layers.Dense(250, activation='softmax'),\n",
    "])\n",
    "\n",
    "model.compile(\n",
    "    loss=tf.keras.losses.SparseCategoricalCrossentropy(), \n",
    "    metrics=[\n",
    "        \"accuracy\",\n",
    "        tf.keras.metrics.SparseTopKCategoricalAccuracy(k=5, name=\"top-05-acc\"),\n",
    "        tf.keras.metrics.SparseTopKCategoricalAccuracy(k=10, name=\"top-10-acc\"),\n",
    "    ]\n",
    ")\n",
    "\n",
    "model.summary()"
   ]
  },
  {
   "cell_type": "code",
   "execution_count": 14,
   "id": "28309e83",
   "metadata": {
    "ExecuteTime": {
     "end_time": "2023-03-01T21:19:21.957021Z",
     "start_time": "2023-03-01T20:03:40.548998Z"
    },
    "scrolled": true
   },
   "outputs": [
    {
     "name": "stdout",
     "output_type": "stream",
     "text": [
      "Epoch 1/500\n"
     ]
    },
    {
     "name": "stderr",
     "output_type": "stream",
     "text": [
      "2023-03-01 12:03:43.573708: I tensorflow/stream_executor/cuda/cuda_dnn.cc:384] Loaded cuDNN version 8100\n"
     ]
    },
    {
     "name": "stdout",
     "output_type": "stream",
     "text": [
      "\r",
      "  1/591 [..............................] - ETA: 32:40 - loss: 5.5215 - accuracy: 0.0156 - top-05-acc: 0.0156 - top-10-acc: 0.0391"
     ]
    },
    {
     "name": "stderr",
     "output_type": "stream",
     "text": [
      "2023-03-01 12:03:44.247620: I tensorflow/stream_executor/cuda/cuda_blas.cc:1614] TensorFloat-32 will be used for the matrix multiplication. This will only be logged once.\n"
     ]
    },
    {
     "name": "stdout",
     "output_type": "stream",
     "text": [
      "591/591 [==============================] - 46s 73ms/step - loss: 5.4563 - accuracy: 0.0054 - top-05-acc: 0.0261 - top-10-acc: 0.0524 - val_loss: 5.3873 - val_accuracy: 0.0075 - val_top-05-acc: 0.0354 - val_top-10-acc: 0.0683\n",
      "Epoch 2/500\n",
      "591/591 [==============================] - 43s 73ms/step - loss: 5.3127 - accuracy: 0.0095 - top-05-acc: 0.0467 - top-10-acc: 0.0875 - val_loss: 5.1786 - val_accuracy: 0.0171 - val_top-05-acc: 0.0730 - val_top-10-acc: 0.1303\n",
      "Epoch 3/500\n",
      "591/591 [==============================] - 43s 72ms/step - loss: 5.0342 - accuracy: 0.0215 - top-05-acc: 0.0918 - top-10-acc: 0.1642 - val_loss: 4.8640 - val_accuracy: 0.0367 - val_top-05-acc: 0.1307 - val_top-10-acc: 0.2201\n",
      "Epoch 4/500\n",
      "591/591 [==============================] - 42s 70ms/step - loss: 4.8461 - accuracy: 0.0336 - top-05-acc: 0.1305 - top-10-acc: 0.2210 - val_loss: 4.7602 - val_accuracy: 0.0469 - val_top-05-acc: 0.1635 - val_top-10-acc: 0.2600\n",
      "Epoch 5/500\n",
      "591/591 [==============================] - 42s 72ms/step - loss: 4.6933 - accuracy: 0.0461 - top-05-acc: 0.1678 - top-10-acc: 0.2708 - val_loss: 4.5742 - val_accuracy: 0.0597 - val_top-05-acc: 0.2034 - val_top-10-acc: 0.3137\n",
      "Epoch 6/500\n",
      "591/591 [==============================] - 43s 72ms/step - loss: 4.5188 - accuracy: 0.0590 - top-05-acc: 0.2081 - top-10-acc: 0.3251 - val_loss: 4.4126 - val_accuracy: 0.0715 - val_top-05-acc: 0.2352 - val_top-10-acc: 0.3525\n",
      "Epoch 7/500\n",
      "591/591 [==============================] - 42s 71ms/step - loss: 4.3676 - accuracy: 0.0705 - top-05-acc: 0.2427 - top-10-acc: 0.3723 - val_loss: 4.2010 - val_accuracy: 0.0914 - val_top-05-acc: 0.2887 - val_top-10-acc: 0.4260\n",
      "Epoch 8/500\n",
      "591/591 [==============================] - 43s 72ms/step - loss: 4.2431 - accuracy: 0.0819 - top-05-acc: 0.2724 - top-10-acc: 0.4087 - val_loss: 4.0867 - val_accuracy: 0.1001 - val_top-05-acc: 0.3196 - val_top-10-acc: 0.4600\n",
      "Epoch 9/500\n",
      "591/591 [==============================] - 42s 71ms/step - loss: 4.1543 - accuracy: 0.0935 - top-05-acc: 0.2982 - top-10-acc: 0.4386 - val_loss: 3.9949 - val_accuracy: 0.1122 - val_top-05-acc: 0.3348 - val_top-10-acc: 0.4743\n",
      "Epoch 10/500\n",
      "591/591 [==============================] - 42s 72ms/step - loss: 4.0708 - accuracy: 0.1014 - top-05-acc: 0.3193 - top-10-acc: 0.4650 - val_loss: 3.9189 - val_accuracy: 0.1255 - val_top-05-acc: 0.3606 - val_top-10-acc: 0.5062\n",
      "Epoch 11/500\n",
      "591/591 [==============================] - 43s 72ms/step - loss: 3.9995 - accuracy: 0.1119 - top-05-acc: 0.3406 - top-10-acc: 0.4852 - val_loss: 3.8970 - val_accuracy: 0.1342 - val_top-05-acc: 0.3717 - val_top-10-acc: 0.5126\n",
      "Epoch 12/500\n",
      "591/591 [==============================] - 43s 72ms/step - loss: 3.9376 - accuracy: 0.1202 - top-05-acc: 0.3581 - top-10-acc: 0.5044 - val_loss: 3.7623 - val_accuracy: 0.1523 - val_top-05-acc: 0.4034 - val_top-10-acc: 0.5496\n",
      "Epoch 13/500\n",
      "591/591 [==============================] - 43s 72ms/step - loss: 3.8663 - accuracy: 0.1303 - top-05-acc: 0.3774 - top-10-acc: 0.5230 - val_loss: 3.7516 - val_accuracy: 0.1569 - val_top-05-acc: 0.4132 - val_top-10-acc: 0.5514\n",
      "Epoch 14/500\n",
      "591/591 [==============================] - 42s 71ms/step - loss: 3.8022 - accuracy: 0.1390 - top-05-acc: 0.3932 - top-10-acc: 0.5389 - val_loss: 3.6715 - val_accuracy: 0.1610 - val_top-05-acc: 0.4264 - val_top-10-acc: 0.5708\n",
      "Epoch 15/500\n",
      "591/591 [==============================] - 41s 70ms/step - loss: 3.7428 - accuracy: 0.1477 - top-05-acc: 0.4108 - top-10-acc: 0.5549 - val_loss: 3.6128 - val_accuracy: 0.1770 - val_top-05-acc: 0.4436 - val_top-10-acc: 0.5809\n",
      "Epoch 16/500\n",
      "591/591 [==============================] - 42s 71ms/step - loss: 3.6870 - accuracy: 0.1559 - top-05-acc: 0.4248 - top-10-acc: 0.5702 - val_loss: 3.4922 - val_accuracy: 0.1933 - val_top-05-acc: 0.4713 - val_top-10-acc: 0.6082\n",
      "Epoch 17/500\n",
      "591/591 [==============================] - 42s 71ms/step - loss: 3.6355 - accuracy: 0.1664 - top-05-acc: 0.4404 - top-10-acc: 0.5829 - val_loss: 3.4332 - val_accuracy: 0.2076 - val_top-05-acc: 0.4930 - val_top-10-acc: 0.6320\n",
      "Epoch 18/500\n",
      "591/591 [==============================] - 42s 71ms/step - loss: 3.5881 - accuracy: 0.1720 - top-05-acc: 0.4504 - top-10-acc: 0.5964 - val_loss: 3.4502 - val_accuracy: 0.2062 - val_top-05-acc: 0.4839 - val_top-10-acc: 0.6199\n",
      "Epoch 19/500\n",
      "591/591 [==============================] - 42s 71ms/step - loss: 3.5472 - accuracy: 0.1784 - top-05-acc: 0.4616 - top-10-acc: 0.6056 - val_loss: 3.3944 - val_accuracy: 0.2105 - val_top-05-acc: 0.5002 - val_top-10-acc: 0.6319\n",
      "Epoch 20/500\n",
      "591/591 [==============================] - 43s 72ms/step - loss: 3.5033 - accuracy: 0.1872 - top-05-acc: 0.4740 - top-10-acc: 0.6144 - val_loss: 3.3288 - val_accuracy: 0.2216 - val_top-05-acc: 0.5148 - val_top-10-acc: 0.6454\n",
      "Epoch 21/500\n",
      "591/591 [==============================] - 42s 72ms/step - loss: 3.4698 - accuracy: 0.1938 - top-05-acc: 0.4837 - top-10-acc: 0.6228 - val_loss: 3.2247 - val_accuracy: 0.2430 - val_top-05-acc: 0.5423 - val_top-10-acc: 0.6717\n",
      "Epoch 22/500\n",
      "591/591 [==============================] - 43s 72ms/step - loss: 3.4269 - accuracy: 0.1990 - top-05-acc: 0.4944 - top-10-acc: 0.6323 - val_loss: 3.3138 - val_accuracy: 0.2227 - val_top-05-acc: 0.5271 - val_top-10-acc: 0.6596\n",
      "Epoch 23/500\n",
      "591/591 [==============================] - 42s 72ms/step - loss: 3.3909 - accuracy: 0.2074 - top-05-acc: 0.5024 - top-10-acc: 0.6392 - val_loss: 3.2946 - val_accuracy: 0.2273 - val_top-05-acc: 0.5194 - val_top-10-acc: 0.6502\n",
      "Epoch 24/500\n",
      "591/591 [==============================] - 42s 71ms/step - loss: 3.3606 - accuracy: 0.2116 - top-05-acc: 0.5102 - top-10-acc: 0.6475 - val_loss: 3.1580 - val_accuracy: 0.2540 - val_top-05-acc: 0.5569 - val_top-10-acc: 0.6815\n",
      "Epoch 25/500\n",
      "591/591 [==============================] - 42s 71ms/step - loss: 3.3286 - accuracy: 0.2183 - top-05-acc: 0.5205 - top-10-acc: 0.6539 - val_loss: 3.1191 - val_accuracy: 0.2625 - val_top-05-acc: 0.5664 - val_top-10-acc: 0.6910\n",
      "Epoch 26/500\n",
      "591/591 [==============================] - 42s 71ms/step - loss: 3.2989 - accuracy: 0.2216 - top-05-acc: 0.5257 - top-10-acc: 0.6580 - val_loss: 3.1846 - val_accuracy: 0.2552 - val_top-05-acc: 0.5577 - val_top-10-acc: 0.6788\n",
      "Epoch 27/500\n",
      "591/591 [==============================] - 41s 70ms/step - loss: 3.2797 - accuracy: 0.2282 - top-05-acc: 0.5316 - top-10-acc: 0.6635 - val_loss: 3.2124 - val_accuracy: 0.2482 - val_top-05-acc: 0.5500 - val_top-10-acc: 0.6727\n",
      "Epoch 28/500\n",
      "591/591 [==============================] - 42s 71ms/step - loss: 3.2506 - accuracy: 0.2321 - top-05-acc: 0.5364 - top-10-acc: 0.6669 - val_loss: 3.1574 - val_accuracy: 0.2559 - val_top-05-acc: 0.5572 - val_top-10-acc: 0.6780\n",
      "Epoch 29/500\n",
      "591/591 [==============================] - 42s 71ms/step - loss: 3.2298 - accuracy: 0.2389 - top-05-acc: 0.5445 - top-10-acc: 0.6733 - val_loss: 3.0288 - val_accuracy: 0.2803 - val_top-05-acc: 0.5844 - val_top-10-acc: 0.7051\n",
      "Epoch 30/500\n",
      "591/591 [==============================] - 42s 71ms/step - loss: 3.1981 - accuracy: 0.2435 - top-05-acc: 0.5497 - top-10-acc: 0.6777 - val_loss: 3.1338 - val_accuracy: 0.2602 - val_top-05-acc: 0.5646 - val_top-10-acc: 0.6867\n",
      "Epoch 31/500\n",
      "591/591 [==============================] - 43s 73ms/step - loss: 3.1751 - accuracy: 0.2506 - top-05-acc: 0.5554 - top-10-acc: 0.6817 - val_loss: 3.0062 - val_accuracy: 0.2873 - val_top-05-acc: 0.5972 - val_top-10-acc: 0.7122\n",
      "Epoch 32/500\n",
      "591/591 [==============================] - 42s 71ms/step - loss: 3.1577 - accuracy: 0.2487 - top-05-acc: 0.5596 - top-10-acc: 0.6874 - val_loss: 3.0378 - val_accuracy: 0.2838 - val_top-05-acc: 0.5906 - val_top-10-acc: 0.7024\n",
      "Epoch 33/500\n",
      "591/591 [==============================] - 42s 71ms/step - loss: 3.1362 - accuracy: 0.2562 - top-05-acc: 0.5647 - top-10-acc: 0.6887 - val_loss: 3.0023 - val_accuracy: 0.2932 - val_top-05-acc: 0.5908 - val_top-10-acc: 0.7061\n",
      "Epoch 34/500\n",
      "591/591 [==============================] - 42s 71ms/step - loss: 3.1197 - accuracy: 0.2593 - top-05-acc: 0.5684 - top-10-acc: 0.6930 - val_loss: 2.9411 - val_accuracy: 0.3006 - val_top-05-acc: 0.6070 - val_top-10-acc: 0.7176\n",
      "Epoch 35/500\n"
     ]
    },
    {
     "name": "stdout",
     "output_type": "stream",
     "text": [
      "591/591 [==============================] - 43s 73ms/step - loss: 3.1016 - accuracy: 0.2647 - top-05-acc: 0.5732 - top-10-acc: 0.6953 - val_loss: 3.0052 - val_accuracy: 0.2843 - val_top-05-acc: 0.5926 - val_top-10-acc: 0.7075\n",
      "Epoch 36/500\n",
      "591/591 [==============================] - 43s 73ms/step - loss: 3.0830 - accuracy: 0.2652 - top-05-acc: 0.5766 - top-10-acc: 0.6987 - val_loss: 3.0687 - val_accuracy: 0.2779 - val_top-05-acc: 0.5785 - val_top-10-acc: 0.6958\n",
      "Epoch 37/500\n",
      "591/591 [==============================] - 43s 72ms/step - loss: 3.0629 - accuracy: 0.2706 - top-05-acc: 0.5820 - top-10-acc: 0.7013 - val_loss: 2.9716 - val_accuracy: 0.3003 - val_top-05-acc: 0.5976 - val_top-10-acc: 0.7077\n",
      "Epoch 38/500\n",
      "591/591 [==============================] - 43s 72ms/step - loss: 3.0470 - accuracy: 0.2751 - top-05-acc: 0.5848 - top-10-acc: 0.7041 - val_loss: 2.9274 - val_accuracy: 0.3108 - val_top-05-acc: 0.6116 - val_top-10-acc: 0.7221\n",
      "Epoch 39/500\n",
      "591/591 [==============================] - 42s 71ms/step - loss: 3.0303 - accuracy: 0.2787 - top-05-acc: 0.5880 - top-10-acc: 0.7060 - val_loss: 2.8695 - val_accuracy: 0.3167 - val_top-05-acc: 0.6198 - val_top-10-acc: 0.7275\n",
      "Epoch 40/500\n",
      "591/591 [==============================] - 42s 72ms/step - loss: 3.0159 - accuracy: 0.2805 - top-05-acc: 0.5926 - top-10-acc: 0.7096 - val_loss: 2.9336 - val_accuracy: 0.3074 - val_top-05-acc: 0.6047 - val_top-10-acc: 0.7162\n",
      "Epoch 41/500\n",
      "591/591 [==============================] - 43s 73ms/step - loss: 3.0025 - accuracy: 0.2829 - top-05-acc: 0.5929 - top-10-acc: 0.7102 - val_loss: 2.8531 - val_accuracy: 0.3210 - val_top-05-acc: 0.6270 - val_top-10-acc: 0.7327\n",
      "Epoch 42/500\n",
      "591/591 [==============================] - 42s 71ms/step - loss: 2.9811 - accuracy: 0.2866 - top-05-acc: 0.5995 - top-10-acc: 0.7151 - val_loss: 2.8972 - val_accuracy: 0.3183 - val_top-05-acc: 0.6204 - val_top-10-acc: 0.7257\n",
      "Epoch 43/500\n",
      "591/591 [==============================] - 42s 71ms/step - loss: 2.9807 - accuracy: 0.2898 - top-05-acc: 0.6002 - top-10-acc: 0.7159 - val_loss: 2.8701 - val_accuracy: 0.3214 - val_top-05-acc: 0.6226 - val_top-10-acc: 0.7288\n",
      "Epoch 44/500\n",
      "591/591 [==============================] - 42s 72ms/step - loss: 2.9604 - accuracy: 0.2926 - top-05-acc: 0.6026 - top-10-acc: 0.7192 - val_loss: 2.8482 - val_accuracy: 0.3258 - val_top-05-acc: 0.6246 - val_top-10-acc: 0.7336\n",
      "Epoch 45/500\n",
      "591/591 [==============================] - 42s 71ms/step - loss: 2.9438 - accuracy: 0.2951 - top-05-acc: 0.6089 - top-10-acc: 0.7221 - val_loss: 2.8463 - val_accuracy: 0.3262 - val_top-05-acc: 0.6270 - val_top-10-acc: 0.7369\n",
      "Epoch 46/500\n",
      "591/591 [==============================] - 42s 71ms/step - loss: 2.9345 - accuracy: 0.2990 - top-05-acc: 0.6077 - top-10-acc: 0.7209 - val_loss: 2.8214 - val_accuracy: 0.3317 - val_top-05-acc: 0.6349 - val_top-10-acc: 0.7368\n",
      "Epoch 47/500\n",
      "591/591 [==============================] - 43s 72ms/step - loss: 2.9251 - accuracy: 0.3007 - top-05-acc: 0.6108 - top-10-acc: 0.7252 - val_loss: 2.7762 - val_accuracy: 0.3428 - val_top-05-acc: 0.6424 - val_top-10-acc: 0.7421\n",
      "Epoch 48/500\n",
      "591/591 [==============================] - 43s 73ms/step - loss: 2.9096 - accuracy: 0.3030 - top-05-acc: 0.6164 - top-10-acc: 0.7271 - val_loss: 2.7717 - val_accuracy: 0.3411 - val_top-05-acc: 0.6408 - val_top-10-acc: 0.7414\n",
      "Epoch 49/500\n",
      "591/591 [==============================] - 42s 71ms/step - loss: 2.9060 - accuracy: 0.3042 - top-05-acc: 0.6157 - top-10-acc: 0.7283 - val_loss: 2.7687 - val_accuracy: 0.3420 - val_top-05-acc: 0.6423 - val_top-10-acc: 0.7446\n",
      "Epoch 50/500\n",
      "591/591 [==============================] - 43s 72ms/step - loss: 2.8857 - accuracy: 0.3115 - top-05-acc: 0.6193 - top-10-acc: 0.7300 - val_loss: 2.7439 - val_accuracy: 0.3477 - val_top-05-acc: 0.6463 - val_top-10-acc: 0.7483\n",
      "Epoch 51/500\n",
      "591/591 [==============================] - 42s 70ms/step - loss: 2.8796 - accuracy: 0.3107 - top-05-acc: 0.6218 - top-10-acc: 0.7318 - val_loss: 2.7855 - val_accuracy: 0.3392 - val_top-05-acc: 0.6397 - val_top-10-acc: 0.7432\n",
      "Epoch 52/500\n",
      "591/591 [==============================] - 42s 71ms/step - loss: 2.8696 - accuracy: 0.3131 - top-05-acc: 0.6226 - top-10-acc: 0.7336 - val_loss: 2.8081 - val_accuracy: 0.3383 - val_top-05-acc: 0.6328 - val_top-10-acc: 0.7402\n",
      "Epoch 53/500\n",
      "591/591 [==============================] - 41s 69ms/step - loss: 2.8573 - accuracy: 0.3156 - top-05-acc: 0.6246 - top-10-acc: 0.7340 - val_loss: 2.7710 - val_accuracy: 0.3450 - val_top-05-acc: 0.6445 - val_top-10-acc: 0.7444\n",
      "Epoch 54/500\n",
      "591/591 [==============================] - 42s 71ms/step - loss: 2.8483 - accuracy: 0.3172 - top-05-acc: 0.6276 - top-10-acc: 0.7336 - val_loss: 2.7994 - val_accuracy: 0.3317 - val_top-05-acc: 0.6374 - val_top-10-acc: 0.7407\n",
      "Epoch 55/500\n",
      "591/591 [==============================] - 42s 72ms/step - loss: 2.8402 - accuracy: 0.3192 - top-05-acc: 0.6273 - top-10-acc: 0.7356 - val_loss: 2.7329 - val_accuracy: 0.3513 - val_top-05-acc: 0.6488 - val_top-10-acc: 0.7495\n",
      "Epoch 56/500\n",
      "591/591 [==============================] - 42s 71ms/step - loss: 2.8291 - accuracy: 0.3208 - top-05-acc: 0.6328 - top-10-acc: 0.7392 - val_loss: 2.7386 - val_accuracy: 0.3471 - val_top-05-acc: 0.6490 - val_top-10-acc: 0.7477\n",
      "Epoch 57/500\n",
      "591/591 [==============================] - 42s 72ms/step - loss: 2.8248 - accuracy: 0.3234 - top-05-acc: 0.6318 - top-10-acc: 0.7377 - val_loss: 2.7219 - val_accuracy: 0.3530 - val_top-05-acc: 0.6517 - val_top-10-acc: 0.7504\n",
      "Epoch 58/500\n",
      "591/591 [==============================] - 43s 72ms/step - loss: 2.8103 - accuracy: 0.3249 - top-05-acc: 0.6358 - top-10-acc: 0.7412 - val_loss: 2.7034 - val_accuracy: 0.3594 - val_top-05-acc: 0.6568 - val_top-10-acc: 0.7505\n",
      "Epoch 59/500\n",
      "591/591 [==============================] - 43s 73ms/step - loss: 2.8040 - accuracy: 0.3266 - top-05-acc: 0.6358 - top-10-acc: 0.7426 - val_loss: 2.7530 - val_accuracy: 0.3527 - val_top-05-acc: 0.6477 - val_top-10-acc: 0.7487\n",
      "Epoch 60/500\n",
      "591/591 [==============================] - 42s 71ms/step - loss: 2.8026 - accuracy: 0.3256 - top-05-acc: 0.6358 - top-10-acc: 0.7425 - val_loss: 2.6798 - val_accuracy: 0.3624 - val_top-05-acc: 0.6588 - val_top-10-acc: 0.7580\n",
      "Epoch 61/500\n",
      "591/591 [==============================] - 43s 74ms/step - loss: 2.7884 - accuracy: 0.3294 - top-05-acc: 0.6387 - top-10-acc: 0.7439 - val_loss: 2.7530 - val_accuracy: 0.3502 - val_top-05-acc: 0.6463 - val_top-10-acc: 0.7420\n",
      "Epoch 62/500\n",
      "591/591 [==============================] - 43s 73ms/step - loss: 2.7818 - accuracy: 0.3322 - top-05-acc: 0.6396 - top-10-acc: 0.7442 - val_loss: 2.6896 - val_accuracy: 0.3590 - val_top-05-acc: 0.6590 - val_top-10-acc: 0.7560\n",
      "Epoch 63/500\n",
      "591/591 [==============================] - 43s 72ms/step - loss: 2.7762 - accuracy: 0.3325 - top-05-acc: 0.6419 - top-10-acc: 0.7465 - val_loss: 2.6928 - val_accuracy: 0.3590 - val_top-05-acc: 0.6590 - val_top-10-acc: 0.7573\n",
      "Epoch 64/500\n",
      "591/591 [==============================] - 43s 72ms/step - loss: 2.7674 - accuracy: 0.3340 - top-05-acc: 0.6457 - top-10-acc: 0.7477 - val_loss: 2.6721 - val_accuracy: 0.3675 - val_top-05-acc: 0.6606 - val_top-10-acc: 0.7561\n",
      "Epoch 65/500\n",
      "591/591 [==============================] - 42s 71ms/step - loss: 2.7633 - accuracy: 0.3377 - top-05-acc: 0.6445 - top-10-acc: 0.7475 - val_loss: 2.6802 - val_accuracy: 0.3608 - val_top-05-acc: 0.6573 - val_top-10-acc: 0.7550\n",
      "Epoch 66/500\n",
      "591/591 [==============================] - 42s 72ms/step - loss: 2.7528 - accuracy: 0.3403 - top-05-acc: 0.6471 - top-10-acc: 0.7498 - val_loss: 2.7282 - val_accuracy: 0.3547 - val_top-05-acc: 0.6490 - val_top-10-acc: 0.7489\n",
      "Epoch 67/500\n",
      "591/591 [==============================] - 43s 73ms/step - loss: 2.7436 - accuracy: 0.3398 - top-05-acc: 0.6478 - top-10-acc: 0.7483 - val_loss: 2.6832 - val_accuracy: 0.3568 - val_top-05-acc: 0.6577 - val_top-10-acc: 0.7554\n",
      "Epoch 68/500\n",
      "591/591 [==============================] - 42s 71ms/step - loss: 2.7439 - accuracy: 0.3419 - top-05-acc: 0.6484 - top-10-acc: 0.7492 - val_loss: 2.6770 - val_accuracy: 0.3619 - val_top-05-acc: 0.6620 - val_top-10-acc: 0.7588\n",
      "Epoch 69/500\n"
     ]
    },
    {
     "name": "stdout",
     "output_type": "stream",
     "text": [
      "591/591 [==============================] - 42s 72ms/step - loss: 2.7397 - accuracy: 0.3404 - top-05-acc: 0.6475 - top-10-acc: 0.7478 - val_loss: 2.7134 - val_accuracy: 0.3564 - val_top-05-acc: 0.6530 - val_top-10-acc: 0.7503\n",
      "Epoch 70/500\n",
      "591/591 [==============================] - 42s 72ms/step - loss: 2.7347 - accuracy: 0.3425 - top-05-acc: 0.6485 - top-10-acc: 0.7497 - val_loss: 2.6528 - val_accuracy: 0.3725 - val_top-05-acc: 0.6672 - val_top-10-acc: 0.7598\n",
      "Epoch 71/500\n",
      "591/591 [==============================] - 42s 72ms/step - loss: 2.7201 - accuracy: 0.3457 - top-05-acc: 0.6527 - top-10-acc: 0.7535 - val_loss: 2.6834 - val_accuracy: 0.3597 - val_top-05-acc: 0.6560 - val_top-10-acc: 0.7530\n",
      "Epoch 72/500\n",
      "591/591 [==============================] - 43s 73ms/step - loss: 2.7162 - accuracy: 0.3479 - top-05-acc: 0.6533 - top-10-acc: 0.7535 - val_loss: 2.7368 - val_accuracy: 0.3548 - val_top-05-acc: 0.6518 - val_top-10-acc: 0.7470\n",
      "Epoch 73/500\n",
      "591/591 [==============================] - 43s 72ms/step - loss: 2.7156 - accuracy: 0.3482 - top-05-acc: 0.6542 - top-10-acc: 0.7539 - val_loss: 2.6734 - val_accuracy: 0.3689 - val_top-05-acc: 0.6617 - val_top-10-acc: 0.7579\n",
      "Epoch 74/500\n",
      "591/591 [==============================] - 43s 72ms/step - loss: 2.7053 - accuracy: 0.3519 - top-05-acc: 0.6544 - top-10-acc: 0.7542 - val_loss: 2.7340 - val_accuracy: 0.3513 - val_top-05-acc: 0.6486 - val_top-10-acc: 0.7449\n",
      "Epoch 75/500\n",
      "591/591 [==============================] - 43s 73ms/step - loss: 2.6981 - accuracy: 0.3502 - top-05-acc: 0.6574 - top-10-acc: 0.7546 - val_loss: 2.6846 - val_accuracy: 0.3672 - val_top-05-acc: 0.6587 - val_top-10-acc: 0.7543\n",
      "Epoch 76/500\n",
      "591/591 [==============================] - 43s 72ms/step - loss: 2.6957 - accuracy: 0.3507 - top-05-acc: 0.6569 - top-10-acc: 0.7569 - val_loss: 2.6492 - val_accuracy: 0.3742 - val_top-05-acc: 0.6605 - val_top-10-acc: 0.7555\n",
      "Epoch 77/500\n",
      "591/591 [==============================] - 43s 72ms/step - loss: 2.6943 - accuracy: 0.3519 - top-05-acc: 0.6567 - top-10-acc: 0.7553 - val_loss: 2.6869 - val_accuracy: 0.3654 - val_top-05-acc: 0.6553 - val_top-10-acc: 0.7500\n",
      "Epoch 78/500\n",
      "591/591 [==============================] - 43s 72ms/step - loss: 2.6851 - accuracy: 0.3546 - top-05-acc: 0.6590 - top-10-acc: 0.7567 - val_loss: 2.6472 - val_accuracy: 0.3762 - val_top-05-acc: 0.6626 - val_top-10-acc: 0.7594\n",
      "Epoch 79/500\n",
      "591/591 [==============================] - 43s 73ms/step - loss: 2.6736 - accuracy: 0.3575 - top-05-acc: 0.6599 - top-10-acc: 0.7582 - val_loss: 2.6889 - val_accuracy: 0.3652 - val_top-05-acc: 0.6606 - val_top-10-acc: 0.7542\n",
      "Epoch 80/500\n",
      "591/591 [==============================] - 42s 71ms/step - loss: 2.6764 - accuracy: 0.3568 - top-05-acc: 0.6596 - top-10-acc: 0.7577 - val_loss: 2.6383 - val_accuracy: 0.3750 - val_top-05-acc: 0.6696 - val_top-10-acc: 0.7620\n",
      "Epoch 81/500\n",
      "591/591 [==============================] - 42s 71ms/step - loss: 2.6764 - accuracy: 0.3547 - top-05-acc: 0.6600 - top-10-acc: 0.7567 - val_loss: 2.6453 - val_accuracy: 0.3763 - val_top-05-acc: 0.6651 - val_top-10-acc: 0.7587\n",
      "Epoch 82/500\n",
      "591/591 [==============================] - 42s 72ms/step - loss: 2.6654 - accuracy: 0.3563 - top-05-acc: 0.6620 - top-10-acc: 0.7597 - val_loss: 2.6577 - val_accuracy: 0.3709 - val_top-05-acc: 0.6672 - val_top-10-acc: 0.7611\n",
      "Epoch 83/500\n",
      "591/591 [==============================] - 43s 72ms/step - loss: 2.6658 - accuracy: 0.3578 - top-05-acc: 0.6617 - top-10-acc: 0.7587 - val_loss: 2.6757 - val_accuracy: 0.3630 - val_top-05-acc: 0.6559 - val_top-10-acc: 0.7531\n",
      "Epoch 84/500\n",
      "591/591 [==============================] - 42s 72ms/step - loss: 2.6638 - accuracy: 0.3594 - top-05-acc: 0.6632 - top-10-acc: 0.7596 - val_loss: 2.6685 - val_accuracy: 0.3688 - val_top-05-acc: 0.6562 - val_top-10-acc: 0.7540\n",
      "Epoch 85/500\n",
      "591/591 [==============================] - 43s 72ms/step - loss: 2.6538 - accuracy: 0.3628 - top-05-acc: 0.6648 - top-10-acc: 0.7604 - val_loss: 2.6545 - val_accuracy: 0.3730 - val_top-05-acc: 0.6660 - val_top-10-acc: 0.7576\n",
      "Epoch 86/500\n",
      "591/591 [==============================] - 42s 72ms/step - loss: 2.6516 - accuracy: 0.3619 - top-05-acc: 0.6651 - top-10-acc: 0.7612 - val_loss: 2.6346 - val_accuracy: 0.3791 - val_top-05-acc: 0.6640 - val_top-10-acc: 0.7571\n",
      "Epoch 87/500\n",
      "591/591 [==============================] - 43s 72ms/step - loss: 2.6616 - accuracy: 0.3622 - top-05-acc: 0.6631 - top-10-acc: 0.7612 - val_loss: 2.6262 - val_accuracy: 0.3795 - val_top-05-acc: 0.6697 - val_top-10-acc: 0.7592\n",
      "Epoch 88/500\n",
      "591/591 [==============================] - 43s 72ms/step - loss: 2.6480 - accuracy: 0.3630 - top-05-acc: 0.6653 - top-10-acc: 0.7603 - val_loss: 2.6127 - val_accuracy: 0.3821 - val_top-05-acc: 0.6679 - val_top-10-acc: 0.7596\n",
      "Epoch 89/500\n",
      "591/591 [==============================] - 43s 72ms/step - loss: 2.6417 - accuracy: 0.3654 - top-05-acc: 0.6656 - top-10-acc: 0.7621 - val_loss: 2.6350 - val_accuracy: 0.3772 - val_top-05-acc: 0.6683 - val_top-10-acc: 0.7602\n",
      "Epoch 90/500\n",
      "591/591 [==============================] - 43s 73ms/step - loss: 2.6426 - accuracy: 0.3613 - top-05-acc: 0.6678 - top-10-acc: 0.7622 - val_loss: 2.6020 - val_accuracy: 0.3845 - val_top-05-acc: 0.6721 - val_top-10-acc: 0.7632\n",
      "Epoch 91/500\n",
      "591/591 [==============================] - 42s 71ms/step - loss: 2.6392 - accuracy: 0.3650 - top-05-acc: 0.6674 - top-10-acc: 0.7626 - val_loss: 2.6065 - val_accuracy: 0.3831 - val_top-05-acc: 0.6713 - val_top-10-acc: 0.7655\n",
      "Epoch 92/500\n",
      "591/591 [==============================] - 42s 71ms/step - loss: 2.6273 - accuracy: 0.3660 - top-05-acc: 0.6690 - top-10-acc: 0.7641 - val_loss: 2.6777 - val_accuracy: 0.3702 - val_top-05-acc: 0.6549 - val_top-10-acc: 0.7501\n",
      "Epoch 93/500\n",
      "591/591 [==============================] - 42s 71ms/step - loss: 2.6362 - accuracy: 0.3658 - top-05-acc: 0.6675 - top-10-acc: 0.7622 - val_loss: 2.6213 - val_accuracy: 0.3843 - val_top-05-acc: 0.6702 - val_top-10-acc: 0.7598\n",
      "Epoch 94/500\n",
      "591/591 [==============================] - 42s 71ms/step - loss: 2.6293 - accuracy: 0.3675 - top-05-acc: 0.6690 - top-10-acc: 0.7624 - val_loss: 2.6473 - val_accuracy: 0.3767 - val_top-05-acc: 0.6649 - val_top-10-acc: 0.7588\n",
      "Epoch 95/500\n",
      "591/591 [==============================] - 42s 71ms/step - loss: 2.6268 - accuracy: 0.3697 - top-05-acc: 0.6687 - top-10-acc: 0.7636 - val_loss: 2.5916 - val_accuracy: 0.3861 - val_top-05-acc: 0.6726 - val_top-10-acc: 0.7619\n",
      "Epoch 96/500\n",
      "591/591 [==============================] - 43s 72ms/step - loss: 2.6205 - accuracy: 0.3706 - top-05-acc: 0.6707 - top-10-acc: 0.7655 - val_loss: 2.6885 - val_accuracy: 0.3664 - val_top-05-acc: 0.6563 - val_top-10-acc: 0.7500\n",
      "Epoch 97/500\n",
      "591/591 [==============================] - 43s 73ms/step - loss: 2.6214 - accuracy: 0.3698 - top-05-acc: 0.6698 - top-10-acc: 0.7635 - val_loss: 2.6012 - val_accuracy: 0.3863 - val_top-05-acc: 0.6709 - val_top-10-acc: 0.7599\n",
      "Epoch 98/500\n",
      "591/591 [==============================] - 43s 73ms/step - loss: 2.6120 - accuracy: 0.3723 - top-05-acc: 0.6736 - top-10-acc: 0.7664 - val_loss: 2.6111 - val_accuracy: 0.3823 - val_top-05-acc: 0.6718 - val_top-10-acc: 0.7617\n",
      "Epoch 99/500\n",
      "591/591 [==============================] - 43s 73ms/step - loss: 2.6106 - accuracy: 0.3717 - top-05-acc: 0.6719 - top-10-acc: 0.7653 - val_loss: 2.6175 - val_accuracy: 0.3802 - val_top-05-acc: 0.6713 - val_top-10-acc: 0.7604\n",
      "Epoch 100/500\n",
      "591/591 [==============================] - 43s 72ms/step - loss: 2.6088 - accuracy: 0.3726 - top-05-acc: 0.6725 - top-10-acc: 0.7655 - val_loss: 2.6321 - val_accuracy: 0.3829 - val_top-05-acc: 0.6694 - val_top-10-acc: 0.7592\n",
      "Epoch 101/500\n",
      "591/591 [==============================] - 43s 73ms/step - loss: 2.6085 - accuracy: 0.3751 - top-05-acc: 0.6751 - top-10-acc: 0.7688 - val_loss: 2.5963 - val_accuracy: 0.3887 - val_top-05-acc: 0.6763 - val_top-10-acc: 0.7649\n",
      "Epoch 102/500\n",
      "591/591 [==============================] - 43s 72ms/step - loss: 2.6099 - accuracy: 0.3730 - top-05-acc: 0.6742 - top-10-acc: 0.7648 - val_loss: 2.5974 - val_accuracy: 0.3849 - val_top-05-acc: 0.6724 - val_top-10-acc: 0.7615\n",
      "Epoch 103/500\n"
     ]
    },
    {
     "name": "stdout",
     "output_type": "stream",
     "text": [
      "591/591 [==============================] - 42s 72ms/step - loss: 2.6001 - accuracy: 0.3750 - top-05-acc: 0.6743 - top-10-acc: 0.7645 - val_loss: 2.6285 - val_accuracy: 0.3806 - val_top-05-acc: 0.6701 - val_top-10-acc: 0.7602\n",
      "Epoch 104/500\n",
      "591/591 [==============================] - 42s 72ms/step - loss: 2.5999 - accuracy: 0.3744 - top-05-acc: 0.6745 - top-10-acc: 0.7650 - val_loss: 2.7343 - val_accuracy: 0.3640 - val_top-05-acc: 0.6502 - val_top-10-acc: 0.7431\n",
      "Epoch 105/500\n",
      "591/591 [==============================] - 42s 72ms/step - loss: 2.5943 - accuracy: 0.3750 - top-05-acc: 0.6750 - top-10-acc: 0.7673 - val_loss: 2.6544 - val_accuracy: 0.3761 - val_top-05-acc: 0.6660 - val_top-10-acc: 0.7600\n",
      "Epoch 106/500\n",
      "591/591 [==============================] - 42s 72ms/step - loss: 2.6011 - accuracy: 0.3759 - top-05-acc: 0.6732 - top-10-acc: 0.7664 - val_loss: 2.6204 - val_accuracy: 0.3832 - val_top-05-acc: 0.6718 - val_top-10-acc: 0.7601\n",
      "Epoch 107/500\n",
      "591/591 [==============================] - 43s 72ms/step - loss: 2.5906 - accuracy: 0.3758 - top-05-acc: 0.6753 - top-10-acc: 0.7668 - val_loss: 2.6344 - val_accuracy: 0.3845 - val_top-05-acc: 0.6727 - val_top-10-acc: 0.7607\n"
     ]
    }
   ],
   "source": [
    "if True:\n",
    "    callbacks = [\n",
    "        tf.keras.callbacks.ModelCheckpoint(\"model.h5\"),\n",
    "        tf.keras.callbacks.EarlyStopping(\n",
    "            monitor='val_accuracy',\n",
    "            patience=6,\n",
    "            restore_best_weights=True,\n",
    "        ),\n",
    "    ]\n",
    "    history = model.fit(\n",
    "        X_train,\n",
    "        y_train,\n",
    "        epochs=500,\n",
    "        validation_data=(X_val, y_val),\n",
    "        batch_size=128,\n",
    "        callbacks=callbacks,\n",
    "    )\n",
    "else:\n",
    "    model = tf.keras.models.load_model(\"../model.h5\")"
   ]
  },
  {
   "cell_type": "code",
   "execution_count": 15,
   "id": "0c667e32",
   "metadata": {
    "ExecuteTime": {
     "end_time": "2023-03-01T21:19:22.307605Z",
     "start_time": "2023-03-01T21:19:21.958560Z"
    }
   },
   "outputs": [
    {
     "name": "stdout",
     "output_type": "stream",
     "text": [
      "dict_keys(['loss', 'accuracy', 'top-05-acc', 'top-10-acc', 'val_loss', 'val_accuracy', 'val_top-05-acc', 'val_top-10-acc'])\n"
     ]
    }
   ],
   "source": [
    "import matplotlib.pyplot as plt\n",
    "import numpy as np\n",
    "\n",
    "print(history.history.keys())"
   ]
  },
  {
   "cell_type": "code",
   "execution_count": 16,
   "id": "113b874f",
   "metadata": {
    "ExecuteTime": {
     "end_time": "2023-03-01T21:19:22.410404Z",
     "start_time": "2023-03-01T21:19:22.308643Z"
    }
   },
   "outputs": [
    {
     "data": {
      "image/png": "[encoded data removed]",
      "text/plain": [
       "<Figure size 640x480 with 1 Axes>"
      ]
     },
     "metadata": {},
     "output_type": "display_data"
    }
   ],
   "source": [
    "# summarize history for accuracy\n",
    "plt.plot(history.history['accuracy'])\n",
    "plt.plot(history.history['val_accuracy'])\n",
    "plt.title('model accuracy')\n",
    "plt.ylabel('accuracy')\n",
    "plt.xlabel('epoch')\n",
    "plt.legend(['train', 'test'], loc='upper left')\n",
    "plt.show()"
   ]
  },
  {
   "cell_type": "code",
   "execution_count": 17,
   "id": "835c5849",
   "metadata": {
    "ExecuteTime": {
     "end_time": "2023-03-01T21:19:22.480941Z",
     "start_time": "2023-03-01T21:19:22.411687Z"
    }
   },
   "outputs": [
    {
     "data": {
      "image/png": "[encoded data removed]",
      "text/plain": [
       "<Figure size 640x480 with 1 Axes>"
      ]
     },
     "metadata": {},
     "output_type": "display_data"
    }
   ],
   "source": [
    "# summarize history for loss\n",
    "plt.plot(history.history['loss'])\n",
    "plt.plot(history.history['val_loss'])\n",
    "plt.title('model loss')\n",
    "plt.ylabel('loss')\n",
    "plt.xlabel('epoch')\n",
    "plt.legend(['train', 'test'], loc='upper left')\n",
    "plt.show()"
   ]
  },
  {
   "cell_type": "code",
   "execution_count": 18,
   "id": "c79d9a56",
   "metadata": {
    "ExecuteTime": {
     "end_time": "2023-03-01T21:19:22.484167Z",
     "start_time": "2023-03-01T21:19:22.482117Z"
    },
    "code_folding": []
   },
   "outputs": [],
   "source": [
    "def get_model():\n",
    "    return model"
   ]
  },
  {
   "cell_type": "code",
   "execution_count": 19,
   "id": "3bcd5c03",
   "metadata": {
    "ExecuteTime": {
     "end_time": "2023-03-01T21:19:22.510829Z",
     "start_time": "2023-03-01T21:19:22.485212Z"
    },
    "scrolled": true
   },
   "outputs": [
    {
     "name": "stdout",
     "output_type": "stream",
     "text": [
      "Model: \"sequential\"\n",
      "_________________________________________________________________\n",
      " Layer (type)                Output Shape              Param #   \n",
      "=================================================================\n",
      " gru (GRU)                   (None, None, 128)         51072     \n",
      "                                                                 \n",
      " gru_1 (GRU)                 (None, 128)               99072     \n",
      "                                                                 \n",
      " dense (Dense)               (None, 128)               16512     \n",
      "                                                                 \n",
      " dropout (Dropout)           (None, 128)               0         \n",
      "                                                                 \n",
      " dense_1 (Dense)             (None, 128)               16512     \n",
      "                                                                 \n",
      " dense_2 (Dense)             (None, 128)               16512     \n",
      "                                                                 \n",
      " dropout_1 (Dropout)         (None, 128)               0         \n",
      "                                                                 \n",
      " dense_3 (Dense)             (None, 64)                8256      \n",
      "                                                                 \n",
      " dense_4 (Dense)             (None, 64)                4160      \n",
      "                                                                 \n",
      " dropout_2 (Dropout)         (None, 64)                0         \n",
      "                                                                 \n",
      " flatten (Flatten)           (None, 64)                0         \n",
      "                                                                 \n",
      " dense_5 (Dense)             (None, 250)               16250     \n",
      "                                                                 \n",
      "=================================================================\n",
      "Total params: 228,346\n",
      "Trainable params: 228,346\n",
      "Non-trainable params: 0\n",
      "_________________________________________________________________\n"
     ]
    }
   ],
   "source": [
    "get_model().summary()"
   ]
  },
  {
   "cell_type": "code",
   "execution_count": 20,
   "id": "98593b01",
   "metadata": {
    "ExecuteTime": {
     "end_time": "2023-03-01T21:19:22.727818Z",
     "start_time": "2023-03-01T21:19:22.511875Z"
    }
   },
   "outputs": [],
   "source": [
    "inputs = tf.keras.Input((543, 3), dtype=tf.float32, name=\"inputs\")\n",
    "x = tf.where(tf.math.is_nan(inputs), tf.zeros_like(inputs), inputs)\n",
    "x = tf.reduce_mean(x, axis=0, keepdims=True)\n",
    "\n",
    "# for i in range(1, len(model.layers)):\n",
    "x = model.layers[0](x)\n",
    "x = model.layers[1](x)\n",
    "x = model.layers[2](x)"
   ]
  },
  {
   "cell_type": "code",
   "execution_count": 21,
   "id": "14097f4c",
   "metadata": {
    "ExecuteTime": {
     "end_time": "2023-03-01T21:19:22.732909Z",
     "start_time": "2023-03-01T21:19:22.729160Z"
    }
   },
   "outputs": [],
   "source": [
    "def get_inference_model(model):\n",
    "    inputs = tf.keras.Input((543, 3), dtype=tf.float32, name=\"inputs\")\n",
    "    x = tf.where(tf.math.is_nan(inputs), tf.zeros_like(inputs), inputs)\n",
    "    x = tf.reduce_mean(x, axis=0, keepdims=True)\n",
    "    \n",
    "    for i in range(0, len(model.layers)):\n",
    "        x = model.layers[i](x)\n",
    "    output = tf.keras.layers.Activation(activation=\"linear\", name=\"outputs\")(x)\n",
    "    inference_model = tf.keras.Model(inputs=inputs, outputs=output) \n",
    "    inference_model.compile(loss=tf.keras.losses.SparseCategoricalCrossentropy(), metrics=[\"accuracy\"])\n",
    "    \n",
    "    return inference_model"
   ]
  },
  {
   "cell_type": "code",
   "execution_count": 22,
   "id": "b125786d",
   "metadata": {
    "ExecuteTime": {
     "end_time": "2023-03-01T21:19:23.008523Z",
     "start_time": "2023-03-01T21:19:22.734097Z"
    }
   },
   "outputs": [
    {
     "name": "stdout",
     "output_type": "stream",
     "text": [
      "Model: \"model\"\n",
      "__________________________________________________________________________________________________\n",
      " Layer (type)                   Output Shape         Param #     Connected to                     \n",
      "==================================================================================================\n",
      " inputs (InputLayer)            [(None, 543, 3)]     0           []                               \n",
      "                                                                                                  \n",
      " tf.math.is_nan_1 (TFOpLambda)  (None, 543, 3)       0           ['inputs[0][0]']                 \n",
      "                                                                                                  \n",
      " tf.zeros_like_1 (TFOpLambda)   (None, 543, 3)       0           ['inputs[0][0]']                 \n",
      "                                                                                                  \n",
      " tf.where_1 (TFOpLambda)        (None, 543, 3)       0           ['tf.math.is_nan_1[0][0]',       \n",
      "                                                                  'tf.zeros_like_1[0][0]',        \n",
      "                                                                  'inputs[0][0]']                 \n",
      "                                                                                                  \n",
      " tf.math.reduce_mean_1 (TFOpLam  (1, 543, 3)         0           ['tf.where_1[0][0]']             \n",
      " bda)                                                                                             \n",
      "                                                                                                  \n",
      " gru (GRU)                      multiple             51072       ['tf.math.reduce_mean_1[0][0]']  \n",
      "                                                                                                  \n",
      " gru_1 (GRU)                    multiple             99072       ['gru[2][0]']                    \n",
      "                                                                                                  \n",
      " dense (Dense)                  multiple             16512       ['gru_1[2][0]']                  \n",
      "                                                                                                  \n",
      " dropout (Dropout)              multiple             0           ['dense[2][0]']                  \n",
      "                                                                                                  \n",
      " dense_1 (Dense)                multiple             16512       ['dropout[1][0]']                \n",
      "                                                                                                  \n",
      " dense_2 (Dense)                multiple             16512       ['dense_1[1][0]']                \n",
      "                                                                                                  \n",
      " dropout_1 (Dropout)            multiple             0           ['dense_2[1][0]']                \n",
      "                                                                                                  \n",
      " dense_3 (Dense)                multiple             8256        ['dropout_1[1][0]']              \n",
      "                                                                                                  \n",
      " dense_4 (Dense)                multiple             4160        ['dense_3[1][0]']                \n",
      "                                                                                                  \n",
      " dropout_2 (Dropout)            multiple             0           ['dense_4[1][0]']                \n",
      "                                                                                                  \n",
      " flatten (Flatten)              multiple             0           ['dropout_2[1][0]']              \n",
      "                                                                                                  \n",
      " dense_5 (Dense)                multiple             16250       ['flatten[1][0]']                \n",
      "                                                                                                  \n",
      " outputs (Activation)           (1, 250)             0           ['dense_5[1][0]']                \n",
      "                                                                                                  \n",
      "==================================================================================================\n",
      "Total params: 228,346\n",
      "Trainable params: 228,346\n",
      "Non-trainable params: 0\n",
      "__________________________________________________________________________________________________\n"
     ]
    }
   ],
   "source": [
    "inference_model = get_inference_model(model)\n",
    "inference_model.summary()"
   ]
  },
  {
   "cell_type": "code",
   "execution_count": 23,
   "id": "2440704d",
   "metadata": {
    "ExecuteTime": {
     "end_time": "2023-03-01T21:19:30.657768Z",
     "start_time": "2023-03-01T21:19:23.009953Z"
    }
   },
   "outputs": [
    {
     "name": "stderr",
     "output_type": "stream",
     "text": [
      "WARNING:absl:Found untraced functions such as gru_cell_layer_call_fn, gru_cell_layer_call_and_return_conditional_losses, gru_cell_1_layer_call_fn, gru_cell_1_layer_call_and_return_conditional_losses while saving (showing 4 of 4). These functions will not be directly callable after loading.\n"
     ]
    },
    {
     "name": "stdout",
     "output_type": "stream",
     "text": [
      "INFO:tensorflow:Assets written to: /tmp/tmpi02ldz7a/assets\n"
     ]
    },
    {
     "name": "stderr",
     "output_type": "stream",
     "text": [
      "INFO:tensorflow:Assets written to: /tmp/tmpi02ldz7a/assets\n",
      "2023-03-01 13:19:30.049813: W tensorflow/compiler/mlir/lite/python/tf_tfl_flatbuffer_helpers.cc:362] Ignored output_format.\n",
      "2023-03-01 13:19:30.049860: W tensorflow/compiler/mlir/lite/python/tf_tfl_flatbuffer_helpers.cc:365] Ignored drop_control_dependency.\n",
      "2023-03-01 13:19:30.050443: I tensorflow/cc/saved_model/reader.cc:45] Reading SavedModel from: /tmp/tmpi02ldz7a\n",
      "2023-03-01 13:19:30.061395: I tensorflow/cc/saved_model/reader.cc:89] Reading meta graph with tags { serve }\n",
      "2023-03-01 13:19:30.061422: I tensorflow/cc/saved_model/reader.cc:130] Reading SavedModel debug info (if present) from: /tmp/tmpi02ldz7a\n",
      "2023-03-01 13:19:30.094713: I tensorflow/compiler/mlir/mlir_graph_optimization_pass.cc:354] MLIR V1 optimization pass is not enabled\n",
      "2023-03-01 13:19:30.103574: I tensorflow/cc/saved_model/loader.cc:229] Restoring SavedModel bundle.\n",
      "2023-03-01 13:19:30.182077: I tensorflow/cc/saved_model/loader.cc:213] Running initialization op on SavedModel bundle at path: /tmp/tmpi02ldz7a\n",
      "2023-03-01 13:19:30.243876: I tensorflow/cc/saved_model/loader.cc:305] SavedModel load for tags { serve }; Status: success: OK. Took 193433 microseconds.\n",
      "2023-03-01 13:19:30.392529: I tensorflow/compiler/mlir/tensorflow/utils/dump_mlir_util.cc:268] disabling MLIR crash reproducer, set env var `MLIR_CRASH_REPRODUCER_DIRECTORY` to enable.\n",
      "2023-03-01 13:19:30.540393: I tensorflow/compiler/mlir/lite/flatbuffer_export.cc:1989] Estimated count of arithmetic ops: 0.522 M  ops, equivalently 0.261 M  MACs\n",
      "\n"
     ]
    }
   ],
   "source": [
    "converter = tf.lite.TFLiteConverter.from_keras_model(inference_model)\n",
    "tflite_model = converter.convert()\n",
    "model_path = \"model.tflite\"\n",
    "# Save the model.\n",
    "with open(model_path, 'wb') as f:\n",
    "    f.write(tflite_model)"
   ]
  },
  {
   "cell_type": "code",
   "execution_count": 24,
   "id": "5c62ba46",
   "metadata": {
    "ExecuteTime": {
     "end_time": "2023-03-01T21:19:33.842323Z",
     "start_time": "2023-03-01T21:19:30.659371Z"
    },
    "scrolled": true
   },
   "outputs": [
    {
     "name": "stderr",
     "output_type": "stream",
     "text": [
      "100%|█████████████████████████████████████████████████████████████████████████████| 100/100 [00:03<00:00, 31.51it/s]\n"
     ]
    }
   ],
   "source": [
    "import tflite_runtime.interpreter as tflite\n",
    "interpreter = tflite.Interpreter(model_path)\n",
    "found_signatures = list(interpreter.get_signature_list().keys())\n",
    "prediction_fn = interpreter.get_signature_runner(\"serving_default\")\n",
    "corr = 0\n",
    "wrong = []\n",
    "for i in tqdm(range(100)):\n",
    "    frames = load_relevant_data_subset(f'../{train.iloc[i].path}')\n",
    "    output = prediction_fn(inputs=frames)\n",
    "    sign = np.argmax(output[\"outputs\"])\n",
    "    if index_label[sign] == train.iloc[i].sign:\n",
    "        corr += 1\n",
    "    else:\n",
    "        wrong.append((index_label[sign], train.iloc[i].sign, train.iloc[i].path))\n",
    "\n",
    "    #     print(f\"Predicted label: {index_label[sign]}, Actual Label: {train.iloc[i].sign}\")\n",
    "\n",
    "\n",
    "    total = i"
   ]
  },
  {
   "cell_type": "code",
   "execution_count": 25,
   "id": "2ea52da4",
   "metadata": {
    "ExecuteTime": {
     "end_time": "2023-03-01T21:19:33.846660Z",
     "start_time": "2023-03-01T21:19:33.843812Z"
    }
   },
   "outputs": [
    {
     "name": "stdout",
     "output_type": "stream",
     "text": [
      "\n",
      "total=99\n",
      "corr=52\t Percent: 52.525253%\n",
      "\n"
     ]
    }
   ],
   "source": [
    "r = f'''\n",
    "{total=}\n",
    "{corr=}\\t Percent: {corr/total:%}\n",
    "'''\n",
    "print(r)"
   ]
  },
  {
   "cell_type": "code",
   "execution_count": 26,
   "id": "08905e36",
   "metadata": {
    "ExecuteTime": {
     "end_time": "2023-03-01T21:19:33.871697Z",
     "start_time": "2023-03-01T21:19:33.847827Z"
    }
   },
   "outputs": [
    {
     "data": {
      "text/html": [
       "<div>\n",
       "<style scoped>\n",
       "    .dataframe tbody tr th:only-of-type {\n",
       "        vertical-align: middle;\n",
       "    }\n",
       "\n",
       "    .dataframe tbody tr th {\n",
       "        vertical-align: top;\n",
       "    }\n",
       "\n",
       "    .dataframe thead th {\n",
       "        text-align: right;\n",
       "    }\n",
       "</style>\n",
       "<table border=\"1\" class=\"dataframe\">\n",
       "  <thead>\n",
       "    <tr style=\"text-align: right;\">\n",
       "      <th></th>\n",
       "      <th>pred</th>\n",
       "      <th>true</th>\n",
       "      <th>path</th>\n",
       "    </tr>\n",
       "  </thead>\n",
       "  <tbody>\n",
       "    <tr>\n",
       "      <th>0</th>\n",
       "      <td>after</td>\n",
       "      <td>1</td>\n",
       "      <td>1</td>\n",
       "    </tr>\n",
       "    <tr>\n",
       "      <th>35</th>\n",
       "      <td>wolf</td>\n",
       "      <td>1</td>\n",
       "      <td>1</td>\n",
       "    </tr>\n",
       "    <tr>\n",
       "      <th>33</th>\n",
       "      <td>wake</td>\n",
       "      <td>1</td>\n",
       "      <td>1</td>\n",
       "    </tr>\n",
       "    <tr>\n",
       "      <th>31</th>\n",
       "      <td>uncle</td>\n",
       "      <td>1</td>\n",
       "      <td>1</td>\n",
       "    </tr>\n",
       "    <tr>\n",
       "      <th>30</th>\n",
       "      <td>thirsty</td>\n",
       "      <td>1</td>\n",
       "      <td>1</td>\n",
       "    </tr>\n",
       "    <tr>\n",
       "      <th>29</th>\n",
       "      <td>there</td>\n",
       "      <td>1</td>\n",
       "      <td>1</td>\n",
       "    </tr>\n",
       "    <tr>\n",
       "      <th>28</th>\n",
       "      <td>store</td>\n",
       "      <td>1</td>\n",
       "      <td>1</td>\n",
       "    </tr>\n",
       "    <tr>\n",
       "      <th>27</th>\n",
       "      <td>red</td>\n",
       "      <td>1</td>\n",
       "      <td>1</td>\n",
       "    </tr>\n",
       "    <tr>\n",
       "      <th>26</th>\n",
       "      <td>pretty</td>\n",
       "      <td>1</td>\n",
       "      <td>1</td>\n",
       "    </tr>\n",
       "    <tr>\n",
       "      <th>25</th>\n",
       "      <td>pig</td>\n",
       "      <td>1</td>\n",
       "      <td>1</td>\n",
       "    </tr>\n",
       "    <tr>\n",
       "      <th>24</th>\n",
       "      <td>outside</td>\n",
       "      <td>1</td>\n",
       "      <td>1</td>\n",
       "    </tr>\n",
       "    <tr>\n",
       "      <th>23</th>\n",
       "      <td>orange</td>\n",
       "      <td>1</td>\n",
       "      <td>1</td>\n",
       "    </tr>\n",
       "    <tr>\n",
       "      <th>20</th>\n",
       "      <td>no</td>\n",
       "      <td>1</td>\n",
       "      <td>1</td>\n",
       "    </tr>\n",
       "    <tr>\n",
       "      <th>37</th>\n",
       "      <td>zebra</td>\n",
       "      <td>1</td>\n",
       "      <td>1</td>\n",
       "    </tr>\n",
       "    <tr>\n",
       "      <th>18</th>\n",
       "      <td>haveto</td>\n",
       "      <td>1</td>\n",
       "      <td>1</td>\n",
       "    </tr>\n",
       "    <tr>\n",
       "      <th>17</th>\n",
       "      <td>farm</td>\n",
       "      <td>1</td>\n",
       "      <td>1</td>\n",
       "    </tr>\n",
       "    <tr>\n",
       "      <th>19</th>\n",
       "      <td>many</td>\n",
       "      <td>1</td>\n",
       "      <td>1</td>\n",
       "    </tr>\n",
       "    <tr>\n",
       "      <th>15</th>\n",
       "      <td>duck</td>\n",
       "      <td>1</td>\n",
       "      <td>1</td>\n",
       "    </tr>\n",
       "    <tr>\n",
       "      <th>1</th>\n",
       "      <td>animal</td>\n",
       "      <td>1</td>\n",
       "      <td>1</td>\n",
       "    </tr>\n",
       "    <tr>\n",
       "      <th>2</th>\n",
       "      <td>apple</td>\n",
       "      <td>1</td>\n",
       "      <td>1</td>\n",
       "    </tr>\n",
       "    <tr>\n",
       "      <th>3</th>\n",
       "      <td>bath</td>\n",
       "      <td>1</td>\n",
       "      <td>1</td>\n",
       "    </tr>\n",
       "    <tr>\n",
       "      <th>4</th>\n",
       "      <td>beside</td>\n",
       "      <td>1</td>\n",
       "      <td>1</td>\n",
       "    </tr>\n",
       "    <tr>\n",
       "      <th>5</th>\n",
       "      <td>boat</td>\n",
       "      <td>1</td>\n",
       "      <td>1</td>\n",
       "    </tr>\n",
       "    <tr>\n",
       "      <th>6</th>\n",
       "      <td>brown</td>\n",
       "      <td>1</td>\n",
       "      <td>1</td>\n",
       "    </tr>\n",
       "    <tr>\n",
       "      <th>9</th>\n",
       "      <td>cereal</td>\n",
       "      <td>1</td>\n",
       "      <td>1</td>\n",
       "    </tr>\n",
       "    <tr>\n",
       "      <th>7</th>\n",
       "      <td>bug</td>\n",
       "      <td>1</td>\n",
       "      <td>1</td>\n",
       "    </tr>\n",
       "    <tr>\n",
       "      <th>11</th>\n",
       "      <td>chocolate</td>\n",
       "      <td>1</td>\n",
       "      <td>1</td>\n",
       "    </tr>\n",
       "    <tr>\n",
       "      <th>13</th>\n",
       "      <td>donkey</td>\n",
       "      <td>1</td>\n",
       "      <td>1</td>\n",
       "    </tr>\n",
       "    <tr>\n",
       "      <th>14</th>\n",
       "      <td>drop</td>\n",
       "      <td>1</td>\n",
       "      <td>1</td>\n",
       "    </tr>\n",
       "    <tr>\n",
       "      <th>10</th>\n",
       "      <td>child</td>\n",
       "      <td>1</td>\n",
       "      <td>1</td>\n",
       "    </tr>\n",
       "    <tr>\n",
       "      <th>38</th>\n",
       "      <td>zipper</td>\n",
       "      <td>1</td>\n",
       "      <td>1</td>\n",
       "    </tr>\n",
       "    <tr>\n",
       "      <th>16</th>\n",
       "      <td>ear</td>\n",
       "      <td>2</td>\n",
       "      <td>2</td>\n",
       "    </tr>\n",
       "    <tr>\n",
       "      <th>22</th>\n",
       "      <td>on</td>\n",
       "      <td>2</td>\n",
       "      <td>2</td>\n",
       "    </tr>\n",
       "    <tr>\n",
       "      <th>21</th>\n",
       "      <td>old</td>\n",
       "      <td>2</td>\n",
       "      <td>2</td>\n",
       "    </tr>\n",
       "    <tr>\n",
       "      <th>12</th>\n",
       "      <td>clean</td>\n",
       "      <td>2</td>\n",
       "      <td>2</td>\n",
       "    </tr>\n",
       "    <tr>\n",
       "      <th>32</th>\n",
       "      <td>vacuum</td>\n",
       "      <td>2</td>\n",
       "      <td>2</td>\n",
       "    </tr>\n",
       "    <tr>\n",
       "      <th>34</th>\n",
       "      <td>where</td>\n",
       "      <td>2</td>\n",
       "      <td>2</td>\n",
       "    </tr>\n",
       "    <tr>\n",
       "      <th>36</th>\n",
       "      <td>yes</td>\n",
       "      <td>2</td>\n",
       "      <td>2</td>\n",
       "    </tr>\n",
       "    <tr>\n",
       "      <th>8</th>\n",
       "      <td>car</td>\n",
       "      <td>3</td>\n",
       "      <td>3</td>\n",
       "    </tr>\n",
       "  </tbody>\n",
       "</table>\n",
       "</div>"
      ],
      "text/plain": [
       "         pred  true  path\n",
       "0       after     1     1\n",
       "35       wolf     1     1\n",
       "33       wake     1     1\n",
       "31      uncle     1     1\n",
       "30    thirsty     1     1\n",
       "29      there     1     1\n",
       "28      store     1     1\n",
       "27        red     1     1\n",
       "26     pretty     1     1\n",
       "25        pig     1     1\n",
       "24    outside     1     1\n",
       "23     orange     1     1\n",
       "20         no     1     1\n",
       "37      zebra     1     1\n",
       "18     haveto     1     1\n",
       "17       farm     1     1\n",
       "19       many     1     1\n",
       "15       duck     1     1\n",
       "1      animal     1     1\n",
       "2       apple     1     1\n",
       "3        bath     1     1\n",
       "4      beside     1     1\n",
       "5        boat     1     1\n",
       "6       brown     1     1\n",
       "9      cereal     1     1\n",
       "7         bug     1     1\n",
       "11  chocolate     1     1\n",
       "13     donkey     1     1\n",
       "14       drop     1     1\n",
       "10      child     1     1\n",
       "38     zipper     1     1\n",
       "16        ear     2     2\n",
       "22         on     2     2\n",
       "21        old     2     2\n",
       "12      clean     2     2\n",
       "32     vacuum     2     2\n",
       "34      where     2     2\n",
       "36        yes     2     2\n",
       "8         car     3     3"
      ]
     },
     "execution_count": 26,
     "metadata": {},
     "output_type": "execute_result"
    }
   ],
   "source": [
    "wrongs = pd.DataFrame(data=wrong, columns=['pred','true','path'])\n",
    "wrongs.groupby('pred').count().reset_index().sort_values('true')"
   ]
  },
  {
   "cell_type": "code",
   "execution_count": null,
   "id": "f916650a",
   "metadata": {},
   "outputs": [],
   "source": []
  },
  {
   "cell_type": "code",
   "execution_count": 27,
   "id": "5e1af0a3",
   "metadata": {
    "ExecuteTime": {
     "end_time": "2023-03-01T21:19:34.172170Z",
     "start_time": "2023-03-01T21:19:33.873821Z"
    }
   },
   "outputs": [
    {
     "name": "stdout",
     "output_type": "stream",
     "text": [
      "Model: \"sequential_1\"\n",
      "_________________________________________________________________\n",
      " Layer (type)                Output Shape              Param #   \n",
      "=================================================================\n",
      " gru_2 (GRU)                 (None, None, 256)         200448    \n",
      "                                                                 \n",
      " gru_3 (GRU)                 (None, 256)               394752    \n",
      "                                                                 \n",
      " dense_6 (Dense)             (None, 256)               65792     \n",
      "                                                                 \n",
      " dropout_3 (Dropout)         (None, 256)               0         \n",
      "                                                                 \n",
      " dense_7 (Dense)             (None, 128)               32896     \n",
      "                                                                 \n",
      " dense_8 (Dense)             (None, 128)               16512     \n",
      "                                                                 \n",
      " dropout_4 (Dropout)         (None, 128)               0         \n",
      "                                                                 \n",
      " dense_9 (Dense)             (None, 64)                8256      \n",
      "                                                                 \n",
      " dense_10 (Dense)            (None, 64)                4160      \n",
      "                                                                 \n",
      " dropout_5 (Dropout)         (None, 64)                0         \n",
      "                                                                 \n",
      " flatten_1 (Flatten)         (None, 64)                0         \n",
      "                                                                 \n",
      " dense_11 (Dense)            (None, 250)               16250     \n",
      "                                                                 \n",
      "=================================================================\n",
      "Total params: 739,066\n",
      "Trainable params: 739,066\n",
      "Non-trainable params: 0\n",
      "_________________________________________________________________\n"
     ]
    }
   ],
   "source": [
    "model = tf.keras.Sequential([\n",
    "    tf.keras.layers.GRU(256, return_sequences=True, input_shape=(None, 3)),\n",
    "    tf.keras.layers.GRU(256),\n",
    "    tf.keras.layers.Dense(256, activation=\"relu\"),\n",
    "    tf.keras.layers.Dropout(0.4),\n",
    "    tf.keras.layers.Dense(128, activation=\"relu\"),\n",
    "    tf.keras.layers.Dense(128, activation=\"relu\"),\n",
    "    tf.keras.layers.Dropout(0.2),\n",
    "    tf.keras.layers.Dense(64, activation=\"relu\"),\n",
    "    tf.keras.layers.Dense(64, activation=\"relu\"),\n",
    "    tf.keras.layers.Dropout(0.2),\n",
    "    tf.keras.layers.Flatten(),\n",
    "    tf.keras.layers.Dense(250, activation='softmax'),\n",
    "])\n",
    "\n",
    "model.compile(\n",
    "    loss=tf.keras.losses.SparseCategoricalCrossentropy(), \n",
    "    metrics=[\n",
    "        \"accuracy\",\n",
    "        tf.keras.metrics.SparseTopKCategoricalAccuracy(k=5, name=\"top-05-acc\"),\n",
    "        tf.keras.metrics.SparseTopKCategoricalAccuracy(k=10, name=\"top-10-acc\"),\n",
    "    ]\n",
    ")\n",
    "\n",
    "model.summary()"
   ]
  },
  {
   "cell_type": "code",
   "execution_count": 28,
   "id": "a793fa2b",
   "metadata": {
    "ExecuteTime": {
     "end_time": "2023-03-01T22:11:17.879476Z",
     "start_time": "2023-03-01T21:19:34.173646Z"
    },
    "scrolled": true
   },
   "outputs": [
    {
     "name": "stdout",
     "output_type": "stream",
     "text": [
      "Epoch 1/500\n",
      "591/591 [==============================] - 48s 78ms/step - loss: 5.4677 - accuracy: 0.0052 - top-05-acc: 0.0260 - top-10-acc: 0.0508 - val_loss: 5.3819 - val_accuracy: 0.0072 - val_top-05-acc: 0.0342 - val_top-10-acc: 0.0635\n",
      "Epoch 2/500\n",
      "591/591 [==============================] - 45s 77ms/step - loss: 5.2267 - accuracy: 0.0139 - top-05-acc: 0.0626 - top-10-acc: 0.1129 - val_loss: 5.0336 - val_accuracy: 0.0186 - val_top-05-acc: 0.0862 - val_top-10-acc: 0.1572\n",
      "Epoch 3/500\n",
      "591/591 [==============================] - 45s 76ms/step - loss: 4.9447 - accuracy: 0.0318 - top-05-acc: 0.1193 - top-10-acc: 0.1979 - val_loss: 4.8680 - val_accuracy: 0.0368 - val_top-05-acc: 0.1409 - val_top-10-acc: 0.2217\n",
      "Epoch 4/500\n",
      "591/591 [==============================] - 44s 75ms/step - loss: 4.7904 - accuracy: 0.0457 - top-05-acc: 0.1636 - top-10-acc: 0.2518 - val_loss: 4.6605 - val_accuracy: 0.0605 - val_top-05-acc: 0.1983 - val_top-10-acc: 0.2915\n",
      "Epoch 5/500\n",
      "591/591 [==============================] - 45s 76ms/step - loss: 4.6685 - accuracy: 0.0618 - top-05-acc: 0.2015 - top-10-acc: 0.2933 - val_loss: 4.5420 - val_accuracy: 0.0832 - val_top-05-acc: 0.2315 - val_top-10-acc: 0.3248\n",
      "Epoch 6/500\n",
      "591/591 [==============================] - 44s 75ms/step - loss: 4.5713 - accuracy: 0.0763 - top-05-acc: 0.2288 - top-10-acc: 0.3223 - val_loss: 4.4704 - val_accuracy: 0.0968 - val_top-05-acc: 0.2560 - val_top-10-acc: 0.3430\n",
      "Epoch 7/500\n",
      "591/591 [==============================] - 45s 76ms/step - loss: 4.4898 - accuracy: 0.0904 - top-05-acc: 0.2492 - top-10-acc: 0.3418 - val_loss: 4.4304 - val_accuracy: 0.1039 - val_top-05-acc: 0.2652 - val_top-10-acc: 0.3557\n",
      "Epoch 8/500\n",
      "591/591 [==============================] - 45s 76ms/step - loss: 4.4235 - accuracy: 0.1015 - top-05-acc: 0.2673 - top-10-acc: 0.3589 - val_loss: 4.3180 - val_accuracy: 0.1187 - val_top-05-acc: 0.2909 - val_top-10-acc: 0.3769\n",
      "Epoch 9/500\n",
      "591/591 [==============================] - 45s 75ms/step - loss: 4.3602 - accuracy: 0.1119 - top-05-acc: 0.2839 - top-10-acc: 0.3723 - val_loss: 4.2389 - val_accuracy: 0.1364 - val_top-05-acc: 0.3091 - val_top-10-acc: 0.3902\n",
      "Epoch 10/500\n",
      "591/591 [==============================] - 45s 76ms/step - loss: 4.2691 - accuracy: 0.1220 - top-05-acc: 0.3012 - top-10-acc: 0.3930 - val_loss: 4.1440 - val_accuracy: 0.1363 - val_top-05-acc: 0.3217 - val_top-10-acc: 0.4193\n",
      "Epoch 11/500\n",
      "591/591 [==============================] - 45s 76ms/step - loss: 4.1673 - accuracy: 0.1332 - top-05-acc: 0.3170 - top-10-acc: 0.4103 - val_loss: 3.9999 - val_accuracy: 0.1591 - val_top-05-acc: 0.3508 - val_top-10-acc: 0.4424\n",
      "Epoch 12/500\n",
      "591/591 [==============================] - 46s 77ms/step - loss: 4.0640 - accuracy: 0.1420 - top-05-acc: 0.3352 - top-10-acc: 0.4349 - val_loss: 3.9147 - val_accuracy: 0.1638 - val_top-05-acc: 0.3663 - val_top-10-acc: 0.4700\n",
      "Epoch 13/500\n",
      "591/591 [==============================] - 45s 76ms/step - loss: 3.9416 - accuracy: 0.1517 - top-05-acc: 0.3587 - top-10-acc: 0.4681 - val_loss: 3.7846 - val_accuracy: 0.1822 - val_top-05-acc: 0.3965 - val_top-10-acc: 0.5041\n",
      "Epoch 14/500\n",
      "591/591 [==============================] - 45s 76ms/step - loss: 3.8298 - accuracy: 0.1627 - top-05-acc: 0.3793 - top-10-acc: 0.4960 - val_loss: 3.7085 - val_accuracy: 0.1783 - val_top-05-acc: 0.4113 - val_top-10-acc: 0.5369\n",
      "Epoch 15/500\n",
      "591/591 [==============================] - 45s 75ms/step - loss: 3.7081 - accuracy: 0.1756 - top-05-acc: 0.4071 - top-10-acc: 0.5311 - val_loss: 3.6141 - val_accuracy: 0.1876 - val_top-05-acc: 0.4364 - val_top-10-acc: 0.5633\n",
      "Epoch 16/500\n",
      "591/591 [==============================] - 45s 76ms/step - loss: 3.6095 - accuracy: 0.1852 - top-05-acc: 0.4334 - top-10-acc: 0.5617 - val_loss: 3.5306 - val_accuracy: 0.1888 - val_top-05-acc: 0.4450 - val_top-10-acc: 0.5725\n",
      "Epoch 17/500\n",
      "591/591 [==============================] - 45s 76ms/step - loss: 3.5190 - accuracy: 0.1966 - top-05-acc: 0.4548 - top-10-acc: 0.5862 - val_loss: 3.4575 - val_accuracy: 0.2165 - val_top-05-acc: 0.4692 - val_top-10-acc: 0.5889\n",
      "Epoch 18/500\n",
      "591/591 [==============================] - 45s 76ms/step - loss: 3.4346 - accuracy: 0.2098 - top-05-acc: 0.4786 - top-10-acc: 0.6098 - val_loss: 3.3147 - val_accuracy: 0.2315 - val_top-05-acc: 0.5125 - val_top-10-acc: 0.6367\n",
      "Epoch 19/500\n",
      "591/591 [==============================] - 46s 77ms/step - loss: 3.3430 - accuracy: 0.2225 - top-05-acc: 0.5020 - top-10-acc: 0.6319 - val_loss: 3.3280 - val_accuracy: 0.2412 - val_top-05-acc: 0.5179 - val_top-10-acc: 0.6358\n",
      "Epoch 20/500\n",
      "591/591 [==============================] - 45s 76ms/step - loss: 3.2796 - accuracy: 0.2339 - top-05-acc: 0.5216 - top-10-acc: 0.6499 - val_loss: 3.2255 - val_accuracy: 0.2520 - val_top-05-acc: 0.5363 - val_top-10-acc: 0.6557\n",
      "Epoch 21/500\n",
      "591/591 [==============================] - 44s 75ms/step - loss: 3.2040 - accuracy: 0.2500 - top-05-acc: 0.5392 - top-10-acc: 0.6662 - val_loss: 3.1336 - val_accuracy: 0.2694 - val_top-05-acc: 0.5584 - val_top-10-acc: 0.6792\n",
      "Epoch 22/500\n",
      "591/591 [==============================] - 45s 76ms/step - loss: 3.1410 - accuracy: 0.2602 - top-05-acc: 0.5598 - top-10-acc: 0.6817 - val_loss: 3.0326 - val_accuracy: 0.2862 - val_top-05-acc: 0.5801 - val_top-10-acc: 0.6921\n",
      "Epoch 23/500\n",
      "591/591 [==============================] - 45s 76ms/step - loss: 3.0847 - accuracy: 0.2687 - top-05-acc: 0.5693 - top-10-acc: 0.6921 - val_loss: 2.9725 - val_accuracy: 0.2968 - val_top-05-acc: 0.5947 - val_top-10-acc: 0.7118\n",
      "Epoch 24/500\n",
      "591/591 [==============================] - 44s 75ms/step - loss: 3.0363 - accuracy: 0.2797 - top-05-acc: 0.5813 - top-10-acc: 0.7010 - val_loss: 2.9428 - val_accuracy: 0.3025 - val_top-05-acc: 0.6071 - val_top-10-acc: 0.7164\n",
      "Epoch 25/500\n",
      "591/591 [==============================] - 44s 74ms/step - loss: 2.9952 - accuracy: 0.2857 - top-05-acc: 0.5909 - top-10-acc: 0.7086 - val_loss: 2.9003 - val_accuracy: 0.3137 - val_top-05-acc: 0.6115 - val_top-10-acc: 0.7170\n",
      "Epoch 26/500\n",
      "591/591 [==============================] - 44s 75ms/step - loss: 2.9545 - accuracy: 0.2959 - top-05-acc: 0.6031 - top-10-acc: 0.7170 - val_loss: 2.8801 - val_accuracy: 0.3150 - val_top-05-acc: 0.6155 - val_top-10-acc: 0.7207\n",
      "Epoch 27/500\n",
      "591/591 [==============================] - 45s 75ms/step - loss: 2.9132 - accuracy: 0.3024 - top-05-acc: 0.6090 - top-10-acc: 0.7224 - val_loss: 2.8477 - val_accuracy: 0.3300 - val_top-05-acc: 0.6203 - val_top-10-acc: 0.7252\n",
      "Epoch 28/500\n",
      "591/591 [==============================] - 45s 76ms/step - loss: 2.8736 - accuracy: 0.3114 - top-05-acc: 0.6201 - top-10-acc: 0.7281 - val_loss: 2.8209 - val_accuracy: 0.3335 - val_top-05-acc: 0.6347 - val_top-10-acc: 0.7314\n",
      "Epoch 29/500\n",
      "591/591 [==============================] - 45s 76ms/step - loss: 2.8473 - accuracy: 0.3177 - top-05-acc: 0.6240 - top-10-acc: 0.7324 - val_loss: 2.7729 - val_accuracy: 0.3435 - val_top-05-acc: 0.6424 - val_top-10-acc: 0.7408\n",
      "Epoch 30/500\n",
      "591/591 [==============================] - 45s 76ms/step - loss: 2.8081 - accuracy: 0.3251 - top-05-acc: 0.6338 - top-10-acc: 0.7402 - val_loss: 2.7578 - val_accuracy: 0.3446 - val_top-05-acc: 0.6425 - val_top-10-acc: 0.7404\n",
      "Epoch 31/500\n",
      "591/591 [==============================] - 45s 76ms/step - loss: 2.7728 - accuracy: 0.3332 - top-05-acc: 0.6395 - top-10-acc: 0.7435 - val_loss: 2.7326 - val_accuracy: 0.3577 - val_top-05-acc: 0.6489 - val_top-10-acc: 0.7448\n",
      "Epoch 32/500\n",
      "591/591 [==============================] - 44s 75ms/step - loss: 2.7489 - accuracy: 0.3387 - top-05-acc: 0.6432 - top-10-acc: 0.7457 - val_loss: 2.7726 - val_accuracy: 0.3491 - val_top-05-acc: 0.6394 - val_top-10-acc: 0.7384\n",
      "Epoch 33/500\n",
      "591/591 [==============================] - 45s 76ms/step - loss: 2.7223 - accuracy: 0.3434 - top-05-acc: 0.6517 - top-10-acc: 0.7521 - val_loss: 2.7254 - val_accuracy: 0.3547 - val_top-05-acc: 0.6476 - val_top-10-acc: 0.7419\n",
      "Epoch 34/500\n",
      "591/591 [==============================] - 46s 77ms/step - loss: 2.6961 - accuracy: 0.3506 - top-05-acc: 0.6544 - top-10-acc: 0.7553 - val_loss: 2.6892 - val_accuracy: 0.3656 - val_top-05-acc: 0.6574 - val_top-10-acc: 0.7496\n",
      "Epoch 35/500\n"
     ]
    },
    {
     "name": "stdout",
     "output_type": "stream",
     "text": [
      "591/591 [==============================] - 45s 77ms/step - loss: 2.6814 - accuracy: 0.3534 - top-05-acc: 0.6575 - top-10-acc: 0.7568 - val_loss: 2.7102 - val_accuracy: 0.3629 - val_top-05-acc: 0.6479 - val_top-10-acc: 0.7428\n",
      "Epoch 36/500\n",
      "591/591 [==============================] - 45s 75ms/step - loss: 2.6561 - accuracy: 0.3583 - top-05-acc: 0.6613 - top-10-acc: 0.7611 - val_loss: 2.6525 - val_accuracy: 0.3697 - val_top-05-acc: 0.6635 - val_top-10-acc: 0.7578\n",
      "Epoch 37/500\n",
      "591/591 [==============================] - 45s 76ms/step - loss: 2.6364 - accuracy: 0.3628 - top-05-acc: 0.6649 - top-10-acc: 0.7611 - val_loss: 2.6501 - val_accuracy: 0.3753 - val_top-05-acc: 0.6622 - val_top-10-acc: 0.7532\n",
      "Epoch 38/500\n",
      "591/591 [==============================] - 45s 76ms/step - loss: 2.6134 - accuracy: 0.3678 - top-05-acc: 0.6696 - top-10-acc: 0.7658 - val_loss: 2.6417 - val_accuracy: 0.3765 - val_top-05-acc: 0.6670 - val_top-10-acc: 0.7587\n",
      "Epoch 39/500\n",
      "591/591 [==============================] - 45s 76ms/step - loss: 2.5916 - accuracy: 0.3741 - top-05-acc: 0.6744 - top-10-acc: 0.7675 - val_loss: 2.6260 - val_accuracy: 0.3827 - val_top-05-acc: 0.6690 - val_top-10-acc: 0.7580\n",
      "Epoch 40/500\n",
      "591/591 [==============================] - 45s 76ms/step - loss: 2.5724 - accuracy: 0.3783 - top-05-acc: 0.6770 - top-10-acc: 0.7705 - val_loss: 2.6291 - val_accuracy: 0.3812 - val_top-05-acc: 0.6668 - val_top-10-acc: 0.7545\n",
      "Epoch 41/500\n",
      "591/591 [==============================] - 45s 76ms/step - loss: 2.5597 - accuracy: 0.3799 - top-05-acc: 0.6798 - top-10-acc: 0.7712 - val_loss: 2.6176 - val_accuracy: 0.3868 - val_top-05-acc: 0.6716 - val_top-10-acc: 0.7598\n",
      "Epoch 42/500\n",
      "591/591 [==============================] - 45s 76ms/step - loss: 2.5443 - accuracy: 0.3831 - top-05-acc: 0.6820 - top-10-acc: 0.7724 - val_loss: 2.6610 - val_accuracy: 0.3766 - val_top-05-acc: 0.6633 - val_top-10-acc: 0.7546\n",
      "Epoch 43/500\n",
      "591/591 [==============================] - 45s 76ms/step - loss: 2.5208 - accuracy: 0.3883 - top-05-acc: 0.6860 - top-10-acc: 0.7760 - val_loss: 2.6339 - val_accuracy: 0.3811 - val_top-05-acc: 0.6665 - val_top-10-acc: 0.7561\n",
      "Epoch 44/500\n",
      "591/591 [==============================] - 46s 77ms/step - loss: 2.5041 - accuracy: 0.3914 - top-05-acc: 0.6900 - top-10-acc: 0.7792 - val_loss: 2.6682 - val_accuracy: 0.3860 - val_top-05-acc: 0.6668 - val_top-10-acc: 0.7535\n",
      "Epoch 45/500\n",
      "591/591 [==============================] - 45s 76ms/step - loss: 2.4977 - accuracy: 0.3952 - top-05-acc: 0.6909 - top-10-acc: 0.7784 - val_loss: 2.6270 - val_accuracy: 0.3826 - val_top-05-acc: 0.6708 - val_top-10-acc: 0.7614\n",
      "Epoch 46/500\n",
      "591/591 [==============================] - 45s 76ms/step - loss: 2.4776 - accuracy: 0.3990 - top-05-acc: 0.6933 - top-10-acc: 0.7815 - val_loss: 2.6275 - val_accuracy: 0.3914 - val_top-05-acc: 0.6696 - val_top-10-acc: 0.7590\n",
      "Epoch 47/500\n",
      "591/591 [==============================] - 45s 76ms/step - loss: 2.4723 - accuracy: 0.3974 - top-05-acc: 0.6969 - top-10-acc: 0.7819 - val_loss: 2.5871 - val_accuracy: 0.3951 - val_top-05-acc: 0.6744 - val_top-10-acc: 0.7602\n",
      "Epoch 48/500\n",
      "591/591 [==============================] - 45s 76ms/step - loss: 2.4567 - accuracy: 0.4034 - top-05-acc: 0.6989 - top-10-acc: 0.7840 - val_loss: 2.6125 - val_accuracy: 0.3923 - val_top-05-acc: 0.6719 - val_top-10-acc: 0.7617\n",
      "Epoch 49/500\n",
      "591/591 [==============================] - 45s 76ms/step - loss: 2.4452 - accuracy: 0.4048 - top-05-acc: 0.7007 - top-10-acc: 0.7860 - val_loss: 2.5858 - val_accuracy: 0.3936 - val_top-05-acc: 0.6749 - val_top-10-acc: 0.7624\n",
      "Epoch 50/500\n",
      "591/591 [==============================] - 45s 76ms/step - loss: 2.4278 - accuracy: 0.4106 - top-05-acc: 0.7030 - top-10-acc: 0.7867 - val_loss: 2.5783 - val_accuracy: 0.4044 - val_top-05-acc: 0.6818 - val_top-10-acc: 0.7671\n",
      "Epoch 51/500\n",
      "591/591 [==============================] - 45s 77ms/step - loss: 2.4222 - accuracy: 0.4117 - top-05-acc: 0.7026 - top-10-acc: 0.7883 - val_loss: 2.5809 - val_accuracy: 0.4006 - val_top-05-acc: 0.6762 - val_top-10-acc: 0.7612\n",
      "Epoch 52/500\n",
      "591/591 [==============================] - 45s 77ms/step - loss: 2.4111 - accuracy: 0.4159 - top-05-acc: 0.7051 - top-10-acc: 0.7881 - val_loss: 2.6128 - val_accuracy: 0.4082 - val_top-05-acc: 0.6811 - val_top-10-acc: 0.7668\n",
      "Epoch 53/500\n",
      "591/591 [==============================] - 45s 77ms/step - loss: 2.4035 - accuracy: 0.4134 - top-05-acc: 0.7059 - top-10-acc: 0.7897 - val_loss: 2.5766 - val_accuracy: 0.4026 - val_top-05-acc: 0.6741 - val_top-10-acc: 0.7643\n",
      "Epoch 54/500\n",
      "591/591 [==============================] - 45s 76ms/step - loss: 2.3984 - accuracy: 0.4168 - top-05-acc: 0.7090 - top-10-acc: 0.7889 - val_loss: 2.6537 - val_accuracy: 0.3864 - val_top-05-acc: 0.6661 - val_top-10-acc: 0.7532\n",
      "Epoch 55/500\n",
      "591/591 [==============================] - 45s 77ms/step - loss: 2.3866 - accuracy: 0.4213 - top-05-acc: 0.7090 - top-10-acc: 0.7907 - val_loss: 2.5642 - val_accuracy: 0.4082 - val_top-05-acc: 0.6783 - val_top-10-acc: 0.7648\n",
      "Epoch 56/500\n",
      "591/591 [==============================] - 45s 76ms/step - loss: 2.3679 - accuracy: 0.4236 - top-05-acc: 0.7114 - top-10-acc: 0.7934 - val_loss: 2.5574 - val_accuracy: 0.4087 - val_top-05-acc: 0.6846 - val_top-10-acc: 0.7694\n",
      "Epoch 57/500\n",
      "591/591 [==============================] - 44s 75ms/step - loss: 2.3651 - accuracy: 0.4246 - top-05-acc: 0.7128 - top-10-acc: 0.7940 - val_loss: 2.5908 - val_accuracy: 0.4042 - val_top-05-acc: 0.6815 - val_top-10-acc: 0.7611\n",
      "Epoch 58/500\n",
      "591/591 [==============================] - 46s 77ms/step - loss: 2.3581 - accuracy: 0.4274 - top-05-acc: 0.7134 - top-10-acc: 0.7944 - val_loss: 2.6010 - val_accuracy: 0.4012 - val_top-05-acc: 0.6764 - val_top-10-acc: 0.7584\n",
      "Epoch 59/500\n",
      "591/591 [==============================] - 45s 77ms/step - loss: 2.3526 - accuracy: 0.4262 - top-05-acc: 0.7156 - top-10-acc: 0.7963 - val_loss: 2.5630 - val_accuracy: 0.4046 - val_top-05-acc: 0.6830 - val_top-10-acc: 0.7660\n",
      "Epoch 60/500\n",
      "591/591 [==============================] - 45s 75ms/step - loss: 2.3382 - accuracy: 0.4318 - top-05-acc: 0.7164 - top-10-acc: 0.7964 - val_loss: 2.5875 - val_accuracy: 0.4071 - val_top-05-acc: 0.6795 - val_top-10-acc: 0.7626\n",
      "Epoch 61/500\n",
      "591/591 [==============================] - 45s 76ms/step - loss: 2.3348 - accuracy: 0.4326 - top-05-acc: 0.7168 - top-10-acc: 0.7967 - val_loss: 2.5403 - val_accuracy: 0.4107 - val_top-05-acc: 0.6849 - val_top-10-acc: 0.7665\n",
      "Epoch 62/500\n",
      "591/591 [==============================] - 46s 78ms/step - loss: 2.3274 - accuracy: 0.4340 - top-05-acc: 0.7180 - top-10-acc: 0.7976 - val_loss: 2.5513 - val_accuracy: 0.4088 - val_top-05-acc: 0.6831 - val_top-10-acc: 0.7674\n",
      "Epoch 63/500\n",
      "591/591 [==============================] - 45s 76ms/step - loss: 2.3149 - accuracy: 0.4341 - top-05-acc: 0.7206 - top-10-acc: 0.7974 - val_loss: 2.5475 - val_accuracy: 0.4141 - val_top-05-acc: 0.6861 - val_top-10-acc: 0.7682\n",
      "Epoch 64/500\n",
      "591/591 [==============================] - 45s 75ms/step - loss: 2.3085 - accuracy: 0.4388 - top-05-acc: 0.7226 - top-10-acc: 0.7995 - val_loss: 2.5848 - val_accuracy: 0.4126 - val_top-05-acc: 0.6810 - val_top-10-acc: 0.7652\n",
      "Epoch 65/500\n",
      "591/591 [==============================] - 45s 77ms/step - loss: 2.3072 - accuracy: 0.4368 - top-05-acc: 0.7229 - top-10-acc: 0.8009 - val_loss: 2.5543 - val_accuracy: 0.4131 - val_top-05-acc: 0.6851 - val_top-10-acc: 0.7669\n",
      "Epoch 66/500\n",
      "591/591 [==============================] - 44s 74ms/step - loss: 2.3007 - accuracy: 0.4401 - top-05-acc: 0.7227 - top-10-acc: 0.8000 - val_loss: 2.6536 - val_accuracy: 0.4023 - val_top-05-acc: 0.6733 - val_top-10-acc: 0.7584\n",
      "Epoch 67/500\n",
      "591/591 [==============================] - 46s 77ms/step - loss: 2.2938 - accuracy: 0.4419 - top-05-acc: 0.7250 - top-10-acc: 0.8020 - val_loss: 2.5832 - val_accuracy: 0.4107 - val_top-05-acc: 0.6832 - val_top-10-acc: 0.7646\n",
      "Epoch 68/500\n",
      "591/591 [==============================] - 45s 76ms/step - loss: 2.2832 - accuracy: 0.4450 - top-05-acc: 0.7264 - top-10-acc: 0.8013 - val_loss: 2.6044 - val_accuracy: 0.4059 - val_top-05-acc: 0.6779 - val_top-10-acc: 0.7593\n",
      "Epoch 69/500\n"
     ]
    },
    {
     "name": "stdout",
     "output_type": "stream",
     "text": [
      "591/591 [==============================] - 45s 77ms/step - loss: 2.2854 - accuracy: 0.4431 - top-05-acc: 0.7253 - top-10-acc: 0.8018 - val_loss: 2.5791 - val_accuracy: 0.4121 - val_top-05-acc: 0.6829 - val_top-10-acc: 0.7659\n"
     ]
    }
   ],
   "source": [
    "# if True:\n",
    "callbacks = [\n",
    "    tf.keras.callbacks.ModelCheckpoint(\"_model.h5\"),\n",
    "    tf.keras.callbacks.EarlyStopping(\n",
    "        monitor='val_accuracy',\n",
    "        patience=6,\n",
    "        restore_best_weights=True,\n",
    "    ),\n",
    "]\n",
    "history = model.fit(\n",
    "    X_train,\n",
    "    y_train,\n",
    "    epochs=500,\n",
    "    validation_data=(X_val, y_val),\n",
    "    batch_size=128,\n",
    "    callbacks=callbacks,\n",
    ")"
   ]
  },
  {
   "cell_type": "code",
   "execution_count": 29,
   "id": "8e501652",
   "metadata": {
    "ExecuteTime": {
     "end_time": "2023-03-01T22:11:17.992833Z",
     "start_time": "2023-03-01T22:11:17.887698Z"
    }
   },
   "outputs": [
    {
     "data": {
      "image/png": "[encoded data removed]",
      "text/plain": [
       "<Figure size 640x480 with 1 Axes>"
      ]
     },
     "metadata": {},
     "output_type": "display_data"
    }
   ],
   "source": [
    "# summarize history for accuracy\n",
    "plt.plot(history.history['accuracy'])\n",
    "plt.plot(history.history['val_accuracy'])\n",
    "plt.title('model accuracy')\n",
    "plt.ylabel('accuracy')\n",
    "plt.xlabel('epoch')\n",
    "plt.legend(['train', 'test'], loc='upper left')\n",
    "plt.show()"
   ]
  },
  {
   "cell_type": "code",
   "execution_count": 30,
   "id": "fad21f0f",
   "metadata": {
    "ExecuteTime": {
     "end_time": "2023-03-01T22:11:18.074582Z",
     "start_time": "2023-03-01T22:11:18.003519Z"
    }
   },
   "outputs": [
    {
     "data": {
      "image/png": "[encoded data removed]",
      "text/plain": [
       "<Figure size 640x480 with 1 Axes>"
      ]
     },
     "metadata": {},
     "output_type": "display_data"
    }
   ],
   "source": [
    "# summarize history for loss\n",
    "plt.plot(history.history['loss'])\n",
    "plt.plot(history.history['val_loss'])\n",
    "plt.title('model loss')\n",
    "plt.ylabel('loss')\n",
    "plt.xlabel('epoch')\n",
    "plt.legend(['train', 'test'], loc='upper left')\n",
    "plt.show()"
   ]
  }
 ],
 "metadata": {
  "kernelspec": {
   "display_name": "Python 3 (ipykernel)",
   "language": "python",
   "name": "python3"
  },
  "language_info": {
   "codemirror_mode": {
    "name": "ipython",
    "version": 3
   },
   "file_extension": ".py",
   "mimetype": "text/x-python",
   "name": "python",
   "nbconvert_exporter": "python",
   "pygments_lexer": "ipython3",
   "version": "3.9.15"
  },
  "toc": {
   "base_numbering": 1,
   "nav_menu": {},
   "number_sections": true,
   "sideBar": true,
   "skip_h1_title": false,
   "title_cell": "Table of Contents",
   "title_sidebar": "Contents",
   "toc_cell": false,
   "toc_position": {},
   "toc_section_display": true,
   "toc_window_display": false
  }
 },
 "nbformat": 4,
 "nbformat_minor": 5
}
