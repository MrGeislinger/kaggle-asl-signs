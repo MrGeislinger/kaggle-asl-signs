{
 "cells": [
  {
   "cell_type": "markdown",
   "id": "e4c8a3c0",
   "metadata": {},
   "source": [
    "Baseline_TF\n",
    "https://www.kaggle.com/code/ivaneleskin/baseline-tf"
   ]
  },
  {
   "cell_type": "code",
   "execution_count": 1,
   "id": "743607ba",
   "metadata": {
    "ExecuteTime": {
     "end_time": "2023-03-01T18:57:22.666845Z",
     "start_time": "2023-03-01T18:57:21.062056Z"
    }
   },
   "outputs": [
    {
     "name": "stderr",
     "output_type": "stream",
     "text": [
      "2023-03-01 10:57:21.337962: I tensorflow/core/platform/cpu_feature_guard.cc:193] This TensorFlow binary is optimized with oneAPI Deep Neural Network Library (oneDNN) to use the following CPU instructions in performance-critical operations:  AVX2 FMA\n",
      "To enable them in other operations, rebuild TensorFlow with the appropriate compiler flags.\n",
      "2023-03-01 10:57:21.488165: E tensorflow/stream_executor/cuda/cuda_blas.cc:2981] Unable to register cuBLAS factory: Attempting to register factory for plugin cuBLAS when one has already been registered\n",
      "2023-03-01 10:57:21.934515: W tensorflow/stream_executor/platform/default/dso_loader.cc:64] Could not load dynamic library 'libnvinfer.so.7'; dlerror: libnvinfer.so.7: cannot open shared object file: No such file or directory; LD_LIBRARY_PATH: :/home/victor/miniconda3/envs/tf/lib/:/home/victor/miniconda3/envs/tf/lib/:/home/victor/miniconda3/envs/tf/lib/:/home/victor/miniconda3/envs/tf/lib/\n",
      "2023-03-01 10:57:21.934579: W tensorflow/stream_executor/platform/default/dso_loader.cc:64] Could not load dynamic library 'libnvinfer_plugin.so.7'; dlerror: libnvinfer_plugin.so.7: cannot open shared object file: No such file or directory; LD_LIBRARY_PATH: :/home/victor/miniconda3/envs/tf/lib/:/home/victor/miniconda3/envs/tf/lib/:/home/victor/miniconda3/envs/tf/lib/:/home/victor/miniconda3/envs/tf/lib/\n",
      "2023-03-01 10:57:21.934584: W tensorflow/compiler/tf2tensorrt/utils/py_utils.cc:38] TF-TRT Warning: Cannot dlopen some TensorRT libraries. If you would like to use Nvidia GPU with TensorRT, please make sure the missing libraries mentioned above are installed properly.\n"
     ]
    }
   ],
   "source": [
    "import os\n",
    "import json\n",
    "import numpy as np\n",
    "import pandas as pd\n",
    "from tqdm import tqdm\n",
    "import tensorflow as tf\n",
    "from tqdm import tqdm\n",
    "import json\n",
    "import gc\n",
    "from sklearn.model_selection import train_test_split\n",
    "# import missingno as msno\n",
    "\n",
    "from pathlib import Path"
   ]
  },
  {
   "cell_type": "code",
   "execution_count": 2,
   "id": "3ee4aeb4",
   "metadata": {
    "ExecuteTime": {
     "end_time": "2023-03-01T18:57:22.757066Z",
     "start_time": "2023-03-01T18:57:22.668529Z"
    }
   },
   "outputs": [
    {
     "name": "stdout",
     "output_type": "stream",
     "text": [
      "train.shape = 94477 rows, 4 cols\n",
      "<class 'pandas.core.frame.DataFrame'>\n",
      "RangeIndex: 94477 entries, 0 to 94476\n",
      "Data columns (total 4 columns):\n",
      " #   Column          Non-Null Count  Dtype \n",
      "---  ------          --------------  ----- \n",
      " 0   path            94477 non-null  object\n",
      " 1   participant_id  94477 non-null  int64 \n",
      " 2   sequence_id     94477 non-null  int64 \n",
      " 3   sign            94477 non-null  object\n",
      "dtypes: int64(2), object(2)\n",
      "memory usage: 2.9+ MB\n"
     ]
    },
    {
     "data": {
      "text/html": [
       "<div>\n",
       "<style scoped>\n",
       "    .dataframe tbody tr th:only-of-type {\n",
       "        vertical-align: middle;\n",
       "    }\n",
       "\n",
       "    .dataframe tbody tr th {\n",
       "        vertical-align: top;\n",
       "    }\n",
       "\n",
       "    .dataframe thead th {\n",
       "        text-align: right;\n",
       "    }\n",
       "</style>\n",
       "<table border=\"1\" class=\"dataframe\">\n",
       "  <thead>\n",
       "    <tr style=\"text-align: right;\">\n",
       "      <th></th>\n",
       "      <th>path</th>\n",
       "      <th>participant_id</th>\n",
       "      <th>sequence_id</th>\n",
       "      <th>sign</th>\n",
       "    </tr>\n",
       "  </thead>\n",
       "  <tbody>\n",
       "    <tr>\n",
       "      <th>0</th>\n",
       "      <td>train_landmark_files/26734/1000035562.parquet</td>\n",
       "      <td>26734</td>\n",
       "      <td>1000035562</td>\n",
       "      <td>blow</td>\n",
       "    </tr>\n",
       "    <tr>\n",
       "      <th>1</th>\n",
       "      <td>train_landmark_files/28656/1000106739.parquet</td>\n",
       "      <td>28656</td>\n",
       "      <td>1000106739</td>\n",
       "      <td>wait</td>\n",
       "    </tr>\n",
       "    <tr>\n",
       "      <th>2</th>\n",
       "      <td>train_landmark_files/16069/100015657.parquet</td>\n",
       "      <td>16069</td>\n",
       "      <td>100015657</td>\n",
       "      <td>cloud</td>\n",
       "    </tr>\n",
       "    <tr>\n",
       "      <th>3</th>\n",
       "      <td>train_landmark_files/25571/1000210073.parquet</td>\n",
       "      <td>25571</td>\n",
       "      <td>1000210073</td>\n",
       "      <td>bird</td>\n",
       "    </tr>\n",
       "    <tr>\n",
       "      <th>4</th>\n",
       "      <td>train_landmark_files/62590/1000240708.parquet</td>\n",
       "      <td>62590</td>\n",
       "      <td>1000240708</td>\n",
       "      <td>owie</td>\n",
       "    </tr>\n",
       "  </tbody>\n",
       "</table>\n",
       "</div>"
      ],
      "text/plain": [
       "                                            path  participant_id  sequence_id  \\\n",
       "0  train_landmark_files/26734/1000035562.parquet           26734   1000035562   \n",
       "1  train_landmark_files/28656/1000106739.parquet           28656   1000106739   \n",
       "2   train_landmark_files/16069/100015657.parquet           16069    100015657   \n",
       "3  train_landmark_files/25571/1000210073.parquet           25571   1000210073   \n",
       "4  train_landmark_files/62590/1000240708.parquet           62590   1000240708   \n",
       "\n",
       "    sign  \n",
       "0   blow  \n",
       "1   wait  \n",
       "2  cloud  \n",
       "3   bird  \n",
       "4   owie  "
      ]
     },
     "execution_count": 2,
     "metadata": {},
     "output_type": "execute_result"
    }
   ],
   "source": [
    "DATA_ROOT = Path('..')\n",
    "DF_TRAIN = DATA_ROOT / 'train.csv'\n",
    "train = pd.read_csv(DF_TRAIN)\n",
    "\n",
    "print(\"train.shape = {} rows, {} cols\".format(*train.shape))\n",
    "train.info()\n",
    "train.head()\n"
   ]
  },
  {
   "cell_type": "code",
   "execution_count": 3,
   "id": "11726f4f",
   "metadata": {
    "ExecuteTime": {
     "end_time": "2023-03-01T18:57:22.762745Z",
     "start_time": "2023-03-01T18:57:22.758373Z"
    }
   },
   "outputs": [],
   "source": [
    "class CFG:\n",
    "    data_path = \"../\"\n",
    "    quick_experiment = False\n",
    "    is_training = True\n",
    "    use_aggregation_dataset = True\n",
    "    num_classes = 250\n",
    "    rows_per_frame = 543 \n",
    "\n",
    "def load_relevant_data_subset_with_imputation(pq_path):\n",
    "    data_columns = ['x', 'y', 'z']\n",
    "    data = pd.read_parquet(pq_path, columns=data_columns)\n",
    "    data.replace(np.nan, 0, inplace=True)\n",
    "    n_frames = int(len(data) / CFG.rows_per_frame)\n",
    "    data = data.values.reshape(n_frames, CFG.rows_per_frame, len(data_columns))\n",
    "    return data.astype(np.float32)\n",
    "\n",
    "def load_relevant_data_subset(pq_path):\n",
    "    data_columns = ['x', 'y', 'z']\n",
    "    data = pd.read_parquet(pq_path, columns=data_columns)\n",
    "    n_frames = int(len(data) / CFG.rows_per_frame)\n",
    "    data = data.values.reshape(n_frames, CFG.rows_per_frame, len(data_columns))\n",
    "    return data.astype(np.float32)\n",
    "\n",
    "def read_dict(file_path):\n",
    "    path = os.path.expanduser(file_path)\n",
    "    with open(path, \"r\") as f:\n",
    "        dic = json.load(f)\n",
    "    return dic"
   ]
  },
  {
   "cell_type": "code",
   "execution_count": 4,
   "id": "150fc1bc",
   "metadata": {
    "ExecuteTime": {
     "end_time": "2023-03-01T18:57:22.849156Z",
     "start_time": "2023-03-01T18:57:22.764391Z"
    }
   },
   "outputs": [],
   "source": [
    "train = pd.read_csv(f\"{CFG.data_path}train.csv\")\n",
    "label_index = read_dict(f\"{CFG.data_path}sign_to_prediction_index_map.json\")\n",
    "index_label = {label_index[key]: key for key in label_index}\n",
    "train[\"label\"] = train[\"sign\"].map(lambda sign: label_index[sign])"
   ]
  },
  {
   "cell_type": "code",
   "execution_count": 5,
   "id": "fda181c9",
   "metadata": {
    "ExecuteTime": {
     "end_time": "2023-03-01T18:57:23.076817Z",
     "start_time": "2023-03-01T18:57:22.850668Z"
    }
   },
   "outputs": [
    {
     "name": "stdout",
     "output_type": "stream",
     "text": [
      "(94477, 543, 3) (94477,)\n"
     ]
    }
   ],
   "source": [
    "MAX_FRAMES = 5\n",
    "X_npy_fname = f'X_3d-avg-{MAX_FRAMES}_frames.npy'\n",
    "y_npy_fname = f'y.npy'\n",
    "\n",
    "\n",
    "if CFG.is_training:\n",
    "    try:\n",
    "        X = np.load(X_npy_fname)\n",
    "        y = np.load(y_npy_fname)\n",
    "    except:\n",
    "        print('True')\n",
    "        X = np.zeros((len(train), 543, 3))\n",
    "        y = np.zeros((len(train),))\n",
    "        num_frames = np.zeros(len(train))\n",
    "        for i in tqdm(range(len(train))):\n",
    "            path = f\"{CFG.data_path}{train.iloc[i].path}\"\n",
    "            data = load_relevant_data_subset_with_imputation(path)\n",
    "            ## Mean Aggregation\n",
    "            data_resize = tf.image.resize(\n",
    "                data,\n",
    "                (MAX_FRAMES, 543),\n",
    "                method='nearest',\n",
    "            )\n",
    "            X[i] = np.mean(data_resize, axis=0)\n",
    "            y[i] = train.iloc[i].label\n",
    "            num_frames[i] = data.shape[0]\n",
    "            if CFG.quick_experiment and i == 4999:\n",
    "                break\n",
    "        ## Save number of frames of each training sample for data analysis\n",
    "        train[\"num_frames\"] = num_frames\n",
    "        print(train[\"num_frames\"].describe())\n",
    "        train.to_csv(\"train.csv\", index=False)\n",
    "        np.save(X_npy_fname, X)\n",
    "        np.save(y_npy_fname, y)\n",
    "\n",
    "    print(X.shape, y.shape)"
   ]
  },
  {
   "cell_type": "code",
   "execution_count": 6,
   "id": "209d6968",
   "metadata": {
    "ExecuteTime": {
     "end_time": "2023-03-01T18:57:23.081512Z",
     "start_time": "2023-03-01T18:57:23.078213Z"
    }
   },
   "outputs": [
    {
     "data": {
      "text/plain": [
       "(94477, 543, 3)"
      ]
     },
     "execution_count": 6,
     "metadata": {},
     "output_type": "execute_result"
    }
   ],
   "source": [
    "X.shape"
   ]
  },
  {
   "cell_type": "code",
   "execution_count": 7,
   "id": "f3111c98",
   "metadata": {
    "ExecuteTime": {
     "end_time": "2023-03-01T18:57:23.314468Z",
     "start_time": "2023-03-01T18:57:23.082673Z"
    }
   },
   "outputs": [
    {
     "name": "stdout",
     "output_type": "stream",
     "text": [
      "(75581, 543, 3) (75581,) (18896, 543, 3) (18896,)\n"
     ]
    }
   ],
   "source": [
    "X_train, X_val, y_train, y_val = train_test_split(X, y, test_size=0.2, random_state=27, stratify=y)\n",
    "print(X_train.shape, y_train.shape, X_val.shape, y_val.shape)"
   ]
  },
  {
   "cell_type": "markdown",
   "id": "68c533b4",
   "metadata": {
    "ExecuteTime": {
     "end_time": "2023-02-28T06:35:20.097696Z",
     "start_time": "2023-02-28T06:35:20.093856Z"
    }
   },
   "source": [
    "|part|start|end|\n",
    "|----|--|---|\n",
    "|face| 0| 467|\n",
    "|left_hand| 468| 488|\n",
    "|pose| 489| 521|\n",
    "|right_hand| 522| 542|"
   ]
  },
  {
   "cell_type": "code",
   "execution_count": 8,
   "id": "23e92ab1",
   "metadata": {
    "ExecuteTime": {
     "end_time": "2023-03-01T18:57:23.318835Z",
     "start_time": "2023-03-01T18:57:23.316519Z"
    }
   },
   "outputs": [],
   "source": [
    "# inputs = tf.keras.Input((MAX_FRAMES, 543, 3), dtype=tf.float32)\n",
    "# h1 = tf.keras.layers.Dense(128, activation=\"relu\")(inputs)\n",
    "# h1 = tf.keras.layers.Dense(128, activation=\"relu\")(h1)\n",
    "# h1 = tf.keras.layers.Dropout(0.2)(h1)\n",
    "# h2 = tf.keras.layers.Dense(64, activation=\"relu\")(h1)\n",
    "# h2 = tf.keras.layers.Dense(64, activation=\"relu\")(h2)\n",
    "# h3 = tf.keras.layers.Dropout(0.2)(h2)\n",
    "\n",
    "# concat = tf.keras.layers.Concatenate()([inputs, h3])\n",
    "# vector = tf.keras.layers.Dense(64, activation=\"relu\")(concat)\n",
    "# vector = tf.keras.layers.Dense(64, activation=\"relu\")(vector)\n",
    "# vector = tf.keras.layers.Dropout(0.2)(vector)\n",
    "# vector = tf.keras.layers.Flatten()(vector)\n",
    "# output = tf.keras.layers.Dense(250, activation=\"softmax\")(vector)\n",
    "\n",
    "\n",
    "# model = tf.keras.Model(inputs=inputs, outputs=output)\n",
    "# model.compile(\n",
    "#     loss=tf.keras.losses.SparseCategoricalCrossentropy(),\n",
    "#     optimizer='adam',\n",
    "#     metrics=[\n",
    "#         'accuracy',\n",
    "#         tf.keras.metrics.SparseTopKCategoricalAccuracy(k=5, name='top-05-acc'),\n",
    "#         tf.keras.metrics.SparseTopKCategoricalAccuracy(k=10, name='top-10-acc'),\n",
    "#     ]\n",
    "# )"
   ]
  },
  {
   "cell_type": "code",
   "execution_count": 9,
   "id": "fcf9e4ea",
   "metadata": {
    "ExecuteTime": {
     "end_time": "2023-03-01T18:57:23.342074Z",
     "start_time": "2023-03-01T18:57:23.319914Z"
    }
   },
   "outputs": [],
   "source": [
    "# tf.keras.layers.Lambda(lambda x: x[:, 0:  468, :]) #face\n",
    "# tf.keras.layers.Lambda(lambda x: x[:, 468:489, :]) #left_hand\n",
    "# tf.keras.layers.Lambda(lambda x: x[:, 489:522, :]) #pose\n",
    "# tf.keras.layers.Lambda(lambda x: x[:, 522:542, :]) #right_hand"
   ]
  },
  {
   "cell_type": "code",
   "execution_count": 10,
   "id": "141790b0",
   "metadata": {
    "ExecuteTime": {
     "end_time": "2023-03-01T18:57:23.352896Z",
     "start_time": "2023-03-01T18:57:23.343956Z"
    }
   },
   "outputs": [],
   "source": [
    "# N_FACE_PTS = 468\n",
    "# N_HAND_PTS = 21\n",
    "# N_POSE_PTS = 20\n",
    "\n",
    "\n",
    "# input_left = tf.keras.layers.Input(shape=(N_HAND_PTS,))\n",
    "# input_right = tf.keras.layers.Input(shape=(N_HAND_PTS,))\n",
    "# input_face = tf.keras.layers.Input(shape=(N_FACE_PTS,))\n",
    "# input_pose = tf.keras.layers.Input(shape=(N_POSE_PTS,))\n",
    "\n",
    "\n",
    "# head_avg = tf.keras.layers.Lambda(\n",
    "#     lambda x: tf.reduce_mean(x, axis=1, keepdims=True))(input_face)\n",
    "\n",
    "# # Get just the left hand + avg head\n",
    "# left_head_avg = tf.keras.layers.Concatenate()([input_left, head_avg])\n",
    "\n",
    "# # Get just the right hand + avg head\n",
    "# right_head_avg = tf.keras.layers.Concatenate()([input_right, head_avg])\n",
    "\n",
    "\n",
    "\n",
    "# x1 = tf.keras.layers.Dense(8, activation='relu')(input1)\n",
    "# input2 = tf.keras.layers.Input(shape=(32,))\n",
    "# x2 = tf.keras.layers.Dense(8, activation='relu')(input2)\n",
    "# avg = tf.keras.layers.Average()([x1, x2])\n",
    "# out = tf.keras.layers.Dense(4)(avg)\n",
    "# model = tf.keras.models.Model(inputs=[input1, input2], outputs=out)"
   ]
  },
  {
   "cell_type": "code",
   "execution_count": 11,
   "id": "f526c1a7",
   "metadata": {
    "ExecuteTime": {
     "end_time": "2023-03-01T18:57:23.367877Z",
     "start_time": "2023-03-01T18:57:23.354410Z"
    }
   },
   "outputs": [],
   "source": [
    "# inputs = tf.keras.Input((543, 3), dtype=tf.float32)\n",
    "# h1 = tf.keras.layers.Dense(128, activation=\"relu\")(inputs)\n",
    "# h2 = tf.keras.layers.Dense(64, activation=\"relu\")(h1)\n",
    "# h3 = tf.keras.layers.Dense(64, activation=\"relu\")(h2)\n",
    "# \n",
    "# concat = tf.keras.layers.Concatenate()([inputs, h3])\n",
    "# vector = tf.keras.layers.Dense(64, activation=\"relu\")(concat)\n",
    "# vector = tf.keras.layers.Dense(32, activation=\"relu\")(vector)\n",
    "# vector = tf.keras.layers.Dense(32, activation=\"relu\")(vector)\n",
    "# vector = tf.keras.layers.Flatten()(vector)\n",
    "# output = tf.keras.layers.Dense(250, activation=\"softmax\")(vector)\n",
    "\n",
    "# model = tf.keras.Model(inputs=inputs, outputs=output)\n",
    "# model.compile(\n",
    "#     loss=tf.keras.losses.SparseCategoricalCrossentropy(), \n",
    "#     metrics=[\n",
    "#         \"accuracy\",\n",
    "#         tf.keras.metrics.SparseTopKCategoricalAccuracy(k=5, name=\"top-5-accuracy\"),\n",
    "#         tf.keras.metrics.SparseTopKCategoricalAccuracy(k=10),\n",
    "#     ]\n",
    "# )"
   ]
  },
  {
   "cell_type": "code",
   "execution_count": 12,
   "id": "60fb8455",
   "metadata": {
    "ExecuteTime": {
     "end_time": "2023-03-01T18:57:23.378984Z",
     "start_time": "2023-03-01T18:57:23.369645Z"
    },
    "scrolled": true
   },
   "outputs": [],
   "source": [
    "# model = tf.keras.Sequential([\n",
    "# #     tf.keras.layers.ConvLSTM1D(128, kernel_size=2, return_sequences=True, input_shape=[None, 543, 3]),\n",
    "# #     tf.keras.layers.ConvLSTM1D(128, kernel_size=2,),\n",
    "#     tf.keras.layers.GRU(256, return_sequences=True, input_shape=(None, 3)),\n",
    "#     tf.keras.layers.GRU(256),\n",
    "#     tf.keras.layers.Dense(256, activation=\"relu\"),\n",
    "#     tf.keras.layers.Dropout(0.4),\n",
    "#     tf.keras.layers.Dense(128, activation=\"relu\"),\n",
    "#     tf.keras.layers.Dropout(0.2),\n",
    "#     tf.keras.layers.Dense(128, activation=\"relu\"),\n",
    "#     tf.keras.layers.Dropout(0.2),\n",
    "#     tf.keras.layers.Dense(64, activation=\"relu\"),\n",
    "#     tf.keras.layers.Dense(64, activation=\"relu\"),\n",
    "#     tf.keras.layers.Dropout(0.2),\n",
    "#     tf.keras.layers.Flatten(),\n",
    "#     tf.keras.layers.Dense(250, activation=\"softmax\"),\n",
    "# ])\n",
    "\n",
    "# model.compile(\n",
    "#     loss=tf.keras.losses.SparseCategoricalCrossentropy(), \n",
    "#     optimizer='adam',\n",
    "#     metrics=[\n",
    "#         \"accuracy\",\n",
    "#         tf.keras.metrics.SparseTopKCategoricalAccuracy(k=5, name=\"top-05-acc\"),\n",
    "#         tf.keras.metrics.SparseTopKCategoricalAccuracy(k=10, name=\"top-10-acc\"),\n",
    "#     ]\n",
    "# )\n",
    "\n",
    "# model.summary()"
   ]
  },
  {
   "cell_type": "code",
   "execution_count": 22,
   "id": "e9cf3b76",
   "metadata": {
    "ExecuteTime": {
     "end_time": "2023-03-01T19:45:34.293219Z",
     "start_time": "2023-03-01T19:45:33.946180Z"
    }
   },
   "outputs": [
    {
     "name": "stdout",
     "output_type": "stream",
     "text": [
      "Model: \"sequential_3\"\n",
      "_________________________________________________________________\n",
      " Layer (type)                Output Shape              Param #   \n",
      "=================================================================\n",
      " gru_6 (GRU)                 (None, None, 128)         51072     \n",
      "                                                                 \n",
      " gru_7 (GRU)                 (None, 128)               99072     \n",
      "                                                                 \n",
      " dense_1 (Dense)             (None, 250)               32250     \n",
      "                                                                 \n",
      "=================================================================\n",
      "Total params: 182,394\n",
      "Trainable params: 182,394\n",
      "Non-trainable params: 0\n",
      "_________________________________________________________________\n"
     ]
    }
   ],
   "source": [
    "model = tf.keras.Sequential([\n",
    "    tf.keras.layers.GRU(128, return_sequences=True, input_shape=(None, 3)),\n",
    "    tf.keras.layers.GRU(128),\n",
    "#     tf.keras.layers.Dense(128, activation=\"relu\"),\n",
    "#     tf.keras.layers.Dropout(0.4),\n",
    "#     tf.keras.layers.Dense(128, activation=\"relu\"),\n",
    "#     tf.keras.layers.Dense(128, activation=\"relu\"),\n",
    "#     tf.keras.layers.Dropout(0.2),\n",
    "#     tf.keras.layers.Dense(64, activation=\"relu\"),\n",
    "#     tf.keras.layers.Dense(64, activation=\"relu\"),\n",
    "#     tf.keras.layers.Dropout(0.2),\n",
    "#     tf.keras.layers.Flatten(),\n",
    "    tf.keras.layers.Dense(250, activation='softmax'),\n",
    "])\n",
    "\n",
    "model.compile(\n",
    "    loss=tf.keras.losses.SparseCategoricalCrossentropy(), \n",
    "    metrics=[\n",
    "        \"accuracy\",\n",
    "        tf.keras.metrics.SparseTopKCategoricalAccuracy(k=5, name=\"top-05-acc\"),\n",
    "        tf.keras.metrics.SparseTopKCategoricalAccuracy(k=10, name=\"top-10-acc\"),\n",
    "    ]\n",
    ")\n",
    "\n",
    "model.summary()"
   ]
  },
  {
   "cell_type": "code",
   "execution_count": 23,
   "id": "28309e83",
   "metadata": {
    "ExecuteTime": {
     "end_time": "2023-03-01T20:01:01.696085Z",
     "start_time": "2023-03-01T19:45:41.241286Z"
    },
    "scrolled": true
   },
   "outputs": [
    {
     "name": "stdout",
     "output_type": "stream",
     "text": [
      "Epoch 1/500\n",
      "74/74 [==============================] - 9s 92ms/step - loss: 5.4617 - accuracy: 0.0069 - top-05-acc: 0.0328 - top-10-acc: 0.0629 - val_loss: 5.3922 - val_accuracy: 0.0116 - val_top-05-acc: 0.0458 - val_top-10-acc: 0.0841\n",
      "Epoch 2/500\n",
      "74/74 [==============================] - 6s 85ms/step - loss: 5.3667 - accuracy: 0.0115 - top-05-acc: 0.0493 - top-10-acc: 0.0927 - val_loss: 5.3379 - val_accuracy: 0.0138 - val_top-05-acc: 0.0572 - val_top-10-acc: 0.1021\n",
      "Epoch 3/500\n",
      "74/74 [==============================] - 6s 85ms/step - loss: 5.2616 - accuracy: 0.0177 - top-05-acc: 0.0729 - top-10-acc: 0.1244 - val_loss: 5.2245 - val_accuracy: 0.0207 - val_top-05-acc: 0.0772 - val_top-10-acc: 0.1379\n",
      "Epoch 4/500\n",
      "74/74 [==============================] - 6s 84ms/step - loss: 5.1502 - accuracy: 0.0222 - top-05-acc: 0.0921 - top-10-acc: 0.1557 - val_loss: 5.1059 - val_accuracy: 0.0247 - val_top-05-acc: 0.0977 - val_top-10-acc: 0.1638\n",
      "Epoch 5/500\n",
      "74/74 [==============================] - 6s 83ms/step - loss: 5.0488 - accuracy: 0.0270 - top-05-acc: 0.1080 - top-10-acc: 0.1793 - val_loss: 4.9824 - val_accuracy: 0.0307 - val_top-05-acc: 0.1222 - val_top-10-acc: 0.1971\n",
      "Epoch 6/500\n",
      "74/74 [==============================] - 6s 83ms/step - loss: 4.9716 - accuracy: 0.0328 - top-05-acc: 0.1233 - top-10-acc: 0.2026 - val_loss: 4.9584 - val_accuracy: 0.0365 - val_top-05-acc: 0.1268 - val_top-10-acc: 0.2100\n",
      "Epoch 7/500\n",
      "74/74 [==============================] - 6s 82ms/step - loss: 4.8914 - accuracy: 0.0385 - top-05-acc: 0.1405 - top-10-acc: 0.2292 - val_loss: 4.8347 - val_accuracy: 0.0426 - val_top-05-acc: 0.1507 - val_top-10-acc: 0.2446\n",
      "Epoch 8/500\n",
      "74/74 [==============================] - 6s 83ms/step - loss: 4.8121 - accuracy: 0.0439 - top-05-acc: 0.1582 - top-10-acc: 0.2562 - val_loss: 4.7454 - val_accuracy: 0.0502 - val_top-05-acc: 0.1756 - val_top-10-acc: 0.2803\n",
      "Epoch 9/500\n",
      "74/74 [==============================] - 6s 86ms/step - loss: 4.7469 - accuracy: 0.0495 - top-05-acc: 0.1752 - top-10-acc: 0.2778 - val_loss: 4.7530 - val_accuracy: 0.0458 - val_top-05-acc: 0.1656 - val_top-10-acc: 0.2705\n",
      "Epoch 10/500\n",
      "74/74 [==============================] - 6s 88ms/step - loss: 4.6845 - accuracy: 0.0546 - top-05-acc: 0.1875 - top-10-acc: 0.2956 - val_loss: 4.6552 - val_accuracy: 0.0642 - val_top-05-acc: 0.2035 - val_top-10-acc: 0.3135\n",
      "Epoch 11/500\n",
      "74/74 [==============================] - 6s 86ms/step - loss: 4.6267 - accuracy: 0.0616 - top-05-acc: 0.2023 - top-10-acc: 0.3156 - val_loss: 4.6343 - val_accuracy: 0.0662 - val_top-05-acc: 0.2080 - val_top-10-acc: 0.3169\n",
      "Epoch 12/500\n",
      "74/74 [==============================] - 6s 87ms/step - loss: 4.5669 - accuracy: 0.0678 - top-05-acc: 0.2174 - top-10-acc: 0.3317 - val_loss: 4.5162 - val_accuracy: 0.0782 - val_top-05-acc: 0.2334 - val_top-10-acc: 0.3482\n",
      "Epoch 13/500\n",
      "74/74 [==============================] - 6s 88ms/step - loss: 4.5151 - accuracy: 0.0724 - top-05-acc: 0.2293 - top-10-acc: 0.3475 - val_loss: 4.5096 - val_accuracy: 0.0759 - val_top-05-acc: 0.2271 - val_top-10-acc: 0.3465\n",
      "Epoch 14/500\n",
      "74/74 [==============================] - 7s 89ms/step - loss: 4.4624 - accuracy: 0.0777 - top-05-acc: 0.2448 - top-10-acc: 0.3631 - val_loss: 4.4290 - val_accuracy: 0.0823 - val_top-05-acc: 0.2573 - val_top-10-acc: 0.3806\n",
      "Epoch 15/500\n",
      "74/74 [==============================] - 7s 89ms/step - loss: 4.4158 - accuracy: 0.0830 - top-05-acc: 0.2554 - top-10-acc: 0.3776 - val_loss: 4.3921 - val_accuracy: 0.0885 - val_top-05-acc: 0.2612 - val_top-10-acc: 0.3781\n",
      "Epoch 16/500\n",
      "74/74 [==============================] - 7s 88ms/step - loss: 4.3693 - accuracy: 0.0891 - top-05-acc: 0.2656 - top-10-acc: 0.3914 - val_loss: 4.3607 - val_accuracy: 0.0904 - val_top-05-acc: 0.2667 - val_top-10-acc: 0.3924\n",
      "Epoch 17/500\n",
      "74/74 [==============================] - 6s 85ms/step - loss: 4.3257 - accuracy: 0.0946 - top-05-acc: 0.2790 - top-10-acc: 0.4040 - val_loss: 4.2836 - val_accuracy: 0.1066 - val_top-05-acc: 0.2939 - val_top-10-acc: 0.4215\n",
      "Epoch 18/500\n",
      "74/74 [==============================] - 6s 85ms/step - loss: 4.2855 - accuracy: 0.0989 - top-05-acc: 0.2895 - top-10-acc: 0.4144 - val_loss: 4.2652 - val_accuracy: 0.1086 - val_top-05-acc: 0.2970 - val_top-10-acc: 0.4196\n",
      "Epoch 19/500\n",
      "74/74 [==============================] - 6s 88ms/step - loss: 4.2426 - accuracy: 0.1054 - top-05-acc: 0.3004 - top-10-acc: 0.4253 - val_loss: 4.2808 - val_accuracy: 0.0979 - val_top-05-acc: 0.2866 - val_top-10-acc: 0.4132\n",
      "Epoch 20/500\n",
      "74/74 [==============================] - 6s 88ms/step - loss: 4.1974 - accuracy: 0.1120 - top-05-acc: 0.3116 - top-10-acc: 0.4382 - val_loss: 4.1834 - val_accuracy: 0.1138 - val_top-05-acc: 0.3164 - val_top-10-acc: 0.4456\n",
      "Epoch 21/500\n",
      "74/74 [==============================] - 6s 88ms/step - loss: 4.1571 - accuracy: 0.1166 - top-05-acc: 0.3224 - top-10-acc: 0.4521 - val_loss: 4.1328 - val_accuracy: 0.1208 - val_top-05-acc: 0.3293 - val_top-10-acc: 0.4600\n",
      "Epoch 22/500\n",
      "74/74 [==============================] - 6s 86ms/step - loss: 4.1148 - accuracy: 0.1221 - top-05-acc: 0.3317 - top-10-acc: 0.4638 - val_loss: 4.1807 - val_accuracy: 0.1157 - val_top-05-acc: 0.3124 - val_top-10-acc: 0.4418\n",
      "Epoch 23/500\n",
      "74/74 [==============================] - 7s 88ms/step - loss: 4.0710 - accuracy: 0.1278 - top-05-acc: 0.3437 - top-10-acc: 0.4753 - val_loss: 4.0815 - val_accuracy: 0.1311 - val_top-05-acc: 0.3442 - val_top-10-acc: 0.4732\n",
      "Epoch 24/500\n",
      "74/74 [==============================] - 7s 88ms/step - loss: 4.0330 - accuracy: 0.1318 - top-05-acc: 0.3548 - top-10-acc: 0.4863 - val_loss: 4.0498 - val_accuracy: 0.1366 - val_top-05-acc: 0.3530 - val_top-10-acc: 0.4791\n",
      "Epoch 25/500\n",
      "74/74 [==============================] - 6s 88ms/step - loss: 3.9979 - accuracy: 0.1371 - top-05-acc: 0.3636 - top-10-acc: 0.4951 - val_loss: 4.0174 - val_accuracy: 0.1397 - val_top-05-acc: 0.3619 - val_top-10-acc: 0.4914\n",
      "Epoch 26/500\n",
      "74/74 [==============================] - 6s 88ms/step - loss: 3.9557 - accuracy: 0.1432 - top-05-acc: 0.3744 - top-10-acc: 0.5073 - val_loss: 3.9757 - val_accuracy: 0.1503 - val_top-05-acc: 0.3720 - val_top-10-acc: 0.5015\n",
      "Epoch 27/500\n",
      "74/74 [==============================] - 6s 86ms/step - loss: 3.9255 - accuracy: 0.1477 - top-05-acc: 0.3816 - top-10-acc: 0.5122 - val_loss: 3.9945 - val_accuracy: 0.1392 - val_top-05-acc: 0.3640 - val_top-10-acc: 0.4945\n",
      "Epoch 28/500\n",
      "74/74 [==============================] - 6s 87ms/step - loss: 3.8898 - accuracy: 0.1529 - top-05-acc: 0.3916 - top-10-acc: 0.5238 - val_loss: 3.8924 - val_accuracy: 0.1568 - val_top-05-acc: 0.3934 - val_top-10-acc: 0.5232\n",
      "Epoch 29/500\n",
      "74/74 [==============================] - 6s 85ms/step - loss: 3.8588 - accuracy: 0.1578 - top-05-acc: 0.4002 - top-10-acc: 0.5303 - val_loss: 3.8566 - val_accuracy: 0.1627 - val_top-05-acc: 0.4019 - val_top-10-acc: 0.5274\n",
      "Epoch 30/500\n",
      "74/74 [==============================] - 6s 83ms/step - loss: 3.8263 - accuracy: 0.1639 - top-05-acc: 0.4066 - top-10-acc: 0.5386 - val_loss: 3.8483 - val_accuracy: 0.1655 - val_top-05-acc: 0.4045 - val_top-10-acc: 0.5351\n",
      "Epoch 31/500\n",
      "74/74 [==============================] - 6s 87ms/step - loss: 3.7901 - accuracy: 0.1692 - top-05-acc: 0.4170 - top-10-acc: 0.5484 - val_loss: 3.8118 - val_accuracy: 0.1677 - val_top-05-acc: 0.4119 - val_top-10-acc: 0.5442\n",
      "Epoch 32/500\n",
      "74/74 [==============================] - 6s 84ms/step - loss: 3.7692 - accuracy: 0.1717 - top-05-acc: 0.4206 - top-10-acc: 0.5531 - val_loss: 3.8135 - val_accuracy: 0.1618 - val_top-05-acc: 0.4056 - val_top-10-acc: 0.5408\n",
      "Epoch 33/500\n",
      "74/74 [==============================] - 6s 87ms/step - loss: 3.7337 - accuracy: 0.1775 - top-05-acc: 0.4291 - top-10-acc: 0.5621 - val_loss: 3.8654 - val_accuracy: 0.1573 - val_top-05-acc: 0.3917 - val_top-10-acc: 0.5233\n",
      "Epoch 34/500\n",
      "74/74 [==============================] - 6s 87ms/step - loss: 3.7093 - accuracy: 0.1809 - top-05-acc: 0.4363 - top-10-acc: 0.5670 - val_loss: 3.7112 - val_accuracy: 0.1856 - val_top-05-acc: 0.4369 - val_top-10-acc: 0.5666\n",
      "Epoch 35/500\n",
      "74/74 [==============================] - 6s 86ms/step - loss: 3.6754 - accuracy: 0.1866 - top-05-acc: 0.4439 - top-10-acc: 0.5750 - val_loss: 3.7090 - val_accuracy: 0.1800 - val_top-05-acc: 0.4360 - val_top-10-acc: 0.5633\n"
     ]
    },
    {
     "name": "stdout",
     "output_type": "stream",
     "text": [
      "Epoch 36/500\n",
      "74/74 [==============================] - 6s 86ms/step - loss: 3.6484 - accuracy: 0.1905 - top-05-acc: 0.4503 - top-10-acc: 0.5807 - val_loss: 3.7090 - val_accuracy: 0.1797 - val_top-05-acc: 0.4340 - val_top-10-acc: 0.5645\n",
      "Epoch 37/500\n",
      "74/74 [==============================] - 6s 83ms/step - loss: 3.6251 - accuracy: 0.1948 - top-05-acc: 0.4549 - top-10-acc: 0.5847 - val_loss: 3.6478 - val_accuracy: 0.1942 - val_top-05-acc: 0.4495 - val_top-10-acc: 0.5796\n",
      "Epoch 38/500\n",
      "74/74 [==============================] - 6s 84ms/step - loss: 3.5991 - accuracy: 0.1991 - top-05-acc: 0.4630 - top-10-acc: 0.5905 - val_loss: 3.6121 - val_accuracy: 0.2002 - val_top-05-acc: 0.4585 - val_top-10-acc: 0.5882\n",
      "Epoch 39/500\n",
      "74/74 [==============================] - 6s 85ms/step - loss: 3.5639 - accuracy: 0.2056 - top-05-acc: 0.4697 - top-10-acc: 0.5980 - val_loss: 3.6373 - val_accuracy: 0.1944 - val_top-05-acc: 0.4517 - val_top-10-acc: 0.5794\n",
      "Epoch 40/500\n",
      "74/74 [==============================] - 6s 85ms/step - loss: 3.5422 - accuracy: 0.2090 - top-05-acc: 0.4756 - top-10-acc: 0.6053 - val_loss: 3.6170 - val_accuracy: 0.1962 - val_top-05-acc: 0.4538 - val_top-10-acc: 0.5836\n",
      "Epoch 41/500\n",
      "74/74 [==============================] - 6s 85ms/step - loss: 3.5150 - accuracy: 0.2126 - top-05-acc: 0.4815 - top-10-acc: 0.6089 - val_loss: 3.5768 - val_accuracy: 0.2067 - val_top-05-acc: 0.4668 - val_top-10-acc: 0.5939\n",
      "Epoch 42/500\n",
      "74/74 [==============================] - 6s 85ms/step - loss: 3.4887 - accuracy: 0.2181 - top-05-acc: 0.4882 - top-10-acc: 0.6148 - val_loss: 3.5508 - val_accuracy: 0.2085 - val_top-05-acc: 0.4702 - val_top-10-acc: 0.5968\n",
      "Epoch 43/500\n",
      "74/74 [==============================] - 6s 84ms/step - loss: 3.4648 - accuracy: 0.2210 - top-05-acc: 0.4933 - top-10-acc: 0.6200 - val_loss: 3.5272 - val_accuracy: 0.2154 - val_top-05-acc: 0.4776 - val_top-10-acc: 0.6057\n",
      "Epoch 44/500\n",
      "74/74 [==============================] - 6s 85ms/step - loss: 3.4387 - accuracy: 0.2262 - top-05-acc: 0.4989 - top-10-acc: 0.6247 - val_loss: 3.5565 - val_accuracy: 0.2066 - val_top-05-acc: 0.4716 - val_top-10-acc: 0.5997\n",
      "Epoch 45/500\n",
      "74/74 [==============================] - 6s 85ms/step - loss: 3.4161 - accuracy: 0.2295 - top-05-acc: 0.5036 - top-10-acc: 0.6291 - val_loss: 3.5183 - val_accuracy: 0.2112 - val_top-05-acc: 0.4800 - val_top-10-acc: 0.6060\n",
      "Epoch 46/500\n",
      "74/74 [==============================] - 6s 84ms/step - loss: 3.3863 - accuracy: 0.2356 - top-05-acc: 0.5103 - top-10-acc: 0.6345 - val_loss: 3.5251 - val_accuracy: 0.2146 - val_top-05-acc: 0.4773 - val_top-10-acc: 0.6016\n",
      "Epoch 47/500\n",
      "74/74 [==============================] - 7s 89ms/step - loss: 3.3708 - accuracy: 0.2386 - top-05-acc: 0.5142 - top-10-acc: 0.6369 - val_loss: 3.4054 - val_accuracy: 0.2383 - val_top-05-acc: 0.5079 - val_top-10-acc: 0.6325\n",
      "Epoch 48/500\n",
      "74/74 [==============================] - 7s 88ms/step - loss: 3.3299 - accuracy: 0.2465 - top-05-acc: 0.5240 - top-10-acc: 0.6467 - val_loss: 3.4551 - val_accuracy: 0.2278 - val_top-05-acc: 0.4942 - val_top-10-acc: 0.6169\n",
      "Epoch 49/500\n",
      "74/74 [==============================] - 6s 87ms/step - loss: 3.3240 - accuracy: 0.2450 - top-05-acc: 0.5249 - top-10-acc: 0.6472 - val_loss: 3.4112 - val_accuracy: 0.2313 - val_top-05-acc: 0.5041 - val_top-10-acc: 0.6323\n",
      "Epoch 50/500\n",
      "74/74 [==============================] - 6s 86ms/step - loss: 3.3011 - accuracy: 0.2495 - top-05-acc: 0.5305 - top-10-acc: 0.6526 - val_loss: 3.4461 - val_accuracy: 0.2274 - val_top-05-acc: 0.4939 - val_top-10-acc: 0.6185\n",
      "Epoch 51/500\n",
      "74/74 [==============================] - 6s 86ms/step - loss: 3.2811 - accuracy: 0.2542 - top-05-acc: 0.5346 - top-10-acc: 0.6546 - val_loss: 3.3448 - val_accuracy: 0.2480 - val_top-05-acc: 0.5192 - val_top-10-acc: 0.6450\n",
      "Epoch 52/500\n",
      "74/74 [==============================] - 7s 89ms/step - loss: 3.2474 - accuracy: 0.2617 - top-05-acc: 0.5424 - top-10-acc: 0.6627 - val_loss: 3.3084 - val_accuracy: 0.2505 - val_top-05-acc: 0.5281 - val_top-10-acc: 0.6470\n",
      "Epoch 53/500\n",
      "74/74 [==============================] - 6s 88ms/step - loss: 3.2262 - accuracy: 0.2637 - top-05-acc: 0.5479 - top-10-acc: 0.6670 - val_loss: 3.3871 - val_accuracy: 0.2388 - val_top-05-acc: 0.5100 - val_top-10-acc: 0.6336\n",
      "Epoch 54/500\n",
      "74/74 [==============================] - 7s 88ms/step - loss: 3.2223 - accuracy: 0.2647 - top-05-acc: 0.5461 - top-10-acc: 0.6670 - val_loss: 3.2747 - val_accuracy: 0.2528 - val_top-05-acc: 0.5357 - val_top-10-acc: 0.6553\n",
      "Epoch 55/500\n",
      "74/74 [==============================] - 7s 89ms/step - loss: 3.1964 - accuracy: 0.2679 - top-05-acc: 0.5523 - top-10-acc: 0.6711 - val_loss: 3.3151 - val_accuracy: 0.2477 - val_top-05-acc: 0.5243 - val_top-10-acc: 0.6466\n",
      "Epoch 56/500\n",
      "74/74 [==============================] - 6s 88ms/step - loss: 3.1789 - accuracy: 0.2721 - top-05-acc: 0.5553 - top-10-acc: 0.6737 - val_loss: 3.2898 - val_accuracy: 0.2497 - val_top-05-acc: 0.5298 - val_top-10-acc: 0.6512\n",
      "Epoch 57/500\n",
      "74/74 [==============================] - 7s 90ms/step - loss: 3.1593 - accuracy: 0.2766 - top-05-acc: 0.5609 - top-10-acc: 0.6779 - val_loss: 3.2251 - val_accuracy: 0.2640 - val_top-05-acc: 0.5457 - val_top-10-acc: 0.6628\n",
      "Epoch 58/500\n",
      "74/74 [==============================] - 7s 89ms/step - loss: 3.1394 - accuracy: 0.2799 - top-05-acc: 0.5630 - top-10-acc: 0.6824 - val_loss: 3.3053 - val_accuracy: 0.2489 - val_top-05-acc: 0.5278 - val_top-10-acc: 0.6503\n",
      "Epoch 59/500\n",
      "74/74 [==============================] - 7s 89ms/step - loss: 3.1211 - accuracy: 0.2837 - top-05-acc: 0.5681 - top-10-acc: 0.6838 - val_loss: 3.2903 - val_accuracy: 0.2531 - val_top-05-acc: 0.5311 - val_top-10-acc: 0.6511\n",
      "Epoch 60/500\n",
      "74/74 [==============================] - 6s 87ms/step - loss: 3.0971 - accuracy: 0.2866 - top-05-acc: 0.5728 - top-10-acc: 0.6881 - val_loss: 3.2168 - val_accuracy: 0.2705 - val_top-05-acc: 0.5457 - val_top-10-acc: 0.6664\n",
      "Epoch 61/500\n",
      "74/74 [==============================] - 7s 88ms/step - loss: 3.0825 - accuracy: 0.2890 - top-05-acc: 0.5760 - top-10-acc: 0.6914 - val_loss: 3.2138 - val_accuracy: 0.2630 - val_top-05-acc: 0.5440 - val_top-10-acc: 0.6639\n",
      "Epoch 62/500\n",
      "74/74 [==============================] - 6s 86ms/step - loss: 3.0662 - accuracy: 0.2927 - top-05-acc: 0.5799 - top-10-acc: 0.6946 - val_loss: 3.2356 - val_accuracy: 0.2598 - val_top-05-acc: 0.5394 - val_top-10-acc: 0.6608\n",
      "Epoch 63/500\n",
      "74/74 [==============================] - 6s 87ms/step - loss: 3.0464 - accuracy: 0.2963 - top-05-acc: 0.5849 - top-10-acc: 0.6969 - val_loss: 3.1728 - val_accuracy: 0.2746 - val_top-05-acc: 0.5578 - val_top-10-acc: 0.6745\n",
      "Epoch 64/500\n",
      "74/74 [==============================] - 7s 89ms/step - loss: 3.0292 - accuracy: 0.2987 - top-05-acc: 0.5881 - top-10-acc: 0.7010 - val_loss: 3.1468 - val_accuracy: 0.2780 - val_top-05-acc: 0.5613 - val_top-10-acc: 0.6773\n",
      "Epoch 65/500\n",
      "74/74 [==============================] - 6s 86ms/step - loss: 3.0134 - accuracy: 0.3008 - top-05-acc: 0.5905 - top-10-acc: 0.7037 - val_loss: 3.1988 - val_accuracy: 0.2718 - val_top-05-acc: 0.5524 - val_top-10-acc: 0.6651\n",
      "Epoch 66/500\n",
      "74/74 [==============================] - 6s 86ms/step - loss: 2.9977 - accuracy: 0.3039 - top-05-acc: 0.5938 - top-10-acc: 0.7067 - val_loss: 3.1943 - val_accuracy: 0.2660 - val_top-05-acc: 0.5517 - val_top-10-acc: 0.6658\n",
      "Epoch 67/500\n",
      "74/74 [==============================] - 6s 88ms/step - loss: 2.9814 - accuracy: 0.3083 - top-05-acc: 0.5975 - top-10-acc: 0.7086 - val_loss: 3.0874 - val_accuracy: 0.2902 - val_top-05-acc: 0.5763 - val_top-10-acc: 0.6863\n",
      "Epoch 68/500\n",
      "74/74 [==============================] - 6s 88ms/step - loss: 2.9661 - accuracy: 0.3101 - top-05-acc: 0.6008 - top-10-acc: 0.7136 - val_loss: 3.1439 - val_accuracy: 0.2773 - val_top-05-acc: 0.5619 - val_top-10-acc: 0.6807\n",
      "Epoch 69/500\n",
      "74/74 [==============================] - 6s 85ms/step - loss: 2.9466 - accuracy: 0.3148 - top-05-acc: 0.6042 - top-10-acc: 0.7147 - val_loss: 3.1349 - val_accuracy: 0.2784 - val_top-05-acc: 0.5667 - val_top-10-acc: 0.6805\n",
      "Epoch 70/500\n",
      "74/74 [==============================] - 6s 87ms/step - loss: 2.9363 - accuracy: 0.3141 - top-05-acc: 0.6066 - top-10-acc: 0.7174 - val_loss: 3.1677 - val_accuracy: 0.2718 - val_top-05-acc: 0.5562 - val_top-10-acc: 0.6702\n"
     ]
    },
    {
     "name": "stdout",
     "output_type": "stream",
     "text": [
      "Epoch 71/500\n",
      "74/74 [==============================] - 6s 87ms/step - loss: 2.9174 - accuracy: 0.3199 - top-05-acc: 0.6109 - top-10-acc: 0.7194 - val_loss: 3.1404 - val_accuracy: 0.2793 - val_top-05-acc: 0.5619 - val_top-10-acc: 0.6787\n",
      "Epoch 72/500\n",
      "74/74 [==============================] - 6s 87ms/step - loss: 2.9022 - accuracy: 0.3208 - top-05-acc: 0.6134 - top-10-acc: 0.7216 - val_loss: 3.0321 - val_accuracy: 0.2950 - val_top-05-acc: 0.5890 - val_top-10-acc: 0.6998\n",
      "Epoch 73/500\n",
      "74/74 [==============================] - 7s 89ms/step - loss: 2.8850 - accuracy: 0.3257 - top-05-acc: 0.6166 - top-10-acc: 0.7234 - val_loss: 3.0330 - val_accuracy: 0.3018 - val_top-05-acc: 0.5852 - val_top-10-acc: 0.6983\n",
      "Epoch 74/500\n",
      "74/74 [==============================] - 6s 87ms/step - loss: 2.8783 - accuracy: 0.3267 - top-05-acc: 0.6188 - top-10-acc: 0.7252 - val_loss: 3.0951 - val_accuracy: 0.2919 - val_top-05-acc: 0.5708 - val_top-10-acc: 0.6849\n",
      "Epoch 75/500\n",
      "74/74 [==============================] - 7s 88ms/step - loss: 2.8589 - accuracy: 0.3307 - top-05-acc: 0.6236 - top-10-acc: 0.7279 - val_loss: 3.0182 - val_accuracy: 0.3001 - val_top-05-acc: 0.5911 - val_top-10-acc: 0.7007\n",
      "Epoch 76/500\n",
      "74/74 [==============================] - 7s 89ms/step - loss: 2.8440 - accuracy: 0.3326 - top-05-acc: 0.6236 - top-10-acc: 0.7315 - val_loss: 2.9944 - val_accuracy: 0.3115 - val_top-05-acc: 0.5944 - val_top-10-acc: 0.7036\n",
      "Epoch 77/500\n",
      "74/74 [==============================] - 6s 86ms/step - loss: 2.8348 - accuracy: 0.3347 - top-05-acc: 0.6279 - top-10-acc: 0.7334 - val_loss: 3.0815 - val_accuracy: 0.2864 - val_top-05-acc: 0.5754 - val_top-10-acc: 0.6888\n",
      "Epoch 78/500\n",
      "74/74 [==============================] - 6s 85ms/step - loss: 2.8175 - accuracy: 0.3391 - top-05-acc: 0.6289 - top-10-acc: 0.7355 - val_loss: 3.0279 - val_accuracy: 0.2990 - val_top-05-acc: 0.5864 - val_top-10-acc: 0.6985\n",
      "Epoch 79/500\n",
      "74/74 [==============================] - 6s 85ms/step - loss: 2.8062 - accuracy: 0.3401 - top-05-acc: 0.6325 - top-10-acc: 0.7362 - val_loss: 2.9491 - val_accuracy: 0.3172 - val_top-05-acc: 0.6051 - val_top-10-acc: 0.7114\n",
      "Epoch 80/500\n",
      "74/74 [==============================] - 6s 86ms/step - loss: 2.7877 - accuracy: 0.3445 - top-05-acc: 0.6363 - top-10-acc: 0.7399 - val_loss: 2.9923 - val_accuracy: 0.3061 - val_top-05-acc: 0.5977 - val_top-10-acc: 0.7061\n",
      "Epoch 81/500\n",
      "74/74 [==============================] - 6s 85ms/step - loss: 2.7815 - accuracy: 0.3452 - top-05-acc: 0.6361 - top-10-acc: 0.7402 - val_loss: 3.0625 - val_accuracy: 0.2905 - val_top-05-acc: 0.5801 - val_top-10-acc: 0.6919\n",
      "Epoch 82/500\n",
      "74/74 [==============================] - 6s 86ms/step - loss: 2.7678 - accuracy: 0.3490 - top-05-acc: 0.6408 - top-10-acc: 0.7433 - val_loss: 2.9483 - val_accuracy: 0.3148 - val_top-05-acc: 0.6037 - val_top-10-acc: 0.7130\n",
      "Epoch 83/500\n",
      "74/74 [==============================] - 6s 86ms/step - loss: 2.7554 - accuracy: 0.3500 - top-05-acc: 0.6428 - top-10-acc: 0.7445 - val_loss: 2.9488 - val_accuracy: 0.3130 - val_top-05-acc: 0.6044 - val_top-10-acc: 0.7144\n",
      "Epoch 84/500\n",
      "74/74 [==============================] - 6s 86ms/step - loss: 2.7391 - accuracy: 0.3534 - top-05-acc: 0.6465 - top-10-acc: 0.7483 - val_loss: 2.9582 - val_accuracy: 0.3112 - val_top-05-acc: 0.6013 - val_top-10-acc: 0.7087\n",
      "Epoch 85/500\n",
      "74/74 [==============================] - 6s 86ms/step - loss: 2.7289 - accuracy: 0.3557 - top-05-acc: 0.6465 - top-10-acc: 0.7487 - val_loss: 2.9281 - val_accuracy: 0.3205 - val_top-05-acc: 0.6071 - val_top-10-acc: 0.7165\n",
      "Epoch 86/500\n",
      "74/74 [==============================] - 6s 85ms/step - loss: 2.7170 - accuracy: 0.3581 - top-05-acc: 0.6494 - top-10-acc: 0.7495 - val_loss: 2.9800 - val_accuracy: 0.3067 - val_top-05-acc: 0.5998 - val_top-10-acc: 0.7090\n",
      "Epoch 87/500\n",
      "74/74 [==============================] - 6s 85ms/step - loss: 2.7027 - accuracy: 0.3598 - top-05-acc: 0.6530 - top-10-acc: 0.7530 - val_loss: 2.9227 - val_accuracy: 0.3190 - val_top-05-acc: 0.6065 - val_top-10-acc: 0.7176\n",
      "Epoch 88/500\n",
      "74/74 [==============================] - 6s 85ms/step - loss: 2.6925 - accuracy: 0.3628 - top-05-acc: 0.6546 - top-10-acc: 0.7549 - val_loss: 2.9456 - val_accuracy: 0.3213 - val_top-05-acc: 0.6053 - val_top-10-acc: 0.7126\n",
      "Epoch 89/500\n",
      "74/74 [==============================] - 6s 85ms/step - loss: 2.6775 - accuracy: 0.3656 - top-05-acc: 0.6583 - top-10-acc: 0.7569 - val_loss: 2.8968 - val_accuracy: 0.3276 - val_top-05-acc: 0.6152 - val_top-10-acc: 0.7190\n",
      "Epoch 90/500\n",
      "74/74 [==============================] - 6s 88ms/step - loss: 2.6671 - accuracy: 0.3685 - top-05-acc: 0.6598 - top-10-acc: 0.7573 - val_loss: 2.8986 - val_accuracy: 0.3281 - val_top-05-acc: 0.6138 - val_top-10-acc: 0.7213\n",
      "Epoch 91/500\n",
      "74/74 [==============================] - 6s 88ms/step - loss: 2.6531 - accuracy: 0.3712 - top-05-acc: 0.6626 - top-10-acc: 0.7601 - val_loss: 2.9025 - val_accuracy: 0.3238 - val_top-05-acc: 0.6131 - val_top-10-acc: 0.7186\n",
      "Epoch 92/500\n",
      "74/74 [==============================] - 7s 88ms/step - loss: 2.6462 - accuracy: 0.3720 - top-05-acc: 0.6629 - top-10-acc: 0.7610 - val_loss: 2.8753 - val_accuracy: 0.3298 - val_top-05-acc: 0.6201 - val_top-10-acc: 0.7240\n",
      "Epoch 93/500\n",
      "74/74 [==============================] - 6s 88ms/step - loss: 2.6286 - accuracy: 0.3758 - top-05-acc: 0.6674 - top-10-acc: 0.7640 - val_loss: 2.9113 - val_accuracy: 0.3257 - val_top-05-acc: 0.6127 - val_top-10-acc: 0.7189\n",
      "Epoch 94/500\n",
      "74/74 [==============================] - 7s 88ms/step - loss: 2.6231 - accuracy: 0.3775 - top-05-acc: 0.6679 - top-10-acc: 0.7650 - val_loss: 2.8727 - val_accuracy: 0.3311 - val_top-05-acc: 0.6209 - val_top-10-acc: 0.7237\n",
      "Epoch 95/500\n",
      "74/74 [==============================] - 6s 88ms/step - loss: 2.6123 - accuracy: 0.3762 - top-05-acc: 0.6688 - top-10-acc: 0.7662 - val_loss: 2.8784 - val_accuracy: 0.3352 - val_top-05-acc: 0.6185 - val_top-10-acc: 0.7222\n",
      "Epoch 96/500\n",
      "74/74 [==============================] - 7s 88ms/step - loss: 2.6003 - accuracy: 0.3812 - top-05-acc: 0.6724 - top-10-acc: 0.7676 - val_loss: 2.8606 - val_accuracy: 0.3353 - val_top-05-acc: 0.6229 - val_top-10-acc: 0.7270\n",
      "Epoch 97/500\n",
      "74/74 [==============================] - 6s 86ms/step - loss: 2.5869 - accuracy: 0.3840 - top-05-acc: 0.6733 - top-10-acc: 0.7691 - val_loss: 2.9241 - val_accuracy: 0.3205 - val_top-05-acc: 0.6088 - val_top-10-acc: 0.7149\n",
      "Epoch 98/500\n",
      "74/74 [==============================] - 6s 86ms/step - loss: 2.5754 - accuracy: 0.3853 - top-05-acc: 0.6761 - top-10-acc: 0.7717 - val_loss: 2.8254 - val_accuracy: 0.3435 - val_top-05-acc: 0.6295 - val_top-10-acc: 0.7328\n",
      "Epoch 99/500\n",
      "74/74 [==============================] - 6s 88ms/step - loss: 2.5676 - accuracy: 0.3873 - top-05-acc: 0.6775 - top-10-acc: 0.7735 - val_loss: 2.8414 - val_accuracy: 0.3408 - val_top-05-acc: 0.6257 - val_top-10-acc: 0.7299\n",
      "Epoch 100/500\n",
      "74/74 [==============================] - 7s 89ms/step - loss: 2.5535 - accuracy: 0.3909 - top-05-acc: 0.6795 - top-10-acc: 0.7747 - val_loss: 2.8498 - val_accuracy: 0.3374 - val_top-05-acc: 0.6273 - val_top-10-acc: 0.7311\n",
      "Epoch 101/500\n",
      "74/74 [==============================] - 7s 89ms/step - loss: 2.5481 - accuracy: 0.3905 - top-05-acc: 0.6811 - top-10-acc: 0.7756 - val_loss: 2.8020 - val_accuracy: 0.3451 - val_top-05-acc: 0.6338 - val_top-10-acc: 0.7367\n",
      "Epoch 102/500\n",
      "74/74 [==============================] - 7s 89ms/step - loss: 2.5296 - accuracy: 0.3971 - top-05-acc: 0.6852 - top-10-acc: 0.7770 - val_loss: 2.8234 - val_accuracy: 0.3422 - val_top-05-acc: 0.6316 - val_top-10-acc: 0.7327\n",
      "Epoch 103/500\n",
      "74/74 [==============================] - 6s 87ms/step - loss: 2.5268 - accuracy: 0.3966 - top-05-acc: 0.6855 - top-10-acc: 0.7790 - val_loss: 2.7739 - val_accuracy: 0.3541 - val_top-05-acc: 0.6400 - val_top-10-acc: 0.7403\n",
      "Epoch 104/500\n",
      "74/74 [==============================] - 6s 85ms/step - loss: 2.5093 - accuracy: 0.3983 - top-05-acc: 0.6886 - top-10-acc: 0.7813 - val_loss: 2.7931 - val_accuracy: 0.3503 - val_top-05-acc: 0.6369 - val_top-10-acc: 0.7357\n",
      "Epoch 105/500\n",
      "74/74 [==============================] - 6s 87ms/step - loss: 2.5036 - accuracy: 0.4010 - top-05-acc: 0.6892 - top-10-acc: 0.7813 - val_loss: 2.8028 - val_accuracy: 0.3504 - val_top-05-acc: 0.6365 - val_top-10-acc: 0.7353\n"
     ]
    },
    {
     "name": "stdout",
     "output_type": "stream",
     "text": [
      "Epoch 106/500\n",
      "74/74 [==============================] - 6s 88ms/step - loss: 2.4941 - accuracy: 0.4034 - top-05-acc: 0.6916 - top-10-acc: 0.7834 - val_loss: 2.8075 - val_accuracy: 0.3441 - val_top-05-acc: 0.6344 - val_top-10-acc: 0.7352\n",
      "Epoch 107/500\n",
      "74/74 [==============================] - 6s 87ms/step - loss: 2.4853 - accuracy: 0.4050 - top-05-acc: 0.6925 - top-10-acc: 0.7837 - val_loss: 2.7562 - val_accuracy: 0.3555 - val_top-05-acc: 0.6435 - val_top-10-acc: 0.7415\n",
      "Epoch 108/500\n",
      "74/74 [==============================] - 6s 87ms/step - loss: 2.4716 - accuracy: 0.4062 - top-05-acc: 0.6950 - top-10-acc: 0.7857 - val_loss: 2.7548 - val_accuracy: 0.3548 - val_top-05-acc: 0.6430 - val_top-10-acc: 0.7452\n",
      "Epoch 109/500\n",
      "74/74 [==============================] - 6s 88ms/step - loss: 2.4641 - accuracy: 0.4082 - top-05-acc: 0.6976 - top-10-acc: 0.7879 - val_loss: 2.7634 - val_accuracy: 0.3580 - val_top-05-acc: 0.6451 - val_top-10-acc: 0.7407\n",
      "Epoch 110/500\n",
      "74/74 [==============================] - 6s 87ms/step - loss: 2.4563 - accuracy: 0.4098 - top-05-acc: 0.6987 - top-10-acc: 0.7884 - val_loss: 2.7149 - val_accuracy: 0.3664 - val_top-05-acc: 0.6529 - val_top-10-acc: 0.7463\n",
      "Epoch 111/500\n",
      "74/74 [==============================] - 6s 85ms/step - loss: 2.4430 - accuracy: 0.4114 - top-05-acc: 0.7000 - top-10-acc: 0.7891 - val_loss: 2.7797 - val_accuracy: 0.3573 - val_top-05-acc: 0.6383 - val_top-10-acc: 0.7421\n",
      "Epoch 112/500\n",
      "74/74 [==============================] - 6s 84ms/step - loss: 2.4339 - accuracy: 0.4151 - top-05-acc: 0.7036 - top-10-acc: 0.7916 - val_loss: 2.7509 - val_accuracy: 0.3576 - val_top-05-acc: 0.6469 - val_top-10-acc: 0.7445\n",
      "Epoch 113/500\n",
      "74/74 [==============================] - 6s 83ms/step - loss: 2.4305 - accuracy: 0.4142 - top-05-acc: 0.7010 - top-10-acc: 0.7909 - val_loss: 2.7467 - val_accuracy: 0.3585 - val_top-05-acc: 0.6435 - val_top-10-acc: 0.7461\n",
      "Epoch 114/500\n",
      "74/74 [==============================] - 6s 83ms/step - loss: 2.4144 - accuracy: 0.4184 - top-05-acc: 0.7059 - top-10-acc: 0.7936 - val_loss: 2.7655 - val_accuracy: 0.3554 - val_top-05-acc: 0.6457 - val_top-10-acc: 0.7430\n",
      "Epoch 115/500\n",
      "74/74 [==============================] - 6s 83ms/step - loss: 2.4047 - accuracy: 0.4196 - top-05-acc: 0.7069 - top-10-acc: 0.7940 - val_loss: 2.7330 - val_accuracy: 0.3636 - val_top-05-acc: 0.6488 - val_top-10-acc: 0.7462\n",
      "Epoch 116/500\n",
      "74/74 [==============================] - 6s 85ms/step - loss: 2.3979 - accuracy: 0.4247 - top-05-acc: 0.7076 - top-10-acc: 0.7954 - val_loss: 2.6895 - val_accuracy: 0.3724 - val_top-05-acc: 0.6570 - val_top-10-acc: 0.7518\n",
      "Epoch 117/500\n",
      "74/74 [==============================] - 7s 88ms/step - loss: 2.3906 - accuracy: 0.4234 - top-05-acc: 0.7089 - top-10-acc: 0.7974 - val_loss: 2.7139 - val_accuracy: 0.3622 - val_top-05-acc: 0.6548 - val_top-10-acc: 0.7487\n",
      "Epoch 118/500\n",
      "74/74 [==============================] - 6s 87ms/step - loss: 2.3804 - accuracy: 0.4260 - top-05-acc: 0.7108 - top-10-acc: 0.7980 - val_loss: 2.7392 - val_accuracy: 0.3605 - val_top-05-acc: 0.6469 - val_top-10-acc: 0.7444\n",
      "Epoch 119/500\n",
      "74/74 [==============================] - 6s 87ms/step - loss: 2.3699 - accuracy: 0.4284 - top-05-acc: 0.7128 - top-10-acc: 0.7987 - val_loss: 2.7028 - val_accuracy: 0.3748 - val_top-05-acc: 0.6546 - val_top-10-acc: 0.7504\n",
      "Epoch 120/500\n",
      "74/74 [==============================] - 6s 87ms/step - loss: 2.3631 - accuracy: 0.4299 - top-05-acc: 0.7139 - top-10-acc: 0.8009 - val_loss: 2.7438 - val_accuracy: 0.3642 - val_top-05-acc: 0.6515 - val_top-10-acc: 0.7474\n",
      "Epoch 121/500\n",
      "74/74 [==============================] - 7s 90ms/step - loss: 2.3531 - accuracy: 0.4322 - top-05-acc: 0.7165 - top-10-acc: 0.8012 - val_loss: 2.7025 - val_accuracy: 0.3683 - val_top-05-acc: 0.6556 - val_top-10-acc: 0.7513\n",
      "Epoch 122/500\n",
      "74/74 [==============================] - 7s 90ms/step - loss: 2.3507 - accuracy: 0.4326 - top-05-acc: 0.7163 - top-10-acc: 0.8011 - val_loss: 2.6921 - val_accuracy: 0.3718 - val_top-05-acc: 0.6571 - val_top-10-acc: 0.7534\n",
      "Epoch 123/500\n",
      "74/74 [==============================] - 7s 88ms/step - loss: 2.3378 - accuracy: 0.4348 - top-05-acc: 0.7177 - top-10-acc: 0.8019 - val_loss: 2.7021 - val_accuracy: 0.3697 - val_top-05-acc: 0.6577 - val_top-10-acc: 0.7512\n",
      "Epoch 124/500\n",
      "74/74 [==============================] - 6s 84ms/step - loss: 2.3272 - accuracy: 0.4388 - top-05-acc: 0.7199 - top-10-acc: 0.8029 - val_loss: 2.7161 - val_accuracy: 0.3651 - val_top-05-acc: 0.6560 - val_top-10-acc: 0.7483\n",
      "Epoch 125/500\n",
      "74/74 [==============================] - 6s 86ms/step - loss: 2.3203 - accuracy: 0.4391 - top-05-acc: 0.7212 - top-10-acc: 0.8055 - val_loss: 2.6737 - val_accuracy: 0.3753 - val_top-05-acc: 0.6625 - val_top-10-acc: 0.7556\n",
      "Epoch 126/500\n",
      "74/74 [==============================] - 7s 88ms/step - loss: 2.3148 - accuracy: 0.4412 - top-05-acc: 0.7226 - top-10-acc: 0.8059 - val_loss: 2.6667 - val_accuracy: 0.3757 - val_top-05-acc: 0.6604 - val_top-10-acc: 0.7548\n",
      "Epoch 127/500\n",
      "74/74 [==============================] - 6s 83ms/step - loss: 2.3023 - accuracy: 0.4433 - top-05-acc: 0.7258 - top-10-acc: 0.8077 - val_loss: 2.6752 - val_accuracy: 0.3743 - val_top-05-acc: 0.6640 - val_top-10-acc: 0.7571\n",
      "Epoch 128/500\n",
      "74/74 [==============================] - 6s 87ms/step - loss: 2.2974 - accuracy: 0.4443 - top-05-acc: 0.7263 - top-10-acc: 0.8081 - val_loss: 2.6526 - val_accuracy: 0.3828 - val_top-05-acc: 0.6635 - val_top-10-acc: 0.7573\n",
      "Epoch 129/500\n",
      "74/74 [==============================] - 6s 86ms/step - loss: 2.2889 - accuracy: 0.4465 - top-05-acc: 0.7274 - top-10-acc: 0.8092 - val_loss: 2.6845 - val_accuracy: 0.3773 - val_top-05-acc: 0.6563 - val_top-10-acc: 0.7555\n",
      "Epoch 130/500\n",
      "74/74 [==============================] - 6s 83ms/step - loss: 2.2795 - accuracy: 0.4480 - top-05-acc: 0.7280 - top-10-acc: 0.8102 - val_loss: 2.6825 - val_accuracy: 0.3729 - val_top-05-acc: 0.6593 - val_top-10-acc: 0.7561\n",
      "Epoch 131/500\n",
      "74/74 [==============================] - 6s 82ms/step - loss: 2.2721 - accuracy: 0.4470 - top-05-acc: 0.7295 - top-10-acc: 0.8120 - val_loss: 2.6521 - val_accuracy: 0.3782 - val_top-05-acc: 0.6608 - val_top-10-acc: 0.7562\n",
      "Epoch 132/500\n",
      "74/74 [==============================] - 6s 83ms/step - loss: 2.2618 - accuracy: 0.4518 - top-05-acc: 0.7321 - top-10-acc: 0.8125 - val_loss: 2.6397 - val_accuracy: 0.3840 - val_top-05-acc: 0.6688 - val_top-10-acc: 0.7585\n",
      "Epoch 133/500\n",
      "74/74 [==============================] - 6s 84ms/step - loss: 2.2557 - accuracy: 0.4532 - top-05-acc: 0.7322 - top-10-acc: 0.8138 - val_loss: 2.6207 - val_accuracy: 0.3897 - val_top-05-acc: 0.6702 - val_top-10-acc: 0.7598\n",
      "Epoch 134/500\n",
      "74/74 [==============================] - 6s 85ms/step - loss: 2.2482 - accuracy: 0.4531 - top-05-acc: 0.7339 - top-10-acc: 0.8140 - val_loss: 2.6651 - val_accuracy: 0.3774 - val_top-05-acc: 0.6656 - val_top-10-acc: 0.7601\n",
      "Epoch 135/500\n",
      "74/74 [==============================] - 6s 81ms/step - loss: 2.2414 - accuracy: 0.4558 - top-05-acc: 0.7338 - top-10-acc: 0.8138 - val_loss: 2.6388 - val_accuracy: 0.3852 - val_top-05-acc: 0.6681 - val_top-10-acc: 0.7592\n",
      "Epoch 136/500\n",
      "74/74 [==============================] - 6s 82ms/step - loss: 2.2315 - accuracy: 0.4567 - top-05-acc: 0.7369 - top-10-acc: 0.8153 - val_loss: 2.6047 - val_accuracy: 0.3901 - val_top-05-acc: 0.6767 - val_top-10-acc: 0.7652\n",
      "Epoch 137/500\n",
      "74/74 [==============================] - 6s 82ms/step - loss: 2.2243 - accuracy: 0.4587 - top-05-acc: 0.7369 - top-10-acc: 0.8174 - val_loss: 2.6315 - val_accuracy: 0.3884 - val_top-05-acc: 0.6685 - val_top-10-acc: 0.7617\n",
      "Epoch 138/500\n",
      "74/74 [==============================] - 6s 84ms/step - loss: 2.2180 - accuracy: 0.4596 - top-05-acc: 0.7386 - top-10-acc: 0.8174 - val_loss: 2.6010 - val_accuracy: 0.3934 - val_top-05-acc: 0.6749 - val_top-10-acc: 0.7631\n",
      "Epoch 139/500\n",
      "74/74 [==============================] - 6s 83ms/step - loss: 2.2068 - accuracy: 0.4647 - top-05-acc: 0.7400 - top-10-acc: 0.8186 - val_loss: 2.6138 - val_accuracy: 0.3902 - val_top-05-acc: 0.6738 - val_top-10-acc: 0.7658\n",
      "Epoch 140/500\n",
      "74/74 [==============================] - 6s 84ms/step - loss: 2.2023 - accuracy: 0.4629 - top-05-acc: 0.7405 - top-10-acc: 0.8192 - val_loss: 2.6822 - val_accuracy: 0.3753 - val_top-05-acc: 0.6582 - val_top-10-acc: 0.7523\n"
     ]
    },
    {
     "name": "stdout",
     "output_type": "stream",
     "text": [
      "Epoch 141/500\n",
      "74/74 [==============================] - 6s 85ms/step - loss: 2.2002 - accuracy: 0.4643 - top-05-acc: 0.7416 - top-10-acc: 0.8204 - val_loss: 2.6384 - val_accuracy: 0.3859 - val_top-05-acc: 0.6690 - val_top-10-acc: 0.7610\n",
      "Epoch 142/500\n",
      "74/74 [==============================] - 6s 83ms/step - loss: 2.1800 - accuracy: 0.4692 - top-05-acc: 0.7443 - top-10-acc: 0.8227 - val_loss: 2.6289 - val_accuracy: 0.3883 - val_top-05-acc: 0.6710 - val_top-10-acc: 0.7625\n",
      "Epoch 143/500\n",
      "74/74 [==============================] - 6s 82ms/step - loss: 2.1818 - accuracy: 0.4707 - top-05-acc: 0.7437 - top-10-acc: 0.8214 - val_loss: 2.6444 - val_accuracy: 0.3828 - val_top-05-acc: 0.6686 - val_top-10-acc: 0.7606\n",
      "Epoch 144/500\n",
      "74/74 [==============================] - 6s 85ms/step - loss: 2.1704 - accuracy: 0.4706 - top-05-acc: 0.7466 - top-10-acc: 0.8234 - val_loss: 2.6190 - val_accuracy: 0.3931 - val_top-05-acc: 0.6707 - val_top-10-acc: 0.7625\n"
     ]
    }
   ],
   "source": [
    "if True:\n",
    "    callbacks = [\n",
    "        tf.keras.callbacks.ModelCheckpoint(\"model.h5\"),\n",
    "        tf.keras.callbacks.EarlyStopping(\n",
    "            monitor='val_accuracy',\n",
    "            patience=6,\n",
    "            restore_best_weights=True,\n",
    "        ),\n",
    "    ]\n",
    "    history = model.fit(\n",
    "        X_train,\n",
    "        y_train,\n",
    "        epochs=500,\n",
    "        validation_data=(X_val, y_val),\n",
    "        batch_size=(1024),\n",
    "        callbacks=callbacks,\n",
    "    )\n",
    "else:\n",
    "    model = tf.keras.models.load_model(\"../model.h5\")"
   ]
  },
  {
   "cell_type": "code",
   "execution_count": 24,
   "id": "0c667e32",
   "metadata": {
    "ExecuteTime": {
     "end_time": "2023-03-01T20:01:01.701920Z",
     "start_time": "2023-03-01T20:01:01.698522Z"
    }
   },
   "outputs": [
    {
     "name": "stdout",
     "output_type": "stream",
     "text": [
      "dict_keys(['loss', 'accuracy', 'top-05-acc', 'top-10-acc', 'val_loss', 'val_accuracy', 'val_top-05-acc', 'val_top-10-acc'])\n"
     ]
    }
   ],
   "source": [
    "import matplotlib.pyplot as plt\n",
    "import numpy as np\n",
    "\n",
    "print(history.history.keys())"
   ]
  },
  {
   "cell_type": "code",
   "execution_count": 25,
   "id": "113b874f",
   "metadata": {
    "ExecuteTime": {
     "end_time": "2023-03-01T20:01:01.898228Z",
     "start_time": "2023-03-01T20:01:01.703781Z"
    }
   },
   "outputs": [
    {
     "data": {
      "image/png": "[encoded data removed]",
      "text/plain": [
       "<Figure size 640x480 with 1 Axes>"
      ]
     },
     "metadata": {},
     "output_type": "display_data"
    }
   ],
   "source": [
    "# summarize history for accuracy\n",
    "plt.plot(history.history['accuracy'])\n",
    "plt.plot(history.history['val_accuracy'])\n",
    "plt.title('model accuracy')\n",
    "plt.ylabel('accuracy')\n",
    "plt.xlabel('epoch')\n",
    "plt.legend(['train', 'test'], loc='upper left')\n",
    "plt.show()"
   ]
  },
  {
   "cell_type": "code",
   "execution_count": 26,
   "id": "835c5849",
   "metadata": {
    "ExecuteTime": {
     "end_time": "2023-03-01T20:01:01.971511Z",
     "start_time": "2023-03-01T20:01:01.899860Z"
    }
   },
   "outputs": [
    {
     "data": {
      "image/png": "[encoded data removed]",
      "text/plain": [
       "<Figure size 640x480 with 1 Axes>"
      ]
     },
     "metadata": {},
     "output_type": "display_data"
    }
   ],
   "source": [
    "# summarize history for loss\n",
    "plt.plot(history.history['loss'])\n",
    "plt.plot(history.history['val_loss'])\n",
    "plt.title('model loss')\n",
    "plt.ylabel('loss')\n",
    "plt.xlabel('epoch')\n",
    "plt.legend(['train', 'test'], loc='upper left')\n",
    "plt.show()"
   ]
  },
  {
   "cell_type": "code",
   "execution_count": 27,
   "id": "c79d9a56",
   "metadata": {
    "ExecuteTime": {
     "end_time": "2023-03-01T20:01:32.003477Z",
     "start_time": "2023-03-01T20:01:32.000658Z"
    },
    "code_folding": []
   },
   "outputs": [],
   "source": [
    "def get_model():\n",
    "    return model"
   ]
  },
  {
   "cell_type": "code",
   "execution_count": 28,
   "id": "3bcd5c03",
   "metadata": {
    "ExecuteTime": {
     "end_time": "2023-03-01T20:01:32.427740Z",
     "start_time": "2023-03-01T20:01:32.417579Z"
    },
    "scrolled": true
   },
   "outputs": [
    {
     "name": "stdout",
     "output_type": "stream",
     "text": [
      "Model: \"sequential_3\"\n",
      "_________________________________________________________________\n",
      " Layer (type)                Output Shape              Param #   \n",
      "=================================================================\n",
      " gru_6 (GRU)                 (None, None, 128)         51072     \n",
      "                                                                 \n",
      " gru_7 (GRU)                 (None, 128)               99072     \n",
      "                                                                 \n",
      " dense_1 (Dense)             (None, 250)               32250     \n",
      "                                                                 \n",
      "=================================================================\n",
      "Total params: 182,394\n",
      "Trainable params: 182,394\n",
      "Non-trainable params: 0\n",
      "_________________________________________________________________\n"
     ]
    }
   ],
   "source": [
    "get_model().summary()"
   ]
  },
  {
   "cell_type": "code",
   "execution_count": 29,
   "id": "98593b01",
   "metadata": {
    "ExecuteTime": {
     "end_time": "2023-03-01T20:01:32.808933Z",
     "start_time": "2023-03-01T20:01:32.562721Z"
    }
   },
   "outputs": [],
   "source": [
    "inputs = tf.keras.Input((543, 3), dtype=tf.float32, name=\"inputs\")\n",
    "x = tf.where(tf.math.is_nan(inputs), tf.zeros_like(inputs), inputs)\n",
    "x = tf.reduce_mean(x, axis=0, keepdims=True)\n",
    "\n",
    "# for i in range(1, len(model.layers)):\n",
    "x = model.layers[0](x)\n",
    "x = model.layers[1](x)\n",
    "x = model.layers[2](x)"
   ]
  },
  {
   "cell_type": "code",
   "execution_count": 30,
   "id": "14097f4c",
   "metadata": {
    "ExecuteTime": {
     "end_time": "2023-03-01T20:01:32.814272Z",
     "start_time": "2023-03-01T20:01:32.810710Z"
    }
   },
   "outputs": [],
   "source": [
    "def get_inference_model(model):\n",
    "    inputs = tf.keras.Input((543, 3), dtype=tf.float32, name=\"inputs\")\n",
    "    x = tf.where(tf.math.is_nan(inputs), tf.zeros_like(inputs), inputs)\n",
    "    x = tf.reduce_mean(x, axis=0, keepdims=True)\n",
    "    \n",
    "    for i in range(0, len(model.layers)):\n",
    "        x = model.layers[i](x)\n",
    "    output = tf.keras.layers.Activation(activation=\"linear\", name=\"outputs\")(x)\n",
    "    inference_model = tf.keras.Model(inputs=inputs, outputs=output) \n",
    "    inference_model.compile(loss=tf.keras.losses.SparseCategoricalCrossentropy(), metrics=[\"accuracy\"])\n",
    "    \n",
    "    return inference_model"
   ]
  },
  {
   "cell_type": "code",
   "execution_count": 31,
   "id": "b125786d",
   "metadata": {
    "ExecuteTime": {
     "end_time": "2023-03-01T20:01:33.046903Z",
     "start_time": "2023-03-01T20:01:32.815373Z"
    }
   },
   "outputs": [
    {
     "name": "stdout",
     "output_type": "stream",
     "text": [
      "Model: \"model\"\n",
      "__________________________________________________________________________________________________\n",
      " Layer (type)                   Output Shape         Param #     Connected to                     \n",
      "==================================================================================================\n",
      " inputs (InputLayer)            [(None, 543, 3)]     0           []                               \n",
      "                                                                                                  \n",
      " tf.math.is_nan_1 (TFOpLambda)  (None, 543, 3)       0           ['inputs[0][0]']                 \n",
      "                                                                                                  \n",
      " tf.zeros_like_1 (TFOpLambda)   (None, 543, 3)       0           ['inputs[0][0]']                 \n",
      "                                                                                                  \n",
      " tf.where_1 (TFOpLambda)        (None, 543, 3)       0           ['tf.math.is_nan_1[0][0]',       \n",
      "                                                                  'tf.zeros_like_1[0][0]',        \n",
      "                                                                  'inputs[0][0]']                 \n",
      "                                                                                                  \n",
      " tf.math.reduce_mean_1 (TFOpLam  (1, 543, 3)         0           ['tf.where_1[0][0]']             \n",
      " bda)                                                                                             \n",
      "                                                                                                  \n",
      " gru_6 (GRU)                    multiple             51072       ['tf.math.reduce_mean_1[0][0]']  \n",
      "                                                                                                  \n",
      " gru_7 (GRU)                    multiple             99072       ['gru_6[2][0]']                  \n",
      "                                                                                                  \n",
      " dense_1 (Dense)                multiple             32250       ['gru_7[2][0]']                  \n",
      "                                                                                                  \n",
      " outputs (Activation)           (1, 250)             0           ['dense_1[2][0]']                \n",
      "                                                                                                  \n",
      "==================================================================================================\n",
      "Total params: 182,394\n",
      "Trainable params: 182,394\n",
      "Non-trainable params: 0\n",
      "__________________________________________________________________________________________________\n"
     ]
    }
   ],
   "source": [
    "inference_model = get_inference_model(model)\n",
    "inference_model.summary()"
   ]
  },
  {
   "cell_type": "code",
   "execution_count": 32,
   "id": "2440704d",
   "metadata": {
    "ExecuteTime": {
     "end_time": "2023-03-01T20:01:39.860733Z",
     "start_time": "2023-03-01T20:01:33.048647Z"
    }
   },
   "outputs": [
    {
     "name": "stderr",
     "output_type": "stream",
     "text": [
      "WARNING:absl:Found untraced functions such as gru_cell_6_layer_call_fn, gru_cell_6_layer_call_and_return_conditional_losses, gru_cell_7_layer_call_fn, gru_cell_7_layer_call_and_return_conditional_losses while saving (showing 4 of 4). These functions will not be directly callable after loading.\n"
     ]
    },
    {
     "name": "stdout",
     "output_type": "stream",
     "text": [
      "INFO:tensorflow:Assets written to: /tmp/tmpozgldqgh/assets\n"
     ]
    },
    {
     "name": "stderr",
     "output_type": "stream",
     "text": [
      "INFO:tensorflow:Assets written to: /tmp/tmpozgldqgh/assets\n",
      "2023-03-01 12:01:39.246671: W tensorflow/compiler/mlir/lite/python/tf_tfl_flatbuffer_helpers.cc:362] Ignored output_format.\n",
      "2023-03-01 12:01:39.246716: W tensorflow/compiler/mlir/lite/python/tf_tfl_flatbuffer_helpers.cc:365] Ignored drop_control_dependency.\n",
      "2023-03-01 12:01:39.247357: I tensorflow/cc/saved_model/reader.cc:45] Reading SavedModel from: /tmp/tmpozgldqgh\n",
      "2023-03-01 12:01:39.257223: I tensorflow/cc/saved_model/reader.cc:89] Reading meta graph with tags { serve }\n",
      "2023-03-01 12:01:39.257258: I tensorflow/cc/saved_model/reader.cc:130] Reading SavedModel debug info (if present) from: /tmp/tmpozgldqgh\n",
      "2023-03-01 12:01:39.301783: I tensorflow/compiler/mlir/mlir_graph_optimization_pass.cc:354] MLIR V1 optimization pass is not enabled\n",
      "2023-03-01 12:01:39.309857: I tensorflow/cc/saved_model/loader.cc:229] Restoring SavedModel bundle.\n",
      "2023-03-01 12:01:39.379294: I tensorflow/cc/saved_model/loader.cc:213] Running initialization op on SavedModel bundle at path: /tmp/tmpozgldqgh\n",
      "2023-03-01 12:01:39.436008: I tensorflow/cc/saved_model/loader.cc:305] SavedModel load for tags { serve }; Status: success: OK. Took 188650 microseconds.\n",
      "2023-03-01 12:01:39.605423: I tensorflow/compiler/mlir/tensorflow/utils/dump_mlir_util.cc:268] disabling MLIR crash reproducer, set env var `MLIR_CRASH_REPRODUCER_DIRECTORY` to enable.\n",
      "2023-03-01 12:01:39.759082: I tensorflow/compiler/mlir/lite/flatbuffer_export.cc:1989] Estimated count of arithmetic ops: 0.430 M  ops, equivalently 0.215 M  MACs\n",
      "\n"
     ]
    }
   ],
   "source": [
    "converter = tf.lite.TFLiteConverter.from_keras_model(inference_model)\n",
    "tflite_model = converter.convert()\n",
    "model_path = \"model.tflite\"\n",
    "# Save the model.\n",
    "with open(model_path, 'wb') as f:\n",
    "    f.write(tflite_model)"
   ]
  },
  {
   "cell_type": "code",
   "execution_count": 33,
   "id": "5c62ba46",
   "metadata": {
    "ExecuteTime": {
     "end_time": "2023-03-01T20:01:42.852916Z",
     "start_time": "2023-03-01T20:01:39.862503Z"
    },
    "scrolled": true
   },
   "outputs": [
    {
     "name": "stderr",
     "output_type": "stream",
     "text": [
      "100%|█████████████████████████████████████████████████████████████████████████████| 100/100 [00:02<00:00, 33.64it/s]\n"
     ]
    }
   ],
   "source": [
    "import tflite_runtime.interpreter as tflite\n",
    "interpreter = tflite.Interpreter(model_path)\n",
    "found_signatures = list(interpreter.get_signature_list().keys())\n",
    "prediction_fn = interpreter.get_signature_runner(\"serving_default\")\n",
    "corr = 0\n",
    "wrong = []\n",
    "for i in tqdm(range(100)):\n",
    "    frames = load_relevant_data_subset(f'../{train.iloc[i].path}')\n",
    "    output = prediction_fn(inputs=frames)\n",
    "    sign = np.argmax(output[\"outputs\"])\n",
    "    if index_label[sign] == train.iloc[i].sign:\n",
    "        corr += 1\n",
    "    else:\n",
    "        wrong.append((index_label[sign], train.iloc[i].sign, train.iloc[i].path))\n",
    "\n",
    "    #     print(f\"Predicted label: {index_label[sign]}, Actual Label: {train.iloc[i].sign}\")\n",
    "\n",
    "\n",
    "    total = i"
   ]
  },
  {
   "cell_type": "code",
   "execution_count": 34,
   "id": "2ea52da4",
   "metadata": {
    "ExecuteTime": {
     "end_time": "2023-03-01T20:01:42.858061Z",
     "start_time": "2023-03-01T20:01:42.854525Z"
    }
   },
   "outputs": [
    {
     "name": "stdout",
     "output_type": "stream",
     "text": [
      "\n",
      "total=99\n",
      "corr=51\t Percent: 51.515152%\n",
      "\n"
     ]
    }
   ],
   "source": [
    "r = f'''\n",
    "{total=}\n",
    "{corr=}\\t Percent: {corr/total:%}\n",
    "'''\n",
    "print(r)"
   ]
  },
  {
   "cell_type": "code",
   "execution_count": 35,
   "id": "08905e36",
   "metadata": {
    "ExecuteTime": {
     "end_time": "2023-03-01T20:01:42.882286Z",
     "start_time": "2023-03-01T20:01:42.860005Z"
    }
   },
   "outputs": [
    {
     "data": {
      "text/html": [
       "<div>\n",
       "<style scoped>\n",
       "    .dataframe tbody tr th:only-of-type {\n",
       "        vertical-align: middle;\n",
       "    }\n",
       "\n",
       "    .dataframe tbody tr th {\n",
       "        vertical-align: top;\n",
       "    }\n",
       "\n",
       "    .dataframe thead th {\n",
       "        text-align: right;\n",
       "    }\n",
       "</style>\n",
       "<table border=\"1\" class=\"dataframe\">\n",
       "  <thead>\n",
       "    <tr style=\"text-align: right;\">\n",
       "      <th></th>\n",
       "      <th>pred</th>\n",
       "      <th>true</th>\n",
       "      <th>path</th>\n",
       "    </tr>\n",
       "  </thead>\n",
       "  <tbody>\n",
       "    <tr>\n",
       "      <th>0</th>\n",
       "      <td>arm</td>\n",
       "      <td>1</td>\n",
       "      <td>1</td>\n",
       "    </tr>\n",
       "    <tr>\n",
       "      <th>23</th>\n",
       "      <td>hide</td>\n",
       "      <td>1</td>\n",
       "      <td>1</td>\n",
       "    </tr>\n",
       "    <tr>\n",
       "      <th>24</th>\n",
       "      <td>home</td>\n",
       "      <td>1</td>\n",
       "      <td>1</td>\n",
       "    </tr>\n",
       "    <tr>\n",
       "      <th>25</th>\n",
       "      <td>jacket</td>\n",
       "      <td>1</td>\n",
       "      <td>1</td>\n",
       "    </tr>\n",
       "    <tr>\n",
       "      <th>26</th>\n",
       "      <td>jump</td>\n",
       "      <td>1</td>\n",
       "      <td>1</td>\n",
       "    </tr>\n",
       "    <tr>\n",
       "      <th>28</th>\n",
       "      <td>man</td>\n",
       "      <td>1</td>\n",
       "      <td>1</td>\n",
       "    </tr>\n",
       "    <tr>\n",
       "      <th>29</th>\n",
       "      <td>many</td>\n",
       "      <td>1</td>\n",
       "      <td>1</td>\n",
       "    </tr>\n",
       "    <tr>\n",
       "      <th>30</th>\n",
       "      <td>nuts</td>\n",
       "      <td>1</td>\n",
       "      <td>1</td>\n",
       "    </tr>\n",
       "    <tr>\n",
       "      <th>31</th>\n",
       "      <td>pig</td>\n",
       "      <td>1</td>\n",
       "      <td>1</td>\n",
       "    </tr>\n",
       "    <tr>\n",
       "      <th>33</th>\n",
       "      <td>sleep</td>\n",
       "      <td>1</td>\n",
       "      <td>1</td>\n",
       "    </tr>\n",
       "    <tr>\n",
       "      <th>34</th>\n",
       "      <td>smile</td>\n",
       "      <td>1</td>\n",
       "      <td>1</td>\n",
       "    </tr>\n",
       "    <tr>\n",
       "      <th>35</th>\n",
       "      <td>stay</td>\n",
       "      <td>1</td>\n",
       "      <td>1</td>\n",
       "    </tr>\n",
       "    <tr>\n",
       "      <th>36</th>\n",
       "      <td>store</td>\n",
       "      <td>1</td>\n",
       "      <td>1</td>\n",
       "    </tr>\n",
       "    <tr>\n",
       "      <th>37</th>\n",
       "      <td>talk</td>\n",
       "      <td>1</td>\n",
       "      <td>1</td>\n",
       "    </tr>\n",
       "    <tr>\n",
       "      <th>38</th>\n",
       "      <td>time</td>\n",
       "      <td>1</td>\n",
       "      <td>1</td>\n",
       "    </tr>\n",
       "    <tr>\n",
       "      <th>39</th>\n",
       "      <td>tongue</td>\n",
       "      <td>1</td>\n",
       "      <td>1</td>\n",
       "    </tr>\n",
       "    <tr>\n",
       "      <th>40</th>\n",
       "      <td>toothbrush</td>\n",
       "      <td>1</td>\n",
       "      <td>1</td>\n",
       "    </tr>\n",
       "    <tr>\n",
       "      <th>41</th>\n",
       "      <td>wet</td>\n",
       "      <td>1</td>\n",
       "      <td>1</td>\n",
       "    </tr>\n",
       "    <tr>\n",
       "      <th>22</th>\n",
       "      <td>head</td>\n",
       "      <td>1</td>\n",
       "      <td>1</td>\n",
       "    </tr>\n",
       "    <tr>\n",
       "      <th>42</th>\n",
       "      <td>yellow</td>\n",
       "      <td>1</td>\n",
       "      <td>1</td>\n",
       "    </tr>\n",
       "    <tr>\n",
       "      <th>21</th>\n",
       "      <td>happy</td>\n",
       "      <td>1</td>\n",
       "      <td>1</td>\n",
       "    </tr>\n",
       "    <tr>\n",
       "      <th>19</th>\n",
       "      <td>gift</td>\n",
       "      <td>1</td>\n",
       "      <td>1</td>\n",
       "    </tr>\n",
       "    <tr>\n",
       "      <th>2</th>\n",
       "      <td>book</td>\n",
       "      <td>1</td>\n",
       "      <td>1</td>\n",
       "    </tr>\n",
       "    <tr>\n",
       "      <th>3</th>\n",
       "      <td>brown</td>\n",
       "      <td>1</td>\n",
       "      <td>1</td>\n",
       "    </tr>\n",
       "    <tr>\n",
       "      <th>5</th>\n",
       "      <td>chair</td>\n",
       "      <td>1</td>\n",
       "      <td>1</td>\n",
       "    </tr>\n",
       "    <tr>\n",
       "      <th>6</th>\n",
       "      <td>cheek</td>\n",
       "      <td>1</td>\n",
       "      <td>1</td>\n",
       "    </tr>\n",
       "    <tr>\n",
       "      <th>7</th>\n",
       "      <td>child</td>\n",
       "      <td>1</td>\n",
       "      <td>1</td>\n",
       "    </tr>\n",
       "    <tr>\n",
       "      <th>8</th>\n",
       "      <td>clean</td>\n",
       "      <td>1</td>\n",
       "      <td>1</td>\n",
       "    </tr>\n",
       "    <tr>\n",
       "      <th>9</th>\n",
       "      <td>close</td>\n",
       "      <td>1</td>\n",
       "      <td>1</td>\n",
       "    </tr>\n",
       "    <tr>\n",
       "      <th>20</th>\n",
       "      <td>goose</td>\n",
       "      <td>1</td>\n",
       "      <td>1</td>\n",
       "    </tr>\n",
       "    <tr>\n",
       "      <th>10</th>\n",
       "      <td>clown</td>\n",
       "      <td>1</td>\n",
       "      <td>1</td>\n",
       "    </tr>\n",
       "    <tr>\n",
       "      <th>43</th>\n",
       "      <td>yourself</td>\n",
       "      <td>1</td>\n",
       "      <td>1</td>\n",
       "    </tr>\n",
       "    <tr>\n",
       "      <th>12</th>\n",
       "      <td>dirty</td>\n",
       "      <td>1</td>\n",
       "      <td>1</td>\n",
       "    </tr>\n",
       "    <tr>\n",
       "      <th>13</th>\n",
       "      <td>drink</td>\n",
       "      <td>1</td>\n",
       "      <td>1</td>\n",
       "    </tr>\n",
       "    <tr>\n",
       "      <th>15</th>\n",
       "      <td>eye</td>\n",
       "      <td>1</td>\n",
       "      <td>1</td>\n",
       "    </tr>\n",
       "    <tr>\n",
       "      <th>16</th>\n",
       "      <td>fall</td>\n",
       "      <td>1</td>\n",
       "      <td>1</td>\n",
       "    </tr>\n",
       "    <tr>\n",
       "      <th>17</th>\n",
       "      <td>fast</td>\n",
       "      <td>1</td>\n",
       "      <td>1</td>\n",
       "    </tr>\n",
       "    <tr>\n",
       "      <th>18</th>\n",
       "      <td>flag</td>\n",
       "      <td>1</td>\n",
       "      <td>1</td>\n",
       "    </tr>\n",
       "    <tr>\n",
       "      <th>11</th>\n",
       "      <td>cowboy</td>\n",
       "      <td>1</td>\n",
       "      <td>1</td>\n",
       "    </tr>\n",
       "    <tr>\n",
       "      <th>27</th>\n",
       "      <td>make</td>\n",
       "      <td>2</td>\n",
       "      <td>2</td>\n",
       "    </tr>\n",
       "    <tr>\n",
       "      <th>14</th>\n",
       "      <td>drop</td>\n",
       "      <td>2</td>\n",
       "      <td>2</td>\n",
       "    </tr>\n",
       "    <tr>\n",
       "      <th>4</th>\n",
       "      <td>car</td>\n",
       "      <td>2</td>\n",
       "      <td>2</td>\n",
       "    </tr>\n",
       "    <tr>\n",
       "      <th>1</th>\n",
       "      <td>awake</td>\n",
       "      <td>2</td>\n",
       "      <td>2</td>\n",
       "    </tr>\n",
       "    <tr>\n",
       "      <th>32</th>\n",
       "      <td>rain</td>\n",
       "      <td>2</td>\n",
       "      <td>2</td>\n",
       "    </tr>\n",
       "  </tbody>\n",
       "</table>\n",
       "</div>"
      ],
      "text/plain": [
       "          pred  true  path\n",
       "0          arm     1     1\n",
       "23        hide     1     1\n",
       "24        home     1     1\n",
       "25      jacket     1     1\n",
       "26        jump     1     1\n",
       "28         man     1     1\n",
       "29        many     1     1\n",
       "30        nuts     1     1\n",
       "31         pig     1     1\n",
       "33       sleep     1     1\n",
       "34       smile     1     1\n",
       "35        stay     1     1\n",
       "36       store     1     1\n",
       "37        talk     1     1\n",
       "38        time     1     1\n",
       "39      tongue     1     1\n",
       "40  toothbrush     1     1\n",
       "41         wet     1     1\n",
       "22        head     1     1\n",
       "42      yellow     1     1\n",
       "21       happy     1     1\n",
       "19        gift     1     1\n",
       "2         book     1     1\n",
       "3        brown     1     1\n",
       "5        chair     1     1\n",
       "6        cheek     1     1\n",
       "7        child     1     1\n",
       "8        clean     1     1\n",
       "9        close     1     1\n",
       "20       goose     1     1\n",
       "10       clown     1     1\n",
       "43    yourself     1     1\n",
       "12       dirty     1     1\n",
       "13       drink     1     1\n",
       "15         eye     1     1\n",
       "16        fall     1     1\n",
       "17        fast     1     1\n",
       "18        flag     1     1\n",
       "11      cowboy     1     1\n",
       "27        make     2     2\n",
       "14        drop     2     2\n",
       "4          car     2     2\n",
       "1        awake     2     2\n",
       "32        rain     2     2"
      ]
     },
     "execution_count": 35,
     "metadata": {},
     "output_type": "execute_result"
    }
   ],
   "source": [
    "wrongs = pd.DataFrame(data=wrong, columns=['pred','true','path'])\n",
    "wrongs.groupby('pred').count().reset_index().sort_values('true')"
   ]
  }
 ],
 "metadata": {
  "kernelspec": {
   "display_name": "Python 3 (ipykernel)",
   "language": "python",
   "name": "python3"
  },
  "language_info": {
   "codemirror_mode": {
    "name": "ipython",
    "version": 3
   },
   "file_extension": ".py",
   "mimetype": "text/x-python",
   "name": "python",
   "nbconvert_exporter": "python",
   "pygments_lexer": "ipython3",
   "version": "3.9.15"
  },
  "toc": {
   "base_numbering": 1,
   "nav_menu": {},
   "number_sections": true,
   "sideBar": true,
   "skip_h1_title": false,
   "title_cell": "Table of Contents",
   "title_sidebar": "Contents",
   "toc_cell": false,
   "toc_position": {},
   "toc_section_display": true,
   "toc_window_display": false
  }
 },
 "nbformat": 4,
 "nbformat_minor": 5
}
