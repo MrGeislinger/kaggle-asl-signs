{
 "cells": [
  {
   "cell_type": "code",
   "execution_count": 1,
   "id": "6a0ff53c",
   "metadata": {
    "ExecuteTime": {
     "end_time": "2023-03-05T05:59:44.797389Z",
     "start_time": "2023-03-05T05:59:42.843570Z"
    }
   },
   "outputs": [
    {
     "name": "stderr",
     "output_type": "stream",
     "text": [
      "2023-03-04 21:59:43.120461: I tensorflow/core/platform/cpu_feature_guard.cc:193] This TensorFlow binary is optimized with oneAPI Deep Neural Network Library (oneDNN) to use the following CPU instructions in performance-critical operations:  AVX2 FMA\n",
      "To enable them in other operations, rebuild TensorFlow with the appropriate compiler flags.\n",
      "2023-03-04 21:59:43.267862: E tensorflow/stream_executor/cuda/cuda_blas.cc:2981] Unable to register cuBLAS factory: Attempting to register factory for plugin cuBLAS when one has already been registered\n",
      "2023-03-04 21:59:43.725799: W tensorflow/stream_executor/platform/default/dso_loader.cc:64] Could not load dynamic library 'libnvinfer.so.7'; dlerror: libnvinfer.so.7: cannot open shared object file: No such file or directory; LD_LIBRARY_PATH: :/home/victor/miniconda3/envs/tf/lib/:/home/victor/miniconda3/envs/tf/lib/:/home/victor/miniconda3/envs/tf/lib/:/home/victor/miniconda3/envs/tf/lib/\n",
      "2023-03-04 21:59:43.725869: W tensorflow/stream_executor/platform/default/dso_loader.cc:64] Could not load dynamic library 'libnvinfer_plugin.so.7'; dlerror: libnvinfer_plugin.so.7: cannot open shared object file: No such file or directory; LD_LIBRARY_PATH: :/home/victor/miniconda3/envs/tf/lib/:/home/victor/miniconda3/envs/tf/lib/:/home/victor/miniconda3/envs/tf/lib/:/home/victor/miniconda3/envs/tf/lib/\n",
      "2023-03-04 21:59:43.725873: W tensorflow/compiler/tf2tensorrt/utils/py_utils.cc:38] TF-TRT Warning: Cannot dlopen some TensorRT libraries. If you would like to use Nvidia GPU with TensorRT, please make sure the missing libraries mentioned above are installed properly.\n"
     ]
    }
   ],
   "source": [
    "import os\n",
    "import json\n",
    "import numpy as np\n",
    "import pandas as pd\n",
    "from tqdm import tqdm\n",
    "import tensorflow as tf\n",
    "from tqdm import tqdm\n",
    "import json\n",
    "from sklearn.model_selection import train_test_split\n",
    "import matplotlib.pyplot as plt\n",
    "from pathlib import Path"
   ]
  },
  {
   "cell_type": "code",
   "execution_count": 2,
   "id": "19c7db3e",
   "metadata": {
    "ExecuteTime": {
     "end_time": "2023-03-05T05:59:44.861433Z",
     "start_time": "2023-03-05T05:59:44.799080Z"
    },
    "code_folding": [
     7,
     15,
     23,
     30
    ]
   },
   "outputs": [
    {
     "name": "stdout",
     "output_type": "stream",
     "text": [
      "train.shape = 94477 rows, 4 cols\n"
     ]
    }
   ],
   "source": [
    "DATA_ROOT = Path('..')\n",
    "DF_TRAIN = DATA_ROOT / 'train.csv'\n",
    "train = pd.read_csv(DF_TRAIN)\n",
    "\n",
    "print(\"train.shape = {} rows, {} cols\".format(*train.shape))\n",
    "\n",
    "\n",
    "class CFG:\n",
    "    data_path = \"../\"\n",
    "    quick_experiment = False\n",
    "    is_training = True\n",
    "    use_aggregation_dataset = True\n",
    "    num_classes = 250\n",
    "    rows_per_frame = 543 \n",
    "\n",
    "def load_relevant_data_subset_with_imputation(pq_path):\n",
    "    data_columns = ['x', 'y', 'z']\n",
    "    data = pd.read_parquet(pq_path, columns=data_columns)\n",
    "    data.replace(np.nan, 0, inplace=True)\n",
    "    n_frames = int(len(data) / CFG.rows_per_frame)\n",
    "    data = data.values.reshape(n_frames, CFG.rows_per_frame, len(data_columns))\n",
    "    return data.astype(np.float32)\n",
    "\n",
    "def load_relevant_data_subset(pq_path):\n",
    "    data_columns = ['x', 'y', 'z']\n",
    "    data = pd.read_parquet(pq_path, columns=data_columns)\n",
    "    n_frames = int(len(data) / CFG.rows_per_frame)\n",
    "    data = data.values.reshape(n_frames, CFG.rows_per_frame, len(data_columns))\n",
    "    return data.astype(np.float32)\n",
    "\n",
    "def read_dict(file_path):\n",
    "    path = os.path.expanduser(file_path)\n",
    "    with open(path, \"r\") as f:\n",
    "        dic = json.load(f)\n",
    "    return dic"
   ]
  },
  {
   "cell_type": "code",
   "execution_count": 3,
   "id": "4cafb3e8",
   "metadata": {
    "ExecuteTime": {
     "end_time": "2023-03-05T05:59:44.942729Z",
     "start_time": "2023-03-05T05:59:44.862965Z"
    }
   },
   "outputs": [],
   "source": [
    "train = pd.read_csv(f\"{CFG.data_path}train.csv\")\n",
    "label_index = read_dict(f\"{CFG.data_path}sign_to_prediction_index_map.json\")\n",
    "index_label = {label_index[key]: key for key in label_index}\n",
    "train[\"label\"] = train[\"sign\"].map(lambda sign: label_index[sign])"
   ]
  },
  {
   "cell_type": "code",
   "execution_count": 4,
   "id": "1d86fd02",
   "metadata": {
    "ExecuteTime": {
     "end_time": "2023-03-05T05:59:44.949133Z",
     "start_time": "2023-03-05T05:59:44.944683Z"
    },
    "code_folding": []
   },
   "outputs": [],
   "source": [
    "def load_frames(\n",
    "    frames_data,\n",
    "    max_frames: int = 20,\n",
    "    crop_method: str = 'nearest',\n",
    "    get_masks: bool = True,\n",
    "):\n",
    "    '''Take frames data shape=(n_frames, pts, dims) to fixed num of frames.\n",
    "    \n",
    "    - Pads data with fewer frames with zeros\n",
    "    - Reduces max number of allowed frames by crop method:\n",
    "        * 'nearest' (default): \n",
    "    '''\n",
    "    \n",
    "    if len(frames_data) < max_frames:\n",
    "        diff = max_frames - len(frames_data)\n",
    "        padding = np.zeros((diff, 543, 3))\n",
    "        frames = np.concatenate((frames_data, padding))\n",
    "        if get_masks:\n",
    "            # Only mask the padding\n",
    "            masks = np.zeros(shape=(1, max_frames,), dtype='bool')\n",
    "            masks[0,:len(frames_data)] = 1\n",
    "            \n",
    "    else:\n",
    "        if crop_method == 'nearest':\n",
    "            frames = tf.image.resize(\n",
    "                frames_data,\n",
    "                (max_frames, 543),\n",
    "                method='nearest',\n",
    "            ).numpy()\n",
    "        elif crop_method == 'cut':\n",
    "            frames = frames_data[:max_frames]\n",
    "        else:\n",
    "            raise Exception(f'{crop_method=} not found')\n",
    "        if get_masks:\n",
    "            # Use all the frames\n",
    "            masks = np.ones(shape=(1, max_frames,), dtype='bool')\n",
    "\n",
    "    if get_masks:\n",
    "        return frames, masks\n",
    "    else:\n",
    "        return frames"
   ]
  },
  {
   "cell_type": "code",
   "execution_count": 5,
   "id": "44bc36c0",
   "metadata": {
    "ExecuteTime": {
     "end_time": "2023-03-05T05:59:44.965255Z",
     "start_time": "2023-03-05T05:59:44.950190Z"
    },
    "code_folding": []
   },
   "outputs": [],
   "source": [
    "def compress_frames(frames):\n",
    "    '''Make a video of shape (n_frames, pts, dims) --> (n_frames, pts*dims) '''\n",
    "    n_frames = frames.shape[0]\n",
    "    columns = frames.shape[1]*frames.shape[2]\n",
    "    return frames.reshape(n_frames, columns)"
   ]
  },
  {
   "cell_type": "code",
   "execution_count": 6,
   "id": "a0304415",
   "metadata": {
    "ExecuteTime": {
     "end_time": "2023-03-05T05:59:49.508863Z",
     "start_time": "2023-03-05T05:59:44.966365Z"
    },
    "code_folding": []
   },
   "outputs": [
    {
     "name": "stdout",
     "output_type": "stream",
     "text": [
      "(94477, 20, 1629) (94477,)\n"
     ]
    }
   ],
   "source": [
    "# Hyperparams\n",
    "MAX_FRAMES = 20\n",
    "MAX_SEQ_LENGTH = MAX_FRAMES\n",
    "N_PTS = 543\n",
    "N_DIMS = 3\n",
    "NUM_FEATURES = N_PTS*N_DIMS\n",
    "\n",
    "X_npy_fname = f'X-{MAX_FRAMES}_frames-pts_flattened.npy'\n",
    "y_npy_fname = f'y.npy'\n",
    "masks_fname = f'all_masks-{MAX_FRAMES}.npy'\n",
    "\n",
    "if CFG.is_training:\n",
    "    try:\n",
    "        X = np.load(X_npy_fname)\n",
    "        All_masks = np.load(masks_fname)\n",
    "        y = np.load(y_npy_fname)\n",
    "    except:\n",
    "        X = np.zeros((len(train), MAX_FRAMES, N_PTS*N_DIMS))\n",
    "        All_masks = np.zeros(shape=(len(train), MAX_FRAMES), dtype='bool')\n",
    "        y = np.zeros((len(train),))\n",
    "        num_frames = np.zeros(len(train))\n",
    "        for i in tqdm(range(len(train))):\n",
    "            path = f\"{CFG.data_path}{train.iloc[i].path}\"\n",
    "            data = load_relevant_data_subset_with_imputation(path)\n",
    "            ## Mean Aggregation\n",
    "            frames_reduced, masks = load_frames(data, max_frames=MAX_FRAMES)\n",
    "            data_resize = compress_frames(frames_reduced)\n",
    "            X[i] = data_resize\n",
    "            All_masks[i] = masks\n",
    "            y[i] = train.iloc[i].label\n",
    "            num_frames[i] = data.shape[0]\n",
    "        ## Save number of frames of each training sample for data analysis\n",
    "        train['num_frames'] = num_frames\n",
    "        print(train['num_frames'].describe())\n",
    "        train.to_csv('train.csv', index=False)\n",
    "        np.save(X_npy_fname, X)\n",
    "        np.save(y_npy_fname, y)\n",
    "        np.save(masks_fname, All_masks)\n",
    "\n",
    "    print(X.shape, y.shape)"
   ]
  },
  {
   "cell_type": "code",
   "execution_count": 7,
   "id": "38a5993c",
   "metadata": {
    "ExecuteTime": {
     "end_time": "2023-03-05T05:59:49.516423Z",
     "start_time": "2023-03-05T05:59:49.510371Z"
    }
   },
   "outputs": [
    {
     "data": {
      "text/plain": [
       "(94477, 20)"
      ]
     },
     "execution_count": 7,
     "metadata": {},
     "output_type": "execute_result"
    }
   ],
   "source": [
    "All_masks.shape"
   ]
  },
  {
   "cell_type": "code",
   "execution_count": 8,
   "id": "401be3ac",
   "metadata": {
    "ExecuteTime": {
     "end_time": "2023-03-05T05:59:49.540080Z",
     "start_time": "2023-03-05T05:59:49.517550Z"
    }
   },
   "outputs": [],
   "source": [
    "# TODO: Make All_masks as part of split\n",
    "# X_train, X_val, y_train, y_val = train_test_split(X, y, test_size=0.2, random_state=27, stratify=y)\n",
    "# print(X_train.shape, y_train.shape, X_val.shape, y_val.shape)"
   ]
  },
  {
   "cell_type": "markdown",
   "id": "8ba54c41",
   "metadata": {},
   "source": [
    "# RNN Model\n",
    "\n",
    "> https://keras.io/examples/vision/video_classification/"
   ]
  },
  {
   "cell_type": "code",
   "execution_count": 9,
   "id": "12d99167",
   "metadata": {
    "ExecuteTime": {
     "end_time": "2023-03-05T05:59:49.551253Z",
     "start_time": "2023-03-05T05:59:49.541467Z"
    }
   },
   "outputs": [],
   "source": [
    "# Utility for our sequence model.\n",
    "def get_sequence_model(max_frames: int, num_features: int):\n",
    "    n_classes = 250\n",
    "\n",
    "    frame_features_input = tf.keras.Input((max_frames, num_features))\n",
    "    mask_input = tf.keras.Input((max_frames,), dtype='bool')\n",
    "\n",
    "    # Why `mask`: https://keras.io/api/layers/recurrent_layers/gru/\n",
    "    x = tf.keras.layers.GRU(32, return_sequences=True)(\n",
    "        frame_features_input, mask=mask_input\n",
    "    )\n",
    "    x = tf.keras.layers.GRU(16)(x)\n",
    "    x = tf.keras.layers.Dense(64, activation='relu')(x)\n",
    "    output = tf.keras.layers.Dense(n_classes, activation='softmax')(x)\n",
    "\n",
    "    rnn_model = tf.keras.Model([frame_features_input, mask_input], output)\n",
    "\n",
    "    rnn_model.compile(\n",
    "        loss='sparse_categorical_crossentropy',\n",
    "        optimizer='adam',\n",
    "        metrics=['accuracy'],\n",
    "    )\n",
    "    return rnn_model"
   ]
  },
  {
   "cell_type": "code",
   "execution_count": 10,
   "id": "b8289a09",
   "metadata": {
    "ExecuteTime": {
     "end_time": "2023-03-05T05:59:49.566849Z",
     "start_time": "2023-03-05T05:59:49.552998Z"
    },
    "code_folding": []
   },
   "outputs": [],
   "source": [
    "def run_experiment(\n",
    "    model,\n",
    "    train_data,\n",
    "    train_labels,\n",
    "    validation_data = None,\n",
    "    validation_split: int = 0.2,\n",
    "    model_path: str = 'temp',\n",
    "    epochs: int = 10,\n",
    "    batch_size: int = 128,\n",
    "    monitor_metric: str = 'val_accuracy',\n",
    "    patience: int = 6,\n",
    "):\n",
    "    print(model.summary())\n",
    "    checkpoint = [\n",
    "        tf.keras.callbacks.ModelCheckpoint(\n",
    "            model_path,\n",
    "            save_weights_only=True,\n",
    "            save_best_only=True,\n",
    "        ),\n",
    "        tf.keras.callbacks.EarlyStopping(\n",
    "            monitor=monitor_metric,\n",
    "            patience=patience,\n",
    "            restore_best_weights=True,\n",
    "        ),\n",
    "    ]\n",
    "        \n",
    "    fit_params = dict(\n",
    "        x=train_data,\n",
    "        y=train_labels,\n",
    "        epochs=epochs,\n",
    "        batch_size=batch_size,\n",
    "    )\n",
    "    if validation_data:\n",
    "        fit_params['validation_data'] = validation_data\n",
    "    else:\n",
    "        fit_params['validation_split'] = validation_split\n",
    "\n",
    "    history = model.fit(\n",
    "        **fit_params,\n",
    "        callbacks=checkpoint,\n",
    "    )\n",
    "\n",
    "    return model, history"
   ]
  },
  {
   "cell_type": "markdown",
   "id": "6dfa7ae1",
   "metadata": {},
   "source": [
    "## Experiment"
   ]
  },
  {
   "cell_type": "code",
   "execution_count": 11,
   "id": "27dc5378",
   "metadata": {
    "ExecuteTime": {
     "end_time": "2023-03-05T05:59:51.238137Z",
     "start_time": "2023-03-05T05:59:49.567961Z"
    }
   },
   "outputs": [
    {
     "name": "stderr",
     "output_type": "stream",
     "text": [
      "2023-03-04 21:59:49.644970: I tensorflow/stream_executor/cuda/cuda_gpu_executor.cc:980] successful NUMA node read from SysFS had negative value (-1), but there must be at least one NUMA node, so returning NUMA node zero\n",
      "2023-03-04 21:59:49.650575: I tensorflow/stream_executor/cuda/cuda_gpu_executor.cc:980] successful NUMA node read from SysFS had negative value (-1), but there must be at least one NUMA node, so returning NUMA node zero\n",
      "2023-03-04 21:59:49.650800: I tensorflow/stream_executor/cuda/cuda_gpu_executor.cc:980] successful NUMA node read from SysFS had negative value (-1), but there must be at least one NUMA node, so returning NUMA node zero\n",
      "2023-03-04 21:59:49.651400: I tensorflow/core/platform/cpu_feature_guard.cc:193] This TensorFlow binary is optimized with oneAPI Deep Neural Network Library (oneDNN) to use the following CPU instructions in performance-critical operations:  AVX2 FMA\n",
      "To enable them in other operations, rebuild TensorFlow with the appropriate compiler flags.\n",
      "2023-03-04 21:59:49.654487: I tensorflow/stream_executor/cuda/cuda_gpu_executor.cc:980] successful NUMA node read from SysFS had negative value (-1), but there must be at least one NUMA node, so returning NUMA node zero\n",
      "2023-03-04 21:59:49.654689: I tensorflow/stream_executor/cuda/cuda_gpu_executor.cc:980] successful NUMA node read from SysFS had negative value (-1), but there must be at least one NUMA node, so returning NUMA node zero\n",
      "2023-03-04 21:59:49.654866: I tensorflow/stream_executor/cuda/cuda_gpu_executor.cc:980] successful NUMA node read from SysFS had negative value (-1), but there must be at least one NUMA node, so returning NUMA node zero\n",
      "2023-03-04 21:59:50.049339: I tensorflow/stream_executor/cuda/cuda_gpu_executor.cc:980] successful NUMA node read from SysFS had negative value (-1), but there must be at least one NUMA node, so returning NUMA node zero\n",
      "2023-03-04 21:59:50.049537: I tensorflow/stream_executor/cuda/cuda_gpu_executor.cc:980] successful NUMA node read from SysFS had negative value (-1), but there must be at least one NUMA node, so returning NUMA node zero\n",
      "2023-03-04 21:59:50.049674: I tensorflow/stream_executor/cuda/cuda_gpu_executor.cc:980] successful NUMA node read from SysFS had negative value (-1), but there must be at least one NUMA node, so returning NUMA node zero\n",
      "2023-03-04 21:59:50.049789: I tensorflow/core/common_runtime/gpu/gpu_device.cc:1616] Created device /job:localhost/replica:0/task:0/device:GPU:0 with 21932 MB memory:  -> device: 0, name: NVIDIA GeForce RTX 3090 Ti, pci bus id: 0000:01:00.0, compute capability: 8.6\n"
     ]
    }
   ],
   "source": [
    "model = get_sequence_model(max_frames=MAX_FRAMES, num_features=NUM_FEATURES)"
   ]
  },
  {
   "cell_type": "code",
   "execution_count": 12,
   "id": "5c21d6df",
   "metadata": {
    "ExecuteTime": {
     "end_time": "2023-03-05T05:59:51.252086Z",
     "start_time": "2023-03-05T05:59:51.239374Z"
    }
   },
   "outputs": [
    {
     "name": "stdout",
     "output_type": "stream",
     "text": [
      "Model: \"model\"\n",
      "__________________________________________________________________________________________________\n",
      " Layer (type)                   Output Shape         Param #     Connected to                     \n",
      "==================================================================================================\n",
      " input_1 (InputLayer)           [(None, 20, 1629)]   0           []                               \n",
      "                                                                                                  \n",
      " input_2 (InputLayer)           [(None, 20)]         0           []                               \n",
      "                                                                                                  \n",
      " gru (GRU)                      (None, 20, 32)       159648      ['input_1[0][0]',                \n",
      "                                                                  'input_2[0][0]']                \n",
      "                                                                                                  \n",
      " gru_1 (GRU)                    (None, 16)           2400        ['gru[0][0]']                    \n",
      "                                                                                                  \n",
      " dense (Dense)                  (None, 64)           1088        ['gru_1[0][0]']                  \n",
      "                                                                                                  \n",
      " dense_1 (Dense)                (None, 250)          16250       ['dense[0][0]']                  \n",
      "                                                                                                  \n",
      "==================================================================================================\n",
      "Total params: 179,386\n",
      "Trainable params: 179,386\n",
      "Non-trainable params: 0\n",
      "__________________________________________________________________________________________________\n"
     ]
    }
   ],
   "source": [
    "model.summary()"
   ]
  },
  {
   "cell_type": "code",
   "execution_count": 13,
   "id": "1f5a692f",
   "metadata": {
    "ExecuteTime": {
     "end_time": "2023-03-05T06:29:57.469677Z",
     "start_time": "2023-03-05T05:59:51.253141Z"
    },
    "scrolled": true
   },
   "outputs": [
    {
     "name": "stdout",
     "output_type": "stream",
     "text": [
      "Model: \"model\"\n",
      "__________________________________________________________________________________________________\n",
      " Layer (type)                   Output Shape         Param #     Connected to                     \n",
      "==================================================================================================\n",
      " input_1 (InputLayer)           [(None, 20, 1629)]   0           []                               \n",
      "                                                                                                  \n",
      " input_2 (InputLayer)           [(None, 20)]         0           []                               \n",
      "                                                                                                  \n",
      " gru (GRU)                      (None, 20, 32)       159648      ['input_1[0][0]',                \n",
      "                                                                  'input_2[0][0]']                \n",
      "                                                                                                  \n",
      " gru_1 (GRU)                    (None, 16)           2400        ['gru[0][0]']                    \n",
      "                                                                                                  \n",
      " dense (Dense)                  (None, 64)           1088        ['gru_1[0][0]']                  \n",
      "                                                                                                  \n",
      " dense_1 (Dense)                (None, 250)          16250       ['dense[0][0]']                  \n",
      "                                                                                                  \n",
      "==================================================================================================\n",
      "Total params: 179,386\n",
      "Trainable params: 179,386\n",
      "Non-trainable params: 0\n",
      "__________________________________________________________________________________________________\n",
      "None\n"
     ]
    },
    {
     "name": "stderr",
     "output_type": "stream",
     "text": [
      "2023-03-04 21:59:53.202408: W tensorflow/core/framework/cpu_allocator_impl.cc:82] Allocation of 9849715920 exceeds 10% of free system memory.\n",
      "2023-03-04 21:59:57.439031: W tensorflow/core/framework/cpu_allocator_impl.cc:82] Allocation of 9849715920 exceeds 10% of free system memory.\n"
     ]
    },
    {
     "name": "stdout",
     "output_type": "stream",
     "text": [
      "Epoch 1/200\n"
     ]
    },
    {
     "name": "stderr",
     "output_type": "stream",
     "text": [
      "2023-03-04 22:00:04.027652: W tensorflow/core/common_runtime/forward_type_inference.cc:332] Type inference failed. This indicates an invalid graph that escaped type checking. Error message: INVALID_ARGUMENT: expected compatible input types, but input 1:\n",
      "type_id: TFT_OPTIONAL\n",
      "args {\n",
      "  type_id: TFT_PRODUCT\n",
      "  args {\n",
      "    type_id: TFT_TENSOR\n",
      "    args {\n",
      "      type_id: TFT_INT32\n",
      "    }\n",
      "  }\n",
      "}\n",
      " is neither a subtype nor a supertype of the combined inputs preceding it:\n",
      "type_id: TFT_OPTIONAL\n",
      "args {\n",
      "  type_id: TFT_PRODUCT\n",
      "  args {\n",
      "    type_id: TFT_TENSOR\n",
      "    args {\n",
      "      type_id: TFT_INT8\n",
      "    }\n",
      "  }\n",
      "}\n",
      "\n",
      "\twhile inferring type of node 'cond_41/output/_22'\n",
      "2023-03-04 22:00:04.661381: I tensorflow/stream_executor/cuda/cuda_dnn.cc:384] Loaded cuDNN version 8100\n",
      "2023-03-04 22:00:05.454788: I tensorflow/stream_executor/cuda/cuda_blas.cc:1614] TensorFloat-32 will be used for the matrix multiplication. This will only be logged once.\n"
     ]
    },
    {
     "name": "stdout",
     "output_type": "stream",
     "text": [
      "2362/2362 [==============================] - 34s 12ms/step - loss: 5.5126 - accuracy: 0.0047 - val_loss: 5.4952 - val_accuracy: 0.0050\n",
      "Epoch 2/200\n",
      "2362/2362 [==============================] - 25s 11ms/step - loss: 5.4835 - accuracy: 0.0056 - val_loss: 5.4831 - val_accuracy: 0.0051\n",
      "Epoch 3/200\n",
      "2362/2362 [==============================] - 25s 10ms/step - loss: 5.4103 - accuracy: 0.0077 - val_loss: 5.3279 - val_accuracy: 0.0092\n",
      "Epoch 4/200\n",
      "2362/2362 [==============================] - 25s 11ms/step - loss: 5.2696 - accuracy: 0.0122 - val_loss: 5.2587 - val_accuracy: 0.0139\n",
      "Epoch 5/200\n",
      "2362/2362 [==============================] - 25s 11ms/step - loss: 5.1502 - accuracy: 0.0184 - val_loss: 5.1217 - val_accuracy: 0.0210\n",
      "Epoch 6/200\n",
      "2362/2362 [==============================] - 25s 11ms/step - loss: 5.0223 - accuracy: 0.0256 - val_loss: 4.9887 - val_accuracy: 0.0293\n",
      "Epoch 7/200\n",
      "2362/2362 [==============================] - 25s 11ms/step - loss: 4.9293 - accuracy: 0.0305 - val_loss: 4.8859 - val_accuracy: 0.0350\n",
      "Epoch 8/200\n",
      "2362/2362 [==============================] - 25s 11ms/step - loss: 4.8456 - accuracy: 0.0365 - val_loss: 4.8264 - val_accuracy: 0.0385\n",
      "Epoch 9/200\n",
      "2362/2362 [==============================] - 25s 11ms/step - loss: 4.7818 - accuracy: 0.0412 - val_loss: 4.7989 - val_accuracy: 0.0432\n",
      "Epoch 10/200\n",
      "2362/2362 [==============================] - 25s 11ms/step - loss: 4.7288 - accuracy: 0.0464 - val_loss: 4.7561 - val_accuracy: 0.0449\n",
      "Epoch 11/200\n",
      "2362/2362 [==============================] - 25s 11ms/step - loss: 4.6751 - accuracy: 0.0500 - val_loss: 4.6714 - val_accuracy: 0.0569\n",
      "Epoch 12/200\n",
      "2362/2362 [==============================] - 25s 11ms/step - loss: 4.6315 - accuracy: 0.0548 - val_loss: 4.7071 - val_accuracy: 0.0481\n",
      "Epoch 13/200\n",
      "2362/2362 [==============================] - 25s 11ms/step - loss: 4.5912 - accuracy: 0.0578 - val_loss: 4.5885 - val_accuracy: 0.0599\n",
      "Epoch 14/200\n",
      "2362/2362 [==============================] - 25s 11ms/step - loss: 4.5429 - accuracy: 0.0627 - val_loss: 4.5891 - val_accuracy: 0.0633\n",
      "Epoch 15/200\n",
      "2362/2362 [==============================] - 25s 11ms/step - loss: 4.4861 - accuracy: 0.0698 - val_loss: 4.5312 - val_accuracy: 0.0683\n",
      "Epoch 16/200\n",
      "2362/2362 [==============================] - 26s 11ms/step - loss: 4.4301 - accuracy: 0.0756 - val_loss: 4.4900 - val_accuracy: 0.0695\n",
      "Epoch 17/200\n",
      "2362/2362 [==============================] - 26s 11ms/step - loss: 4.3754 - accuracy: 0.0815 - val_loss: 4.3799 - val_accuracy: 0.0866\n",
      "Epoch 18/200\n",
      "2362/2362 [==============================] - 25s 11ms/step - loss: 4.3061 - accuracy: 0.0909 - val_loss: 4.2706 - val_accuracy: 0.0989\n",
      "Epoch 19/200\n",
      "2362/2362 [==============================] - 25s 11ms/step - loss: 4.2193 - accuracy: 0.1020 - val_loss: 4.2236 - val_accuracy: 0.0995\n",
      "Epoch 20/200\n",
      "2362/2362 [==============================] - 25s 11ms/step - loss: 4.1464 - accuracy: 0.1083 - val_loss: 4.1498 - val_accuracy: 0.1099\n",
      "Epoch 21/200\n",
      "2362/2362 [==============================] - 25s 11ms/step - loss: 4.0613 - accuracy: 0.1183 - val_loss: 4.0549 - val_accuracy: 0.1198\n",
      "Epoch 22/200\n",
      "2362/2362 [==============================] - 25s 11ms/step - loss: 3.9898 - accuracy: 0.1261 - val_loss: 4.0081 - val_accuracy: 0.1281\n",
      "Epoch 23/200\n",
      "2362/2362 [==============================] - 25s 11ms/step - loss: 3.9277 - accuracy: 0.1363 - val_loss: 3.9847 - val_accuracy: 0.1292\n",
      "Epoch 24/200\n",
      "2362/2362 [==============================] - 25s 11ms/step - loss: 3.8837 - accuracy: 0.1421 - val_loss: 3.9557 - val_accuracy: 0.1318\n",
      "Epoch 25/200\n",
      "2362/2362 [==============================] - 25s 11ms/step - loss: 3.8328 - accuracy: 0.1512 - val_loss: 3.9311 - val_accuracy: 0.1361\n",
      "Epoch 26/200\n",
      "2362/2362 [==============================] - 25s 11ms/step - loss: 3.7904 - accuracy: 0.1568 - val_loss: 3.8273 - val_accuracy: 0.1565\n",
      "Epoch 27/200\n",
      "2362/2362 [==============================] - 25s 11ms/step - loss: 3.7563 - accuracy: 0.1631 - val_loss: 3.8269 - val_accuracy: 0.1557\n",
      "Epoch 28/200\n",
      "2362/2362 [==============================] - 25s 11ms/step - loss: 3.7172 - accuracy: 0.1677 - val_loss: 3.7481 - val_accuracy: 0.1716\n",
      "Epoch 29/200\n",
      "2362/2362 [==============================] - 25s 11ms/step - loss: 3.6936 - accuracy: 0.1694 - val_loss: 3.7218 - val_accuracy: 0.1704\n",
      "Epoch 30/200\n",
      "2362/2362 [==============================] - 27s 11ms/step - loss: 3.6605 - accuracy: 0.1766 - val_loss: 3.7156 - val_accuracy: 0.1744\n",
      "Epoch 31/200\n",
      "2362/2362 [==============================] - 25s 11ms/step - loss: 3.6338 - accuracy: 0.1825 - val_loss: 3.7498 - val_accuracy: 0.1674\n",
      "Epoch 32/200\n",
      "2362/2362 [==============================] - 26s 11ms/step - loss: 3.6060 - accuracy: 0.1856 - val_loss: 3.6463 - val_accuracy: 0.1853\n",
      "Epoch 33/200\n",
      "2362/2362 [==============================] - 25s 11ms/step - loss: 3.5792 - accuracy: 0.1891 - val_loss: 3.6837 - val_accuracy: 0.1780\n",
      "Epoch 34/200\n",
      "2362/2362 [==============================] - 26s 11ms/step - loss: 3.5623 - accuracy: 0.1923 - val_loss: 3.6359 - val_accuracy: 0.1874\n",
      "Epoch 35/200\n",
      "2362/2362 [==============================] - 26s 11ms/step - loss: 3.5323 - accuracy: 0.1977 - val_loss: 3.6092 - val_accuracy: 0.1944\n",
      "Epoch 36/200\n",
      "2362/2362 [==============================] - 26s 11ms/step - loss: 3.5205 - accuracy: 0.1987 - val_loss: 3.5706 - val_accuracy: 0.1989\n",
      "Epoch 37/200\n",
      "2362/2362 [==============================] - 26s 11ms/step - loss: 3.5035 - accuracy: 0.2008 - val_loss: 3.5961 - val_accuracy: 0.1960\n",
      "Epoch 38/200\n",
      "2362/2362 [==============================] - 26s 11ms/step - loss: 3.4722 - accuracy: 0.2069 - val_loss: 3.5545 - val_accuracy: 0.1994\n",
      "Epoch 39/200\n",
      "2362/2362 [==============================] - 26s 11ms/step - loss: 3.4544 - accuracy: 0.2111 - val_loss: 3.6246 - val_accuracy: 0.1862\n",
      "Epoch 40/200\n",
      "2362/2362 [==============================] - 26s 11ms/step - loss: 3.4373 - accuracy: 0.2147 - val_loss: 3.5037 - val_accuracy: 0.2137\n",
      "Epoch 41/200\n",
      "2362/2362 [==============================] - 26s 11ms/step - loss: 3.4134 - accuracy: 0.2190 - val_loss: 3.6641 - val_accuracy: 0.1807\n",
      "Epoch 42/200\n",
      "2362/2362 [==============================] - 26s 11ms/step - loss: 3.4003 - accuracy: 0.2202 - val_loss: 3.5306 - val_accuracy: 0.2070\n",
      "Epoch 43/200\n",
      "2362/2362 [==============================] - 26s 11ms/step - loss: 3.3736 - accuracy: 0.2247 - val_loss: 3.4591 - val_accuracy: 0.2194\n",
      "Epoch 44/200\n",
      "2362/2362 [==============================] - 26s 11ms/step - loss: 3.3584 - accuracy: 0.2290 - val_loss: 3.4651 - val_accuracy: 0.2198\n",
      "Epoch 45/200\n",
      "2362/2362 [==============================] - 25s 11ms/step - loss: 3.3556 - accuracy: 0.2278 - val_loss: 3.5376 - val_accuracy: 0.2103\n",
      "Epoch 46/200\n",
      "2362/2362 [==============================] - 26s 11ms/step - loss: 3.3341 - accuracy: 0.2334 - val_loss: 3.4957 - val_accuracy: 0.2131\n",
      "Epoch 47/200\n",
      "2362/2362 [==============================] - 25s 11ms/step - loss: 3.3139 - accuracy: 0.2367 - val_loss: 3.5912 - val_accuracy: 0.1971\n",
      "Epoch 48/200\n",
      "2362/2362 [==============================] - 26s 11ms/step - loss: 3.3023 - accuracy: 0.2395 - val_loss: 3.4080 - val_accuracy: 0.2337\n",
      "Epoch 49/200\n",
      "2362/2362 [==============================] - 26s 11ms/step - loss: 3.2826 - accuracy: 0.2438 - val_loss: 3.4815 - val_accuracy: 0.2174\n",
      "Epoch 50/200\n",
      "2362/2362 [==============================] - 26s 11ms/step - loss: 3.2684 - accuracy: 0.2454 - val_loss: 3.3990 - val_accuracy: 0.2327\n",
      "Epoch 51/200\n",
      "2362/2362 [==============================] - 26s 11ms/step - loss: 3.2608 - accuracy: 0.2461 - val_loss: 3.3712 - val_accuracy: 0.2385\n",
      "Epoch 52/200\n",
      "2362/2362 [==============================] - 25s 11ms/step - loss: 3.2499 - accuracy: 0.2473 - val_loss: 3.3334 - val_accuracy: 0.2470\n",
      "Epoch 53/200\n",
      "2362/2362 [==============================] - 26s 11ms/step - loss: 3.2350 - accuracy: 0.2516 - val_loss: 3.3795 - val_accuracy: 0.2381\n",
      "Epoch 54/200\n",
      "2362/2362 [==============================] - 25s 11ms/step - loss: 3.2248 - accuracy: 0.2528 - val_loss: 3.3646 - val_accuracy: 0.2423\n",
      "Epoch 55/200\n",
      "2362/2362 [==============================] - 26s 11ms/step - loss: 3.2089 - accuracy: 0.2557 - val_loss: 3.3574 - val_accuracy: 0.2417\n",
      "Epoch 56/200\n"
     ]
    },
    {
     "name": "stdout",
     "output_type": "stream",
     "text": [
      "2362/2362 [==============================] - 25s 11ms/step - loss: 3.1927 - accuracy: 0.2585 - val_loss: 3.3144 - val_accuracy: 0.2510\n",
      "Epoch 57/200\n",
      "2362/2362 [==============================] - 26s 11ms/step - loss: 3.1877 - accuracy: 0.2603 - val_loss: 3.5952 - val_accuracy: 0.2015\n",
      "Epoch 58/200\n",
      "2362/2362 [==============================] - 26s 11ms/step - loss: 3.1750 - accuracy: 0.2617 - val_loss: 3.3145 - val_accuracy: 0.2538\n",
      "Epoch 59/200\n",
      "2362/2362 [==============================] - 25s 11ms/step - loss: 3.1638 - accuracy: 0.2655 - val_loss: 3.3175 - val_accuracy: 0.2502\n",
      "Epoch 60/200\n",
      "2362/2362 [==============================] - 26s 11ms/step - loss: 3.1541 - accuracy: 0.2662 - val_loss: 3.5442 - val_accuracy: 0.2122\n",
      "Epoch 61/200\n",
      "2362/2362 [==============================] - 26s 11ms/step - loss: 3.1442 - accuracy: 0.2659 - val_loss: 3.3610 - val_accuracy: 0.2394\n",
      "Epoch 62/200\n",
      "2362/2362 [==============================] - 27s 11ms/step - loss: 3.1302 - accuracy: 0.2728 - val_loss: 3.2541 - val_accuracy: 0.2656\n",
      "Epoch 63/200\n",
      "2362/2362 [==============================] - 26s 11ms/step - loss: 3.1302 - accuracy: 0.2707 - val_loss: 3.4795 - val_accuracy: 0.2194\n",
      "Epoch 64/200\n",
      "2362/2362 [==============================] - 26s 11ms/step - loss: 3.1175 - accuracy: 0.2730 - val_loss: 3.2817 - val_accuracy: 0.2556\n",
      "Epoch 65/200\n",
      "2362/2362 [==============================] - 26s 11ms/step - loss: 3.1085 - accuracy: 0.2744 - val_loss: 3.2937 - val_accuracy: 0.2550\n",
      "Epoch 66/200\n",
      "2362/2362 [==============================] - 25s 11ms/step - loss: 3.1055 - accuracy: 0.2740 - val_loss: 3.3483 - val_accuracy: 0.2483\n",
      "Epoch 67/200\n",
      "2362/2362 [==============================] - 26s 11ms/step - loss: 3.0968 - accuracy: 0.2771 - val_loss: 3.2500 - val_accuracy: 0.2603\n",
      "Epoch 68/200\n",
      "2362/2362 [==============================] - 26s 11ms/step - loss: 3.0862 - accuracy: 0.2793 - val_loss: 3.2699 - val_accuracy: 0.2599\n",
      "Epoch 69/200\n",
      "2362/2362 [==============================] - 26s 11ms/step - loss: 3.0788 - accuracy: 0.2807 - val_loss: 3.2916 - val_accuracy: 0.2574\n",
      "Epoch 70/200\n",
      "2362/2362 [==============================] - 26s 11ms/step - loss: 3.0632 - accuracy: 0.2826 - val_loss: 3.2935 - val_accuracy: 0.2575\n"
     ]
    }
   ],
   "source": [
    "model, history = run_experiment(\n",
    "    model=model,\n",
    "    train_data=[X, All_masks],\n",
    "    train_labels=y,\n",
    "    validation_split=0.2,\n",
    "    model_path='model_test-rnn.h5',\n",
    "    batch_size=32,\n",
    "    epochs=200,\n",
    "    patience=8,\n",
    ")"
   ]
  },
  {
   "cell_type": "markdown",
   "id": "fd97a6ba",
   "metadata": {},
   "source": [
    "### Plot Results"
   ]
  },
  {
   "cell_type": "code",
   "execution_count": 14,
   "id": "13752abc",
   "metadata": {
    "ExecuteTime": {
     "end_time": "2023-03-05T06:29:57.715076Z",
     "start_time": "2023-03-05T06:29:57.471726Z"
    }
   },
   "outputs": [
    {
     "data": {
      "image/png": "[encoded data removed]",
      "text/plain": [
       "<Figure size 640x480 with 1 Axes>"
      ]
     },
     "metadata": {},
     "output_type": "display_data"
    },
    {
     "data": {
      "image/png": "[encoded data removed]",
      "text/plain": [
       "<Figure size 640x480 with 1 Axes>"
      ]
     },
     "metadata": {},
     "output_type": "display_data"
    }
   ],
   "source": [
    "# summarize history for accuracy\n",
    "plt.plot(history.history['accuracy'])\n",
    "plt.plot(history.history['val_accuracy'])\n",
    "plt.title('model accuracy')\n",
    "plt.ylabel('accuracy')\n",
    "plt.xlabel('epoch')\n",
    "plt.legend(['train', 'test'], loc='upper left')\n",
    "plt.savefig('')\n",
    "plt.show()\n",
    "\n",
    "# summarize history for loss\n",
    "plt.plot(history.history['loss'])\n",
    "plt.plot(history.history['val_loss'])\n",
    "plt.title('model loss')\n",
    "plt.ylabel('loss')\n",
    "plt.xlabel('epoch')\n",
    "plt.legend(['train', 'test'], loc='upper left')\n",
    "plt.show()"
   ]
  }
 ],
 "metadata": {
  "kernelspec": {
   "display_name": "Python 3 (ipykernel)",
   "language": "python",
   "name": "python3"
  },
  "language_info": {
   "codemirror_mode": {
    "name": "ipython",
    "version": 3
   },
   "file_extension": ".py",
   "mimetype": "text/x-python",
   "name": "python",
   "nbconvert_exporter": "python",
   "pygments_lexer": "ipython3",
   "version": "3.9.15"
  },
  "toc": {
   "base_numbering": 1,
   "nav_menu": {
    "height": "141px",
    "width": "317px"
   },
   "number_sections": true,
   "sideBar": true,
   "skip_h1_title": false,
   "title_cell": "Table of Contents",
   "title_sidebar": "Contents",
   "toc_cell": false,
   "toc_position": {},
   "toc_section_display": true,
   "toc_window_display": false
  }
 },
 "nbformat": 4,
 "nbformat_minor": 5
}
