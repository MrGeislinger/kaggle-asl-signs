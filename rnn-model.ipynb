{
 "cells": [
  {
   "cell_type": "code",
   "execution_count": 1,
   "id": "6a0ff53c",
   "metadata": {
    "ExecuteTime": {
     "end_time": "2023-03-05T21:15:03.703512Z",
     "start_time": "2023-03-05T21:15:01.730007Z"
    }
   },
   "outputs": [
    {
     "name": "stderr",
     "output_type": "stream",
     "text": [
      "2023-03-05 13:15:02.007265: I tensorflow/core/platform/cpu_feature_guard.cc:193] This TensorFlow binary is optimized with oneAPI Deep Neural Network Library (oneDNN) to use the following CPU instructions in performance-critical operations:  AVX2 FMA\n",
      "To enable them in other operations, rebuild TensorFlow with the appropriate compiler flags.\n",
      "2023-03-05 13:15:02.151816: E tensorflow/stream_executor/cuda/cuda_blas.cc:2981] Unable to register cuBLAS factory: Attempting to register factory for plugin cuBLAS when one has already been registered\n",
      "2023-03-05 13:15:02.613931: W tensorflow/stream_executor/platform/default/dso_loader.cc:64] Could not load dynamic library 'libnvinfer.so.7'; dlerror: libnvinfer.so.7: cannot open shared object file: No such file or directory; LD_LIBRARY_PATH: :/home/victor/miniconda3/envs/tf/lib/:/home/victor/miniconda3/envs/tf/lib/:/home/victor/miniconda3/envs/tf/lib/\n",
      "2023-03-05 13:15:02.613990: W tensorflow/stream_executor/platform/default/dso_loader.cc:64] Could not load dynamic library 'libnvinfer_plugin.so.7'; dlerror: libnvinfer_plugin.so.7: cannot open shared object file: No such file or directory; LD_LIBRARY_PATH: :/home/victor/miniconda3/envs/tf/lib/:/home/victor/miniconda3/envs/tf/lib/:/home/victor/miniconda3/envs/tf/lib/\n",
      "2023-03-05 13:15:02.613994: W tensorflow/compiler/tf2tensorrt/utils/py_utils.cc:38] TF-TRT Warning: Cannot dlopen some TensorRT libraries. If you would like to use Nvidia GPU with TensorRT, please make sure the missing libraries mentioned above are installed properly.\n"
     ]
    }
   ],
   "source": [
    "import os\n",
    "import json\n",
    "import numpy as np\n",
    "import pandas as pd\n",
    "from tqdm import tqdm\n",
    "import tensorflow as tf\n",
    "from tqdm import tqdm\n",
    "import json\n",
    "from sklearn.model_selection import train_test_split\n",
    "import matplotlib.pyplot as plt\n",
    "from pathlib import Path"
   ]
  },
  {
   "cell_type": "code",
   "execution_count": 2,
   "id": "19c7db3e",
   "metadata": {
    "ExecuteTime": {
     "end_time": "2023-03-05T21:15:03.768016Z",
     "start_time": "2023-03-05T21:15:03.705232Z"
    },
    "code_folding": [
     7,
     15,
     23,
     30
    ]
   },
   "outputs": [
    {
     "name": "stdout",
     "output_type": "stream",
     "text": [
      "train.shape = 94477 rows, 4 cols\n"
     ]
    }
   ],
   "source": [
    "DATA_ROOT = Path('..')\n",
    "DF_TRAIN = DATA_ROOT / 'train.csv'\n",
    "train = pd.read_csv(DF_TRAIN)\n",
    "\n",
    "print(\"train.shape = {} rows, {} cols\".format(*train.shape))\n",
    "\n",
    "\n",
    "class CFG:\n",
    "    data_path = \"../\"\n",
    "    quick_experiment = False\n",
    "    is_training = True\n",
    "    use_aggregation_dataset = True\n",
    "    num_classes = 250\n",
    "    rows_per_frame = 543 \n",
    "\n",
    "def load_relevant_data_subset_with_imputation(pq_path):\n",
    "    data_columns = ['x', 'y', 'z']\n",
    "    data = pd.read_parquet(pq_path, columns=data_columns)\n",
    "    data.replace(np.nan, 0, inplace=True)\n",
    "    n_frames = int(len(data) / CFG.rows_per_frame)\n",
    "    data = data.values.reshape(n_frames, CFG.rows_per_frame, len(data_columns))\n",
    "    return data.astype(np.float32)\n",
    "\n",
    "def load_relevant_data_subset(pq_path):\n",
    "    data_columns = ['x', 'y', 'z']\n",
    "    data = pd.read_parquet(pq_path, columns=data_columns)\n",
    "    n_frames = int(len(data) / CFG.rows_per_frame)\n",
    "    data = data.values.reshape(n_frames, CFG.rows_per_frame, len(data_columns))\n",
    "    return data.astype(np.float32)\n",
    "\n",
    "def read_dict(file_path):\n",
    "    path = os.path.expanduser(file_path)\n",
    "    with open(path, \"r\") as f:\n",
    "        dic = json.load(f)\n",
    "    return dic"
   ]
  },
  {
   "cell_type": "code",
   "execution_count": 3,
   "id": "4cafb3e8",
   "metadata": {
    "ExecuteTime": {
     "end_time": "2023-03-05T21:15:03.849628Z",
     "start_time": "2023-03-05T21:15:03.769395Z"
    }
   },
   "outputs": [],
   "source": [
    "train = pd.read_csv(f\"{CFG.data_path}train.csv\")\n",
    "label_index = read_dict(f\"{CFG.data_path}sign_to_prediction_index_map.json\")\n",
    "index_label = {label_index[key]: key for key in label_index}\n",
    "train[\"label\"] = train[\"sign\"].map(lambda sign: label_index[sign])"
   ]
  },
  {
   "cell_type": "code",
   "execution_count": 4,
   "id": "1d86fd02",
   "metadata": {
    "ExecuteTime": {
     "end_time": "2023-03-05T21:15:03.855733Z",
     "start_time": "2023-03-05T21:15:03.851462Z"
    },
    "code_folding": []
   },
   "outputs": [],
   "source": [
    "def load_frames(\n",
    "    frames_data,\n",
    "    max_frames: int = 20,\n",
    "    crop_method: str = 'nearest',\n",
    "    get_masks: bool = True,\n",
    "):\n",
    "    '''Take frames data shape=(n_frames, pts, dims) to fixed num of frames.\n",
    "    \n",
    "    - Pads data with fewer frames with zeros\n",
    "    - Reduces max number of allowed frames by crop method:\n",
    "        * 'nearest' (default): \n",
    "    '''\n",
    "    \n",
    "    if len(frames_data) < max_frames:\n",
    "        diff = max_frames - len(frames_data)\n",
    "        padding = np.zeros((diff, 543, 3))\n",
    "        frames = np.concatenate((frames_data, padding))\n",
    "        if get_masks:\n",
    "            # Only mask the padding\n",
    "            masks = np.zeros(shape=(1, max_frames,), dtype='bool')\n",
    "            masks[0,:len(frames_data)] = 1\n",
    "            \n",
    "    else:\n",
    "        if crop_method == 'nearest':\n",
    "            frames = tf.image.resize(\n",
    "                frames_data,\n",
    "                (max_frames, 543),\n",
    "                method='nearest',\n",
    "            ).numpy()\n",
    "        elif crop_method == 'cut':\n",
    "            frames = frames_data[:max_frames]\n",
    "        else:\n",
    "            raise Exception(f'{crop_method=} not found')\n",
    "        if get_masks:\n",
    "            # Use all the frames\n",
    "            masks = np.ones(shape=(1, max_frames,), dtype='bool')\n",
    "\n",
    "    if get_masks:\n",
    "        return frames, masks\n",
    "    else:\n",
    "        return frames"
   ]
  },
  {
   "cell_type": "code",
   "execution_count": 5,
   "id": "44bc36c0",
   "metadata": {
    "ExecuteTime": {
     "end_time": "2023-03-05T21:15:03.870247Z",
     "start_time": "2023-03-05T21:15:03.856760Z"
    },
    "code_folding": []
   },
   "outputs": [],
   "source": [
    "def compress_frames(frames):\n",
    "    '''Make a video of shape (n_frames, pts, dims) --> (n_frames, pts*dims) '''\n",
    "    n_frames = frames.shape[0]\n",
    "    columns = frames.shape[1]*frames.shape[2]\n",
    "    return frames.reshape(n_frames, columns)"
   ]
  },
  {
   "cell_type": "code",
   "execution_count": 6,
   "id": "a0304415",
   "metadata": {
    "ExecuteTime": {
     "end_time": "2023-03-05T21:15:08.096072Z",
     "start_time": "2023-03-05T21:15:03.871463Z"
    },
    "code_folding": []
   },
   "outputs": [
    {
     "name": "stdout",
     "output_type": "stream",
     "text": [
      "(94477, 20, 1629) (94477,)\n"
     ]
    }
   ],
   "source": [
    "# Hyperparams\n",
    "MAX_FRAMES = 20\n",
    "MAX_SEQ_LENGTH = MAX_FRAMES\n",
    "N_PTS = 543\n",
    "N_DIMS = 3\n",
    "NUM_FEATURES = N_PTS*N_DIMS\n",
    "\n",
    "X_npy_fname = f'X-{MAX_FRAMES}_frames-pts_flattened.npy'\n",
    "y_npy_fname = f'y.npy'\n",
    "masks_fname = f'all_masks-{MAX_FRAMES}.npy'\n",
    "\n",
    "if CFG.is_training:\n",
    "    try:\n",
    "        X = np.load(X_npy_fname)\n",
    "        All_masks = np.load(masks_fname)\n",
    "        y = np.load(y_npy_fname)\n",
    "    except:\n",
    "        X = np.zeros((len(train), MAX_FRAMES, N_PTS*N_DIMS))\n",
    "        All_masks = np.zeros(shape=(len(train), MAX_FRAMES), dtype='bool')\n",
    "        y = np.zeros((len(train),))\n",
    "        num_frames = np.zeros(len(train))\n",
    "        for i in tqdm(range(len(train))):\n",
    "            path = f\"{CFG.data_path}{train.iloc[i].path}\"\n",
    "            data = load_relevant_data_subset_with_imputation(path)\n",
    "            ## Mean Aggregation\n",
    "            frames_reduced, masks = load_frames(data, max_frames=MAX_FRAMES)\n",
    "            data_resize = compress_frames(frames_reduced)\n",
    "            X[i] = data_resize\n",
    "            All_masks[i] = masks\n",
    "            y[i] = train.iloc[i].label\n",
    "            num_frames[i] = data.shape[0]\n",
    "        ## Save number of frames of each training sample for data analysis\n",
    "        train['num_frames'] = num_frames\n",
    "        print(train['num_frames'].describe())\n",
    "        train.to_csv('train.csv', index=False)\n",
    "        np.save(X_npy_fname, X)\n",
    "        np.save(y_npy_fname, y)\n",
    "        np.save(masks_fname, All_masks)\n",
    "\n",
    "    print(X.shape, y.shape)"
   ]
  },
  {
   "cell_type": "code",
   "execution_count": 7,
   "id": "401be3ac",
   "metadata": {
    "ExecuteTime": {
     "end_time": "2023-03-05T21:15:11.679993Z",
     "start_time": "2023-03-05T21:15:08.097580Z"
    }
   },
   "outputs": [
    {
     "name": "stdout",
     "output_type": "stream",
     "text": [
      "(75581, 20, 1629) (75581,) (75581, 20) (18896, 20, 1629) (18896,) (18896, 20)\n"
     ]
    }
   ],
   "source": [
    "# All_masks as part of split\n",
    "X_train, X_val, M_train, M_val, y_train, y_val = train_test_split(\n",
    "    X, All_masks, y,\n",
    "    test_size=0.2,\n",
    "    random_state=27,\n",
    "    stratify=y,\n",
    ")\n",
    "print(X_train.shape, y_train.shape, M_train.shape, X_val.shape, y_val.shape, M_val.shape)"
   ]
  },
  {
   "cell_type": "code",
   "execution_count": 8,
   "id": "82e20807",
   "metadata": {
    "ExecuteTime": {
     "end_time": "2023-03-05T21:15:24.255491Z",
     "start_time": "2023-03-05T21:15:11.681485Z"
    }
   },
   "outputs": [],
   "source": [
    "mirror = True\n",
    "\n",
    "if mirror:# Double the training data by mirroring the coordinates over the x-axis\n",
    "    # Mirror x-axis of features\n",
    "    X_temp = np.zeros(\n",
    "        shape=(X_train.shape[0]*2, *X_train.shape[1:]),\n",
    "    )\n",
    "    X_temp[:X_train.shape[0]] = X_train\n",
    "    X_temp[X_train.shape[0]:] = X_train\n",
    "    X_temp[X_train.shape[0]:,:,0] *= -1 \n",
    "    X_train = X_temp\n",
    "    #\n",
    "    y_temp = np.zeros(\n",
    "        shape=(y_train.shape[0]*2,),\n",
    "    )\n",
    "    y_temp[:y_train.shape[0]] = y_train\n",
    "    y_temp[y_train.shape[0]:] = y_train\n",
    "    y_train = y_temp\n",
    "    # Simple copy\n",
    "    M_temp = np.zeros(\n",
    "        shape=(M_train.shape[0]*2, M_train.shape[1]),\n",
    "    )\n",
    "    M_temp[:M_train.shape[0]] = M_train\n",
    "    M_temp[M_train.shape[0]:] = M_train\n",
    "    M_train = M_temp\n",
    "    "
   ]
  },
  {
   "cell_type": "markdown",
   "id": "8ba54c41",
   "metadata": {},
   "source": [
    "# RNN Model\n",
    "\n",
    "> https://keras.io/examples/vision/video_classification/"
   ]
  },
  {
   "cell_type": "code",
   "execution_count": 9,
   "id": "12d99167",
   "metadata": {
    "ExecuteTime": {
     "end_time": "2023-03-05T21:15:24.260665Z",
     "start_time": "2023-03-05T21:15:24.256988Z"
    }
   },
   "outputs": [],
   "source": [
    "# Utility for our sequence model.\n",
    "def get_sequence_model(max_frames: int, num_features: int):\n",
    "    n_classes = 250\n",
    "\n",
    "    frame_features_input = tf.keras.Input((max_frames, num_features))\n",
    "    mask_input = tf.keras.Input((max_frames,), dtype='bool')\n",
    "\n",
    "    # Why `mask`: https://keras.io/api/layers/recurrent_layers/gru/\n",
    "    x = tf.keras.layers.GRU(32, return_sequences=True)(\n",
    "        frame_features_input, mask=mask_input\n",
    "    )\n",
    "    x = tf.keras.layers.GRU(16)(x)\n",
    "    x = tf.keras.layers.Dense(64, activation='relu')(x)\n",
    "    output = tf.keras.layers.Dense(n_classes, activation='softmax')(x)\n",
    "\n",
    "    rnn_model = tf.keras.Model([frame_features_input, mask_input], output)\n",
    "\n",
    "    rnn_model.compile(\n",
    "        loss='sparse_categorical_crossentropy',\n",
    "        optimizer='adam',\n",
    "        metrics=['accuracy'],\n",
    "    )\n",
    "    return rnn_model"
   ]
  },
  {
   "cell_type": "code",
   "execution_count": 10,
   "id": "b8289a09",
   "metadata": {
    "ExecuteTime": {
     "end_time": "2023-03-05T21:15:24.286039Z",
     "start_time": "2023-03-05T21:15:24.262485Z"
    },
    "code_folding": []
   },
   "outputs": [],
   "source": [
    "def run_experiment(\n",
    "    model,\n",
    "    train_data,\n",
    "    train_labels,\n",
    "    validation_data = None,\n",
    "    validation_split: int = 0.2,\n",
    "    model_path: str = 'temp',\n",
    "    epochs: int = 10,\n",
    "    batch_size: int = 128,\n",
    "    monitor_metric: str = 'val_accuracy',\n",
    "    patience: int = 6,\n",
    "):\n",
    "    print(model.summary())\n",
    "    checkpoint = [\n",
    "        tf.keras.callbacks.ModelCheckpoint(\n",
    "            model_path,\n",
    "            save_weights_only=True,\n",
    "            save_best_only=True,\n",
    "        ),\n",
    "        tf.keras.callbacks.EarlyStopping(\n",
    "            monitor=monitor_metric,\n",
    "            patience=patience,\n",
    "            restore_best_weights=True,\n",
    "        ),\n",
    "    ]\n",
    "        \n",
    "    fit_params = dict(\n",
    "        x=train_data,\n",
    "        y=train_labels,\n",
    "        epochs=epochs,\n",
    "        batch_size=batch_size,\n",
    "    )\n",
    "    if validation_data:\n",
    "        fit_params['validation_data'] = validation_data\n",
    "    else:\n",
    "        fit_params['validation_split'] = validation_split\n",
    "\n",
    "    history = model.fit(\n",
    "        **fit_params,\n",
    "        callbacks=checkpoint,\n",
    "    )\n",
    "\n",
    "    return model, history"
   ]
  },
  {
   "cell_type": "markdown",
   "id": "6dfa7ae1",
   "metadata": {},
   "source": [
    "## Experiment"
   ]
  },
  {
   "cell_type": "code",
   "execution_count": 11,
   "id": "27dc5378",
   "metadata": {
    "ExecuteTime": {
     "end_time": "2023-03-05T21:15:26.158298Z",
     "start_time": "2023-03-05T21:15:24.287132Z"
    }
   },
   "outputs": [
    {
     "name": "stderr",
     "output_type": "stream",
     "text": [
      "2023-03-05 13:15:24.355988: I tensorflow/stream_executor/cuda/cuda_gpu_executor.cc:980] successful NUMA node read from SysFS had negative value (-1), but there must be at least one NUMA node, so returning NUMA node zero\n",
      "2023-03-05 13:15:24.383629: I tensorflow/stream_executor/cuda/cuda_gpu_executor.cc:980] successful NUMA node read from SysFS had negative value (-1), but there must be at least one NUMA node, so returning NUMA node zero\n",
      "2023-03-05 13:15:24.383805: I tensorflow/stream_executor/cuda/cuda_gpu_executor.cc:980] successful NUMA node read from SysFS had negative value (-1), but there must be at least one NUMA node, so returning NUMA node zero\n",
      "2023-03-05 13:15:24.384476: I tensorflow/core/platform/cpu_feature_guard.cc:193] This TensorFlow binary is optimized with oneAPI Deep Neural Network Library (oneDNN) to use the following CPU instructions in performance-critical operations:  AVX2 FMA\n",
      "To enable them in other operations, rebuild TensorFlow with the appropriate compiler flags.\n",
      "2023-03-05 13:15:24.387278: I tensorflow/stream_executor/cuda/cuda_gpu_executor.cc:980] successful NUMA node read from SysFS had negative value (-1), but there must be at least one NUMA node, so returning NUMA node zero\n",
      "2023-03-05 13:15:24.387428: I tensorflow/stream_executor/cuda/cuda_gpu_executor.cc:980] successful NUMA node read from SysFS had negative value (-1), but there must be at least one NUMA node, so returning NUMA node zero\n",
      "2023-03-05 13:15:24.387556: I tensorflow/stream_executor/cuda/cuda_gpu_executor.cc:980] successful NUMA node read from SysFS had negative value (-1), but there must be at least one NUMA node, so returning NUMA node zero\n",
      "2023-03-05 13:15:24.968029: I tensorflow/stream_executor/cuda/cuda_gpu_executor.cc:980] successful NUMA node read from SysFS had negative value (-1), but there must be at least one NUMA node, so returning NUMA node zero\n",
      "2023-03-05 13:15:24.968406: I tensorflow/stream_executor/cuda/cuda_gpu_executor.cc:980] successful NUMA node read from SysFS had negative value (-1), but there must be at least one NUMA node, so returning NUMA node zero\n",
      "2023-03-05 13:15:24.968553: I tensorflow/stream_executor/cuda/cuda_gpu_executor.cc:980] successful NUMA node read from SysFS had negative value (-1), but there must be at least one NUMA node, so returning NUMA node zero\n",
      "2023-03-05 13:15:24.968671: I tensorflow/core/common_runtime/gpu/gpu_device.cc:1616] Created device /job:localhost/replica:0/task:0/device:GPU:0 with 21661 MB memory:  -> device: 0, name: NVIDIA GeForce RTX 3090 Ti, pci bus id: 0000:01:00.0, compute capability: 8.6\n"
     ]
    }
   ],
   "source": [
    "model = get_sequence_model(max_frames=MAX_FRAMES, num_features=NUM_FEATURES)"
   ]
  },
  {
   "cell_type": "code",
   "execution_count": 12,
   "id": "5c21d6df",
   "metadata": {
    "ExecuteTime": {
     "end_time": "2023-03-05T21:15:26.172337Z",
     "start_time": "2023-03-05T21:15:26.159683Z"
    }
   },
   "outputs": [
    {
     "name": "stdout",
     "output_type": "stream",
     "text": [
      "Model: \"model\"\n",
      "__________________________________________________________________________________________________\n",
      " Layer (type)                   Output Shape         Param #     Connected to                     \n",
      "==================================================================================================\n",
      " input_1 (InputLayer)           [(None, 20, 1629)]   0           []                               \n",
      "                                                                                                  \n",
      " input_2 (InputLayer)           [(None, 20)]         0           []                               \n",
      "                                                                                                  \n",
      " gru (GRU)                      (None, 20, 32)       159648      ['input_1[0][0]',                \n",
      "                                                                  'input_2[0][0]']                \n",
      "                                                                                                  \n",
      " gru_1 (GRU)                    (None, 16)           2400        ['gru[0][0]']                    \n",
      "                                                                                                  \n",
      " dense (Dense)                  (None, 64)           1088        ['gru_1[0][0]']                  \n",
      "                                                                                                  \n",
      " dense_1 (Dense)                (None, 250)          16250       ['dense[0][0]']                  \n",
      "                                                                                                  \n",
      "==================================================================================================\n",
      "Total params: 179,386\n",
      "Trainable params: 179,386\n",
      "Non-trainable params: 0\n",
      "__________________________________________________________________________________________________\n"
     ]
    }
   ],
   "source": [
    "model.summary()"
   ]
  },
  {
   "cell_type": "code",
   "execution_count": 14,
   "id": "1f5a692f",
   "metadata": {
    "ExecuteTime": {
     "end_time": "2023-03-05T22:17:42.642251Z",
     "start_time": "2023-03-05T21:18:46.097740Z"
    },
    "scrolled": true
   },
   "outputs": [
    {
     "name": "stdout",
     "output_type": "stream",
     "text": [
      "Model: \"model\"\n",
      "__________________________________________________________________________________________________\n",
      " Layer (type)                   Output Shape         Param #     Connected to                     \n",
      "==================================================================================================\n",
      " input_1 (InputLayer)           [(None, 20, 1629)]   0           []                               \n",
      "                                                                                                  \n",
      " input_2 (InputLayer)           [(None, 20)]         0           []                               \n",
      "                                                                                                  \n",
      " gru (GRU)                      (None, 20, 32)       159648      ['input_1[0][0]',                \n",
      "                                                                  'input_2[0][0]']                \n",
      "                                                                                                  \n",
      " gru_1 (GRU)                    (None, 16)           2400        ['gru[0][0]']                    \n",
      "                                                                                                  \n",
      " dense (Dense)                  (None, 64)           1088        ['gru_1[0][0]']                  \n",
      "                                                                                                  \n",
      " dense_1 (Dense)                (None, 250)          16250       ['dense[0][0]']                  \n",
      "                                                                                                  \n",
      "==================================================================================================\n",
      "Total params: 179,386\n",
      "Trainable params: 179,386\n",
      "Non-trainable params: 0\n",
      "__________________________________________________________________________________________________\n",
      "None\n"
     ]
    },
    {
     "name": "stderr",
     "output_type": "stream",
     "text": [
      "2023-03-05 13:18:50.072751: W tensorflow/core/framework/cpu_allocator_impl.cc:82] Allocation of 19699431840 exceeds 10% of free system memory.\n",
      "2023-03-05 13:18:59.355898: W tensorflow/core/framework/cpu_allocator_impl.cc:82] Allocation of 19699431840 exceeds 10% of free system memory.\n"
     ]
    },
    {
     "name": "stdout",
     "output_type": "stream",
     "text": [
      "Epoch 1/200\n"
     ]
    },
    {
     "name": "stderr",
     "output_type": "stream",
     "text": [
      "2023-03-05 13:19:09.336951: W tensorflow/core/common_runtime/forward_type_inference.cc:332] Type inference failed. This indicates an invalid graph that escaped type checking. Error message: INVALID_ARGUMENT: expected compatible input types, but input 1:\n",
      "type_id: TFT_OPTIONAL\n",
      "args {\n",
      "  type_id: TFT_PRODUCT\n",
      "  args {\n",
      "    type_id: TFT_TENSOR\n",
      "    args {\n",
      "      type_id: TFT_INT32\n",
      "    }\n",
      "  }\n",
      "}\n",
      " is neither a subtype nor a supertype of the combined inputs preceding it:\n",
      "type_id: TFT_OPTIONAL\n",
      "args {\n",
      "  type_id: TFT_PRODUCT\n",
      "  args {\n",
      "    type_id: TFT_TENSOR\n",
      "    args {\n",
      "      type_id: TFT_INT8\n",
      "    }\n",
      "  }\n",
      "}\n",
      "\n",
      "\twhile inferring type of node 'cond_41/output/_22'\n",
      "2023-03-05 13:19:10.113034: I tensorflow/stream_executor/cuda/cuda_dnn.cc:384] Loaded cuDNN version 8100\n",
      "2023-03-05 13:19:11.010313: I tensorflow/stream_executor/cuda/cuda_blas.cc:1614] TensorFloat-32 will be used for the matrix multiplication. This will only be logged once.\n"
     ]
    },
    {
     "name": "stdout",
     "output_type": "stream",
     "text": [
      "2362/2362 [==============================] - 38s 14ms/step - loss: 5.4276 - accuracy: 0.0074 - val_loss: 5.2293 - val_accuracy: 0.0123\n",
      "Epoch 2/200\n",
      "2362/2362 [==============================] - 28s 12ms/step - loss: 5.1554 - accuracy: 0.0186 - val_loss: 5.1045 - val_accuracy: 0.0213\n",
      "Epoch 3/200\n",
      "2362/2362 [==============================] - 29s 12ms/step - loss: 5.0816 - accuracy: 0.0235 - val_loss: 5.0731 - val_accuracy: 0.0244\n",
      "Epoch 4/200\n",
      "2362/2362 [==============================] - 28s 12ms/step - loss: 5.0312 - accuracy: 0.0280 - val_loss: 5.0912 - val_accuracy: 0.0228\n",
      "Epoch 5/200\n",
      "2362/2362 [==============================] - 30s 13ms/step - loss: 4.9841 - accuracy: 0.0309 - val_loss: 5.0302 - val_accuracy: 0.0286\n",
      "Epoch 6/200\n",
      "2362/2362 [==============================] - 29s 12ms/step - loss: 4.9416 - accuracy: 0.0352 - val_loss: 4.9623 - val_accuracy: 0.0338\n",
      "Epoch 7/200\n",
      "2362/2362 [==============================] - 29s 12ms/step - loss: 4.9042 - accuracy: 0.0378 - val_loss: 4.9531 - val_accuracy: 0.0358\n",
      "Epoch 8/200\n",
      "2362/2362 [==============================] - 29s 12ms/step - loss: 4.8649 - accuracy: 0.0410 - val_loss: 4.9061 - val_accuracy: 0.0398\n",
      "Epoch 9/200\n",
      "2362/2362 [==============================] - 28s 12ms/step - loss: 4.8212 - accuracy: 0.0443 - val_loss: 4.8265 - val_accuracy: 0.0441\n",
      "Epoch 10/200\n",
      "2362/2362 [==============================] - 28s 12ms/step - loss: 4.7184 - accuracy: 0.0524 - val_loss: 4.6903 - val_accuracy: 0.0523\n",
      "Epoch 11/200\n",
      "2362/2362 [==============================] - 29s 12ms/step - loss: 4.5720 - accuracy: 0.0640 - val_loss: 4.5592 - val_accuracy: 0.0672\n",
      "Epoch 12/200\n",
      "2362/2362 [==============================] - 28s 12ms/step - loss: 4.4820 - accuracy: 0.0731 - val_loss: 4.4887 - val_accuracy: 0.0738\n",
      "Epoch 13/200\n",
      "2362/2362 [==============================] - 29s 12ms/step - loss: 4.4117 - accuracy: 0.0808 - val_loss: 4.4376 - val_accuracy: 0.0803\n",
      "Epoch 14/200\n",
      "2362/2362 [==============================] - 29s 12ms/step - loss: 4.3540 - accuracy: 0.0865 - val_loss: 4.4135 - val_accuracy: 0.0826\n",
      "Epoch 15/200\n",
      "2362/2362 [==============================] - 28s 12ms/step - loss: 4.3034 - accuracy: 0.0923 - val_loss: 4.3464 - val_accuracy: 0.0905\n",
      "Epoch 16/200\n",
      "2362/2362 [==============================] - 28s 12ms/step - loss: 4.2547 - accuracy: 0.1000 - val_loss: 4.3577 - val_accuracy: 0.0902\n",
      "Epoch 17/200\n",
      "2362/2362 [==============================] - 29s 12ms/step - loss: 4.1935 - accuracy: 0.1075 - val_loss: 4.2968 - val_accuracy: 0.0971\n",
      "Epoch 18/200\n",
      "2362/2362 [==============================] - 28s 12ms/step - loss: 4.1295 - accuracy: 0.1152 - val_loss: 4.1993 - val_accuracy: 0.1081\n",
      "Epoch 19/200\n",
      "2362/2362 [==============================] - 28s 12ms/step - loss: 4.0684 - accuracy: 0.1221 - val_loss: 4.1397 - val_accuracy: 0.1178\n",
      "Epoch 20/200\n",
      "2362/2362 [==============================] - 29s 12ms/step - loss: 4.0122 - accuracy: 0.1301 - val_loss: 4.0557 - val_accuracy: 0.1280\n",
      "Epoch 21/200\n",
      "2362/2362 [==============================] - 28s 12ms/step - loss: 3.9664 - accuracy: 0.1364 - val_loss: 4.0304 - val_accuracy: 0.1324\n",
      "Epoch 22/200\n",
      "2362/2362 [==============================] - 28s 12ms/step - loss: 3.9235 - accuracy: 0.1412 - val_loss: 4.0100 - val_accuracy: 0.1374\n",
      "Epoch 23/200\n",
      "2362/2362 [==============================] - 28s 12ms/step - loss: 3.8822 - accuracy: 0.1486 - val_loss: 4.0178 - val_accuracy: 0.1385\n",
      "Epoch 24/200\n",
      "2362/2362 [==============================] - 29s 12ms/step - loss: 3.8461 - accuracy: 0.1544 - val_loss: 3.9224 - val_accuracy: 0.1495\n",
      "Epoch 25/200\n",
      "2362/2362 [==============================] - 30s 13ms/step - loss: 3.8116 - accuracy: 0.1599 - val_loss: 4.0116 - val_accuracy: 0.1338\n",
      "Epoch 26/200\n",
      "2362/2362 [==============================] - 29s 12ms/step - loss: 3.7813 - accuracy: 0.1645 - val_loss: 3.8827 - val_accuracy: 0.1584\n",
      "Epoch 27/200\n",
      "2362/2362 [==============================] - 29s 12ms/step - loss: 3.7505 - accuracy: 0.1683 - val_loss: 3.9449 - val_accuracy: 0.1511\n",
      "Epoch 28/200\n",
      "2362/2362 [==============================] - 29s 12ms/step - loss: 3.7297 - accuracy: 0.1733 - val_loss: 3.9456 - val_accuracy: 0.1479\n",
      "Epoch 29/200\n",
      "2362/2362 [==============================] - 29s 12ms/step - loss: 3.6974 - accuracy: 0.1763 - val_loss: 3.8129 - val_accuracy: 0.1705\n",
      "Epoch 30/200\n",
      "2362/2362 [==============================] - 29s 12ms/step - loss: 3.6738 - accuracy: 0.1810 - val_loss: 3.7657 - val_accuracy: 0.1800\n",
      "Epoch 31/200\n",
      "2362/2362 [==============================] - 29s 12ms/step - loss: 3.6419 - accuracy: 0.1863 - val_loss: 3.8823 - val_accuracy: 0.1593\n",
      "Epoch 32/200\n",
      "2362/2362 [==============================] - 29s 12ms/step - loss: 3.6168 - accuracy: 0.1917 - val_loss: 3.7131 - val_accuracy: 0.1883\n",
      "Epoch 33/200\n",
      "2362/2362 [==============================] - 28s 12ms/step - loss: 3.5921 - accuracy: 0.1943 - val_loss: 3.7154 - val_accuracy: 0.1854\n",
      "Epoch 34/200\n",
      "2362/2362 [==============================] - 28s 12ms/step - loss: 3.5725 - accuracy: 0.1986 - val_loss: 3.7195 - val_accuracy: 0.1840\n",
      "Epoch 35/200\n",
      "2362/2362 [==============================] - 28s 12ms/step - loss: 3.5440 - accuracy: 0.2036 - val_loss: 3.7444 - val_accuracy: 0.1830\n",
      "Epoch 36/200\n",
      "2362/2362 [==============================] - 28s 12ms/step - loss: 3.5203 - accuracy: 0.2085 - val_loss: 3.6387 - val_accuracy: 0.1997\n",
      "Epoch 37/200\n",
      "2362/2362 [==============================] - 28s 12ms/step - loss: 3.5054 - accuracy: 0.2117 - val_loss: 3.7220 - val_accuracy: 0.1886\n",
      "Epoch 38/200\n",
      "2362/2362 [==============================] - 29s 12ms/step - loss: 3.4851 - accuracy: 0.2153 - val_loss: 3.5989 - val_accuracy: 0.2094\n",
      "Epoch 39/200\n",
      "2362/2362 [==============================] - 29s 12ms/step - loss: 3.4593 - accuracy: 0.2214 - val_loss: 3.7724 - val_accuracy: 0.1735\n",
      "Epoch 40/200\n",
      "2362/2362 [==============================] - 28s 12ms/step - loss: 3.4339 - accuracy: 0.2240 - val_loss: 3.6000 - val_accuracy: 0.2125\n",
      "Epoch 41/200\n",
      "2362/2362 [==============================] - 28s 12ms/step - loss: 3.4162 - accuracy: 0.2278 - val_loss: 3.5633 - val_accuracy: 0.2137\n",
      "Epoch 42/200\n",
      "2362/2362 [==============================] - 29s 12ms/step - loss: 3.3921 - accuracy: 0.2325 - val_loss: 3.5829 - val_accuracy: 0.2114\n",
      "Epoch 43/200\n",
      "2362/2362 [==============================] - 29s 12ms/step - loss: 3.3678 - accuracy: 0.2357 - val_loss: 3.5437 - val_accuracy: 0.2163\n",
      "Epoch 44/200\n",
      "2362/2362 [==============================] - 29s 12ms/step - loss: 3.3388 - accuracy: 0.2406 - val_loss: 3.4873 - val_accuracy: 0.2240\n",
      "Epoch 45/200\n",
      "2362/2362 [==============================] - 28s 12ms/step - loss: 3.3144 - accuracy: 0.2443 - val_loss: 3.4918 - val_accuracy: 0.2265\n",
      "Epoch 46/200\n",
      "2362/2362 [==============================] - 28s 12ms/step - loss: 3.2906 - accuracy: 0.2491 - val_loss: 3.4476 - val_accuracy: 0.2376\n",
      "Epoch 47/200\n",
      "2362/2362 [==============================] - 28s 12ms/step - loss: 3.2702 - accuracy: 0.2537 - val_loss: 3.4503 - val_accuracy: 0.2359\n",
      "Epoch 48/200\n",
      "2362/2362 [==============================] - 28s 12ms/step - loss: 3.2405 - accuracy: 0.2580 - val_loss: 3.4842 - val_accuracy: 0.2248\n",
      "Epoch 49/200\n",
      "2362/2362 [==============================] - 28s 12ms/step - loss: 3.2228 - accuracy: 0.2616 - val_loss: 3.4873 - val_accuracy: 0.2286\n",
      "Epoch 50/200\n",
      "2362/2362 [==============================] - 28s 12ms/step - loss: 3.2053 - accuracy: 0.2660 - val_loss: 3.5971 - val_accuracy: 0.2113\n",
      "Epoch 51/200\n",
      "2362/2362 [==============================] - 29s 12ms/step - loss: 3.1817 - accuracy: 0.2695 - val_loss: 3.3839 - val_accuracy: 0.2500\n",
      "Epoch 52/200\n",
      "2362/2362 [==============================] - 29s 12ms/step - loss: 3.1675 - accuracy: 0.2721 - val_loss: 3.4406 - val_accuracy: 0.2372\n",
      "Epoch 53/200\n",
      "2362/2362 [==============================] - 28s 12ms/step - loss: 3.1441 - accuracy: 0.2757 - val_loss: 3.5595 - val_accuracy: 0.2104\n",
      "Epoch 54/200\n",
      "2362/2362 [==============================] - 28s 12ms/step - loss: 3.1297 - accuracy: 0.2780 - val_loss: 3.4312 - val_accuracy: 0.2375\n",
      "Epoch 55/200\n",
      "2362/2362 [==============================] - 28s 12ms/step - loss: 3.1076 - accuracy: 0.2833 - val_loss: 3.2848 - val_accuracy: 0.2630\n",
      "Epoch 56/200\n"
     ]
    },
    {
     "name": "stdout",
     "output_type": "stream",
     "text": [
      "2362/2362 [==============================] - 28s 12ms/step - loss: 3.0965 - accuracy: 0.2849 - val_loss: 3.3306 - val_accuracy: 0.2561\n",
      "Epoch 57/200\n",
      "2362/2362 [==============================] - 28s 12ms/step - loss: 3.0756 - accuracy: 0.2896 - val_loss: 3.3865 - val_accuracy: 0.2414\n",
      "Epoch 58/200\n",
      "2362/2362 [==============================] - 29s 12ms/step - loss: 3.0598 - accuracy: 0.2921 - val_loss: 3.2020 - val_accuracy: 0.2815\n",
      "Epoch 59/200\n",
      "2362/2362 [==============================] - 29s 12ms/step - loss: 3.0490 - accuracy: 0.2941 - val_loss: 3.1756 - val_accuracy: 0.2858\n",
      "Epoch 60/200\n",
      "2362/2362 [==============================] - 29s 12ms/step - loss: 3.0290 - accuracy: 0.2992 - val_loss: 3.2064 - val_accuracy: 0.2763\n",
      "Epoch 61/200\n",
      "2362/2362 [==============================] - 29s 12ms/step - loss: 3.0239 - accuracy: 0.2978 - val_loss: 3.2220 - val_accuracy: 0.2848\n",
      "Epoch 62/200\n",
      "2362/2362 [==============================] - 28s 12ms/step - loss: 3.0000 - accuracy: 0.3041 - val_loss: 3.2371 - val_accuracy: 0.2735\n",
      "Epoch 63/200\n",
      "2362/2362 [==============================] - 28s 12ms/step - loss: 2.9856 - accuracy: 0.3060 - val_loss: 3.2047 - val_accuracy: 0.2825\n",
      "Epoch 64/200\n",
      "2362/2362 [==============================] - 28s 12ms/step - loss: 2.9774 - accuracy: 0.3092 - val_loss: 3.1489 - val_accuracy: 0.2911\n",
      "Epoch 65/200\n",
      "2362/2362 [==============================] - 28s 12ms/step - loss: 2.9620 - accuracy: 0.3110 - val_loss: 3.1924 - val_accuracy: 0.2814\n",
      "Epoch 66/200\n",
      "2362/2362 [==============================] - 29s 12ms/step - loss: 2.9442 - accuracy: 0.3146 - val_loss: 3.0856 - val_accuracy: 0.3061\n",
      "Epoch 67/200\n",
      "2362/2362 [==============================] - 28s 12ms/step - loss: 2.9276 - accuracy: 0.3168 - val_loss: 3.1507 - val_accuracy: 0.2931\n",
      "Epoch 68/200\n",
      "2362/2362 [==============================] - 28s 12ms/step - loss: 2.9090 - accuracy: 0.3200 - val_loss: 3.2204 - val_accuracy: 0.2734\n",
      "Epoch 69/200\n",
      "2362/2362 [==============================] - 28s 12ms/step - loss: 2.8951 - accuracy: 0.3236 - val_loss: 3.1471 - val_accuracy: 0.2906\n",
      "Epoch 70/200\n",
      "2362/2362 [==============================] - 28s 12ms/step - loss: 2.8799 - accuracy: 0.3256 - val_loss: 3.0759 - val_accuracy: 0.3065\n",
      "Epoch 71/200\n",
      "2362/2362 [==============================] - 28s 12ms/step - loss: 2.8628 - accuracy: 0.3291 - val_loss: 3.1745 - val_accuracy: 0.2854\n",
      "Epoch 72/200\n",
      "2362/2362 [==============================] - 28s 12ms/step - loss: 2.8482 - accuracy: 0.3320 - val_loss: 3.0951 - val_accuracy: 0.3057\n",
      "Epoch 73/200\n",
      "2362/2362 [==============================] - 28s 12ms/step - loss: 2.8285 - accuracy: 0.3359 - val_loss: 3.1646 - val_accuracy: 0.2895\n",
      "Epoch 74/200\n",
      "2362/2362 [==============================] - 28s 12ms/step - loss: 2.8172 - accuracy: 0.3378 - val_loss: 2.9915 - val_accuracy: 0.3236\n",
      "Epoch 75/200\n",
      "2362/2362 [==============================] - 29s 12ms/step - loss: 2.8046 - accuracy: 0.3407 - val_loss: 2.9676 - val_accuracy: 0.3276\n",
      "Epoch 76/200\n",
      "2362/2362 [==============================] - 29s 12ms/step - loss: 2.7899 - accuracy: 0.3429 - val_loss: 2.9829 - val_accuracy: 0.3259\n",
      "Epoch 77/200\n",
      "2362/2362 [==============================] - 29s 12ms/step - loss: 2.7788 - accuracy: 0.3453 - val_loss: 2.9756 - val_accuracy: 0.3230\n",
      "Epoch 78/200\n",
      "2362/2362 [==============================] - 29s 12ms/step - loss: 2.7607 - accuracy: 0.3482 - val_loss: 3.0338 - val_accuracy: 0.3156\n",
      "Epoch 79/200\n",
      "2362/2362 [==============================] - 29s 12ms/step - loss: 2.7502 - accuracy: 0.3504 - val_loss: 2.9805 - val_accuracy: 0.3233\n",
      "Epoch 80/200\n",
      "2362/2362 [==============================] - 29s 12ms/step - loss: 2.7391 - accuracy: 0.3535 - val_loss: 3.0402 - val_accuracy: 0.3108\n",
      "Epoch 81/200\n",
      "2362/2362 [==============================] - 28s 12ms/step - loss: 2.7212 - accuracy: 0.3561 - val_loss: 3.0123 - val_accuracy: 0.3162\n",
      "Epoch 82/200\n",
      "2362/2362 [==============================] - 29s 12ms/step - loss: 2.7151 - accuracy: 0.3569 - val_loss: 2.9097 - val_accuracy: 0.3412\n",
      "Epoch 83/200\n",
      "2362/2362 [==============================] - 28s 12ms/step - loss: 2.6999 - accuracy: 0.3605 - val_loss: 2.8937 - val_accuracy: 0.3436\n",
      "Epoch 84/200\n",
      "2362/2362 [==============================] - 29s 12ms/step - loss: 2.6913 - accuracy: 0.3612 - val_loss: 2.8694 - val_accuracy: 0.3491\n",
      "Epoch 85/200\n",
      "2362/2362 [==============================] - 29s 12ms/step - loss: 2.6810 - accuracy: 0.3646 - val_loss: 2.8875 - val_accuracy: 0.3412\n",
      "Epoch 86/200\n",
      "2362/2362 [==============================] - 29s 12ms/step - loss: 2.6681 - accuracy: 0.3668 - val_loss: 2.9723 - val_accuracy: 0.3263\n",
      "Epoch 87/200\n",
      "2362/2362 [==============================] - 29s 12ms/step - loss: 2.6629 - accuracy: 0.3669 - val_loss: 2.9152 - val_accuracy: 0.3366\n",
      "Epoch 88/200\n",
      "2362/2362 [==============================] - 29s 12ms/step - loss: 2.6534 - accuracy: 0.3696 - val_loss: 2.8625 - val_accuracy: 0.3504\n",
      "Epoch 89/200\n",
      "2362/2362 [==============================] - 29s 12ms/step - loss: 2.6421 - accuracy: 0.3716 - val_loss: 2.8558 - val_accuracy: 0.3501\n",
      "Epoch 90/200\n",
      "2362/2362 [==============================] - 29s 12ms/step - loss: 2.6320 - accuracy: 0.3748 - val_loss: 2.8760 - val_accuracy: 0.3427\n",
      "Epoch 91/200\n",
      "2362/2362 [==============================] - 29s 12ms/step - loss: 2.6236 - accuracy: 0.3756 - val_loss: 2.8755 - val_accuracy: 0.3463\n",
      "Epoch 92/200\n",
      "2362/2362 [==============================] - 29s 12ms/step - loss: 2.6164 - accuracy: 0.3766 - val_loss: 2.9124 - val_accuracy: 0.3357\n",
      "Epoch 93/200\n",
      "2362/2362 [==============================] - 30s 13ms/step - loss: 2.6065 - accuracy: 0.3789 - val_loss: 2.7867 - val_accuracy: 0.3634\n",
      "Epoch 94/200\n",
      "2362/2362 [==============================] - 29s 12ms/step - loss: 2.6051 - accuracy: 0.3793 - val_loss: 2.8862 - val_accuracy: 0.3391\n",
      "Epoch 95/200\n",
      "2362/2362 [==============================] - 29s 12ms/step - loss: 2.5995 - accuracy: 0.3808 - val_loss: 3.0043 - val_accuracy: 0.3185\n",
      "Epoch 96/200\n",
      "2362/2362 [==============================] - 29s 12ms/step - loss: 2.5886 - accuracy: 0.3824 - val_loss: 2.7931 - val_accuracy: 0.3628\n",
      "Epoch 97/200\n",
      "2362/2362 [==============================] - 29s 12ms/step - loss: 2.5777 - accuracy: 0.3844 - val_loss: 2.7984 - val_accuracy: 0.3617\n",
      "Epoch 98/200\n",
      "2362/2362 [==============================] - 29s 12ms/step - loss: 2.5701 - accuracy: 0.3857 - val_loss: 2.8790 - val_accuracy: 0.3493\n",
      "Epoch 99/200\n",
      "2362/2362 [==============================] - 30s 13ms/step - loss: 2.5677 - accuracy: 0.3868 - val_loss: 2.8334 - val_accuracy: 0.3515\n",
      "Epoch 100/200\n",
      "2362/2362 [==============================] - 30s 13ms/step - loss: 2.5546 - accuracy: 0.3904 - val_loss: 2.7888 - val_accuracy: 0.3643\n",
      "Epoch 101/200\n",
      "2362/2362 [==============================] - 29s 12ms/step - loss: 2.5506 - accuracy: 0.3921 - val_loss: 2.8391 - val_accuracy: 0.3534\n",
      "Epoch 102/200\n",
      "2362/2362 [==============================] - 30s 13ms/step - loss: 2.5448 - accuracy: 0.3913 - val_loss: 2.7973 - val_accuracy: 0.3602\n",
      "Epoch 103/200\n",
      "2362/2362 [==============================] - 30s 13ms/step - loss: 2.5393 - accuracy: 0.3922 - val_loss: 2.8484 - val_accuracy: 0.3550\n",
      "Epoch 104/200\n",
      "2362/2362 [==============================] - 29s 12ms/step - loss: 2.5357 - accuracy: 0.3933 - val_loss: 2.7713 - val_accuracy: 0.3660\n",
      "Epoch 105/200\n",
      "2362/2362 [==============================] - 30s 13ms/step - loss: 2.5291 - accuracy: 0.3950 - val_loss: 2.8577 - val_accuracy: 0.3470\n",
      "Epoch 106/200\n",
      "2362/2362 [==============================] - 30s 13ms/step - loss: 2.5223 - accuracy: 0.3958 - val_loss: 2.7435 - val_accuracy: 0.3739\n",
      "Epoch 107/200\n",
      "2362/2362 [==============================] - 30s 13ms/step - loss: 2.5138 - accuracy: 0.3985 - val_loss: 2.8573 - val_accuracy: 0.3497\n",
      "Epoch 108/200\n",
      "2362/2362 [==============================] - 29s 12ms/step - loss: 2.5119 - accuracy: 0.3993 - val_loss: 2.7554 - val_accuracy: 0.3733\n",
      "Epoch 109/200\n",
      "2362/2362 [==============================] - 30s 13ms/step - loss: 2.5071 - accuracy: 0.4005 - val_loss: 2.7403 - val_accuracy: 0.3740\n",
      "Epoch 110/200\n",
      "2362/2362 [==============================] - 30s 13ms/step - loss: 2.4956 - accuracy: 0.4024 - val_loss: 2.8037 - val_accuracy: 0.3604\n",
      "Epoch 111/200\n"
     ]
    },
    {
     "name": "stdout",
     "output_type": "stream",
     "text": [
      "2362/2362 [==============================] - 30s 13ms/step - loss: 2.4960 - accuracy: 0.4013 - val_loss: 2.8755 - val_accuracy: 0.3548\n",
      "Epoch 112/200\n",
      "2362/2362 [==============================] - 29s 12ms/step - loss: 2.4957 - accuracy: 0.4017 - val_loss: 2.8400 - val_accuracy: 0.3520\n",
      "Epoch 113/200\n",
      "2362/2362 [==============================] - 29s 12ms/step - loss: 2.4835 - accuracy: 0.4029 - val_loss: 2.7530 - val_accuracy: 0.3738\n",
      "Epoch 114/200\n",
      "2362/2362 [==============================] - 28s 12ms/step - loss: 2.4874 - accuracy: 0.4027 - val_loss: 2.6961 - val_accuracy: 0.3862\n",
      "Epoch 115/200\n",
      "2362/2362 [==============================] - 29s 12ms/step - loss: 2.4725 - accuracy: 0.4068 - val_loss: 2.7268 - val_accuracy: 0.3783\n",
      "Epoch 116/200\n",
      "2362/2362 [==============================] - 29s 12ms/step - loss: 2.4726 - accuracy: 0.4064 - val_loss: 2.7417 - val_accuracy: 0.3755\n",
      "Epoch 117/200\n",
      "2362/2362 [==============================] - 29s 12ms/step - loss: 2.4649 - accuracy: 0.4087 - val_loss: 2.7996 - val_accuracy: 0.3720\n",
      "Epoch 118/200\n",
      "2362/2362 [==============================] - 29s 12ms/step - loss: 2.4607 - accuracy: 0.4102 - val_loss: 2.7072 - val_accuracy: 0.3853\n",
      "Epoch 119/200\n",
      "2362/2362 [==============================] - 29s 12ms/step - loss: 2.4588 - accuracy: 0.4085 - val_loss: 2.6963 - val_accuracy: 0.3821\n",
      "Epoch 120/200\n",
      "2362/2362 [==============================] - 29s 12ms/step - loss: 2.4505 - accuracy: 0.4123 - val_loss: 2.7103 - val_accuracy: 0.3820\n",
      "Epoch 121/200\n",
      "2362/2362 [==============================] - 29s 12ms/step - loss: 2.4474 - accuracy: 0.4116 - val_loss: 2.7767 - val_accuracy: 0.3726\n",
      "Epoch 122/200\n",
      "2362/2362 [==============================] - 29s 12ms/step - loss: 2.4444 - accuracy: 0.4123 - val_loss: 2.7874 - val_accuracy: 0.3686\n"
     ]
    }
   ],
   "source": [
    "model, history = run_experiment(\n",
    "    model=model,\n",
    "    train_data=(X_train, M_train),\n",
    "    train_labels=y_train,\n",
    "    validation_data=((X_val, M_val), y_val),\n",
    "    model_path='model_test-mirror-rnn.h5',\n",
    "    batch_size=64,\n",
    "    epochs=200,\n",
    "    patience=8,\n",
    ")"
   ]
  },
  {
   "cell_type": "code",
   "execution_count": 15,
   "id": "f977caae",
   "metadata": {
    "ExecuteTime": {
     "end_time": "2023-03-05T22:17:53.109123Z",
     "start_time": "2023-03-05T22:17:42.643924Z"
    }
   },
   "outputs": [
    {
     "name": "stderr",
     "output_type": "stream",
     "text": [
      "WARNING:absl:Found untraced functions such as gru_cell_layer_call_fn, gru_cell_layer_call_and_return_conditional_losses, gru_cell_1_layer_call_fn, gru_cell_1_layer_call_and_return_conditional_losses while saving (showing 4 of 4). These functions will not be directly callable after loading.\n"
     ]
    },
    {
     "name": "stdout",
     "output_type": "stream",
     "text": [
      "INFO:tensorflow:Assets written to: ram://6b14956c-70c7-451a-b8ca-7b457ad9384c/assets\n"
     ]
    },
    {
     "name": "stderr",
     "output_type": "stream",
     "text": [
      "INFO:tensorflow:Assets written to: ram://6b14956c-70c7-451a-b8ca-7b457ad9384c/assets\n"
     ]
    },
    {
     "data": {
      "text/plain": [
       "['history-model_test-mirror-rnn.gz']"
      ]
     },
     "execution_count": 15,
     "metadata": {},
     "output_type": "execute_result"
    }
   ],
   "source": [
    "import joblib\n",
    "\n",
    "joblib.dump(history, 'history-model_test-mirror-rnn.gz')"
   ]
  },
  {
   "cell_type": "markdown",
   "id": "fd97a6ba",
   "metadata": {},
   "source": [
    "### Plot Results"
   ]
  },
  {
   "cell_type": "code",
   "execution_count": 18,
   "id": "13752abc",
   "metadata": {
    "ExecuteTime": {
     "end_time": "2023-03-05T22:22:18.233121Z",
     "start_time": "2023-03-05T22:22:17.925921Z"
    }
   },
   "outputs": [
    {
     "data": {
      "image/png": "[encoded data removed]",
      "text/plain": [
       "<Figure size 1600x1200 with 2 Axes>"
      ]
     },
     "metadata": {},
     "output_type": "display_data"
    }
   ],
   "source": [
    "# summarize history for accuracy\n",
    "f, (ax_acc, ax_loss) = plt.subplots(ncols=2, figsize=(16,12))\n",
    "\n",
    "ax_acc.plot(history.history['accuracy'])\n",
    "ax_acc.plot(history.history['val_accuracy'])\n",
    "plt.title('model accuracy')\n",
    "plt.ylabel('accuracy')\n",
    "plt.xlabel('epoch')\n",
    "plt.legend(['train', 'test'], loc='upper left')\n",
    "# plt.show()\n",
    "\n",
    "# summarize history for loss\n",
    "ax_loss.plot(history.history['loss'])\n",
    "ax_loss.plot(history.history['val_loss'])\n",
    "plt.title('model loss')\n",
    "plt.ylabel('loss')\n",
    "plt.xlabel('epoch')\n",
    "plt.legend(['train', 'test'], loc='upper left')\n",
    "\n",
    "plt.savefig('acc_loss-model_test-mirror-rnn.png')\n",
    "plt.show()"
   ]
  }
 ],
 "metadata": {
  "kernelspec": {
   "display_name": "Python 3 (ipykernel)",
   "language": "python",
   "name": "python3"
  },
  "language_info": {
   "codemirror_mode": {
    "name": "ipython",
    "version": 3
   },
   "file_extension": ".py",
   "mimetype": "text/x-python",
   "name": "python",
   "nbconvert_exporter": "python",
   "pygments_lexer": "ipython3",
   "version": "3.9.15"
  },
  "toc": {
   "base_numbering": 1,
   "nav_menu": {
    "height": "141px",
    "width": "317px"
   },
   "number_sections": true,
   "sideBar": true,
   "skip_h1_title": false,
   "title_cell": "Table of Contents",
   "title_sidebar": "Contents",
   "toc_cell": false,
   "toc_position": {},
   "toc_section_display": true,
   "toc_window_display": false
  }
 },
 "nbformat": 4,
 "nbformat_minor": 5
}
