{
 "cells": [
  {
   "cell_type": "code",
   "execution_count": 1,
   "id": "7181ca3e",
   "metadata": {
    "ExecuteTime": {
     "end_time": "2023-03-05T23:23:18.678072Z",
     "start_time": "2023-03-05T23:23:18.668756Z"
    }
   },
   "outputs": [],
   "source": [
    "%load_ext tensorboard"
   ]
  },
  {
   "cell_type": "code",
   "execution_count": 2,
   "id": "6a0ff53c",
   "metadata": {
    "ExecuteTime": {
     "end_time": "2023-03-05T23:23:20.625310Z",
     "start_time": "2023-03-05T23:23:18.679883Z"
    }
   },
   "outputs": [
    {
     "name": "stderr",
     "output_type": "stream",
     "text": [
      "2023-03-05 15:23:18.959737: I tensorflow/core/platform/cpu_feature_guard.cc:193] This TensorFlow binary is optimized with oneAPI Deep Neural Network Library (oneDNN) to use the following CPU instructions in performance-critical operations:  AVX2 FMA\n",
      "To enable them in other operations, rebuild TensorFlow with the appropriate compiler flags.\n",
      "2023-03-05 15:23:19.101761: E tensorflow/stream_executor/cuda/cuda_blas.cc:2981] Unable to register cuBLAS factory: Attempting to register factory for plugin cuBLAS when one has already been registered\n",
      "2023-03-05 15:23:19.556920: W tensorflow/stream_executor/platform/default/dso_loader.cc:64] Could not load dynamic library 'libnvinfer.so.7'; dlerror: libnvinfer.so.7: cannot open shared object file: No such file or directory; LD_LIBRARY_PATH: :/home/victor/miniconda3/envs/tf/lib/:/home/victor/miniconda3/envs/tf/lib/:/home/victor/miniconda3/envs/tf/lib/\n",
      "2023-03-05 15:23:19.556987: W tensorflow/stream_executor/platform/default/dso_loader.cc:64] Could not load dynamic library 'libnvinfer_plugin.so.7'; dlerror: libnvinfer_plugin.so.7: cannot open shared object file: No such file or directory; LD_LIBRARY_PATH: :/home/victor/miniconda3/envs/tf/lib/:/home/victor/miniconda3/envs/tf/lib/:/home/victor/miniconda3/envs/tf/lib/\n",
      "2023-03-05 15:23:19.556992: W tensorflow/compiler/tf2tensorrt/utils/py_utils.cc:38] TF-TRT Warning: Cannot dlopen some TensorRT libraries. If you would like to use Nvidia GPU with TensorRT, please make sure the missing libraries mentioned above are installed properly.\n"
     ]
    }
   ],
   "source": [
    "import os\n",
    "import json\n",
    "import numpy as np\n",
    "import pandas as pd\n",
    "from tqdm import tqdm\n",
    "import tensorflow as tf\n",
    "from tqdm import tqdm\n",
    "import json\n",
    "from sklearn.model_selection import train_test_split\n",
    "import matplotlib.pyplot as plt\n",
    "from pathlib import Path"
   ]
  },
  {
   "cell_type": "code",
   "execution_count": 3,
   "id": "19c7db3e",
   "metadata": {
    "ExecuteTime": {
     "end_time": "2023-03-05T23:23:20.689980Z",
     "start_time": "2023-03-05T23:23:20.626693Z"
    },
    "code_folding": [
     7,
     15,
     23,
     30
    ]
   },
   "outputs": [
    {
     "name": "stdout",
     "output_type": "stream",
     "text": [
      "train.shape = 94477 rows, 4 cols\n"
     ]
    }
   ],
   "source": [
    "DATA_ROOT = Path('..')\n",
    "DF_TRAIN = DATA_ROOT / 'train.csv'\n",
    "train = pd.read_csv(DF_TRAIN)\n",
    "\n",
    "print(\"train.shape = {} rows, {} cols\".format(*train.shape))\n",
    "\n",
    "\n",
    "class CFG:\n",
    "    data_path = \"../\"\n",
    "    quick_experiment = False\n",
    "    is_training = True\n",
    "    use_aggregation_dataset = True\n",
    "    num_classes = 250\n",
    "    rows_per_frame = 543 \n",
    "\n",
    "def load_relevant_data_subset_with_imputation(pq_path):\n",
    "    data_columns = ['x', 'y', 'z']\n",
    "    data = pd.read_parquet(pq_path, columns=data_columns)\n",
    "    data.replace(np.nan, 0, inplace=True)\n",
    "    n_frames = int(len(data) / CFG.rows_per_frame)\n",
    "    data = data.values.reshape(n_frames, CFG.rows_per_frame, len(data_columns))\n",
    "    return data.astype(np.float32)\n",
    "\n",
    "def load_relevant_data_subset(pq_path):\n",
    "    data_columns = ['x', 'y', 'z']\n",
    "    data = pd.read_parquet(pq_path, columns=data_columns)\n",
    "    n_frames = int(len(data) / CFG.rows_per_frame)\n",
    "    data = data.values.reshape(n_frames, CFG.rows_per_frame, len(data_columns))\n",
    "    return data.astype(np.float32)\n",
    "\n",
    "def read_dict(file_path):\n",
    "    path = os.path.expanduser(file_path)\n",
    "    with open(path, \"r\") as f:\n",
    "        dic = json.load(f)\n",
    "    return dic"
   ]
  },
  {
   "cell_type": "code",
   "execution_count": 4,
   "id": "4cafb3e8",
   "metadata": {
    "ExecuteTime": {
     "end_time": "2023-03-05T23:23:20.771539Z",
     "start_time": "2023-03-05T23:23:20.691921Z"
    }
   },
   "outputs": [],
   "source": [
    "train = pd.read_csv(f\"{CFG.data_path}train.csv\")\n",
    "label_index = read_dict(f\"{CFG.data_path}sign_to_prediction_index_map.json\")\n",
    "index_label = {label_index[key]: key for key in label_index}\n",
    "train[\"label\"] = train[\"sign\"].map(lambda sign: label_index[sign])"
   ]
  },
  {
   "cell_type": "code",
   "execution_count": 5,
   "id": "1d86fd02",
   "metadata": {
    "ExecuteTime": {
     "end_time": "2023-03-05T23:23:20.777404Z",
     "start_time": "2023-03-05T23:23:20.772923Z"
    },
    "code_folding": []
   },
   "outputs": [],
   "source": [
    "def load_frames(\n",
    "    frames_data,\n",
    "    max_frames: int = 20,\n",
    "    crop_method: str = 'nearest',\n",
    "    get_masks: bool = True,\n",
    "):\n",
    "    '''Take frames data shape=(n_frames, pts, dims) to fixed num of frames.\n",
    "    \n",
    "    - Pads data with fewer frames with zeros\n",
    "    - Reduces max number of allowed frames by crop method:\n",
    "        * 'nearest' (default): \n",
    "    '''\n",
    "    \n",
    "    if len(frames_data) < max_frames:\n",
    "        diff = max_frames - len(frames_data)\n",
    "        padding = np.zeros((diff, 543, 3))\n",
    "        frames = np.concatenate((frames_data, padding))\n",
    "        if get_masks:\n",
    "            # Only mask the padding\n",
    "            masks = np.zeros(shape=(1, max_frames,), dtype='bool')\n",
    "            masks[0,:len(frames_data)] = 1\n",
    "            \n",
    "    else:\n",
    "        if crop_method == 'nearest':\n",
    "            frames = tf.image.resize(\n",
    "                frames_data,\n",
    "                (max_frames, 543),\n",
    "                method='nearest',\n",
    "            ).numpy()\n",
    "        elif crop_method == 'cut':\n",
    "            frames = frames_data[:max_frames]\n",
    "        else:\n",
    "            raise Exception(f'{crop_method=} not found')\n",
    "        if get_masks:\n",
    "            # Use all the frames\n",
    "            masks = np.ones(shape=(1, max_frames,), dtype='bool')\n",
    "\n",
    "    if get_masks:\n",
    "        return frames, masks\n",
    "    else:\n",
    "        return frames"
   ]
  },
  {
   "cell_type": "code",
   "execution_count": 6,
   "id": "44bc36c0",
   "metadata": {
    "ExecuteTime": {
     "end_time": "2023-03-05T23:23:20.792267Z",
     "start_time": "2023-03-05T23:23:20.778453Z"
    },
    "code_folding": []
   },
   "outputs": [],
   "source": [
    "def compress_frames(frames):\n",
    "    '''Make a video of shape (n_frames, pts, dims) --> (n_frames, pts*dims) '''\n",
    "    n_frames = frames.shape[0]\n",
    "    columns = frames.shape[1]*frames.shape[2]\n",
    "    return frames.reshape(n_frames, columns)"
   ]
  },
  {
   "cell_type": "code",
   "execution_count": 7,
   "id": "a0304415",
   "metadata": {
    "ExecuteTime": {
     "end_time": "2023-03-05T23:23:24.961821Z",
     "start_time": "2023-03-05T23:23:20.793307Z"
    },
    "code_folding": []
   },
   "outputs": [
    {
     "name": "stdout",
     "output_type": "stream",
     "text": [
      "(94477, 20, 1629) (94477,)\n"
     ]
    }
   ],
   "source": [
    "# Hyperparams\n",
    "MAX_FRAMES = 20\n",
    "MAX_SEQ_LENGTH = MAX_FRAMES\n",
    "N_PTS = 543\n",
    "N_DIMS = 3\n",
    "NUM_FEATURES = N_PTS*N_DIMS\n",
    "\n",
    "X_npy_fname = f'X-{MAX_FRAMES}_frames-pts_flattened.npy'\n",
    "y_npy_fname = f'y.npy'\n",
    "masks_fname = f'all_masks-{MAX_FRAMES}.npy'\n",
    "\n",
    "if CFG.is_training:\n",
    "    try:\n",
    "        X = np.load(X_npy_fname)\n",
    "        All_masks = np.load(masks_fname)\n",
    "        y = np.load(y_npy_fname)\n",
    "    except:\n",
    "        X = np.zeros((len(train), MAX_FRAMES, N_PTS*N_DIMS))\n",
    "        All_masks = np.zeros(shape=(len(train), MAX_FRAMES), dtype='bool')\n",
    "        y = np.zeros((len(train),))\n",
    "        num_frames = np.zeros(len(train))\n",
    "        for i in tqdm(range(len(train))):\n",
    "            path = f\"{CFG.data_path}{train.iloc[i].path}\"\n",
    "            data = load_relevant_data_subset_with_imputation(path)\n",
    "            ## Mean Aggregation\n",
    "            frames_reduced, masks = load_frames(data, max_frames=MAX_FRAMES)\n",
    "            data_resize = compress_frames(frames_reduced)\n",
    "            X[i] = data_resize\n",
    "            All_masks[i] = masks\n",
    "            y[i] = train.iloc[i].label\n",
    "            num_frames[i] = data.shape[0]\n",
    "        ## Save number of frames of each training sample for data analysis\n",
    "        train['num_frames'] = num_frames\n",
    "        print(train['num_frames'].describe())\n",
    "        train.to_csv('train.csv', index=False)\n",
    "        np.save(X_npy_fname, X)\n",
    "        np.save(y_npy_fname, y)\n",
    "        np.save(masks_fname, All_masks)\n",
    "\n",
    "    print(X.shape, y.shape)"
   ]
  },
  {
   "cell_type": "code",
   "execution_count": 8,
   "id": "401be3ac",
   "metadata": {
    "ExecuteTime": {
     "end_time": "2023-03-05T23:23:28.517450Z",
     "start_time": "2023-03-05T23:23:24.963637Z"
    }
   },
   "outputs": [
    {
     "name": "stdout",
     "output_type": "stream",
     "text": [
      "(75581, 20, 1629) (75581,) (75581, 20) (18896, 20, 1629) (18896,) (18896, 20)\n"
     ]
    }
   ],
   "source": [
    "# All_masks as part of split\n",
    "X_train, X_val, M_train, M_val, y_train, y_val = train_test_split(\n",
    "    X, All_masks, y,\n",
    "    test_size=0.2,\n",
    "    random_state=27,\n",
    "    stratify=y,\n",
    ")\n",
    "print(X_train.shape, y_train.shape, M_train.shape, X_val.shape, y_val.shape, M_val.shape)"
   ]
  },
  {
   "cell_type": "code",
   "execution_count": 9,
   "id": "bbbe3463",
   "metadata": {
    "ExecuteTime": {
     "end_time": "2023-03-05T23:23:41.064675Z",
     "start_time": "2023-03-05T23:23:28.519042Z"
    }
   },
   "outputs": [],
   "source": [
    "mirror = True\n",
    "\n",
    "if mirror:# Double the training data by mirroring the coordinates over the x-axis\n",
    "    # Mirror x-axis of features\n",
    "    X_temp = np.zeros(\n",
    "        shape=(X_train.shape[0]*2, *X_train.shape[1:]),\n",
    "    )\n",
    "    X_temp[:X_train.shape[0]] = X_train\n",
    "    X_temp[X_train.shape[0]:] = X_train\n",
    "    X_temp[X_train.shape[0]:,:,0] *= -1 \n",
    "    X_train = X_temp\n",
    "    #\n",
    "    y_temp = np.zeros(\n",
    "        shape=(y_train.shape[0]*2,),\n",
    "    )\n",
    "    y_temp[:y_train.shape[0]] = y_train\n",
    "    y_temp[y_train.shape[0]:] = y_train\n",
    "    y_train = y_temp\n",
    "    # Simple copy\n",
    "    M_temp = np.zeros(\n",
    "        shape=(M_train.shape[0]*2, M_train.shape[1]),\n",
    "    )\n",
    "    M_temp[:M_train.shape[0]] = M_train\n",
    "    M_temp[M_train.shape[0]:] = M_train\n",
    "    M_train = M_temp\n",
    "    "
   ]
  },
  {
   "cell_type": "markdown",
   "id": "8ba54c41",
   "metadata": {},
   "source": [
    "# RNN Model\n",
    "\n",
    "> https://keras.io/examples/vision/video_classification/"
   ]
  },
  {
   "cell_type": "code",
   "execution_count": 10,
   "id": "12d99167",
   "metadata": {
    "ExecuteTime": {
     "end_time": "2023-03-05T23:23:41.071623Z",
     "start_time": "2023-03-05T23:23:41.066810Z"
    }
   },
   "outputs": [],
   "source": [
    "# Utility for our sequence model.\n",
    "def get_sequence_model(max_frames: int, num_features: int):\n",
    "    n_classes = 250\n",
    "\n",
    "    frame_features_input = tf.keras.Input((max_frames, num_features))\n",
    "    mask_input = tf.keras.Input((max_frames,), dtype='bool')\n",
    "\n",
    "    # Why `mask`: https://keras.io/api/layers/recurrent_layers/gru/\n",
    "    x = tf.keras.layers.GRU(64, return_sequences=True)(\n",
    "        frame_features_input,\n",
    "        mask=mask_input,\n",
    "    )\n",
    "    x = tf.keras.layers.GRU(32)(x)\n",
    "    x = tf.keras.layers.Dense(64, activation='relu')(x)\n",
    "    x = tf.keras.layers.Dropout(0.2)(x)\n",
    "    x = tf.keras.layers.Dense(128, activation='relu')(x)\n",
    "    x = tf.keras.layers.Dense(128, activation='relu')(x)\n",
    "    x = tf.keras.layers.Dropout(0.2)(x)\n",
    "    x = tf.keras.layers.Dense(64, activation='relu')(x)\n",
    "    x = tf.keras.layers.Dense(64, activation='relu')(x)\n",
    "    x = tf.keras.layers.Dropout(0.2)(x)\n",
    "    x = tf.keras.layers.Flatten()(x)\n",
    "    output = tf.keras.layers.Dense(n_classes, activation='softmax')(x)\n",
    "\n",
    "    rnn_model = tf.keras.Model([frame_features_input, mask_input], output)\n",
    "\n",
    "    rnn_model.compile(\n",
    "        loss='sparse_categorical_crossentropy',\n",
    "        optimizer='adam',\n",
    "        metrics=['accuracy'],\n",
    "    )\n",
    "    return rnn_model"
   ]
  },
  {
   "cell_type": "code",
   "execution_count": 11,
   "id": "b8289a09",
   "metadata": {
    "ExecuteTime": {
     "end_time": "2023-03-05T23:23:41.088474Z",
     "start_time": "2023-03-05T23:23:41.072631Z"
    },
    "code_folding": []
   },
   "outputs": [],
   "source": [
    "import datetime\n",
    "\n",
    "def run_experiment(\n",
    "    model,\n",
    "    train_data,\n",
    "    train_labels,\n",
    "    validation_data = None,\n",
    "    validation_split: int = 0.2,\n",
    "    model_path: str = 'temp',\n",
    "    epochs: int = 10,\n",
    "    batch_size: int = 128,\n",
    "    monitor_metric: str = 'val_accuracy',\n",
    "    patience: int = 6,\n",
    "):\n",
    "\n",
    "    print(model.summary())\n",
    "\n",
    "    callbacks = [\n",
    "        tf.keras.callbacks.ModelCheckpoint(\n",
    "            model_path,\n",
    "            save_weights_only=True,\n",
    "            save_best_only=True,\n",
    "        ),\n",
    "        tf.keras.callbacks.EarlyStopping(\n",
    "            monitor=monitor_metric,\n",
    "            patience=patience,\n",
    "            restore_best_weights=True,\n",
    "        ),\n",
    "        tf.keras.callbacks.TensorBoard(\n",
    "            log_dir=(\n",
    "                'logs/fit/' +\n",
    "                datetime.datetime.now().strftime(\"%Y%m%d-%H%M%S\")\n",
    "            ),\n",
    "            histogram_freq=1,\n",
    "        ),\n",
    "    ]\n",
    "        \n",
    "    fit_params = dict(\n",
    "        x=train_data,\n",
    "        y=train_labels,\n",
    "        epochs=epochs,\n",
    "        batch_size=batch_size,\n",
    "    )\n",
    "    if validation_data:\n",
    "        fit_params['validation_data'] = validation_data\n",
    "    else:\n",
    "        fit_params['validation_split'] = validation_split\n",
    "\n",
    "    history = model.fit(\n",
    "        **fit_params,\n",
    "        callbacks=callbacks,\n",
    "    )\n",
    "\n",
    "    return model, history"
   ]
  },
  {
   "cell_type": "markdown",
   "id": "6dfa7ae1",
   "metadata": {},
   "source": [
    "## Experiment"
   ]
  },
  {
   "cell_type": "code",
   "execution_count": 12,
   "id": "27dc5378",
   "metadata": {
    "ExecuteTime": {
     "end_time": "2023-03-05T23:23:42.780441Z",
     "start_time": "2023-03-05T23:23:41.089466Z"
    }
   },
   "outputs": [
    {
     "name": "stderr",
     "output_type": "stream",
     "text": [
      "2023-03-05 15:23:41.146851: I tensorflow/stream_executor/cuda/cuda_gpu_executor.cc:980] successful NUMA node read from SysFS had negative value (-1), but there must be at least one NUMA node, so returning NUMA node zero\n",
      "2023-03-05 15:23:41.150373: I tensorflow/stream_executor/cuda/cuda_gpu_executor.cc:980] successful NUMA node read from SysFS had negative value (-1), but there must be at least one NUMA node, so returning NUMA node zero\n",
      "2023-03-05 15:23:41.150527: I tensorflow/stream_executor/cuda/cuda_gpu_executor.cc:980] successful NUMA node read from SysFS had negative value (-1), but there must be at least one NUMA node, so returning NUMA node zero\n",
      "2023-03-05 15:23:41.151015: I tensorflow/core/platform/cpu_feature_guard.cc:193] This TensorFlow binary is optimized with oneAPI Deep Neural Network Library (oneDNN) to use the following CPU instructions in performance-critical operations:  AVX2 FMA\n",
      "To enable them in other operations, rebuild TensorFlow with the appropriate compiler flags.\n",
      "2023-03-05 15:23:41.154045: I tensorflow/stream_executor/cuda/cuda_gpu_executor.cc:980] successful NUMA node read from SysFS had negative value (-1), but there must be at least one NUMA node, so returning NUMA node zero\n",
      "2023-03-05 15:23:41.154188: I tensorflow/stream_executor/cuda/cuda_gpu_executor.cc:980] successful NUMA node read from SysFS had negative value (-1), but there must be at least one NUMA node, so returning NUMA node zero\n",
      "2023-03-05 15:23:41.154314: I tensorflow/stream_executor/cuda/cuda_gpu_executor.cc:980] successful NUMA node read from SysFS had negative value (-1), but there must be at least one NUMA node, so returning NUMA node zero\n",
      "2023-03-05 15:23:41.596604: I tensorflow/stream_executor/cuda/cuda_gpu_executor.cc:980] successful NUMA node read from SysFS had negative value (-1), but there must be at least one NUMA node, so returning NUMA node zero\n",
      "2023-03-05 15:23:41.596798: I tensorflow/stream_executor/cuda/cuda_gpu_executor.cc:980] successful NUMA node read from SysFS had negative value (-1), but there must be at least one NUMA node, so returning NUMA node zero\n",
      "2023-03-05 15:23:41.596935: I tensorflow/stream_executor/cuda/cuda_gpu_executor.cc:980] successful NUMA node read from SysFS had negative value (-1), but there must be at least one NUMA node, so returning NUMA node zero\n",
      "2023-03-05 15:23:41.597053: I tensorflow/core/common_runtime/gpu/gpu_device.cc:1616] Created device /job:localhost/replica:0/task:0/device:GPU:0 with 21802 MB memory:  -> device: 0, name: NVIDIA GeForce RTX 3090 Ti, pci bus id: 0000:01:00.0, compute capability: 8.6\n"
     ]
    }
   ],
   "source": [
    "model = get_sequence_model(max_frames=MAX_FRAMES, num_features=NUM_FEATURES)"
   ]
  },
  {
   "cell_type": "code",
   "execution_count": 13,
   "id": "5c21d6df",
   "metadata": {
    "ExecuteTime": {
     "end_time": "2023-03-05T23:23:42.802300Z",
     "start_time": "2023-03-05T23:23:42.782056Z"
    }
   },
   "outputs": [
    {
     "name": "stdout",
     "output_type": "stream",
     "text": [
      "Model: \"model\"\n",
      "__________________________________________________________________________________________________\n",
      " Layer (type)                   Output Shape         Param #     Connected to                     \n",
      "==================================================================================================\n",
      " input_1 (InputLayer)           [(None, 20, 1629)]   0           []                               \n",
      "                                                                                                  \n",
      " input_2 (InputLayer)           [(None, 20)]         0           []                               \n",
      "                                                                                                  \n",
      " gru (GRU)                      (None, 20, 64)       325440      ['input_1[0][0]',                \n",
      "                                                                  'input_2[0][0]']                \n",
      "                                                                                                  \n",
      " gru_1 (GRU)                    (None, 32)           9408        ['gru[0][0]']                    \n",
      "                                                                                                  \n",
      " dense (Dense)                  (None, 64)           2112        ['gru_1[0][0]']                  \n",
      "                                                                                                  \n",
      " dropout (Dropout)              (None, 64)           0           ['dense[0][0]']                  \n",
      "                                                                                                  \n",
      " dense_1 (Dense)                (None, 128)          8320        ['dropout[0][0]']                \n",
      "                                                                                                  \n",
      " dense_2 (Dense)                (None, 128)          16512       ['dense_1[0][0]']                \n",
      "                                                                                                  \n",
      " dropout_1 (Dropout)            (None, 128)          0           ['dense_2[0][0]']                \n",
      "                                                                                                  \n",
      " dense_3 (Dense)                (None, 64)           8256        ['dropout_1[0][0]']              \n",
      "                                                                                                  \n",
      " dense_4 (Dense)                (None, 64)           4160        ['dense_3[0][0]']                \n",
      "                                                                                                  \n",
      " dropout_2 (Dropout)            (None, 64)           0           ['dense_4[0][0]']                \n",
      "                                                                                                  \n",
      " flatten (Flatten)              (None, 64)           0           ['dropout_2[0][0]']              \n",
      "                                                                                                  \n",
      " dense_5 (Dense)                (None, 250)          16250       ['flatten[0][0]']                \n",
      "                                                                                                  \n",
      "==================================================================================================\n",
      "Total params: 390,458\n",
      "Trainable params: 390,458\n",
      "Non-trainable params: 0\n",
      "__________________________________________________________________________________________________\n"
     ]
    }
   ],
   "source": [
    "model.summary()"
   ]
  },
  {
   "cell_type": "code",
   "execution_count": 14,
   "id": "1f5a692f",
   "metadata": {
    "ExecuteTime": {
     "end_time": "2023-03-06T00:00:53.460081Z",
     "start_time": "2023-03-05T23:23:42.803425Z"
    },
    "scrolled": true
   },
   "outputs": [
    {
     "name": "stdout",
     "output_type": "stream",
     "text": [
      "Model: \"model\"\n",
      "__________________________________________________________________________________________________\n",
      " Layer (type)                   Output Shape         Param #     Connected to                     \n",
      "==================================================================================================\n",
      " input_1 (InputLayer)           [(None, 20, 1629)]   0           []                               \n",
      "                                                                                                  \n",
      " input_2 (InputLayer)           [(None, 20)]         0           []                               \n",
      "                                                                                                  \n",
      " gru (GRU)                      (None, 20, 64)       325440      ['input_1[0][0]',                \n",
      "                                                                  'input_2[0][0]']                \n",
      "                                                                                                  \n",
      " gru_1 (GRU)                    (None, 32)           9408        ['gru[0][0]']                    \n",
      "                                                                                                  \n",
      " dense (Dense)                  (None, 64)           2112        ['gru_1[0][0]']                  \n",
      "                                                                                                  \n",
      " dropout (Dropout)              (None, 64)           0           ['dense[0][0]']                  \n",
      "                                                                                                  \n",
      " dense_1 (Dense)                (None, 128)          8320        ['dropout[0][0]']                \n",
      "                                                                                                  \n",
      " dense_2 (Dense)                (None, 128)          16512       ['dense_1[0][0]']                \n",
      "                                                                                                  \n",
      " dropout_1 (Dropout)            (None, 128)          0           ['dense_2[0][0]']                \n",
      "                                                                                                  \n",
      " dense_3 (Dense)                (None, 64)           8256        ['dropout_1[0][0]']              \n",
      "                                                                                                  \n",
      " dense_4 (Dense)                (None, 64)           4160        ['dense_3[0][0]']                \n",
      "                                                                                                  \n",
      " dropout_2 (Dropout)            (None, 64)           0           ['dense_4[0][0]']                \n",
      "                                                                                                  \n",
      " flatten (Flatten)              (None, 64)           0           ['dropout_2[0][0]']              \n",
      "                                                                                                  \n",
      " dense_5 (Dense)                (None, 250)          16250       ['flatten[0][0]']                \n",
      "                                                                                                  \n",
      "==================================================================================================\n",
      "Total params: 390,458\n",
      "Trainable params: 390,458\n",
      "Non-trainable params: 0\n",
      "__________________________________________________________________________________________________\n",
      "None\n"
     ]
    },
    {
     "name": "stderr",
     "output_type": "stream",
     "text": [
      "2023-03-05 15:23:46.733231: W tensorflow/core/framework/cpu_allocator_impl.cc:82] Allocation of 19699431840 exceeds 10% of free system memory.\n",
      "2023-03-05 15:23:55.331484: W tensorflow/core/framework/cpu_allocator_impl.cc:82] Allocation of 19699431840 exceeds 10% of free system memory.\n"
     ]
    },
    {
     "name": "stdout",
     "output_type": "stream",
     "text": [
      "Epoch 1/200\n"
     ]
    },
    {
     "name": "stderr",
     "output_type": "stream",
     "text": [
      "2023-03-05 15:24:05.336005: W tensorflow/core/common_runtime/forward_type_inference.cc:332] Type inference failed. This indicates an invalid graph that escaped type checking. Error message: INVALID_ARGUMENT: expected compatible input types, but input 1:\n",
      "type_id: TFT_OPTIONAL\n",
      "args {\n",
      "  type_id: TFT_PRODUCT\n",
      "  args {\n",
      "    type_id: TFT_TENSOR\n",
      "    args {\n",
      "      type_id: TFT_INT32\n",
      "    }\n",
      "  }\n",
      "}\n",
      " is neither a subtype nor a supertype of the combined inputs preceding it:\n",
      "type_id: TFT_OPTIONAL\n",
      "args {\n",
      "  type_id: TFT_PRODUCT\n",
      "  args {\n",
      "    type_id: TFT_TENSOR\n",
      "    args {\n",
      "      type_id: TFT_INT8\n",
      "    }\n",
      "  }\n",
      "}\n",
      "\n",
      "\twhile inferring type of node 'cond_41/output/_22'\n",
      "2023-03-05 15:24:06.078203: I tensorflow/stream_executor/cuda/cuda_dnn.cc:384] Loaded cuDNN version 8100\n",
      "2023-03-05 15:24:06.918313: I tensorflow/stream_executor/cuda/cuda_blas.cc:1614] TensorFloat-32 will be used for the matrix multiplication. This will only be logged once.\n"
     ]
    },
    {
     "name": "stdout",
     "output_type": "stream",
     "text": [
      "2362/2362 [==============================] - 38s 14ms/step - loss: 5.5200 - accuracy: 0.0041 - val_loss: 5.5117 - val_accuracy: 0.0046\n",
      "Epoch 2/200\n",
      "2362/2362 [==============================] - 29s 12ms/step - loss: 5.5105 - accuracy: 0.0048 - val_loss: 5.5001 - val_accuracy: 0.0050\n",
      "Epoch 3/200\n",
      "2362/2362 [==============================] - 30s 13ms/step - loss: 5.4893 - accuracy: 0.0063 - val_loss: 5.4819 - val_accuracy: 0.0062\n",
      "Epoch 4/200\n",
      "2362/2362 [==============================] - 30s 13ms/step - loss: 5.4581 - accuracy: 0.0064 - val_loss: 5.3972 - val_accuracy: 0.0069\n",
      "Epoch 5/200\n",
      "2362/2362 [==============================] - 29s 12ms/step - loss: 5.3382 - accuracy: 0.0093 - val_loss: 5.2378 - val_accuracy: 0.0105\n",
      "Epoch 6/200\n",
      "2362/2362 [==============================] - 29s 12ms/step - loss: 5.2271 - accuracy: 0.0119 - val_loss: 5.1164 - val_accuracy: 0.0150\n",
      "Epoch 7/200\n",
      "2362/2362 [==============================] - 29s 12ms/step - loss: 5.0579 - accuracy: 0.0172 - val_loss: 4.9444 - val_accuracy: 0.0224\n",
      "Epoch 8/200\n",
      "2362/2362 [==============================] - 30s 13ms/step - loss: 4.9248 - accuracy: 0.0231 - val_loss: 4.8125 - val_accuracy: 0.0341\n",
      "Epoch 9/200\n",
      "2362/2362 [==============================] - 30s 13ms/step - loss: 4.8363 - accuracy: 0.0289 - val_loss: 4.7298 - val_accuracy: 0.0354\n",
      "Epoch 10/200\n",
      "2362/2362 [==============================] - 30s 13ms/step - loss: 4.7726 - accuracy: 0.0335 - val_loss: 4.6917 - val_accuracy: 0.0416\n",
      "Epoch 11/200\n",
      "2362/2362 [==============================] - 30s 13ms/step - loss: 4.7187 - accuracy: 0.0379 - val_loss: 4.6485 - val_accuracy: 0.0472\n",
      "Epoch 12/200\n",
      "2362/2362 [==============================] - 31s 13ms/step - loss: 4.6743 - accuracy: 0.0416 - val_loss: 4.6017 - val_accuracy: 0.0514\n",
      "Epoch 13/200\n",
      "2362/2362 [==============================] - 30s 13ms/step - loss: 4.6350 - accuracy: 0.0448 - val_loss: 4.5656 - val_accuracy: 0.0541\n",
      "Epoch 14/200\n",
      "2362/2362 [==============================] - 30s 13ms/step - loss: 4.6042 - accuracy: 0.0482 - val_loss: 4.5888 - val_accuracy: 0.0531\n",
      "Epoch 15/200\n",
      "2362/2362 [==============================] - 30s 13ms/step - loss: 4.5698 - accuracy: 0.0512 - val_loss: 4.5830 - val_accuracy: 0.0520\n",
      "Epoch 16/200\n",
      "2362/2362 [==============================] - 30s 13ms/step - loss: 4.5324 - accuracy: 0.0554 - val_loss: 4.4334 - val_accuracy: 0.0738\n",
      "Epoch 17/200\n",
      "2362/2362 [==============================] - 30s 13ms/step - loss: 4.4789 - accuracy: 0.0615 - val_loss: 4.4097 - val_accuracy: 0.0713\n",
      "Epoch 18/200\n",
      "2362/2362 [==============================] - 30s 13ms/step - loss: 4.4160 - accuracy: 0.0669 - val_loss: 4.3448 - val_accuracy: 0.0776\n",
      "Epoch 19/200\n",
      "2362/2362 [==============================] - 30s 13ms/step - loss: 4.3465 - accuracy: 0.0729 - val_loss: 4.2400 - val_accuracy: 0.0867\n",
      "Epoch 20/200\n",
      "2362/2362 [==============================] - 29s 12ms/step - loss: 4.2825 - accuracy: 0.0777 - val_loss: 4.1799 - val_accuracy: 0.0953\n",
      "Epoch 21/200\n",
      "2362/2362 [==============================] - 30s 13ms/step - loss: 4.2157 - accuracy: 0.0848 - val_loss: 4.1266 - val_accuracy: 0.1008\n",
      "Epoch 22/200\n",
      "2362/2362 [==============================] - 29s 12ms/step - loss: 4.1670 - accuracy: 0.0902 - val_loss: 4.3355 - val_accuracy: 0.0708\n",
      "Epoch 23/200\n",
      "2362/2362 [==============================] - 30s 13ms/step - loss: 4.1176 - accuracy: 0.0953 - val_loss: 4.0837 - val_accuracy: 0.1056\n",
      "Epoch 24/200\n",
      "2362/2362 [==============================] - 29s 12ms/step - loss: 4.0696 - accuracy: 0.1004 - val_loss: 3.9648 - val_accuracy: 0.1195\n",
      "Epoch 25/200\n",
      "2362/2362 [==============================] - 29s 12ms/step - loss: 4.0393 - accuracy: 0.1033 - val_loss: 4.0115 - val_accuracy: 0.1135\n",
      "Epoch 26/200\n",
      "2362/2362 [==============================] - 29s 12ms/step - loss: 4.0059 - accuracy: 0.1079 - val_loss: 3.9528 - val_accuracy: 0.1184\n",
      "Epoch 27/200\n",
      "2362/2362 [==============================] - 30s 13ms/step - loss: 3.9749 - accuracy: 0.1106 - val_loss: 3.9356 - val_accuracy: 0.1251\n",
      "Epoch 28/200\n",
      "2362/2362 [==============================] - 30s 13ms/step - loss: 3.9385 - accuracy: 0.1155 - val_loss: 3.8540 - val_accuracy: 0.1385\n",
      "Epoch 29/200\n",
      "2362/2362 [==============================] - 30s 13ms/step - loss: 3.9118 - accuracy: 0.1190 - val_loss: 3.8845 - val_accuracy: 0.1289\n",
      "Epoch 30/200\n",
      "2362/2362 [==============================] - 30s 13ms/step - loss: 3.8729 - accuracy: 0.1230 - val_loss: 3.7855 - val_accuracy: 0.1437\n",
      "Epoch 31/200\n",
      "2362/2362 [==============================] - 31s 13ms/step - loss: 3.8426 - accuracy: 0.1277 - val_loss: 3.8061 - val_accuracy: 0.1407\n",
      "Epoch 32/200\n",
      "2362/2362 [==============================] - 30s 13ms/step - loss: 3.8138 - accuracy: 0.1318 - val_loss: 4.0084 - val_accuracy: 0.1102\n",
      "Epoch 33/200\n",
      "2362/2362 [==============================] - 30s 13ms/step - loss: 3.7856 - accuracy: 0.1368 - val_loss: 3.7405 - val_accuracy: 0.1428\n",
      "Epoch 34/200\n",
      "2362/2362 [==============================] - 29s 12ms/step - loss: 3.7506 - accuracy: 0.1406 - val_loss: 3.7094 - val_accuracy: 0.1539\n",
      "Epoch 35/200\n",
      "2362/2362 [==============================] - 29s 12ms/step - loss: 3.7184 - accuracy: 0.1435 - val_loss: 3.6937 - val_accuracy: 0.1536\n",
      "Epoch 36/200\n",
      "2362/2362 [==============================] - 30s 13ms/step - loss: 3.6968 - accuracy: 0.1484 - val_loss: 3.5789 - val_accuracy: 0.1744\n",
      "Epoch 37/200\n",
      "2362/2362 [==============================] - 31s 13ms/step - loss: 3.6715 - accuracy: 0.1522 - val_loss: 3.7043 - val_accuracy: 0.1516\n",
      "Epoch 38/200\n",
      "2362/2362 [==============================] - 30s 13ms/step - loss: 3.6422 - accuracy: 0.1565 - val_loss: 3.5577 - val_accuracy: 0.1838\n",
      "Epoch 39/200\n",
      "2362/2362 [==============================] - 30s 12ms/step - loss: 3.6219 - accuracy: 0.1608 - val_loss: 3.7185 - val_accuracy: 0.1451\n",
      "Epoch 40/200\n",
      "2362/2362 [==============================] - 29s 12ms/step - loss: 3.5980 - accuracy: 0.1638 - val_loss: 3.6555 - val_accuracy: 0.1577\n",
      "Epoch 41/200\n",
      "2362/2362 [==============================] - 29s 12ms/step - loss: 3.5795 - accuracy: 0.1657 - val_loss: 3.5999 - val_accuracy: 0.1659\n",
      "Epoch 42/200\n",
      "2362/2362 [==============================] - 29s 12ms/step - loss: 3.5609 - accuracy: 0.1682 - val_loss: 3.5461 - val_accuracy: 0.1805\n",
      "Epoch 43/200\n",
      "2362/2362 [==============================] - 30s 13ms/step - loss: 3.5451 - accuracy: 0.1732 - val_loss: 3.6031 - val_accuracy: 0.1687\n",
      "Epoch 44/200\n",
      "2362/2362 [==============================] - 30s 13ms/step - loss: 3.5208 - accuracy: 0.1764 - val_loss: 3.4785 - val_accuracy: 0.1931\n",
      "Epoch 45/200\n",
      "2362/2362 [==============================] - 31s 13ms/step - loss: 3.5099 - accuracy: 0.1798 - val_loss: 3.5195 - val_accuracy: 0.1843\n",
      "Epoch 46/200\n",
      "2362/2362 [==============================] - 31s 13ms/step - loss: 3.4931 - accuracy: 0.1811 - val_loss: 3.4670 - val_accuracy: 0.1919\n",
      "Epoch 47/200\n",
      "2362/2362 [==============================] - 30s 13ms/step - loss: 3.4724 - accuracy: 0.1853 - val_loss: 3.5591 - val_accuracy: 0.1760\n",
      "Epoch 48/200\n",
      "2362/2362 [==============================] - 30s 13ms/step - loss: 3.4680 - accuracy: 0.1840 - val_loss: 3.4355 - val_accuracy: 0.2004\n",
      "Epoch 49/200\n",
      "2362/2362 [==============================] - 29s 12ms/step - loss: 3.4562 - accuracy: 0.1868 - val_loss: 3.4084 - val_accuracy: 0.2009\n",
      "Epoch 50/200\n",
      "2362/2362 [==============================] - 29s 12ms/step - loss: 3.4408 - accuracy: 0.1901 - val_loss: 3.3998 - val_accuracy: 0.2152\n",
      "Epoch 51/200\n",
      "2362/2362 [==============================] - 30s 13ms/step - loss: 3.4204 - accuracy: 0.1932 - val_loss: 3.4187 - val_accuracy: 0.2107\n",
      "Epoch 52/200\n",
      "2362/2362 [==============================] - 31s 13ms/step - loss: 3.4105 - accuracy: 0.1959 - val_loss: 3.4252 - val_accuracy: 0.1994\n",
      "Epoch 53/200\n",
      "2362/2362 [==============================] - 30s 13ms/step - loss: 3.3896 - accuracy: 0.1995 - val_loss: 3.3407 - val_accuracy: 0.2206\n",
      "Epoch 54/200\n",
      "2362/2362 [==============================] - 30s 13ms/step - loss: 3.3852 - accuracy: 0.2002 - val_loss: 3.4466 - val_accuracy: 0.2043\n",
      "Epoch 55/200\n",
      "2362/2362 [==============================] - 30s 13ms/step - loss: 3.3783 - accuracy: 0.2027 - val_loss: 3.3558 - val_accuracy: 0.2200\n",
      "Epoch 56/200\n",
      "2362/2362 [==============================] - 30s 13ms/step - loss: 3.3657 - accuracy: 0.2043 - val_loss: 3.3328 - val_accuracy: 0.2199\n",
      "Epoch 57/200\n",
      "2362/2362 [==============================] - 30s 13ms/step - loss: 3.3500 - accuracy: 0.2062 - val_loss: 3.4530 - val_accuracy: 0.1986\n",
      "Epoch 58/200\n",
      "2362/2362 [==============================] - 30s 13ms/step - loss: 3.3421 - accuracy: 0.2095 - val_loss: 3.4137 - val_accuracy: 0.2048\n",
      "Epoch 59/200\n",
      "2362/2362 [==============================] - 30s 13ms/step - loss: 3.3270 - accuracy: 0.2118 - val_loss: 3.2458 - val_accuracy: 0.2365\n",
      "Epoch 60/200\n",
      "2362/2362 [==============================] - 30s 13ms/step - loss: 3.3205 - accuracy: 0.2140 - val_loss: 3.3941 - val_accuracy: 0.2122\n",
      "Epoch 61/200\n",
      "2362/2362 [==============================] - 30s 13ms/step - loss: 3.3146 - accuracy: 0.2135 - val_loss: 3.3187 - val_accuracy: 0.2293\n",
      "Epoch 62/200\n",
      "2362/2362 [==============================] - 29s 12ms/step - loss: 3.3031 - accuracy: 0.2153 - val_loss: 3.2218 - val_accuracy: 0.2435\n",
      "Epoch 63/200\n",
      "2362/2362 [==============================] - 30s 13ms/step - loss: 3.2954 - accuracy: 0.2174 - val_loss: 3.2595 - val_accuracy: 0.2424\n",
      "Epoch 64/200\n",
      "2362/2362 [==============================] - 30s 13ms/step - loss: 3.2908 - accuracy: 0.2201 - val_loss: 3.4608 - val_accuracy: 0.1986\n",
      "Epoch 65/200\n",
      "2362/2362 [==============================] - 30s 13ms/step - loss: 3.2774 - accuracy: 0.2212 - val_loss: 3.3558 - val_accuracy: 0.2177\n",
      "Epoch 66/200\n",
      "2362/2362 [==============================] - 30s 13ms/step - loss: 3.2663 - accuracy: 0.2240 - val_loss: 3.1992 - val_accuracy: 0.2520\n",
      "Epoch 67/200\n",
      "2362/2362 [==============================] - 29s 12ms/step - loss: 3.2604 - accuracy: 0.2241 - val_loss: 3.2233 - val_accuracy: 0.2425\n",
      "Epoch 68/200\n",
      "2362/2362 [==============================] - 30s 13ms/step - loss: 3.2491 - accuracy: 0.2269 - val_loss: 3.2331 - val_accuracy: 0.2420\n",
      "Epoch 69/200\n",
      "2362/2362 [==============================] - 30s 13ms/step - loss: 3.2404 - accuracy: 0.2279 - val_loss: 3.3050 - val_accuracy: 0.2244\n",
      "Epoch 70/200\n",
      "2362/2362 [==============================] - 29s 12ms/step - loss: 3.2345 - accuracy: 0.2306 - val_loss: 3.4034 - val_accuracy: 0.2085\n",
      "Epoch 71/200\n",
      "2362/2362 [==============================] - 31s 13ms/step - loss: 3.2301 - accuracy: 0.2305 - val_loss: 3.2133 - val_accuracy: 0.2395\n",
      "Epoch 72/200\n",
      "2362/2362 [==============================] - 30s 13ms/step - loss: 3.2104 - accuracy: 0.2346 - val_loss: 3.2837 - val_accuracy: 0.2318\n",
      "Epoch 73/200\n",
      "2362/2362 [==============================] - 29s 12ms/step - loss: 3.2104 - accuracy: 0.2340 - val_loss: 3.3427 - val_accuracy: 0.2205\n",
      "Epoch 74/200\n",
      "2362/2362 [==============================] - 30s 13ms/step - loss: 3.2123 - accuracy: 0.2341 - val_loss: 3.2426 - val_accuracy: 0.2362\n"
     ]
    }
   ],
   "source": [
    "model, history = run_experiment(\n",
    "    model=model,\n",
    "    train_data=(X_train, M_train),\n",
    "    train_labels=y_train,\n",
    "    validation_data=((X_val, M_val), y_val),\n",
    "    model_path='model_test-mirror-rnn.h5',\n",
    "    batch_size=64,\n",
    "    epochs=200,\n",
    "    patience=8,\n",
    ")"
   ]
  },
  {
   "cell_type": "code",
   "execution_count": 15,
   "id": "9cd22be1",
   "metadata": {
    "ExecuteTime": {
     "end_time": "2023-03-06T00:01:04.065089Z",
     "start_time": "2023-03-06T00:00:53.461487Z"
    }
   },
   "outputs": [
    {
     "name": "stderr",
     "output_type": "stream",
     "text": [
      "WARNING:absl:Found untraced functions such as gru_cell_layer_call_fn, gru_cell_layer_call_and_return_conditional_losses, gru_cell_1_layer_call_fn, gru_cell_1_layer_call_and_return_conditional_losses while saving (showing 4 of 4). These functions will not be directly callable after loading.\n"
     ]
    },
    {
     "name": "stdout",
     "output_type": "stream",
     "text": [
      "INFO:tensorflow:Assets written to: ram://929edf53-00cd-4d07-bb88-2a7bffb6db06/assets\n"
     ]
    },
    {
     "name": "stderr",
     "output_type": "stream",
     "text": [
      "INFO:tensorflow:Assets written to: ram://929edf53-00cd-4d07-bb88-2a7bffb6db06/assets\n"
     ]
    },
    {
     "data": {
      "text/plain": [
       "['history-model_test-mirror-rnn.gz']"
      ]
     },
     "execution_count": 15,
     "metadata": {},
     "output_type": "execute_result"
    }
   ],
   "source": [
    "import joblib\n",
    "\n",
    "joblib.dump(history, 'history-model_test-mirror-rnn.gz')"
   ]
  },
  {
   "cell_type": "markdown",
   "id": "fd97a6ba",
   "metadata": {},
   "source": [
    "### Plot Results"
   ]
  },
  {
   "cell_type": "code",
   "execution_count": 16,
   "id": "13752abc",
   "metadata": {
    "ExecuteTime": {
     "end_time": "2023-03-06T00:01:04.374684Z",
     "start_time": "2023-03-06T00:01:04.066593Z"
    }
   },
   "outputs": [
    {
     "data": {
      "image/png": "[encoded data removed]",
      "text/plain": [
       "<Figure size 1600x1200 with 2 Axes>"
      ]
     },
     "metadata": {},
     "output_type": "display_data"
    }
   ],
   "source": [
    "# summarize history for accuracy\n",
    "f, (ax_acc, ax_loss) = plt.subplots(ncols=2, figsize=(16,12))\n",
    "\n",
    "ax_acc.plot(history.history['accuracy'])\n",
    "ax_acc.plot(history.history['val_accuracy'])\n",
    "plt.title('model accuracy')\n",
    "plt.ylabel('accuracy')\n",
    "plt.xlabel('epoch')\n",
    "plt.legend(['train', 'test'], loc='upper left')\n",
    "# plt.show()\n",
    "\n",
    "# summarize history for loss\n",
    "ax_loss.plot(history.history['loss'])\n",
    "ax_loss.plot(history.history['val_loss'])\n",
    "plt.title('model loss')\n",
    "plt.ylabel('loss')\n",
    "plt.xlabel('epoch')\n",
    "plt.legend(['train', 'test'], loc='upper left')\n",
    "\n",
    "plt.savefig('acc_loss-model_test-mirror-rnn.png')\n",
    "plt.show()"
   ]
  }
 ],
 "metadata": {
  "kernelspec": {
   "display_name": "Python 3 (ipykernel)",
   "language": "python",
   "name": "python3"
  },
  "language_info": {
   "codemirror_mode": {
    "name": "ipython",
    "version": 3
   },
   "file_extension": ".py",
   "mimetype": "text/x-python",
   "name": "python",
   "nbconvert_exporter": "python",
   "pygments_lexer": "ipython3",
   "version": "3.9.15"
  },
  "toc": {
   "base_numbering": 1,
   "nav_menu": {
    "height": "141px",
    "width": "317px"
   },
   "number_sections": true,
   "sideBar": true,
   "skip_h1_title": false,
   "title_cell": "Table of Contents",
   "title_sidebar": "Contents",
   "toc_cell": false,
   "toc_position": {},
   "toc_section_display": true,
   "toc_window_display": false
  }
 },
 "nbformat": 4,
 "nbformat_minor": 5
}
