{
 "cells": [
  {
   "cell_type": "markdown",
   "id": "e4c8a3c0",
   "metadata": {},
   "source": [
    "Baseline_TF\n",
    "https://www.kaggle.com/code/ivaneleskin/baseline-tf"
   ]
  },
  {
   "cell_type": "code",
   "execution_count": 1,
   "id": "743607ba",
   "metadata": {
    "ExecuteTime": {
     "end_time": "2023-02-27T22:03:30.430645Z",
     "start_time": "2023-02-27T22:03:28.838631Z"
    }
   },
   "outputs": [
    {
     "name": "stderr",
     "output_type": "stream",
     "text": [
      "2023-02-27 14:03:29.116515: I tensorflow/core/platform/cpu_feature_guard.cc:193] This TensorFlow binary is optimized with oneAPI Deep Neural Network Library (oneDNN) to use the following CPU instructions in performance-critical operations:  AVX2 FMA\n",
      "To enable them in other operations, rebuild TensorFlow with the appropriate compiler flags.\n",
      "2023-02-27 14:03:29.263158: E tensorflow/stream_executor/cuda/cuda_blas.cc:2981] Unable to register cuBLAS factory: Attempting to register factory for plugin cuBLAS when one has already been registered\n",
      "2023-02-27 14:03:29.710801: W tensorflow/stream_executor/platform/default/dso_loader.cc:64] Could not load dynamic library 'libnvinfer.so.7'; dlerror: libnvinfer.so.7: cannot open shared object file: No such file or directory; LD_LIBRARY_PATH: :/home/victor/miniconda3/envs/tf/lib/:/home/victor/miniconda3/envs/tf/lib/:/home/victor/miniconda3/envs/tf/lib/:/home/victor/miniconda3/envs/tf/lib/\n",
      "2023-02-27 14:03:29.710867: W tensorflow/stream_executor/platform/default/dso_loader.cc:64] Could not load dynamic library 'libnvinfer_plugin.so.7'; dlerror: libnvinfer_plugin.so.7: cannot open shared object file: No such file or directory; LD_LIBRARY_PATH: :/home/victor/miniconda3/envs/tf/lib/:/home/victor/miniconda3/envs/tf/lib/:/home/victor/miniconda3/envs/tf/lib/:/home/victor/miniconda3/envs/tf/lib/\n",
      "2023-02-27 14:03:29.710871: W tensorflow/compiler/tf2tensorrt/utils/py_utils.cc:38] TF-TRT Warning: Cannot dlopen some TensorRT libraries. If you would like to use Nvidia GPU with TensorRT, please make sure the missing libraries mentioned above are installed properly.\n"
     ]
    }
   ],
   "source": [
    "import os\n",
    "import json\n",
    "import numpy as np\n",
    "import pandas as pd\n",
    "from tqdm import tqdm\n",
    "import tensorflow as tf\n",
    "from tqdm import tqdm\n",
    "import json\n",
    "import gc\n",
    "from sklearn.model_selection import train_test_split\n",
    "# import missingno as msno\n",
    "\n",
    "from pathlib import Path"
   ]
  },
  {
   "cell_type": "code",
   "execution_count": 2,
   "id": "3ee4aeb4",
   "metadata": {
    "ExecuteTime": {
     "end_time": "2023-02-27T22:03:30.521334Z",
     "start_time": "2023-02-27T22:03:30.432389Z"
    }
   },
   "outputs": [
    {
     "name": "stdout",
     "output_type": "stream",
     "text": [
      "train.shape = 94477 rows, 4 cols\n",
      "<class 'pandas.core.frame.DataFrame'>\n",
      "RangeIndex: 94477 entries, 0 to 94476\n",
      "Data columns (total 4 columns):\n",
      " #   Column          Non-Null Count  Dtype \n",
      "---  ------          --------------  ----- \n",
      " 0   path            94477 non-null  object\n",
      " 1   participant_id  94477 non-null  int64 \n",
      " 2   sequence_id     94477 non-null  int64 \n",
      " 3   sign            94477 non-null  object\n",
      "dtypes: int64(2), object(2)\n",
      "memory usage: 2.9+ MB\n"
     ]
    },
    {
     "data": {
      "text/html": [
       "<div>\n",
       "<style scoped>\n",
       "    .dataframe tbody tr th:only-of-type {\n",
       "        vertical-align: middle;\n",
       "    }\n",
       "\n",
       "    .dataframe tbody tr th {\n",
       "        vertical-align: top;\n",
       "    }\n",
       "\n",
       "    .dataframe thead th {\n",
       "        text-align: right;\n",
       "    }\n",
       "</style>\n",
       "<table border=\"1\" class=\"dataframe\">\n",
       "  <thead>\n",
       "    <tr style=\"text-align: right;\">\n",
       "      <th></th>\n",
       "      <th>path</th>\n",
       "      <th>participant_id</th>\n",
       "      <th>sequence_id</th>\n",
       "      <th>sign</th>\n",
       "    </tr>\n",
       "  </thead>\n",
       "  <tbody>\n",
       "    <tr>\n",
       "      <th>0</th>\n",
       "      <td>train_landmark_files/26734/1000035562.parquet</td>\n",
       "      <td>26734</td>\n",
       "      <td>1000035562</td>\n",
       "      <td>blow</td>\n",
       "    </tr>\n",
       "    <tr>\n",
       "      <th>1</th>\n",
       "      <td>train_landmark_files/28656/1000106739.parquet</td>\n",
       "      <td>28656</td>\n",
       "      <td>1000106739</td>\n",
       "      <td>wait</td>\n",
       "    </tr>\n",
       "    <tr>\n",
       "      <th>2</th>\n",
       "      <td>train_landmark_files/16069/100015657.parquet</td>\n",
       "      <td>16069</td>\n",
       "      <td>100015657</td>\n",
       "      <td>cloud</td>\n",
       "    </tr>\n",
       "    <tr>\n",
       "      <th>3</th>\n",
       "      <td>train_landmark_files/25571/1000210073.parquet</td>\n",
       "      <td>25571</td>\n",
       "      <td>1000210073</td>\n",
       "      <td>bird</td>\n",
       "    </tr>\n",
       "    <tr>\n",
       "      <th>4</th>\n",
       "      <td>train_landmark_files/62590/1000240708.parquet</td>\n",
       "      <td>62590</td>\n",
       "      <td>1000240708</td>\n",
       "      <td>owie</td>\n",
       "    </tr>\n",
       "  </tbody>\n",
       "</table>\n",
       "</div>"
      ],
      "text/plain": [
       "                                            path  participant_id  sequence_id  \\\n",
       "0  train_landmark_files/26734/1000035562.parquet           26734   1000035562   \n",
       "1  train_landmark_files/28656/1000106739.parquet           28656   1000106739   \n",
       "2   train_landmark_files/16069/100015657.parquet           16069    100015657   \n",
       "3  train_landmark_files/25571/1000210073.parquet           25571   1000210073   \n",
       "4  train_landmark_files/62590/1000240708.parquet           62590   1000240708   \n",
       "\n",
       "    sign  \n",
       "0   blow  \n",
       "1   wait  \n",
       "2  cloud  \n",
       "3   bird  \n",
       "4   owie  "
      ]
     },
     "execution_count": 2,
     "metadata": {},
     "output_type": "execute_result"
    }
   ],
   "source": [
    "DATA_ROOT = Path('..')\n",
    "DF_TRAIN = DATA_ROOT / 'train.csv'\n",
    "train = pd.read_csv(DF_TRAIN)\n",
    "\n",
    "print(\"train.shape = {} rows, {} cols\".format(*train.shape))\n",
    "train.info()\n",
    "train.head()\n"
   ]
  },
  {
   "cell_type": "code",
   "execution_count": null,
   "id": "cdca81b7",
   "metadata": {
    "ExecuteTime": {
     "end_time": "2023-02-27T18:53:45.403059Z",
     "start_time": "2023-02-27T18:53:45.006670Z"
    }
   },
   "outputs": [],
   "source": []
  },
  {
   "cell_type": "code",
   "execution_count": 3,
   "id": "11726f4f",
   "metadata": {
    "ExecuteTime": {
     "end_time": "2023-02-27T22:03:30.527007Z",
     "start_time": "2023-02-27T22:03:30.522696Z"
    }
   },
   "outputs": [],
   "source": [
    "class CFG:\n",
    "    data_path = \"../\"\n",
    "    quick_experiment = False\n",
    "    is_training = True\n",
    "    use_aggregation_dataset = True\n",
    "    num_classes = 250\n",
    "    rows_per_frame = 543 \n",
    "\n",
    "def load_relevant_data_subset_with_imputation(pq_path):\n",
    "    data_columns = ['x', 'y', 'z']\n",
    "    data = pd.read_parquet(pq_path, columns=data_columns)\n",
    "    data.replace(np.nan, 0, inplace=True)\n",
    "    n_frames = int(len(data) / CFG.rows_per_frame)\n",
    "    data = data.values.reshape(n_frames, CFG.rows_per_frame, len(data_columns))\n",
    "    return data.astype(np.float32)\n",
    "\n",
    "def load_relevant_data_subset(pq_path):\n",
    "    data_columns = ['x', 'y', 'z']\n",
    "    data = pd.read_parquet(pq_path, columns=data_columns)\n",
    "    n_frames = int(len(data) / CFG.rows_per_frame)\n",
    "    data = data.values.reshape(n_frames, CFG.rows_per_frame, len(data_columns))\n",
    "    return data.astype(np.float32)\n",
    "\n",
    "def read_dict(file_path):\n",
    "    path = os.path.expanduser(file_path)\n",
    "    with open(path, \"r\") as f:\n",
    "        dic = json.load(f)\n",
    "    return dic"
   ]
  },
  {
   "cell_type": "code",
   "execution_count": 4,
   "id": "150fc1bc",
   "metadata": {
    "ExecuteTime": {
     "end_time": "2023-02-27T22:03:30.611585Z",
     "start_time": "2023-02-27T22:03:30.528546Z"
    }
   },
   "outputs": [],
   "source": [
    "train = pd.read_csv(f\"{CFG.data_path}train.csv\")\n",
    "label_index = read_dict(f\"{CFG.data_path}sign_to_prediction_index_map.json\")\n",
    "index_label = {label_index[key]: key for key in label_index}\n",
    "train[\"label\"] = train[\"sign\"].map(lambda sign: label_index[sign])"
   ]
  },
  {
   "cell_type": "code",
   "execution_count": 5,
   "id": "fda181c9",
   "metadata": {
    "ExecuteTime": {
     "end_time": "2023-02-27T22:08:16.610997Z",
     "start_time": "2023-02-27T22:03:30.613014Z"
    }
   },
   "outputs": [
    {
     "name": "stdout",
     "output_type": "stream",
     "text": [
      "True\n",
      "True\n"
     ]
    },
    {
     "name": "stderr",
     "output_type": "stream",
     "text": [
      "100%|████████████████████████████████████████████████████████████████████████| 94477/94477 [04:44<00:00, 331.52it/s]\n"
     ]
    },
    {
     "name": "stdout",
     "output_type": "stream",
     "text": [
      "count    94477.000000\n",
      "mean        37.935021\n",
      "std         44.177069\n",
      "min          2.000000\n",
      "25%         12.000000\n",
      "50%         22.000000\n",
      "75%         44.000000\n",
      "max        537.000000\n",
      "Name: num_frames, dtype: float64\n",
      "(94477, 543, 3) (94477,)\n"
     ]
    }
   ],
   "source": [
    "if CFG.is_training:\n",
    "    print('True')\n",
    "#     if CFG.use_aggregation_dataset == True:\n",
    "    try:\n",
    "        X=  np.load('X_3d.npy')\n",
    "        y= np.load('y_3d.npy')\n",
    "    except:\n",
    "        print('True')\n",
    "        xs, ys = [], []\n",
    "        num_frames = np.zeros(len(train))\n",
    "        for i in tqdm(range(len(train))):\n",
    "            path = f\"{CFG.data_path}{train.iloc[i].path}\"\n",
    "            data = load_relevant_data_subset_with_imputation(path)\n",
    "            ## Mean Aggregation\n",
    "            xs.append(np.mean(data, axis=0))\n",
    "            ys.append(train.iloc[i].label)\n",
    "            num_frames[i] = data.shape[0]\n",
    "            if CFG.quick_experiment and i == 4999:\n",
    "                break\n",
    "        ## Save number of frames of each training sample for data analysis\n",
    "        train[\"num_frames\"] = num_frames\n",
    "        X, y = np.array(xs), np.array(ys)\n",
    "        print(train[\"num_frames\"].describe())\n",
    "        train.to_csv(\"train.csv\", index=False)\n",
    "        np.save('X_3d.npy', X)\n",
    "        np.save('y_3d.npy', y)\n",
    "\n",
    "    print(X.shape, y.shape)"
   ]
  },
  {
   "cell_type": "code",
   "execution_count": 37,
   "id": "9b557ccd",
   "metadata": {
    "ExecuteTime": {
     "end_time": "2023-02-27T22:50:13.669886Z",
     "start_time": "2023-02-27T22:50:13.396950Z"
    }
   },
   "outputs": [],
   "source": [
    "model = tf.keras.Sequential([\n",
    "    tf.keras.layers.GRU(128, return_sequences=True, input_shape=[None,3]),\n",
    "    tf.keras.layers.GRU(128),\n",
    "    tf.keras.layers.Dense(250, activation=\"softmax\"),\n",
    "])\n",
    "\n",
    "model.compile(\n",
    "    loss=tf.keras.losses.SparseCategoricalCrossentropy(), \n",
    "    metrics=[\n",
    "        \"accuracy\",\n",
    "        tf.keras.metrics.SparseTopKCategoricalAccuracy(k=5, name=\"top-5-accuracy\"),\n",
    "        tf.keras.metrics.SparseTopKCategoricalAccuracy(k=10),\n",
    "    ]\n",
    ")"
   ]
  },
  {
   "cell_type": "code",
   "execution_count": 38,
   "id": "5bd18508",
   "metadata": {
    "ExecuteTime": {
     "end_time": "2023-02-27T22:52:53.057490Z",
     "start_time": "2023-02-27T22:50:42.222007Z"
    }
   },
   "outputs": [
    {
     "name": "stdout",
     "output_type": "stream",
     "text": [
      "(75581, 543, 3) (75581,) (18896, 543, 3) (18896,)\n",
      "Epoch 1/3\n",
      "591/591 [==============================] - 45s 73ms/step - loss: 5.4264 - accuracy: 0.0078 - top-5-accuracy: 0.0349 - sparse_top_k_categorical_accuracy: 0.0647 - val_loss: 5.3057 - val_accuracy: 0.0102 - val_top-5-accuracy: 0.0470 - val_sparse_top_k_categorical_accuracy: 0.0927\n",
      "Epoch 2/3\n",
      "591/591 [==============================] - 43s 72ms/step - loss: 5.1683 - accuracy: 0.0191 - top-5-accuracy: 0.0776 - sparse_top_k_categorical_accuracy: 0.1379 - val_loss: 4.9814 - val_accuracy: 0.0247 - val_top-5-accuracy: 0.1055 - val_sparse_top_k_categorical_accuracy: 0.1839\n",
      "Epoch 3/3\n",
      "591/591 [==============================] - 42s 72ms/step - loss: 4.9008 - accuracy: 0.0322 - top-5-accuracy: 0.1246 - sparse_top_k_categorical_accuracy: 0.2067 - val_loss: 4.7861 - val_accuracy: 0.0392 - val_top-5-accuracy: 0.1445 - val_sparse_top_k_categorical_accuracy: 0.2405\n",
      "Model: \"sequential_1\"\n",
      "_________________________________________________________________\n",
      " Layer (type)                Output Shape              Param #   \n",
      "=================================================================\n",
      " gru_2 (GRU)                 (None, None, 128)         51072     \n",
      "                                                                 \n",
      " gru_3 (GRU)                 (None, 128)               99072     \n",
      "                                                                 \n",
      " dense_1 (Dense)             (None, 64)                8256      \n",
      "                                                                 \n",
      " dense_2 (Dense)             (None, 32)                2080      \n",
      "                                                                 \n",
      " dense_3 (Dense)             (None, 250)               8250      \n",
      "                                                                 \n",
      "=================================================================\n",
      "Total params: 168,730\n",
      "Trainable params: 168,730\n",
      "Non-trainable params: 0\n",
      "_________________________________________________________________\n"
     ]
    }
   ],
   "source": [
    "# if True:\n",
    "#     X_train, X_val, y_train, y_val = train_test_split(X, y, test_size=0.2, random_state=42, stratify=y)\n",
    "#     print(X_train.shape, y_train.shape, X_val.shape, y_val.shape)\n",
    "# #     del X, y\n",
    "#     gc.collect()\n",
    "# #     model = get_model()\n",
    "#     callbacks = [\n",
    "#         tf.keras.callbacks.ModelCheckpoint(\"model.h5\"),\n",
    "#         tf.keras.callbacks.EarlyStopping(monitor='val_loss', patience=3,),\n",
    "#     ]\n",
    "#     history = model.fit(X_train, y_train, epochs=3, validation_data=(X_val, y_val), batch_size=128, callbacks=callbacks)\n",
    "# else:\n",
    "#     model = tf.keras.models.load_model(\"../model.h5\")\n",
    "# model.summary()"
   ]
  },
  {
   "cell_type": "code",
   "execution_count": 8,
   "id": "482b58d0",
   "metadata": {
    "ExecuteTime": {
     "end_time": "2023-02-27T22:38:21.039821Z",
     "start_time": "2023-02-27T22:12:43.850689Z"
    }
   },
   "outputs": [
    {
     "name": "stdout",
     "output_type": "stream",
     "text": [
      "(75581, 543, 3) (75581,) (18896, 543, 3) (18896,)\n",
      "Epoch 1/50\n",
      "591/591 [==============================] - 42s 71ms/step - loss: 5.2092 - accuracy: 0.0176 - top-5-accuracy: 0.0749 - sparse_top_k_categorical_accuracy: 0.1317 - val_loss: 5.0570 - val_accuracy: 0.0248 - val_top-5-accuracy: 0.1018 - val_sparse_top_k_categorical_accuracy: 0.1769\n",
      "Epoch 2/50\n",
      "591/591 [==============================] - 41s 69ms/step - loss: 4.8950 - accuracy: 0.0378 - top-5-accuracy: 0.1341 - sparse_top_k_categorical_accuracy: 0.2242 - val_loss: 4.7798 - val_accuracy: 0.0465 - val_top-5-accuracy: 0.1630 - val_sparse_top_k_categorical_accuracy: 0.2608\n",
      "Epoch 3/50\n",
      "591/591 [==============================] - 41s 70ms/step - loss: 4.5783 - accuracy: 0.0645 - top-5-accuracy: 0.2099 - sparse_top_k_categorical_accuracy: 0.3267 - val_loss: 4.5038 - val_accuracy: 0.0705 - val_top-5-accuracy: 0.2327 - val_sparse_top_k_categorical_accuracy: 0.3539\n",
      "Epoch 4/50\n",
      "591/591 [==============================] - 41s 70ms/step - loss: 4.3432 - accuracy: 0.0894 - top-5-accuracy: 0.2708 - sparse_top_k_categorical_accuracy: 0.4001 - val_loss: 4.2565 - val_accuracy: 0.0974 - val_top-5-accuracy: 0.2946 - val_sparse_top_k_categorical_accuracy: 0.4290\n",
      "Epoch 5/50\n",
      "591/591 [==============================] - 42s 71ms/step - loss: 4.1444 - accuracy: 0.1133 - top-5-accuracy: 0.3235 - sparse_top_k_categorical_accuracy: 0.4567 - val_loss: 4.1171 - val_accuracy: 0.1127 - val_top-5-accuracy: 0.3308 - val_sparse_top_k_categorical_accuracy: 0.4649\n",
      "Epoch 6/50\n",
      "591/591 [==============================] - 41s 70ms/step - loss: 3.9672 - accuracy: 0.1382 - top-5-accuracy: 0.3703 - sparse_top_k_categorical_accuracy: 0.5070 - val_loss: 3.8944 - val_accuracy: 0.1479 - val_top-5-accuracy: 0.3893 - val_sparse_top_k_categorical_accuracy: 0.5270\n",
      "Epoch 7/50\n",
      "591/591 [==============================] - 42s 71ms/step - loss: 3.8066 - accuracy: 0.1602 - top-5-accuracy: 0.4106 - sparse_top_k_categorical_accuracy: 0.5480 - val_loss: 3.8274 - val_accuracy: 0.1546 - val_top-5-accuracy: 0.4033 - val_sparse_top_k_categorical_accuracy: 0.5465\n",
      "Epoch 8/50\n",
      "591/591 [==============================] - 41s 70ms/step - loss: 3.6757 - accuracy: 0.1798 - top-5-accuracy: 0.4418 - sparse_top_k_categorical_accuracy: 0.5801 - val_loss: 3.7156 - val_accuracy: 0.1692 - val_top-5-accuracy: 0.4298 - val_sparse_top_k_categorical_accuracy: 0.5692\n",
      "Epoch 9/50\n",
      "591/591 [==============================] - 41s 69ms/step - loss: 3.5614 - accuracy: 0.1981 - top-5-accuracy: 0.4683 - sparse_top_k_categorical_accuracy: 0.6023 - val_loss: 3.7032 - val_accuracy: 0.1737 - val_top-5-accuracy: 0.4318 - val_sparse_top_k_categorical_accuracy: 0.5669\n",
      "Epoch 10/50\n",
      "591/591 [==============================] - 41s 69ms/step - loss: 3.4604 - accuracy: 0.2146 - top-5-accuracy: 0.4926 - sparse_top_k_categorical_accuracy: 0.6250 - val_loss: 3.4866 - val_accuracy: 0.2066 - val_top-5-accuracy: 0.4872 - val_sparse_top_k_categorical_accuracy: 0.6190\n",
      "Epoch 11/50\n",
      "591/591 [==============================] - 41s 69ms/step - loss: 3.3645 - accuracy: 0.2290 - top-5-accuracy: 0.5136 - sparse_top_k_categorical_accuracy: 0.6467 - val_loss: 3.4420 - val_accuracy: 0.2148 - val_top-5-accuracy: 0.4935 - val_sparse_top_k_categorical_accuracy: 0.6272\n",
      "Epoch 12/50\n",
      "591/591 [==============================] - 41s 70ms/step - loss: 3.2793 - accuracy: 0.2439 - top-5-accuracy: 0.5347 - sparse_top_k_categorical_accuracy: 0.6645 - val_loss: 3.4244 - val_accuracy: 0.2234 - val_top-5-accuracy: 0.4967 - val_sparse_top_k_categorical_accuracy: 0.6309\n",
      "Epoch 13/50\n",
      "591/591 [==============================] - 41s 69ms/step - loss: 3.1966 - accuracy: 0.2570 - top-5-accuracy: 0.5515 - sparse_top_k_categorical_accuracy: 0.6812 - val_loss: 3.2965 - val_accuracy: 0.2441 - val_top-5-accuracy: 0.5260 - val_sparse_top_k_categorical_accuracy: 0.6557\n",
      "Epoch 14/50\n",
      "591/591 [==============================] - 41s 70ms/step - loss: 3.1284 - accuracy: 0.2721 - top-5-accuracy: 0.5667 - sparse_top_k_categorical_accuracy: 0.6943 - val_loss: 3.2634 - val_accuracy: 0.2494 - val_top-5-accuracy: 0.5319 - val_sparse_top_k_categorical_accuracy: 0.6622\n",
      "Epoch 15/50\n",
      "591/591 [==============================] - 42s 71ms/step - loss: 3.0637 - accuracy: 0.2814 - top-5-accuracy: 0.5815 - sparse_top_k_categorical_accuracy: 0.7057 - val_loss: 3.2057 - val_accuracy: 0.2598 - val_top-5-accuracy: 0.5465 - val_sparse_top_k_categorical_accuracy: 0.6763\n",
      "Epoch 16/50\n",
      "591/591 [==============================] - 42s 71ms/step - loss: 2.9853 - accuracy: 0.2963 - top-5-accuracy: 0.5992 - sparse_top_k_categorical_accuracy: 0.7207 - val_loss: 3.1355 - val_accuracy: 0.2709 - val_top-5-accuracy: 0.5631 - val_sparse_top_k_categorical_accuracy: 0.6873\n",
      "Epoch 17/50\n",
      "591/591 [==============================] - 41s 70ms/step - loss: 2.9126 - accuracy: 0.3095 - top-5-accuracy: 0.6137 - sparse_top_k_categorical_accuracy: 0.7320 - val_loss: 3.0540 - val_accuracy: 0.2842 - val_top-5-accuracy: 0.5826 - val_sparse_top_k_categorical_accuracy: 0.7015\n",
      "Epoch 18/50\n",
      "591/591 [==============================] - 41s 69ms/step - loss: 2.8467 - accuracy: 0.3214 - top-5-accuracy: 0.6284 - sparse_top_k_categorical_accuracy: 0.7451 - val_loss: 3.0328 - val_accuracy: 0.2893 - val_top-5-accuracy: 0.5828 - val_sparse_top_k_categorical_accuracy: 0.7045\n",
      "Epoch 19/50\n",
      "591/591 [==============================] - 42s 71ms/step - loss: 2.7835 - accuracy: 0.3340 - top-5-accuracy: 0.6421 - sparse_top_k_categorical_accuracy: 0.7556 - val_loss: 3.0304 - val_accuracy: 0.2866 - val_top-5-accuracy: 0.5816 - val_sparse_top_k_categorical_accuracy: 0.7124\n",
      "Epoch 20/50\n",
      "591/591 [==============================] - 41s 70ms/step - loss: 2.7230 - accuracy: 0.3449 - top-5-accuracy: 0.6537 - sparse_top_k_categorical_accuracy: 0.7643 - val_loss: 2.9145 - val_accuracy: 0.3088 - val_top-5-accuracy: 0.6123 - val_sparse_top_k_categorical_accuracy: 0.7293\n",
      "Epoch 21/50\n",
      "591/591 [==============================] - 42s 71ms/step - loss: 2.6648 - accuracy: 0.3538 - top-5-accuracy: 0.6660 - sparse_top_k_categorical_accuracy: 0.7742 - val_loss: 2.8542 - val_accuracy: 0.3224 - val_top-5-accuracy: 0.6231 - val_sparse_top_k_categorical_accuracy: 0.7406\n",
      "Epoch 22/50\n",
      "591/591 [==============================] - 42s 71ms/step - loss: 2.6126 - accuracy: 0.3647 - top-5-accuracy: 0.6770 - sparse_top_k_categorical_accuracy: 0.7833 - val_loss: 2.8545 - val_accuracy: 0.3257 - val_top-5-accuracy: 0.6255 - val_sparse_top_k_categorical_accuracy: 0.7367\n",
      "Epoch 23/50\n",
      "591/591 [==============================] - 41s 70ms/step - loss: 2.5573 - accuracy: 0.3741 - top-5-accuracy: 0.6869 - sparse_top_k_categorical_accuracy: 0.7918 - val_loss: 2.7591 - val_accuracy: 0.3440 - val_top-5-accuracy: 0.6454 - val_sparse_top_k_categorical_accuracy: 0.7543\n",
      "Epoch 24/50\n",
      "591/591 [==============================] - 41s 70ms/step - loss: 2.5081 - accuracy: 0.3852 - top-5-accuracy: 0.6973 - sparse_top_k_categorical_accuracy: 0.7999 - val_loss: 2.7542 - val_accuracy: 0.3390 - val_top-5-accuracy: 0.6439 - val_sparse_top_k_categorical_accuracy: 0.7559\n",
      "Epoch 25/50\n",
      "591/591 [==============================] - 41s 70ms/step - loss: 2.4634 - accuracy: 0.3974 - top-5-accuracy: 0.7056 - sparse_top_k_categorical_accuracy: 0.8046 - val_loss: 2.6649 - val_accuracy: 0.3559 - val_top-5-accuracy: 0.6618 - val_sparse_top_k_categorical_accuracy: 0.7698\n",
      "Epoch 26/50\n",
      "591/591 [==============================] - 42s 70ms/step - loss: 2.4191 - accuracy: 0.4042 - top-5-accuracy: 0.7135 - sparse_top_k_categorical_accuracy: 0.8114 - val_loss: 2.5974 - val_accuracy: 0.3725 - val_top-5-accuracy: 0.6774 - val_sparse_top_k_categorical_accuracy: 0.7812\n",
      "Epoch 27/50\n",
      "591/591 [==============================] - 41s 70ms/step - loss: 2.3784 - accuracy: 0.4109 - top-5-accuracy: 0.7218 - sparse_top_k_categorical_accuracy: 0.8171 - val_loss: 2.6523 - val_accuracy: 0.3562 - val_top-5-accuracy: 0.6660 - val_sparse_top_k_categorical_accuracy: 0.7753\n",
      "Epoch 28/50\n",
      "591/591 [==============================] - 41s 70ms/step - loss: 2.3376 - accuracy: 0.4242 - top-5-accuracy: 0.7284 - sparse_top_k_categorical_accuracy: 0.8233 - val_loss: 2.6532 - val_accuracy: 0.3588 - val_top-5-accuracy: 0.6657 - val_sparse_top_k_categorical_accuracy: 0.7730\n",
      "Epoch 29/50\n"
     ]
    },
    {
     "name": "stdout",
     "output_type": "stream",
     "text": [
      "591/591 [==============================] - 42s 70ms/step - loss: 2.2985 - accuracy: 0.4295 - top-5-accuracy: 0.7364 - sparse_top_k_categorical_accuracy: 0.8283 - val_loss: 2.5955 - val_accuracy: 0.3752 - val_top-5-accuracy: 0.6768 - val_sparse_top_k_categorical_accuracy: 0.7830\n",
      "Epoch 30/50\n",
      "591/591 [==============================] - 42s 71ms/step - loss: 2.2605 - accuracy: 0.4391 - top-5-accuracy: 0.7426 - sparse_top_k_categorical_accuracy: 0.8331 - val_loss: 2.5478 - val_accuracy: 0.3829 - val_top-5-accuracy: 0.6887 - val_sparse_top_k_categorical_accuracy: 0.7875\n",
      "Epoch 31/50\n",
      "591/591 [==============================] - 42s 71ms/step - loss: 2.2354 - accuracy: 0.4433 - top-5-accuracy: 0.7465 - sparse_top_k_categorical_accuracy: 0.8360 - val_loss: 2.5018 - val_accuracy: 0.3895 - val_top-5-accuracy: 0.7013 - val_sparse_top_k_categorical_accuracy: 0.7957\n",
      "Epoch 32/50\n",
      "591/591 [==============================] - 42s 71ms/step - loss: 2.2004 - accuracy: 0.4510 - top-5-accuracy: 0.7530 - sparse_top_k_categorical_accuracy: 0.8401 - val_loss: 2.5006 - val_accuracy: 0.3935 - val_top-5-accuracy: 0.6986 - val_sparse_top_k_categorical_accuracy: 0.7963\n",
      "Epoch 33/50\n",
      "591/591 [==============================] - 42s 72ms/step - loss: 2.1714 - accuracy: 0.4576 - top-5-accuracy: 0.7598 - sparse_top_k_categorical_accuracy: 0.8439 - val_loss: 2.4496 - val_accuracy: 0.4018 - val_top-5-accuracy: 0.7096 - val_sparse_top_k_categorical_accuracy: 0.8030\n",
      "Epoch 34/50\n",
      "591/591 [==============================] - 42s 71ms/step - loss: 2.1381 - accuracy: 0.4651 - top-5-accuracy: 0.7631 - sparse_top_k_categorical_accuracy: 0.8477 - val_loss: 2.4096 - val_accuracy: 0.4111 - val_top-5-accuracy: 0.7123 - val_sparse_top_k_categorical_accuracy: 0.8067\n",
      "Epoch 35/50\n",
      "591/591 [==============================] - 42s 71ms/step - loss: 2.1102 - accuracy: 0.4704 - top-5-accuracy: 0.7684 - sparse_top_k_categorical_accuracy: 0.8514 - val_loss: 2.4941 - val_accuracy: 0.3874 - val_top-5-accuracy: 0.7026 - val_sparse_top_k_categorical_accuracy: 0.8010\n",
      "Epoch 36/50\n",
      "591/591 [==============================] - 42s 71ms/step - loss: 2.0789 - accuracy: 0.4781 - top-5-accuracy: 0.7719 - sparse_top_k_categorical_accuracy: 0.8539 - val_loss: 2.4493 - val_accuracy: 0.4050 - val_top-5-accuracy: 0.7077 - val_sparse_top_k_categorical_accuracy: 0.8037\n",
      "Epoch 37/50\n",
      "591/591 [==============================] - 42s 71ms/step - loss: 2.0539 - accuracy: 0.4847 - top-5-accuracy: 0.7772 - sparse_top_k_categorical_accuracy: 0.8573 - val_loss: 2.4348 - val_accuracy: 0.4062 - val_top-5-accuracy: 0.7088 - val_sparse_top_k_categorical_accuracy: 0.8017\n",
      "Model: \"sequential\"\n",
      "_________________________________________________________________\n",
      " Layer (type)                Output Shape              Param #   \n",
      "=================================================================\n",
      " gru (GRU)                   (None, None, 128)         51072     \n",
      "                                                                 \n",
      " gru_1 (GRU)                 (None, 128)               99072     \n",
      "                                                                 \n",
      " dense (Dense)               (None, 250)               32250     \n",
      "                                                                 \n",
      "=================================================================\n",
      "Total params: 182,394\n",
      "Trainable params: 182,394\n",
      "Non-trainable params: 0\n",
      "_________________________________________________________________\n"
     ]
    }
   ],
   "source": [
    "if True:\n",
    "    X_train, X_val, y_train, y_val = train_test_split(X, y, test_size=0.2, random_state=42, stratify=y)\n",
    "    print(X_train.shape, y_train.shape, X_val.shape, y_val.shape)\n",
    "#     del X, y\n",
    "    gc.collect()\n",
    "#     model = get_model()\n",
    "    callbacks = [\n",
    "        tf.keras.callbacks.ModelCheckpoint(\"model.h5\"),\n",
    "        tf.keras.callbacks.EarlyStopping(monitor='val_loss', patience=3,),\n",
    "    ]\n",
    "    history = model.fit(X_train, y_train, epochs=50, validation_data=(X_val, y_val), batch_size=128, callbacks=callbacks)\n",
    "else:\n",
    "    model = tf.keras.models.load_model(\"../model.h5\")\n",
    "model.summary()"
   ]
  },
  {
   "cell_type": "code",
   "execution_count": 9,
   "id": "46b2c01d",
   "metadata": {
    "ExecuteTime": {
     "end_time": "2023-02-27T22:38:29.282551Z",
     "start_time": "2023-02-27T22:38:21.042182Z"
    }
   },
   "outputs": [
    {
     "name": "stderr",
     "output_type": "stream",
     "text": [
      "WARNING:absl:Found untraced functions such as gru_cell_layer_call_fn, gru_cell_layer_call_and_return_conditional_losses, gru_cell_1_layer_call_fn, gru_cell_1_layer_call_and_return_conditional_losses while saving (showing 4 of 4). These functions will not be directly callable after loading.\n"
     ]
    },
    {
     "name": "stdout",
     "output_type": "stream",
     "text": [
      "INFO:tensorflow:Assets written to: /tmp/tmpog6t1yfz/assets\n"
     ]
    },
    {
     "name": "stderr",
     "output_type": "stream",
     "text": [
      "INFO:tensorflow:Assets written to: /tmp/tmpog6t1yfz/assets\n",
      "2023-02-27 14:38:28.340376: W tensorflow/compiler/mlir/lite/python/tf_tfl_flatbuffer_helpers.cc:362] Ignored output_format.\n",
      "2023-02-27 14:38:28.340420: W tensorflow/compiler/mlir/lite/python/tf_tfl_flatbuffer_helpers.cc:365] Ignored drop_control_dependency.\n",
      "2023-02-27 14:38:28.340997: I tensorflow/cc/saved_model/reader.cc:45] Reading SavedModel from: /tmp/tmpog6t1yfz\n",
      "2023-02-27 14:38:28.352956: I tensorflow/cc/saved_model/reader.cc:89] Reading meta graph with tags { serve }\n",
      "2023-02-27 14:38:28.352983: I tensorflow/cc/saved_model/reader.cc:130] Reading SavedModel debug info (if present) from: /tmp/tmpog6t1yfz\n",
      "2023-02-27 14:38:28.390488: I tensorflow/compiler/mlir/mlir_graph_optimization_pass.cc:354] MLIR V1 optimization pass is not enabled\n",
      "2023-02-27 14:38:28.401479: I tensorflow/cc/saved_model/loader.cc:229] Restoring SavedModel bundle.\n",
      "2023-02-27 14:38:28.497243: I tensorflow/cc/saved_model/loader.cc:213] Running initialization op on SavedModel bundle at path: /tmp/tmpog6t1yfz\n",
      "2023-02-27 14:38:28.568747: I tensorflow/cc/saved_model/loader.cc:305] SavedModel load for tags { serve }; Status: success: OK. Took 227749 microseconds.\n",
      "2023-02-27 14:38:28.760519: I tensorflow/compiler/mlir/tensorflow/utils/dump_mlir_util.cc:268] disabling MLIR crash reproducer, set env var `MLIR_CRASH_REPRODUCER_DIRECTORY` to enable.\n",
      "loc(callsite(callsite(callsite(fused[\"TensorListReserve:\", callsite(\"TensorArrayV2_1@__inference_standard_gru_174495\"(\"/home/victor/miniconda3/envs/tf/lib/python3.9/site-packages/tensorflow/python/saved_model/save.py\":1268:0) at callsite(\"/home/victor/miniconda3/envs/tf/lib/python3.9/site-packages/tensorflow/python/saved_model/save.py\":1232:0 at callsite(\"/home/victor/miniconda3/envs/tf/lib/python3.9/site-packages/tensorflow/lite/python/lite.py\":1249:0 at callsite(\"/home/victor/miniconda3/envs/tf/lib/python3.9/site-packages/tensorflow/lite/python/convert_phase.py\":205:0 at callsite(\"/home/victor/miniconda3/envs/tf/lib/python3.9/site-packages/tensorflow/lite/python/lite.py\":1319:0 at callsite(\"/home/victor/miniconda3/envs/tf/lib/python3.9/site-packages/tensorflow/lite/python/lite.py\":1339:0 at callsite(\"/home/victor/miniconda3/envs/tf/lib/python3.9/site-packages/tensorflow/lite/python/lite.py\":908:0 at callsite(\"/home/victor/miniconda3/envs/tf/lib/python3.9/site-packages/tensorflow/lite/python/lite.py\":930:0 at callsite(\"/tmp/ipykernel_97943/3838637944.py\":2:0 at \"/home/victor/miniconda3/envs/tf/lib/python3.9/site-packages/IPython/core/interactiveshell.py\":3433:0)))))))))] at fused[\"PartitionedCall:\", callsite(\"sequential/gru/PartitionedCall@__inference__wrapped_model_175091\"(\"/home/victor/miniconda3/envs/tf/lib/python3.9/site-packages/tensorflow/python/saved_model/save.py\":1268:0) at callsite(\"/home/victor/miniconda3/envs/tf/lib/python3.9/site-packages/tensorflow/python/saved_model/save.py\":1232:0 at callsite(\"/home/victor/miniconda3/envs/tf/lib/python3.9/site-packages/tensorflow/lite/python/lite.py\":1249:0 at callsite(\"/home/victor/miniconda3/envs/tf/lib/python3.9/site-packages/tensorflow/lite/python/convert_phase.py\":205:0 at callsite(\"/home/victor/miniconda3/envs/tf/lib/python3.9/site-packages/tensorflow/lite/python/lite.py\":1319:0 at callsite(\"/home/victor/miniconda3/envs/tf/lib/python3.9/site-packages/tensorflow/lite/python/lite.py\":1339:0 at callsite(\"/home/victor/miniconda3/envs/tf/lib/python3.9/site-packages/tensorflow/lite/python/lite.py\":908:0 at callsite(\"/home/victor/miniconda3/envs/tf/lib/python3.9/site-packages/tensorflow/lite/python/lite.py\":930:0 at callsite(\"/tmp/ipykernel_97943/3838637944.py\":2:0 at \"/home/victor/miniconda3/envs/tf/lib/python3.9/site-packages/IPython/core/interactiveshell.py\":3433:0)))))))))]) at fused[\"StatefulPartitionedCall:\", callsite(\"StatefulPartitionedCall@__inference_signature_wrapper_178428\"(\"/home/victor/miniconda3/envs/tf/lib/python3.9/site-packages/tensorflow/python/saved_model/save.py\":1268:0) at callsite(\"/home/victor/miniconda3/envs/tf/lib/python3.9/site-packages/tensorflow/python/saved_model/save.py\":1232:0 at callsite(\"/home/victor/miniconda3/envs/tf/lib/python3.9/site-packages/tensorflow/lite/python/lite.py\":1249:0 at callsite(\"/home/victor/miniconda3/envs/tf/lib/python3.9/site-packages/tensorflow/lite/python/convert_phase.py\":205:0 at callsite(\"/home/victor/miniconda3/envs/tf/lib/python3.9/site-packages/tensorflow/lite/python/lite.py\":1319:0 at callsite(\"/home/victor/miniconda3/envs/tf/lib/python3.9/site-packages/tensorflow/lite/python/lite.py\":1339:0 at callsite(\"/home/victor/miniconda3/envs/tf/lib/python3.9/site-packages/tensorflow/lite/python/lite.py\":908:0 at callsite(\"/home/victor/miniconda3/envs/tf/lib/python3.9/site-packages/tensorflow/lite/python/lite.py\":930:0 at callsite(\"/tmp/ipykernel_97943/3838637944.py\":2:0 at \"/home/victor/miniconda3/envs/tf/lib/python3.9/site-packages/IPython/core/interactiveshell.py\":3433:0)))))))))]) at fused[\"StatefulPartitionedCall:\", \"StatefulPartitionedCall\"])): error: 'tf.TensorListReserve' op requires element_shape to be static during TF Lite transformation pass\n",
      "loc(callsite(callsite(callsite(fused[\"TensorListReserve:\", callsite(\"TensorArrayV2_1@__inference_standard_gru_174495\"(\"/home/victor/miniconda3/envs/tf/lib/python3.9/site-packages/tensorflow/python/saved_model/save.py\":1268:0) at callsite(\"/home/victor/miniconda3/envs/tf/lib/python3.9/site-packages/tensorflow/python/saved_model/save.py\":1232:0 at callsite(\"/home/victor/miniconda3/envs/tf/lib/python3.9/site-packages/tensorflow/lite/python/lite.py\":1249:0 at callsite(\"/home/victor/miniconda3/envs/tf/lib/python3.9/site-packages/tensorflow/lite/python/convert_phase.py\":205:0 at callsite(\"/home/victor/miniconda3/envs/tf/lib/python3.9/site-packages/tensorflow/lite/python/lite.py\":1319:0 at callsite(\"/home/victor/miniconda3/envs/tf/lib/python3.9/site-packages/tensorflow/lite/python/lite.py\":1339:0 at callsite(\"/home/victor/miniconda3/envs/tf/lib/python3.9/site-packages/tensorflow/lite/python/lite.py\":908:0 at callsite(\"/home/victor/miniconda3/envs/tf/lib/python3.9/site-packages/tensorflow/lite/python/lite.py\":930:0 at callsite(\"/tmp/ipykernel_97943/3838637944.py\":2:0 at \"/home/victor/miniconda3/envs/tf/lib/python3.9/site-packages/IPython/core/interactiveshell.py\":3433:0)))))))))] at fused[\"PartitionedCall:\", callsite(\"sequential/gru/PartitionedCall@__inference__wrapped_model_175091\"(\"/home/victor/miniconda3/envs/tf/lib/python3.9/site-packages/tensorflow/python/saved_model/save.py\":1268:0) at callsite(\"/home/victor/miniconda3/envs/tf/lib/python3.9/site-packages/tensorflow/python/saved_model/save.py\":1232:0 at callsite(\"/home/victor/miniconda3/envs/tf/lib/python3.9/site-packages/tensorflow/lite/python/lite.py\":1249:0 at callsite(\"/home/victor/miniconda3/envs/tf/lib/python3.9/site-packages/tensorflow/lite/python/convert_phase.py\":205:0 at callsite(\"/home/victor/miniconda3/envs/tf/lib/python3.9/site-packages/tensorflow/lite/python/lite.py\":1319:0 at callsite(\"/home/victor/miniconda3/envs/tf/lib/python3.9/site-packages/tensorflow/lite/python/lite.py\":1339:0 at callsite(\"/home/victor/miniconda3/envs/tf/lib/python3.9/site-packages/tensorflow/lite/python/lite.py\":908:0 at callsite(\"/home/victor/miniconda3/envs/tf/lib/python3.9/site-packages/tensorflow/lite/python/lite.py\":930:0 at callsite(\"/tmp/ipykernel_97943/3838637944.py\":2:0 at \"/home/victor/miniconda3/envs/tf/lib/python3.9/site-packages/IPython/core/interactiveshell.py\":3433:0)))))))))]) at fused[\"StatefulPartitionedCall:\", callsite(\"StatefulPartitionedCall@__inference_signature_wrapper_178428\"(\"/home/victor/miniconda3/envs/tf/lib/python3.9/site-packages/tensorflow/python/saved_model/save.py\":1268:0) at callsite(\"/home/victor/miniconda3/envs/tf/lib/python3.9/site-packages/tensorflow/python/saved_model/save.py\":1232:0 at callsite(\"/home/victor/miniconda3/envs/tf/lib/python3.9/site-packages/tensorflow/lite/python/lite.py\":1249:0 at callsite(\"/home/victor/miniconda3/envs/tf/lib/python3.9/site-packages/tensorflow/lite/python/convert_phase.py\":205:0 at callsite(\"/home/victor/miniconda3/envs/tf/lib/python3.9/site-packages/tensorflow/lite/python/lite.py\":1319:0 at callsite(\"/home/victor/miniconda3/envs/tf/lib/python3.9/site-packages/tensorflow/lite/python/lite.py\":1339:0 at callsite(\"/home/victor/miniconda3/envs/tf/lib/python3.9/site-packages/tensorflow/lite/python/lite.py\":908:0 at callsite(\"/home/victor/miniconda3/envs/tf/lib/python3.9/site-packages/tensorflow/lite/python/lite.py\":930:0 at callsite(\"/tmp/ipykernel_97943/3838637944.py\":2:0 at \"/home/victor/miniconda3/envs/tf/lib/python3.9/site-packages/IPython/core/interactiveshell.py\":3433:0)))))))))]) at fused[\"StatefulPartitionedCall:\", \"StatefulPartitionedCall\"])): error: failed to legalize operation 'tf.TensorListReserve' that was explicitly marked illegal\n",
      "error: Lowering tensor list ops is failed. Please consider using Select TF ops and disabling `_experimental_lower_tensor_list_ops` flag in the TFLite converter object. For example, converter.target_spec.supported_ops = [tf.lite.OpsSet.TFLITE_BUILTINS, tf.lite.OpsSet.SELECT_TF_OPS]\\n converter._experimental_lower_tensor_list_ops = False\n"
     ]
    },
    {
     "ename": "ConverterError",
     "evalue": "/home/victor/miniconda3/envs/tf/lib/python3.9/site-packages/tensorflow/python/saved_model/save.py:1268:0: error: 'tf.TensorListReserve' op requires element_shape to be static during TF Lite transformation pass\n<unknown>:0: note: loc(fused[\"StatefulPartitionedCall:\", \"StatefulPartitionedCall\"]): called from\n/home/victor/miniconda3/envs/tf/lib/python3.9/site-packages/tensorflow/python/saved_model/save.py:1268:0: error: failed to legalize operation 'tf.TensorListReserve' that was explicitly marked illegal\n<unknown>:0: note: loc(fused[\"StatefulPartitionedCall:\", \"StatefulPartitionedCall\"]): called from\n<unknown>:0: error: Lowering tensor list ops is failed. Please consider using Select TF ops and disabling `_experimental_lower_tensor_list_ops` flag in the TFLite converter object. For example, converter.target_spec.supported_ops = [tf.lite.OpsSet.TFLITE_BUILTINS, tf.lite.OpsSet.SELECT_TF_OPS]\\n converter._experimental_lower_tensor_list_ops = False\n",
     "output_type": "error",
     "traceback": [
      "\u001b[0;31m---------------------------------------------------------------------------\u001b[0m",
      "\u001b[0;31mConverterError\u001b[0m                            Traceback (most recent call last)",
      "Cell \u001b[0;32mIn [9], line 2\u001b[0m\n\u001b[1;32m      1\u001b[0m converter \u001b[38;5;241m=\u001b[39m tf\u001b[38;5;241m.\u001b[39mlite\u001b[38;5;241m.\u001b[39mTFLiteConverter\u001b[38;5;241m.\u001b[39mfrom_keras_model(model)\n\u001b[0;32m----> 2\u001b[0m tflite_model \u001b[38;5;241m=\u001b[39m \u001b[43mconverter\u001b[49m\u001b[38;5;241;43m.\u001b[39;49m\u001b[43mconvert\u001b[49m\u001b[43m(\u001b[49m\u001b[43m)\u001b[49m\n\u001b[1;32m      4\u001b[0m \u001b[38;5;66;03m# Save the model.\u001b[39;00m\n\u001b[1;32m      5\u001b[0m \u001b[38;5;28;01mwith\u001b[39;00m \u001b[38;5;28mopen\u001b[39m(\u001b[38;5;124m'\u001b[39m\u001b[38;5;124mmodel_gru.tflite\u001b[39m\u001b[38;5;124m'\u001b[39m, \u001b[38;5;124m'\u001b[39m\u001b[38;5;124mwb\u001b[39m\u001b[38;5;124m'\u001b[39m) \u001b[38;5;28;01mas\u001b[39;00m f:\n",
      "File \u001b[0;32m~/miniconda3/envs/tf/lib/python3.9/site-packages/tensorflow/lite/python/lite.py:930\u001b[0m, in \u001b[0;36m_export_metrics.<locals>.wrapper\u001b[0;34m(self, *args, **kwargs)\u001b[0m\n\u001b[1;32m    927\u001b[0m \u001b[38;5;129m@functools\u001b[39m\u001b[38;5;241m.\u001b[39mwraps(convert_func)\n\u001b[1;32m    928\u001b[0m \u001b[38;5;28;01mdef\u001b[39;00m \u001b[38;5;21mwrapper\u001b[39m(\u001b[38;5;28mself\u001b[39m, \u001b[38;5;241m*\u001b[39margs, \u001b[38;5;241m*\u001b[39m\u001b[38;5;241m*\u001b[39mkwargs):\n\u001b[1;32m    929\u001b[0m   \u001b[38;5;66;03m# pylint: disable=protected-access\u001b[39;00m\n\u001b[0;32m--> 930\u001b[0m   \u001b[38;5;28;01mreturn\u001b[39;00m \u001b[38;5;28;43mself\u001b[39;49m\u001b[38;5;241;43m.\u001b[39;49m\u001b[43m_convert_and_export_metrics\u001b[49m\u001b[43m(\u001b[49m\u001b[43mconvert_func\u001b[49m\u001b[43m,\u001b[49m\u001b[43m \u001b[49m\u001b[38;5;241;43m*\u001b[39;49m\u001b[43margs\u001b[49m\u001b[43m,\u001b[49m\u001b[43m \u001b[49m\u001b[38;5;241;43m*\u001b[39;49m\u001b[38;5;241;43m*\u001b[39;49m\u001b[43mkwargs\u001b[49m\u001b[43m)\u001b[49m\n",
      "File \u001b[0;32m~/miniconda3/envs/tf/lib/python3.9/site-packages/tensorflow/lite/python/lite.py:908\u001b[0m, in \u001b[0;36mTFLiteConverterBase._convert_and_export_metrics\u001b[0;34m(self, convert_func, *args, **kwargs)\u001b[0m\n\u001b[1;32m    906\u001b[0m \u001b[38;5;28mself\u001b[39m\u001b[38;5;241m.\u001b[39m_save_conversion_params_metric()\n\u001b[1;32m    907\u001b[0m start_time \u001b[38;5;241m=\u001b[39m time\u001b[38;5;241m.\u001b[39mprocess_time()\n\u001b[0;32m--> 908\u001b[0m result \u001b[38;5;241m=\u001b[39m \u001b[43mconvert_func\u001b[49m\u001b[43m(\u001b[49m\u001b[38;5;28;43mself\u001b[39;49m\u001b[43m,\u001b[49m\u001b[43m \u001b[49m\u001b[38;5;241;43m*\u001b[39;49m\u001b[43margs\u001b[49m\u001b[43m,\u001b[49m\u001b[43m \u001b[49m\u001b[38;5;241;43m*\u001b[39;49m\u001b[38;5;241;43m*\u001b[39;49m\u001b[43mkwargs\u001b[49m\u001b[43m)\u001b[49m\n\u001b[1;32m    909\u001b[0m elapsed_time_ms \u001b[38;5;241m=\u001b[39m (time\u001b[38;5;241m.\u001b[39mprocess_time() \u001b[38;5;241m-\u001b[39m start_time) \u001b[38;5;241m*\u001b[39m \u001b[38;5;241m1000\u001b[39m\n\u001b[1;32m    910\u001b[0m \u001b[38;5;28;01mif\u001b[39;00m result:\n",
      "File \u001b[0;32m~/miniconda3/envs/tf/lib/python3.9/site-packages/tensorflow/lite/python/lite.py:1339\u001b[0m, in \u001b[0;36mTFLiteKerasModelConverterV2.convert\u001b[0;34m(self)\u001b[0m\n\u001b[1;32m   1326\u001b[0m \u001b[38;5;129m@_export_metrics\u001b[39m\n\u001b[1;32m   1327\u001b[0m \u001b[38;5;28;01mdef\u001b[39;00m \u001b[38;5;21mconvert\u001b[39m(\u001b[38;5;28mself\u001b[39m):\n\u001b[1;32m   1328\u001b[0m   \u001b[38;5;124;03m\"\"\"Converts a keras model based on instance variables.\u001b[39;00m\n\u001b[1;32m   1329\u001b[0m \n\u001b[1;32m   1330\u001b[0m \u001b[38;5;124;03m  Returns:\u001b[39;00m\n\u001b[0;32m   (...)\u001b[0m\n\u001b[1;32m   1337\u001b[0m \u001b[38;5;124;03m      Invalid quantization parameters.\u001b[39;00m\n\u001b[1;32m   1338\u001b[0m \u001b[38;5;124;03m  \"\"\"\u001b[39;00m\n\u001b[0;32m-> 1339\u001b[0m   saved_model_convert_result \u001b[38;5;241m=\u001b[39m \u001b[38;5;28;43mself\u001b[39;49m\u001b[38;5;241;43m.\u001b[39;49m\u001b[43m_convert_as_saved_model\u001b[49m\u001b[43m(\u001b[49m\u001b[43m)\u001b[49m\n\u001b[1;32m   1340\u001b[0m   \u001b[38;5;28;01mif\u001b[39;00m saved_model_convert_result:\n\u001b[1;32m   1341\u001b[0m     \u001b[38;5;28;01mreturn\u001b[39;00m saved_model_convert_result\n",
      "File \u001b[0;32m~/miniconda3/envs/tf/lib/python3.9/site-packages/tensorflow/lite/python/lite.py:1321\u001b[0m, in \u001b[0;36mTFLiteKerasModelConverterV2._convert_as_saved_model\u001b[0;34m(self)\u001b[0m\n\u001b[1;32m   1318\u001b[0m   graph_def, input_tensors, output_tensors \u001b[38;5;241m=\u001b[39m (\n\u001b[1;32m   1319\u001b[0m       \u001b[38;5;28mself\u001b[39m\u001b[38;5;241m.\u001b[39m_convert_keras_to_saved_model(temp_dir))\n\u001b[1;32m   1320\u001b[0m   \u001b[38;5;28;01mif\u001b[39;00m \u001b[38;5;28mself\u001b[39m\u001b[38;5;241m.\u001b[39msaved_model_dir:\n\u001b[0;32m-> 1321\u001b[0m     \u001b[38;5;28;01mreturn\u001b[39;00m \u001b[38;5;28;43msuper\u001b[39;49m\u001b[43m(\u001b[49m\u001b[43mTFLiteKerasModelConverterV2\u001b[49m\u001b[43m,\u001b[49m\n\u001b[1;32m   1322\u001b[0m \u001b[43m                 \u001b[49m\u001b[38;5;28;43mself\u001b[39;49m\u001b[43m)\u001b[49m\u001b[38;5;241;43m.\u001b[39;49m\u001b[43mconvert\u001b[49m\u001b[43m(\u001b[49m\u001b[43mgraph_def\u001b[49m\u001b[43m,\u001b[49m\u001b[43m \u001b[49m\u001b[43minput_tensors\u001b[49m\u001b[43m,\u001b[49m\u001b[43m \u001b[49m\u001b[43moutput_tensors\u001b[49m\u001b[43m)\u001b[49m\n\u001b[1;32m   1323\u001b[0m \u001b[38;5;28;01mfinally\u001b[39;00m:\n\u001b[1;32m   1324\u001b[0m   shutil\u001b[38;5;241m.\u001b[39mrmtree(temp_dir, \u001b[38;5;28;01mTrue\u001b[39;00m)\n",
      "File \u001b[0;32m~/miniconda3/envs/tf/lib/python3.9/site-packages/tensorflow/lite/python/lite.py:1132\u001b[0m, in \u001b[0;36mTFLiteConverterBaseV2.convert\u001b[0;34m(self, graph_def, input_tensors, output_tensors)\u001b[0m\n\u001b[1;32m   1127\u001b[0m   logging\u001b[38;5;241m.\u001b[39minfo(\u001b[38;5;124m\"\u001b[39m\u001b[38;5;124mUsing new converter: If you encounter a problem \u001b[39m\u001b[38;5;124m\"\u001b[39m\n\u001b[1;32m   1128\u001b[0m                \u001b[38;5;124m\"\u001b[39m\u001b[38;5;124mplease file a bug. You can opt-out \u001b[39m\u001b[38;5;124m\"\u001b[39m\n\u001b[1;32m   1129\u001b[0m                \u001b[38;5;124m\"\u001b[39m\u001b[38;5;124mby setting experimental_new_converter=False\u001b[39m\u001b[38;5;124m\"\u001b[39m)\n\u001b[1;32m   1131\u001b[0m \u001b[38;5;66;03m# Converts model.\u001b[39;00m\n\u001b[0;32m-> 1132\u001b[0m result \u001b[38;5;241m=\u001b[39m \u001b[43m_convert_graphdef\u001b[49m\u001b[43m(\u001b[49m\n\u001b[1;32m   1133\u001b[0m \u001b[43m    \u001b[49m\u001b[43minput_data\u001b[49m\u001b[38;5;241;43m=\u001b[39;49m\u001b[43mgraph_def\u001b[49m\u001b[43m,\u001b[49m\n\u001b[1;32m   1134\u001b[0m \u001b[43m    \u001b[49m\u001b[43minput_tensors\u001b[49m\u001b[38;5;241;43m=\u001b[39;49m\u001b[43minput_tensors\u001b[49m\u001b[43m,\u001b[49m\n\u001b[1;32m   1135\u001b[0m \u001b[43m    \u001b[49m\u001b[43moutput_tensors\u001b[49m\u001b[38;5;241;43m=\u001b[39;49m\u001b[43moutput_tensors\u001b[49m\u001b[43m,\u001b[49m\n\u001b[1;32m   1136\u001b[0m \u001b[43m    \u001b[49m\u001b[38;5;241;43m*\u001b[39;49m\u001b[38;5;241;43m*\u001b[39;49m\u001b[43mconverter_kwargs\u001b[49m\u001b[43m)\u001b[49m\n\u001b[1;32m   1138\u001b[0m \u001b[38;5;28;01mreturn\u001b[39;00m \u001b[38;5;28mself\u001b[39m\u001b[38;5;241m.\u001b[39m_optimize_tflite_model(\n\u001b[1;32m   1139\u001b[0m     result, \u001b[38;5;28mself\u001b[39m\u001b[38;5;241m.\u001b[39m_quant_mode, quant_io\u001b[38;5;241m=\u001b[39m\u001b[38;5;28mself\u001b[39m\u001b[38;5;241m.\u001b[39mexperimental_new_quantizer)\n",
      "File \u001b[0;32m~/miniconda3/envs/tf/lib/python3.9/site-packages/tensorflow/lite/python/convert_phase.py:212\u001b[0m, in \u001b[0;36mconvert_phase.<locals>.actual_decorator.<locals>.wrapper\u001b[0;34m(*args, **kwargs)\u001b[0m\n\u001b[1;32m    210\u001b[0m   \u001b[38;5;28;01melse\u001b[39;00m:\n\u001b[1;32m    211\u001b[0m     report_error_message(\u001b[38;5;28mstr\u001b[39m(converter_error))\n\u001b[0;32m--> 212\u001b[0m   \u001b[38;5;28;01mraise\u001b[39;00m converter_error \u001b[38;5;28;01mfrom\u001b[39;00m \u001b[38;5;28mNone\u001b[39m  \u001b[38;5;66;03m# Re-throws the exception.\u001b[39;00m\n\u001b[1;32m    213\u001b[0m \u001b[38;5;28;01mexcept\u001b[39;00m \u001b[38;5;167;01mException\u001b[39;00m \u001b[38;5;28;01mas\u001b[39;00m error:\n\u001b[1;32m    214\u001b[0m   report_error_message(\u001b[38;5;28mstr\u001b[39m(error))\n",
      "File \u001b[0;32m~/miniconda3/envs/tf/lib/python3.9/site-packages/tensorflow/lite/python/convert_phase.py:205\u001b[0m, in \u001b[0;36mconvert_phase.<locals>.actual_decorator.<locals>.wrapper\u001b[0;34m(*args, **kwargs)\u001b[0m\n\u001b[1;32m    202\u001b[0m \u001b[38;5;129m@functools\u001b[39m\u001b[38;5;241m.\u001b[39mwraps(func)\n\u001b[1;32m    203\u001b[0m \u001b[38;5;28;01mdef\u001b[39;00m \u001b[38;5;21mwrapper\u001b[39m(\u001b[38;5;241m*\u001b[39margs, \u001b[38;5;241m*\u001b[39m\u001b[38;5;241m*\u001b[39mkwargs):\n\u001b[1;32m    204\u001b[0m   \u001b[38;5;28;01mtry\u001b[39;00m:\n\u001b[0;32m--> 205\u001b[0m     \u001b[38;5;28;01mreturn\u001b[39;00m \u001b[43mfunc\u001b[49m\u001b[43m(\u001b[49m\u001b[38;5;241;43m*\u001b[39;49m\u001b[43margs\u001b[49m\u001b[43m,\u001b[49m\u001b[43m \u001b[49m\u001b[38;5;241;43m*\u001b[39;49m\u001b[38;5;241;43m*\u001b[39;49m\u001b[43mkwargs\u001b[49m\u001b[43m)\u001b[49m\n\u001b[1;32m    206\u001b[0m   \u001b[38;5;28;01mexcept\u001b[39;00m ConverterError \u001b[38;5;28;01mas\u001b[39;00m converter_error:\n\u001b[1;32m    207\u001b[0m     \u001b[38;5;28;01mif\u001b[39;00m converter_error\u001b[38;5;241m.\u001b[39merrors:\n",
      "File \u001b[0;32m~/miniconda3/envs/tf/lib/python3.9/site-packages/tensorflow/lite/python/convert.py:794\u001b[0m, in \u001b[0;36mconvert_graphdef\u001b[0;34m(input_data, input_tensors, output_tensors, **kwargs)\u001b[0m\n\u001b[1;32m    791\u001b[0m   \u001b[38;5;28;01melse\u001b[39;00m:\n\u001b[1;32m    792\u001b[0m     model_flags\u001b[38;5;241m.\u001b[39moutput_arrays\u001b[38;5;241m.\u001b[39mappend(util\u001b[38;5;241m.\u001b[39mget_tensor_name(output_tensor))\n\u001b[0;32m--> 794\u001b[0m data \u001b[38;5;241m=\u001b[39m \u001b[43mconvert\u001b[49m\u001b[43m(\u001b[49m\n\u001b[1;32m    795\u001b[0m \u001b[43m    \u001b[49m\u001b[43mmodel_flags\u001b[49m\u001b[38;5;241;43m.\u001b[39;49m\u001b[43mSerializeToString\u001b[49m\u001b[43m(\u001b[49m\u001b[43m)\u001b[49m\u001b[43m,\u001b[49m\n\u001b[1;32m    796\u001b[0m \u001b[43m    \u001b[49m\u001b[43mconversion_flags\u001b[49m\u001b[38;5;241;43m.\u001b[39;49m\u001b[43mSerializeToString\u001b[49m\u001b[43m(\u001b[49m\u001b[43m)\u001b[49m\u001b[43m,\u001b[49m\n\u001b[1;32m    797\u001b[0m \u001b[43m    \u001b[49m\u001b[43minput_data\u001b[49m\u001b[38;5;241;43m.\u001b[39;49m\u001b[43mSerializeToString\u001b[49m\u001b[43m(\u001b[49m\u001b[43m)\u001b[49m\u001b[43m,\u001b[49m\n\u001b[1;32m    798\u001b[0m \u001b[43m    \u001b[49m\u001b[43mdebug_info_str\u001b[49m\u001b[38;5;241;43m=\u001b[39;49m\u001b[43mdebug_info\u001b[49m\u001b[38;5;241;43m.\u001b[39;49m\u001b[43mSerializeToString\u001b[49m\u001b[43m(\u001b[49m\u001b[43m)\u001b[49m\u001b[43m \u001b[49m\u001b[38;5;28;43;01mif\u001b[39;49;00m\u001b[43m \u001b[49m\u001b[43mdebug_info\u001b[49m\u001b[43m \u001b[49m\u001b[38;5;28;43;01melse\u001b[39;49;00m\u001b[43m \u001b[49m\u001b[38;5;28;43;01mNone\u001b[39;49;00m\u001b[43m,\u001b[49m\n\u001b[1;32m    799\u001b[0m \u001b[43m    \u001b[49m\u001b[43menable_mlir_converter\u001b[49m\u001b[38;5;241;43m=\u001b[39;49m\u001b[43menable_mlir_converter\u001b[49m\u001b[43m)\u001b[49m\n\u001b[1;32m    800\u001b[0m \u001b[38;5;28;01mreturn\u001b[39;00m data\n",
      "File \u001b[0;32m~/miniconda3/envs/tf/lib/python3.9/site-packages/tensorflow/lite/python/convert.py:311\u001b[0m, in \u001b[0;36mconvert\u001b[0;34m(model_flags_str, conversion_flags_str, input_data_str, debug_info_str, enable_mlir_converter)\u001b[0m\n\u001b[1;32m    309\u001b[0m     \u001b[38;5;28;01mfor\u001b[39;00m error_data \u001b[38;5;129;01min\u001b[39;00m _metrics_wrapper\u001b[38;5;241m.\u001b[39mretrieve_collected_errors():\n\u001b[1;32m    310\u001b[0m       converter_error\u001b[38;5;241m.\u001b[39mappend_error(error_data)\n\u001b[0;32m--> 311\u001b[0m     \u001b[38;5;28;01mraise\u001b[39;00m converter_error\n\u001b[1;32m    313\u001b[0m \u001b[38;5;28;01mreturn\u001b[39;00m _run_deprecated_conversion_binary(model_flags_str,\n\u001b[1;32m    314\u001b[0m                                          conversion_flags_str, input_data_str,\n\u001b[1;32m    315\u001b[0m                                          debug_info_str)\n",
      "\u001b[0;31mConverterError\u001b[0m: /home/victor/miniconda3/envs/tf/lib/python3.9/site-packages/tensorflow/python/saved_model/save.py:1268:0: error: 'tf.TensorListReserve' op requires element_shape to be static during TF Lite transformation pass\n<unknown>:0: note: loc(fused[\"StatefulPartitionedCall:\", \"StatefulPartitionedCall\"]): called from\n/home/victor/miniconda3/envs/tf/lib/python3.9/site-packages/tensorflow/python/saved_model/save.py:1268:0: error: failed to legalize operation 'tf.TensorListReserve' that was explicitly marked illegal\n<unknown>:0: note: loc(fused[\"StatefulPartitionedCall:\", \"StatefulPartitionedCall\"]): called from\n<unknown>:0: error: Lowering tensor list ops is failed. Please consider using Select TF ops and disabling `_experimental_lower_tensor_list_ops` flag in the TFLite converter object. For example, converter.target_spec.supported_ops = [tf.lite.OpsSet.TFLITE_BUILTINS, tf.lite.OpsSet.SELECT_TF_OPS]\\n converter._experimental_lower_tensor_list_ops = False\n"
     ]
    }
   ],
   "source": [
    "converter = tf.lite.TFLiteConverter.from_keras_model(model)\n",
    "tflite_model = converter.convert()\n",
    "\n",
    "# Save the model.\n",
    "with open('model_gru.tflite', 'wb') as f:\n",
    "    f.write(tflite_model)"
   ]
  },
  {
   "cell_type": "code",
   "execution_count": 10,
   "id": "99916fff",
   "metadata": {
    "ExecuteTime": {
     "end_time": "2023-02-27T22:38:49.602629Z",
     "start_time": "2023-02-27T22:38:49.267584Z"
    }
   },
   "outputs": [
    {
     "name": "stdout",
     "output_type": "stream",
     "text": [
      "dict_keys(['loss', 'accuracy', 'top-5-accuracy', 'sparse_top_k_categorical_accuracy', 'val_loss', 'val_accuracy', 'val_top-5-accuracy', 'val_sparse_top_k_categorical_accuracy'])\n"
     ]
    }
   ],
   "source": [
    "import matplotlib.pyplot as plt\n",
    "import numpy as np\n",
    "\n",
    "print(history.history.keys())"
   ]
  },
  {
   "cell_type": "code",
   "execution_count": 11,
   "id": "2f20a77a",
   "metadata": {
    "ExecuteTime": {
     "end_time": "2023-02-27T22:38:50.362500Z",
     "start_time": "2023-02-27T22:38:50.232821Z"
    }
   },
   "outputs": [
    {
     "data": {
      "image/png": "[encoded data removed]",
      "text/plain": [
       "<Figure size 640x480 with 1 Axes>"
      ]
     },
     "metadata": {},
     "output_type": "display_data"
    }
   ],
   "source": [
    "# summarize history for accuracy\n",
    "plt.plot(history.history['accuracy'])\n",
    "plt.plot(history.history['val_accuracy'])\n",
    "plt.title('model accuracy')\n",
    "plt.ylabel('accuracy')\n",
    "plt.xlabel('epoch')\n",
    "plt.legend(['train', 'test'], loc='upper left')\n",
    "plt.show()"
   ]
  },
  {
   "cell_type": "code",
   "execution_count": 12,
   "id": "bf8a0deb",
   "metadata": {
    "ExecuteTime": {
     "end_time": "2023-02-27T22:38:52.952297Z",
     "start_time": "2023-02-27T22:38:52.841392Z"
    }
   },
   "outputs": [
    {
     "data": {
      "image/png": "[encoded data removed]",
      "text/plain": [
       "<Figure size 640x480 with 1 Axes>"
      ]
     },
     "metadata": {},
     "output_type": "display_data"
    }
   ],
   "source": [
    "# summarize history for loss\n",
    "plt.plot(history.history['loss'])\n",
    "plt.plot(history.history['val_loss'])\n",
    "plt.title('model loss')\n",
    "plt.ylabel('loss')\n",
    "plt.xlabel('epoch')\n",
    "plt.legend(['train', 'test'], loc='upper left')\n",
    "plt.show()"
   ]
  },
  {
   "cell_type": "code",
   "execution_count": 14,
   "id": "c79d9a56",
   "metadata": {
    "ExecuteTime": {
     "end_time": "2023-02-27T22:40:12.810856Z",
     "start_time": "2023-02-27T22:40:12.807259Z"
    },
    "code_folding": []
   },
   "outputs": [],
   "source": [
    "def get_model():\n",
    "    return model"
   ]
  },
  {
   "cell_type": "code",
   "execution_count": 16,
   "id": "3bcd5c03",
   "metadata": {
    "ExecuteTime": {
     "end_time": "2023-02-27T22:40:25.520893Z",
     "start_time": "2023-02-27T22:40:25.509817Z"
    },
    "scrolled": true
   },
   "outputs": [
    {
     "name": "stdout",
     "output_type": "stream",
     "text": [
      "Model: \"sequential\"\n",
      "_________________________________________________________________\n",
      " Layer (type)                Output Shape              Param #   \n",
      "=================================================================\n",
      " gru (GRU)                   (None, None, 128)         51072     \n",
      "                                                                 \n",
      " gru_1 (GRU)                 (None, 128)               99072     \n",
      "                                                                 \n",
      " dense (Dense)               (None, 250)               32250     \n",
      "                                                                 \n",
      "=================================================================\n",
      "Total params: 182,394\n",
      "Trainable params: 182,394\n",
      "Non-trainable params: 0\n",
      "_________________________________________________________________\n"
     ]
    }
   ],
   "source": [
    "get_model().summary()"
   ]
  },
  {
   "cell_type": "code",
   "execution_count": 28,
   "id": "e9faccd0",
   "metadata": {
    "ExecuteTime": {
     "end_time": "2023-02-27T22:46:31.723922Z",
     "start_time": "2023-02-27T22:46:31.493103Z"
    }
   },
   "outputs": [],
   "source": [
    "inputs = tf.keras.Input((543, 3), dtype=tf.float32, name=\"inputs\")\n",
    "x = tf.where(tf.math.is_nan(inputs), tf.zeros_like(inputs), inputs)\n",
    "x = tf.reduce_mean(x, axis=0, keepdims=True)\n",
    "\n",
    "# for i in range(1, len(model.layers)):\n",
    "x = model.layers[0](x)\n",
    "x = model.layers[1](x)\n",
    "x = model.layers[2](x)"
   ]
  },
  {
   "cell_type": "code",
   "execution_count": null,
   "id": "9ccc9650",
   "metadata": {},
   "outputs": [],
   "source": []
  },
  {
   "cell_type": "code",
   "execution_count": 29,
   "id": "14097f4c",
   "metadata": {
    "ExecuteTime": {
     "end_time": "2023-02-27T22:46:46.754428Z",
     "start_time": "2023-02-27T22:46:46.750239Z"
    }
   },
   "outputs": [],
   "source": [
    "def get_inference_model(model):\n",
    "    inputs = tf.keras.Input((543, 3), dtype=tf.float32, name=\"inputs\")\n",
    "    x = tf.where(tf.math.is_nan(inputs), tf.zeros_like(inputs), inputs)\n",
    "    x = tf.reduce_mean(x, axis=0, keepdims=True)\n",
    "    \n",
    "    for i in range(0, len(model.layers)):\n",
    "        x = model.layers[i](x)\n",
    "    output = tf.keras.layers.Activation(activation=\"linear\", name=\"outputs\")(x)\n",
    "    inference_model = tf.keras.Model(inputs=inputs, outputs=output) \n",
    "    inference_model.compile(loss=tf.keras.losses.SparseCategoricalCrossentropy(), metrics=[\"accuracy\"])\n",
    "    \n",
    "    return inference_model"
   ]
  },
  {
   "cell_type": "code",
   "execution_count": 30,
   "id": "b125786d",
   "metadata": {
    "ExecuteTime": {
     "end_time": "2023-02-27T22:46:48.969459Z",
     "start_time": "2023-02-27T22:46:48.703346Z"
    }
   },
   "outputs": [
    {
     "name": "stdout",
     "output_type": "stream",
     "text": [
      "Model: \"model\"\n",
      "__________________________________________________________________________________________________\n",
      " Layer (type)                   Output Shape         Param #     Connected to                     \n",
      "==================================================================================================\n",
      " inputs (InputLayer)            [(None, 543, 3)]     0           []                               \n",
      "                                                                                                  \n",
      " tf.math.is_nan_6 (TFOpLambda)  (None, 543, 3)       0           ['inputs[0][0]']                 \n",
      "                                                                                                  \n",
      " tf.zeros_like_6 (TFOpLambda)   (None, 543, 3)       0           ['inputs[0][0]']                 \n",
      "                                                                                                  \n",
      " tf.where_6 (TFOpLambda)        (None, 543, 3)       0           ['tf.math.is_nan_6[0][0]',       \n",
      "                                                                  'tf.zeros_like_6[0][0]',        \n",
      "                                                                  'inputs[0][0]']                 \n",
      "                                                                                                  \n",
      " tf.math.reduce_mean_6 (TFOpLam  (1, 543, 3)         0           ['tf.where_6[0][0]']             \n",
      " bda)                                                                                             \n",
      "                                                                                                  \n",
      " gru (GRU)                      multiple             51072       ['tf.math.reduce_mean_6[0][0]']  \n",
      "                                                                                                  \n",
      " gru_1 (GRU)                    multiple             99072       ['gru[3][0]']                    \n",
      "                                                                                                  \n",
      " dense (Dense)                  multiple             32250       ['gru_1[2][0]']                  \n",
      "                                                                                                  \n",
      " outputs (Activation)           (1, 250)             0           ['dense[2][0]']                  \n",
      "                                                                                                  \n",
      "==================================================================================================\n",
      "Total params: 182,394\n",
      "Trainable params: 182,394\n",
      "Non-trainable params: 0\n",
      "__________________________________________________________________________________________________\n"
     ]
    }
   ],
   "source": [
    "inference_model = get_inference_model(model)\n",
    "inference_model.summary()"
   ]
  },
  {
   "cell_type": "code",
   "execution_count": 33,
   "id": "2440704d",
   "metadata": {
    "ExecuteTime": {
     "end_time": "2023-02-27T22:47:56.771799Z",
     "start_time": "2023-02-27T22:47:49.111918Z"
    }
   },
   "outputs": [
    {
     "name": "stderr",
     "output_type": "stream",
     "text": [
      "WARNING:absl:Found untraced functions such as gru_cell_layer_call_fn, gru_cell_layer_call_and_return_conditional_losses, gru_cell_1_layer_call_fn, gru_cell_1_layer_call_and_return_conditional_losses while saving (showing 4 of 4). These functions will not be directly callable after loading.\n"
     ]
    },
    {
     "name": "stdout",
     "output_type": "stream",
     "text": [
      "INFO:tensorflow:Assets written to: /tmp/tmpbc9au6v_/assets\n"
     ]
    },
    {
     "name": "stderr",
     "output_type": "stream",
     "text": [
      "INFO:tensorflow:Assets written to: /tmp/tmpbc9au6v_/assets\n",
      "2023-02-27 14:47:56.181048: W tensorflow/compiler/mlir/lite/python/tf_tfl_flatbuffer_helpers.cc:362] Ignored output_format.\n",
      "2023-02-27 14:47:56.181087: W tensorflow/compiler/mlir/lite/python/tf_tfl_flatbuffer_helpers.cc:365] Ignored drop_control_dependency.\n",
      "2023-02-27 14:47:56.181246: I tensorflow/cc/saved_model/reader.cc:45] Reading SavedModel from: /tmp/tmpbc9au6v_\n",
      "2023-02-27 14:47:56.191118: I tensorflow/cc/saved_model/reader.cc:89] Reading meta graph with tags { serve }\n",
      "2023-02-27 14:47:56.191146: I tensorflow/cc/saved_model/reader.cc:130] Reading SavedModel debug info (if present) from: /tmp/tmpbc9au6v_\n",
      "2023-02-27 14:47:56.229278: I tensorflow/cc/saved_model/loader.cc:229] Restoring SavedModel bundle.\n",
      "2023-02-27 14:47:56.296647: I tensorflow/cc/saved_model/loader.cc:213] Running initialization op on SavedModel bundle at path: /tmp/tmpbc9au6v_\n",
      "2023-02-27 14:47:56.354540: I tensorflow/cc/saved_model/loader.cc:305] SavedModel load for tags { serve }; Status: success: OK. Took 173293 microseconds.\n",
      "2023-02-27 14:47:56.654645: I tensorflow/compiler/mlir/lite/flatbuffer_export.cc:1989] Estimated count of arithmetic ops: 0.430 M  ops, equivalently 0.215 M  MACs\n",
      "\n"
     ]
    }
   ],
   "source": [
    "converter = tf.lite.TFLiteConverter.from_keras_model(inference_model)\n",
    "tflite_model = converter.convert()\n",
    "model_path = \"model.tflite\"\n",
    "# Save the model.\n",
    "with open(model_path, 'wb') as f:\n",
    "    f.write(tflite_model)"
   ]
  },
  {
   "cell_type": "code",
   "execution_count": 35,
   "id": "5c62ba46",
   "metadata": {
    "ExecuteTime": {
     "end_time": "2023-02-27T22:48:26.959109Z",
     "start_time": "2023-02-27T22:48:23.518836Z"
    },
    "scrolled": true
   },
   "outputs": [
    {
     "name": "stderr",
     "output_type": "stream",
     "text": [
      "100%|█████████████████████████████████████████████████████████████████████████████| 100/100 [00:03<00:00, 29.12it/s]\n"
     ]
    }
   ],
   "source": [
    "import tflite_runtime.interpreter as tflite\n",
    "interpreter = tflite.Interpreter(model_path)\n",
    "found_signatures = list(interpreter.get_signature_list().keys())\n",
    "prediction_fn = interpreter.get_signature_runner(\"serving_default\")\n",
    "corr = 0\n",
    "wrong = []\n",
    "for i in tqdm(range(100)):\n",
    "    frames = load_relevant_data_subset(f'../{train.iloc[i].path}')\n",
    "    output = prediction_fn(inputs=frames)\n",
    "    sign = np.argmax(output[\"outputs\"])\n",
    "    if index_label[sign] == train.iloc[i].sign:\n",
    "        corr += 1\n",
    "    else:\n",
    "        wrong.append((index_label[sign], train.iloc[i].sign, train.iloc[i].path))\n",
    "\n",
    "    #     print(f\"Predicted label: {index_label[sign]}, Actual Label: {train.iloc[i].sign}\")\n",
    "\n",
    "\n",
    "    total = i"
   ]
  },
  {
   "cell_type": "code",
   "execution_count": 36,
   "id": "2ea52da4",
   "metadata": {
    "ExecuteTime": {
     "end_time": "2023-02-27T22:48:26.962913Z",
     "start_time": "2023-02-27T22:48:26.960538Z"
    }
   },
   "outputs": [
    {
     "name": "stdout",
     "output_type": "stream",
     "text": [
      "\n",
      "total=99\n",
      "corr=57\t Percent: 57.575758%\n",
      "\n"
     ]
    }
   ],
   "source": [
    "r = f'''\n",
    "{total=}\n",
    "{corr=}\\t Percent: {corr/total:%}\n",
    "'''\n",
    "print(r)"
   ]
  },
  {
   "cell_type": "code",
   "execution_count": 22,
   "id": "08905e36",
   "metadata": {
    "ExecuteTime": {
     "end_time": "2023-02-27T20:17:21.991694Z",
     "start_time": "2023-02-27T20:17:21.952531Z"
    }
   },
   "outputs": [
    {
     "data": {
      "text/html": [
       "<div>\n",
       "<style scoped>\n",
       "    .dataframe tbody tr th:only-of-type {\n",
       "        vertical-align: middle;\n",
       "    }\n",
       "\n",
       "    .dataframe tbody tr th {\n",
       "        vertical-align: top;\n",
       "    }\n",
       "\n",
       "    .dataframe thead th {\n",
       "        text-align: right;\n",
       "    }\n",
       "</style>\n",
       "<table border=\"1\" class=\"dataframe\">\n",
       "  <thead>\n",
       "    <tr style=\"text-align: right;\">\n",
       "      <th></th>\n",
       "      <th>pred</th>\n",
       "      <th>true</th>\n",
       "      <th>path</th>\n",
       "    </tr>\n",
       "  </thead>\n",
       "  <tbody>\n",
       "    <tr>\n",
       "      <th>37</th>\n",
       "      <td>carrot</td>\n",
       "      <td>42</td>\n",
       "      <td>42</td>\n",
       "    </tr>\n",
       "    <tr>\n",
       "      <th>151</th>\n",
       "      <td>napkin</td>\n",
       "      <td>51</td>\n",
       "      <td>51</td>\n",
       "    </tr>\n",
       "    <tr>\n",
       "      <th>221</th>\n",
       "      <td>tomorrow</td>\n",
       "      <td>58</td>\n",
       "      <td>58</td>\n",
       "    </tr>\n",
       "    <tr>\n",
       "      <th>136</th>\n",
       "      <td>look</td>\n",
       "      <td>59</td>\n",
       "      <td>59</td>\n",
       "    </tr>\n",
       "    <tr>\n",
       "      <th>2</th>\n",
       "      <td>airplane</td>\n",
       "      <td>59</td>\n",
       "      <td>59</td>\n",
       "    </tr>\n",
       "    <tr>\n",
       "      <th>...</th>\n",
       "      <td>...</td>\n",
       "      <td>...</td>\n",
       "      <td>...</td>\n",
       "    </tr>\n",
       "    <tr>\n",
       "      <th>163</th>\n",
       "      <td>outside</td>\n",
       "      <td>478</td>\n",
       "      <td>478</td>\n",
       "    </tr>\n",
       "    <tr>\n",
       "      <th>5</th>\n",
       "      <td>animal</td>\n",
       "      <td>521</td>\n",
       "      <td>521</td>\n",
       "    </tr>\n",
       "    <tr>\n",
       "      <th>56</th>\n",
       "      <td>dance</td>\n",
       "      <td>583</td>\n",
       "      <td>583</td>\n",
       "    </tr>\n",
       "    <tr>\n",
       "      <th>236</th>\n",
       "      <td>weus</td>\n",
       "      <td>584</td>\n",
       "      <td>584</td>\n",
       "    </tr>\n",
       "    <tr>\n",
       "      <th>112</th>\n",
       "      <td>helicopter</td>\n",
       "      <td>752</td>\n",
       "      <td>752</td>\n",
       "    </tr>\n",
       "  </tbody>\n",
       "</table>\n",
       "<p>250 rows × 3 columns</p>\n",
       "</div>"
      ],
      "text/plain": [
       "           pred  true  path\n",
       "37       carrot    42    42\n",
       "151      napkin    51    51\n",
       "221    tomorrow    58    58\n",
       "136        look    59    59\n",
       "2      airplane    59    59\n",
       "..          ...   ...   ...\n",
       "163     outside   478   478\n",
       "5        animal   521   521\n",
       "56        dance   583   583\n",
       "236        weus   584   584\n",
       "112  helicopter   752   752\n",
       "\n",
       "[250 rows x 3 columns]"
      ]
     },
     "execution_count": 22,
     "metadata": {},
     "output_type": "execute_result"
    }
   ],
   "source": [
    "wrongs = pd.DataFrame(data=wrong, columns=['pred','true','path'])\n",
    "wrongs.groupby('pred').count().reset_index().sort_values('true')"
   ]
  },
  {
   "cell_type": "code",
   "execution_count": 12,
   "id": "9cf79d84",
   "metadata": {
    "ExecuteTime": {
     "end_time": "2023-02-27T20:02:15.114270Z",
     "start_time": "2023-02-27T20:02:15.110445Z"
    }
   },
   "outputs": [
    {
     "name": "stdout",
     "output_type": "stream",
     "text": [
      "\n",
      "total=94476\n",
      "corr=41875\t Percent: 44.323426%\n",
      "\n"
     ]
    }
   ],
   "source": [
    "r = f'''\n",
    "{total=}\n",
    "{corr=}\\t Percent: {corr/total:%}\n",
    "'''\n",
    "print(r)"
   ]
  },
  {
   "cell_type": "code",
   "execution_count": 13,
   "id": "ef9f4289",
   "metadata": {
    "ExecuteTime": {
     "end_time": "2023-02-27T20:02:15.174610Z",
     "start_time": "2023-02-27T20:02:15.115810Z"
    }
   },
   "outputs": [
    {
     "name": "stdout",
     "output_type": "stream",
     "text": [
      "<class 'pandas.core.frame.DataFrame'>\n",
      "RangeIndex: 52602 entries, 0 to 52601\n",
      "Data columns (total 3 columns):\n",
      " #   Column  Non-Null Count  Dtype \n",
      "---  ------  --------------  ----- \n",
      " 0   pred    52602 non-null  object\n",
      " 1   true    52602 non-null  object\n",
      " 2   path    52602 non-null  object\n",
      "dtypes: object(3)\n",
      "memory usage: 1.2+ MB\n"
     ]
    }
   ],
   "source": [
    "wrongs = pd.DataFrame(data=wrong, columns=['pred','true','path'])\n",
    "wrongs.info()"
   ]
  },
  {
   "cell_type": "code",
   "execution_count": 14,
   "id": "922a8a12",
   "metadata": {
    "ExecuteTime": {
     "end_time": "2023-02-27T20:02:15.205779Z",
     "start_time": "2023-02-27T20:02:15.176511Z"
    }
   },
   "outputs": [
    {
     "data": {
      "text/html": [
       "<div>\n",
       "<style scoped>\n",
       "    .dataframe tbody tr th:only-of-type {\n",
       "        vertical-align: middle;\n",
       "    }\n",
       "\n",
       "    .dataframe tbody tr th {\n",
       "        vertical-align: top;\n",
       "    }\n",
       "\n",
       "    .dataframe thead th {\n",
       "        text-align: right;\n",
       "    }\n",
       "</style>\n",
       "<table border=\"1\" class=\"dataframe\">\n",
       "  <thead>\n",
       "    <tr style=\"text-align: right;\">\n",
       "      <th></th>\n",
       "      <th>pred</th>\n",
       "      <th>true</th>\n",
       "      <th>path</th>\n",
       "    </tr>\n",
       "  </thead>\n",
       "  <tbody>\n",
       "    <tr>\n",
       "      <th>141</th>\n",
       "      <td>many</td>\n",
       "      <td>44</td>\n",
       "      <td>44</td>\n",
       "    </tr>\n",
       "    <tr>\n",
       "      <th>58</th>\n",
       "      <td>dog</td>\n",
       "      <td>46</td>\n",
       "      <td>46</td>\n",
       "    </tr>\n",
       "    <tr>\n",
       "      <th>212</th>\n",
       "      <td>talk</td>\n",
       "      <td>50</td>\n",
       "      <td>50</td>\n",
       "    </tr>\n",
       "    <tr>\n",
       "      <th>119</th>\n",
       "      <td>horse</td>\n",
       "      <td>52</td>\n",
       "      <td>52</td>\n",
       "    </tr>\n",
       "    <tr>\n",
       "      <th>161</th>\n",
       "      <td>open</td>\n",
       "      <td>53</td>\n",
       "      <td>53</td>\n",
       "    </tr>\n",
       "    <tr>\n",
       "      <th>...</th>\n",
       "      <td>...</td>\n",
       "      <td>...</td>\n",
       "      <td>...</td>\n",
       "    </tr>\n",
       "    <tr>\n",
       "      <th>35</th>\n",
       "      <td>can</td>\n",
       "      <td>539</td>\n",
       "      <td>539</td>\n",
       "    </tr>\n",
       "    <tr>\n",
       "      <th>208</th>\n",
       "      <td>story</td>\n",
       "      <td>608</td>\n",
       "      <td>608</td>\n",
       "    </tr>\n",
       "    <tr>\n",
       "      <th>224</th>\n",
       "      <td>toothbrush</td>\n",
       "      <td>663</td>\n",
       "      <td>663</td>\n",
       "    </tr>\n",
       "    <tr>\n",
       "      <th>109</th>\n",
       "      <td>haveto</td>\n",
       "      <td>692</td>\n",
       "      <td>692</td>\n",
       "    </tr>\n",
       "    <tr>\n",
       "      <th>124</th>\n",
       "      <td>into</td>\n",
       "      <td>712</td>\n",
       "      <td>712</td>\n",
       "    </tr>\n",
       "  </tbody>\n",
       "</table>\n",
       "<p>250 rows × 3 columns</p>\n",
       "</div>"
      ],
      "text/plain": [
       "           pred  true  path\n",
       "141        many    44    44\n",
       "58          dog    46    46\n",
       "212        talk    50    50\n",
       "119       horse    52    52\n",
       "161        open    53    53\n",
       "..          ...   ...   ...\n",
       "35          can   539   539\n",
       "208       story   608   608\n",
       "224  toothbrush   663   663\n",
       "109      haveto   692   692\n",
       "124        into   712   712\n",
       "\n",
       "[250 rows x 3 columns]"
      ]
     },
     "execution_count": 14,
     "metadata": {},
     "output_type": "execute_result"
    }
   ],
   "source": [
    "wrongs.groupby('pred').count().reset_index().sort_values('true')"
   ]
  },
  {
   "cell_type": "code",
   "execution_count": 12,
   "id": "da83d564",
   "metadata": {
    "ExecuteTime": {
     "end_time": "2023-02-27T19:41:21.008824Z",
     "start_time": "2023-02-27T19:41:21.005789Z"
    }
   },
   "outputs": [
    {
     "name": "stdout",
     "output_type": "stream",
     "text": [
      "\n",
      "total=94476\n",
      "corr=36349\t Percent: 38.474322%\n",
      "\n"
     ]
    }
   ],
   "source": [
    "r = f'''\n",
    "{total=}\n",
    "{corr=}\\t Percent: {corr/total:%}\n",
    "'''\n",
    "print(r)"
   ]
  },
  {
   "cell_type": "code",
   "execution_count": 13,
   "id": "10081118",
   "metadata": {
    "ExecuteTime": {
     "end_time": "2023-02-27T19:41:21.053964Z",
     "start_time": "2023-02-27T19:41:21.009814Z"
    }
   },
   "outputs": [
    {
     "name": "stdout",
     "output_type": "stream",
     "text": [
      "<class 'pandas.core.frame.DataFrame'>\n",
      "RangeIndex: 58128 entries, 0 to 58127\n",
      "Data columns (total 3 columns):\n",
      " #   Column  Non-Null Count  Dtype \n",
      "---  ------  --------------  ----- \n",
      " 0   pred    58128 non-null  object\n",
      " 1   true    58128 non-null  object\n",
      " 2   path    58128 non-null  object\n",
      "dtypes: object(3)\n",
      "memory usage: 1.3+ MB\n"
     ]
    }
   ],
   "source": [
    "wrongs = pd.DataFrame(data=wrong, columns=['pred','true','path'])\n",
    "wrongs.info()"
   ]
  },
  {
   "cell_type": "code",
   "execution_count": 14,
   "id": "39f1cc84",
   "metadata": {
    "ExecuteTime": {
     "end_time": "2023-02-27T19:41:21.076021Z",
     "start_time": "2023-02-27T19:41:21.055461Z"
    }
   },
   "outputs": [
    {
     "data": {
      "text/html": [
       "<div>\n",
       "<style scoped>\n",
       "    .dataframe tbody tr th:only-of-type {\n",
       "        vertical-align: middle;\n",
       "    }\n",
       "\n",
       "    .dataframe tbody tr th {\n",
       "        vertical-align: top;\n",
       "    }\n",
       "\n",
       "    .dataframe thead th {\n",
       "        text-align: right;\n",
       "    }\n",
       "</style>\n",
       "<table border=\"1\" class=\"dataframe\">\n",
       "  <thead>\n",
       "    <tr style=\"text-align: right;\">\n",
       "      <th></th>\n",
       "      <th>pred</th>\n",
       "      <th>true</th>\n",
       "      <th>path</th>\n",
       "    </tr>\n",
       "  </thead>\n",
       "  <tbody>\n",
       "    <tr>\n",
       "      <th>167</th>\n",
       "      <td>pen</td>\n",
       "      <td>23</td>\n",
       "      <td>23</td>\n",
       "    </tr>\n",
       "    <tr>\n",
       "      <th>130</th>\n",
       "      <td>lamp</td>\n",
       "      <td>32</td>\n",
       "      <td>32</td>\n",
       "    </tr>\n",
       "    <tr>\n",
       "      <th>204</th>\n",
       "      <td>stairs</td>\n",
       "      <td>50</td>\n",
       "      <td>50</td>\n",
       "    </tr>\n",
       "    <tr>\n",
       "      <th>207</th>\n",
       "      <td>store</td>\n",
       "      <td>51</td>\n",
       "      <td>51</td>\n",
       "    </tr>\n",
       "    <tr>\n",
       "      <th>131</th>\n",
       "      <td>later</td>\n",
       "      <td>52</td>\n",
       "      <td>52</td>\n",
       "    </tr>\n",
       "    <tr>\n",
       "      <th>...</th>\n",
       "      <td>...</td>\n",
       "      <td>...</td>\n",
       "      <td>...</td>\n",
       "    </tr>\n",
       "    <tr>\n",
       "      <th>225</th>\n",
       "      <td>touch</td>\n",
       "      <td>536</td>\n",
       "      <td>536</td>\n",
       "    </tr>\n",
       "    <tr>\n",
       "      <th>188</th>\n",
       "      <td>room</td>\n",
       "      <td>537</td>\n",
       "      <td>537</td>\n",
       "    </tr>\n",
       "    <tr>\n",
       "      <th>25</th>\n",
       "      <td>blow</td>\n",
       "      <td>555</td>\n",
       "      <td>555</td>\n",
       "    </tr>\n",
       "    <tr>\n",
       "      <th>173</th>\n",
       "      <td>please</td>\n",
       "      <td>565</td>\n",
       "      <td>565</td>\n",
       "    </tr>\n",
       "    <tr>\n",
       "      <th>180</th>\n",
       "      <td>puzzle</td>\n",
       "      <td>655</td>\n",
       "      <td>655</td>\n",
       "    </tr>\n",
       "  </tbody>\n",
       "</table>\n",
       "<p>250 rows × 3 columns</p>\n",
       "</div>"
      ],
      "text/plain": [
       "       pred  true  path\n",
       "167     pen    23    23\n",
       "130    lamp    32    32\n",
       "204  stairs    50    50\n",
       "207   store    51    51\n",
       "131   later    52    52\n",
       "..      ...   ...   ...\n",
       "225   touch   536   536\n",
       "188    room   537   537\n",
       "25     blow   555   555\n",
       "173  please   565   565\n",
       "180  puzzle   655   655\n",
       "\n",
       "[250 rows x 3 columns]"
      ]
     },
     "execution_count": 14,
     "metadata": {},
     "output_type": "execute_result"
    }
   ],
   "source": [
    "wrongs.groupby('pred').count().reset_index().sort_values('true')"
   ]
  },
  {
   "cell_type": "code",
   "execution_count": null,
   "id": "2e49ccba",
   "metadata": {},
   "outputs": [],
   "source": []
  }
 ],
 "metadata": {
  "kernelspec": {
   "display_name": "Python 3 (ipykernel)",
   "language": "python",
   "name": "python3"
  },
  "language_info": {
   "codemirror_mode": {
    "name": "ipython",
    "version": 3
   },
   "file_extension": ".py",
   "mimetype": "text/x-python",
   "name": "python",
   "nbconvert_exporter": "python",
   "pygments_lexer": "ipython3",
   "version": "3.9.15"
  },
  "toc": {
   "base_numbering": 1,
   "nav_menu": {},
   "number_sections": true,
   "sideBar": true,
   "skip_h1_title": false,
   "title_cell": "Table of Contents",
   "title_sidebar": "Contents",
   "toc_cell": false,
   "toc_position": {},
   "toc_section_display": true,
   "toc_window_display": false
  }
 },
 "nbformat": 4,
 "nbformat_minor": 5
}
