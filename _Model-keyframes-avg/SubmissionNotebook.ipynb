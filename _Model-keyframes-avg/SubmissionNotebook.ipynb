{
 "cells": [
  {
   "cell_type": "code",
   "execution_count": 1,
   "id": "44c2b77e-51cb-4d95-90b5-4d8d855c3c72",
   "metadata": {
    "tags": []
   },
   "outputs": [
    {
     "name": "stderr",
     "output_type": "stream",
     "text": [
      "2023-03-12 20:11:42.445815: I tensorflow/core/platform/cpu_feature_guard.cc:193] This TensorFlow binary is optimized with oneAPI Deep Neural Network Library (oneDNN) to use the following CPU instructions in performance-critical operations:  AVX2 FMA\n",
      "To enable them in other operations, rebuild TensorFlow with the appropriate compiler flags.\n",
      "2023-03-12 20:11:42.561174: E tensorflow/stream_executor/cuda/cuda_blas.cc:2981] Unable to register cuBLAS factory: Attempting to register factory for plugin cuBLAS when one has already been registered\n",
      "2023-03-12 20:11:42.945755: W tensorflow/stream_executor/platform/default/dso_loader.cc:64] Could not load dynamic library 'libnvinfer.so.7'; dlerror: libnvinfer.so.7: cannot open shared object file: No such file or directory; LD_LIBRARY_PATH: :/home/maxpow/miniconda3/envs/tf/lib/:/home/maxpow/miniconda3/envs/tf/lib/\n",
      "2023-03-12 20:11:42.945817: W tensorflow/stream_executor/platform/default/dso_loader.cc:64] Could not load dynamic library 'libnvinfer_plugin.so.7'; dlerror: libnvinfer_plugin.so.7: cannot open shared object file: No such file or directory; LD_LIBRARY_PATH: :/home/maxpow/miniconda3/envs/tf/lib/:/home/maxpow/miniconda3/envs/tf/lib/\n",
      "2023-03-12 20:11:42.945822: W tensorflow/compiler/tf2tensorrt/utils/py_utils.cc:38] TF-TRT Warning: Cannot dlopen some TensorRT libraries. If you would like to use Nvidia GPU with TensorRT, please make sure the missing libraries mentioned above are installed properly.\n"
     ]
    }
   ],
   "source": [
    "#!/usr/bin/env python\n",
    "# coding: utf-8\n",
    "import os\n",
    "import datetime\n",
    "import json\n",
    "from tqdm import tqdm\n",
    "\n",
    "import numpy as np\n",
    "import pandas as pd\n",
    "\n",
    "import tensorflow as tf\n",
    "from sklearn.model_selection import train_test_split\n",
    "\n",
    "import joblib\n",
    "import matplotlib.pyplot as plt\n",
    "import math"
   ]
  },
  {
   "cell_type": "markdown",
   "id": "ec514217-f1cf-4c10-9e03-89953bb748df",
   "metadata": {},
   "source": [
    "## Constants"
   ]
  },
  {
   "cell_type": "code",
   "execution_count": 2,
   "id": "02a7d5b2-33da-45c0-aa8e-e5f5a77b632f",
   "metadata": {
    "tags": []
   },
   "outputs": [
    {
     "name": "stdout",
     "output_type": "stream",
     "text": [
      "MODEL_DIR='/home/maxpow/Workspace/kaggle-asl/kaggle-asl-signs'\n"
     ]
    }
   ],
   "source": [
    "# Hyperparams\n",
    "mirror = False\n",
    "MAX_FRAMES = 15\n",
    "MAX_SEQ_LENGTH = MAX_FRAMES\n",
    "N_PTS = 543\n",
    "N_DIMS = 2\n",
    "NUM_FEATURES = N_PTS*N_DIMS\n",
    "\n",
    "START_FACE, END_FACE = (0, 468)\n",
    "START_LHAND, END_LHAND = (468, 489)\n",
    "START_POSE, END_POSE = (489, 522)\n",
    "START_RHAND, END_RHAND = (522, 543)\n",
    "LIPS_PTS = [61, 185, 40, 39, 37, 0, 267, 269, 270, 409, 291, 78, 191, 80, 81, 82, 13, 312, 311, 310, 415, 308, 95, 88, 178, 87, 14, 317, 402, 318, 324, 146, 91, 181, 84, 17, 314, 405, 321, 375]\n",
    "\n",
    "PATIENCE = 16\n",
    "BATCH_SIZE = 64\n",
    "EPOCHS = 500\n",
    "\n",
    "LR_START = 0.001\n",
    "REDUCE_LR_PATIENCE = 4\n",
    "REDUCE_LR_FACTOR = 0.2\n",
    "\n",
    "X_npy_fname = f'X-15-keyframes-nearest-avg-std.npy'\n",
    "y_npy_fname = f'y.npy'\n",
    "\n",
    "COMP = os.environ.get('COMP_NAME', '?')\n",
    "__file__ = os.path.abspath('')\n",
    "MODEL_DIR = '/'.join((__file__).split('/')[:-1])\n",
    "print(f'{MODEL_DIR=}')\n",
    "METRIC_STR = '_xx_val_acc-'\n",
    "MODEL_NAME = MODEL_DIR.split(METRIC_STR)[-1]\n",
    "\n",
    "model_details = (\n",
    "    f'{MODEL_NAME}'\n",
    "    f'-key_frames_all_resize_nearest'\n",
    "    f'-{MAX_FRAMES:02}_frames'\n",
    "    f'-{N_PTS}_pts_per_frame'\n",
    "    f'-{N_DIMS}_dims'\n",
    "    f'-mirror' if mirror else ''\n",
    "    f'-{BATCH_SIZE}_batch_size'\n",
    ")\n",
    "\n",
    "DATA_ROOT = '../data/'\n",
    "DF_TRAIN =  f'{DATA_ROOT}train.csv'\n"
   ]
  },
  {
   "cell_type": "markdown",
   "id": "34b44cd3-4d81-46d0-bc16-71c5f0e1f1f2",
   "metadata": {
    "tags": []
   },
   "source": [
    "## Data pre-processing"
   ]
  },
  {
   "cell_type": "markdown",
   "id": "7290e04b-f37a-48ba-9e8b-6470d8d89437",
   "metadata": {
    "tags": []
   },
   "source": [
    "## Function Definitions"
   ]
  },
  {
   "cell_type": "code",
   "execution_count": 3,
   "id": "08be54ba-971f-4af7-af96-968de7fd0021",
   "metadata": {
    "tags": []
   },
   "outputs": [],
   "source": [
    "class CFG:\n",
    "    data_path = DATA_ROOT\n",
    "    quick_experiment = False\n",
    "    is_training = True\n",
    "    use_aggregation_dataset = True\n",
    "    num_classes = 250\n",
    "    rows_per_frame = 543 \n",
    "\n",
    "def load_relevant_data_subset_with_imputation(pq_path):\n",
    "    data_columns = ['x', 'y', 'z']\n",
    "    data = pd.read_parquet(pq_path, columns=data_columns)\n",
    "    data.replace(np.nan, 0, inplace=True)\n",
    "    n_frames = int(len(data) / CFG.rows_per_frame)\n",
    "    data = data.values.reshape(n_frames, CFG.rows_per_frame, len(data_columns))\n",
    "    return data.astype(np.float32)\n",
    "\n",
    "def load_relevant_data_subset(pq_path):\n",
    "    data_columns = ['x', 'y', 'z']\n",
    "    data = pd.read_parquet(pq_path, columns=data_columns)\n",
    "    n_frames = int(len(data) / CFG.rows_per_frame)\n",
    "    data = data.values.reshape(n_frames, CFG.rows_per_frame, len(data_columns))\n",
    "    return data.astype(np.float32)\n",
    "\n",
    "def read_dict(file_path):\n",
    "    path = os.path.expanduser(file_path)\n",
    "    with open(path, \"r\") as f:\n",
    "        dic = json.load(f)\n",
    "    return dic\n"
   ]
  },
  {
   "cell_type": "markdown",
   "id": "9f4986f7-6200-4077-990c-8554771c8c18",
   "metadata": {
    "tags": []
   },
   "source": [
    "## Start pre-processing here"
   ]
  },
  {
   "cell_type": "code",
   "execution_count": 4,
   "id": "fed04e34-df3d-4970-b960-54a3469cba11",
   "metadata": {},
   "outputs": [],
   "source": [
    "train = pd.read_csv(DF_TRAIN)\n",
    "label_index = read_dict(f\"{CFG.data_path}sign_to_prediction_index_map.json\")\n",
    "index_label = {label_index[key]: key for key in label_index}\n",
    "train[\"label\"] = train[\"sign\"].map(lambda sign: label_index[sign])"
   ]
  },
  {
   "cell_type": "code",
   "execution_count": 5,
   "id": "30614e4a-7ee3-455d-9db9-32680f359c29",
   "metadata": {
    "tags": []
   },
   "outputs": [
    {
     "name": "stdout",
     "output_type": "stream",
     "text": [
      "(94477, 15, 172)\n",
      "(94477,)\n"
     ]
    }
   ],
   "source": [
    "X = np.load('X-15-keyframes-nearest-avg-std.npy')\n",
    "y = np.load(y_npy_fname)\n",
    "X_train = X\n",
    "y_train = y\n",
    "\n",
    "print(X_train.shape)\n",
    "print(y_train.shape)"
   ]
  },
  {
   "cell_type": "markdown",
   "id": "0f885b0f-af0a-4b53-a209-1831853ee389",
   "metadata": {
    "tags": []
   },
   "source": [
    "## Model Definition"
   ]
  },
  {
   "cell_type": "code",
   "execution_count": 6,
   "id": "6da49682-a97c-4b5d-834d-df2294d8d6a9",
   "metadata": {},
   "outputs": [],
   "source": [
    "# CHANGED\n",
    "# # RNN Model \n",
    "# > https://keras.io/examples/vision/video_classification/\n",
    "\n",
    "# Utility for our sequence model.\n",
    "def get_sequence_model(max_frames: int, num_features: int):\n",
    "    n_classes = 250\n",
    "\n",
    "    frame_features_input = tf.keras.Input((max_frames, num_features))\n",
    "\n",
    "    # Data's dimensions were flattened so need to get the relevant pieces\n",
    "    input_lhand = tf.keras.layers.Lambda(\n",
    "        lambda x: x[:, :, START_LHAND*N_DIMS:END_LHAND*N_DIMS],\n",
    "        output_shape=(MAX_FRAMES, (END_LHAND - START_LHAND), N_DIMS),\n",
    "    )(frame_features_input)\n",
    "    input_rhand = tf.keras.layers.Lambda(\n",
    "        lambda x: x[:, :, START_RHAND*N_DIMS:END_RHAND*N_DIMS],\n",
    "        output_shape=(MAX_FRAMES, (END_RHAND - START_RHAND), N_DIMS),\n",
    "    )(frame_features_input)\n",
    "    input_lips = tf.keras.layers.Lambda(\n",
    "        lambda x: tf.gather(x, LIPS_PTS, axis=2),\n",
    "        output_shape=(MAX_FRAMES, len(LIPS_PTS), N_DIMS),\n",
    "    )(frame_features_input)\n",
    "    \n",
    "    ## RNN\n",
    "\n",
    "    ## lhand + rhand + lips + avg_pose + avg_face + std_pose + std_face\n",
    "    l = tf.keras.layers.GRU(512, return_sequences=True)(frame_features_input)\n",
    "    l = tf.keras.layers.GRU(256)(l)\n",
    "    # FCN\n",
    "    l = tf.keras.layers.Dense(786)(l)\n",
    "    l = tf.keras.layers.BatchNormalization()(l)\n",
    "    l = tf.keras.layers.Activation('relu')(l)\n",
    "    l = tf.keras.layers.Dropout(0.2)(l)\n",
    "    l = tf.keras.layers.Dense(393)(l)\n",
    "    l = tf.keras.layers.BatchNormalization()(l)\n",
    "    l = tf.keras.layers.Activation('relu')(l)\n",
    "    l = tf.keras.layers.Dropout(0.2)(l)\n",
    "   \n",
    "\n",
    "    x = tf.keras.layers.Dense(512, activation='relu')(l)\n",
    "    x = tf.keras.layers.Dense(512)(x)\n",
    "    x = tf.keras.layers.BatchNormalization()(x)\n",
    "    x = tf.keras.layers.Activation('relu')(x)\n",
    "    x = tf.keras.layers.Dropout(0.3)(x)\n",
    "\n",
    "    x = tf.keras.layers.Flatten()(x)\n",
    "    output = tf.keras.layers.Dense(n_classes, activation='softmax')(x)\n",
    "\n",
    "    rnn_model = tf.keras.Model([frame_features_input,], output)\n",
    "\n",
    "    rnn_model.compile(\n",
    "        loss='sparse_categorical_crossentropy',\n",
    "        optimizer=tf.keras.optimizers.Nadam(\n",
    "            learning_rate=LR_START,\n",
    "        ),\n",
    "        metrics=['accuracy'],\n",
    "    )\n",
    "    return rnn_model\n"
   ]
  },
  {
   "cell_type": "code",
   "execution_count": 7,
   "id": "89eb0806-3d3c-4fe2-aa74-230fcf5f3c5c",
   "metadata": {
    "tags": []
   },
   "outputs": [],
   "source": [
    "# # # RNN Model \n",
    "# # > https://keras.io/examples/vision/video_classification/\n",
    "\n",
    "# # Utility for our sequence model.\n",
    "# def get_sequence_model(max_frames: int, num_features: int):\n",
    "#     n_classes = 250\n",
    "\n",
    "#     frame_features_input = tf.keras.Input((max_frames, num_features))\n",
    "\n",
    "#     # Data's dimensions were flattened so need to get the relevant pieces\n",
    "#     input_lhand = tf.keras.layers.Lambda(\n",
    "#         lambda x: x[:, :, START_LHAND*N_DIMS:END_LHAND*N_DIMS],\n",
    "#         output_shape=(MAX_FRAMES, (END_LHAND - START_LHAND), N_DIMS),\n",
    "#     )(frame_features_input)\n",
    "#     input_rhand = tf.keras.layers.Lambda(\n",
    "#         lambda x: x[:, :, START_RHAND*N_DIMS:END_RHAND*N_DIMS],\n",
    "#         output_shape=(MAX_FRAMES, (END_RHAND - START_RHAND), N_DIMS),\n",
    "#     )(frame_features_input)\n",
    "#     input_lips = tf.keras.layers.Lambda(\n",
    "#         lambda x: tf.gather(x, LIPS_PTS, axis=2),\n",
    "#         output_shape=(MAX_FRAMES, len(LIPS_PTS), N_DIMS),\n",
    "#     )(frame_features_input)\n",
    "    \n",
    "#     ## RNN\n",
    "\n",
    "#     ## lhand + lips\n",
    "#     concat_lhand = tf.keras.layers.Concatenate()([input_lhand, input_lips])\n",
    "#     l = tf.keras.layers.GRU(512, return_sequences=True)(concat_lhand)\n",
    "#     l = tf.keras.layers.GRU(256)(l)\n",
    "#     # FCN\n",
    "#     l = tf.keras.layers.Dense(786)(l)\n",
    "#     l = tf.keras.layers.BatchNormalization()(l)\n",
    "#     l = tf.keras.layers.Activation('relu')(l)\n",
    "#     l = tf.keras.layers.Dropout(0.2)(l)\n",
    "#     l = tf.keras.layers.Dense(393)(l)\n",
    "#     l = tf.keras.layers.BatchNormalization()(l)\n",
    "#     l = tf.keras.layers.Activation('relu')(l)\n",
    "#     l = tf.keras.layers.Dropout(0.2)(l)\n",
    "\n",
    "#     ## rhand\n",
    "#     concat_rhand = tf.keras.layers.Concatenate()([input_rhand, input_lips])\n",
    "#     r = tf.keras.layers.GRU(512, return_sequences=True)(concat_rhand)\n",
    "#     r = tf.keras.layers.GRU(256)(r)\n",
    "#     # FCN\n",
    "#     r = tf.keras.layers.Dense(786)(r)\n",
    "#     r = tf.keras.layers.BatchNormalization()(r)\n",
    "#     r = tf.keras.layers.Activation('relu')(r)\n",
    "#     r = tf.keras.layers.Dropout(0.2)(r)\n",
    "#     r = tf.keras.layers.Dense(393)(r)\n",
    "#     r = tf.keras.layers.BatchNormalization()(r)\n",
    "#     r = tf.keras.layers.Activation('relu')(r)\n",
    "#     r = tf.keras.layers.Dropout(0.2)(r)\n",
    "\n",
    "\n",
    "    \n",
    "#     concat_hands = tf.keras.layers.Concatenate()([l, r])\n",
    "#     x = tf.keras.layers.Dense(783)(concat_hands)\n",
    "#     x = tf.keras.layers.BatchNormalization()(x)\n",
    "#     x = tf.keras.layers.Activation('relu')(x)\n",
    "#     x = tf.keras.layers.Dropout(0.2)(x)\n",
    "   \n",
    "\n",
    "#     x = tf.keras.layers.Dense(512, activation='relu')(x)\n",
    "#     x = tf.keras.layers.Dense(512)(x)\n",
    "#     x = tf.keras.layers.BatchNormalization()(x)\n",
    "#     x = tf.keras.layers.Activation('relu')(x)\n",
    "#     x = tf.keras.layers.Dropout(0.3)(x)\n",
    "\n",
    "#     x = tf.keras.layers.Flatten()(x)\n",
    "#     output = tf.keras.layers.Dense(n_classes, activation='softmax')(x)\n",
    "\n",
    "#     rnn_model = tf.keras.Model([frame_features_input,], output)\n",
    "\n",
    "#     rnn_model.compile(\n",
    "#         loss='sparse_categorical_crossentropy',\n",
    "#         optimizer=tf.keras.optimizers.Nadam(\n",
    "#             learning_rate=LR_START,\n",
    "#         ),\n",
    "#         metrics=['accuracy'],\n",
    "#     )\n",
    "#     return rnn_model\n"
   ]
  },
  {
   "cell_type": "code",
   "execution_count": 8,
   "id": "831c5667-f97b-4f2c-9a74-0adcb57bb64b",
   "metadata": {
    "tags": []
   },
   "outputs": [
    {
     "name": "stderr",
     "output_type": "stream",
     "text": [
      "2023-03-12 20:12:05.769517: I tensorflow/stream_executor/cuda/cuda_gpu_executor.cc:980] successful NUMA node read from SysFS had negative value (-1), but there must be at least one NUMA node, so returning NUMA node zero\n",
      "2023-03-12 20:12:05.773233: I tensorflow/stream_executor/cuda/cuda_gpu_executor.cc:980] successful NUMA node read from SysFS had negative value (-1), but there must be at least one NUMA node, so returning NUMA node zero\n",
      "2023-03-12 20:12:05.773381: I tensorflow/stream_executor/cuda/cuda_gpu_executor.cc:980] successful NUMA node read from SysFS had negative value (-1), but there must be at least one NUMA node, so returning NUMA node zero\n",
      "2023-03-12 20:12:05.773656: I tensorflow/core/platform/cpu_feature_guard.cc:193] This TensorFlow binary is optimized with oneAPI Deep Neural Network Library (oneDNN) to use the following CPU instructions in performance-critical operations:  AVX2 FMA\n",
      "To enable them in other operations, rebuild TensorFlow with the appropriate compiler flags.\n",
      "2023-03-12 20:12:05.774065: I tensorflow/stream_executor/cuda/cuda_gpu_executor.cc:980] successful NUMA node read from SysFS had negative value (-1), but there must be at least one NUMA node, so returning NUMA node zero\n",
      "2023-03-12 20:12:05.774209: I tensorflow/stream_executor/cuda/cuda_gpu_executor.cc:980] successful NUMA node read from SysFS had negative value (-1), but there must be at least one NUMA node, so returning NUMA node zero\n",
      "2023-03-12 20:12:05.774337: I tensorflow/stream_executor/cuda/cuda_gpu_executor.cc:980] successful NUMA node read from SysFS had negative value (-1), but there must be at least one NUMA node, so returning NUMA node zero\n",
      "2023-03-12 20:12:06.170783: I tensorflow/stream_executor/cuda/cuda_gpu_executor.cc:980] successful NUMA node read from SysFS had negative value (-1), but there must be at least one NUMA node, so returning NUMA node zero\n",
      "2023-03-12 20:12:06.170959: I tensorflow/stream_executor/cuda/cuda_gpu_executor.cc:980] successful NUMA node read from SysFS had negative value (-1), but there must be at least one NUMA node, so returning NUMA node zero\n",
      "2023-03-12 20:12:06.171086: I tensorflow/stream_executor/cuda/cuda_gpu_executor.cc:980] successful NUMA node read from SysFS had negative value (-1), but there must be at least one NUMA node, so returning NUMA node zero\n",
      "2023-03-12 20:12:06.171186: I tensorflow/core/common_runtime/gpu/gpu_device.cc:1616] Created device /job:localhost/replica:0/task:0/device:GPU:0 with 9612 MB memory:  -> device: 0, name: NVIDIA GeForce RTX 2080 Ti, pci bus id: 0000:01:00.0, compute capability: 7.5\n"
     ]
    },
    {
     "name": "stdout",
     "output_type": "stream",
     "text": [
      "Model: \"model\"\n",
      "_________________________________________________________________\n",
      " Layer (type)                Output Shape              Param #   \n",
      "=================================================================\n",
      " input_1 (InputLayer)        [(None, 15, 172)]         0         \n",
      "                                                                 \n",
      " gru (GRU)                   (None, 15, 512)           1053696   \n",
      "                                                                 \n",
      " gru_1 (GRU)                 (None, 256)               591360    \n",
      "                                                                 \n",
      " dense (Dense)               (None, 786)               202002    \n",
      "                                                                 \n",
      " batch_normalization (BatchN  (None, 786)              3144      \n",
      " ormalization)                                                   \n",
      "                                                                 \n",
      " activation (Activation)     (None, 786)               0         \n",
      "                                                                 \n",
      " dropout (Dropout)           (None, 786)               0         \n",
      "                                                                 \n",
      " dense_1 (Dense)             (None, 393)               309291    \n",
      "                                                                 \n",
      " batch_normalization_1 (Batc  (None, 393)              1572      \n",
      " hNormalization)                                                 \n",
      "                                                                 \n",
      " activation_1 (Activation)   (None, 393)               0         \n",
      "                                                                 \n",
      " dropout_1 (Dropout)         (None, 393)               0         \n",
      "                                                                 \n",
      " dense_2 (Dense)             (None, 512)               201728    \n",
      "                                                                 \n",
      " dense_3 (Dense)             (None, 512)               262656    \n",
      "                                                                 \n",
      " batch_normalization_2 (Batc  (None, 512)              2048      \n",
      " hNormalization)                                                 \n",
      "                                                                 \n",
      " activation_2 (Activation)   (None, 512)               0         \n",
      "                                                                 \n",
      " dropout_2 (Dropout)         (None, 512)               0         \n",
      "                                                                 \n",
      " flatten (Flatten)           (None, 512)               0         \n",
      "                                                                 \n",
      " dense_4 (Dense)             (None, 250)               128250    \n",
      "                                                                 \n",
      "=================================================================\n",
      "Total params: 2,755,747\n",
      "Trainable params: 2,752,365\n",
      "Non-trainable params: 3,382\n",
      "_________________________________________________________________\n",
      "None\n"
     ]
    }
   ],
   "source": [
    "model = get_sequence_model(max_frames=MAX_FRAMES, num_features=X_train.shape[2])\n",
    "print(model.summary())"
   ]
  },
  {
   "cell_type": "markdown",
   "id": "5ffab338-12e0-4c38-95a1-ac64e75a7dad",
   "metadata": {
    "tags": []
   },
   "source": [
    "## Model Training"
   ]
  },
  {
   "cell_type": "markdown",
   "id": "c8313436-3565-4252-a919-ae88a97fd0f9",
   "metadata": {
    "tags": []
   },
   "source": [
    "### Function definitions"
   ]
  },
  {
   "cell_type": "code",
   "execution_count": 9,
   "id": "5eed5625-85a9-4d77-a6df-aaeffb5ee68f",
   "metadata": {
    "tags": []
   },
   "outputs": [],
   "source": [
    "\n",
    "def run_experiment(\n",
    "    model,\n",
    "    train_data,\n",
    "    train_labels,\n",
    "    validation_data = None,\n",
    "    validation_split: int = 0.2,\n",
    "    model_path: str = 'temp',\n",
    "    epochs: int = 10,\n",
    "    batch_size: int = 128,\n",
    "    monitor_metric: str = 'val_accuracy',\n",
    "    patience: int = 6,\n",
    "):\n",
    "    from Slack import SlackCallback\n",
    "    slack_callback = SlackCallback(\n",
    "        token=os.environ['SLACK_BOT_TOKEN'],\n",
    "        start_message=(\n",
    "            f'Model starting on {COMP=} for {EPOCHS=}\\n'\n",
    "            f'{model_details=}'\n",
    "        ),\n",
    "    )\n",
    "\n",
    "    callbacks = [\n",
    "        tf.keras.callbacks.ModelCheckpoint(\n",
    "            model_path,\n",
    "            save_weights_only=True,\n",
    "            save_best_only=True,\n",
    "        ),\n",
    "        tf.keras.callbacks.EarlyStopping(\n",
    "            monitor=monitor_metric,\n",
    "            patience=patience,\n",
    "            restore_best_weights=True,\n",
    "        ),\n",
    "        tf.keras.callbacks.TensorBoard(\n",
    "            log_dir=(\n",
    "                'logs/fit/'\n",
    "                + datetime.datetime.now().strftime(\"%Y%m%d-%H%M%S\")\n",
    "                + f'-{model_details}'\n",
    "            ),\n",
    "            histogram_freq=1,\n",
    "        ),\n",
    "        tf.keras.callbacks.ReduceLROnPlateau(\n",
    "            monitor='val_loss',\n",
    "            factor=REDUCE_LR_FACTOR,\n",
    "            patience=REDUCE_LR_PATIENCE,\n",
    "        ),\n",
    "        slack_callback,\n",
    "    ]\n",
    "        \n",
    "    fit_params = dict(\n",
    "        x=train_data,\n",
    "        y=train_labels,\n",
    "        epochs=epochs,\n",
    "        batch_size=batch_size,\n",
    "    )\n",
    "    if validation_data:\n",
    "        fit_params['validation_data'] = validation_data\n",
    "    else:\n",
    "        fit_params['validation_split'] = validation_split\n",
    "\n",
    "    history = model.fit(\n",
    "        **fit_params,\n",
    "        callbacks=callbacks,\n",
    "    )\n",
    "\n",
    "    return model, history"
   ]
  },
  {
   "cell_type": "markdown",
   "id": "bae0b266-8f2b-48e6-b0d1-9b6dd72407db",
   "metadata": {
    "tags": []
   },
   "source": [
    "### Training starts here"
   ]
  },
  {
   "cell_type": "code",
   "execution_count": 10,
   "id": "b9c0ec61-27c4-4233-9565-ecb1d6d3c167",
   "metadata": {
    "tags": []
   },
   "outputs": [
    {
     "name": "stdout",
     "output_type": "stream",
     "text": [
      "Epoch 1/500\n"
     ]
    },
    {
     "name": "stderr",
     "output_type": "stream",
     "text": [
      "2023-03-12 20:12:18.651579: I tensorflow/stream_executor/cuda/cuda_dnn.cc:384] Loaded cuDNN version 8100\n"
     ]
    },
    {
     "name": "stdout",
     "output_type": "stream",
     "text": [
      "   1/1329 [..............................] - ETA: 1:15:18 - loss: 5.9229 - accuracy: 0.0000e+00WARNING:tensorflow:Callback method `on_train_batch_end` is slow compared to the batch time (batch time: 0.0063s vs `on_train_batch_end` time: 0.0138s). Check your callbacks.\n",
      "1329/1329 [==============================] - 45s 32ms/step - loss: 4.6976 - accuracy: 0.0591 - val_loss: 4.7315 - val_accuracy: 0.0700 - lr: 0.0010\n",
      "Epoch 2/500\n",
      "1329/1329 [==============================] - 40s 30ms/step - loss: 3.2744 - accuracy: 0.2286 - val_loss: 3.0590 - val_accuracy: 0.2665 - lr: 0.0010\n",
      "Epoch 3/500\n",
      "1329/1329 [==============================] - 41s 31ms/step - loss: 2.7154 - accuracy: 0.3373 - val_loss: 2.9977 - val_accuracy: 0.2804 - lr: 0.0010\n",
      "Epoch 4/500\n",
      "1329/1329 [==============================] - 41s 31ms/step - loss: 2.3543 - accuracy: 0.4136 - val_loss: 3.5057 - val_accuracy: 0.2412 - lr: 0.0010\n",
      "Epoch 5/500\n",
      "1329/1329 [==============================] - 43s 32ms/step - loss: 2.1038 - accuracy: 0.4711 - val_loss: 2.6753 - val_accuracy: 0.3449 - lr: 0.0010\n",
      "Epoch 6/500\n",
      "1329/1329 [==============================] - 41s 31ms/step - loss: 1.9224 - accuracy: 0.5105 - val_loss: 1.9911 - val_accuracy: 0.5028 - lr: 0.0010\n",
      "Epoch 7/500\n",
      "1329/1329 [==============================] - 40s 30ms/step - loss: 1.7836 - accuracy: 0.5414 - val_loss: 2.1850 - val_accuracy: 0.4717 - lr: 0.0010\n",
      "Epoch 8/500\n",
      "1329/1329 [==============================] - 41s 31ms/step - loss: 1.6702 - accuracy: 0.5677 - val_loss: 2.1001 - val_accuracy: 0.4766 - lr: 0.0010\n",
      "Epoch 9/500\n",
      "1329/1329 [==============================] - 41s 31ms/step - loss: 1.5787 - accuracy: 0.5885 - val_loss: 1.9584 - val_accuracy: 0.5198 - lr: 0.0010\n",
      "Epoch 10/500\n",
      "1329/1329 [==============================] - 40s 30ms/step - loss: 1.4896 - accuracy: 0.6088 - val_loss: 1.7302 - val_accuracy: 0.5722 - lr: 0.0010\n",
      "Epoch 11/500\n",
      "1329/1329 [==============================] - 42s 31ms/step - loss: 1.4251 - accuracy: 0.6250 - val_loss: 1.8389 - val_accuracy: 0.5572 - lr: 0.0010\n",
      "Epoch 12/500\n",
      "1329/1329 [==============================] - 42s 32ms/step - loss: 1.3576 - accuracy: 0.6423 - val_loss: 1.7080 - val_accuracy: 0.5777 - lr: 0.0010\n",
      "Epoch 13/500\n",
      "1329/1329 [==============================] - 40s 30ms/step - loss: 1.3053 - accuracy: 0.6548 - val_loss: 2.0050 - val_accuracy: 0.5202 - lr: 0.0010\n",
      "Epoch 14/500\n",
      "1329/1329 [==============================] - 42s 32ms/step - loss: 1.2535 - accuracy: 0.6655 - val_loss: 1.6426 - val_accuracy: 0.5942 - lr: 0.0010\n",
      "Epoch 15/500\n",
      "1329/1329 [==============================] - 42s 32ms/step - loss: 1.2074 - accuracy: 0.6749 - val_loss: 1.5326 - val_accuracy: 0.6236 - lr: 0.0010\n",
      "Epoch 16/500\n",
      "1329/1329 [==============================] - 39s 29ms/step - loss: 1.1628 - accuracy: 0.6850 - val_loss: 1.6014 - val_accuracy: 0.6058 - lr: 0.0010\n",
      "Epoch 17/500\n",
      "1329/1329 [==============================] - 41s 31ms/step - loss: 1.1294 - accuracy: 0.6929 - val_loss: 1.4606 - val_accuracy: 0.6480 - lr: 0.0010\n",
      "Epoch 18/500\n",
      "1329/1329 [==============================] - 41s 31ms/step - loss: 1.0921 - accuracy: 0.7028 - val_loss: 1.8193 - val_accuracy: 0.5760 - lr: 0.0010\n",
      "Epoch 19/500\n",
      "1329/1329 [==============================] - 41s 31ms/step - loss: 1.0595 - accuracy: 0.7117 - val_loss: 1.5122 - val_accuracy: 0.6433 - lr: 0.0010\n",
      "Epoch 20/500\n",
      "1329/1329 [==============================] - 41s 31ms/step - loss: 1.0274 - accuracy: 0.7203 - val_loss: 1.6180 - val_accuracy: 0.6182 - lr: 0.0010\n",
      "Epoch 21/500\n",
      "1329/1329 [==============================] - 42s 32ms/step - loss: 1.0044 - accuracy: 0.7251 - val_loss: 1.5762 - val_accuracy: 0.6296 - lr: 0.0010\n",
      "Epoch 22/500\n",
      "1329/1329 [==============================] - 41s 31ms/step - loss: 0.7508 - accuracy: 0.7930 - val_loss: 1.3247 - val_accuracy: 0.6957 - lr: 2.0000e-04\n",
      "Epoch 23/500\n",
      "1329/1329 [==============================] - 43s 32ms/step - loss: 0.6744 - accuracy: 0.8124 - val_loss: 1.3341 - val_accuracy: 0.6980 - lr: 2.0000e-04\n",
      "Epoch 24/500\n",
      "1329/1329 [==============================] - 42s 32ms/step - loss: 0.6365 - accuracy: 0.8246 - val_loss: 1.3536 - val_accuracy: 0.6974 - lr: 2.0000e-04\n",
      "Epoch 25/500\n",
      "1329/1329 [==============================] - 41s 31ms/step - loss: 0.6042 - accuracy: 0.8313 - val_loss: 1.4014 - val_accuracy: 0.6928 - lr: 2.0000e-04\n",
      "Epoch 26/500\n",
      "1329/1329 [==============================] - 41s 31ms/step - loss: 0.5826 - accuracy: 0.8367 - val_loss: 1.4014 - val_accuracy: 0.6930 - lr: 2.0000e-04\n",
      "Epoch 27/500\n",
      "1329/1329 [==============================] - 42s 31ms/step - loss: 0.5196 - accuracy: 0.8558 - val_loss: 1.3501 - val_accuracy: 0.7068 - lr: 4.0000e-05\n",
      "Epoch 28/500\n",
      "1329/1329 [==============================] - 40s 30ms/step - loss: 0.5055 - accuracy: 0.8587 - val_loss: 1.3599 - val_accuracy: 0.7084 - lr: 4.0000e-05\n",
      "Epoch 29/500\n",
      "1329/1329 [==============================] - 42s 31ms/step - loss: 0.4962 - accuracy: 0.8629 - val_loss: 1.3697 - val_accuracy: 0.7073 - lr: 4.0000e-05\n",
      "Epoch 30/500\n",
      "1329/1329 [==============================] - 42s 31ms/step - loss: 0.4929 - accuracy: 0.8627 - val_loss: 1.3747 - val_accuracy: 0.7066 - lr: 4.0000e-05\n",
      "Epoch 31/500\n",
      "1329/1329 [==============================] - 42s 31ms/step - loss: 0.4783 - accuracy: 0.8670 - val_loss: 1.3734 - val_accuracy: 0.7099 - lr: 8.0000e-06\n",
      "Epoch 32/500\n",
      "1329/1329 [==============================] - 40s 30ms/step - loss: 0.4757 - accuracy: 0.8681 - val_loss: 1.3690 - val_accuracy: 0.7095 - lr: 8.0000e-06\n",
      "Epoch 33/500\n",
      "1329/1329 [==============================] - 41s 31ms/step - loss: 0.4703 - accuracy: 0.8694 - val_loss: 1.3755 - val_accuracy: 0.7089 - lr: 8.0000e-06\n",
      "Epoch 34/500\n",
      "1329/1329 [==============================] - 41s 31ms/step - loss: 0.4675 - accuracy: 0.8699 - val_loss: 1.3787 - val_accuracy: 0.7096 - lr: 8.0000e-06\n",
      "Epoch 35/500\n",
      "1329/1329 [==============================] - 42s 31ms/step - loss: 0.4680 - accuracy: 0.8699 - val_loss: 1.3741 - val_accuracy: 0.7097 - lr: 1.6000e-06\n",
      "Epoch 36/500\n",
      "1329/1329 [==============================] - 42s 32ms/step - loss: 0.4682 - accuracy: 0.8704 - val_loss: 1.3762 - val_accuracy: 0.7107 - lr: 1.6000e-06\n",
      "Epoch 37/500\n",
      "1329/1329 [==============================] - 41s 30ms/step - loss: 0.4678 - accuracy: 0.8702 - val_loss: 1.3768 - val_accuracy: 0.7098 - lr: 1.6000e-06\n",
      "Epoch 38/500\n",
      "1329/1329 [==============================] - 42s 31ms/step - loss: 0.4660 - accuracy: 0.8701 - val_loss: 1.3791 - val_accuracy: 0.7104 - lr: 1.6000e-06\n",
      "Epoch 39/500\n",
      "1329/1329 [==============================] - 39s 29ms/step - loss: 0.4619 - accuracy: 0.8711 - val_loss: 1.3755 - val_accuracy: 0.7106 - lr: 3.2000e-07\n",
      "Epoch 40/500\n",
      "1329/1329 [==============================] - 41s 31ms/step - loss: 0.4632 - accuracy: 0.8710 - val_loss: 1.3750 - val_accuracy: 0.7105 - lr: 3.2000e-07\n",
      "Epoch 41/500\n",
      "1329/1329 [==============================] - 40s 30ms/step - loss: 0.4628 - accuracy: 0.8712 - val_loss: 1.3771 - val_accuracy: 0.7110 - lr: 3.2000e-07\n",
      "Epoch 42/500\n",
      "1329/1329 [==============================] - 42s 32ms/step - loss: 0.4667 - accuracy: 0.8700 - val_loss: 1.3782 - val_accuracy: 0.7096 - lr: 3.2000e-07\n",
      "Epoch 43/500\n",
      "1329/1329 [==============================] - 42s 32ms/step - loss: 0.4633 - accuracy: 0.8710 - val_loss: 1.3759 - val_accuracy: 0.7110 - lr: 6.4000e-08\n",
      "Epoch 44/500\n",
      "1329/1329 [==============================] - 42s 32ms/step - loss: 0.4658 - accuracy: 0.8712 - val_loss: 1.3802 - val_accuracy: 0.7103 - lr: 6.4000e-08\n",
      "Epoch 45/500\n",
      "1329/1329 [==============================] - 37s 28ms/step - loss: 0.4622 - accuracy: 0.8705 - val_loss: 1.3766 - val_accuracy: 0.7101 - lr: 6.4000e-08\n",
      "Epoch 46/500\n",
      "1329/1329 [==============================] - 41s 31ms/step - loss: 0.4644 - accuracy: 0.8700 - val_loss: 1.3744 - val_accuracy: 0.7104 - lr: 6.4000e-08\n",
      "Epoch 47/500\n",
      "1329/1329 [==============================] - 40s 30ms/step - loss: 0.4655 - accuracy: 0.8711 - val_loss: 1.3772 - val_accuracy: 0.7103 - lr: 1.2800e-08\n",
      "Epoch 48/500\n",
      "1329/1329 [==============================] - 40s 30ms/step - loss: 0.4598 - accuracy: 0.8729 - val_loss: 1.3746 - val_accuracy: 0.7108 - lr: 1.2800e-08\n",
      "Epoch 49/500\n",
      "1329/1329 [==============================] - 42s 32ms/step - loss: 0.4636 - accuracy: 0.8705 - val_loss: 1.3742 - val_accuracy: 0.7100 - lr: 1.2800e-08\n",
      "Epoch 50/500\n",
      "1329/1329 [==============================] - 41s 31ms/step - loss: 0.4655 - accuracy: 0.8702 - val_loss: 1.3762 - val_accuracy: 0.7103 - lr: 1.2800e-08\n",
      "Epoch 51/500\n",
      "1329/1329 [==============================] - 41s 31ms/step - loss: 0.4692 - accuracy: 0.8703 - val_loss: 1.3759 - val_accuracy: 0.7098 - lr: 2.5600e-09\n",
      "Epoch 52/500\n",
      "1329/1329 [==============================] - 41s 31ms/step - loss: 0.4663 - accuracy: 0.8692 - val_loss: 1.3768 - val_accuracy: 0.7105 - lr: 2.5600e-09\n",
      "Epoch 53/500\n",
      "1329/1329 [==============================] - 42s 32ms/step - loss: 0.4606 - accuracy: 0.8723 - val_loss: 1.3752 - val_accuracy: 0.7106 - lr: 2.5600e-09\n",
      "Epoch 54/500\n",
      "1329/1329 [==============================] - 39s 29ms/step - loss: 0.4634 - accuracy: 0.8717 - val_loss: 1.3751 - val_accuracy: 0.7100 - lr: 2.5600e-09\n",
      "Epoch 55/500\n",
      "1329/1329 [==============================] - 41s 31ms/step - loss: 0.4666 - accuracy: 0.8698 - val_loss: 1.3769 - val_accuracy: 0.7104 - lr: 5.1200e-10\n",
      "Epoch 56/500\n",
      "1329/1329 [==============================] - 42s 32ms/step - loss: 0.4636 - accuracy: 0.8711 - val_loss: 1.3773 - val_accuracy: 0.7098 - lr: 5.1200e-10\n",
      "Epoch 57/500\n",
      "1329/1329 [==============================] - 42s 32ms/step - loss: 0.4654 - accuracy: 0.8711 - val_loss: 1.3738 - val_accuracy: 0.7106 - lr: 5.1200e-10\n"
     ]
    },
    {
     "name": "stderr",
     "output_type": "stream",
     "text": [
      "/home/maxpow/miniconda3/envs/tf/lib/python3.9/site-packages/slack_sdk/web/internal_utils.py:450: UserWarning: client.files_upload() may cause some issues like timeouts for relatively large files. Our latest recommendation is to use client.files_upload_v2(), which is mostly compatible and much stabler, instead.\n",
      "  warnings.warn(message)\n"
     ]
    },
    {
     "data": {
      "image/png": "[encoded data removed]",
      "text/plain": [
       "<Figure size 1600x800 with 2 Axes>"
      ]
     },
     "metadata": {},
     "output_type": "display_data"
    },
    {
     "name": "stderr",
     "output_type": "stream",
     "text": [
      "WARNING:absl:Found untraced functions such as gru_cell_layer_call_fn, gru_cell_layer_call_and_return_conditional_losses, gru_cell_1_layer_call_fn, gru_cell_1_layer_call_and_return_conditional_losses while saving (showing 4 of 4). These functions will not be directly callable after loading.\n"
     ]
    },
    {
     "name": "stdout",
     "output_type": "stream",
     "text": [
      "INFO:tensorflow:Assets written to: ram://b4c8fa9c-cc03-4109-b986-88f783ffc708/assets\n"
     ]
    },
    {
     "name": "stderr",
     "output_type": "stream",
     "text": [
      "INFO:tensorflow:Assets written to: ram://b4c8fa9c-cc03-4109-b986-88f783ffc708/assets\n"
     ]
    },
    {
     "ename": "NameError",
     "evalue": "name 'X_val' is not defined",
     "output_type": "error",
     "traceback": [
      "\u001b[0;31m---------------------------------------------------------------------------\u001b[0m",
      "\u001b[0;31mNameError\u001b[0m                                 Traceback (most recent call last)",
      "Cell \u001b[0;32mIn [10], line 38\u001b[0m\n\u001b[1;32m     35\u001b[0m plt\u001b[38;5;241m.\u001b[39mlegend([\u001b[38;5;124m'\u001b[39m\u001b[38;5;124mtrain\u001b[39m\u001b[38;5;124m'\u001b[39m, \u001b[38;5;124m'\u001b[39m\u001b[38;5;124mtest\u001b[39m\u001b[38;5;124m'\u001b[39m], loc\u001b[38;5;241m=\u001b[39m\u001b[38;5;124m'\u001b[39m\u001b[38;5;124mupper left\u001b[39m\u001b[38;5;124m'\u001b[39m)\n\u001b[1;32m     37\u001b[0m fig\u001b[38;5;241m.\u001b[39msavefig(\u001b[38;5;124mf\u001b[39m\u001b[38;5;124m'\u001b[39m\u001b[38;5;132;01m{\u001b[39;00mMODEL_DIR\u001b[38;5;132;01m}\u001b[39;00m\u001b[38;5;124m/acc_loss-\u001b[39m\u001b[38;5;132;01m{\u001b[39;00mmodel_details\u001b[38;5;132;01m}\u001b[39;00m\u001b[38;5;124m.png\u001b[39m\u001b[38;5;124m'\u001b[39m)\n\u001b[0;32m---> 38\u001b[0m results \u001b[38;5;241m=\u001b[39m model\u001b[38;5;241m.\u001b[39mevaluate(\u001b[43mX_val\u001b[49m, y_val, batch_size\u001b[38;5;241m=\u001b[39mBATCH_SIZE)\n\u001b[1;32m     39\u001b[0m val_loss, val_acc \u001b[38;5;241m=\u001b[39m results\n\u001b[1;32m     40\u001b[0m \u001b[38;5;28mprint\u001b[39m(\u001b[38;5;124mf\u001b[39m\u001b[38;5;124m'\u001b[39m\u001b[38;5;132;01m{\u001b[39;00mval_loss\u001b[38;5;132;01m=}\u001b[39;00m\u001b[38;5;124m'\u001b[39m)\n",
      "\u001b[0;31mNameError\u001b[0m: name 'X_val' is not defined"
     ]
    },
    {
     "data": {
      "image/png": "[encoded data removed]",
      "text/plain": [
       "<Figure size 1600x1200 with 2 Axes>"
      ]
     },
     "metadata": {},
     "output_type": "display_data"
    }
   ],
   "source": [
    "# ## Experiment\n",
    "model_details += f'-{model.count_params()}_model_params_nearest_avg_std'\n",
    "model, history = run_experiment(\n",
    "    model=model,\n",
    "    train_data=(X_train,),\n",
    "    train_labels=y_train,\n",
    "    validation_data=None,\n",
    "    validation_split=0.1,\n",
    "    model_path=f'model_nearest_with_avg_std.h5',\n",
    "    batch_size=64,\n",
    "    epochs=500,\n",
    "    patience=PATIENCE,\n",
    ")\n",
    "\n",
    "joblib.dump(history, f'{MODEL_DIR}/history-{model_details}.gz')\n",
    "\n",
    "\n",
    "# Plot Results\n",
    "# summarize history for accuracy\n",
    "fig, (ax_acc, ax_loss) = plt.subplots(ncols=2, figsize=(16,12))\n",
    "\n",
    "ax_acc.plot(history.history['accuracy'])\n",
    "ax_acc.plot(history.history['val_accuracy'])\n",
    "plt.title('model accuracy')\n",
    "plt.ylabel('accuracy')\n",
    "plt.xlabel('epoch')\n",
    "plt.legend(['train', 'test'], loc='upper left')\n",
    "\n",
    "# summarize history for loss\n",
    "ax_loss.plot(history.history['loss'])\n",
    "ax_loss.plot(history.history['val_loss'])\n",
    "plt.title('model loss')\n",
    "plt.ylabel('loss')\n",
    "plt.xlabel('epoch')\n",
    "plt.legend(['train', 'test'], loc='upper left')\n",
    "\n",
    "fig.savefig(f'{MODEL_DIR}/acc_loss-{model_details}.png')\n",
    "results = model.evaluate(X_val, y_val, batch_size=BATCH_SIZE)\n",
    "val_loss, val_acc = results\n",
    "print(f'{val_loss=}')\n",
    "print(f'{val_acc*100:2.0f}_val_acc')"
   ]
  },
  {
   "cell_type": "code",
   "execution_count": 11,
   "id": "30f9f3ff-a6be-4566-bd0c-b7f6d1ce706e",
   "metadata": {},
   "outputs": [
    {
     "name": "stderr",
     "output_type": "stream",
     "text": [
      "WARNING:absl:Found untraced functions such as gru_cell_layer_call_fn, gru_cell_layer_call_and_return_conditional_losses, gru_cell_1_layer_call_fn, gru_cell_1_layer_call_and_return_conditional_losses while saving (showing 4 of 4). These functions will not be directly callable after loading.\n"
     ]
    },
    {
     "name": "stdout",
     "output_type": "stream",
     "text": [
      "INFO:tensorflow:Assets written to: model_tf/assets\n"
     ]
    },
    {
     "name": "stderr",
     "output_type": "stream",
     "text": [
      "INFO:tensorflow:Assets written to: model_tf/assets\n"
     ]
    }
   ],
   "source": [
    "model.save('model_tf',save_format='tf')\n",
    "loaded_model = tf.keras.models.load_model('./model_tf')\n"
   ]
  },
  {
   "cell_type": "markdown",
   "id": "7bd5dc1f-a32c-4544-9c38-980f5820bdb9",
   "metadata": {},
   "source": [
    "## Generate TFlite Model for Submission"
   ]
  },
  {
   "cell_type": "code",
   "execution_count": 12,
   "id": "c609cc6d-0d13-45e8-ad78-d8625371a091",
   "metadata": {
    "tags": []
   },
   "outputs": [
    {
     "name": "stdout",
     "output_type": "stream",
     "text": [
      "Model: \"model\"\n",
      "_________________________________________________________________\n",
      " Layer (type)                Output Shape              Param #   \n",
      "=================================================================\n",
      " input_1 (InputLayer)        [(None, 15, 172)]         0         \n",
      "                                                                 \n",
      " gru (GRU)                   (None, 15, 512)           1053696   \n",
      "                                                                 \n",
      " gru_1 (GRU)                 (None, 256)               591360    \n",
      "                                                                 \n",
      " dense (Dense)               (None, 786)               202002    \n",
      "                                                                 \n",
      " batch_normalization (BatchN  (None, 786)              3144      \n",
      " ormalization)                                                   \n",
      "                                                                 \n",
      " activation (Activation)     (None, 786)               0         \n",
      "                                                                 \n",
      " dropout (Dropout)           (None, 786)               0         \n",
      "                                                                 \n",
      " dense_1 (Dense)             (None, 393)               309291    \n",
      "                                                                 \n",
      " batch_normalization_1 (Batc  (None, 393)              1572      \n",
      " hNormalization)                                                 \n",
      "                                                                 \n",
      " activation_1 (Activation)   (None, 393)               0         \n",
      "                                                                 \n",
      " dropout_1 (Dropout)         (None, 393)               0         \n",
      "                                                                 \n",
      " dense_2 (Dense)             (None, 512)               201728    \n",
      "                                                                 \n",
      " dense_3 (Dense)             (None, 512)               262656    \n",
      "                                                                 \n",
      " batch_normalization_2 (Batc  (None, 512)              2048      \n",
      " hNormalization)                                                 \n",
      "                                                                 \n",
      " activation_2 (Activation)   (None, 512)               0         \n",
      "                                                                 \n",
      " dropout_2 (Dropout)         (None, 512)               0         \n",
      "                                                                 \n",
      " flatten (Flatten)           (None, 512)               0         \n",
      "                                                                 \n",
      " dense_4 (Dense)             (None, 250)               128250    \n",
      "                                                                 \n",
      "=================================================================\n",
      "Total params: 2,755,747\n",
      "Trainable params: 2,752,365\n",
      "Non-trainable params: 3,382\n",
      "_________________________________________________________________\n"
     ]
    }
   ],
   "source": [
    "# Load model weights\n",
    "model_weights_path = 'model_nearest_with_avg_std.h5'\n",
    "model.load_weights(model_weights_path)\n",
    "model.summary()"
   ]
  },
  {
   "cell_type": "code",
   "execution_count": 71,
   "id": "7cca06a9-34d9-4489-b939-25f6e9711f74",
   "metadata": {
    "tags": []
   },
   "outputs": [
    {
     "name": "stdout",
     "output_type": "stream",
     "text": [
      "tf.Tensor(\n",
      "[[[ 0.5098687   0.34322077  0.5044036  ...  0.39958185  0.38579622\n",
      "    0.4011007 ]\n",
      "  [ 0.5099857   0.34265283  0.5294322  ...  0.37769613  0.43907768\n",
      "    0.37987   ]\n",
      "  [ 0.5142179   0.34298542  0.5305949  ...  0.38334605  0.4382043\n",
      "    0.38134953]\n",
      "  ...\n",
      "  [ 0.54557896  0.34427667         nan ...         nan         nan\n",
      "           nan]\n",
      "  [ 0.54500914  0.34417295         nan ...         nan         nan\n",
      "           nan]\n",
      "  [ 0.5439946   0.3430536   0.39194506 ...  0.6437988  -0.03181136\n",
      "    0.62707704]]], shape=(1, 15, 172), dtype=float32)\n"
     ]
    }
   ],
   "source": [
    "class FeatureGen(tf.keras.layers.Layer):\n",
    "    def __init__(self):\n",
    "        super(FeatureGen, self).__init__()\n",
    "    \n",
    "    def call(self, x_in):\n",
    "        \"\"\"\n",
    "        Given x_in of shape (n, 543, 3), return a new x which uses 15 key_frames so the shape would be (1, 15, 543*2)\n",
    "        \"\"\"\n",
    "        def tf_nan_mean(x, axis=0):\n",
    "            return tf.math.reduce_mean(x, axis, keepdims=True)\n",
    "\n",
    "        def tf_nan_std(x, axis=0):\n",
    "            return tf.math.reduce_std(x, axis=axis, keepdims=True)  \n",
    "        \n",
    "        def convert_row(data):\n",
    "            START_FACE, END_FACE = (0, 468)\n",
    "            START_LHAND, END_LHAND = (468, 489)\n",
    "            START_POSE, END_POSE = (489, 522)\n",
    "            START_RHAND, END_RHAND = (522, 543)\n",
    "            LIPS_PTS = [61, 185, 40, 39, 37, 0, 267, 269, 270, 409, 291, 78, 191, 80, 81, 82, 13, 312, 311, 310, 415, 308, 95, 88, 178, 87, 14, 317, 402, 318, 324, 146, 91, 181, 84, 17, 314, 405, 321, 375]\n",
    "            LANDMARK_PTS = len(LIPS_PTS) + (END_LHAND - START_LHAND) + (END_RHAND - START_RHAND)\n",
    "            avg_sets = [(START_FACE, END_FACE),(START_POSE, END_POSE)]\n",
    "            \n",
    "            data = data[:,:,:N_DIMS]\n",
    "            x_list = [tf_nan_mean(data[:, avg_set[0]:avg_set[0]+avg_set[1],:],axis=1) for avg_set in avg_sets]\n",
    "            x_list += ([tf_nan_std(data[:, avg_set[0]:avg_set[0]+avg_set[1],:],axis=1) for avg_set in avg_sets])\n",
    "            x_list.append(tf.gather(data, LIPS_PTS, axis=1))\n",
    "            x_list.append(data[:,START_LHAND:END_LHAND,:])\n",
    "            x_list.append(data[:,START_RHAND:END_RHAND,:])\n",
    "            x = tf.concat(x_list, 1)\n",
    "            \n",
    "            # x = tf.where(tf.math.is_nan(x), tf.zeros_like(x), x)\n",
    "            \n",
    "            ## Frame Aggregation\n",
    "            x = tf.image.resize(\n",
    "                x, # tf.where(tf.math.is_finite(x), x, tf_nan_mean(x, axis=0)),\n",
    "                size=(MAX_FRAMES, LANDMARK_PTS + len(avg_sets)*2),\n",
    "                method='nearest', #DEFAULT\n",
    "            )\n",
    "            # (MAX_FRAMES, num_landmark_pts + avg_set*2, 2)\n",
    "            x = tf.reshape(x, (MAX_FRAMES, x.shape[1] * x.shape[2]))\n",
    "            return x\n",
    "        \n",
    "        data_key_frames = convert_row( x_in)\n",
    "        data_key_frames = tf.expand_dims(data_key_frames, axis=0)\n",
    "        return data_key_frames\n",
    "\n",
    "print(FeatureGen()(load_relevant_data_subset(f'{CFG.data_path}{train.iloc[0].path}')))"
   ]
  },
  {
   "cell_type": "code",
   "execution_count": 72,
   "id": "d46e7b94-f3be-418e-abd4-02a00b1545dc",
   "metadata": {
    "tags": []
   },
   "outputs": [],
   "source": [
    "class TFLiteModel(tf.Module):\n",
    "    \"\"\"\n",
    "    TensorFlow Lite model that takes input tensors and applies:\n",
    "        – a preprocessing model\n",
    "        – the ASL model \n",
    "    \"\"\"\n",
    "\n",
    "    def __init__(self, asl_model):\n",
    "        \"\"\"\n",
    "        Initializes the TFLiteModel with the specified feature generation model and main model.\n",
    "        \"\"\"\n",
    "        super(TFLiteModel, self).__init__()\n",
    "\n",
    "        # Load the feature generation and main models\n",
    "        self.prep_inputs = FeatureGen()\n",
    "        self.asl_model   = asl_model\n",
    "    \n",
    "    @tf.function(input_signature=[tf.TensorSpec(shape=[None, 543, 3], dtype=tf.float32, name='inputs')])\n",
    "    def __call__(self, inputs):\n",
    "        \"\"\"\n",
    "        Applies the feature generation model and main model to the input tensors.\n",
    "\n",
    "        Args:\n",
    "            inputs: Input tensor with shape [num_frames, 543, 3].\n",
    "\n",
    "        Returns:\n",
    "            A dictionary with a single key 'outputs' and corresponding output tensor.\n",
    "        \"\"\"\n",
    "        \n",
    "        x = self.prep_inputs(tf.cast(inputs, dtype=tf.float32))\n",
    "        outputs = self.asl_model(x)\n",
    "\n",
    "        # Return a dictionary with the output tensor\n",
    "        return {'outputs': outputs}\n",
    "model_path = \"model.tflite\""
   ]
  },
  {
   "cell_type": "code",
   "execution_count": 73,
   "id": "889062c0-2cda-4aff-a310-1427b4bd0119",
   "metadata": {
    "tags": []
   },
   "outputs": [
    {
     "name": "stdout",
     "output_type": "stream",
     "text": [
      "TV\n",
      "blow\n"
     ]
    }
   ],
   "source": [
    "tflite_keras_model = TFLiteModel(asl_model=model)\n",
    "prediction = tflite_keras_model(load_relevant_data_subset(f'{CFG.data_path}{train.iloc[0].path}'))[\"outputs\"]\n",
    "\n",
    "print(index_label[tf.argmax(prediction, axis=1).numpy()[0]])\n",
    "print(f'{train.iloc[0].sign}')"
   ]
  },
  {
   "cell_type": "code",
   "execution_count": 63,
   "id": "b4f83dba-14c5-425d-8e56-6c05b391502d",
   "metadata": {
    "tags": []
   },
   "outputs": [
    {
     "name": "stderr",
     "output_type": "stream",
     "text": [
      "WARNING:absl:Found untraced functions such as feature_gen_18_layer_call_fn, feature_gen_18_layer_call_and_return_conditional_losses, gru_cell_12_layer_call_fn, gru_cell_12_layer_call_and_return_conditional_losses, gru_cell_13_layer_call_fn while saving (showing 5 of 6). These functions will not be directly callable after loading.\n"
     ]
    },
    {
     "name": "stdout",
     "output_type": "stream",
     "text": [
      "INFO:tensorflow:Assets written to: /tmp/tmpvct3gylu/assets\n"
     ]
    },
    {
     "name": "stderr",
     "output_type": "stream",
     "text": [
      "INFO:tensorflow:Assets written to: /tmp/tmpvct3gylu/assets\n",
      "2023-03-12 20:01:03.905709: W tensorflow/compiler/mlir/lite/python/tf_tfl_flatbuffer_helpers.cc:362] Ignored output_format.\n",
      "2023-03-12 20:01:03.905730: W tensorflow/compiler/mlir/lite/python/tf_tfl_flatbuffer_helpers.cc:365] Ignored drop_control_dependency.\n",
      "2023-03-12 20:01:03.906165: I tensorflow/cc/saved_model/reader.cc:45] Reading SavedModel from: /tmp/tmpvct3gylu\n",
      "2023-03-12 20:01:03.916919: I tensorflow/cc/saved_model/reader.cc:89] Reading meta graph with tags { serve }\n",
      "2023-03-12 20:01:03.916938: I tensorflow/cc/saved_model/reader.cc:130] Reading SavedModel debug info (if present) from: /tmp/tmpvct3gylu\n",
      "2023-03-12 20:01:03.951623: I tensorflow/compiler/mlir/mlir_graph_optimization_pass.cc:354] MLIR V1 optimization pass is not enabled\n",
      "2023-03-12 20:01:03.973791: I tensorflow/cc/saved_model/loader.cc:229] Restoring SavedModel bundle.\n",
      "2023-03-12 20:01:04.101217: I tensorflow/cc/saved_model/loader.cc:213] Running initialization op on SavedModel bundle at path: /tmp/tmpvct3gylu\n",
      "2023-03-12 20:01:04.163749: I tensorflow/cc/saved_model/loader.cc:305] SavedModel load for tags { serve }; Status: success: OK. Took 257584 microseconds.\n",
      "2023-03-12 20:01:04.484904: I tensorflow/compiler/mlir/tensorflow/utils/dump_mlir_util.cc:268] disabling MLIR crash reproducer, set env var `MLIR_CRASH_REPRODUCER_DIRECTORY` to enable.\n",
      "2023-03-12 20:01:04.889956: I tensorflow/compiler/mlir/lite/flatbuffer_export.cc:1989] Estimated count of arithmetic ops: 5.661 M  ops, equivalently 2.830 M  MACs\n",
      "\n"
     ]
    }
   ],
   "source": [
    "keras_model_converter = tf.lite.TFLiteConverter.from_keras_model(tflite_keras_model)\n",
    "tflite_model = keras_model_converter.convert()\n",
    "\n",
    "# Save the model.\n",
    "with open(model_path, 'wb') as f:\n",
    "    f.write(tflite_model)"
   ]
  },
  {
   "cell_type": "code",
   "execution_count": 74,
   "id": "14f83562-b64e-4a3c-8b4f-71e56d506932",
   "metadata": {
    "tags": []
   },
   "outputs": [
    {
     "name": "stdout",
     "output_type": "stream",
     "text": [
      "Predicted label: blow, Actual Label: blow\n",
      "Predicted label: wait, Actual Label: wait\n",
      "Predicted label: zebra, Actual Label: cloud\n",
      "Predicted label: bird, Actual Label: bird\n",
      "Predicted label: owie, Actual Label: owie\n",
      "Predicted label: duck, Actual Label: duck\n",
      "Predicted label: minemy, Actual Label: minemy\n",
      "Predicted label: brother, Actual Label: lips\n",
      "Predicted label: flower, Actual Label: flower\n",
      "Predicted label: cowboy, Actual Label: time\n",
      "Predicted label: beside, Actual Label: vacuum\n",
      "Predicted label: better, Actual Label: apple\n",
      "Predicted label: brother, Actual Label: puzzle\n",
      "Predicted label: mitten, Actual Label: mitten\n",
      "Predicted label: finger, Actual Label: there\n",
      "Predicted label: dry, Actual Label: dry\n",
      "Predicted label: happy, Actual Label: shirt\n",
      "Predicted label: owl, Actual Label: owl\n",
      "Predicted label: yellow, Actual Label: yellow\n",
      "Predicted label: shower, Actual Label: time\n",
      "Predicted label: wake, Actual Label: not\n",
      "Predicted label: brother, Actual Label: zipper\n",
      "Predicted label: dirty, Actual Label: clean\n",
      "Predicted label: closet, Actual Label: closet\n",
      "Predicted label: fine, Actual Label: quiet\n",
      "Predicted label: have, Actual Label: have\n",
      "Predicted label: brother, Actual Label: brother\n",
      "Predicted label: clown, Actual Label: clown\n",
      "Predicted label: tiger, Actual Label: cheek\n",
      "Predicted label: cute, Actual Label: cute\n",
      "Predicted label: night, Actual Label: store\n",
      "Predicted label: cow, Actual Label: shoe\n",
      "Predicted label: wet, Actual Label: wet\n",
      "Predicted label: shirt, Actual Label: shirt\n",
      "Predicted label: see, Actual Label: see\n",
      "Predicted label: taste, Actual Label: empty\n",
      "Predicted label: ride, Actual Label: fall\n",
      "Predicted label: underwear, Actual Label: balloon\n",
      "Predicted label: frenchfries, Actual Label: frenchfries\n",
      "Predicted label: finger, Actual Label: finger\n",
      "Predicted label: any, Actual Label: same\n",
      "Predicted label: fast, Actual Label: cry\n",
      "Predicted label: vacuum, Actual Label: hungry\n",
      "Predicted label: find, Actual Label: owl\n",
      "Predicted label: orange, Actual Label: orange\n",
      "Predicted label: cloud, Actual Label: cloud\n",
      "Predicted label: milk, Actual Label: milk\n",
      "Predicted label: many, Actual Label: go\n",
      "Predicted label: store, Actual Label: store\n",
      "Predicted label: fast, Actual Label: drawer\n",
      "Predicted label: TV, Actual Label: TV\n",
      "Predicted label: dry, Actual Label: dry\n",
      "Predicted label: duck, Actual Label: duck\n",
      "Predicted label: drink, Actual Label: blow\n",
      "Predicted label: arm, Actual Label: another\n",
      "Predicted label: giraffe, Actual Label: giraffe\n",
      "Predicted label: wake, Actual Label: wake\n",
      "Predicted label: bee, Actual Label: bee\n",
      "Predicted label: bed, Actual Label: bad\n",
      "Predicted label: same, Actual Label: can\n",
      "Predicted label: flower, Actual Label: flower\n",
      "Predicted label: tooth, Actual Label: say\n",
      "Predicted label: callonphone, Actual Label: callonphone\n",
      "Predicted label: alligator, Actual Label: finish\n",
      "Predicted label: bee, Actual Label: bee\n",
      "Predicted label: old, Actual Label: old\n",
      "Predicted label: backyard, Actual Label: backyard\n",
      "Predicted label: sick, Actual Label: sick\n",
      "Predicted label: look, Actual Label: look\n",
      "Predicted label: sticky, Actual Label: that\n",
      "Predicted label: goose, Actual Label: black\n",
      "Predicted label: first, Actual Label: yourself\n",
      "Predicted label: open, Actual Label: open\n",
      "Predicted label: alligator, Actual Label: alligator\n",
      "Predicted label: wet, Actual Label: wet\n",
      "Predicted label: closet, Actual Label: closet\n",
      "Predicted label: moon, Actual Label: moon\n",
      "Predicted label: drink, Actual Label: find\n",
      "Predicted label: where, Actual Label: pizza\n",
      "Predicted label: shhh, Actual Label: shhh\n",
      "Predicted label: fast, Actual Label: fast\n",
      "Predicted label: can, Actual Label: jacket\n",
      "Predicted label: scissors, Actual Label: scissors\n",
      "Predicted label: now, Actual Label: now\n",
      "Predicted label: TV, Actual Label: TV\n",
      "Predicted label: wake, Actual Label: wake\n",
      "Predicted label: man, Actual Label: man\n",
      "Predicted label: hate, Actual Label: sticky\n",
      "Predicted label: clean, Actual Label: jump\n",
      "Predicted label: sleep, Actual Label: sleep\n",
      "Predicted label: sun, Actual Label: sun\n",
      "Predicted label: first, Actual Label: first\n",
      "Predicted label: yellow, Actual Label: yellow\n",
      "Predicted label: brother, Actual Label: brother\n",
      "Predicted label: grass, Actual Label: grass\n",
      "Predicted label: jump, Actual Label: uncle\n",
      "Predicted label: flag, Actual Label: fish\n",
      "Predicted label: bed, Actual Label: scissors\n",
      "Predicted label: cowboy, Actual Label: cowboy\n",
      "Predicted label: find, Actual Label: snow\n"
     ]
    }
   ],
   "source": [
    "import tflite_runtime.interpreter as tflite\n",
    "interpreter = tflite.Interpreter(model_path)\n",
    "found_signatures = list(interpreter.get_signature_list().keys())\n",
    "prediction_fn = interpreter.get_signature_runner(\"serving_default\")\n",
    "for i in range(100):\n",
    "    # frames = load_relevant_data_subset(f'/kaggle/input/asl-signs/{train.iloc[i].path}')\n",
    "    frames = load_relevant_data_subset(f'{CFG.data_path}{train.iloc[i].path}')\n",
    "    output = prediction_fn(inputs=frames)\n",
    "    sign = np.argmax(output[\"outputs\"])\n",
    "    print(f\"Predicted label: {index_label[sign]}, Actual Label: {train.iloc[i].sign}\")"
   ]
  },
  {
   "cell_type": "code",
   "execution_count": 75,
   "id": "2d6d2535-b9d9-4875-aa34-e7bbd9c45707",
   "metadata": {
    "tags": []
   },
   "outputs": [],
   "source": [
    "def genAccuracy(df):\n",
    "    num_samples = df.shape[0]\n",
    "    num_correct = 0\n",
    "    for i in tqdm(range(num_samples)):    \n",
    "        prediction = prediction_fn(inputs=load_relevant_data_subset(f'{CFG.data_path}{df.iloc[i].path}'))\n",
    "        label_pred = np.argmax(prediction[\"outputs\"])\n",
    "        label_actual = df.iloc[i].label\n",
    "        num_correct += int(label_pred == label_actual)\n",
    "    return num_correct / num_samples\n"
   ]
  },
  {
   "cell_type": "code",
   "execution_count": null,
   "id": "3a6c5250-77c9-4318-b5b7-7582d386fbe2",
   "metadata": {
    "tags": []
   },
   "outputs": [],
   "source": [
    "# Validation accuracy \n",
    "df_train, df_validation = train_test_split(train, test_size=0.1, random_state=27)\n",
    "print(df_train.shape)\n",
    "print(df_validation.shape)"
   ]
  },
  {
   "cell_type": "code",
   "execution_count": 77,
   "id": "fc5bf100-4f92-479c-94fb-b164fa9fcce3",
   "metadata": {
    "tags": []
   },
   "outputs": [
    {
     "name": "stderr",
     "output_type": "stream",
     "text": [
      "100%|███████████████████████████████████████| 100/100 [00:05<00:00, 19.81it/s]"
     ]
    },
    {
     "name": "stdout",
     "output_type": "stream",
     "text": [
      "0.6\n"
     ]
    },
    {
     "name": "stderr",
     "output_type": "stream",
     "text": [
      "\n"
     ]
    }
   ],
   "source": [
    "val_acc = genAccuracy(train.sample(100))\n",
    "print(val_acc)"
   ]
  },
  {
   "cell_type": "code",
   "execution_count": null,
   "id": "2fbf011f-21a0-42e5-a934-82218a2574e0",
   "metadata": {},
   "outputs": [],
   "source": []
  },
  {
   "cell_type": "code",
   "execution_count": null,
   "id": "f1074e3e-f183-4e9d-bc73-debbda831285",
   "metadata": {},
   "outputs": [],
   "source": [
    "with open('/kaggle/working/models/model.tflite', 'wb') as f:\n",
    "    f.write(tflite_model)\n",
    "!zip submission.zip /kaggle/working/models/model.tflite"
   ]
  }
 ],
 "metadata": {
  "kernelspec": {
   "display_name": "Python 3 (ipykernel)",
   "language": "python",
   "name": "python3"
  },
  "language_info": {
   "codemirror_mode": {
    "name": "ipython",
    "version": 3
   },
   "file_extension": ".py",
   "mimetype": "text/x-python",
   "name": "python",
   "nbconvert_exporter": "python",
   "pygments_lexer": "ipython3",
   "version": "3.9.15"
  }
 },
 "nbformat": 4,
 "nbformat_minor": 5
}
