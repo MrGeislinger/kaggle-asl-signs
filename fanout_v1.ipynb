{
 "cells": [
  {
   "cell_type": "markdown",
   "id": "e4c8a3c0",
   "metadata": {},
   "source": [
    "Baseline_TF\n",
    "https://www.kaggle.com/code/ivaneleskin/baseline-tf"
   ]
  },
  {
   "cell_type": "code",
   "execution_count": 1,
   "id": "0d4d7e4e-fd2b-4aad-b4b4-175d5168c7e8",
   "metadata": {},
   "outputs": [],
   "source": [
    "%load_ext tensorboard"
   ]
  },
  {
   "cell_type": "code",
   "execution_count": 2,
   "id": "743607ba",
   "metadata": {
    "ExecuteTime": {
     "end_time": "2023-03-05T19:53:50.745887Z",
     "start_time": "2023-03-05T19:53:48.345036Z"
    }
   },
   "outputs": [
    {
     "name": "stderr",
     "output_type": "stream",
     "text": [
      "2023-03-07 00:02:20.529335: I tensorflow/core/platform/cpu_feature_guard.cc:193] This TensorFlow binary is optimized with oneAPI Deep Neural Network Library (oneDNN) to use the following CPU instructions in performance-critical operations:  AVX2 FMA\n",
      "To enable them in other operations, rebuild TensorFlow with the appropriate compiler flags.\n",
      "2023-03-07 00:02:20.647868: E tensorflow/stream_executor/cuda/cuda_blas.cc:2981] Unable to register cuBLAS factory: Attempting to register factory for plugin cuBLAS when one has already been registered\n",
      "2023-03-07 00:02:21.041900: W tensorflow/stream_executor/platform/default/dso_loader.cc:64] Could not load dynamic library 'libnvinfer.so.7'; dlerror: libnvinfer.so.7: cannot open shared object file: No such file or directory; LD_LIBRARY_PATH: :/home/maxpow/miniconda3/envs/tf/lib/:/home/maxpow/miniconda3/envs/tf/lib/\n",
      "2023-03-07 00:02:21.041963: W tensorflow/stream_executor/platform/default/dso_loader.cc:64] Could not load dynamic library 'libnvinfer_plugin.so.7'; dlerror: libnvinfer_plugin.so.7: cannot open shared object file: No such file or directory; LD_LIBRARY_PATH: :/home/maxpow/miniconda3/envs/tf/lib/:/home/maxpow/miniconda3/envs/tf/lib/\n",
      "2023-03-07 00:02:21.041969: W tensorflow/compiler/tf2tensorrt/utils/py_utils.cc:38] TF-TRT Warning: Cannot dlopen some TensorRT libraries. If you would like to use Nvidia GPU with TensorRT, please make sure the missing libraries mentioned above are installed properly.\n"
     ]
    }
   ],
   "source": [
    "import os\n",
    "import json\n",
    "import numpy as np\n",
    "import pandas as pd\n",
    "from tqdm import tqdm\n",
    "import tensorflow as tf\n",
    "from tqdm import tqdm\n",
    "import json\n",
    "import gc\n",
    "from sklearn.model_selection import train_test_split\n",
    "# import missingno as msno\n",
    "import multiprocessing as mp\n",
    "\n",
    "from pathlib import Path\n",
    "import datetime"
   ]
  },
  {
   "cell_type": "code",
   "execution_count": 3,
   "id": "3ee4aeb4",
   "metadata": {
    "ExecuteTime": {
     "end_time": "2023-03-05T19:53:50.835545Z",
     "start_time": "2023-03-05T19:53:50.747575Z"
    }
   },
   "outputs": [
    {
     "name": "stdout",
     "output_type": "stream",
     "text": [
      "train.shape = 94477 rows, 4 cols\n",
      "<class 'pandas.core.frame.DataFrame'>\n",
      "RangeIndex: 94477 entries, 0 to 94476\n",
      "Data columns (total 4 columns):\n",
      " #   Column          Non-Null Count  Dtype \n",
      "---  ------          --------------  ----- \n",
      " 0   path            94477 non-null  object\n",
      " 1   participant_id  94477 non-null  int64 \n",
      " 2   sequence_id     94477 non-null  int64 \n",
      " 3   sign            94477 non-null  object\n",
      "dtypes: int64(2), object(2)\n",
      "memory usage: 2.9+ MB\n"
     ]
    },
    {
     "data": {
      "text/html": [
       "<div>\n",
       "<style scoped>\n",
       "    .dataframe tbody tr th:only-of-type {\n",
       "        vertical-align: middle;\n",
       "    }\n",
       "\n",
       "    .dataframe tbody tr th {\n",
       "        vertical-align: top;\n",
       "    }\n",
       "\n",
       "    .dataframe thead th {\n",
       "        text-align: right;\n",
       "    }\n",
       "</style>\n",
       "<table border=\"1\" class=\"dataframe\">\n",
       "  <thead>\n",
       "    <tr style=\"text-align: right;\">\n",
       "      <th></th>\n",
       "      <th>path</th>\n",
       "      <th>participant_id</th>\n",
       "      <th>sequence_id</th>\n",
       "      <th>sign</th>\n",
       "    </tr>\n",
       "  </thead>\n",
       "  <tbody>\n",
       "    <tr>\n",
       "      <th>0</th>\n",
       "      <td>train_landmark_files/26734/1000035562.parquet</td>\n",
       "      <td>26734</td>\n",
       "      <td>1000035562</td>\n",
       "      <td>blow</td>\n",
       "    </tr>\n",
       "    <tr>\n",
       "      <th>1</th>\n",
       "      <td>train_landmark_files/28656/1000106739.parquet</td>\n",
       "      <td>28656</td>\n",
       "      <td>1000106739</td>\n",
       "      <td>wait</td>\n",
       "    </tr>\n",
       "    <tr>\n",
       "      <th>2</th>\n",
       "      <td>train_landmark_files/16069/100015657.parquet</td>\n",
       "      <td>16069</td>\n",
       "      <td>100015657</td>\n",
       "      <td>cloud</td>\n",
       "    </tr>\n",
       "    <tr>\n",
       "      <th>3</th>\n",
       "      <td>train_landmark_files/25571/1000210073.parquet</td>\n",
       "      <td>25571</td>\n",
       "      <td>1000210073</td>\n",
       "      <td>bird</td>\n",
       "    </tr>\n",
       "    <tr>\n",
       "      <th>4</th>\n",
       "      <td>train_landmark_files/62590/1000240708.parquet</td>\n",
       "      <td>62590</td>\n",
       "      <td>1000240708</td>\n",
       "      <td>owie</td>\n",
       "    </tr>\n",
       "  </tbody>\n",
       "</table>\n",
       "</div>"
      ],
      "text/plain": [
       "                                            path  participant_id  sequence_id  \\\n",
       "0  train_landmark_files/26734/1000035562.parquet           26734   1000035562   \n",
       "1  train_landmark_files/28656/1000106739.parquet           28656   1000106739   \n",
       "2   train_landmark_files/16069/100015657.parquet           16069    100015657   \n",
       "3  train_landmark_files/25571/1000210073.parquet           25571   1000210073   \n",
       "4  train_landmark_files/62590/1000240708.parquet           62590   1000240708   \n",
       "\n",
       "    sign  \n",
       "0   blow  \n",
       "1   wait  \n",
       "2  cloud  \n",
       "3   bird  \n",
       "4   owie  "
      ]
     },
     "execution_count": 3,
     "metadata": {},
     "output_type": "execute_result"
    }
   ],
   "source": [
    "DATA_ROOT = Path('data')\n",
    "DF_TRAIN = DATA_ROOT / 'train.csv'\n",
    "train = pd.read_csv(DF_TRAIN)\n",
    "\n",
    "print(\"train.shape = {} rows, {} cols\".format(*train.shape))\n",
    "train.info()\n",
    "train.head()\n"
   ]
  },
  {
   "cell_type": "code",
   "execution_count": 4,
   "id": "11726f4f",
   "metadata": {
    "ExecuteTime": {
     "end_time": "2023-03-05T19:53:51.654266Z",
     "start_time": "2023-03-05T19:53:51.648285Z"
    }
   },
   "outputs": [],
   "source": [
    "class CFG:\n",
    "    data_path = \"data/\"\n",
    "    quick_experiment = False\n",
    "    is_training = True\n",
    "    use_aggregation_dataset = True\n",
    "    num_classes = 250\n",
    "    rows_per_frame = 543 \n",
    "\n",
    "def load_relevant_data_subset_with_imputation(pq_path):\n",
    "    data_columns = ['x', 'y', 'z']\n",
    "    data = pd.read_parquet(pq_path, columns=data_columns)\n",
    "    data.replace(np.nan, 0, inplace=True)\n",
    "    n_frames = int(len(data) / CFG.rows_per_frame)\n",
    "    data = data.values.reshape(n_frames, CFG.rows_per_frame, len(data_columns))\n",
    "    return data.astype(np.float32)\n",
    "\n",
    "def load_relevant_data_subset(pq_path):\n",
    "    data_columns = ['x', 'y', 'z']\n",
    "    data = pd.read_parquet(pq_path, columns=data_columns)\n",
    "    n_frames = int(len(data) / CFG.rows_per_frame)\n",
    "    data = data.values.reshape(n_frames, CFG.rows_per_frame, len(data_columns))\n",
    "    return data.astype(np.float32)\n",
    "\n",
    "def read_dict(file_path):\n",
    "    path = os.path.expanduser(file_path)\n",
    "    with open(path, \"r\") as f:\n",
    "        dic = json.load(f)\n",
    "    return dic"
   ]
  },
  {
   "cell_type": "code",
   "execution_count": 39,
   "id": "150fc1bc",
   "metadata": {
    "ExecuteTime": {
     "end_time": "2023-02-28T05:14:13.609475Z",
     "start_time": "2023-02-28T05:14:13.515016Z"
    }
   },
   "outputs": [],
   "source": [
    "train = pd.read_csv(f\"{CFG.data_path}train.csv\")\n",
    "label_index = read_dict(f\"{CFG.data_path}sign_to_prediction_index_map.json\")\n",
    "index_label = {label_index[key]: key for key in label_index}\n",
    "train[\"label\"] = train[\"sign\"].map(lambda sign: label_index[sign])\n",
    "\n"
   ]
  },
  {
   "cell_type": "code",
   "execution_count": 40,
   "id": "91cb0b37-bbcd-44b1-9dc2-ca3f92615340",
   "metadata": {},
   "outputs": [],
   "source": [
    "features_filename = 'feature_data_keyframes_only_hands.npy'\n",
    "labels_filename = 'label_data_keyframes_only_hands.npy'"
   ]
  },
  {
   "cell_type": "code",
   "execution_count": null,
   "id": "fda181c9",
   "metadata": {
    "ExecuteTime": {
     "end_time": "2023-03-05T20:01:41.987102Z",
     "start_time": "2023-03-05T20:01:15.330743Z"
    }
   },
   "outputs": [
    {
     "name": "stderr",
     "output_type": "stream",
     "text": [
      " 62%|██████████████████████████████████████████████████████████████████████████████████████████▋                                                        | 58251/94477 [20:22<14:15, 42.37it/s]"
     ]
    }
   ],
   "source": [
    "%%time\n",
    "import multiprocessing as mp\n",
    "\n",
    "def first_and_2_disparate_key_frame(data):\n",
    "    # Initialize variables to store the maximum distance and the corresponding points\n",
    "    max_distance = 0\n",
    "    frame0 = 0\n",
    "    frame1 = 0\n",
    "    frame2 = 0\n",
    "    point1 = None\n",
    "    point2 = None\n",
    "\n",
    "    where_are_NaNs = np.isnan(data)\n",
    "    data[where_are_NaNs] = 0\n",
    "\n",
    "    # Loop over all pairs of points in the array\n",
    "    # and Compute the Euclidean distance between the current pair of points\n",
    "    for i in range(1,data.shape[0]):\n",
    "        for j in range(i+1, data.shape[0]):\n",
    "            # Check if both points have all zeros for their coordinates\n",
    "            if np.all(data[i] == 0) or np.all(data[j] == 0):\n",
    "                print(\"Skipping zero-frame\")\n",
    "                continue\n",
    "\n",
    "            distance = np.linalg.norm(data[j,:,:2] - data[i,:,:2])\n",
    "            # If the distance is larger than the current maximum, update the maximum and the corresponding points\n",
    "            if distance > max_distance:\n",
    "                max_distance = distance\n",
    "                point1 = data[i]\n",
    "                point2 = data[j]\n",
    "                frame1 = i\n",
    "                frame2 = j\n",
    "\n",
    "    data_new = np.zeros((3,543,3))\n",
    "    data_new[0] = data[frame0,:,:]\n",
    "    data_new[1] = data[frame1,:,:]\n",
    "    data_new[2] = data[frame2,:,:]\n",
    "    return data_new\n",
    "\n",
    "def convert_row(row):\n",
    "    _, row = row\n",
    "    x = load_relevant_data_subset(f\"{CFG.data_path}{row.path}\")\n",
    "    x = first_and_2_disparate_key_frame(x)\n",
    "\n",
    "    # Feature Converter code - START    \n",
    "    FRAMES = 3\n",
    "    # Drop Z coordinate so we multiply by 2\n",
    "    # face_x = x[:,:468,:2].reshape(-1, FRAMES*468*2) # Flatten array \n",
    "    lefth_x = x[:,468:489,:2].reshape(-1, FRAMES*21*2)\n",
    "    # pose_x = x[:,489:522,:2].reshape(-1, FRAMES*33*2)\n",
    "    righth_x = x[:,522:,:2].reshape(-1, FRAMES*21*2)\n",
    "\n",
    "    # Concatenate features\n",
    "    xs = []\n",
    "    # xs.append(face_x)\n",
    "    xs.append(lefth_x)\n",
    "    # xs.append(pose_x)\n",
    "    xs.append(righth_x)\n",
    "    \n",
    "    xfeat = np.zeros(sum(x.shape[1] for x in xs))\n",
    "    start_index = 0\n",
    "    for x in xs:\n",
    "        xfeat[start_index:start_index+x.shape[1]] = x\n",
    "        start_index += x.shape[1]\n",
    "    # Feature Converter code - END\n",
    "\n",
    "    return xfeat, row.label\n",
    "\n",
    "def convert_and_save_data():\n",
    "    df = train\n",
    "    df = pd.read_csv(f\"{CFG.data_path}train.csv\")\n",
    "    \n",
    "    label_index = read_dict(f\"{CFG.data_path}sign_to_prediction_index_map.json\")\n",
    "    index_label = {label_index[key]: key for key in label_index}\n",
    "    df[\"label\"] = df[\"sign\"].map(lambda sign: label_index[sign])    \n",
    "    \n",
    "    # npdata = np.zeros((df.shape[0], 543 * 2 * 3))\n",
    "    npdata = np.zeros((df.shape[0], 42 * 2 * 3))    \n",
    "    nplabels = np.zeros(df.shape[0])\n",
    "\n",
    "    # for row in tqdm(df.iterrows(), total = df.shape[0]):\n",
    "    #     i = row[0]\n",
    "    #     x, y = convert_row(row)\n",
    "    #     npdata[i,:] = x\n",
    "    #     nplabels[i] = y\n",
    "\n",
    "    \n",
    "    with mp.Pool(processes=4) as pool:\n",
    "        results = pool.imap_unordered(convert_row, df.iterrows(), chunksize=250)\n",
    "        for i, (x,y) in tqdm(enumerate(results), total=df.shape[0]):\n",
    "            npdata[i,:] = x\n",
    "            nplabels[i] = y\n",
    "            \n",
    "    np.save(features_filename, npdata)\n",
    "    np.save(labels_filename, nplabels)\n",
    "    \n",
    "convert_and_save_data()"
   ]
  },
  {
   "cell_type": "code",
   "execution_count": 25,
   "id": "96ea359b-d0c5-448b-bd26-2684cb38cfc1",
   "metadata": {},
   "outputs": [],
   "source": [
    "# X = np.load(features_filename)\n",
    "# y = np.load(labels_filename)\n",
    "\n",
    "# X = X[:5000]\n",
    "# y = y[:5000]\n",
    "# print(X.shape, y.shape)"
   ]
  },
  {
   "cell_type": "code",
   "execution_count": 67,
   "id": "1f5a7d7d-63ec-4a20-8dc6-c5eb64637d76",
   "metadata": {},
   "outputs": [
    {
     "name": "stdout",
     "output_type": "stream",
     "text": [
      "(94477, 252) (94477,)\n"
     ]
    }
   ],
   "source": [
    "X = np.load(features_filename)\n",
    "y = np.load(labels_filename)\n",
    "\n",
    "## Save number of frames of each training sample for data analysis\n",
    "# train[\"num_frames\"] = num_frames\n",
    "# print(train[\"num_frames\"].describe())\n",
    "# train.to_csv(\"train.csv\", index=False)\n",
    "\n",
    "print(X.shape, y.shape)"
   ]
  },
  {
   "cell_type": "code",
   "execution_count": null,
   "id": "54421556",
   "metadata": {
    "ExecuteTime": {
     "end_time": "2023-02-28T05:14:14.890697Z",
     "start_time": "2023-02-28T05:14:13.741748Z"
    },
    "scrolled": true
   },
   "outputs": [],
   "source": [
    "from keras.utils import plot_model\n",
    "\n",
    "model = tf.keras.Sequential([\n",
    "    tf.keras.layers.Dense(512,input_shape=X[0].shape),\n",
    "    tf.keras.layers.BatchNormalization(),\n",
    "    tf.keras.layers.Activation(\"gelu\"),\n",
    "    tf.keras.layers.Dropout(0.6),\n",
    "    \n",
    "    \n",
    "    tf.keras.layers.Dense(256),\n",
    "    tf.keras.layers.BatchNormalization(),\n",
    "    tf.keras.layers.Activation(\"gelu\"),\n",
    "    tf.keras.layers.Dropout(0.2),\n",
    "    \n",
    "    tf.keras.layers.Dense(128),\n",
    "    tf.keras.layers.BatchNormalization(),\n",
    "    tf.keras.layers.Activation(\"gelu\"),\n",
    "    tf.keras.layers.Dropout(0.2),    \n",
    "    \n",
    "    tf.keras.layers.Dense(250, activation=\"softmax\"),\n",
    "])\n",
    "\n",
    "\n",
    "model.compile(\n",
    "    loss=tf.keras.losses.SparseCategoricalCrossentropy(), \n",
    "    optimizer='adam',\n",
    "    metrics=[\n",
    "        \"accuracy\",\n",
    "        # tf.keras.metrics.SparseTopKCategoricalAccuracy(k=5, name=\"top-05-acc\"),\n",
    "        # tf.keras.metrics.SparseTopKCategoricalAccuracy(k=10, name=\"top-10-acc\"),\n",
    "    ]\n",
    ")\n",
    "\n",
    "# plot_model(model)\n",
    "model.summary()"
   ]
  },
  {
   "cell_type": "code",
   "execution_count": 68,
   "id": "15913e94-a1e2-4c09-a6b0-6ff16faf5a94",
   "metadata": {},
   "outputs": [
    {
     "data": {
      "image/png": "[encoded data removed]",
      "text/plain": [
       "<IPython.core.display.Image object>"
      ]
     },
     "execution_count": 68,
     "metadata": {},
     "output_type": "execute_result"
    }
   ],
   "source": [
    "plot_model(model)"
   ]
  },
  {
   "cell_type": "code",
   "execution_count": null,
   "id": "3a4982c5-afc2-4a6b-9ea2-4ed08fda4af7",
   "metadata": {
    "tags": []
   },
   "outputs": [],
   "source": [
    "X_train, X_val, y_train, y_val = train_test_split(X, y, test_size=0.2, random_state=42, stratify=y)\n",
    "\n",
    "# Double the training data by mirroring the coordinates over the x-axis\n",
    "\n",
    "# X_train_mirrored = X_train.copy()\n",
    "# X_train_mirrored[:,:,0] *= -1 # flip over x-axis to mirror the data\n",
    "# y_train = np.concatenate((y_train, y_train))\n",
    "# X_train = np.concatenate((X_train, X_train_mirrored))\n",
    "\n",
    "## Keyset mirror by flipping [x1, y1, x2, y2, ..., x3528, y3528]\n",
    "# X_train_mirrored = X_train.copy()\n",
    "# X_train_mirrored[:,::2] *= -1\n",
    "# X_train = np.concatenate((X_train, X_train_mirrored))\n",
    "# y_train = np.repeat(y_train, 2, axis=0)\n",
    "\n",
    "print(X_train.shape, y_train.shape, X_val.shape, y_val.shape)"
   ]
  },
  {
   "cell_type": "code",
   "execution_count": null,
   "id": "28309e83",
   "metadata": {
    "ExecuteTime": {
     "end_time": "2023-02-28T05:57:46.380460Z",
     "start_time": "2023-02-28T05:14:14.892263Z"
    },
    "scrolled": true,
    "tags": []
   },
   "outputs": [],
   "source": [
    "callbacks = [\n",
    "    tf.keras.callbacks.ModelCheckpoint(\"model.h5\", restore_best_weights=True),\n",
    "    tf.keras.callbacks.EarlyStopping(\n",
    "        monitor='val_accuracy',\n",
    "        patience=10,\n",
    "        restore_best_weights=True,\n",
    "    ),\n",
    "    tf.keras.callbacks.TensorBoard(log_dir='logs/fit/' + datetime.datetime.now().strftime(\"%Y$Ym%d-%H%M%S-keyframes\"), histogram_freq=1),\n",
    "]\n",
    "history = model.fit(X_train, y_train, epochs=150, validation_data=(X_val, y_val), batch_size=64, callbacks=callbacks)    \n"
   ]
  },
  {
   "cell_type": "code",
   "execution_count": 54,
   "id": "64ee424f-3dda-4335-9e2e-b8ece17e21cc",
   "metadata": {},
   "outputs": [
    {
     "name": "stdout",
     "output_type": "stream",
     "text": [
      "Epoch 1/100\n",
      "1181/1181 [==============================] - 13s 11ms/step - loss: 3.0696 - accuracy: 0.3125 - val_loss: 2.8182 - val_accuracy: 0.3795\n",
      "Epoch 2/100\n",
      "1181/1181 [==============================] - 12s 10ms/step - loss: 3.0698 - accuracy: 0.3113 - val_loss: 2.8097 - val_accuracy: 0.3816\n",
      "Epoch 3/100\n",
      "1181/1181 [==============================] - 10s 8ms/step - loss: 3.0702 - accuracy: 0.3131 - val_loss: 2.8141 - val_accuracy: 0.3810\n",
      "Epoch 4/100\n",
      "1181/1181 [==============================] - 14s 12ms/step - loss: 3.0649 - accuracy: 0.3142 - val_loss: 2.8059 - val_accuracy: 0.3823\n",
      "Epoch 5/100\n",
      "1181/1181 [==============================] - 13s 11ms/step - loss: 3.0639 - accuracy: 0.3105 - val_loss: 2.8113 - val_accuracy: 0.3807\n",
      "Epoch 6/100\n",
      "1181/1181 [==============================] - 13s 11ms/step - loss: 3.0628 - accuracy: 0.3143 - val_loss: 2.8070 - val_accuracy: 0.3806\n",
      "Epoch 7/100\n",
      "1181/1181 [==============================] - 11s 10ms/step - loss: 3.0644 - accuracy: 0.3147 - val_loss: 2.8116 - val_accuracy: 0.3824\n",
      "Epoch 8/100\n",
      "1181/1181 [==============================] - 13s 11ms/step - loss: 3.0631 - accuracy: 0.3138 - val_loss: 2.8084 - val_accuracy: 0.3809\n",
      "Epoch 9/100\n",
      "1181/1181 [==============================] - 14s 12ms/step - loss: 3.0613 - accuracy: 0.3140 - val_loss: 2.8003 - val_accuracy: 0.3796\n",
      "Epoch 10/100\n",
      "1181/1181 [==============================] - 14s 12ms/step - loss: 3.0606 - accuracy: 0.3136 - val_loss: 2.8044 - val_accuracy: 0.3832\n",
      "Epoch 11/100\n",
      "1181/1181 [==============================] - 14s 12ms/step - loss: 3.0620 - accuracy: 0.3125 - val_loss: 2.8058 - val_accuracy: 0.3796\n",
      "Epoch 12/100\n",
      "1181/1181 [==============================] - 13s 11ms/step - loss: 3.0585 - accuracy: 0.3148 - val_loss: 2.7870 - val_accuracy: 0.3866\n",
      "Epoch 13/100\n",
      "1181/1181 [==============================] - 13s 11ms/step - loss: 3.0552 - accuracy: 0.3140 - val_loss: 2.7904 - val_accuracy: 0.3872\n",
      "Epoch 14/100\n",
      "1181/1181 [==============================] - 13s 11ms/step - loss: 3.0491 - accuracy: 0.3174 - val_loss: 2.7953 - val_accuracy: 0.3848\n",
      "Epoch 15/100\n",
      "1181/1181 [==============================] - 14s 12ms/step - loss: 3.0469 - accuracy: 0.3163 - val_loss: 2.8004 - val_accuracy: 0.3856\n",
      "Epoch 16/100\n",
      "1181/1181 [==============================] - 13s 11ms/step - loss: 3.0540 - accuracy: 0.3145 - val_loss: 2.7981 - val_accuracy: 0.3816\n",
      "Epoch 17/100\n",
      "1181/1181 [==============================] - 11s 10ms/step - loss: 3.0486 - accuracy: 0.3161 - val_loss: 2.7850 - val_accuracy: 0.3866\n",
      "Epoch 18/100\n",
      "1181/1181 [==============================] - 12s 10ms/step - loss: 3.0478 - accuracy: 0.3149 - val_loss: 2.7998 - val_accuracy: 0.3831\n",
      "Epoch 19/100\n",
      "1181/1181 [==============================] - 14s 12ms/step - loss: 3.0524 - accuracy: 0.3159 - val_loss: 2.8130 - val_accuracy: 0.3790\n",
      "Epoch 20/100\n",
      "1181/1181 [==============================] - 14s 12ms/step - loss: 3.0490 - accuracy: 0.3160 - val_loss: 2.7929 - val_accuracy: 0.3858\n",
      "Epoch 21/100\n",
      "1181/1181 [==============================] - 13s 11ms/step - loss: 3.0518 - accuracy: 0.3167 - val_loss: 2.7903 - val_accuracy: 0.3875\n",
      "Epoch 22/100\n",
      "1181/1181 [==============================] - 13s 11ms/step - loss: 3.0414 - accuracy: 0.3178 - val_loss: 2.7900 - val_accuracy: 0.3851\n",
      "Epoch 23/100\n",
      "1181/1181 [==============================] - 15s 12ms/step - loss: 3.0518 - accuracy: 0.3162 - val_loss: 2.7815 - val_accuracy: 0.3863\n",
      "Epoch 24/100\n",
      "1181/1181 [==============================] - 13s 11ms/step - loss: 3.0432 - accuracy: 0.3188 - val_loss: 2.7927 - val_accuracy: 0.3831\n",
      "Epoch 25/100\n",
      "1181/1181 [==============================] - 13s 11ms/step - loss: 3.0400 - accuracy: 0.3184 - val_loss: 2.7913 - val_accuracy: 0.3840\n",
      "Epoch 26/100\n",
      "1181/1181 [==============================] - 14s 12ms/step - loss: 3.0406 - accuracy: 0.3179 - val_loss: 2.7812 - val_accuracy: 0.3864\n",
      "Epoch 27/100\n",
      "1181/1181 [==============================] - 12s 10ms/step - loss: 3.0392 - accuracy: 0.3177 - val_loss: 2.7804 - val_accuracy: 0.3883\n",
      "Epoch 28/100\n",
      "1181/1181 [==============================] - 14s 12ms/step - loss: 3.0405 - accuracy: 0.3156 - val_loss: 2.7726 - val_accuracy: 0.3892\n",
      "Epoch 29/100\n",
      "1181/1181 [==============================] - 14s 12ms/step - loss: 3.0417 - accuracy: 0.3190 - val_loss: 2.7812 - val_accuracy: 0.3890\n",
      "Epoch 30/100\n",
      "1181/1181 [==============================] - 14s 11ms/step - loss: 3.0392 - accuracy: 0.3200 - val_loss: 2.7782 - val_accuracy: 0.3877\n",
      "Epoch 31/100\n",
      "1181/1181 [==============================] - 14s 11ms/step - loss: 3.0343 - accuracy: 0.3179 - val_loss: 2.7747 - val_accuracy: 0.3893\n",
      "Epoch 32/100\n",
      "1181/1181 [==============================] - 13s 11ms/step - loss: 3.0390 - accuracy: 0.3188 - val_loss: 2.7740 - val_accuracy: 0.3863\n",
      "Epoch 33/100\n",
      "1181/1181 [==============================] - 14s 12ms/step - loss: 3.0365 - accuracy: 0.3166 - val_loss: 2.7697 - val_accuracy: 0.3915\n",
      "Epoch 34/100\n",
      "1181/1181 [==============================] - 13s 11ms/step - loss: 3.0281 - accuracy: 0.3216 - val_loss: 2.7779 - val_accuracy: 0.3873\n",
      "Epoch 35/100\n",
      "1181/1181 [==============================] - 8s 7ms/step - loss: 3.0268 - accuracy: 0.3220 - val_loss: 2.7736 - val_accuracy: 0.3906\n",
      "Epoch 36/100\n",
      "1181/1181 [==============================] - 7s 6ms/step - loss: 3.0283 - accuracy: 0.3192 - val_loss: 2.7726 - val_accuracy: 0.3891\n",
      "Epoch 37/100\n",
      "1181/1181 [==============================] - 13s 11ms/step - loss: 3.0255 - accuracy: 0.3201 - val_loss: 2.7772 - val_accuracy: 0.3873\n",
      "Epoch 38/100\n",
      "1181/1181 [==============================] - 14s 12ms/step - loss: 3.0289 - accuracy: 0.3201 - val_loss: 2.7694 - val_accuracy: 0.3917\n",
      "Epoch 39/100\n",
      "1181/1181 [==============================] - 13s 11ms/step - loss: 3.0315 - accuracy: 0.3206 - val_loss: 2.7726 - val_accuracy: 0.3882\n",
      "Epoch 40/100\n",
      "1181/1181 [==============================] - 12s 10ms/step - loss: 3.0296 - accuracy: 0.3212 - val_loss: 2.7642 - val_accuracy: 0.3912\n",
      "Epoch 41/100\n",
      "1181/1181 [==============================] - 12s 10ms/step - loss: 3.0298 - accuracy: 0.3190 - val_loss: 2.7623 - val_accuracy: 0.3908\n",
      "Epoch 42/100\n",
      "1181/1181 [==============================] - 12s 11ms/step - loss: 3.0193 - accuracy: 0.3205 - val_loss: 2.7668 - val_accuracy: 0.3901\n",
      "Epoch 43/100\n",
      "1181/1181 [==============================] - 12s 10ms/step - loss: 3.0244 - accuracy: 0.3211 - val_loss: 2.7886 - val_accuracy: 0.3830\n",
      "Epoch 44/100\n",
      "1181/1181 [==============================] - 13s 11ms/step - loss: 3.0215 - accuracy: 0.3212 - val_loss: 2.7684 - val_accuracy: 0.3887\n",
      "Epoch 45/100\n",
      "1181/1181 [==============================] - 10s 9ms/step - loss: 3.0235 - accuracy: 0.3230 - val_loss: 2.7645 - val_accuracy: 0.3905\n",
      "Epoch 46/100\n",
      "1181/1181 [==============================] - 12s 10ms/step - loss: 3.0211 - accuracy: 0.3224 - val_loss: 2.7619 - val_accuracy: 0.3881\n",
      "Epoch 47/100\n",
      "1181/1181 [==============================] - 10s 9ms/step - loss: 3.0231 - accuracy: 0.3216 - val_loss: 2.7648 - val_accuracy: 0.3899\n",
      "Epoch 48/100\n",
      "1181/1181 [==============================] - 13s 11ms/step - loss: 3.0202 - accuracy: 0.3218 - val_loss: 2.7679 - val_accuracy: 0.3904\n"
     ]
    }
   ],
   "source": [
    "# model.fit(X_train, y_train, epochs=100, validation_data=(X_val, y_val), batch_size=64, callbacks=callbacks)\n",
    "loaded_model = tf.keras.models.load_model('model.h5')\n",
    "new_history = loaded_model.fit(X_train, y_train, epochs=100, validation_data=(X_val, y_val), batch_size=64, callbacks=callbacks)"
   ]
  },
  {
   "cell_type": "code",
   "execution_count": 55,
   "id": "0c667e32",
   "metadata": {
    "ExecuteTime": {
     "end_time": "2023-02-28T05:57:46.964014Z",
     "start_time": "2023-02-28T05:57:46.381837Z"
    }
   },
   "outputs": [
    {
     "name": "stdout",
     "output_type": "stream",
     "text": [
      "dict_keys(['loss', 'accuracy', 'val_loss', 'val_accuracy'])\n"
     ]
    }
   ],
   "source": [
    "import matplotlib.pyplot as plt\n",
    "import numpy as np\n",
    "print(history.history.keys())"
   ]
  },
  {
   "cell_type": "code",
   "execution_count": 61,
   "id": "835c5849",
   "metadata": {
    "ExecuteTime": {
     "end_time": "2023-02-28T05:57:47.144224Z",
     "start_time": "2023-02-28T05:57:47.068112Z"
    }
   },
   "outputs": [
    {
     "data": {
      "image/png": "[encoded data removed]",
      "text/plain": [
       "<Figure size 640x480 with 1 Axes>"
      ]
     },
     "metadata": {},
     "output_type": "display_data"
    }
   ],
   "source": [
    "# summarize history for loss\n",
    "plt.plot(history.history['loss'] + new_history.history['loss'])\n",
    "plt.plot(history.history['val_loss'] + new_history.history['val_loss'])\n",
    "\n",
    "plt.title('model loss')\n",
    "plt.ylabel('loss')\n",
    "plt.xlabel('epoch')\n",
    "plt.legend(['train', 'test'], loc='upper left')\n",
    "plt.show()"
   ]
  },
  {
   "cell_type": "code",
   "execution_count": 62,
   "id": "113b874f",
   "metadata": {
    "ExecuteTime": {
     "end_time": "2023-02-28T05:57:47.066992Z",
     "start_time": "2023-02-28T05:57:46.965515Z"
    }
   },
   "outputs": [
    {
     "data": {
      "image/png": "[encoded data removed]",
      "text/plain": [
       "<Figure size 640x480 with 1 Axes>"
      ]
     },
     "metadata": {},
     "output_type": "display_data"
    }
   ],
   "source": [
    "# summarize history for accuracy\n",
    "plt.plot(history.history['accuracy'] + new_history.history['accuracy'])\n",
    "plt.plot(history.history['val_accuracy'] + new_history.history['val_accuracy'])\n",
    "plt.title('model accuracy')\n",
    "plt.ylabel('accuracy')\n",
    "plt.xlabel('epoch')\n",
    "plt.legend(['train', 'test'], loc='upper left')\n",
    "plt.show()"
   ]
  },
  {
   "cell_type": "code",
   "execution_count": 63,
   "id": "3ab3d8f6-4542-4fd1-9283-b3bc3b903ac6",
   "metadata": {
    "ExecuteTime": {
     "end_time": "2023-02-28T05:57:47.147276Z",
     "start_time": "2023-02-28T05:57:47.145227Z"
    },
    "code_folding": [],
    "tags": []
   },
   "outputs": [],
   "source": [
    "def get_model():\n",
    "    return model"
   ]
  },
  {
   "cell_type": "code",
   "execution_count": 64,
   "id": "3bcd5c03",
   "metadata": {
    "ExecuteTime": {
     "end_time": "2023-02-28T05:57:47.171475Z",
     "start_time": "2023-02-28T05:57:47.148189Z"
    },
    "scrolled": true
   },
   "outputs": [
    {
     "name": "stdout",
     "output_type": "stream",
     "text": [
      "Model: \"sequential_1\"\n",
      "_________________________________________________________________\n",
      " Layer (type)                Output Shape              Param #   \n",
      "=================================================================\n",
      " dense_4 (Dense)             (None, 512)               129536    \n",
      "                                                                 \n",
      " batch_normalization_3 (Batc  (None, 512)              2048      \n",
      " hNormalization)                                                 \n",
      "                                                                 \n",
      " activation_3 (Activation)   (None, 512)               0         \n",
      "                                                                 \n",
      " dropout_3 (Dropout)         (None, 512)               0         \n",
      "                                                                 \n",
      " dense_5 (Dense)             (None, 256)               131328    \n",
      "                                                                 \n",
      " batch_normalization_4 (Batc  (None, 256)              1024      \n",
      " hNormalization)                                                 \n",
      "                                                                 \n",
      " activation_4 (Activation)   (None, 256)               0         \n",
      "                                                                 \n",
      " dropout_4 (Dropout)         (None, 256)               0         \n",
      "                                                                 \n",
      " dense_6 (Dense)             (None, 128)               32896     \n",
      "                                                                 \n",
      " batch_normalization_5 (Batc  (None, 128)              512       \n",
      " hNormalization)                                                 \n",
      "                                                                 \n",
      " activation_5 (Activation)   (None, 128)               0         \n",
      "                                                                 \n",
      " dropout_5 (Dropout)         (None, 128)               0         \n",
      "                                                                 \n",
      " dense_7 (Dense)             (None, 250)               32250     \n",
      "                                                                 \n",
      "=================================================================\n",
      "Total params: 329,594\n",
      "Trainable params: 327,802\n",
      "Non-trainable params: 1,792\n",
      "_________________________________________________________________\n"
     ]
    }
   ],
   "source": [
    "get_model().summary()"
   ]
  },
  {
   "cell_type": "code",
   "execution_count": 28,
   "id": "98593b01",
   "metadata": {
    "ExecuteTime": {
     "end_time": "2023-02-28T05:57:47.376497Z",
     "start_time": "2023-02-28T05:57:47.172285Z"
    }
   },
   "outputs": [],
   "source": [
    "# inputs = tf.keras.Input((543, 3), dtype=tf.float32, name=\"inputs\")\n",
    "# x = tf.where(tf.math.is_nan(inputs), tf.zeros_like(inputs), inputs)\n",
    "# x = tf.reduce_mean(x, axis=0, keepdims=True)\n",
    "\n",
    "# # for i in range(1, len(model.layers)):\n",
    "# x = model.layers[0](x)\n",
    "# x = model.layers[1](x)\n",
    "# x = model.layers[2](x)"
   ]
  },
  {
   "cell_type": "code",
   "execution_count": 65,
   "id": "14097f4c",
   "metadata": {
    "ExecuteTime": {
     "end_time": "2023-02-28T05:57:47.382047Z",
     "start_time": "2023-02-28T05:57:47.378515Z"
    }
   },
   "outputs": [],
   "source": [
    "def get_inference_model(model):\n",
    "    inputs = tf.keras.Input((543, 3), dtype=tf.float32, name=\"inputs\")\n",
    "    x = tf.where(tf.math.is_nan(inputs), tf.zeros_like(inputs), inputs)\n",
    "    x = tf.reduce_mean(x, axis=0, keepdims=True)\n",
    "    \n",
    "    for i in range(0, len(model.layers)):\n",
    "        x = model.layers[i](x)\n",
    "    output = tf.keras.layers.Activation(activation=\"linear\", name=\"outputs\")(x)\n",
    "    inference_model = tf.keras.Model(inputs=inputs, outputs=output) \n",
    "    inference_model.compile(loss=tf.keras.losses.SparseCategoricalCrossentropy(), metrics=[\"accuracy\"])\n",
    "    \n",
    "    return inference_model\n"
   ]
  },
  {
   "cell_type": "code",
   "execution_count": 66,
   "id": "b125786d",
   "metadata": {
    "ExecuteTime": {
     "end_time": "2023-02-28T05:57:47.644935Z",
     "start_time": "2023-02-28T05:57:47.382791Z"
    }
   },
   "outputs": [
    {
     "ename": "ValueError",
     "evalue": "Exception encountered when calling layer \"dense_4\" (type Dense).\n\nDimensions must be equal, but are 3 and 252 for '{{node dense_4/Tensordot/MatMul}} = MatMul[T=DT_FLOAT, transpose_a=false, transpose_b=false](dense_4/Tensordot/Reshape, dense_4/Tensordot/ReadVariableOp)' with input shapes: [543,3], [252,512].\n\nCall arguments received by layer \"dense_4\" (type Dense):\n  • inputs=tf.Tensor(shape=(1, 543, 3), dtype=float32)",
     "output_type": "error",
     "traceback": [
      "\u001b[0;31m---------------------------------------------------------------------------\u001b[0m",
      "\u001b[0;31mValueError\u001b[0m                                Traceback (most recent call last)",
      "Cell \u001b[0;32mIn [66], line 1\u001b[0m\n\u001b[0;32m----> 1\u001b[0m inference_model \u001b[38;5;241m=\u001b[39m \u001b[43mget_inference_model\u001b[49m\u001b[43m(\u001b[49m\u001b[43mmodel\u001b[49m\u001b[43m)\u001b[49m\n\u001b[1;32m      2\u001b[0m inference_model\u001b[38;5;241m.\u001b[39msummary()\n",
      "Cell \u001b[0;32mIn [65], line 7\u001b[0m, in \u001b[0;36mget_inference_model\u001b[0;34m(model)\u001b[0m\n\u001b[1;32m      4\u001b[0m x \u001b[38;5;241m=\u001b[39m tf\u001b[38;5;241m.\u001b[39mreduce_mean(x, axis\u001b[38;5;241m=\u001b[39m\u001b[38;5;241m0\u001b[39m, keepdims\u001b[38;5;241m=\u001b[39m\u001b[38;5;28;01mTrue\u001b[39;00m)\n\u001b[1;32m      6\u001b[0m \u001b[38;5;28;01mfor\u001b[39;00m i \u001b[38;5;129;01min\u001b[39;00m \u001b[38;5;28mrange\u001b[39m(\u001b[38;5;241m0\u001b[39m, \u001b[38;5;28mlen\u001b[39m(model\u001b[38;5;241m.\u001b[39mlayers)):\n\u001b[0;32m----> 7\u001b[0m     x \u001b[38;5;241m=\u001b[39m \u001b[43mmodel\u001b[49m\u001b[38;5;241;43m.\u001b[39;49m\u001b[43mlayers\u001b[49m\u001b[43m[\u001b[49m\u001b[43mi\u001b[49m\u001b[43m]\u001b[49m\u001b[43m(\u001b[49m\u001b[43mx\u001b[49m\u001b[43m)\u001b[49m\n\u001b[1;32m      8\u001b[0m output \u001b[38;5;241m=\u001b[39m tf\u001b[38;5;241m.\u001b[39mkeras\u001b[38;5;241m.\u001b[39mlayers\u001b[38;5;241m.\u001b[39mActivation(activation\u001b[38;5;241m=\u001b[39m\u001b[38;5;124m\"\u001b[39m\u001b[38;5;124mlinear\u001b[39m\u001b[38;5;124m\"\u001b[39m, name\u001b[38;5;241m=\u001b[39m\u001b[38;5;124m\"\u001b[39m\u001b[38;5;124moutputs\u001b[39m\u001b[38;5;124m\"\u001b[39m)(x)\n\u001b[1;32m      9\u001b[0m inference_model \u001b[38;5;241m=\u001b[39m tf\u001b[38;5;241m.\u001b[39mkeras\u001b[38;5;241m.\u001b[39mModel(inputs\u001b[38;5;241m=\u001b[39minputs, outputs\u001b[38;5;241m=\u001b[39moutput) \n",
      "File \u001b[0;32m~/miniconda3/envs/tf/lib/python3.9/site-packages/keras/utils/traceback_utils.py:70\u001b[0m, in \u001b[0;36mfilter_traceback.<locals>.error_handler\u001b[0;34m(*args, **kwargs)\u001b[0m\n\u001b[1;32m     67\u001b[0m     filtered_tb \u001b[38;5;241m=\u001b[39m _process_traceback_frames(e\u001b[38;5;241m.\u001b[39m__traceback__)\n\u001b[1;32m     68\u001b[0m     \u001b[38;5;66;03m# To get the full stack trace, call:\u001b[39;00m\n\u001b[1;32m     69\u001b[0m     \u001b[38;5;66;03m# `tf.debugging.disable_traceback_filtering()`\u001b[39;00m\n\u001b[0;32m---> 70\u001b[0m     \u001b[38;5;28;01mraise\u001b[39;00m e\u001b[38;5;241m.\u001b[39mwith_traceback(filtered_tb) \u001b[38;5;28;01mfrom\u001b[39;00m \u001b[38;5;28mNone\u001b[39m\n\u001b[1;32m     71\u001b[0m \u001b[38;5;28;01mfinally\u001b[39;00m:\n\u001b[1;32m     72\u001b[0m     \u001b[38;5;28;01mdel\u001b[39;00m filtered_tb\n",
      "File \u001b[0;32m~/miniconda3/envs/tf/lib/python3.9/site-packages/tensorflow/python/framework/ops.py:1969\u001b[0m, in \u001b[0;36m_create_c_op\u001b[0;34m(graph, node_def, inputs, control_inputs, op_def, extract_traceback)\u001b[0m\n\u001b[1;32m   1966\u001b[0m   c_op \u001b[38;5;241m=\u001b[39m pywrap_tf_session\u001b[38;5;241m.\u001b[39mTF_FinishOperation(op_desc)\n\u001b[1;32m   1967\u001b[0m \u001b[38;5;28;01mexcept\u001b[39;00m errors\u001b[38;5;241m.\u001b[39mInvalidArgumentError \u001b[38;5;28;01mas\u001b[39;00m e:\n\u001b[1;32m   1968\u001b[0m   \u001b[38;5;66;03m# Convert to ValueError for backwards compatibility.\u001b[39;00m\n\u001b[0;32m-> 1969\u001b[0m   \u001b[38;5;28;01mraise\u001b[39;00m \u001b[38;5;167;01mValueError\u001b[39;00m(e\u001b[38;5;241m.\u001b[39mmessage)\n\u001b[1;32m   1971\u001b[0m \u001b[38;5;66;03m# Record the current Python stack trace as the creating stacktrace of this\u001b[39;00m\n\u001b[1;32m   1972\u001b[0m \u001b[38;5;66;03m# TF_Operation.\u001b[39;00m\n\u001b[1;32m   1973\u001b[0m \u001b[38;5;28;01mif\u001b[39;00m extract_traceback:\n",
      "\u001b[0;31mValueError\u001b[0m: Exception encountered when calling layer \"dense_4\" (type Dense).\n\nDimensions must be equal, but are 3 and 252 for '{{node dense_4/Tensordot/MatMul}} = MatMul[T=DT_FLOAT, transpose_a=false, transpose_b=false](dense_4/Tensordot/Reshape, dense_4/Tensordot/ReadVariableOp)' with input shapes: [543,3], [252,512].\n\nCall arguments received by layer \"dense_4\" (type Dense):\n  • inputs=tf.Tensor(shape=(1, 543, 3), dtype=float32)"
     ]
    }
   ],
   "source": [
    "inference_model = get_inference_model(model)\n",
    "inference_model.summary()"
   ]
  },
  {
   "cell_type": "code",
   "execution_count": null,
   "id": "2440704d",
   "metadata": {
    "ExecuteTime": {
     "end_time": "2023-02-28T05:57:55.230706Z",
     "start_time": "2023-02-28T05:57:47.646015Z"
    }
   },
   "outputs": [],
   "source": [
    "converter = tf.lite.TFLiteConverter.from_keras_model(inference_model)\n",
    "tflite_model = converter.convert()\n",
    "model_path = \"model.tflite\"\n",
    "# Save the model.\n",
    "with open(model_path, 'wb') as f:\n",
    "    f.write(tflite_model)"
   ]
  },
  {
   "cell_type": "code",
   "execution_count": null,
   "id": "7fd967af-1053-4434-9359-90f00cd424e4",
   "metadata": {},
   "outputs": [],
   "source": []
  },
  {
   "cell_type": "code",
   "execution_count": null,
   "id": "5c62ba46",
   "metadata": {
    "ExecuteTime": {
     "end_time": "2023-02-28T05:58:11.418380Z",
     "start_time": "2023-02-28T05:57:55.232237Z"
    },
    "scrolled": true
   },
   "outputs": [],
   "source": [
    "import tflite_runtime.interpreter as tflite\n",
    "interpreter = tflite.Interpreter(model_path)\n",
    "found_signatures = list(interpreter.get_signature_list().keys())\n",
    "prediction_fn = interpreter.get_signature_runner(\"serving_default\")\n",
    "corr = 0\n",
    "wrong = []\n",
    "for i in tqdm(range(100)):\n",
    "    frames = load_relevant_data_subset(f\"{CFG.data_path}{train.iloc[i].path}\")\n",
    "    output = prediction_fn(inputs=frames)\n",
    "    sign = np.argmax(output[\"outputs\"])\n",
    "    if index_label[sign] == train.iloc[i].sign:\n",
    "        corr += 1\n",
    "    else:\n",
    "        wrong.append((index_label[sign], train.iloc[i].sign, train.iloc[i].path))\n",
    "    print(f\"Predicted label: {index_label[sign]}, Actual Label: {train.iloc[i].sign}\")\n",
    "    total = i"
   ]
  },
  {
   "cell_type": "code",
   "execution_count": null,
   "id": "2ea52da4",
   "metadata": {
    "ExecuteTime": {
     "end_time": "2023-02-28T05:58:11.422857Z",
     "start_time": "2023-02-28T05:58:11.420044Z"
    }
   },
   "outputs": [],
   "source": [
    "r = f'''\n",
    "{total=}\n",
    "{corr=}\\t Percent: {corr/total:%}\n",
    "'''\n",
    "print(r)"
   ]
  },
  {
   "cell_type": "code",
   "execution_count": null,
   "id": "08905e36",
   "metadata": {
    "ExecuteTime": {
     "end_time": "2023-02-28T05:58:11.447508Z",
     "start_time": "2023-02-28T05:58:11.424261Z"
    }
   },
   "outputs": [],
   "source": [
    "wrongs = pd.DataFrame(data=wrong, columns=['pred','true','path'])\n",
    "wrongs.groupby('pred').count().reset_index().sort_values('true')"
   ]
  },
  {
   "cell_type": "code",
   "execution_count": null,
   "id": "711984aa-12ab-4a0d-8cb1-6e7df10fa3ac",
   "metadata": {},
   "outputs": [],
   "source": [
    "import zipfile\n",
    "zipfile.ZipFile('submission.zip', mode='w').write('model.tflite')"
   ]
  },
  {
   "cell_type": "code",
   "execution_count": null,
   "id": "81c2a626-047a-4e2d-b63f-05edf7e32eff",
   "metadata": {},
   "outputs": [],
   "source": [
    "!ls -lh"
   ]
  }
 ],
 "metadata": {
  "kernelspec": {
   "display_name": "Python 3 (ipykernel)",
   "language": "python",
   "name": "python3"
  },
  "language_info": {
   "codemirror_mode": {
    "name": "ipython",
    "version": 3
   },
   "file_extension": ".py",
   "mimetype": "text/x-python",
   "name": "python",
   "nbconvert_exporter": "python",
   "pygments_lexer": "ipython3",
   "version": "3.9.15"
  },
  "toc": {
   "base_numbering": 1,
   "nav_menu": {},
   "number_sections": true,
   "sideBar": true,
   "skip_h1_title": false,
   "title_cell": "Table of Contents",
   "title_sidebar": "Contents",
   "toc_cell": false,
   "toc_position": {},
   "toc_section_display": true,
   "toc_window_display": false
  }
 },
 "nbformat": 4,
 "nbformat_minor": 5
}
