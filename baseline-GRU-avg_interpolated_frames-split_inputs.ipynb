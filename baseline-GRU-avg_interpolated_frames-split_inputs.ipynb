{
 "cells": [
  {
   "cell_type": "markdown",
   "id": "e4c8a3c0",
   "metadata": {},
   "source": [
    "Baseline_TF\n",
    "https://www.kaggle.com/code/ivaneleskin/baseline-tf"
   ]
  },
  {
   "cell_type": "code",
   "execution_count": 1,
   "id": "743607ba",
   "metadata": {
    "ExecuteTime": {
     "end_time": "2023-03-02T23:35:11.913067Z",
     "start_time": "2023-03-02T23:35:10.286961Z"
    }
   },
   "outputs": [
    {
     "name": "stderr",
     "output_type": "stream",
     "text": [
      "2023-03-02 15:35:10.558994: I tensorflow/core/platform/cpu_feature_guard.cc:193] This TensorFlow binary is optimized with oneAPI Deep Neural Network Library (oneDNN) to use the following CPU instructions in performance-critical operations:  AVX2 FMA\n",
      "To enable them in other operations, rebuild TensorFlow with the appropriate compiler flags.\n",
      "2023-03-02 15:35:10.707729: E tensorflow/stream_executor/cuda/cuda_blas.cc:2981] Unable to register cuBLAS factory: Attempting to register factory for plugin cuBLAS when one has already been registered\n",
      "2023-03-02 15:35:11.170798: W tensorflow/stream_executor/platform/default/dso_loader.cc:64] Could not load dynamic library 'libnvinfer.so.7'; dlerror: libnvinfer.so.7: cannot open shared object file: No such file or directory; LD_LIBRARY_PATH: :/home/victor/miniconda3/envs/tf/lib/:/home/victor/miniconda3/envs/tf/lib/:/home/victor/miniconda3/envs/tf/lib/:/home/victor/miniconda3/envs/tf/lib/\n",
      "2023-03-02 15:35:11.170858: W tensorflow/stream_executor/platform/default/dso_loader.cc:64] Could not load dynamic library 'libnvinfer_plugin.so.7'; dlerror: libnvinfer_plugin.so.7: cannot open shared object file: No such file or directory; LD_LIBRARY_PATH: :/home/victor/miniconda3/envs/tf/lib/:/home/victor/miniconda3/envs/tf/lib/:/home/victor/miniconda3/envs/tf/lib/:/home/victor/miniconda3/envs/tf/lib/\n",
      "2023-03-02 15:35:11.170863: W tensorflow/compiler/tf2tensorrt/utils/py_utils.cc:38] TF-TRT Warning: Cannot dlopen some TensorRT libraries. If you would like to use Nvidia GPU with TensorRT, please make sure the missing libraries mentioned above are installed properly.\n"
     ]
    }
   ],
   "source": [
    "import os\n",
    "import json\n",
    "import numpy as np\n",
    "import pandas as pd\n",
    "from tqdm import tqdm\n",
    "import tensorflow as tf\n",
    "from tqdm import tqdm\n",
    "import json\n",
    "import gc\n",
    "from sklearn.model_selection import train_test_split\n",
    "\n",
    "from pathlib import Path"
   ]
  },
  {
   "cell_type": "code",
   "execution_count": 2,
   "id": "3ee4aeb4",
   "metadata": {
    "ExecuteTime": {
     "end_time": "2023-03-02T23:35:12.004778Z",
     "start_time": "2023-03-02T23:35:11.914861Z"
    }
   },
   "outputs": [
    {
     "name": "stdout",
     "output_type": "stream",
     "text": [
      "train.shape = 94477 rows, 4 cols\n",
      "<class 'pandas.core.frame.DataFrame'>\n",
      "RangeIndex: 94477 entries, 0 to 94476\n",
      "Data columns (total 4 columns):\n",
      " #   Column          Non-Null Count  Dtype \n",
      "---  ------          --------------  ----- \n",
      " 0   path            94477 non-null  object\n",
      " 1   participant_id  94477 non-null  int64 \n",
      " 2   sequence_id     94477 non-null  int64 \n",
      " 3   sign            94477 non-null  object\n",
      "dtypes: int64(2), object(2)\n",
      "memory usage: 2.9+ MB\n"
     ]
    },
    {
     "data": {
      "text/html": [
       "<div>\n",
       "<style scoped>\n",
       "    .dataframe tbody tr th:only-of-type {\n",
       "        vertical-align: middle;\n",
       "    }\n",
       "\n",
       "    .dataframe tbody tr th {\n",
       "        vertical-align: top;\n",
       "    }\n",
       "\n",
       "    .dataframe thead th {\n",
       "        text-align: right;\n",
       "    }\n",
       "</style>\n",
       "<table border=\"1\" class=\"dataframe\">\n",
       "  <thead>\n",
       "    <tr style=\"text-align: right;\">\n",
       "      <th></th>\n",
       "      <th>path</th>\n",
       "      <th>participant_id</th>\n",
       "      <th>sequence_id</th>\n",
       "      <th>sign</th>\n",
       "    </tr>\n",
       "  </thead>\n",
       "  <tbody>\n",
       "    <tr>\n",
       "      <th>0</th>\n",
       "      <td>train_landmark_files/26734/1000035562.parquet</td>\n",
       "      <td>26734</td>\n",
       "      <td>1000035562</td>\n",
       "      <td>blow</td>\n",
       "    </tr>\n",
       "    <tr>\n",
       "      <th>1</th>\n",
       "      <td>train_landmark_files/28656/1000106739.parquet</td>\n",
       "      <td>28656</td>\n",
       "      <td>1000106739</td>\n",
       "      <td>wait</td>\n",
       "    </tr>\n",
       "    <tr>\n",
       "      <th>2</th>\n",
       "      <td>train_landmark_files/16069/100015657.parquet</td>\n",
       "      <td>16069</td>\n",
       "      <td>100015657</td>\n",
       "      <td>cloud</td>\n",
       "    </tr>\n",
       "    <tr>\n",
       "      <th>3</th>\n",
       "      <td>train_landmark_files/25571/1000210073.parquet</td>\n",
       "      <td>25571</td>\n",
       "      <td>1000210073</td>\n",
       "      <td>bird</td>\n",
       "    </tr>\n",
       "    <tr>\n",
       "      <th>4</th>\n",
       "      <td>train_landmark_files/62590/1000240708.parquet</td>\n",
       "      <td>62590</td>\n",
       "      <td>1000240708</td>\n",
       "      <td>owie</td>\n",
       "    </tr>\n",
       "  </tbody>\n",
       "</table>\n",
       "</div>"
      ],
      "text/plain": [
       "                                            path  participant_id  sequence_id  \\\n",
       "0  train_landmark_files/26734/1000035562.parquet           26734   1000035562   \n",
       "1  train_landmark_files/28656/1000106739.parquet           28656   1000106739   \n",
       "2   train_landmark_files/16069/100015657.parquet           16069    100015657   \n",
       "3  train_landmark_files/25571/1000210073.parquet           25571   1000210073   \n",
       "4  train_landmark_files/62590/1000240708.parquet           62590   1000240708   \n",
       "\n",
       "    sign  \n",
       "0   blow  \n",
       "1   wait  \n",
       "2  cloud  \n",
       "3   bird  \n",
       "4   owie  "
      ]
     },
     "execution_count": 2,
     "metadata": {},
     "output_type": "execute_result"
    }
   ],
   "source": [
    "DATA_ROOT = Path('..')\n",
    "DF_TRAIN = DATA_ROOT / 'train.csv'\n",
    "train = pd.read_csv(DF_TRAIN)\n",
    "\n",
    "print(\"train.shape = {} rows, {} cols\".format(*train.shape))\n",
    "train.info()\n",
    "train.head()\n"
   ]
  },
  {
   "cell_type": "code",
   "execution_count": 3,
   "id": "11726f4f",
   "metadata": {
    "ExecuteTime": {
     "end_time": "2023-03-02T23:35:12.010384Z",
     "start_time": "2023-03-02T23:35:12.006136Z"
    }
   },
   "outputs": [],
   "source": [
    "class CFG:\n",
    "    data_path = \"../\"\n",
    "    quick_experiment = False\n",
    "    is_training = True\n",
    "    use_aggregation_dataset = True\n",
    "    num_classes = 250\n",
    "    rows_per_frame = 543 \n",
    "\n",
    "def load_relevant_data_subset_with_imputation(pq_path):\n",
    "    data_columns = ['x', 'y', 'z']\n",
    "    data = pd.read_parquet(pq_path, columns=data_columns)\n",
    "    data.replace(np.nan, 0, inplace=True)\n",
    "    n_frames = int(len(data) / CFG.rows_per_frame)\n",
    "    data = data.values.reshape(n_frames, CFG.rows_per_frame, len(data_columns))\n",
    "    return data.astype(np.float32)\n",
    "\n",
    "def load_relevant_data_subset(pq_path):\n",
    "    data_columns = ['x', 'y', 'z']\n",
    "    data = pd.read_parquet(pq_path, columns=data_columns)\n",
    "    n_frames = int(len(data) / CFG.rows_per_frame)\n",
    "    data = data.values.reshape(n_frames, CFG.rows_per_frame, len(data_columns))\n",
    "    return data.astype(np.float32)\n",
    "\n",
    "def read_dict(file_path):\n",
    "    path = os.path.expanduser(file_path)\n",
    "    with open(path, \"r\") as f:\n",
    "        dic = json.load(f)\n",
    "    return dic"
   ]
  },
  {
   "cell_type": "code",
   "execution_count": 4,
   "id": "150fc1bc",
   "metadata": {
    "ExecuteTime": {
     "end_time": "2023-03-02T23:35:12.101149Z",
     "start_time": "2023-03-02T23:35:12.012022Z"
    }
   },
   "outputs": [],
   "source": [
    "train = pd.read_csv(f\"{CFG.data_path}train.csv\")\n",
    "label_index = read_dict(f\"{CFG.data_path}sign_to_prediction_index_map.json\")\n",
    "index_label = {label_index[key]: key for key in label_index}\n",
    "train[\"label\"] = train[\"sign\"].map(lambda sign: label_index[sign])"
   ]
  },
  {
   "cell_type": "code",
   "execution_count": 5,
   "id": "fda181c9",
   "metadata": {
    "ExecuteTime": {
     "end_time": "2023-03-02T23:40:50.374122Z",
     "start_time": "2023-03-02T23:35:12.102665Z"
    }
   },
   "outputs": [
    {
     "name": "stdout",
     "output_type": "stream",
     "text": [
      "True\n"
     ]
    },
    {
     "name": "stderr",
     "output_type": "stream",
     "text": [
      "  0%|                                                                                     | 0/94477 [00:00<?, ?it/s]2023-03-02 15:35:12.159866: I tensorflow/stream_executor/cuda/cuda_gpu_executor.cc:980] successful NUMA node read from SysFS had negative value (-1), but there must be at least one NUMA node, so returning NUMA node zero\n",
      "2023-03-02 15:35:12.163990: I tensorflow/stream_executor/cuda/cuda_gpu_executor.cc:980] successful NUMA node read from SysFS had negative value (-1), but there must be at least one NUMA node, so returning NUMA node zero\n",
      "2023-03-02 15:35:12.164162: I tensorflow/stream_executor/cuda/cuda_gpu_executor.cc:980] successful NUMA node read from SysFS had negative value (-1), but there must be at least one NUMA node, so returning NUMA node zero\n",
      "2023-03-02 15:35:12.164821: I tensorflow/core/platform/cpu_feature_guard.cc:193] This TensorFlow binary is optimized with oneAPI Deep Neural Network Library (oneDNN) to use the following CPU instructions in performance-critical operations:  AVX2 FMA\n",
      "To enable them in other operations, rebuild TensorFlow with the appropriate compiler flags.\n",
      "2023-03-02 15:35:12.168433: I tensorflow/stream_executor/cuda/cuda_gpu_executor.cc:980] successful NUMA node read from SysFS had negative value (-1), but there must be at least one NUMA node, so returning NUMA node zero\n",
      "2023-03-02 15:35:12.168686: I tensorflow/stream_executor/cuda/cuda_gpu_executor.cc:980] successful NUMA node read from SysFS had negative value (-1), but there must be at least one NUMA node, so returning NUMA node zero\n",
      "2023-03-02 15:35:12.168899: I tensorflow/stream_executor/cuda/cuda_gpu_executor.cc:980] successful NUMA node read from SysFS had negative value (-1), but there must be at least one NUMA node, so returning NUMA node zero\n",
      "2023-03-02 15:35:12.576632: I tensorflow/stream_executor/cuda/cuda_gpu_executor.cc:980] successful NUMA node read from SysFS had negative value (-1), but there must be at least one NUMA node, so returning NUMA node zero\n",
      "2023-03-02 15:35:12.576830: I tensorflow/stream_executor/cuda/cuda_gpu_executor.cc:980] successful NUMA node read from SysFS had negative value (-1), but there must be at least one NUMA node, so returning NUMA node zero\n",
      "2023-03-02 15:35:12.576969: I tensorflow/stream_executor/cuda/cuda_gpu_executor.cc:980] successful NUMA node read from SysFS had negative value (-1), but there must be at least one NUMA node, so returning NUMA node zero\n",
      "2023-03-02 15:35:12.577086: I tensorflow/core/common_runtime/gpu/gpu_device.cc:1616] Created device /job:localhost/replica:0/task:0/device:GPU:0 with 21932 MB memory:  -> device: 0, name: NVIDIA GeForce RTX 3090 Ti, pci bus id: 0000:01:00.0, compute capability: 8.6\n",
      "100%|████████████████████████████████████████████████████████████████████████| 94477/94477 [05:37<00:00, 280.20it/s]\n"
     ]
    },
    {
     "name": "stdout",
     "output_type": "stream",
     "text": [
      "count    94477.000000\n",
      "mean        37.935021\n",
      "std         44.177069\n",
      "min          2.000000\n",
      "25%         12.000000\n",
      "50%         22.000000\n",
      "75%         44.000000\n",
      "max        537.000000\n",
      "Name: num_frames, dtype: float64\n",
      "(94477, 543, 3) (94477,)\n"
     ]
    }
   ],
   "source": [
    "MAX_FRAMES = 15\n",
    "X_npy_fname = f'X_3d-avg-{MAX_FRAMES}_frames.npy'\n",
    "y_npy_fname = f'y.npy'\n",
    "\n",
    "\n",
    "if CFG.is_training:\n",
    "    try:\n",
    "        X = np.load(X_npy_fname)\n",
    "        y = np.load(y_npy_fname)\n",
    "    except:\n",
    "        print('True')\n",
    "        X = np.zeros((len(train), 543, 3))\n",
    "        y = np.zeros((len(train),))\n",
    "        num_frames = np.zeros(len(train))\n",
    "        for i in tqdm(range(len(train))):\n",
    "            path = f\"{CFG.data_path}{train.iloc[i].path}\"\n",
    "            data = load_relevant_data_subset_with_imputation(path)\n",
    "            ## Mean Aggregation\n",
    "            data_resize = tf.image.resize(\n",
    "                data,\n",
    "                (MAX_FRAMES, 543),\n",
    "                method='nearest',\n",
    "            )\n",
    "            X[i] = np.mean(data_resize, axis=0)\n",
    "            y[i] = train.iloc[i].label\n",
    "            num_frames[i] = data.shape[0]\n",
    "            if CFG.quick_experiment and i == 4999:\n",
    "                break\n",
    "        ## Save number of frames of each training sample for data analysis\n",
    "        train[\"num_frames\"] = num_frames\n",
    "        print(train[\"num_frames\"].describe())\n",
    "        train.to_csv(\"train.csv\", index=False)\n",
    "        np.save(X_npy_fname, X)\n",
    "        np.save(y_npy_fname, y)\n",
    "\n",
    "    print(X.shape, y.shape)"
   ]
  },
  {
   "cell_type": "code",
   "execution_count": 6,
   "id": "ba8fc712",
   "metadata": {
    "ExecuteTime": {
     "end_time": "2023-03-02T23:40:50.607305Z",
     "start_time": "2023-03-02T23:40:50.375159Z"
    }
   },
   "outputs": [
    {
     "name": "stdout",
     "output_type": "stream",
     "text": [
      "(75581, 543, 3) (75581,) (18896, 543, 3) (18896,)\n"
     ]
    }
   ],
   "source": [
    "X_train, X_val, y_train, y_val = train_test_split(X, y, test_size=0.2, random_state=27, stratify=y)\n",
    "print(X_train.shape, y_train.shape, X_val.shape, y_val.shape)"
   ]
  },
  {
   "cell_type": "markdown",
   "id": "63a61401",
   "metadata": {},
   "source": [
    "|part|start|end|\n",
    "|----|--|---|\n",
    "|face| 0| 467|\n",
    "|left_hand| 468| 488|\n",
    "|pose| 489| 521|\n",
    "|right_hand| 522| 542|"
   ]
  },
  {
   "cell_type": "code",
   "execution_count": 7,
   "id": "54b890d3",
   "metadata": {
    "ExecuteTime": {
     "end_time": "2023-03-02T23:40:51.117474Z",
     "start_time": "2023-03-02T23:40:50.608398Z"
    },
    "scrolled": true
   },
   "outputs": [
    {
     "name": "stdout",
     "output_type": "stream",
     "text": [
      "Model: \"model\"\n",
      "__________________________________________________________________________________________________\n",
      " Layer (type)                   Output Shape         Param #     Connected to                     \n",
      "==================================================================================================\n",
      " input_1 (InputLayer)           [(None, 543, 3)]     0           []                               \n",
      "                                                                                                  \n",
      " lambda (Lambda)                (None, 468, 3)       0           ['input_1[0][0]']                \n",
      "                                                                                                  \n",
      " lambda_1 (Lambda)              (None, 21, 3)        0           ['input_1[0][0]']                \n",
      "                                                                                                  \n",
      " lambda_4 (Lambda)              (None, 1, 3)         0           ['lambda[0][0]']                 \n",
      "                                                                                                  \n",
      " lambda_3 (Lambda)              (None, 21, 3)        0           ['input_1[0][0]']                \n",
      "                                                                                                  \n",
      " concatenate (Concatenate)      (None, 22, 3)        0           ['lambda_1[0][0]',               \n",
      "                                                                  'lambda_4[0][0]']               \n",
      "                                                                                                  \n",
      " concatenate_1 (Concatenate)    (None, 22, 3)        0           ['lambda_3[0][0]',               \n",
      "                                                                  'lambda_4[0][0]']               \n",
      "                                                                                                  \n",
      " batch_normalization (BatchNorm  (None, 22, 3)       12          ['concatenate[0][0]']            \n",
      " alization)                                                                                       \n",
      "                                                                                                  \n",
      " batch_normalization_1 (BatchNo  (None, 22, 3)       12          ['concatenate_1[0][0]']          \n",
      " rmalization)                                                                                     \n",
      "                                                                                                  \n",
      " dense (Dense)                  (None, 22, 64)       256         ['batch_normalization[0][0]']    \n",
      "                                                                                                  \n",
      " dense_3 (Dense)                (None, 22, 64)       256         ['batch_normalization_1[0][0]']  \n",
      "                                                                                                  \n",
      " dense_1 (Dense)                (None, 22, 64)       4160        ['dense[0][0]']                  \n",
      "                                                                                                  \n",
      " dense_4 (Dense)                (None, 22, 64)       4160        ['dense_3[0][0]']                \n",
      "                                                                                                  \n",
      " dropout (Dropout)              (None, 22, 64)       0           ['dense_1[0][0]']                \n",
      "                                                                                                  \n",
      " dropout_1 (Dropout)            (None, 22, 64)       0           ['dense_4[0][0]']                \n",
      "                                                                                                  \n",
      " dense_2 (Dense)                (None, 22, 128)      8320        ['dropout[0][0]']                \n",
      "                                                                                                  \n",
      " dense_5 (Dense)                (None, 22, 128)      8320        ['dropout_1[0][0]']              \n",
      "                                                                                                  \n",
      " concatenate_2 (Concatenate)    (None, 44, 128)      0           ['dense_2[0][0]',                \n",
      "                                                                  'dense_5[0][0]']                \n",
      "                                                                                                  \n",
      " batch_normalization_2 (BatchNo  (None, 44, 128)     512         ['concatenate_2[0][0]']          \n",
      " rmalization)                                                                                     \n",
      "                                                                                                  \n",
      " dense_6 (Dense)                (None, 44, 256)      33024       ['batch_normalization_2[0][0]']  \n",
      "                                                                                                  \n",
      " dense_7 (Dense)                (None, 44, 256)      65792       ['dense_6[0][0]']                \n",
      "                                                                                                  \n",
      " dropout_2 (Dropout)            (None, 44, 256)      0           ['dense_7[0][0]']                \n",
      "                                                                                                  \n",
      " dense_8 (Dense)                (None, 44, 128)      32896       ['dropout_2[0][0]']              \n",
      "                                                                                                  \n",
      " dense_9 (Dense)                (None, 44, 128)      16512       ['dense_8[0][0]']                \n",
      "                                                                                                  \n",
      " dropout_3 (Dropout)            (None, 44, 128)      0           ['dense_9[0][0]']                \n",
      "                                                                                                  \n",
      " lambda_2 (Lambda)              (None, 33, 3)        0           ['input_1[0][0]']                \n",
      "                                                                                                  \n",
      " dense_10 (Dense)               (None, 44, 64)       8256        ['dropout_3[0][0]']              \n",
      "                                                                                                  \n",
      " dense_11 (Dense)               (None, 33, 64)       256         ['lambda_2[0][0]']               \n",
      "                                                                                                  \n",
      " concatenate_3 (Concatenate)    (None, 77, 64)       0           ['dense_10[0][0]',               \n",
      "                                                                  'dense_11[0][0]']               \n",
      "                                                                                                  \n",
      " gru (GRU)                      (None, 77, 256)      247296      ['concatenate_3[0][0]']          \n",
      "                                                                                                  \n",
      " gru_1 (GRU)                    (None, 256)          394752      ['gru[0][0]']                    \n",
      "                                                                                                  \n",
      " dense_12 (Dense)               (None, 256)          65792       ['gru_1[0][0]']                  \n",
      "                                                                                                  \n",
      " dropout_4 (Dropout)            (None, 256)          0           ['dense_12[0][0]']               \n",
      "                                                                                                  \n",
      " dense_13 (Dense)               (None, 128)          32896       ['dropout_4[0][0]']              \n",
      "                                                                                                  \n",
      " dense_14 (Dense)               (None, 128)          16512       ['dense_13[0][0]']               \n",
      "                                                                                                  \n",
      " dropout_5 (Dropout)            (None, 128)          0           ['dense_14[0][0]']               \n",
      "                                                                                                  \n",
      " dense_15 (Dense)               (None, 64)           8256        ['dropout_5[0][0]']              \n"
     ]
    },
    {
     "name": "stdout",
     "output_type": "stream",
     "text": [
      "                                                                                                  \n",
      " dense_16 (Dense)               (None, 64)           4160        ['dense_15[0][0]']               \n",
      "                                                                                                  \n",
      " dropout_6 (Dropout)            (None, 64)           0           ['dense_16[0][0]']               \n",
      "                                                                                                  \n",
      " flatten (Flatten)              (None, 64)           0           ['dropout_6[0][0]']              \n",
      "                                                                                                  \n",
      " dense_17 (Dense)               (None, 250)          16250       ['flatten[0][0]']                \n",
      "                                                                                                  \n",
      "==================================================================================================\n",
      "Total params: 968,658\n",
      "Trainable params: 968,390\n",
      "Non-trainable params: 268\n",
      "__________________________________________________________________________________________________\n"
     ]
    }
   ],
   "source": [
    "N_FACE_PTS = 468\n",
    "N_HAND_PTS = 21\n",
    "N_POSE_PTS = 33\n",
    "N_DIMS = 3\n",
    "N_PTS = 543\n",
    "assert N_PTS == (N_FACE_PTS + 2*N_HAND_PTS + N_POSE_PTS)\n",
    "\n",
    "N_NEURONS_CONCAT = 128\n",
    "N_NEURONS_POSE = 64\n",
    "\n",
    "\n",
    "all_input = tf.keras.layers.Input(shape=(N_PTS,N_DIMS))\n",
    "# intermediate = tf.keras.layers.Reshape((500,1), input_shape=(500,))(intermediate)\n",
    "\n",
    "\n",
    "input_face = tf.keras.layers.Lambda(\n",
    "    lambda x: x[:, 0:468, :],\n",
    "    output_shape=(N_FACE_PTS, N_DIMS),\n",
    ")(all_input)\n",
    "input_left = tf.keras.layers.Lambda(\n",
    "    lambda x: x[:, 468:489, :],\n",
    "    output_shape=(N_HAND_PTS, N_DIMS),\n",
    ")(all_input)\n",
    "input_pose = tf.keras.layers.Lambda(\n",
    "    lambda x: x[:, 489:522, :],\n",
    "    output_shape=(N_HAND_PTS, N_DIMS),\n",
    ")(all_input)\n",
    "\n",
    "input_right = tf.keras.layers.Lambda(\n",
    "    lambda x: x[:, 522:, :],\n",
    "    output_shape=(N_POSE_PTS, N_DIMS),\n",
    ")(all_input)\n",
    "\n",
    "\n",
    "\n",
    "head_avg = tf.keras.layers.Lambda(\n",
    "    lambda x: tf.reduce_mean(x, axis=1, keepdims=True))(input_face)\n",
    "\n",
    "# Get just the left hand + avg head\n",
    "left_head_avg = tf.keras.layers.Concatenate(axis=1)([input_left, head_avg])\n",
    "left_head_avg = tf.keras.layers.BatchNormalization()(left_head_avg)\n",
    "left_head_avg = tf.keras.layers.Dense(64, activation='relu')(left_head_avg)\n",
    "left_head_avg = tf.keras.layers.Dense(64, activation='relu')(left_head_avg)\n",
    "left_head_avg = tf.keras.layers.Dropout(0.2)(left_head_avg)\n",
    "left_head_avg = tf.keras.layers.Dense(N_NEURONS_CONCAT, activation='relu')(left_head_avg)\n",
    "\n",
    "# Get just the right hand + avg head\n",
    "right_head_avg = tf.keras.layers.Concatenate(axis=1)([input_right, head_avg])\n",
    "right_head_avg = tf.keras.layers.BatchNormalization()(right_head_avg)\n",
    "right_head_avg = tf.keras.layers.Dense(64, activation='relu')(right_head_avg)\n",
    "right_head_avg = tf.keras.layers.Dense(64, activation='relu')(right_head_avg)\n",
    "right_head_avg = tf.keras.layers.Dropout(0.2)(right_head_avg)\n",
    "right_head_avg = tf.keras.layers.Dense(N_NEURONS_CONCAT, activation='relu')(right_head_avg)\n",
    "\n",
    "# Determine if dominant\n",
    "hands_combo = tf.keras.layers.Concatenate(axis=1)(\n",
    "    [left_head_avg, right_head_avg,]\n",
    ")\n",
    "hands_combo = tf.keras.layers.BatchNormalization()(hands_combo)\n",
    "hands_combo = tf.keras.layers.Dense(256, activation='relu')(hands_combo)\n",
    "hands_combo = tf.keras.layers.Dense(256, activation='relu')(hands_combo)\n",
    "hands_combo = tf.keras.layers.Dropout(0.2)(hands_combo)\n",
    "hands_combo = tf.keras.layers.Dense(128, activation='relu')(hands_combo)\n",
    "hands_combo = tf.keras.layers.Dense(128, activation='relu')(hands_combo)\n",
    "hands_combo = tf.keras.layers.Dropout(0.2)(hands_combo)\n",
    "hands_combo = tf.keras.layers.Dense(N_NEURONS_POSE, activation='relu')(hands_combo)\n",
    "\n",
    "# Pose\n",
    "pose_process = tf.keras.layers.Dense(N_NEURONS_POSE, activation='relu')(input_pose)\n",
    "\n",
    "#\n",
    "x = tf.keras.layers.Concatenate(axis=1)(\n",
    "    [hands_combo, pose_process]\n",
    ")\n",
    "x = tf.keras.layers.GRU(256, return_sequences=True)(x)\n",
    "x = tf.keras.layers.GRU(256,)(x)\n",
    "x = tf.keras.layers.Dense(256, activation='relu')(x)\n",
    "x = tf.keras.layers.Dropout(0.4)(x)\n",
    "x = tf.keras.layers.Dense(128, activation='relu')(x)\n",
    "x = tf.keras.layers.Dense(128, activation='relu')(x)\n",
    "x = tf.keras.layers.Dropout(0.2)(x)\n",
    "x = tf.keras.layers.Dense(64, activation='relu')(x)\n",
    "x = tf.keras.layers.Dense(64, activation='relu')(x)\n",
    "x = tf.keras.layers.Dropout(0.2)(x)\n",
    "x = tf.keras.layers.Flatten()(x)\n",
    "out = tf.keras.layers.Dense(250, activation='softmax')(x)\n",
    "\n",
    "model = tf.keras.models.Model(\n",
    "    inputs=[\n",
    "        all_input,\n",
    "    ],\n",
    "    outputs=out,\n",
    ")\n",
    "\n",
    "\n",
    "model.compile(\n",
    "    loss=tf.keras.losses.SparseCategoricalCrossentropy(), \n",
    "    metrics=[\n",
    "        \"accuracy\",\n",
    "        tf.keras.metrics.SparseTopKCategoricalAccuracy(k=5, name=\"top-05-acc\"),\n",
    "        tf.keras.metrics.SparseTopKCategoricalAccuracy(k=10, name=\"top-10-acc\"),\n",
    "    ]\n",
    ")\n",
    "\n",
    "model.summary()"
   ]
  },
  {
   "cell_type": "code",
   "execution_count": 8,
   "id": "4e8ce67b",
   "metadata": {
    "ExecuteTime": {
     "end_time": "2023-03-02T23:47:45.064412Z",
     "start_time": "2023-03-02T23:40:51.118432Z"
    },
    "scrolled": true
   },
   "outputs": [
    {
     "name": "stdout",
     "output_type": "stream",
     "text": [
      "Epoch 1/500\n"
     ]
    },
    {
     "name": "stderr",
     "output_type": "stream",
     "text": [
      "2023-03-02 15:40:55.198371: I tensorflow/stream_executor/cuda/cuda_blas.cc:1614] TensorFloat-32 will be used for the matrix multiplication. This will only be logged once.\n",
      "2023-03-02 15:40:55.680577: I tensorflow/stream_executor/cuda/cuda_dnn.cc:384] Loaded cuDNN version 8100\n"
     ]
    },
    {
     "name": "stdout",
     "output_type": "stream",
     "text": [
      "148/148 [==============================] - 9s 34ms/step - loss: 5.5220 - accuracy: 0.0042 - top-05-acc: 0.0196 - top-10-acc: 0.0389 - val_loss: 5.5210 - val_accuracy: 0.0046 - val_top-05-acc: 0.0213 - val_top-10-acc: 0.0436\n",
      "Epoch 2/500\n",
      "148/148 [==============================] - 4s 29ms/step - loss: 5.5214 - accuracy: 0.0039 - top-05-acc: 0.0192 - top-10-acc: 0.0387 - val_loss: 5.5205 - val_accuracy: 0.0044 - val_top-05-acc: 0.0208 - val_top-10-acc: 0.0433\n",
      "Epoch 3/500\n",
      "148/148 [==============================] - 4s 29ms/step - loss: 5.5207 - accuracy: 0.0045 - top-05-acc: 0.0213 - top-10-acc: 0.0414 - val_loss: 5.5186 - val_accuracy: 0.0046 - val_top-05-acc: 0.0219 - val_top-10-acc: 0.0428\n",
      "Epoch 4/500\n",
      "148/148 [==============================] - 4s 29ms/step - loss: 5.5075 - accuracy: 0.0055 - top-05-acc: 0.0250 - top-10-acc: 0.0500 - val_loss: 5.4946 - val_accuracy: 0.0060 - val_top-05-acc: 0.0284 - val_top-10-acc: 0.0548\n",
      "Epoch 5/500\n",
      "148/148 [==============================] - 4s 29ms/step - loss: 5.4422 - accuracy: 0.0070 - top-05-acc: 0.0326 - top-10-acc: 0.0637 - val_loss: 5.4003 - val_accuracy: 0.0071 - val_top-05-acc: 0.0367 - val_top-10-acc: 0.0705\n",
      "Epoch 6/500\n",
      "148/148 [==============================] - 4s 29ms/step - loss: 5.3737 - accuracy: 0.0078 - top-05-acc: 0.0380 - top-10-acc: 0.0750 - val_loss: 5.3245 - val_accuracy: 0.0094 - val_top-05-acc: 0.0460 - val_top-10-acc: 0.0870\n",
      "Epoch 7/500\n",
      "148/148 [==============================] - 4s 28ms/step - loss: 5.3121 - accuracy: 0.0093 - top-05-acc: 0.0445 - top-10-acc: 0.0880 - val_loss: 5.3324 - val_accuracy: 0.0111 - val_top-05-acc: 0.0494 - val_top-10-acc: 0.0972\n",
      "Epoch 8/500\n",
      "148/148 [==============================] - 4s 28ms/step - loss: 5.2480 - accuracy: 0.0111 - top-05-acc: 0.0544 - top-10-acc: 0.1029 - val_loss: 5.1742 - val_accuracy: 0.0164 - val_top-05-acc: 0.0663 - val_top-10-acc: 0.1264\n",
      "Epoch 9/500\n",
      "148/148 [==============================] - 4s 28ms/step - loss: 5.1683 - accuracy: 0.0134 - top-05-acc: 0.0653 - top-10-acc: 0.1234 - val_loss: 5.0927 - val_accuracy: 0.0147 - val_top-05-acc: 0.0726 - val_top-10-acc: 0.1379\n",
      "Epoch 10/500\n",
      "148/148 [==============================] - 4s 28ms/step - loss: 5.0777 - accuracy: 0.0164 - top-05-acc: 0.0773 - top-10-acc: 0.1450 - val_loss: 4.9665 - val_accuracy: 0.0217 - val_top-05-acc: 0.0967 - val_top-10-acc: 0.1746\n",
      "Epoch 11/500\n",
      "148/148 [==============================] - 4s 28ms/step - loss: 5.0067 - accuracy: 0.0195 - top-05-acc: 0.0908 - top-10-acc: 0.1683 - val_loss: 4.8679 - val_accuracy: 0.0264 - val_top-05-acc: 0.1148 - val_top-10-acc: 0.2081\n",
      "Epoch 12/500\n",
      "148/148 [==============================] - 4s 29ms/step - loss: 4.9328 - accuracy: 0.0228 - top-05-acc: 0.1023 - top-10-acc: 0.1876 - val_loss: 4.8512 - val_accuracy: 0.0280 - val_top-05-acc: 0.1271 - val_top-10-acc: 0.2214\n",
      "Epoch 13/500\n",
      "148/148 [==============================] - 4s 29ms/step - loss: 4.8620 - accuracy: 0.0259 - top-05-acc: 0.1166 - top-10-acc: 0.2085 - val_loss: 4.7196 - val_accuracy: 0.0357 - val_top-05-acc: 0.1409 - val_top-10-acc: 0.2481\n",
      "Epoch 14/500\n",
      "148/148 [==============================] - 4s 29ms/step - loss: 4.7963 - accuracy: 0.0299 - top-05-acc: 0.1292 - top-10-acc: 0.2264 - val_loss: 4.6430 - val_accuracy: 0.0409 - val_top-05-acc: 0.1645 - val_top-10-acc: 0.2782\n",
      "Epoch 15/500\n",
      "148/148 [==============================] - 4s 29ms/step - loss: 4.7236 - accuracy: 0.0346 - top-05-acc: 0.1466 - top-10-acc: 0.2520 - val_loss: 4.6773 - val_accuracy: 0.0438 - val_top-05-acc: 0.1690 - val_top-10-acc: 0.2801\n",
      "Epoch 16/500\n",
      "148/148 [==============================] - 4s 28ms/step - loss: 4.6550 - accuracy: 0.0421 - top-05-acc: 0.1639 - top-10-acc: 0.2748 - val_loss: 4.5611 - val_accuracy: 0.0493 - val_top-05-acc: 0.1878 - val_top-10-acc: 0.3036\n",
      "Epoch 17/500\n",
      "148/148 [==============================] - 4s 29ms/step - loss: 4.5854 - accuracy: 0.0460 - top-05-acc: 0.1826 - top-10-acc: 0.3016 - val_loss: 4.4295 - val_accuracy: 0.0578 - val_top-05-acc: 0.2185 - val_top-10-acc: 0.3492\n",
      "Epoch 18/500\n",
      "148/148 [==============================] - 4s 29ms/step - loss: 4.5065 - accuracy: 0.0528 - top-05-acc: 0.2005 - top-10-acc: 0.3267 - val_loss: 4.3396 - val_accuracy: 0.0719 - val_top-05-acc: 0.2429 - val_top-10-acc: 0.3806\n",
      "Epoch 19/500\n",
      "148/148 [==============================] - 4s 29ms/step - loss: 4.4304 - accuracy: 0.0605 - top-05-acc: 0.2228 - top-10-acc: 0.3540 - val_loss: 4.3059 - val_accuracy: 0.0736 - val_top-05-acc: 0.2551 - val_top-10-acc: 0.3897\n",
      "Epoch 20/500\n",
      "148/148 [==============================] - 4s 29ms/step - loss: 4.3510 - accuracy: 0.0667 - top-05-acc: 0.2421 - top-10-acc: 0.3779 - val_loss: 4.2695 - val_accuracy: 0.0821 - val_top-05-acc: 0.2684 - val_top-10-acc: 0.4021\n",
      "Epoch 21/500\n",
      "148/148 [==============================] - 4s 29ms/step - loss: 4.2778 - accuracy: 0.0746 - top-05-acc: 0.2632 - top-10-acc: 0.4002 - val_loss: 4.0761 - val_accuracy: 0.0988 - val_top-05-acc: 0.3163 - val_top-10-acc: 0.4616\n",
      "Epoch 22/500\n",
      "148/148 [==============================] - 4s 29ms/step - loss: 4.1949 - accuracy: 0.0853 - top-05-acc: 0.2857 - top-10-acc: 0.4261 - val_loss: 4.1244 - val_accuracy: 0.0950 - val_top-05-acc: 0.3076 - val_top-10-acc: 0.4488\n",
      "Epoch 23/500\n",
      "148/148 [==============================] - 4s 29ms/step - loss: 4.1273 - accuracy: 0.0934 - top-05-acc: 0.3054 - top-10-acc: 0.4460 - val_loss: 3.9965 - val_accuracy: 0.1130 - val_top-05-acc: 0.3384 - val_top-10-acc: 0.4823\n",
      "Epoch 24/500\n",
      "148/148 [==============================] - 4s 29ms/step - loss: 4.0469 - accuracy: 0.1026 - top-05-acc: 0.3236 - top-10-acc: 0.4698 - val_loss: 3.9006 - val_accuracy: 0.1234 - val_top-05-acc: 0.3670 - val_top-10-acc: 0.5070\n",
      "Epoch 25/500\n",
      "148/148 [==============================] - 4s 29ms/step - loss: 3.9712 - accuracy: 0.1119 - top-05-acc: 0.3462 - top-10-acc: 0.4923 - val_loss: 3.7780 - val_accuracy: 0.1420 - val_top-05-acc: 0.4000 - val_top-10-acc: 0.5428\n",
      "Epoch 26/500\n",
      "148/148 [==============================] - 4s 29ms/step - loss: 3.8959 - accuracy: 0.1230 - top-05-acc: 0.3665 - top-10-acc: 0.5132 - val_loss: 3.7406 - val_accuracy: 0.1500 - val_top-05-acc: 0.4155 - val_top-10-acc: 0.5608\n",
      "Epoch 27/500\n",
      "148/148 [==============================] - 4s 29ms/step - loss: 3.8336 - accuracy: 0.1303 - top-05-acc: 0.3851 - top-10-acc: 0.5322 - val_loss: 3.7582 - val_accuracy: 0.1465 - val_top-05-acc: 0.4038 - val_top-10-acc: 0.5496\n",
      "Epoch 28/500\n",
      "148/148 [==============================] - 4s 29ms/step - loss: 3.7691 - accuracy: 0.1408 - top-05-acc: 0.4020 - top-10-acc: 0.5491 - val_loss: 3.6934 - val_accuracy: 0.1559 - val_top-05-acc: 0.4258 - val_top-10-acc: 0.5732\n",
      "Epoch 29/500\n",
      "148/148 [==============================] - 4s 28ms/step - loss: 3.7106 - accuracy: 0.1482 - top-05-acc: 0.4144 - top-10-acc: 0.5622 - val_loss: 3.6165 - val_accuracy: 0.1676 - val_top-05-acc: 0.4387 - val_top-10-acc: 0.5812\n",
      "Epoch 30/500\n",
      "148/148 [==============================] - 4s 29ms/step - loss: 3.6586 - accuracy: 0.1548 - top-05-acc: 0.4286 - top-10-acc: 0.5755 - val_loss: 3.6097 - val_accuracy: 0.1701 - val_top-05-acc: 0.4456 - val_top-10-acc: 0.5903\n",
      "Epoch 31/500\n",
      "148/148 [==============================] - 4s 29ms/step - loss: 3.6160 - accuracy: 0.1642 - top-05-acc: 0.4415 - top-10-acc: 0.5868 - val_loss: 3.4764 - val_accuracy: 0.1914 - val_top-05-acc: 0.4793 - val_top-10-acc: 0.6172\n",
      "Epoch 32/500\n",
      "148/148 [==============================] - 4s 29ms/step - loss: 3.5677 - accuracy: 0.1698 - top-05-acc: 0.4531 - top-10-acc: 0.5980 - val_loss: 3.5163 - val_accuracy: 0.1776 - val_top-05-acc: 0.4648 - val_top-10-acc: 0.6090\n",
      "Epoch 33/500\n",
      "148/148 [==============================] - 4s 29ms/step - loss: 3.5246 - accuracy: 0.1741 - top-05-acc: 0.4646 - top-10-acc: 0.6077 - val_loss: 3.4260 - val_accuracy: 0.1979 - val_top-05-acc: 0.4948 - val_top-10-acc: 0.6337\n",
      "Epoch 34/500\n",
      "148/148 [==============================] - 4s 29ms/step - loss: 3.4823 - accuracy: 0.1847 - top-05-acc: 0.4730 - top-10-acc: 0.6169 - val_loss: 3.3880 - val_accuracy: 0.2055 - val_top-05-acc: 0.4953 - val_top-10-acc: 0.6346\n",
      "Epoch 35/500\n",
      "148/148 [==============================] - 4s 29ms/step - loss: 3.4423 - accuracy: 0.1904 - top-05-acc: 0.4854 - top-10-acc: 0.6251 - val_loss: 3.4011 - val_accuracy: 0.2072 - val_top-05-acc: 0.4932 - val_top-10-acc: 0.6344\n"
     ]
    },
    {
     "name": "stdout",
     "output_type": "stream",
     "text": [
      "Epoch 36/500\n",
      "148/148 [==============================] - 4s 29ms/step - loss: 3.4042 - accuracy: 0.1957 - top-05-acc: 0.4933 - top-10-acc: 0.6345 - val_loss: 3.3105 - val_accuracy: 0.2168 - val_top-05-acc: 0.5178 - val_top-10-acc: 0.6542\n",
      "Epoch 37/500\n",
      "148/148 [==============================] - 4s 29ms/step - loss: 3.3745 - accuracy: 0.2016 - top-05-acc: 0.5005 - top-10-acc: 0.6399 - val_loss: 3.3073 - val_accuracy: 0.2178 - val_top-05-acc: 0.5204 - val_top-10-acc: 0.6520\n",
      "Epoch 38/500\n",
      "148/148 [==============================] - 4s 29ms/step - loss: 3.3362 - accuracy: 0.2085 - top-05-acc: 0.5111 - top-10-acc: 0.6496 - val_loss: 3.2742 - val_accuracy: 0.2264 - val_top-05-acc: 0.5252 - val_top-10-acc: 0.6587\n",
      "Epoch 39/500\n",
      "148/148 [==============================] - 4s 29ms/step - loss: 3.2922 - accuracy: 0.2152 - top-05-acc: 0.5180 - top-10-acc: 0.6564 - val_loss: 3.2692 - val_accuracy: 0.2307 - val_top-05-acc: 0.5299 - val_top-10-acc: 0.6634\n",
      "Epoch 40/500\n",
      "148/148 [==============================] - 4s 29ms/step - loss: 3.2659 - accuracy: 0.2186 - top-05-acc: 0.5249 - top-10-acc: 0.6619 - val_loss: 3.2408 - val_accuracy: 0.2323 - val_top-05-acc: 0.5340 - val_top-10-acc: 0.6722\n",
      "Epoch 41/500\n",
      "148/148 [==============================] - 4s 29ms/step - loss: 3.2249 - accuracy: 0.2262 - top-05-acc: 0.5348 - top-10-acc: 0.6706 - val_loss: 3.2407 - val_accuracy: 0.2420 - val_top-05-acc: 0.5426 - val_top-10-acc: 0.6723\n",
      "Epoch 42/500\n",
      "148/148 [==============================] - 4s 29ms/step - loss: 3.1962 - accuracy: 0.2328 - top-05-acc: 0.5421 - top-10-acc: 0.6767 - val_loss: 3.3153 - val_accuracy: 0.2230 - val_top-05-acc: 0.5146 - val_top-10-acc: 0.6515\n",
      "Epoch 43/500\n",
      "148/148 [==============================] - 4s 29ms/step - loss: 3.1667 - accuracy: 0.2373 - top-05-acc: 0.5485 - top-10-acc: 0.6815 - val_loss: 3.1496 - val_accuracy: 0.2536 - val_top-05-acc: 0.5563 - val_top-10-acc: 0.6876\n",
      "Epoch 44/500\n",
      "148/148 [==============================] - 4s 29ms/step - loss: 3.1413 - accuracy: 0.2428 - top-05-acc: 0.5531 - top-10-acc: 0.6868 - val_loss: 3.0892 - val_accuracy: 0.2645 - val_top-05-acc: 0.5674 - val_top-10-acc: 0.7003\n",
      "Epoch 45/500\n",
      "148/148 [==============================] - 4s 28ms/step - loss: 3.1067 - accuracy: 0.2484 - top-05-acc: 0.5613 - top-10-acc: 0.6940 - val_loss: 3.1011 - val_accuracy: 0.2651 - val_top-05-acc: 0.5677 - val_top-10-acc: 0.6946\n",
      "Epoch 46/500\n",
      "148/148 [==============================] - 4s 29ms/step - loss: 3.0772 - accuracy: 0.2536 - top-05-acc: 0.5685 - top-10-acc: 0.6982 - val_loss: 3.1218 - val_accuracy: 0.2616 - val_top-05-acc: 0.5639 - val_top-10-acc: 0.6935\n",
      "Epoch 47/500\n",
      "148/148 [==============================] - 4s 28ms/step - loss: 3.0596 - accuracy: 0.2575 - top-05-acc: 0.5738 - top-10-acc: 0.7027 - val_loss: 3.0413 - val_accuracy: 0.2737 - val_top-05-acc: 0.5786 - val_top-10-acc: 0.7067\n",
      "Epoch 48/500\n",
      "148/148 [==============================] - 4s 28ms/step - loss: 3.0258 - accuracy: 0.2639 - top-05-acc: 0.5810 - top-10-acc: 0.7096 - val_loss: 3.0161 - val_accuracy: 0.2824 - val_top-05-acc: 0.5862 - val_top-10-acc: 0.7059\n",
      "Epoch 49/500\n",
      "148/148 [==============================] - 4s 29ms/step - loss: 3.0011 - accuracy: 0.2691 - top-05-acc: 0.5868 - top-10-acc: 0.7136 - val_loss: 3.0314 - val_accuracy: 0.2726 - val_top-05-acc: 0.5832 - val_top-10-acc: 0.7098\n",
      "Epoch 50/500\n",
      "148/148 [==============================] - 4s 29ms/step - loss: 2.9751 - accuracy: 0.2720 - top-05-acc: 0.5908 - top-10-acc: 0.7174 - val_loss: 3.0854 - val_accuracy: 0.2691 - val_top-05-acc: 0.5696 - val_top-10-acc: 0.6948\n",
      "Epoch 51/500\n",
      "148/148 [==============================] - 4s 29ms/step - loss: 2.9460 - accuracy: 0.2784 - top-05-acc: 0.5965 - top-10-acc: 0.7215 - val_loss: 3.0096 - val_accuracy: 0.2860 - val_top-05-acc: 0.5848 - val_top-10-acc: 0.7059\n",
      "Epoch 52/500\n",
      "148/148 [==============================] - 4s 29ms/step - loss: 2.9260 - accuracy: 0.2844 - top-05-acc: 0.6002 - top-10-acc: 0.7253 - val_loss: 3.0982 - val_accuracy: 0.2668 - val_top-05-acc: 0.5686 - val_top-10-acc: 0.6946\n",
      "Epoch 53/500\n",
      "148/148 [==============================] - 4s 29ms/step - loss: 2.9016 - accuracy: 0.2911 - top-05-acc: 0.6073 - top-10-acc: 0.7293 - val_loss: 2.9798 - val_accuracy: 0.2833 - val_top-05-acc: 0.5955 - val_top-10-acc: 0.7168\n",
      "Epoch 54/500\n",
      "148/148 [==============================] - 4s 29ms/step - loss: 2.8795 - accuracy: 0.2913 - top-05-acc: 0.6095 - top-10-acc: 0.7330 - val_loss: 2.9529 - val_accuracy: 0.2964 - val_top-05-acc: 0.5985 - val_top-10-acc: 0.7175\n",
      "Epoch 55/500\n",
      "148/148 [==============================] - 4s 28ms/step - loss: 2.8569 - accuracy: 0.2983 - top-05-acc: 0.6146 - top-10-acc: 0.7361 - val_loss: 2.9777 - val_accuracy: 0.2919 - val_top-05-acc: 0.5946 - val_top-10-acc: 0.7171\n",
      "Epoch 56/500\n",
      "148/148 [==============================] - 4s 29ms/step - loss: 2.8312 - accuracy: 0.3027 - top-05-acc: 0.6189 - top-10-acc: 0.7390 - val_loss: 2.9821 - val_accuracy: 0.2907 - val_top-05-acc: 0.5932 - val_top-10-acc: 0.7142\n",
      "Epoch 57/500\n",
      "148/148 [==============================] - 4s 29ms/step - loss: 2.8117 - accuracy: 0.3063 - top-05-acc: 0.6255 - top-10-acc: 0.7444 - val_loss: 2.8961 - val_accuracy: 0.3051 - val_top-05-acc: 0.6140 - val_top-10-acc: 0.7289\n",
      "Epoch 58/500\n",
      "148/148 [==============================] - 4s 29ms/step - loss: 2.7959 - accuracy: 0.3091 - top-05-acc: 0.6290 - top-10-acc: 0.7450 - val_loss: 2.9140 - val_accuracy: 0.3045 - val_top-05-acc: 0.6122 - val_top-10-acc: 0.7291\n",
      "Epoch 59/500\n",
      "148/148 [==============================] - 4s 29ms/step - loss: 2.7751 - accuracy: 0.3142 - top-05-acc: 0.6328 - top-10-acc: 0.7483 - val_loss: 2.8775 - val_accuracy: 0.3138 - val_top-05-acc: 0.6217 - val_top-10-acc: 0.7362\n",
      "Epoch 60/500\n",
      "148/148 [==============================] - 4s 28ms/step - loss: 2.7552 - accuracy: 0.3181 - top-05-acc: 0.6343 - top-10-acc: 0.7508 - val_loss: 2.9415 - val_accuracy: 0.3019 - val_top-05-acc: 0.6020 - val_top-10-acc: 0.7229\n",
      "Epoch 61/500\n",
      "148/148 [==============================] - 4s 28ms/step - loss: 2.7300 - accuracy: 0.3212 - top-05-acc: 0.6393 - top-10-acc: 0.7560 - val_loss: 3.0275 - val_accuracy: 0.2864 - val_top-05-acc: 0.5856 - val_top-10-acc: 0.7070\n",
      "Epoch 62/500\n",
      "148/148 [==============================] - 4s 29ms/step - loss: 2.7133 - accuracy: 0.3286 - top-05-acc: 0.6436 - top-10-acc: 0.7570 - val_loss: 2.8495 - val_accuracy: 0.3185 - val_top-05-acc: 0.6221 - val_top-10-acc: 0.7391\n",
      "Epoch 63/500\n",
      "148/148 [==============================] - 4s 29ms/step - loss: 2.6886 - accuracy: 0.3330 - top-05-acc: 0.6475 - top-10-acc: 0.7613 - val_loss: 2.8816 - val_accuracy: 0.3126 - val_top-05-acc: 0.6212 - val_top-10-acc: 0.7343\n",
      "Epoch 64/500\n",
      "148/148 [==============================] - 4s 29ms/step - loss: 2.6765 - accuracy: 0.3330 - top-05-acc: 0.6517 - top-10-acc: 0.7626 - val_loss: 2.9937 - val_accuracy: 0.2930 - val_top-05-acc: 0.5956 - val_top-10-acc: 0.7161\n",
      "Epoch 65/500\n",
      "148/148 [==============================] - 4s 29ms/step - loss: 2.6541 - accuracy: 0.3369 - top-05-acc: 0.6551 - top-10-acc: 0.7646 - val_loss: 2.8527 - val_accuracy: 0.3246 - val_top-05-acc: 0.6247 - val_top-10-acc: 0.7345\n",
      "Epoch 66/500\n",
      "148/148 [==============================] - 4s 29ms/step - loss: 2.6416 - accuracy: 0.3421 - top-05-acc: 0.6590 - top-10-acc: 0.7679 - val_loss: 2.8980 - val_accuracy: 0.3160 - val_top-05-acc: 0.6190 - val_top-10-acc: 0.7344\n",
      "Epoch 67/500\n",
      "148/148 [==============================] - 4s 29ms/step - loss: 2.6252 - accuracy: 0.3437 - top-05-acc: 0.6611 - top-10-acc: 0.7711 - val_loss: 2.8757 - val_accuracy: 0.3213 - val_top-05-acc: 0.6244 - val_top-10-acc: 0.7358\n",
      "Epoch 68/500\n",
      "148/148 [==============================] - 4s 28ms/step - loss: 2.6009 - accuracy: 0.3464 - top-05-acc: 0.6643 - top-10-acc: 0.7728 - val_loss: 2.8230 - val_accuracy: 0.3294 - val_top-05-acc: 0.6310 - val_top-10-acc: 0.7400\n",
      "Epoch 69/500\n",
      "148/148 [==============================] - 4s 29ms/step - loss: 2.5893 - accuracy: 0.3516 - top-05-acc: 0.6658 - top-10-acc: 0.7748 - val_loss: 2.7882 - val_accuracy: 0.3396 - val_top-05-acc: 0.6375 - val_top-10-acc: 0.7477\n",
      "Epoch 70/500\n"
     ]
    },
    {
     "name": "stdout",
     "output_type": "stream",
     "text": [
      "148/148 [==============================] - 4s 29ms/step - loss: 2.5691 - accuracy: 0.3547 - top-05-acc: 0.6696 - top-10-acc: 0.7776 - val_loss: 2.8996 - val_accuracy: 0.3122 - val_top-05-acc: 0.6124 - val_top-10-acc: 0.7292\n",
      "Epoch 71/500\n",
      "148/148 [==============================] - 4s 28ms/step - loss: 2.5593 - accuracy: 0.3578 - top-05-acc: 0.6716 - top-10-acc: 0.7786 - val_loss: 2.8805 - val_accuracy: 0.3172 - val_top-05-acc: 0.6192 - val_top-10-acc: 0.7303\n",
      "Epoch 72/500\n",
      "148/148 [==============================] - 4s 28ms/step - loss: 2.5455 - accuracy: 0.3603 - top-05-acc: 0.6769 - top-10-acc: 0.7807 - val_loss: 2.8090 - val_accuracy: 0.3317 - val_top-05-acc: 0.6346 - val_top-10-acc: 0.7440\n",
      "Epoch 73/500\n",
      "148/148 [==============================] - 4s 28ms/step - loss: 2.5197 - accuracy: 0.3655 - top-05-acc: 0.6822 - top-10-acc: 0.7840 - val_loss: 2.8673 - val_accuracy: 0.3253 - val_top-05-acc: 0.6261 - val_top-10-acc: 0.7372\n",
      "Epoch 74/500\n",
      "148/148 [==============================] - 4s 28ms/step - loss: 2.5144 - accuracy: 0.3652 - top-05-acc: 0.6811 - top-10-acc: 0.7865 - val_loss: 2.8203 - val_accuracy: 0.3307 - val_top-05-acc: 0.6301 - val_top-10-acc: 0.7403\n",
      "Epoch 75/500\n",
      "148/148 [==============================] - 4s 29ms/step - loss: 2.4998 - accuracy: 0.3703 - top-05-acc: 0.6840 - top-10-acc: 0.7877 - val_loss: 2.8960 - val_accuracy: 0.3209 - val_top-05-acc: 0.6203 - val_top-10-acc: 0.7349\n",
      "Epoch 76/500\n",
      "148/148 [==============================] - 4s 29ms/step - loss: 2.4883 - accuracy: 0.3726 - top-05-acc: 0.6882 - top-10-acc: 0.7899 - val_loss: 2.7967 - val_accuracy: 0.3397 - val_top-05-acc: 0.6390 - val_top-10-acc: 0.7485\n",
      "Epoch 77/500\n",
      "148/148 [==============================] - 4s 29ms/step - loss: 2.4661 - accuracy: 0.3748 - top-05-acc: 0.6905 - top-10-acc: 0.7923 - val_loss: 2.8631 - val_accuracy: 0.3283 - val_top-05-acc: 0.6279 - val_top-10-acc: 0.7384\n",
      "Epoch 78/500\n",
      "148/148 [==============================] - 4s 29ms/step - loss: 2.4554 - accuracy: 0.3799 - top-05-acc: 0.6915 - top-10-acc: 0.7918 - val_loss: 2.8234 - val_accuracy: 0.3325 - val_top-05-acc: 0.6329 - val_top-10-acc: 0.7422\n",
      "Epoch 79/500\n",
      "148/148 [==============================] - 4s 28ms/step - loss: 2.4351 - accuracy: 0.3822 - top-05-acc: 0.6960 - top-10-acc: 0.7958 - val_loss: 2.8948 - val_accuracy: 0.3265 - val_top-05-acc: 0.6237 - val_top-10-acc: 0.7340\n",
      "Epoch 80/500\n",
      "148/148 [==============================] - 4s 29ms/step - loss: 2.4325 - accuracy: 0.3858 - top-05-acc: 0.6970 - top-10-acc: 0.7963 - val_loss: 2.8411 - val_accuracy: 0.3416 - val_top-05-acc: 0.6307 - val_top-10-acc: 0.7407\n",
      "Epoch 81/500\n",
      "148/148 [==============================] - 4s 29ms/step - loss: 2.4132 - accuracy: 0.3892 - top-05-acc: 0.7009 - top-10-acc: 0.7976 - val_loss: 2.7894 - val_accuracy: 0.3413 - val_top-05-acc: 0.6381 - val_top-10-acc: 0.7451\n",
      "Epoch 82/500\n",
      "148/148 [==============================] - 4s 29ms/step - loss: 2.3933 - accuracy: 0.3932 - top-05-acc: 0.7032 - top-10-acc: 0.8015 - val_loss: 2.8764 - val_accuracy: 0.3204 - val_top-05-acc: 0.6193 - val_top-10-acc: 0.7343\n",
      "Epoch 83/500\n",
      "148/148 [==============================] - 4s 29ms/step - loss: 2.3885 - accuracy: 0.3919 - top-05-acc: 0.7042 - top-10-acc: 0.7998 - val_loss: 2.9030 - val_accuracy: 0.3259 - val_top-05-acc: 0.6246 - val_top-10-acc: 0.7322\n",
      "Epoch 84/500\n",
      "148/148 [==============================] - 4s 29ms/step - loss: 2.3716 - accuracy: 0.3976 - top-05-acc: 0.7078 - top-10-acc: 0.8050 - val_loss: 2.7916 - val_accuracy: 0.3428 - val_top-05-acc: 0.6420 - val_top-10-acc: 0.7462\n",
      "Epoch 85/500\n",
      "148/148 [==============================] - 4s 30ms/step - loss: 2.3622 - accuracy: 0.4000 - top-05-acc: 0.7087 - top-10-acc: 0.8062 - val_loss: 2.8496 - val_accuracy: 0.3369 - val_top-05-acc: 0.6371 - val_top-10-acc: 0.7414\n",
      "Epoch 86/500\n",
      "148/148 [==============================] - 4s 29ms/step - loss: 2.3519 - accuracy: 0.4013 - top-05-acc: 0.7122 - top-10-acc: 0.8067 - val_loss: 2.8272 - val_accuracy: 0.3414 - val_top-05-acc: 0.6355 - val_top-10-acc: 0.7477\n",
      "Epoch 87/500\n",
      "148/148 [==============================] - 4s 29ms/step - loss: 2.3315 - accuracy: 0.4071 - top-05-acc: 0.7151 - top-10-acc: 0.8090 - val_loss: 2.8156 - val_accuracy: 0.3402 - val_top-05-acc: 0.6439 - val_top-10-acc: 0.7476\n",
      "Epoch 88/500\n",
      "148/148 [==============================] - 4s 29ms/step - loss: 2.3321 - accuracy: 0.4032 - top-05-acc: 0.7144 - top-10-acc: 0.8086 - val_loss: 2.7689 - val_accuracy: 0.3532 - val_top-05-acc: 0.6469 - val_top-10-acc: 0.7524\n",
      "Epoch 89/500\n",
      "148/148 [==============================] - 4s 28ms/step - loss: 2.3073 - accuracy: 0.4096 - top-05-acc: 0.7182 - top-10-acc: 0.8124 - val_loss: 2.8423 - val_accuracy: 0.3396 - val_top-05-acc: 0.6369 - val_top-10-acc: 0.7435\n",
      "Epoch 90/500\n",
      "148/148 [==============================] - 4s 28ms/step - loss: 2.3056 - accuracy: 0.4111 - top-05-acc: 0.7180 - top-10-acc: 0.8128 - val_loss: 2.8924 - val_accuracy: 0.3340 - val_top-05-acc: 0.6299 - val_top-10-acc: 0.7363\n",
      "Epoch 91/500\n",
      "148/148 [==============================] - 4s 28ms/step - loss: 2.2922 - accuracy: 0.4147 - top-05-acc: 0.7218 - top-10-acc: 0.8141 - val_loss: 2.8294 - val_accuracy: 0.3385 - val_top-05-acc: 0.6345 - val_top-10-acc: 0.7446\n",
      "Epoch 92/500\n",
      "148/148 [==============================] - 4s 28ms/step - loss: 2.2749 - accuracy: 0.4176 - top-05-acc: 0.7247 - top-10-acc: 0.8157 - val_loss: 2.8530 - val_accuracy: 0.3455 - val_top-05-acc: 0.6408 - val_top-10-acc: 0.7456\n",
      "Epoch 93/500\n",
      "148/148 [==============================] - 4s 29ms/step - loss: 2.2623 - accuracy: 0.4204 - top-05-acc: 0.7261 - top-10-acc: 0.8179 - val_loss: 2.8590 - val_accuracy: 0.3498 - val_top-05-acc: 0.6373 - val_top-10-acc: 0.7453\n",
      "Epoch 94/500\n",
      "148/148 [==============================] - 4s 28ms/step - loss: 2.2521 - accuracy: 0.4210 - top-05-acc: 0.7285 - top-10-acc: 0.8195 - val_loss: 2.8111 - val_accuracy: 0.3464 - val_top-05-acc: 0.6421 - val_top-10-acc: 0.7474\n",
      "Epoch 95/500\n",
      "148/148 [==============================] - 4s 28ms/step - loss: 2.2465 - accuracy: 0.4243 - top-05-acc: 0.7296 - top-10-acc: 0.8192 - val_loss: 2.8352 - val_accuracy: 0.3454 - val_top-05-acc: 0.6375 - val_top-10-acc: 0.7433\n",
      "Epoch 96/500\n",
      "148/148 [==============================] - 4s 29ms/step - loss: 2.2360 - accuracy: 0.4249 - top-05-acc: 0.7323 - top-10-acc: 0.8227 - val_loss: 2.8623 - val_accuracy: 0.3433 - val_top-05-acc: 0.6330 - val_top-10-acc: 0.7407\n"
     ]
    }
   ],
   "source": [
    "if True:\n",
    "    callbacks = [\n",
    "        tf.keras.callbacks.ModelCheckpoint('model-head_avg.h5'),\n",
    "        tf.keras.callbacks.EarlyStopping(\n",
    "            monitor='val_accuracy',\n",
    "            patience=8,\n",
    "            restore_best_weights=True,\n",
    "        ),\n",
    "    ]\n",
    "    history = model.fit(\n",
    "        X_train,\n",
    "        y_train,\n",
    "        epochs=500,\n",
    "        validation_data=(X_val, y_val),\n",
    "        batch_size=512,\n",
    "        callbacks=callbacks,\n",
    "    )\n",
    "else:\n",
    "    model = tf.keras.models.load_model(\"../model.h5\")"
   ]
  },
  {
   "cell_type": "code",
   "execution_count": 9,
   "id": "0c667e32",
   "metadata": {
    "ExecuteTime": {
     "end_time": "2023-03-02T23:47:45.437000Z",
     "start_time": "2023-03-02T23:47:45.065905Z"
    }
   },
   "outputs": [
    {
     "name": "stdout",
     "output_type": "stream",
     "text": [
      "dict_keys(['loss', 'accuracy', 'top-05-acc', 'top-10-acc', 'val_loss', 'val_accuracy', 'val_top-05-acc', 'val_top-10-acc'])\n"
     ]
    }
   ],
   "source": [
    "import matplotlib.pyplot as plt\n",
    "import numpy as np\n",
    "\n",
    "print(history.history.keys())"
   ]
  },
  {
   "cell_type": "code",
   "execution_count": 10,
   "id": "113b874f",
   "metadata": {
    "ExecuteTime": {
     "end_time": "2023-03-02T23:47:45.734556Z",
     "start_time": "2023-03-02T23:47:45.439120Z"
    }
   },
   "outputs": [
    {
     "data": {
      "image/png": "[encoded data removed]",
      "text/plain": [
       "<Figure size 640x480 with 1 Axes>"
      ]
     },
     "metadata": {},
     "output_type": "display_data"
    }
   ],
   "source": [
    "# summarize history for accuracy\n",
    "plt.plot(history.history['accuracy'])\n",
    "plt.plot(history.history['val_accuracy'])\n",
    "plt.title('model accuracy')\n",
    "plt.ylabel('accuracy')\n",
    "plt.xlabel('epoch')\n",
    "plt.legend(['train', 'test'], loc='upper left')\n",
    "plt.show()"
   ]
  },
  {
   "cell_type": "code",
   "execution_count": 11,
   "id": "835c5849",
   "metadata": {
    "ExecuteTime": {
     "end_time": "2023-03-02T23:47:45.804196Z",
     "start_time": "2023-03-02T23:47:45.736028Z"
    }
   },
   "outputs": [
    {
     "data": {
      "image/png": "[encoded data removed]",
      "text/plain": [
       "<Figure size 640x480 with 1 Axes>"
      ]
     },
     "metadata": {},
     "output_type": "display_data"
    }
   ],
   "source": [
    "# summarize history for loss\n",
    "plt.plot(history.history['loss'])\n",
    "plt.plot(history.history['val_loss'])\n",
    "plt.title('model loss')\n",
    "plt.ylabel('loss')\n",
    "plt.xlabel('epoch')\n",
    "plt.legend(['train', 'test'], loc='upper left')\n",
    "plt.show()"
   ]
  }
 ],
 "metadata": {
  "kernelspec": {
   "display_name": "Python 3 (ipykernel)",
   "language": "python",
   "name": "python3"
  },
  "language_info": {
   "codemirror_mode": {
    "name": "ipython",
    "version": 3
   },
   "file_extension": ".py",
   "mimetype": "text/x-python",
   "name": "python",
   "nbconvert_exporter": "python",
   "pygments_lexer": "ipython3",
   "version": "3.9.15"
  },
  "toc": {
   "base_numbering": 1,
   "nav_menu": {},
   "number_sections": true,
   "sideBar": true,
   "skip_h1_title": false,
   "title_cell": "Table of Contents",
   "title_sidebar": "Contents",
   "toc_cell": false,
   "toc_position": {},
   "toc_section_display": true,
   "toc_window_display": false
  }
 },
 "nbformat": 4,
 "nbformat_minor": 5
}
