{
 "cells": [
  {
   "cell_type": "markdown",
   "id": "e4c8a3c0",
   "metadata": {},
   "source": [
    "Baseline_TF\n",
    "https://www.kaggle.com/code/ivaneleskin/baseline-tf"
   ]
  },
  {
   "cell_type": "code",
   "execution_count": 1,
   "id": "743607ba",
   "metadata": {
    "ExecuteTime": {
     "end_time": "2023-03-02T23:25:51.463175Z",
     "start_time": "2023-03-02T23:25:49.876575Z"
    }
   },
   "outputs": [
    {
     "name": "stderr",
     "output_type": "stream",
     "text": [
      "2023-03-02 15:25:50.151578: I tensorflow/core/platform/cpu_feature_guard.cc:193] This TensorFlow binary is optimized with oneAPI Deep Neural Network Library (oneDNN) to use the following CPU instructions in performance-critical operations:  AVX2 FMA\n",
      "To enable them in other operations, rebuild TensorFlow with the appropriate compiler flags.\n",
      "2023-03-02 15:25:50.297819: E tensorflow/stream_executor/cuda/cuda_blas.cc:2981] Unable to register cuBLAS factory: Attempting to register factory for plugin cuBLAS when one has already been registered\n",
      "2023-03-02 15:25:50.739984: W tensorflow/stream_executor/platform/default/dso_loader.cc:64] Could not load dynamic library 'libnvinfer.so.7'; dlerror: libnvinfer.so.7: cannot open shared object file: No such file or directory; LD_LIBRARY_PATH: :/home/victor/miniconda3/envs/tf/lib/:/home/victor/miniconda3/envs/tf/lib/:/home/victor/miniconda3/envs/tf/lib/:/home/victor/miniconda3/envs/tf/lib/\n",
      "2023-03-02 15:25:50.740053: W tensorflow/stream_executor/platform/default/dso_loader.cc:64] Could not load dynamic library 'libnvinfer_plugin.so.7'; dlerror: libnvinfer_plugin.so.7: cannot open shared object file: No such file or directory; LD_LIBRARY_PATH: :/home/victor/miniconda3/envs/tf/lib/:/home/victor/miniconda3/envs/tf/lib/:/home/victor/miniconda3/envs/tf/lib/:/home/victor/miniconda3/envs/tf/lib/\n",
      "2023-03-02 15:25:50.740057: W tensorflow/compiler/tf2tensorrt/utils/py_utils.cc:38] TF-TRT Warning: Cannot dlopen some TensorRT libraries. If you would like to use Nvidia GPU with TensorRT, please make sure the missing libraries mentioned above are installed properly.\n"
     ]
    }
   ],
   "source": [
    "import os\n",
    "import json\n",
    "import numpy as np\n",
    "import pandas as pd\n",
    "from tqdm import tqdm\n",
    "import tensorflow as tf\n",
    "from tqdm import tqdm\n",
    "import json\n",
    "import gc\n",
    "from sklearn.model_selection import train_test_split\n",
    "\n",
    "from pathlib import Path"
   ]
  },
  {
   "cell_type": "code",
   "execution_count": 2,
   "id": "3ee4aeb4",
   "metadata": {
    "ExecuteTime": {
     "end_time": "2023-03-02T23:25:51.551628Z",
     "start_time": "2023-03-02T23:25:51.464883Z"
    }
   },
   "outputs": [
    {
     "name": "stdout",
     "output_type": "stream",
     "text": [
      "train.shape = 94477 rows, 4 cols\n",
      "<class 'pandas.core.frame.DataFrame'>\n",
      "RangeIndex: 94477 entries, 0 to 94476\n",
      "Data columns (total 4 columns):\n",
      " #   Column          Non-Null Count  Dtype \n",
      "---  ------          --------------  ----- \n",
      " 0   path            94477 non-null  object\n",
      " 1   participant_id  94477 non-null  int64 \n",
      " 2   sequence_id     94477 non-null  int64 \n",
      " 3   sign            94477 non-null  object\n",
      "dtypes: int64(2), object(2)\n",
      "memory usage: 2.9+ MB\n"
     ]
    },
    {
     "data": {
      "text/html": [
       "<div>\n",
       "<style scoped>\n",
       "    .dataframe tbody tr th:only-of-type {\n",
       "        vertical-align: middle;\n",
       "    }\n",
       "\n",
       "    .dataframe tbody tr th {\n",
       "        vertical-align: top;\n",
       "    }\n",
       "\n",
       "    .dataframe thead th {\n",
       "        text-align: right;\n",
       "    }\n",
       "</style>\n",
       "<table border=\"1\" class=\"dataframe\">\n",
       "  <thead>\n",
       "    <tr style=\"text-align: right;\">\n",
       "      <th></th>\n",
       "      <th>path</th>\n",
       "      <th>participant_id</th>\n",
       "      <th>sequence_id</th>\n",
       "      <th>sign</th>\n",
       "    </tr>\n",
       "  </thead>\n",
       "  <tbody>\n",
       "    <tr>\n",
       "      <th>0</th>\n",
       "      <td>train_landmark_files/26734/1000035562.parquet</td>\n",
       "      <td>26734</td>\n",
       "      <td>1000035562</td>\n",
       "      <td>blow</td>\n",
       "    </tr>\n",
       "    <tr>\n",
       "      <th>1</th>\n",
       "      <td>train_landmark_files/28656/1000106739.parquet</td>\n",
       "      <td>28656</td>\n",
       "      <td>1000106739</td>\n",
       "      <td>wait</td>\n",
       "    </tr>\n",
       "    <tr>\n",
       "      <th>2</th>\n",
       "      <td>train_landmark_files/16069/100015657.parquet</td>\n",
       "      <td>16069</td>\n",
       "      <td>100015657</td>\n",
       "      <td>cloud</td>\n",
       "    </tr>\n",
       "    <tr>\n",
       "      <th>3</th>\n",
       "      <td>train_landmark_files/25571/1000210073.parquet</td>\n",
       "      <td>25571</td>\n",
       "      <td>1000210073</td>\n",
       "      <td>bird</td>\n",
       "    </tr>\n",
       "    <tr>\n",
       "      <th>4</th>\n",
       "      <td>train_landmark_files/62590/1000240708.parquet</td>\n",
       "      <td>62590</td>\n",
       "      <td>1000240708</td>\n",
       "      <td>owie</td>\n",
       "    </tr>\n",
       "  </tbody>\n",
       "</table>\n",
       "</div>"
      ],
      "text/plain": [
       "                                            path  participant_id  sequence_id  \\\n",
       "0  train_landmark_files/26734/1000035562.parquet           26734   1000035562   \n",
       "1  train_landmark_files/28656/1000106739.parquet           28656   1000106739   \n",
       "2   train_landmark_files/16069/100015657.parquet           16069    100015657   \n",
       "3  train_landmark_files/25571/1000210073.parquet           25571   1000210073   \n",
       "4  train_landmark_files/62590/1000240708.parquet           62590   1000240708   \n",
       "\n",
       "    sign  \n",
       "0   blow  \n",
       "1   wait  \n",
       "2  cloud  \n",
       "3   bird  \n",
       "4   owie  "
      ]
     },
     "execution_count": 2,
     "metadata": {},
     "output_type": "execute_result"
    }
   ],
   "source": [
    "DATA_ROOT = Path('..')\n",
    "DF_TRAIN = DATA_ROOT / 'train.csv'\n",
    "train = pd.read_csv(DF_TRAIN)\n",
    "\n",
    "print(\"train.shape = {} rows, {} cols\".format(*train.shape))\n",
    "train.info()\n",
    "train.head()\n"
   ]
  },
  {
   "cell_type": "code",
   "execution_count": 3,
   "id": "11726f4f",
   "metadata": {
    "ExecuteTime": {
     "end_time": "2023-03-02T23:25:51.557614Z",
     "start_time": "2023-03-02T23:25:51.553093Z"
    }
   },
   "outputs": [],
   "source": [
    "class CFG:\n",
    "    data_path = \"../\"\n",
    "    quick_experiment = False\n",
    "    is_training = True\n",
    "    use_aggregation_dataset = True\n",
    "    num_classes = 250\n",
    "    rows_per_frame = 543 \n",
    "\n",
    "def load_relevant_data_subset_with_imputation(pq_path):\n",
    "    data_columns = ['x', 'y', 'z']\n",
    "    data = pd.read_parquet(pq_path, columns=data_columns)\n",
    "    data.replace(np.nan, 0, inplace=True)\n",
    "    n_frames = int(len(data) / CFG.rows_per_frame)\n",
    "    data = data.values.reshape(n_frames, CFG.rows_per_frame, len(data_columns))\n",
    "    return data.astype(np.float32)\n",
    "\n",
    "def load_relevant_data_subset(pq_path):\n",
    "    data_columns = ['x', 'y', 'z']\n",
    "    data = pd.read_parquet(pq_path, columns=data_columns)\n",
    "    n_frames = int(len(data) / CFG.rows_per_frame)\n",
    "    data = data.values.reshape(n_frames, CFG.rows_per_frame, len(data_columns))\n",
    "    return data.astype(np.float32)\n",
    "\n",
    "def read_dict(file_path):\n",
    "    path = os.path.expanduser(file_path)\n",
    "    with open(path, \"r\") as f:\n",
    "        dic = json.load(f)\n",
    "    return dic"
   ]
  },
  {
   "cell_type": "code",
   "execution_count": 4,
   "id": "150fc1bc",
   "metadata": {
    "ExecuteTime": {
     "end_time": "2023-03-02T23:25:51.643625Z",
     "start_time": "2023-03-02T23:25:51.559268Z"
    }
   },
   "outputs": [],
   "source": [
    "train = pd.read_csv(f\"{CFG.data_path}train.csv\")\n",
    "label_index = read_dict(f\"{CFG.data_path}sign_to_prediction_index_map.json\")\n",
    "index_label = {label_index[key]: key for key in label_index}\n",
    "train[\"label\"] = train[\"sign\"].map(lambda sign: label_index[sign])"
   ]
  },
  {
   "cell_type": "code",
   "execution_count": 5,
   "id": "fda181c9",
   "metadata": {
    "ExecuteTime": {
     "end_time": "2023-03-02T23:25:51.869738Z",
     "start_time": "2023-03-02T23:25:51.645050Z"
    }
   },
   "outputs": [
    {
     "name": "stdout",
     "output_type": "stream",
     "text": [
      "(94477, 543, 3) (94477,)\n"
     ]
    }
   ],
   "source": [
    "MAX_FRAMES = 5\n",
    "X_npy_fname = f'X_3d-avg-{MAX_FRAMES}_frames.npy'\n",
    "y_npy_fname = f'y.npy'\n",
    "\n",
    "\n",
    "if CFG.is_training:\n",
    "    try:\n",
    "        X = np.load(X_npy_fname)\n",
    "        y = np.load(y_npy_fname)\n",
    "    except:\n",
    "        print('True')\n",
    "        X = np.zeros((len(train), 543, 3))\n",
    "        y = np.zeros((len(train),))\n",
    "        num_frames = np.zeros(len(train))\n",
    "        for i in tqdm(range(len(train))):\n",
    "            path = f\"{CFG.data_path}{train.iloc[i].path}\"\n",
    "            data = load_relevant_data_subset_with_imputation(path)\n",
    "            ## Mean Aggregation\n",
    "            data_resize = tf.image.resize(\n",
    "                data,\n",
    "                (MAX_FRAMES, 543),\n",
    "                method='nearest',\n",
    "            )\n",
    "            X[i] = np.mean(data_resize, axis=0)\n",
    "            y[i] = train.iloc[i].label\n",
    "            num_frames[i] = data.shape[0]\n",
    "            if CFG.quick_experiment and i == 4999:\n",
    "                break\n",
    "        ## Save number of frames of each training sample for data analysis\n",
    "        train[\"num_frames\"] = num_frames\n",
    "        print(train[\"num_frames\"].describe())\n",
    "        train.to_csv(\"train.csv\", index=False)\n",
    "        np.save(X_npy_fname, X)\n",
    "        np.save(y_npy_fname, y)\n",
    "\n",
    "    print(X.shape, y.shape)"
   ]
  },
  {
   "cell_type": "code",
   "execution_count": 7,
   "id": "ba8fc712",
   "metadata": {
    "ExecuteTime": {
     "end_time": "2023-03-02T23:25:52.106719Z",
     "start_time": "2023-03-02T23:25:51.875500Z"
    }
   },
   "outputs": [
    {
     "name": "stdout",
     "output_type": "stream",
     "text": [
      "(75581, 543, 3) (75581,) (18896, 543, 3) (18896,)\n"
     ]
    }
   ],
   "source": [
    "X_train, X_val, y_train, y_val = train_test_split(X, y, test_size=0.2, random_state=27, stratify=y)\n",
    "print(X_train.shape, y_train.shape, X_val.shape, y_val.shape)"
   ]
  },
  {
   "cell_type": "markdown",
   "id": "63a61401",
   "metadata": {},
   "source": [
    "|part|start|end|\n",
    "|----|--|---|\n",
    "|face| 0| 467|\n",
    "|left_hand| 468| 488|\n",
    "|pose| 489| 521|\n",
    "|right_hand| 522| 542|"
   ]
  },
  {
   "cell_type": "code",
   "execution_count": 9,
   "id": "54b890d3",
   "metadata": {
    "ExecuteTime": {
     "end_time": "2023-03-02T23:25:53.339399Z",
     "start_time": "2023-03-02T23:25:52.111393Z"
    },
    "scrolled": true
   },
   "outputs": [
    {
     "name": "stderr",
     "output_type": "stream",
     "text": [
      "2023-03-02 15:25:52.180048: I tensorflow/stream_executor/cuda/cuda_gpu_executor.cc:980] successful NUMA node read from SysFS had negative value (-1), but there must be at least one NUMA node, so returning NUMA node zero\n",
      "2023-03-02 15:25:52.184164: I tensorflow/stream_executor/cuda/cuda_gpu_executor.cc:980] successful NUMA node read from SysFS had negative value (-1), but there must be at least one NUMA node, so returning NUMA node zero\n",
      "2023-03-02 15:25:52.184332: I tensorflow/stream_executor/cuda/cuda_gpu_executor.cc:980] successful NUMA node read from SysFS had negative value (-1), but there must be at least one NUMA node, so returning NUMA node zero\n",
      "2023-03-02 15:25:52.184732: I tensorflow/core/platform/cpu_feature_guard.cc:193] This TensorFlow binary is optimized with oneAPI Deep Neural Network Library (oneDNN) to use the following CPU instructions in performance-critical operations:  AVX2 FMA\n",
      "To enable them in other operations, rebuild TensorFlow with the appropriate compiler flags.\n",
      "2023-03-02 15:25:52.188109: I tensorflow/stream_executor/cuda/cuda_gpu_executor.cc:980] successful NUMA node read from SysFS had negative value (-1), but there must be at least one NUMA node, so returning NUMA node zero\n",
      "2023-03-02 15:25:52.188257: I tensorflow/stream_executor/cuda/cuda_gpu_executor.cc:980] successful NUMA node read from SysFS had negative value (-1), but there must be at least one NUMA node, so returning NUMA node zero\n",
      "2023-03-02 15:25:52.188385: I tensorflow/stream_executor/cuda/cuda_gpu_executor.cc:980] successful NUMA node read from SysFS had negative value (-1), but there must be at least one NUMA node, so returning NUMA node zero\n",
      "2023-03-02 15:25:52.601666: I tensorflow/stream_executor/cuda/cuda_gpu_executor.cc:980] successful NUMA node read from SysFS had negative value (-1), but there must be at least one NUMA node, so returning NUMA node zero\n",
      "2023-03-02 15:25:52.601863: I tensorflow/stream_executor/cuda/cuda_gpu_executor.cc:980] successful NUMA node read from SysFS had negative value (-1), but there must be at least one NUMA node, so returning NUMA node zero\n",
      "2023-03-02 15:25:52.602002: I tensorflow/stream_executor/cuda/cuda_gpu_executor.cc:980] successful NUMA node read from SysFS had negative value (-1), but there must be at least one NUMA node, so returning NUMA node zero\n",
      "2023-03-02 15:25:52.602120: I tensorflow/core/common_runtime/gpu/gpu_device.cc:1616] Created device /job:localhost/replica:0/task:0/device:GPU:0 with 21919 MB memory:  -> device: 0, name: NVIDIA GeForce RTX 3090 Ti, pci bus id: 0000:01:00.0, compute capability: 8.6\n"
     ]
    },
    {
     "name": "stdout",
     "output_type": "stream",
     "text": [
      "Model: \"model\"\n",
      "__________________________________________________________________________________________________\n",
      " Layer (type)                   Output Shape         Param #     Connected to                     \n",
      "==================================================================================================\n",
      " input_1 (InputLayer)           [(None, 543, 3)]     0           []                               \n",
      "                                                                                                  \n",
      " lambda (Lambda)                (None, 468, 3)       0           ['input_1[0][0]']                \n",
      "                                                                                                  \n",
      " lambda_1 (Lambda)              (None, 21, 3)        0           ['input_1[0][0]']                \n",
      "                                                                                                  \n",
      " lambda_4 (Lambda)              (None, 1, 3)         0           ['lambda[0][0]']                 \n",
      "                                                                                                  \n",
      " lambda_3 (Lambda)              (None, 21, 3)        0           ['input_1[0][0]']                \n",
      "                                                                                                  \n",
      " concatenate (Concatenate)      (None, 22, 3)        0           ['lambda_1[0][0]',               \n",
      "                                                                  'lambda_4[0][0]']               \n",
      "                                                                                                  \n",
      " concatenate_1 (Concatenate)    (None, 22, 3)        0           ['lambda_3[0][0]',               \n",
      "                                                                  'lambda_4[0][0]']               \n",
      "                                                                                                  \n",
      " batch_normalization (BatchNorm  (None, 22, 3)       12          ['concatenate[0][0]']            \n",
      " alization)                                                                                       \n",
      "                                                                                                  \n",
      " batch_normalization_1 (BatchNo  (None, 22, 3)       12          ['concatenate_1[0][0]']          \n",
      " rmalization)                                                                                     \n",
      "                                                                                                  \n",
      " dense (Dense)                  (None, 22, 64)       256         ['batch_normalization[0][0]']    \n",
      "                                                                                                  \n",
      " dense_3 (Dense)                (None, 22, 64)       256         ['batch_normalization_1[0][0]']  \n",
      "                                                                                                  \n",
      " dense_1 (Dense)                (None, 22, 64)       4160        ['dense[0][0]']                  \n",
      "                                                                                                  \n",
      " dense_4 (Dense)                (None, 22, 64)       4160        ['dense_3[0][0]']                \n",
      "                                                                                                  \n",
      " dropout (Dropout)              (None, 22, 64)       0           ['dense_1[0][0]']                \n",
      "                                                                                                  \n",
      " dropout_1 (Dropout)            (None, 22, 64)       0           ['dense_4[0][0]']                \n",
      "                                                                                                  \n",
      " dense_2 (Dense)                (None, 22, 128)      8320        ['dropout[0][0]']                \n",
      "                                                                                                  \n",
      " dense_5 (Dense)                (None, 22, 128)      8320        ['dropout_1[0][0]']              \n",
      "                                                                                                  \n",
      " concatenate_2 (Concatenate)    (None, 44, 128)      0           ['dense_2[0][0]',                \n",
      "                                                                  'dense_5[0][0]']                \n",
      "                                                                                                  \n",
      " batch_normalization_2 (BatchNo  (None, 44, 128)     512         ['concatenate_2[0][0]']          \n",
      " rmalization)                                                                                     \n",
      "                                                                                                  \n",
      " dense_6 (Dense)                (None, 44, 256)      33024       ['batch_normalization_2[0][0]']  \n",
      "                                                                                                  \n",
      " dense_7 (Dense)                (None, 44, 256)      65792       ['dense_6[0][0]']                \n",
      "                                                                                                  \n",
      " dropout_2 (Dropout)            (None, 44, 256)      0           ['dense_7[0][0]']                \n",
      "                                                                                                  \n",
      " dense_8 (Dense)                (None, 44, 128)      32896       ['dropout_2[0][0]']              \n",
      "                                                                                                  \n",
      " dense_9 (Dense)                (None, 44, 128)      16512       ['dense_8[0][0]']                \n",
      "                                                                                                  \n",
      " dropout_3 (Dropout)            (None, 44, 128)      0           ['dense_9[0][0]']                \n",
      "                                                                                                  \n",
      " lambda_2 (Lambda)              (None, 33, 3)        0           ['input_1[0][0]']                \n",
      "                                                                                                  \n",
      " dense_10 (Dense)               (None, 44, 64)       8256        ['dropout_3[0][0]']              \n",
      "                                                                                                  \n",
      " dense_11 (Dense)               (None, 33, 64)       256         ['lambda_2[0][0]']               \n",
      "                                                                                                  \n",
      " concatenate_3 (Concatenate)    (None, 77, 64)       0           ['dense_10[0][0]',               \n",
      "                                                                  'dense_11[0][0]']               \n",
      "                                                                                                  \n",
      " gru (GRU)                      (None, 77, 256)      247296      ['concatenate_3[0][0]']          \n",
      "                                                                                                  \n",
      " gru_1 (GRU)                    (None, 256)          394752      ['gru[0][0]']                    \n",
      "                                                                                                  \n",
      " dense_12 (Dense)               (None, 256)          65792       ['gru_1[0][0]']                  \n",
      "                                                                                                  \n",
      " dropout_4 (Dropout)            (None, 256)          0           ['dense_12[0][0]']               \n",
      "                                                                                                  \n",
      " dense_13 (Dense)               (None, 128)          32896       ['dropout_4[0][0]']              \n",
      "                                                                                                  \n",
      " dense_14 (Dense)               (None, 128)          16512       ['dense_13[0][0]']               \n",
      "                                                                                                  \n",
      " dropout_5 (Dropout)            (None, 128)          0           ['dense_14[0][0]']               \n",
      "                                                                                                  \n",
      " dense_15 (Dense)               (None, 64)           8256        ['dropout_5[0][0]']              \n"
     ]
    },
    {
     "name": "stdout",
     "output_type": "stream",
     "text": [
      "                                                                                                  \n",
      " dense_16 (Dense)               (None, 64)           4160        ['dense_15[0][0]']               \n",
      "                                                                                                  \n",
      " dropout_6 (Dropout)            (None, 64)           0           ['dense_16[0][0]']               \n",
      "                                                                                                  \n",
      " flatten (Flatten)              (None, 64)           0           ['dropout_6[0][0]']              \n",
      "                                                                                                  \n",
      " dense_17 (Dense)               (None, 250)          16250       ['flatten[0][0]']                \n",
      "                                                                                                  \n",
      "==================================================================================================\n",
      "Total params: 968,658\n",
      "Trainable params: 968,390\n",
      "Non-trainable params: 268\n",
      "__________________________________________________________________________________________________\n"
     ]
    }
   ],
   "source": [
    "N_FACE_PTS = 468\n",
    "N_HAND_PTS = 21\n",
    "N_POSE_PTS = 33\n",
    "N_DIMS = 3\n",
    "N_PTS = 543\n",
    "assert N_PTS == (N_FACE_PTS + 2*N_HAND_PTS + N_POSE_PTS)\n",
    "\n",
    "N_NEURONS_CONCAT = 128\n",
    "N_NEURONS_POSE = 64\n",
    "\n",
    "\n",
    "all_input = tf.keras.layers.Input(shape=(N_PTS,N_DIMS))\n",
    "# intermediate = tf.keras.layers.Reshape((500,1), input_shape=(500,))(intermediate)\n",
    "\n",
    "\n",
    "input_face = tf.keras.layers.Lambda(\n",
    "    lambda x: x[:, 0:468, :],\n",
    "    output_shape=(N_FACE_PTS, N_DIMS),\n",
    ")(all_input)\n",
    "input_left = tf.keras.layers.Lambda(\n",
    "    lambda x: x[:, 468:489, :],\n",
    "    output_shape=(N_HAND_PTS, N_DIMS),\n",
    ")(all_input)\n",
    "input_pose = tf.keras.layers.Lambda(\n",
    "    lambda x: x[:, 489:522, :],\n",
    "    output_shape=(N_HAND_PTS, N_DIMS),\n",
    ")(all_input)\n",
    "\n",
    "input_right = tf.keras.layers.Lambda(\n",
    "    lambda x: x[:, 522:, :],\n",
    "    output_shape=(N_POSE_PTS, N_DIMS),\n",
    ")(all_input)\n",
    "\n",
    "\n",
    "\n",
    "head_avg = tf.keras.layers.Lambda(\n",
    "    lambda x: tf.reduce_mean(x, axis=1, keepdims=True))(input_face)\n",
    "\n",
    "# Get just the left hand + avg head\n",
    "left_head_avg = tf.keras.layers.Concatenate(axis=1)([input_left, head_avg])\n",
    "left_head_avg = tf.keras.layers.BatchNormalization()(left_head_avg)\n",
    "left_head_avg = tf.keras.layers.Dense(64, activation='relu')(left_head_avg)\n",
    "left_head_avg = tf.keras.layers.Dense(64, activation='relu')(left_head_avg)\n",
    "left_head_avg = tf.keras.layers.Dropout(0.2)(left_head_avg)\n",
    "left_head_avg = tf.keras.layers.Dense(N_NEURONS_CONCAT, activation='relu')(left_head_avg)\n",
    "\n",
    "# Get just the right hand + avg head\n",
    "right_head_avg = tf.keras.layers.Concatenate(axis=1)([input_right, head_avg])\n",
    "right_head_avg = tf.keras.layers.BatchNormalization()(right_head_avg)\n",
    "right_head_avg = tf.keras.layers.Dense(64, activation='relu')(right_head_avg)\n",
    "right_head_avg = tf.keras.layers.Dense(64, activation='relu')(right_head_avg)\n",
    "right_head_avg = tf.keras.layers.Dropout(0.2)(right_head_avg)\n",
    "right_head_avg = tf.keras.layers.Dense(N_NEURONS_CONCAT, activation='relu')(right_head_avg)\n",
    "\n",
    "# Determine if dominant\n",
    "hands_combo = tf.keras.layers.Concatenate(axis=1)(\n",
    "    [left_head_avg, right_head_avg,]\n",
    ")\n",
    "hands_combo = tf.keras.layers.BatchNormalization()(hands_combo)\n",
    "hands_combo = tf.keras.layers.Dense(256, activation='relu')(hands_combo)\n",
    "hands_combo = tf.keras.layers.Dense(256, activation='relu')(hands_combo)\n",
    "hands_combo = tf.keras.layers.Dropout(0.2)(hands_combo)\n",
    "hands_combo = tf.keras.layers.Dense(128, activation='relu')(hands_combo)\n",
    "hands_combo = tf.keras.layers.Dense(128, activation='relu')(hands_combo)\n",
    "hands_combo = tf.keras.layers.Dropout(0.2)(hands_combo)\n",
    "hands_combo = tf.keras.layers.Dense(N_NEURONS_POSE, activation='relu')(hands_combo)\n",
    "\n",
    "# Pose\n",
    "pose_process = tf.keras.layers.Dense(N_NEURONS_POSE, activation='relu')(input_pose)\n",
    "\n",
    "#\n",
    "x = tf.keras.layers.Concatenate(axis=1)(\n",
    "    [hands_combo, pose_process]\n",
    ")\n",
    "x = tf.keras.layers.GRU(256, return_sequences=True)(x)\n",
    "x = tf.keras.layers.GRU(256,)(x)\n",
    "x = tf.keras.layers.Dense(256, activation='relu')(x)\n",
    "x = tf.keras.layers.Dropout(0.4)(x)\n",
    "x = tf.keras.layers.Dense(128, activation='relu')(x)\n",
    "x = tf.keras.layers.Dense(128, activation='relu')(x)\n",
    "x = tf.keras.layers.Dropout(0.2)(x)\n",
    "x = tf.keras.layers.Dense(64, activation='relu')(x)\n",
    "x = tf.keras.layers.Dense(64, activation='relu')(x)\n",
    "x = tf.keras.layers.Dropout(0.2)(x)\n",
    "x = tf.keras.layers.Flatten()(x)\n",
    "out = tf.keras.layers.Dense(250, activation='softmax')(x)\n",
    "\n",
    "model = tf.keras.models.Model(\n",
    "    inputs=[\n",
    "        all_input,\n",
    "    ],\n",
    "    outputs=out,\n",
    ")\n",
    "\n",
    "\n",
    "model.compile(\n",
    "    loss=tf.keras.losses.SparseCategoricalCrossentropy(), \n",
    "    metrics=[\n",
    "        \"accuracy\",\n",
    "        tf.keras.metrics.SparseTopKCategoricalAccuracy(k=5, name=\"top-05-acc\"),\n",
    "        tf.keras.metrics.SparseTopKCategoricalAccuracy(k=10, name=\"top-10-acc\"),\n",
    "    ]\n",
    ")\n",
    "\n",
    "model.summary()"
   ]
  },
  {
   "cell_type": "code",
   "execution_count": 10,
   "id": "4e8ce67b",
   "metadata": {
    "ExecuteTime": {
     "end_time": "2023-03-02T23:32:09.115049Z",
     "start_time": "2023-03-02T23:25:53.341487Z"
    },
    "scrolled": true
   },
   "outputs": [
    {
     "name": "stdout",
     "output_type": "stream",
     "text": [
      "Epoch 1/500\n"
     ]
    },
    {
     "name": "stderr",
     "output_type": "stream",
     "text": [
      "2023-03-02 15:25:57.455054: I tensorflow/stream_executor/cuda/cuda_blas.cc:1614] TensorFloat-32 will be used for the matrix multiplication. This will only be logged once.\n",
      "2023-03-02 15:25:57.942747: I tensorflow/stream_executor/cuda/cuda_dnn.cc:384] Loaded cuDNN version 8100\n"
     ]
    },
    {
     "name": "stdout",
     "output_type": "stream",
     "text": [
      "148/148 [==============================] - 9s 34ms/step - loss: 5.5220 - accuracy: 0.0039 - top-05-acc: 0.0190 - top-10-acc: 0.0392 - val_loss: 5.5210 - val_accuracy: 0.0040 - val_top-05-acc: 0.0212 - val_top-10-acc: 0.0440\n",
      "Epoch 2/500\n",
      "148/148 [==============================] - 4s 28ms/step - loss: 5.5213 - accuracy: 0.0044 - top-05-acc: 0.0204 - top-10-acc: 0.0404 - val_loss: 5.5203 - val_accuracy: 0.0048 - val_top-05-acc: 0.0219 - val_top-10-acc: 0.0431\n",
      "Epoch 3/500\n",
      "148/148 [==============================] - 4s 28ms/step - loss: 5.5216 - accuracy: 0.0043 - top-05-acc: 0.0211 - top-10-acc: 0.0414 - val_loss: 5.5171 - val_accuracy: 0.0051 - val_top-05-acc: 0.0255 - val_top-10-acc: 0.0464\n",
      "Epoch 4/500\n",
      "148/148 [==============================] - 4s 29ms/step - loss: 5.5183 - accuracy: 0.0045 - top-05-acc: 0.0218 - top-10-acc: 0.0428 - val_loss: 5.4889 - val_accuracy: 0.0065 - val_top-05-acc: 0.0317 - val_top-10-acc: 0.0590\n",
      "Epoch 5/500\n",
      "148/148 [==============================] - 4s 29ms/step - loss: 5.4453 - accuracy: 0.0072 - top-05-acc: 0.0331 - top-10-acc: 0.0657 - val_loss: 5.3638 - val_accuracy: 0.0092 - val_top-05-acc: 0.0399 - val_top-10-acc: 0.0790\n",
      "Epoch 6/500\n",
      "148/148 [==============================] - 4s 29ms/step - loss: 5.3692 - accuracy: 0.0084 - top-05-acc: 0.0402 - top-10-acc: 0.0791 - val_loss: 5.2890 - val_accuracy: 0.0094 - val_top-05-acc: 0.0473 - val_top-10-acc: 0.0954\n",
      "Epoch 7/500\n",
      "148/148 [==============================] - 4s 29ms/step - loss: 5.2969 - accuracy: 0.0097 - top-05-acc: 0.0497 - top-10-acc: 0.0954 - val_loss: 5.2498 - val_accuracy: 0.0110 - val_top-05-acc: 0.0560 - val_top-10-acc: 0.1104\n",
      "Epoch 8/500\n",
      "148/148 [==============================] - 4s 29ms/step - loss: 5.2019 - accuracy: 0.0126 - top-05-acc: 0.0588 - top-10-acc: 0.1154 - val_loss: 5.1392 - val_accuracy: 0.0171 - val_top-05-acc: 0.0731 - val_top-10-acc: 0.1361\n",
      "Epoch 9/500\n",
      "148/148 [==============================] - 4s 28ms/step - loss: 5.1288 - accuracy: 0.0147 - top-05-acc: 0.0701 - top-10-acc: 0.1326 - val_loss: 5.0644 - val_accuracy: 0.0161 - val_top-05-acc: 0.0788 - val_top-10-acc: 0.1507\n",
      "Epoch 10/500\n",
      "148/148 [==============================] - 4s 28ms/step - loss: 5.0570 - accuracy: 0.0185 - top-05-acc: 0.0832 - top-10-acc: 0.1543 - val_loss: 4.9499 - val_accuracy: 0.0251 - val_top-05-acc: 0.1025 - val_top-10-acc: 0.1851\n",
      "Epoch 11/500\n",
      "148/148 [==============================] - 4s 29ms/step - loss: 4.9550 - accuracy: 0.0246 - top-05-acc: 0.1065 - top-10-acc: 0.1925 - val_loss: 4.8353 - val_accuracy: 0.0330 - val_top-05-acc: 0.1386 - val_top-10-acc: 0.2314\n",
      "Epoch 12/500\n",
      "148/148 [==============================] - 4s 29ms/step - loss: 4.8232 - accuracy: 0.0296 - top-05-acc: 0.1311 - top-10-acc: 0.2318 - val_loss: 4.7176 - val_accuracy: 0.0403 - val_top-05-acc: 0.1615 - val_top-10-acc: 0.2704\n",
      "Epoch 13/500\n",
      "148/148 [==============================] - 4s 30ms/step - loss: 4.7063 - accuracy: 0.0382 - top-05-acc: 0.1560 - top-10-acc: 0.2677 - val_loss: 4.5439 - val_accuracy: 0.0503 - val_top-05-acc: 0.1949 - val_top-10-acc: 0.3183\n",
      "Epoch 14/500\n",
      "148/148 [==============================] - 4s 29ms/step - loss: 4.6100 - accuracy: 0.0456 - top-05-acc: 0.1785 - top-10-acc: 0.2969 - val_loss: 4.4886 - val_accuracy: 0.0579 - val_top-05-acc: 0.2105 - val_top-10-acc: 0.3358\n",
      "Epoch 15/500\n",
      "148/148 [==============================] - 4s 29ms/step - loss: 4.5225 - accuracy: 0.0524 - top-05-acc: 0.2021 - top-10-acc: 0.3257 - val_loss: 4.4340 - val_accuracy: 0.0621 - val_top-05-acc: 0.2334 - val_top-10-acc: 0.3650\n",
      "Epoch 16/500\n",
      "148/148 [==============================] - 4s 29ms/step - loss: 4.4453 - accuracy: 0.0589 - top-05-acc: 0.2211 - top-10-acc: 0.3516 - val_loss: 4.2967 - val_accuracy: 0.0776 - val_top-05-acc: 0.2653 - val_top-10-acc: 0.3959\n",
      "Epoch 17/500\n",
      "148/148 [==============================] - 4s 30ms/step - loss: 4.3750 - accuracy: 0.0690 - top-05-acc: 0.2400 - top-10-acc: 0.3723 - val_loss: 4.3642 - val_accuracy: 0.0733 - val_top-05-acc: 0.2493 - val_top-10-acc: 0.3794\n",
      "Epoch 18/500\n",
      "148/148 [==============================] - 4s 29ms/step - loss: 4.3114 - accuracy: 0.0748 - top-05-acc: 0.2609 - top-10-acc: 0.3946 - val_loss: 4.1634 - val_accuracy: 0.0955 - val_top-05-acc: 0.3019 - val_top-10-acc: 0.4365\n",
      "Epoch 19/500\n",
      "148/148 [==============================] - 4s 28ms/step - loss: 4.2409 - accuracy: 0.0827 - top-05-acc: 0.2780 - top-10-acc: 0.4148 - val_loss: 4.1051 - val_accuracy: 0.1023 - val_top-05-acc: 0.3166 - val_top-10-acc: 0.4567\n",
      "Epoch 20/500\n",
      "148/148 [==============================] - 4s 28ms/step - loss: 4.1742 - accuracy: 0.0890 - top-05-acc: 0.2966 - top-10-acc: 0.4365 - val_loss: 4.1466 - val_accuracy: 0.0991 - val_top-05-acc: 0.3089 - val_top-10-acc: 0.4460\n",
      "Epoch 21/500\n",
      "148/148 [==============================] - 4s 28ms/step - loss: 4.1145 - accuracy: 0.0956 - top-05-acc: 0.3116 - top-10-acc: 0.4520 - val_loss: 4.0689 - val_accuracy: 0.1080 - val_top-05-acc: 0.3336 - val_top-10-acc: 0.4681\n",
      "Epoch 22/500\n",
      "148/148 [==============================] - 4s 28ms/step - loss: 4.0457 - accuracy: 0.1071 - top-05-acc: 0.3303 - top-10-acc: 0.4710 - val_loss: 3.9352 - val_accuracy: 0.1293 - val_top-05-acc: 0.3612 - val_top-10-acc: 0.4993\n",
      "Epoch 23/500\n",
      "148/148 [==============================] - 4s 28ms/step - loss: 3.9800 - accuracy: 0.1149 - top-05-acc: 0.3489 - top-10-acc: 0.4897 - val_loss: 3.8714 - val_accuracy: 0.1315 - val_top-05-acc: 0.3728 - val_top-10-acc: 0.5169\n",
      "Epoch 24/500\n",
      "148/148 [==============================] - 4s 29ms/step - loss: 3.9194 - accuracy: 0.1228 - top-05-acc: 0.3629 - top-10-acc: 0.5069 - val_loss: 3.7908 - val_accuracy: 0.1474 - val_top-05-acc: 0.4012 - val_top-10-acc: 0.5393\n",
      "Epoch 25/500\n",
      "148/148 [==============================] - 4s 28ms/step - loss: 3.8578 - accuracy: 0.1315 - top-05-acc: 0.3801 - top-10-acc: 0.5222 - val_loss: 3.7064 - val_accuracy: 0.1610 - val_top-05-acc: 0.4254 - val_top-10-acc: 0.5625\n",
      "Epoch 26/500\n",
      "148/148 [==============================] - 4s 28ms/step - loss: 3.8046 - accuracy: 0.1383 - top-05-acc: 0.3926 - top-10-acc: 0.5376 - val_loss: 3.6731 - val_accuracy: 0.1625 - val_top-05-acc: 0.4294 - val_top-10-acc: 0.5637\n",
      "Epoch 27/500\n",
      "148/148 [==============================] - 4s 29ms/step - loss: 3.7517 - accuracy: 0.1473 - top-05-acc: 0.4093 - top-10-acc: 0.5504 - val_loss: 3.6053 - val_accuracy: 0.1803 - val_top-05-acc: 0.4477 - val_top-10-acc: 0.5813\n",
      "Epoch 28/500\n",
      "148/148 [==============================] - 4s 29ms/step - loss: 3.7018 - accuracy: 0.1558 - top-05-acc: 0.4220 - top-10-acc: 0.5627 - val_loss: 3.5809 - val_accuracy: 0.1817 - val_top-05-acc: 0.4582 - val_top-10-acc: 0.5899\n",
      "Epoch 29/500\n",
      "148/148 [==============================] - 4s 29ms/step - loss: 3.6623 - accuracy: 0.1606 - top-05-acc: 0.4318 - top-10-acc: 0.5716 - val_loss: 3.4894 - val_accuracy: 0.1999 - val_top-05-acc: 0.4814 - val_top-10-acc: 0.6121\n",
      "Epoch 30/500\n",
      "148/148 [==============================] - 4s 29ms/step - loss: 3.6151 - accuracy: 0.1684 - top-05-acc: 0.4430 - top-10-acc: 0.5828 - val_loss: 3.4749 - val_accuracy: 0.2040 - val_top-05-acc: 0.4907 - val_top-10-acc: 0.6201\n",
      "Epoch 31/500\n",
      "148/148 [==============================] - 4s 28ms/step - loss: 3.5784 - accuracy: 0.1749 - top-05-acc: 0.4535 - top-10-acc: 0.5932 - val_loss: 3.4461 - val_accuracy: 0.2044 - val_top-05-acc: 0.4855 - val_top-10-acc: 0.6188\n",
      "Epoch 32/500\n",
      "148/148 [==============================] - 4s 28ms/step - loss: 3.5391 - accuracy: 0.1814 - top-05-acc: 0.4656 - top-10-acc: 0.6019 - val_loss: 3.4085 - val_accuracy: 0.2133 - val_top-05-acc: 0.4990 - val_top-10-acc: 0.6279\n",
      "Epoch 33/500\n",
      "148/148 [==============================] - 4s 29ms/step - loss: 3.4959 - accuracy: 0.1883 - top-05-acc: 0.4761 - top-10-acc: 0.6120 - val_loss: 3.4608 - val_accuracy: 0.2016 - val_top-05-acc: 0.4871 - val_top-10-acc: 0.6161\n",
      "Epoch 34/500\n",
      "148/148 [==============================] - 4s 29ms/step - loss: 3.4672 - accuracy: 0.1936 - top-05-acc: 0.4822 - top-10-acc: 0.6185 - val_loss: 3.3405 - val_accuracy: 0.2247 - val_top-05-acc: 0.5115 - val_top-10-acc: 0.6405\n",
      "Epoch 35/500\n",
      "148/148 [==============================] - 4s 29ms/step - loss: 3.4301 - accuracy: 0.2023 - top-05-acc: 0.4909 - top-10-acc: 0.6240 - val_loss: 3.3651 - val_accuracy: 0.2236 - val_top-05-acc: 0.5081 - val_top-10-acc: 0.6352\n"
     ]
    },
    {
     "name": "stdout",
     "output_type": "stream",
     "text": [
      "Epoch 36/500\n",
      "148/148 [==============================] - 4s 29ms/step - loss: 3.4004 - accuracy: 0.2090 - top-05-acc: 0.4983 - top-10-acc: 0.6305 - val_loss: 3.4834 - val_accuracy: 0.2031 - val_top-05-acc: 0.4795 - val_top-10-acc: 0.6072\n",
      "Epoch 37/500\n",
      "148/148 [==============================] - 4s 29ms/step - loss: 3.3696 - accuracy: 0.2128 - top-05-acc: 0.5060 - top-10-acc: 0.6373 - val_loss: 3.3226 - val_accuracy: 0.2288 - val_top-05-acc: 0.5170 - val_top-10-acc: 0.6425\n",
      "Epoch 38/500\n",
      "148/148 [==============================] - 4s 27ms/step - loss: 3.3454 - accuracy: 0.2156 - top-05-acc: 0.5107 - top-10-acc: 0.6415 - val_loss: 3.3327 - val_accuracy: 0.2291 - val_top-05-acc: 0.5162 - val_top-10-acc: 0.6433\n",
      "Epoch 39/500\n",
      "148/148 [==============================] - 4s 28ms/step - loss: 3.3080 - accuracy: 0.2224 - top-05-acc: 0.5185 - top-10-acc: 0.6478 - val_loss: 3.3282 - val_accuracy: 0.2316 - val_top-05-acc: 0.5158 - val_top-10-acc: 0.6432\n",
      "Epoch 40/500\n",
      "148/148 [==============================] - 4s 29ms/step - loss: 3.2793 - accuracy: 0.2275 - top-05-acc: 0.5259 - top-10-acc: 0.6542 - val_loss: 3.2784 - val_accuracy: 0.2425 - val_top-05-acc: 0.5325 - val_top-10-acc: 0.6526\n",
      "Epoch 41/500\n",
      "148/148 [==============================] - 4s 28ms/step - loss: 3.2500 - accuracy: 0.2340 - top-05-acc: 0.5330 - top-10-acc: 0.6605 - val_loss: 3.2409 - val_accuracy: 0.2498 - val_top-05-acc: 0.5334 - val_top-10-acc: 0.6581\n",
      "Epoch 42/500\n",
      "148/148 [==============================] - 4s 28ms/step - loss: 3.2218 - accuracy: 0.2393 - top-05-acc: 0.5385 - top-10-acc: 0.6649 - val_loss: 3.2113 - val_accuracy: 0.2556 - val_top-05-acc: 0.5456 - val_top-10-acc: 0.6668\n",
      "Epoch 43/500\n",
      "148/148 [==============================] - 4s 28ms/step - loss: 3.1976 - accuracy: 0.2443 - top-05-acc: 0.5426 - top-10-acc: 0.6672 - val_loss: 3.1783 - val_accuracy: 0.2543 - val_top-05-acc: 0.5559 - val_top-10-acc: 0.6747\n",
      "Epoch 44/500\n",
      "148/148 [==============================] - 4s 29ms/step - loss: 3.1781 - accuracy: 0.2476 - top-05-acc: 0.5483 - top-10-acc: 0.6724 - val_loss: 3.1523 - val_accuracy: 0.2676 - val_top-05-acc: 0.5541 - val_top-10-acc: 0.6765\n",
      "Epoch 45/500\n",
      "148/148 [==============================] - 4s 28ms/step - loss: 3.1468 - accuracy: 0.2532 - top-05-acc: 0.5566 - top-10-acc: 0.6780 - val_loss: 3.1971 - val_accuracy: 0.2588 - val_top-05-acc: 0.5456 - val_top-10-acc: 0.6627\n",
      "Epoch 46/500\n",
      "148/148 [==============================] - 4s 29ms/step - loss: 3.1263 - accuracy: 0.2555 - top-05-acc: 0.5611 - top-10-acc: 0.6824 - val_loss: 3.2990 - val_accuracy: 0.2444 - val_top-05-acc: 0.5251 - val_top-10-acc: 0.6463\n",
      "Epoch 47/500\n",
      "148/148 [==============================] - 4s 29ms/step - loss: 3.1006 - accuracy: 0.2637 - top-05-acc: 0.5655 - top-10-acc: 0.6854 - val_loss: 3.1264 - val_accuracy: 0.2728 - val_top-05-acc: 0.5642 - val_top-10-acc: 0.6773\n",
      "Epoch 48/500\n",
      "148/148 [==============================] - 4s 29ms/step - loss: 3.0762 - accuracy: 0.2656 - top-05-acc: 0.5709 - top-10-acc: 0.6909 - val_loss: 3.1157 - val_accuracy: 0.2766 - val_top-05-acc: 0.5646 - val_top-10-acc: 0.6802\n",
      "Epoch 49/500\n",
      "148/148 [==============================] - 4s 29ms/step - loss: 3.0570 - accuracy: 0.2723 - top-05-acc: 0.5750 - top-10-acc: 0.6931 - val_loss: 3.1252 - val_accuracy: 0.2708 - val_top-05-acc: 0.5602 - val_top-10-acc: 0.6786\n",
      "Epoch 50/500\n",
      "148/148 [==============================] - 4s 29ms/step - loss: 3.0370 - accuracy: 0.2755 - top-05-acc: 0.5783 - top-10-acc: 0.6960 - val_loss: 3.1859 - val_accuracy: 0.2631 - val_top-05-acc: 0.5542 - val_top-10-acc: 0.6734\n",
      "Epoch 51/500\n",
      "148/148 [==============================] - 4s 28ms/step - loss: 3.0162 - accuracy: 0.2804 - top-05-acc: 0.5829 - top-10-acc: 0.6994 - val_loss: 3.0979 - val_accuracy: 0.2811 - val_top-05-acc: 0.5716 - val_top-10-acc: 0.6829\n",
      "Epoch 52/500\n",
      "148/148 [==============================] - 4s 29ms/step - loss: 2.9902 - accuracy: 0.2813 - top-05-acc: 0.5880 - top-10-acc: 0.7044 - val_loss: 3.0836 - val_accuracy: 0.2830 - val_top-05-acc: 0.5755 - val_top-10-acc: 0.6891\n",
      "Epoch 53/500\n",
      "148/148 [==============================] - 4s 29ms/step - loss: 2.9675 - accuracy: 0.2888 - top-05-acc: 0.5925 - top-10-acc: 0.7078 - val_loss: 3.0805 - val_accuracy: 0.2867 - val_top-05-acc: 0.5768 - val_top-10-acc: 0.6901\n",
      "Epoch 54/500\n",
      "148/148 [==============================] - 4s 29ms/step - loss: 2.9581 - accuracy: 0.2904 - top-05-acc: 0.5943 - top-10-acc: 0.7095 - val_loss: 3.0819 - val_accuracy: 0.2849 - val_top-05-acc: 0.5759 - val_top-10-acc: 0.6887\n",
      "Epoch 55/500\n",
      "148/148 [==============================] - 4s 29ms/step - loss: 2.9349 - accuracy: 0.2935 - top-05-acc: 0.5981 - top-10-acc: 0.7132 - val_loss: 3.0870 - val_accuracy: 0.2842 - val_top-05-acc: 0.5744 - val_top-10-acc: 0.6856\n",
      "Epoch 56/500\n",
      "148/148 [==============================] - 4s 29ms/step - loss: 2.9211 - accuracy: 0.2981 - top-05-acc: 0.6035 - top-10-acc: 0.7156 - val_loss: 3.0576 - val_accuracy: 0.2885 - val_top-05-acc: 0.5813 - val_top-10-acc: 0.6922\n",
      "Epoch 57/500\n",
      "148/148 [==============================] - 4s 30ms/step - loss: 2.8992 - accuracy: 0.3022 - top-05-acc: 0.6063 - top-10-acc: 0.7187 - val_loss: 3.0585 - val_accuracy: 0.2890 - val_top-05-acc: 0.5786 - val_top-10-acc: 0.6916\n",
      "Epoch 58/500\n",
      "148/148 [==============================] - 4s 29ms/step - loss: 2.8816 - accuracy: 0.3058 - top-05-acc: 0.6092 - top-10-acc: 0.7198 - val_loss: 3.0151 - val_accuracy: 0.2972 - val_top-05-acc: 0.5891 - val_top-10-acc: 0.7005\n",
      "Epoch 59/500\n",
      "148/148 [==============================] - 4s 29ms/step - loss: 2.8609 - accuracy: 0.3106 - top-05-acc: 0.6134 - top-10-acc: 0.7234 - val_loss: 3.0083 - val_accuracy: 0.3014 - val_top-05-acc: 0.5874 - val_top-10-acc: 0.6986\n",
      "Epoch 60/500\n",
      "148/148 [==============================] - 4s 30ms/step - loss: 2.8451 - accuracy: 0.3133 - top-05-acc: 0.6174 - top-10-acc: 0.7254 - val_loss: 3.0031 - val_accuracy: 0.3026 - val_top-05-acc: 0.5919 - val_top-10-acc: 0.7037\n",
      "Epoch 61/500\n",
      "148/148 [==============================] - 4s 29ms/step - loss: 2.8238 - accuracy: 0.3173 - top-05-acc: 0.6207 - top-10-acc: 0.7296 - val_loss: 3.0423 - val_accuracy: 0.2933 - val_top-05-acc: 0.5790 - val_top-10-acc: 0.6931\n",
      "Epoch 62/500\n",
      "148/148 [==============================] - 4s 28ms/step - loss: 2.8092 - accuracy: 0.3209 - top-05-acc: 0.6243 - top-10-acc: 0.7328 - val_loss: 3.0377 - val_accuracy: 0.3006 - val_top-05-acc: 0.5904 - val_top-10-acc: 0.6986\n",
      "Epoch 63/500\n",
      "148/148 [==============================] - 4s 28ms/step - loss: 2.7933 - accuracy: 0.3241 - top-05-acc: 0.6264 - top-10-acc: 0.7326 - val_loss: 2.9968 - val_accuracy: 0.3085 - val_top-05-acc: 0.5957 - val_top-10-acc: 0.7025\n",
      "Epoch 64/500\n",
      "148/148 [==============================] - 4s 28ms/step - loss: 2.7731 - accuracy: 0.3289 - top-05-acc: 0.6295 - top-10-acc: 0.7365 - val_loss: 2.9947 - val_accuracy: 0.3088 - val_top-05-acc: 0.5920 - val_top-10-acc: 0.7073\n",
      "Epoch 65/500\n",
      "148/148 [==============================] - 4s 28ms/step - loss: 2.7648 - accuracy: 0.3283 - top-05-acc: 0.6317 - top-10-acc: 0.7380 - val_loss: 2.9948 - val_accuracy: 0.3044 - val_top-05-acc: 0.5920 - val_top-10-acc: 0.7049\n",
      "Epoch 66/500\n",
      "148/148 [==============================] - 4s 28ms/step - loss: 2.7518 - accuracy: 0.3330 - top-05-acc: 0.6364 - top-10-acc: 0.7397 - val_loss: 2.9911 - val_accuracy: 0.3078 - val_top-05-acc: 0.5925 - val_top-10-acc: 0.7016\n",
      "Epoch 67/500\n",
      "148/148 [==============================] - 4s 29ms/step - loss: 2.7260 - accuracy: 0.3369 - top-05-acc: 0.6390 - top-10-acc: 0.7438 - val_loss: 2.9800 - val_accuracy: 0.3123 - val_top-05-acc: 0.6057 - val_top-10-acc: 0.7128\n",
      "Epoch 68/500\n",
      "148/148 [==============================] - 4s 29ms/step - loss: 2.7177 - accuracy: 0.3385 - top-05-acc: 0.6420 - top-10-acc: 0.7457 - val_loss: 3.0154 - val_accuracy: 0.3052 - val_top-05-acc: 0.5926 - val_top-10-acc: 0.7022\n",
      "Epoch 69/500\n",
      "148/148 [==============================] - 4s 29ms/step - loss: 2.7027 - accuracy: 0.3416 - top-05-acc: 0.6444 - top-10-acc: 0.7453 - val_loss: 2.9988 - val_accuracy: 0.3091 - val_top-05-acc: 0.5950 - val_top-10-acc: 0.7064\n",
      "Epoch 70/500\n"
     ]
    },
    {
     "name": "stdout",
     "output_type": "stream",
     "text": [
      "148/148 [==============================] - 4s 29ms/step - loss: 2.6917 - accuracy: 0.3433 - top-05-acc: 0.6467 - top-10-acc: 0.7481 - val_loss: 2.9811 - val_accuracy: 0.3137 - val_top-05-acc: 0.6002 - val_top-10-acc: 0.7073\n",
      "Epoch 71/500\n",
      "148/148 [==============================] - 4s 29ms/step - loss: 2.6739 - accuracy: 0.3468 - top-05-acc: 0.6499 - top-10-acc: 0.7518 - val_loss: 2.9796 - val_accuracy: 0.3133 - val_top-05-acc: 0.5995 - val_top-10-acc: 0.7050\n",
      "Epoch 72/500\n",
      "148/148 [==============================] - 4s 29ms/step - loss: 2.6556 - accuracy: 0.3509 - top-05-acc: 0.6517 - top-10-acc: 0.7531 - val_loss: 3.0259 - val_accuracy: 0.3031 - val_top-05-acc: 0.5933 - val_top-10-acc: 0.7052\n",
      "Epoch 73/500\n",
      "148/148 [==============================] - 4s 29ms/step - loss: 2.6421 - accuracy: 0.3533 - top-05-acc: 0.6553 - top-10-acc: 0.7550 - val_loss: 2.9587 - val_accuracy: 0.3135 - val_top-05-acc: 0.6030 - val_top-10-acc: 0.7078\n",
      "Epoch 74/500\n",
      "148/148 [==============================] - 4s 29ms/step - loss: 2.6315 - accuracy: 0.3544 - top-05-acc: 0.6562 - top-10-acc: 0.7557 - val_loss: 3.0515 - val_accuracy: 0.2987 - val_top-05-acc: 0.5829 - val_top-10-acc: 0.6931\n",
      "Epoch 75/500\n",
      "148/148 [==============================] - 4s 28ms/step - loss: 2.6133 - accuracy: 0.3620 - top-05-acc: 0.6590 - top-10-acc: 0.7588 - val_loss: 2.9987 - val_accuracy: 0.3066 - val_top-05-acc: 0.5933 - val_top-10-acc: 0.7025\n",
      "Epoch 76/500\n",
      "148/148 [==============================] - 4s 29ms/step - loss: 2.5960 - accuracy: 0.3626 - top-05-acc: 0.6635 - top-10-acc: 0.7622 - val_loss: 3.0003 - val_accuracy: 0.3126 - val_top-05-acc: 0.6002 - val_top-10-acc: 0.7068\n",
      "Epoch 77/500\n",
      "148/148 [==============================] - 4s 29ms/step - loss: 2.5902 - accuracy: 0.3643 - top-05-acc: 0.6649 - top-10-acc: 0.7618 - val_loss: 3.0077 - val_accuracy: 0.3078 - val_top-05-acc: 0.5969 - val_top-10-acc: 0.7055\n",
      "Epoch 78/500\n",
      "148/148 [==============================] - 4s 29ms/step - loss: 2.5808 - accuracy: 0.3662 - top-05-acc: 0.6661 - top-10-acc: 0.7629 - val_loss: 2.9284 - val_accuracy: 0.3274 - val_top-05-acc: 0.6114 - val_top-10-acc: 0.7175\n",
      "Epoch 79/500\n",
      "148/148 [==============================] - 4s 29ms/step - loss: 2.5758 - accuracy: 0.3683 - top-05-acc: 0.6657 - top-10-acc: 0.7631 - val_loss: 2.9122 - val_accuracy: 0.3337 - val_top-05-acc: 0.6184 - val_top-10-acc: 0.7206\n",
      "Epoch 80/500\n",
      "148/148 [==============================] - 4s 29ms/step - loss: 2.5658 - accuracy: 0.3687 - top-05-acc: 0.6683 - top-10-acc: 0.7650 - val_loss: 2.9929 - val_accuracy: 0.3221 - val_top-05-acc: 0.6062 - val_top-10-acc: 0.7128\n",
      "Epoch 81/500\n",
      "148/148 [==============================] - 4s 29ms/step - loss: 2.5456 - accuracy: 0.3720 - top-05-acc: 0.6718 - top-10-acc: 0.7688 - val_loss: 2.9645 - val_accuracy: 0.3266 - val_top-05-acc: 0.6062 - val_top-10-acc: 0.7092\n",
      "Epoch 82/500\n",
      "148/148 [==============================] - 4s 29ms/step - loss: 2.5310 - accuracy: 0.3753 - top-05-acc: 0.6756 - top-10-acc: 0.7707 - val_loss: 3.0309 - val_accuracy: 0.3036 - val_top-05-acc: 0.5886 - val_top-10-acc: 0.6963\n",
      "Epoch 83/500\n",
      "148/148 [==============================] - 4s 30ms/step - loss: 2.5245 - accuracy: 0.3782 - top-05-acc: 0.6771 - top-10-acc: 0.7705 - val_loss: 2.9980 - val_accuracy: 0.3158 - val_top-05-acc: 0.5974 - val_top-10-acc: 0.7047\n",
      "Epoch 84/500\n",
      "148/148 [==============================] - 4s 29ms/step - loss: 2.5076 - accuracy: 0.3812 - top-05-acc: 0.6803 - top-10-acc: 0.7737 - val_loss: 2.9135 - val_accuracy: 0.3321 - val_top-05-acc: 0.6162 - val_top-10-acc: 0.7163\n",
      "Epoch 85/500\n",
      "148/148 [==============================] - 4s 28ms/step - loss: 2.5059 - accuracy: 0.3815 - top-05-acc: 0.6808 - top-10-acc: 0.7741 - val_loss: 2.9506 - val_accuracy: 0.3257 - val_top-05-acc: 0.6078 - val_top-10-acc: 0.7110\n",
      "Epoch 86/500\n",
      "148/148 [==============================] - 4s 29ms/step - loss: 2.4946 - accuracy: 0.3851 - top-05-acc: 0.6808 - top-10-acc: 0.7753 - val_loss: 3.0339 - val_accuracy: 0.3168 - val_top-05-acc: 0.5976 - val_top-10-acc: 0.7002\n",
      "Epoch 87/500\n",
      "148/148 [==============================] - 4s 29ms/step - loss: 2.4693 - accuracy: 0.3893 - top-05-acc: 0.6839 - top-10-acc: 0.7781 - val_loss: 2.9765 - val_accuracy: 0.3256 - val_top-05-acc: 0.6113 - val_top-10-acc: 0.7148\n"
     ]
    }
   ],
   "source": [
    "if True:\n",
    "    callbacks = [\n",
    "        tf.keras.callbacks.ModelCheckpoint('model-head_avg.h5'),\n",
    "        tf.keras.callbacks.EarlyStopping(\n",
    "            monitor='val_accuracy',\n",
    "            patience=8,\n",
    "            restore_best_weights=True,\n",
    "        ),\n",
    "    ]\n",
    "    history = model.fit(\n",
    "        X_train,\n",
    "        y_train,\n",
    "        epochs=500,\n",
    "        validation_data=(X_val, y_val),\n",
    "        batch_size=512,\n",
    "        callbacks=callbacks,\n",
    "    )\n",
    "else:\n",
    "    model = tf.keras.models.load_model(\"../model.h5\")"
   ]
  },
  {
   "cell_type": "code",
   "execution_count": 11,
   "id": "0c667e32",
   "metadata": {
    "ExecuteTime": {
     "end_time": "2023-03-02T23:32:09.691875Z",
     "start_time": "2023-03-02T23:32:09.116436Z"
    }
   },
   "outputs": [
    {
     "name": "stdout",
     "output_type": "stream",
     "text": [
      "dict_keys(['loss', 'accuracy', 'top-05-acc', 'top-10-acc', 'val_loss', 'val_accuracy', 'val_top-05-acc', 'val_top-10-acc'])\n"
     ]
    }
   ],
   "source": [
    "import matplotlib.pyplot as plt\n",
    "import numpy as np\n",
    "\n",
    "print(history.history.keys())"
   ]
  },
  {
   "cell_type": "code",
   "execution_count": 12,
   "id": "113b874f",
   "metadata": {
    "ExecuteTime": {
     "end_time": "2023-03-02T23:32:09.793452Z",
     "start_time": "2023-03-02T23:32:09.693243Z"
    }
   },
   "outputs": [
    {
     "data": {
      "image/png": "[encoded data removed]",
      "text/plain": [
       "<Figure size 640x480 with 1 Axes>"
      ]
     },
     "metadata": {},
     "output_type": "display_data"
    }
   ],
   "source": [
    "# summarize history for accuracy\n",
    "plt.plot(history.history['accuracy'])\n",
    "plt.plot(history.history['val_accuracy'])\n",
    "plt.title('model accuracy')\n",
    "plt.ylabel('accuracy')\n",
    "plt.xlabel('epoch')\n",
    "plt.legend(['train', 'test'], loc='upper left')\n",
    "plt.show()"
   ]
  },
  {
   "cell_type": "code",
   "execution_count": 14,
   "id": "835c5849",
   "metadata": {
    "ExecuteTime": {
     "end_time": "2023-03-02T23:32:09.935414Z",
     "start_time": "2023-03-02T23:32:09.868155Z"
    }
   },
   "outputs": [
    {
     "data": {
      "image/png": "[encoded data removed]",
      "text/plain": [
       "<Figure size 640x480 with 1 Axes>"
      ]
     },
     "metadata": {},
     "output_type": "display_data"
    }
   ],
   "source": [
    "# summarize history for loss\n",
    "plt.plot(history.history['loss'])\n",
    "plt.plot(history.history['val_loss'])\n",
    "plt.title('model loss')\n",
    "plt.ylabel('loss')\n",
    "plt.xlabel('epoch')\n",
    "plt.legend(['train', 'test'], loc='upper left')\n",
    "plt.show()"
   ]
  },
  {
   "cell_type": "code",
   "execution_count": 16,
   "id": "3bcd5c03",
   "metadata": {
    "ExecuteTime": {
     "end_time": "2023-03-02T23:32:09.994930Z",
     "start_time": "2023-03-02T23:32:09.939802Z"
    },
    "scrolled": false
   },
   "outputs": [
    {
     "name": "stdout",
     "output_type": "stream",
     "text": [
      "Model: \"model\"\n",
      "__________________________________________________________________________________________________\n",
      " Layer (type)                   Output Shape         Param #     Connected to                     \n",
      "==================================================================================================\n",
      " input_1 (InputLayer)           [(None, 543, 3)]     0           []                               \n",
      "                                                                                                  \n",
      " lambda (Lambda)                (None, 468, 3)       0           ['input_1[0][0]']                \n",
      "                                                                                                  \n",
      " lambda_1 (Lambda)              (None, 21, 3)        0           ['input_1[0][0]']                \n",
      "                                                                                                  \n",
      " lambda_4 (Lambda)              (None, 1, 3)         0           ['lambda[0][0]']                 \n",
      "                                                                                                  \n",
      " lambda_3 (Lambda)              (None, 21, 3)        0           ['input_1[0][0]']                \n",
      "                                                                                                  \n",
      " concatenate (Concatenate)      (None, 22, 3)        0           ['lambda_1[0][0]',               \n",
      "                                                                  'lambda_4[0][0]']               \n",
      "                                                                                                  \n",
      " concatenate_1 (Concatenate)    (None, 22, 3)        0           ['lambda_3[0][0]',               \n",
      "                                                                  'lambda_4[0][0]']               \n",
      "                                                                                                  \n",
      " batch_normalization (BatchNorm  (None, 22, 3)       12          ['concatenate[0][0]']            \n",
      " alization)                                                                                       \n",
      "                                                                                                  \n",
      " batch_normalization_1 (BatchNo  (None, 22, 3)       12          ['concatenate_1[0][0]']          \n",
      " rmalization)                                                                                     \n",
      "                                                                                                  \n",
      " dense (Dense)                  (None, 22, 64)       256         ['batch_normalization[0][0]']    \n",
      "                                                                                                  \n",
      " dense_3 (Dense)                (None, 22, 64)       256         ['batch_normalization_1[0][0]']  \n",
      "                                                                                                  \n",
      " dense_1 (Dense)                (None, 22, 64)       4160        ['dense[0][0]']                  \n",
      "                                                                                                  \n",
      " dense_4 (Dense)                (None, 22, 64)       4160        ['dense_3[0][0]']                \n",
      "                                                                                                  \n",
      " dropout (Dropout)              (None, 22, 64)       0           ['dense_1[0][0]']                \n",
      "                                                                                                  \n",
      " dropout_1 (Dropout)            (None, 22, 64)       0           ['dense_4[0][0]']                \n",
      "                                                                                                  \n",
      " dense_2 (Dense)                (None, 22, 128)      8320        ['dropout[0][0]']                \n",
      "                                                                                                  \n",
      " dense_5 (Dense)                (None, 22, 128)      8320        ['dropout_1[0][0]']              \n",
      "                                                                                                  \n",
      " concatenate_2 (Concatenate)    (None, 44, 128)      0           ['dense_2[0][0]',                \n",
      "                                                                  'dense_5[0][0]']                \n",
      "                                                                                                  \n",
      " batch_normalization_2 (BatchNo  (None, 44, 128)     512         ['concatenate_2[0][0]']          \n",
      " rmalization)                                                                                     \n",
      "                                                                                                  \n",
      " dense_6 (Dense)                (None, 44, 256)      33024       ['batch_normalization_2[0][0]']  \n",
      "                                                                                                  \n",
      " dense_7 (Dense)                (None, 44, 256)      65792       ['dense_6[0][0]']                \n",
      "                                                                                                  \n",
      " dropout_2 (Dropout)            (None, 44, 256)      0           ['dense_7[0][0]']                \n",
      "                                                                                                  \n",
      " dense_8 (Dense)                (None, 44, 128)      32896       ['dropout_2[0][0]']              \n",
      "                                                                                                  \n",
      " dense_9 (Dense)                (None, 44, 128)      16512       ['dense_8[0][0]']                \n",
      "                                                                                                  \n",
      " dropout_3 (Dropout)            (None, 44, 128)      0           ['dense_9[0][0]']                \n",
      "                                                                                                  \n",
      " lambda_2 (Lambda)              (None, 33, 3)        0           ['input_1[0][0]']                \n",
      "                                                                                                  \n",
      " dense_10 (Dense)               (None, 44, 64)       8256        ['dropout_3[0][0]']              \n",
      "                                                                                                  \n",
      " dense_11 (Dense)               (None, 33, 64)       256         ['lambda_2[0][0]']               \n",
      "                                                                                                  \n",
      " concatenate_3 (Concatenate)    (None, 77, 64)       0           ['dense_10[0][0]',               \n",
      "                                                                  'dense_11[0][0]']               \n",
      "                                                                                                  \n",
      " gru (GRU)                      (None, 77, 256)      247296      ['concatenate_3[0][0]']          \n",
      "                                                                                                  \n",
      " gru_1 (GRU)                    (None, 256)          394752      ['gru[0][0]']                    \n",
      "                                                                                                  \n",
      " dense_12 (Dense)               (None, 256)          65792       ['gru_1[0][0]']                  \n",
      "                                                                                                  \n",
      " dropout_4 (Dropout)            (None, 256)          0           ['dense_12[0][0]']               \n",
      "                                                                                                  \n",
      " dense_13 (Dense)               (None, 128)          32896       ['dropout_4[0][0]']              \n",
      "                                                                                                  \n",
      " dense_14 (Dense)               (None, 128)          16512       ['dense_13[0][0]']               \n",
      "                                                                                                  \n",
      " dropout_5 (Dropout)            (None, 128)          0           ['dense_14[0][0]']               \n",
      "                                                                                                  \n",
      " dense_15 (Dense)               (None, 64)           8256        ['dropout_5[0][0]']              \n"
     ]
    },
    {
     "name": "stdout",
     "output_type": "stream",
     "text": [
      "                                                                                                  \n",
      " dense_16 (Dense)               (None, 64)           4160        ['dense_15[0][0]']               \n",
      "                                                                                                  \n",
      " dropout_6 (Dropout)            (None, 64)           0           ['dense_16[0][0]']               \n",
      "                                                                                                  \n",
      " flatten (Flatten)              (None, 64)           0           ['dropout_6[0][0]']              \n",
      "                                                                                                  \n",
      " dense_17 (Dense)               (None, 250)          16250       ['flatten[0][0]']                \n",
      "                                                                                                  \n",
      "==================================================================================================\n",
      "Total params: 968,658\n",
      "Trainable params: 968,390\n",
      "Non-trainable params: 268\n",
      "__________________________________________________________________________________________________\n"
     ]
    }
   ],
   "source": [
    "get_model().summary()"
   ]
  }
 ],
 "metadata": {
  "kernelspec": {
   "display_name": "Python 3 (ipykernel)",
   "language": "python",
   "name": "python3"
  },
  "language_info": {
   "codemirror_mode": {
    "name": "ipython",
    "version": 3
   },
   "file_extension": ".py",
   "mimetype": "text/x-python",
   "name": "python",
   "nbconvert_exporter": "python",
   "pygments_lexer": "ipython3",
   "version": "3.9.15"
  },
  "toc": {
   "base_numbering": 1,
   "nav_menu": {},
   "number_sections": true,
   "sideBar": true,
   "skip_h1_title": false,
   "title_cell": "Table of Contents",
   "title_sidebar": "Contents",
   "toc_cell": false,
   "toc_position": {},
   "toc_section_display": true,
   "toc_window_display": false
  }
 },
 "nbformat": 4,
 "nbformat_minor": 5
}
